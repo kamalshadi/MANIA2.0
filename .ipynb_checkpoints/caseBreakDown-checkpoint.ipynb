{
 "cells": [
  {
   "cell_type": "markdown",
   "metadata": {},
   "source": [
    "# Asymmetry Case Break Downs"
   ]
  },
  {
   "cell_type": "code",
   "execution_count": 1,
   "metadata": {},
   "outputs": [
    {
     "data": {
      "text/html": [
       "\n",
       "    <div class=\"bk-root\">\n",
       "        <a href=\"https://bokeh.pydata.org\" target=\"_blank\" class=\"bk-logo bk-logo-small bk-logo-notebook\"></a>\n",
       "        <span id=\"3b049d7d-ebff-4bbe-8ff3-6b27f6c7e020\">Loading BokehJS ...</span>\n",
       "    </div>"
      ]
     },
     "metadata": {},
     "output_type": "display_data"
    },
    {
     "data": {
      "application/javascript": [
       "\n",
       "(function(root) {\n",
       "  function now() {\n",
       "    return new Date();\n",
       "  }\n",
       "\n",
       "  var force = true;\n",
       "\n",
       "  if (typeof (root._bokeh_onload_callbacks) === \"undefined\" || force === true) {\n",
       "    root._bokeh_onload_callbacks = [];\n",
       "    root._bokeh_is_loading = undefined;\n",
       "  }\n",
       "\n",
       "  var JS_MIME_TYPE = 'application/javascript';\n",
       "  var HTML_MIME_TYPE = 'text/html';\n",
       "  var EXEC_MIME_TYPE = 'application/vnd.bokehjs_exec.v0+json';\n",
       "  var CLASS_NAME = 'output_bokeh rendered_html';\n",
       "\n",
       "  /**\n",
       "   * Render data to the DOM node\n",
       "   */\n",
       "  function render(props, node) {\n",
       "    var script = document.createElement(\"script\");\n",
       "    node.appendChild(script);\n",
       "  }\n",
       "\n",
       "  /**\n",
       "   * Handle when an output is cleared or removed\n",
       "   */\n",
       "  function handleClearOutput(event, handle) {\n",
       "    var cell = handle.cell;\n",
       "\n",
       "    var id = cell.output_area._bokeh_element_id;\n",
       "    var server_id = cell.output_area._bokeh_server_id;\n",
       "    // Clean up Bokeh references\n",
       "    if (id !== undefined) {\n",
       "      Bokeh.index[id].model.document.clear();\n",
       "      delete Bokeh.index[id];\n",
       "    }\n",
       "\n",
       "    if (server_id !== undefined) {\n",
       "      // Clean up Bokeh references\n",
       "      var cmd = \"from bokeh.io.state import curstate; print(curstate().uuid_to_server['\" + server_id + \"'].get_sessions()[0].document.roots[0]._id)\";\n",
       "      cell.notebook.kernel.execute(cmd, {\n",
       "        iopub: {\n",
       "          output: function(msg) {\n",
       "            var element_id = msg.content.text.trim();\n",
       "            Bokeh.index[element_id].model.document.clear();\n",
       "            delete Bokeh.index[element_id];\n",
       "          }\n",
       "        }\n",
       "      });\n",
       "      // Destroy server and session\n",
       "      var cmd = \"import bokeh.io.notebook as ion; ion.destroy_server('\" + server_id + \"')\";\n",
       "      cell.notebook.kernel.execute(cmd);\n",
       "    }\n",
       "  }\n",
       "\n",
       "  /**\n",
       "   * Handle when a new output is added\n",
       "   */\n",
       "  function handleAddOutput(event, handle) {\n",
       "    var output_area = handle.output_area;\n",
       "    var output = handle.output;\n",
       "\n",
       "    // limit handleAddOutput to display_data with EXEC_MIME_TYPE content only\n",
       "    if ((output.output_type != \"display_data\") || (!output.data.hasOwnProperty(EXEC_MIME_TYPE))) {\n",
       "      return\n",
       "    }\n",
       "\n",
       "    var toinsert = output_area.element.find(\".\" + CLASS_NAME.split(' ')[0]);\n",
       "\n",
       "    if (output.metadata[EXEC_MIME_TYPE][\"id\"] !== undefined) {\n",
       "      toinsert[0].firstChild.textContent = output.data[JS_MIME_TYPE];\n",
       "      // store reference to embed id on output_area\n",
       "      output_area._bokeh_element_id = output.metadata[EXEC_MIME_TYPE][\"id\"];\n",
       "    }\n",
       "    if (output.metadata[EXEC_MIME_TYPE][\"server_id\"] !== undefined) {\n",
       "      var bk_div = document.createElement(\"div\");\n",
       "      bk_div.innerHTML = output.data[HTML_MIME_TYPE];\n",
       "      var script_attrs = bk_div.children[0].attributes;\n",
       "      for (var i = 0; i < script_attrs.length; i++) {\n",
       "        toinsert[0].firstChild.setAttribute(script_attrs[i].name, script_attrs[i].value);\n",
       "      }\n",
       "      // store reference to server id on output_area\n",
       "      output_area._bokeh_server_id = output.metadata[EXEC_MIME_TYPE][\"server_id\"];\n",
       "    }\n",
       "  }\n",
       "\n",
       "  function register_renderer(events, OutputArea) {\n",
       "\n",
       "    function append_mime(data, metadata, element) {\n",
       "      // create a DOM node to render to\n",
       "      var toinsert = this.create_output_subarea(\n",
       "        metadata,\n",
       "        CLASS_NAME,\n",
       "        EXEC_MIME_TYPE\n",
       "      );\n",
       "      this.keyboard_manager.register_events(toinsert);\n",
       "      // Render to node\n",
       "      var props = {data: data, metadata: metadata[EXEC_MIME_TYPE]};\n",
       "      render(props, toinsert[0]);\n",
       "      element.append(toinsert);\n",
       "      return toinsert\n",
       "    }\n",
       "\n",
       "    /* Handle when an output is cleared or removed */\n",
       "    events.on('clear_output.CodeCell', handleClearOutput);\n",
       "    events.on('delete.Cell', handleClearOutput);\n",
       "\n",
       "    /* Handle when a new output is added */\n",
       "    events.on('output_added.OutputArea', handleAddOutput);\n",
       "\n",
       "    /**\n",
       "     * Register the mime type and append_mime function with output_area\n",
       "     */\n",
       "    OutputArea.prototype.register_mime_type(EXEC_MIME_TYPE, append_mime, {\n",
       "      /* Is output safe? */\n",
       "      safe: true,\n",
       "      /* Index of renderer in `output_area.display_order` */\n",
       "      index: 0\n",
       "    });\n",
       "  }\n",
       "\n",
       "  // register the mime type if in Jupyter Notebook environment and previously unregistered\n",
       "  if (root.Jupyter !== undefined) {\n",
       "    var events = require('base/js/events');\n",
       "    var OutputArea = require('notebook/js/outputarea').OutputArea;\n",
       "\n",
       "    if (OutputArea.prototype.mime_types().indexOf(EXEC_MIME_TYPE) == -1) {\n",
       "      register_renderer(events, OutputArea);\n",
       "    }\n",
       "  }\n",
       "\n",
       "  \n",
       "  if (typeof (root._bokeh_timeout) === \"undefined\" || force === true) {\n",
       "    root._bokeh_timeout = Date.now() + 5000;\n",
       "    root._bokeh_failed_load = false;\n",
       "  }\n",
       "\n",
       "  var NB_LOAD_WARNING = {'data': {'text/html':\n",
       "     \"<div style='background-color: #fdd'>\\n\"+\n",
       "     \"<p>\\n\"+\n",
       "     \"BokehJS does not appear to have successfully loaded. If loading BokehJS from CDN, this \\n\"+\n",
       "     \"may be due to a slow or bad network connection. Possible fixes:\\n\"+\n",
       "     \"</p>\\n\"+\n",
       "     \"<ul>\\n\"+\n",
       "     \"<li>re-rerun `output_notebook()` to attempt to load from CDN again, or</li>\\n\"+\n",
       "     \"<li>use INLINE resources instead, as so:</li>\\n\"+\n",
       "     \"</ul>\\n\"+\n",
       "     \"<code>\\n\"+\n",
       "     \"from bokeh.resources import INLINE\\n\"+\n",
       "     \"output_notebook(resources=INLINE)\\n\"+\n",
       "     \"</code>\\n\"+\n",
       "     \"</div>\"}};\n",
       "\n",
       "  function display_loaded() {\n",
       "    var el = document.getElementById(\"3b049d7d-ebff-4bbe-8ff3-6b27f6c7e020\");\n",
       "    if (el != null) {\n",
       "      el.textContent = \"BokehJS is loading...\";\n",
       "    }\n",
       "    if (root.Bokeh !== undefined) {\n",
       "      if (el != null) {\n",
       "        el.textContent = \"BokehJS \" + root.Bokeh.version + \" successfully loaded.\";\n",
       "      }\n",
       "    } else if (Date.now() < root._bokeh_timeout) {\n",
       "      setTimeout(display_loaded, 100)\n",
       "    }\n",
       "  }\n",
       "\n",
       "\n",
       "  function run_callbacks() {\n",
       "    try {\n",
       "      root._bokeh_onload_callbacks.forEach(function(callback) { callback() });\n",
       "    }\n",
       "    finally {\n",
       "      delete root._bokeh_onload_callbacks\n",
       "    }\n",
       "    console.info(\"Bokeh: all callbacks have finished\");\n",
       "  }\n",
       "\n",
       "  function load_libs(js_urls, callback) {\n",
       "    root._bokeh_onload_callbacks.push(callback);\n",
       "    if (root._bokeh_is_loading > 0) {\n",
       "      console.log(\"Bokeh: BokehJS is being loaded, scheduling callback at\", now());\n",
       "      return null;\n",
       "    }\n",
       "    if (js_urls == null || js_urls.length === 0) {\n",
       "      run_callbacks();\n",
       "      return null;\n",
       "    }\n",
       "    console.log(\"Bokeh: BokehJS not loaded, scheduling load and callback at\", now());\n",
       "    root._bokeh_is_loading = js_urls.length;\n",
       "    for (var i = 0; i < js_urls.length; i++) {\n",
       "      var url = js_urls[i];\n",
       "      var s = document.createElement('script');\n",
       "      s.src = url;\n",
       "      s.async = false;\n",
       "      s.onreadystatechange = s.onload = function() {\n",
       "        root._bokeh_is_loading--;\n",
       "        if (root._bokeh_is_loading === 0) {\n",
       "          console.log(\"Bokeh: all BokehJS libraries loaded\");\n",
       "          run_callbacks()\n",
       "        }\n",
       "      };\n",
       "      s.onerror = function() {\n",
       "        console.warn(\"failed to load library \" + url);\n",
       "      };\n",
       "      console.log(\"Bokeh: injecting script tag for BokehJS library: \", url);\n",
       "      document.getElementsByTagName(\"head\")[0].appendChild(s);\n",
       "    }\n",
       "  };var element = document.getElementById(\"3b049d7d-ebff-4bbe-8ff3-6b27f6c7e020\");\n",
       "  if (element == null) {\n",
       "    console.log(\"Bokeh: ERROR: autoload.js configured with elementid '3b049d7d-ebff-4bbe-8ff3-6b27f6c7e020' but no matching script tag was found. \")\n",
       "    return false;\n",
       "  }\n",
       "\n",
       "  var js_urls = [\"https://cdn.pydata.org/bokeh/release/bokeh-0.12.13.min.js\", \"https://cdn.pydata.org/bokeh/release/bokeh-widgets-0.12.13.min.js\", \"https://cdn.pydata.org/bokeh/release/bokeh-tables-0.12.13.min.js\", \"https://cdn.pydata.org/bokeh/release/bokeh-gl-0.12.13.min.js\"];\n",
       "\n",
       "  var inline_js = [\n",
       "    function(Bokeh) {\n",
       "      Bokeh.set_log_level(\"info\");\n",
       "    },\n",
       "    \n",
       "    function(Bokeh) {\n",
       "      \n",
       "    },\n",
       "    function(Bokeh) {\n",
       "      console.log(\"Bokeh: injecting CSS: https://cdn.pydata.org/bokeh/release/bokeh-0.12.13.min.css\");\n",
       "      Bokeh.embed.inject_css(\"https://cdn.pydata.org/bokeh/release/bokeh-0.12.13.min.css\");\n",
       "      console.log(\"Bokeh: injecting CSS: https://cdn.pydata.org/bokeh/release/bokeh-widgets-0.12.13.min.css\");\n",
       "      Bokeh.embed.inject_css(\"https://cdn.pydata.org/bokeh/release/bokeh-widgets-0.12.13.min.css\");\n",
       "      console.log(\"Bokeh: injecting CSS: https://cdn.pydata.org/bokeh/release/bokeh-tables-0.12.13.min.css\");\n",
       "      Bokeh.embed.inject_css(\"https://cdn.pydata.org/bokeh/release/bokeh-tables-0.12.13.min.css\");\n",
       "    }\n",
       "  ];\n",
       "\n",
       "  function run_inline_js() {\n",
       "    \n",
       "    if ((root.Bokeh !== undefined) || (force === true)) {\n",
       "      for (var i = 0; i < inline_js.length; i++) {\n",
       "        inline_js[i].call(root, root.Bokeh);\n",
       "      }if (force === true) {\n",
       "        display_loaded();\n",
       "      }} else if (Date.now() < root._bokeh_timeout) {\n",
       "      setTimeout(run_inline_js, 100);\n",
       "    } else if (!root._bokeh_failed_load) {\n",
       "      console.log(\"Bokeh: BokehJS failed to load within specified timeout.\");\n",
       "      root._bokeh_failed_load = true;\n",
       "    } else if (force !== true) {\n",
       "      var cell = $(document.getElementById(\"3b049d7d-ebff-4bbe-8ff3-6b27f6c7e020\")).parents('.cell').data().cell;\n",
       "      cell.output_area.append_execute_result(NB_LOAD_WARNING)\n",
       "    }\n",
       "\n",
       "  }\n",
       "\n",
       "  if (root._bokeh_is_loading === 0) {\n",
       "    console.log(\"Bokeh: BokehJS loaded, going straight to plotting\");\n",
       "    run_inline_js();\n",
       "  } else {\n",
       "    load_libs(js_urls, function() {\n",
       "      console.log(\"Bokeh: BokehJS plotting callback run at\", now());\n",
       "      run_inline_js();\n",
       "    });\n",
       "  }\n",
       "}(window));"
      ],
      "application/vnd.bokehjs_load.v0+json": "\n(function(root) {\n  function now() {\n    return new Date();\n  }\n\n  var force = true;\n\n  if (typeof (root._bokeh_onload_callbacks) === \"undefined\" || force === true) {\n    root._bokeh_onload_callbacks = [];\n    root._bokeh_is_loading = undefined;\n  }\n\n  \n\n  \n  if (typeof (root._bokeh_timeout) === \"undefined\" || force === true) {\n    root._bokeh_timeout = Date.now() + 5000;\n    root._bokeh_failed_load = false;\n  }\n\n  var NB_LOAD_WARNING = {'data': {'text/html':\n     \"<div style='background-color: #fdd'>\\n\"+\n     \"<p>\\n\"+\n     \"BokehJS does not appear to have successfully loaded. If loading BokehJS from CDN, this \\n\"+\n     \"may be due to a slow or bad network connection. Possible fixes:\\n\"+\n     \"</p>\\n\"+\n     \"<ul>\\n\"+\n     \"<li>re-rerun `output_notebook()` to attempt to load from CDN again, or</li>\\n\"+\n     \"<li>use INLINE resources instead, as so:</li>\\n\"+\n     \"</ul>\\n\"+\n     \"<code>\\n\"+\n     \"from bokeh.resources import INLINE\\n\"+\n     \"output_notebook(resources=INLINE)\\n\"+\n     \"</code>\\n\"+\n     \"</div>\"}};\n\n  function display_loaded() {\n    var el = document.getElementById(\"3b049d7d-ebff-4bbe-8ff3-6b27f6c7e020\");\n    if (el != null) {\n      el.textContent = \"BokehJS is loading...\";\n    }\n    if (root.Bokeh !== undefined) {\n      if (el != null) {\n        el.textContent = \"BokehJS \" + root.Bokeh.version + \" successfully loaded.\";\n      }\n    } else if (Date.now() < root._bokeh_timeout) {\n      setTimeout(display_loaded, 100)\n    }\n  }\n\n\n  function run_callbacks() {\n    try {\n      root._bokeh_onload_callbacks.forEach(function(callback) { callback() });\n    }\n    finally {\n      delete root._bokeh_onload_callbacks\n    }\n    console.info(\"Bokeh: all callbacks have finished\");\n  }\n\n  function load_libs(js_urls, callback) {\n    root._bokeh_onload_callbacks.push(callback);\n    if (root._bokeh_is_loading > 0) {\n      console.log(\"Bokeh: BokehJS is being loaded, scheduling callback at\", now());\n      return null;\n    }\n    if (js_urls == null || js_urls.length === 0) {\n      run_callbacks();\n      return null;\n    }\n    console.log(\"Bokeh: BokehJS not loaded, scheduling load and callback at\", now());\n    root._bokeh_is_loading = js_urls.length;\n    for (var i = 0; i < js_urls.length; i++) {\n      var url = js_urls[i];\n      var s = document.createElement('script');\n      s.src = url;\n      s.async = false;\n      s.onreadystatechange = s.onload = function() {\n        root._bokeh_is_loading--;\n        if (root._bokeh_is_loading === 0) {\n          console.log(\"Bokeh: all BokehJS libraries loaded\");\n          run_callbacks()\n        }\n      };\n      s.onerror = function() {\n        console.warn(\"failed to load library \" + url);\n      };\n      console.log(\"Bokeh: injecting script tag for BokehJS library: \", url);\n      document.getElementsByTagName(\"head\")[0].appendChild(s);\n    }\n  };var element = document.getElementById(\"3b049d7d-ebff-4bbe-8ff3-6b27f6c7e020\");\n  if (element == null) {\n    console.log(\"Bokeh: ERROR: autoload.js configured with elementid '3b049d7d-ebff-4bbe-8ff3-6b27f6c7e020' but no matching script tag was found. \")\n    return false;\n  }\n\n  var js_urls = [\"https://cdn.pydata.org/bokeh/release/bokeh-0.12.13.min.js\", \"https://cdn.pydata.org/bokeh/release/bokeh-widgets-0.12.13.min.js\", \"https://cdn.pydata.org/bokeh/release/bokeh-tables-0.12.13.min.js\", \"https://cdn.pydata.org/bokeh/release/bokeh-gl-0.12.13.min.js\"];\n\n  var inline_js = [\n    function(Bokeh) {\n      Bokeh.set_log_level(\"info\");\n    },\n    \n    function(Bokeh) {\n      \n    },\n    function(Bokeh) {\n      console.log(\"Bokeh: injecting CSS: https://cdn.pydata.org/bokeh/release/bokeh-0.12.13.min.css\");\n      Bokeh.embed.inject_css(\"https://cdn.pydata.org/bokeh/release/bokeh-0.12.13.min.css\");\n      console.log(\"Bokeh: injecting CSS: https://cdn.pydata.org/bokeh/release/bokeh-widgets-0.12.13.min.css\");\n      Bokeh.embed.inject_css(\"https://cdn.pydata.org/bokeh/release/bokeh-widgets-0.12.13.min.css\");\n      console.log(\"Bokeh: injecting CSS: https://cdn.pydata.org/bokeh/release/bokeh-tables-0.12.13.min.css\");\n      Bokeh.embed.inject_css(\"https://cdn.pydata.org/bokeh/release/bokeh-tables-0.12.13.min.css\");\n    }\n  ];\n\n  function run_inline_js() {\n    \n    if ((root.Bokeh !== undefined) || (force === true)) {\n      for (var i = 0; i < inline_js.length; i++) {\n        inline_js[i].call(root, root.Bokeh);\n      }if (force === true) {\n        display_loaded();\n      }} else if (Date.now() < root._bokeh_timeout) {\n      setTimeout(run_inline_js, 100);\n    } else if (!root._bokeh_failed_load) {\n      console.log(\"Bokeh: BokehJS failed to load within specified timeout.\");\n      root._bokeh_failed_load = true;\n    } else if (force !== true) {\n      var cell = $(document.getElementById(\"3b049d7d-ebff-4bbe-8ff3-6b27f6c7e020\")).parents('.cell').data().cell;\n      cell.output_area.append_execute_result(NB_LOAD_WARNING)\n    }\n\n  }\n\n  if (root._bokeh_is_loading === 0) {\n    console.log(\"Bokeh: BokehJS loaded, going straight to plotting\");\n    run_inline_js();\n  } else {\n    load_libs(js_urls, function() {\n      console.log(\"Bokeh: BokehJS plotting callback run at\", now());\n      run_inline_js();\n    });\n  }\n}(window));"
     },
     "metadata": {},
     "output_type": "display_data"
    }
   ],
   "source": [
    "from py2neo import Node, Relationship, Graph\n",
    "from numpy.random import rand\n",
    "import numpy as num\n",
    "from bokeh.plotting import output_notebook,figure, show\n",
    "from bokeh.layouts import row,column,gridplot\n",
    "from bokeh.models import Label\n",
    "import numpy as np\n",
    "from curve import *\n",
    "from bokeh.models import Span,Legend\n",
    "output_notebook()"
   ]
  },
  {
   "cell_type": "code",
   "execution_count": 2,
   "metadata": {},
   "outputs": [
    {
     "data": {
      "application/javascript": [
       "IPython.OutputArea.prototype._should_scroll = function(lines) {\n",
       "    return false;\n",
       "}"
      ],
      "text/plain": [
       "<IPython.core.display.Javascript object>"
      ]
     },
     "metadata": {},
     "output_type": "display_data"
    }
   ],
   "source": [
    "%%javascript\n",
    "IPython.OutputArea.prototype._should_scroll = function(lines) {\n",
    "    return false;\n",
    "}"
   ]
  },
  {
   "cell_type": "code",
   "execution_count": 3,
   "metadata": {},
   "outputs": [],
   "source": [
    "import pickle as pk\n",
    "A = pk.load(open('local.pk','rb'))\n",
    "\n",
    "\n",
    "import random\n",
    "\n",
    "def gen_hex_colour_code():\n",
    "   return '#'+''.join([random.choice('0123456789ABCDEF') for x in range(6)])\n",
    "\n",
    "C = {}"
   ]
  },
  {
   "cell_type": "code",
   "execution_count": 4,
   "metadata": {},
   "outputs": [],
   "source": [
    "l = len(A)\n",
    "A_dic = {}\n",
    "for i in range(l):\n",
    "    tmp = A[i]\n",
    "    n1 = tmp['n1']\n",
    "    n2 = tmp['n2']\n",
    "    A_dic[n1+n2] = i"
   ]
  },
  {
   "cell_type": "code",
   "execution_count": 5,
   "metadata": {},
   "outputs": [],
   "source": [
    "def roi_rot(w):\n",
    "    p = w.split('L')\n",
    "    return 'L'+p[-1]+'L'+p[1]\n",
    "def logit(t):\n",
    "    tmp = max(1,t)\n",
    "    return num.log(tmp/5000.0)"
   ]
  },
  {
   "cell_type": "code",
   "execution_count": 6,
   "metadata": {},
   "outputs": [
    {
     "name": "stderr",
     "output_type": "stream",
     "text": [
      "/Users/kshadi3/Desktop/MANIA2/sample/curve.py:271: RuntimeWarning: invalid value encountered in double_scalars\n",
      "  ce = num.sum([xx[1] for xx in A[i]['envelope']])/len(A[i]['envelope'])\n",
      "/Users/kshadi3/Desktop/MANIA2/sample/curve.py:272: RuntimeWarning: invalid value encountered in double_scalars\n",
      "  cex = num.sum([xx[0] for xx in A[i]['envelope']])/len(A[i]['envelope'])\n",
      "/anaconda2/envs/py36/lib/python3.6/site-packages/sklearn/utils/validation.py:578: DataConversionWarning: A column-vector y was passed when a 1d array was expected. Please change the shape of y to (n_samples, ), for example using ravel().\n",
      "  y = column_or_1d(y, warn=True)\n",
      "/Users/kshadi3/Desktop/MANIA2/sample/curve.py:319: RuntimeWarning: invalid value encountered in double_scalars\n",
      "  fx = (sl[0]*r[0]+(100-r[0])*tmp)/100\n"
     ]
    }
   ],
   "source": [
    "RR = roi_regressors()\n",
    "AR = all_regressors(RR,A)"
   ]
  },
  {
   "cell_type": "code",
   "execution_count": 9,
   "metadata": {},
   "outputs": [],
   "source": [
    "## correct points \n",
    "for i in range(1,181):\n",
    "    for j in range(1,181):\n",
    "        if (i==j):continue\n",
    "        w = 'L'+str(i)+'L'+str(j)\n",
    "        ind = A_dic[w]\n",
    "        try:\n",
    "            env = A[ind]['envelope'][0]\n",
    "        except:\n",
    "            A[ind]['corrected'] = logit(A[ind]['weight']/5000.0)\n",
    "            continue\n",
    "        cur = AR[w]\n",
    "        ic = env[1]-cur[0]*env[0]\n",
    "        A[ind]['corrected'] = min(ic,0)"
   ]
  },
  {
   "cell_type": "code",
   "execution_count": 10,
   "metadata": {},
   "outputs": [],
   "source": [
    "null = {}\n",
    "for i in range(1,181):\n",
    "    for j in range(1,181):\n",
    "        if (i==j):continue\n",
    "        ind = A_dic['L'+str(i)+'L'+str(j)]\n",
    "        tmp = A[ind]['weight']\n",
    "        tmp = logit(tmp)\n",
    "        if (tmp < -4.605170185988091):\n",
    "            null['L'+str(i)+'L'+str(j)] = 1\n",
    "        else:\n",
    "            null['L'+str(i)+'L'+str(j)] = 0"
   ]
  },
  {
   "cell_type": "code",
   "execution_count": 11,
   "metadata": {},
   "outputs": [],
   "source": [
    "total = sum(null.values()) # total null connections\n",
    "asym = 0 # total asymmetric null connections\n",
    "raw = [] #asymmtric case max weights in both directions\n",
    "rawc = []\n",
    "for w in null.keys():\n",
    "    if null[w] == 1 and null[roi_rot(w)] == 0:\n",
    "        asym = asym+1\n",
    "        ind1 = A_dic[w]\n",
    "        t1 = A[ind1]['weight']\n",
    "        s1 = logit(t1)\n",
    "        _s1 = A[ind1]['corrected']\n",
    "        ind2 = A_dic[roi_rot(w)]\n",
    "        t2 = A[ind2]['weight']\n",
    "        s2 = logit(t2)\n",
    "        _s2 = A[ind2]['corrected']\n",
    "        raw.append((s1,s2))\n",
    "        rawc.append((_s1,_s2))"
   ]
  },
  {
   "cell_type": "markdown",
   "metadata": {},
   "source": [
    "# Case 1: Below the Noise floor in at least one direction\n",
    "We call a connection below the noise floor a `null` connection. If a null conncetion A->B is not null on opposit direction B->A, it's `asymmetric null` connection. For 180 ROIs there are a total of __32220__ possible connections. Below we look at what percentage of these connections are `null` and `asymmetric null`. (NULL Threshold at __-4.6__)"
   ]
  },
  {
   "cell_type": "code",
   "execution_count": 12,
   "metadata": {},
   "outputs": [
    {
     "name": "stdout",
     "output_type": "stream",
     "text": [
      "Total null connections:26405\n",
      "Total null connections (percentage of all connections):81.9522036002483\n",
      "Total asymmetric null connections:1745\n",
      "Total asymmetric null connections (percentage of all null connections):6.608596856655937\n"
     ]
    }
   ],
   "source": [
    "print('Total null connections:'+str(total))\n",
    "print('Total null connections (percentage of all connections):'+str(total*100/32220))\n",
    "print('Total asymmetric null connections:'+str(asym))\n",
    "print('Total asymmetric null connections (percentage of all null connections):'+str(asym*100/total))"
   ]
  },
  {
   "cell_type": "markdown",
   "metadata": {},
   "source": [
    "### Distribution of null connections strength asymmetry\n",
    "For the `aymmetric null` connections let's look at the distribution of strength for the __NOT__ null direction."
   ]
  },
  {
   "cell_type": "code",
   "execution_count": 13,
   "metadata": {},
   "outputs": [
    {
     "data": {
      "text/html": [
       "\n",
       "<div class=\"bk-root\">\n",
       "    <div class=\"bk-plotdiv\" id=\"2c3b34f2-e618-450b-abcf-ffd5cd1fd27e\"></div>\n",
       "</div>"
      ]
     },
     "metadata": {},
     "output_type": "display_data"
    },
    {
     "data": {
      "application/javascript": [
       "(function(root) {\n",
       "  function embed_document(root) {\n",
       "    \n",
       "  var docs_json = {\"58b66c44-b80a-450d-8aea-880b76b9c77c\":{\"roots\":{\"references\":[{\"attributes\":{\"plot\":{\"id\":\"cad39a52-9261-48b1-8ed2-242ed9a67142\",\"subtype\":\"Figure\",\"type\":\"Plot\"},\"ticker\":{\"id\":\"63913f59-5f98-490b-be6b-8f1648ac71a6\",\"type\":\"BasicTicker\"}},\"id\":\"a6dd0fd3-e8a1-466e-93a7-6616dde3e38d\",\"type\":\"Grid\"},{\"attributes\":{\"plot\":{\"id\":\"53a18ed6-f927-4fb2-bf10-ade6059a1f51\",\"subtype\":\"Figure\",\"type\":\"Plot\"},\"ticker\":{\"id\":\"6e3cea30-70aa-409f-84a8-0ec2856def8f\",\"type\":\"BasicTicker\"}},\"id\":\"f6df7c22-9ae8-4a43-beca-9cb907847a3c\",\"type\":\"Grid\"},{\"attributes\":{\"axis_label\":\"Difference (abs)\",\"formatter\":{\"id\":\"cf1dfa78-96b7-4212-be11-494ddc51131d\",\"type\":\"BasicTickFormatter\"},\"plot\":{\"id\":\"53a18ed6-f927-4fb2-bf10-ade6059a1f51\",\"subtype\":\"Figure\",\"type\":\"Plot\"},\"ticker\":{\"id\":\"6e3cea30-70aa-409f-84a8-0ec2856def8f\",\"type\":\"BasicTicker\"}},\"id\":\"59998af9-18dd-4741-9f48-321e9bbe84c1\",\"type\":\"LinearAxis\"},{\"attributes\":{},\"id\":\"63913f59-5f98-490b-be6b-8f1648ac71a6\",\"type\":\"BasicTicker\"},{\"attributes\":{\"axis_label\":\"Distribution\",\"formatter\":{\"id\":\"4e434418-aa88-429b-8ec9-825e9d909628\",\"type\":\"BasicTickFormatter\"},\"plot\":{\"id\":\"cad39a52-9261-48b1-8ed2-242ed9a67142\",\"subtype\":\"Figure\",\"type\":\"Plot\"},\"ticker\":{\"id\":\"878f917e-2988-405c-86c3-9ce6aa515b24\",\"type\":\"BasicTicker\"}},\"id\":\"d8e15990-4829-4cb5-a5be-9213b97ed7b5\",\"type\":\"LinearAxis\"},{\"attributes\":{},\"id\":\"6e3cea30-70aa-409f-84a8-0ec2856def8f\",\"type\":\"BasicTicker\"},{\"attributes\":{\"axis_label\":\"Distribution\",\"formatter\":{\"id\":\"2accaf41-5474-40b5-9648-354c311e978c\",\"type\":\"BasicTickFormatter\"},\"plot\":{\"id\":\"53a18ed6-f927-4fb2-bf10-ade6059a1f51\",\"subtype\":\"Figure\",\"type\":\"Plot\"},\"ticker\":{\"id\":\"1f7b5c93-d1e6-474b-987b-9888d92b6250\",\"type\":\"BasicTicker\"}},\"id\":\"312222e3-1b5e-4241-96d6-b0aa3a5b6938\",\"type\":\"LinearAxis\"},{\"attributes\":{},\"id\":\"878f917e-2988-405c-86c3-9ce6aa515b24\",\"type\":\"BasicTicker\"},{\"attributes\":{\"dimension\":1,\"plot\":{\"id\":\"cad39a52-9261-48b1-8ed2-242ed9a67142\",\"subtype\":\"Figure\",\"type\":\"Plot\"},\"ticker\":{\"id\":\"878f917e-2988-405c-86c3-9ce6aa515b24\",\"type\":\"BasicTicker\"}},\"id\":\"65a45e9c-d1d5-4dcd-b03e-28e8491d8919\",\"type\":\"Grid\"},{\"attributes\":{},\"id\":\"1f7b5c93-d1e6-474b-987b-9888d92b6250\",\"type\":\"BasicTicker\"},{\"attributes\":{\"dimension\":1,\"plot\":{\"id\":\"53a18ed6-f927-4fb2-bf10-ade6059a1f51\",\"subtype\":\"Figure\",\"type\":\"Plot\"},\"ticker\":{\"id\":\"1f7b5c93-d1e6-474b-987b-9888d92b6250\",\"type\":\"BasicTicker\"}},\"id\":\"2e0e64e6-9cb5-4453-8242-fd91f3009022\",\"type\":\"Grid\"},{\"attributes\":{},\"id\":\"f227694b-d99c-4695-8833-f55c452d973b\",\"type\":\"PanTool\"},{\"attributes\":{\"bottom_units\":\"screen\",\"fill_alpha\":{\"value\":0.5},\"fill_color\":{\"value\":\"lightgrey\"},\"left_units\":\"screen\",\"level\":\"overlay\",\"line_alpha\":{\"value\":1.0},\"line_color\":{\"value\":\"black\"},\"line_dash\":[4,4],\"line_width\":{\"value\":2},\"plot\":null,\"render_mode\":\"css\",\"right_units\":\"screen\",\"top_units\":\"screen\"},\"id\":\"43abbeb4-e9f3-42d8-a401-a53c86914ab2\",\"type\":\"BoxAnnotation\"},{\"attributes\":{},\"id\":\"8444ed54-f9ce-4495-ad2c-547ad6d9178c\",\"type\":\"PanTool\"},{\"attributes\":{},\"id\":\"d1984bfc-df85-4a91-8435-d08cc65138e9\",\"type\":\"WheelZoomTool\"},{\"attributes\":{\"overlay\":{\"id\":\"993a6d26-76b8-497e-b895-6afb3ced350a\",\"type\":\"BoxAnnotation\"}},\"id\":\"add17023-a592-4650-8a45-eac8f4333b41\",\"type\":\"BoxZoomTool\"},{\"attributes\":{},\"id\":\"fe0a8267-1f72-48d3-90af-3376be96149b\",\"type\":\"WheelZoomTool\"},{\"attributes\":{},\"id\":\"ea0313ea-7530-4a84-9620-c922b1410f24\",\"type\":\"SaveTool\"},{\"attributes\":{\"overlay\":{\"id\":\"43abbeb4-e9f3-42d8-a401-a53c86914ab2\",\"type\":\"BoxAnnotation\"}},\"id\":\"bdba8884-786f-4589-a60d-fa9a4e9d8140\",\"type\":\"BoxZoomTool\"},{\"attributes\":{},\"id\":\"4977dcc8-2c2d-4cf8-88a9-14f3a4072821\",\"type\":\"ResetTool\"},{\"attributes\":{},\"id\":\"eaa1e9cf-8e68-4889-8b04-953c4c2a0248\",\"type\":\"SaveTool\"},{\"attributes\":{},\"id\":\"f6ebc906-8cc8-49ee-9adb-4b6d60be92bc\",\"type\":\"HelpTool\"},{\"attributes\":{},\"id\":\"a64e2af8-c90e-4eba-a021-89c9bfc09917\",\"type\":\"ResetTool\"},{\"attributes\":{\"bottom\":{\"value\":0},\"fill_color\":{\"value\":\"#036564\"},\"left\":{\"field\":\"left\"},\"line_color\":{\"value\":\"#033649\"},\"right\":{\"field\":\"right\"},\"top\":{\"field\":\"top\"}},\"id\":\"6e7789b7-d453-45e5-a13e-844638e2d09b\",\"type\":\"Quad\"},{\"attributes\":{},\"id\":\"798cd171-5d22-44ba-8688-79cf8eeda1ae\",\"type\":\"HelpTool\"},{\"attributes\":{\"bottom_units\":\"screen\",\"fill_alpha\":{\"value\":0.5},\"fill_color\":{\"value\":\"lightgrey\"},\"left_units\":\"screen\",\"level\":\"overlay\",\"line_alpha\":{\"value\":1.0},\"line_color\":{\"value\":\"black\"},\"line_dash\":[4,4],\"line_width\":{\"value\":2},\"plot\":null,\"render_mode\":\"css\",\"right_units\":\"screen\",\"top_units\":\"screen\"},\"id\":\"993a6d26-76b8-497e-b895-6afb3ced350a\",\"type\":\"BoxAnnotation\"},{\"attributes\":{},\"id\":\"d201bb7f-c468-4bf2-b3c4-2bff351f7418\",\"type\":\"BasicTickFormatter\"},{\"attributes\":{\"data_source\":{\"id\":\"ad1c5438-bfbf-46e3-aa72-259a7bcdcae0\",\"type\":\"ColumnDataSource\"},\"glyph\":{\"id\":\"e916fc99-f297-455c-9de8-e1969dc9de93\",\"type\":\"Quad\"},\"hover_glyph\":null,\"muted_glyph\":null,\"nonselection_glyph\":{\"id\":\"3c2ca27e-34c6-4788-8dde-886b3b99d2b3\",\"type\":\"Quad\"},\"selection_glyph\":null,\"view\":{\"id\":\"937eccc9-a2a7-4c93-9ca4-e5222ab23357\",\"type\":\"CDSView\"}},\"id\":\"166fad93-4bb6-4155-9012-96d24c015c71\",\"type\":\"GlyphRenderer\"},{\"attributes\":{\"bottom\":{\"value\":0},\"fill_alpha\":{\"value\":0.1},\"fill_color\":{\"value\":\"#1f77b4\"},\"left\":{\"field\":\"left\"},\"line_alpha\":{\"value\":0.1},\"line_color\":{\"value\":\"#1f77b4\"},\"right\":{\"field\":\"right\"},\"top\":{\"field\":\"top\"}},\"id\":\"3c2ca27e-34c6-4788-8dde-886b3b99d2b3\",\"type\":\"Quad\"},{\"attributes\":{},\"id\":\"cf1dfa78-96b7-4212-be11-494ddc51131d\",\"type\":\"BasicTickFormatter\"},{\"attributes\":{\"callback\":null,\"column_names\":[\"left\",\"right\",\"top\"],\"data\":{\"left\":{\"__ndarray__\":\"beLil2pXEsBMLoWNSg8SwCt6J4MqxxHACsbJeAp/EcDpEWxu6jYRwMhdDmTK7hDAp6mwWaqmEMCG9VJPil4QwGVB9URqFhDAiRovdZScD8BHsnNgVAwPwAVKuEsUfA7Aw+H8NtTrDcCBeUEilFsNwD8Rhg1UywzA/qjK+BM7DMC8QA/k06oLwHrYU8+TGgvAOHCYulOKCsD2B92lE/oJwLSfIZHTaQnAcjdmfJPZCMAwz6pnU0kIwO5m71ITuQfArP4zPtMoB8Bqlngpk5gGwCguvRRTCAbA5sUBABN4BcCkXUbr0ucEwGP1itaSVwTAIY3PwVLHA8DfJBStEjcDwJ28WJjSpgLAW1Sdg5IWAsAZ7OFuUoYBwNeDJloS9gDAlRtrRdJlAMCmZl9hJKv/vySW6Dekiv6/oMVxDiRq/b8c9frko0n8v5gkhLsjKfu/FFQNkqMI+r+Qg5ZoI+j4vwyzHz+jx/e/iOKoFSOn9r8EEjLsoob1v4BBu8IiZvS//HBEmaJF8796oM1vIiXyvw==\",\"dtype\":\"float64\",\"shape\":[50]},\"right\":{\"__ndarray__\":\"TC6FjUoPEsAreieDKscRwArGyXgKfxHA6RFsbuo2EcDIXQ5kyu4QwKepsFmqphDAhvVST4peEMBlQfVEahYQwIkaL3WUnA/AR7JzYFQMD8AFSrhLFHwOwMPh/DbU6w3AgXlBIpRbDcA/EYYNVMsMwP6oyvgTOwzAvEAP5NOqC8B62FPPkxoLwDhwmLpTigrA9gfdpRP6CcC0nyGR02kJwHI3ZnyT2QjAMM+qZ1NJCMDuZu9SE7kHwKz+Mz7TKAfAapZ4KZOYBsAoLr0UUwgGwObFAQATeAXApF1G69LnBMBj9YrWklcEwCGNz8FSxwPA3yQUrRI3A8CdvFiY0qYCwFtUnYOSFgLAGezhblKGAcDXgyZaEvYAwJUba0XSZQDApmZfYSSr/78klug3pIr+v6DFcQ4kav2/HPX65KNJ/L+YJIS7Iyn7vxRUDZKjCPq/kIOWaCPo+L8Msx8/o8f3v4jiqBUjp/a/BBIy7KKG9b+AQbvCImb0v/xwRJmiRfO/eqDNbyIl8r/0z1ZGogTxvw==\",\"dtype\":\"float64\",\"shape\":[50]},\"top\":{\"__ndarray__\":\"qAKQJWpC8T8hBNBdidHqPwsEsNqVSeo/OwNwuxL65D/NA1BRu7HoPxsDwHYlLuQ/jwPwx+AZ5z/8AhAyOGLjP3EEgKJ2nes/0gLQK1FS4j++BEC1K83eP9IC0CtRUuI//AIQMjhi4z/YA+AStfXYPwQE4BK19dg/hANgBufV1j8wA+D5GLbUP/ECgHA+HtM/RQMAfQw+1T8WBECcj43aP8gCQGpXDtI/vgRAtSvNzj/CA8CPwW3IP/ECgHA+HsM/6ASAuxLdzz/xAoBwPh7DP/ECgHA+HsM/GwPAdiUuxD8gBYC7Et2/P0AEgKJ2nbs/ngIAZHD+wD+eAgBkcP6wP0UDAH0MPqU/lAQAr0S9rT+UBACvRL2tP/ECgHA+HrM/ngIAZHD+oD+8AgBkcP6gP+wDAJaofak/ngIAZHD+oD+eAgBkcP6gPwAAAAAAAAAAngIAZHD+kD+eAgBkcP6QPwAAAAAAAAAAngIAZHD+kD8AAAAAAAAAAAAAAAAAAAAAAAAAAAAAAACAAgBkcP6APw==\",\"dtype\":\"float64\",\"shape\":[50]}}},\"id\":\"1d766f32-a541-4eec-8905-afdb127bb215\",\"type\":\"ColumnDataSource\"},{\"attributes\":{\"data_source\":{\"id\":\"26510938-a8c7-473f-a589-f906d5ebd154\",\"type\":\"ColumnDataSource\"},\"glyph\":{\"id\":\"a14ee19c-3f89-46d1-be34-eb51ec547d2f\",\"type\":\"Quad\"},\"hover_glyph\":null,\"muted_glyph\":null,\"nonselection_glyph\":{\"id\":\"4f30e2c0-dded-43fc-a452-e3a974e1579c\",\"type\":\"Quad\"},\"selection_glyph\":null,\"view\":{\"id\":\"8c428f90-b6fb-425a-a343-06b22bb7c61a\",\"type\":\"CDSView\"}},\"id\":\"aad1a5c5-6fc2-4bae-ad16-965e0cb6453e\",\"type\":\"GlyphRenderer\"},{\"attributes\":{\"bottom\":{\"value\":0},\"fill_color\":{\"value\":\"#036564\"},\"left\":{\"field\":\"left\"},\"line_color\":{\"value\":\"#033649\"},\"right\":{\"field\":\"right\"},\"top\":{\"field\":\"top\"}},\"id\":\"e916fc99-f297-455c-9de8-e1969dc9de93\",\"type\":\"Quad\"},{\"attributes\":{\"bottom\":{\"value\":0},\"fill_alpha\":{\"value\":0.1},\"fill_color\":{\"value\":\"#1f77b4\"},\"left\":{\"field\":\"left\"},\"line_alpha\":{\"value\":0.1},\"line_color\":{\"value\":\"#1f77b4\"},\"right\":{\"field\":\"right\"},\"top\":{\"field\":\"top\"}},\"id\":\"4f30e2c0-dded-43fc-a452-e3a974e1579c\",\"type\":\"Quad\"},{\"attributes\":{\"below\":[{\"id\":\"d9b1098c-5958-4e07-950b-80572a20a58d\",\"type\":\"LinearAxis\"}],\"left\":[{\"id\":\"65159586-0fb3-4e5d-97c8-9a4b34492fe7\",\"type\":\"LinearAxis\"}],\"plot_height\":400,\"plot_width\":400,\"renderers\":[{\"id\":\"d9b1098c-5958-4e07-950b-80572a20a58d\",\"type\":\"LinearAxis\"},{\"id\":\"b2ba9415-4277-4c4d-bd30-e095ed2244bb\",\"type\":\"Grid\"},{\"id\":\"65159586-0fb3-4e5d-97c8-9a4b34492fe7\",\"type\":\"LinearAxis\"},{\"id\":\"0c91656e-3964-4298-9998-dbc0b36cab4f\",\"type\":\"Grid\"},{\"id\":\"495d625e-dfd6-4fa6-932b-220d476a70f1\",\"type\":\"BoxAnnotation\"},{\"id\":\"ae75c042-cb8f-4068-bbb1-dd020c8e2332\",\"type\":\"GlyphRenderer\"}],\"title\":{\"id\":\"b9bb1644-0d80-42ea-9bc4-ad92a3da6ba9\",\"type\":\"Title\"},\"toolbar\":{\"id\":\"24c01b84-9ea5-4429-bf3c-ea4c50a2d312\",\"type\":\"Toolbar\"},\"toolbar_location\":null,\"x_range\":{\"id\":\"a6fed332-53a1-41e9-bd9e-20012f429faf\",\"type\":\"DataRange1d\"},\"x_scale\":{\"id\":\"ec63910c-42ce-4cd3-9894-423f48a0cea9\",\"type\":\"LinearScale\"},\"y_range\":{\"id\":\"d7fae82f-9d4d-44df-882e-97505412ea21\",\"type\":\"DataRange1d\"},\"y_scale\":{\"id\":\"0dc49a92-4295-4038-8a04-a5099f1ddf50\",\"type\":\"LinearScale\"}},\"id\":\"92677709-504a-4e99-b238-3c7f55e5dad7\",\"subtype\":\"Figure\",\"type\":\"Plot\"},{\"attributes\":{\"bottom\":{\"value\":0},\"fill_color\":{\"value\":\"#036564\"},\"left\":{\"field\":\"left\"},\"line_color\":{\"value\":\"#033649\"},\"right\":{\"field\":\"right\"},\"top\":{\"field\":\"top\"}},\"id\":\"a14ee19c-3f89-46d1-be34-eb51ec547d2f\",\"type\":\"Quad\"},{\"attributes\":{\"bottom\":{\"value\":0},\"fill_alpha\":{\"value\":0.1},\"fill_color\":{\"value\":\"#1f77b4\"},\"left\":{\"field\":\"left\"},\"line_alpha\":{\"value\":0.1},\"line_color\":{\"value\":\"#1f77b4\"},\"right\":{\"field\":\"right\"},\"top\":{\"field\":\"top\"}},\"id\":\"b6cba447-5f1e-4fd6-b8a0-5f02d18f83e9\",\"type\":\"Quad\"},{\"attributes\":{\"children\":[{\"id\":\"5177aa6b-24d3-4bd6-ad78-c2f3e6a14b6d\",\"type\":\"Row\"},{\"id\":\"0e7c7f36-65ce-490f-adc2-eabd5e596a15\",\"type\":\"Row\"}]},\"id\":\"f14d2970-8aec-425f-bf75-c1dbd1b93dfd\",\"type\":\"Column\"},{\"attributes\":{\"callback\":null},\"id\":\"d7fae82f-9d4d-44df-882e-97505412ea21\",\"type\":\"DataRange1d\"},{\"attributes\":{\"tools\":[{\"id\":\"380ec135-83a6-48da-bed3-d804146d8800\",\"type\":\"PanTool\"},{\"id\":\"86d228da-6031-4c08-8cf5-979c39c9d818\",\"type\":\"WheelZoomTool\"},{\"id\":\"3bc3e938-7975-44de-b0f8-d778cff34ff9\",\"type\":\"BoxZoomTool\"},{\"id\":\"f6a620ed-5241-490c-9c6b-2b236f1bc49c\",\"type\":\"SaveTool\"},{\"id\":\"8f7d81ae-aa7b-4669-b0a4-3dcd67358d91\",\"type\":\"ResetTool\"},{\"id\":\"3f9d1dfd-5933-46b2-83c9-1c6164a3ab57\",\"type\":\"HelpTool\"},{\"id\":\"f227694b-d99c-4695-8833-f55c452d973b\",\"type\":\"PanTool\"},{\"id\":\"d1984bfc-df85-4a91-8435-d08cc65138e9\",\"type\":\"WheelZoomTool\"},{\"id\":\"add17023-a592-4650-8a45-eac8f4333b41\",\"type\":\"BoxZoomTool\"},{\"id\":\"ea0313ea-7530-4a84-9620-c922b1410f24\",\"type\":\"SaveTool\"},{\"id\":\"4977dcc8-2c2d-4cf8-88a9-14f3a4072821\",\"type\":\"ResetTool\"},{\"id\":\"f6ebc906-8cc8-49ee-9adb-4b6d60be92bc\",\"type\":\"HelpTool\"},{\"id\":\"95b1d77a-81e8-46a0-82f6-5b88904f6e42\",\"type\":\"PanTool\"},{\"id\":\"0ba7479f-0136-4f13-8445-c9c4cd4e64f1\",\"type\":\"WheelZoomTool\"},{\"id\":\"b8e458f3-a10c-480a-8491-ac62abaca505\",\"type\":\"BoxZoomTool\"},{\"id\":\"6e40150e-90fa-48d3-87ce-8504c9ca9c2f\",\"type\":\"SaveTool\"},{\"id\":\"bebe46b4-e8ad-4965-bdd1-48321e7544d7\",\"type\":\"ResetTool\"},{\"id\":\"5332f450-cc03-4d63-bf47-8fb3df26a162\",\"type\":\"HelpTool\"},{\"id\":\"8444ed54-f9ce-4495-ad2c-547ad6d9178c\",\"type\":\"PanTool\"},{\"id\":\"fe0a8267-1f72-48d3-90af-3376be96149b\",\"type\":\"WheelZoomTool\"},{\"id\":\"bdba8884-786f-4589-a60d-fa9a4e9d8140\",\"type\":\"BoxZoomTool\"},{\"id\":\"eaa1e9cf-8e68-4889-8b04-953c4c2a0248\",\"type\":\"SaveTool\"},{\"id\":\"a64e2af8-c90e-4eba-a021-89c9bfc09917\",\"type\":\"ResetTool\"},{\"id\":\"798cd171-5d22-44ba-8688-79cf8eeda1ae\",\"type\":\"HelpTool\"}]},\"id\":\"96a10ef1-6382-4fab-9d22-7b5047fb568c\",\"type\":\"ProxyToolbar\"},{\"attributes\":{\"below\":[{\"id\":\"a3bfcba3-12c7-47f7-9ff4-cd817021b287\",\"type\":\"LinearAxis\"}],\"left\":[{\"id\":\"4404f0b3-b20c-4d2a-8438-690b1f9bfb7c\",\"type\":\"LinearAxis\"}],\"plot_height\":400,\"plot_width\":400,\"renderers\":[{\"id\":\"a3bfcba3-12c7-47f7-9ff4-cd817021b287\",\"type\":\"LinearAxis\"},{\"id\":\"cfff5619-764b-4b2b-8f54-b987f61dcea6\",\"type\":\"Grid\"},{\"id\":\"4404f0b3-b20c-4d2a-8438-690b1f9bfb7c\",\"type\":\"LinearAxis\"},{\"id\":\"397e1dd1-8be3-43c6-b182-72151a291194\",\"type\":\"Grid\"},{\"id\":\"8e4dac8e-e9f4-4d23-8196-c2e724245991\",\"type\":\"BoxAnnotation\"},{\"id\":\"5fcf5779-9652-429b-a36d-bc7c775dcf32\",\"type\":\"GlyphRenderer\"}],\"title\":{\"id\":\"f68a6e0f-c20e-4e6c-88ef-dab7a117af40\",\"type\":\"Title\"},\"toolbar\":{\"id\":\"c42686c1-89da-4b59-b45c-79c9fb70d83f\",\"type\":\"Toolbar\"},\"toolbar_location\":null,\"x_range\":{\"id\":\"7220c08b-163f-4784-b2a0-c9876aed9dd7\",\"type\":\"DataRange1d\"},\"x_scale\":{\"id\":\"b16f5134-5261-426b-8ff2-38d0f75edfdb\",\"type\":\"LinearScale\"},\"y_range\":{\"id\":\"b1b32043-6dd3-405a-8556-05f4d8f87a2d\",\"type\":\"DataRange1d\"},\"y_scale\":{\"id\":\"09758011-1681-430b-b112-f85c1ab56428\",\"type\":\"LinearScale\"}},\"id\":\"f8807196-bac5-4b62-9f87-3cf846f8b1fb\",\"subtype\":\"Figure\",\"type\":\"Plot\"},{\"attributes\":{\"source\":{\"id\":\"ad1c5438-bfbf-46e3-aa72-259a7bcdcae0\",\"type\":\"ColumnDataSource\"}},\"id\":\"937eccc9-a2a7-4c93-9ca4-e5222ab23357\",\"type\":\"CDSView\"},{\"attributes\":{\"data_source\":{\"id\":\"1d766f32-a541-4eec-8905-afdb127bb215\",\"type\":\"ColumnDataSource\"},\"glyph\":{\"id\":\"6e7789b7-d453-45e5-a13e-844638e2d09b\",\"type\":\"Quad\"},\"hover_glyph\":null,\"muted_glyph\":null,\"nonselection_glyph\":{\"id\":\"b6cba447-5f1e-4fd6-b8a0-5f02d18f83e9\",\"type\":\"Quad\"},\"selection_glyph\":null,\"view\":{\"id\":\"0269d7fe-551d-4c8d-9031-2526a1648b96\",\"type\":\"CDSView\"}},\"id\":\"5fcf5779-9652-429b-a36d-bc7c775dcf32\",\"type\":\"GlyphRenderer\"},{\"attributes\":{\"children\":[{\"id\":\"f8807196-bac5-4b62-9f87-3cf846f8b1fb\",\"subtype\":\"Figure\",\"type\":\"Plot\"},{\"id\":\"cad39a52-9261-48b1-8ed2-242ed9a67142\",\"subtype\":\"Figure\",\"type\":\"Plot\"}]},\"id\":\"5177aa6b-24d3-4bd6-ad78-c2f3e6a14b6d\",\"type\":\"Row\"},{\"attributes\":{\"plot\":null,\"text\":\"Asummetry in null cases\"},\"id\":\"f68a6e0f-c20e-4e6c-88ef-dab7a117af40\",\"type\":\"Title\"},{\"attributes\":{},\"id\":\"4e434418-aa88-429b-8ec9-825e9d909628\",\"type\":\"BasicTickFormatter\"},{\"attributes\":{\"callback\":null},\"id\":\"7220c08b-163f-4784-b2a0-c9876aed9dd7\",\"type\":\"DataRange1d\"},{\"attributes\":{\"plot\":null,\"text\":\"Asummetry in null cases - corrected\"},\"id\":\"b9bb1644-0d80-42ea-9bc4-ad92a3da6ba9\",\"type\":\"Title\"},{\"attributes\":{\"source\":{\"id\":\"26510938-a8c7-473f-a589-f906d5ebd154\",\"type\":\"ColumnDataSource\"}},\"id\":\"8c428f90-b6fb-425a-a343-06b22bb7c61a\",\"type\":\"CDSView\"},{\"attributes\":{\"source\":{\"id\":\"1d766f32-a541-4eec-8905-afdb127bb215\",\"type\":\"ColumnDataSource\"}},\"id\":\"0269d7fe-551d-4c8d-9031-2526a1648b96\",\"type\":\"CDSView\"},{\"attributes\":{},\"id\":\"a2f92f99-51bb-467f-8b2d-d5ce62fea0da\",\"type\":\"BasicTicker\"},{\"attributes\":{\"callback\":null},\"id\":\"a6fed332-53a1-41e9-bd9e-20012f429faf\",\"type\":\"DataRange1d\"},{\"attributes\":{},\"id\":\"2accaf41-5474-40b5-9648-354c311e978c\",\"type\":\"BasicTickFormatter\"},{\"attributes\":{\"children\":[{\"id\":\"92677709-504a-4e99-b238-3c7f55e5dad7\",\"subtype\":\"Figure\",\"type\":\"Plot\"},{\"id\":\"53a18ed6-f927-4fb2-bf10-ade6059a1f51\",\"subtype\":\"Figure\",\"type\":\"Plot\"}]},\"id\":\"0e7c7f36-65ce-490f-adc2-eabd5e596a15\",\"type\":\"Row\"},{\"attributes\":{\"dimension\":1,\"plot\":{\"id\":\"f8807196-bac5-4b62-9f87-3cf846f8b1fb\",\"subtype\":\"Figure\",\"type\":\"Plot\"},\"ticker\":{\"id\":\"a2f92f99-51bb-467f-8b2d-d5ce62fea0da\",\"type\":\"BasicTicker\"}},\"id\":\"397e1dd1-8be3-43c6-b182-72151a291194\",\"type\":\"Grid\"},{\"attributes\":{},\"id\":\"ec63910c-42ce-4cd3-9894-423f48a0cea9\",\"type\":\"LinearScale\"},{\"attributes\":{\"active_drag\":\"auto\",\"active_inspect\":\"auto\",\"active_scroll\":\"auto\",\"active_tap\":\"auto\",\"tools\":[{\"id\":\"95b1d77a-81e8-46a0-82f6-5b88904f6e42\",\"type\":\"PanTool\"},{\"id\":\"0ba7479f-0136-4f13-8445-c9c4cd4e64f1\",\"type\":\"WheelZoomTool\"},{\"id\":\"b8e458f3-a10c-480a-8491-ac62abaca505\",\"type\":\"BoxZoomTool\"},{\"id\":\"6e40150e-90fa-48d3-87ce-8504c9ca9c2f\",\"type\":\"SaveTool\"},{\"id\":\"bebe46b4-e8ad-4965-bdd1-48321e7544d7\",\"type\":\"ResetTool\"},{\"id\":\"5332f450-cc03-4d63-bf47-8fb3df26a162\",\"type\":\"HelpTool\"}]},\"id\":\"24c01b84-9ea5-4429-bf3c-ea4c50a2d312\",\"type\":\"Toolbar\"},{\"attributes\":{\"active_drag\":\"auto\",\"active_inspect\":\"auto\",\"active_scroll\":\"auto\",\"active_tap\":\"auto\",\"tools\":[{\"id\":\"380ec135-83a6-48da-bed3-d804146d8800\",\"type\":\"PanTool\"},{\"id\":\"86d228da-6031-4c08-8cf5-979c39c9d818\",\"type\":\"WheelZoomTool\"},{\"id\":\"3bc3e938-7975-44de-b0f8-d778cff34ff9\",\"type\":\"BoxZoomTool\"},{\"id\":\"f6a620ed-5241-490c-9c6b-2b236f1bc49c\",\"type\":\"SaveTool\"},{\"id\":\"8f7d81ae-aa7b-4669-b0a4-3dcd67358d91\",\"type\":\"ResetTool\"},{\"id\":\"3f9d1dfd-5933-46b2-83c9-1c6164a3ab57\",\"type\":\"HelpTool\"}]},\"id\":\"c42686c1-89da-4b59-b45c-79c9fb70d83f\",\"type\":\"Toolbar\"},{\"attributes\":{},\"id\":\"0dc49a92-4295-4038-8a04-a5099f1ddf50\",\"type\":\"LinearScale\"},{\"attributes\":{},\"id\":\"b16f5134-5261-426b-8ff2-38d0f75edfdb\",\"type\":\"LinearScale\"},{\"attributes\":{\"toolbar\":{\"id\":\"96a10ef1-6382-4fab-9d22-7b5047fb568c\",\"type\":\"ProxyToolbar\"},\"toolbar_location\":\"above\"},\"id\":\"2cd300f3-61d3-46e7-8eaf-7ccd5c5bfd36\",\"type\":\"ToolbarBox\"},{\"attributes\":{\"callback\":null},\"id\":\"b1b32043-6dd3-405a-8556-05f4d8f87a2d\",\"type\":\"DataRange1d\"},{\"attributes\":{\"plot\":{\"id\":\"92677709-504a-4e99-b238-3c7f55e5dad7\",\"subtype\":\"Figure\",\"type\":\"Plot\"},\"ticker\":{\"id\":\"2ea186fa-47d9-4d4f-86de-5aa3051b3f37\",\"type\":\"BasicTicker\"}},\"id\":\"b2ba9415-4277-4c4d-bd30-e095ed2244bb\",\"type\":\"Grid\"},{\"attributes\":{\"children\":[{\"id\":\"2cd300f3-61d3-46e7-8eaf-7ccd5c5bfd36\",\"type\":\"ToolbarBox\"},{\"id\":\"f14d2970-8aec-425f-bf75-c1dbd1b93dfd\",\"type\":\"Column\"}]},\"id\":\"15b8ca78-c21b-4f89-980b-22d829a8d5a0\",\"type\":\"Column\"},{\"attributes\":{},\"id\":\"09758011-1681-430b-b112-f85c1ab56428\",\"type\":\"LinearScale\"},{\"attributes\":{\"axis_label\":\"Opposite direction\",\"formatter\":{\"id\":\"147790b3-882b-4471-a9f3-7233c7c57a8f\",\"type\":\"BasicTickFormatter\"},\"plot\":{\"id\":\"92677709-504a-4e99-b238-3c7f55e5dad7\",\"subtype\":\"Figure\",\"type\":\"Plot\"},\"ticker\":{\"id\":\"2ea186fa-47d9-4d4f-86de-5aa3051b3f37\",\"type\":\"BasicTicker\"}},\"id\":\"d9b1098c-5958-4e07-950b-80572a20a58d\",\"type\":\"LinearAxis\"},{\"attributes\":{},\"id\":\"2ea186fa-47d9-4d4f-86de-5aa3051b3f37\",\"type\":\"BasicTicker\"},{\"attributes\":{\"axis_label\":\"Opposite direction\",\"formatter\":{\"id\":\"ca5ed29f-6108-4820-96fb-569df8c8a6ad\",\"type\":\"BasicTickFormatter\"},\"plot\":{\"id\":\"f8807196-bac5-4b62-9f87-3cf846f8b1fb\",\"subtype\":\"Figure\",\"type\":\"Plot\"},\"ticker\":{\"id\":\"78b5340a-520c-486a-8e34-0253e37ed8c6\",\"type\":\"BasicTicker\"}},\"id\":\"a3bfcba3-12c7-47f7-9ff4-cd817021b287\",\"type\":\"LinearAxis\"},{\"attributes\":{\"axis_label\":\"Distribution\",\"formatter\":{\"id\":\"592df0c0-4c58-421f-a09c-cb28558eb297\",\"type\":\"BasicTickFormatter\"},\"plot\":{\"id\":\"92677709-504a-4e99-b238-3c7f55e5dad7\",\"subtype\":\"Figure\",\"type\":\"Plot\"},\"ticker\":{\"id\":\"9188e70d-8363-4d58-9170-b5f0f70afe09\",\"type\":\"BasicTicker\"}},\"id\":\"65159586-0fb3-4e5d-97c8-9a4b34492fe7\",\"type\":\"LinearAxis\"},{\"attributes\":{},\"id\":\"78b5340a-520c-486a-8e34-0253e37ed8c6\",\"type\":\"BasicTicker\"},{\"attributes\":{},\"id\":\"9188e70d-8363-4d58-9170-b5f0f70afe09\",\"type\":\"BasicTicker\"},{\"attributes\":{\"plot\":{\"id\":\"f8807196-bac5-4b62-9f87-3cf846f8b1fb\",\"subtype\":\"Figure\",\"type\":\"Plot\"},\"ticker\":{\"id\":\"78b5340a-520c-486a-8e34-0253e37ed8c6\",\"type\":\"BasicTicker\"}},\"id\":\"cfff5619-764b-4b2b-8f54-b987f61dcea6\",\"type\":\"Grid\"},{\"attributes\":{\"dimension\":1,\"plot\":{\"id\":\"92677709-504a-4e99-b238-3c7f55e5dad7\",\"subtype\":\"Figure\",\"type\":\"Plot\"},\"ticker\":{\"id\":\"9188e70d-8363-4d58-9170-b5f0f70afe09\",\"type\":\"BasicTicker\"}},\"id\":\"0c91656e-3964-4298-9998-dbc0b36cab4f\",\"type\":\"Grid\"},{\"attributes\":{\"axis_label\":\"Distribution\",\"formatter\":{\"id\":\"415761e4-656b-4386-8afc-50b8c21c6592\",\"type\":\"BasicTickFormatter\"},\"plot\":{\"id\":\"f8807196-bac5-4b62-9f87-3cf846f8b1fb\",\"subtype\":\"Figure\",\"type\":\"Plot\"},\"ticker\":{\"id\":\"a2f92f99-51bb-467f-8b2d-d5ce62fea0da\",\"type\":\"BasicTicker\"}},\"id\":\"4404f0b3-b20c-4d2a-8438-690b1f9bfb7c\",\"type\":\"LinearAxis\"},{\"attributes\":{\"callback\":null,\"column_names\":[\"left\",\"right\",\"top\"],\"data\":{\"left\":{\"__ndarray__\":\"BJOK4JQGDsD7XbjK8WwNwPIo5rRO0wzA6fMTn6s5DMDgvkGJCKALwNeJb3NlBgvAzlSdXcJsCsDFH8tHH9MJwLzq+DF8OQnAs7UmHNmfCMCqgFQGNgYIwKFLgvCSbAfAmBaw2u/SBsCP4d3ETDkGwIasC6+pnwXAfXc5mQYGBcB0QmeDY2wEwGsNlW3A0gPAYtjCVx05A8BZo/BBep8CwFBuHizXBQLARzlMFjRsAcA+BHoAkdIAwDXPp+rtOADAWDSrqZU+/79GygZ+Twv+vzRgYlIJ2Py/Iva9JsOk+78QjBn7fHH6v/4hdc82Pvm/7LfQo/AK+L/aTSx4qtf2v8jjh0xkpPW/tnnjIB5x9L+kDz/11z3zv5KlmsmRCvK/gDv2nUvX8L/coqPkCkjvv7jOWo1+4ey/lPoRNvJ66r9wJsneZRTov0xSgIfZreW/KH43ME1H478Equ7YwODgv8CrSwNp9Ny/eAO6VFAn2L8wWyimN1rTv9BlLe89Gs2/QBUKkgyAw79gic1ptsuzvw==\",\"dtype\":\"float64\",\"shape\":[50]},\"right\":{\"__ndarray__\":\"+124yvFsDcDyKOa0TtMMwOnzE5+rOQzA4L5BiQigC8DXiW9zZQYLwM5UnV3CbArAxR/LRx/TCcC86vgxfDkJwLO1JhzZnwjAqoBUBjYGCMChS4LwkmwHwJgWsNrv0gbAj+HdxEw5BsCGrAuvqZ8FwH13OZkGBgXAdEJng2NsBMBrDZVtwNIDwGLYwlcdOQPAWaPwQXqfAsBQbh4s1wUCwEc5TBY0bAHAPgR6AJHSAMA1z6fq7TgAwFg0q6mVPv+/RsoGfk8L/r80YGJSCdj8vyL2vSbDpPu/EIwZ+3xx+r/+IXXPNj75v+y30KPwCvi/2k0seKrX9r/I44dMZKT1v7Z54yAecfS/pA8/9dc987+SpZrJkQryv4A79p1L1/C/3KKj5ApI77+4zlqNfuHsv5T6ETbyeuq/cCbJ3mUU6L9MUoCH2a3lvyh+NzBNR+O/BKru2MDg4L/Aq0sDafTcv3gDulRQJ9i/MFsopjda07/QZS3vPRrNv0AVCpIMgMO/YInNabbLs78ACN3wdepivw==\",\"dtype\":\"float64\",\"shape\":[50]},\"top\":{\"__ndarray__\":\"To6r9gNQpD9Ojqv2A1CkPwAAAAAAAAAAAAAAAAAAAAB1VQHyBXi+P06Oq/YDUKQ/To6r9gNQpD/icVb0BGTJP06Oq/YDUMQ/To6r9gNQtD9Ojqv2A1DEP06Oq/YDULQ/4nFW9ARkyT9Ojqv2A1C0P06Oq/YDULQ/dVUB8gV4vj9Ojqv2A1DEP06Oq/YDULQ/dVUB8gV4zj9Ojqv2A1DEP3VVAfIFeM4/hBzWdwPG0T/icVb0BGTJP4Qc1ncDxtE/dVUB8gV4zj+fY2s4A4HgP4Qc1ncDxtE/4nFW9ARkyT+r4ytzBe7bPxgAgXUE2tY/q+MrcwXu2z91VQHyBXjOPxgAgXUE2tY/hBzWdwPG0T+r4ytzBe7bPxgAgXUE2tY/GACBdQTa1j91VQHyBXjeP4Qc1ncDxuE/adVAtwML4z91VQHyBXjeP+JxVvQEZNk/dVUB8gV4zj9Ojqv2A1DUP+JxVvQEZNk/n2NrOAOB4D+r4ytzBe7bP4Qc1ncDxuE/GACBdQTa1j91VQHyBXjePw==\",\"dtype\":\"float64\",\"shape\":[50]}}},\"id\":\"4489392f-1ab7-488d-834b-a2743a71ada1\",\"type\":\"ColumnDataSource\"},{\"attributes\":{\"bottom_units\":\"screen\",\"fill_alpha\":{\"value\":0.5},\"fill_color\":{\"value\":\"lightgrey\"},\"left_units\":\"screen\",\"level\":\"overlay\",\"line_alpha\":{\"value\":1.0},\"line_color\":{\"value\":\"black\"},\"line_dash\":[4,4],\"line_width\":{\"value\":2},\"plot\":null,\"render_mode\":\"css\",\"right_units\":\"screen\",\"top_units\":\"screen\"},\"id\":\"8e4dac8e-e9f4-4d23-8196-c2e724245991\",\"type\":\"BoxAnnotation\"},{\"attributes\":{\"bottom_units\":\"screen\",\"fill_alpha\":{\"value\":0.5},\"fill_color\":{\"value\":\"lightgrey\"},\"left_units\":\"screen\",\"level\":\"overlay\",\"line_alpha\":{\"value\":1.0},\"line_color\":{\"value\":\"black\"},\"line_dash\":[4,4],\"line_width\":{\"value\":2},\"plot\":null,\"render_mode\":\"css\",\"right_units\":\"screen\",\"top_units\":\"screen\"},\"id\":\"495d625e-dfd6-4fa6-932b-220d476a70f1\",\"type\":\"BoxAnnotation\"},{\"attributes\":{},\"id\":\"415761e4-656b-4386-8afc-50b8c21c6592\",\"type\":\"BasicTickFormatter\"},{\"attributes\":{},\"id\":\"380ec135-83a6-48da-bed3-d804146d8800\",\"type\":\"PanTool\"},{\"attributes\":{},\"id\":\"95b1d77a-81e8-46a0-82f6-5b88904f6e42\",\"type\":\"PanTool\"},{\"attributes\":{},\"id\":\"86d228da-6031-4c08-8cf5-979c39c9d818\",\"type\":\"WheelZoomTool\"},{\"attributes\":{},\"id\":\"0ba7479f-0136-4f13-8445-c9c4cd4e64f1\",\"type\":\"WheelZoomTool\"},{\"attributes\":{\"overlay\":{\"id\":\"8e4dac8e-e9f4-4d23-8196-c2e724245991\",\"type\":\"BoxAnnotation\"}},\"id\":\"3bc3e938-7975-44de-b0f8-d778cff34ff9\",\"type\":\"BoxZoomTool\"},{\"attributes\":{\"overlay\":{\"id\":\"495d625e-dfd6-4fa6-932b-220d476a70f1\",\"type\":\"BoxAnnotation\"}},\"id\":\"b8e458f3-a10c-480a-8491-ac62abaca505\",\"type\":\"BoxZoomTool\"},{\"attributes\":{},\"id\":\"f6a620ed-5241-490c-9c6b-2b236f1bc49c\",\"type\":\"SaveTool\"},{\"attributes\":{},\"id\":\"6e40150e-90fa-48d3-87ce-8504c9ca9c2f\",\"type\":\"SaveTool\"},{\"attributes\":{},\"id\":\"8f7d81ae-aa7b-4669-b0a4-3dcd67358d91\",\"type\":\"ResetTool\"},{\"attributes\":{},\"id\":\"bebe46b4-e8ad-4965-bdd1-48321e7544d7\",\"type\":\"ResetTool\"},{\"attributes\":{},\"id\":\"3f9d1dfd-5933-46b2-83c9-1c6164a3ab57\",\"type\":\"HelpTool\"},{\"attributes\":{},\"id\":\"5332f450-cc03-4d63-bf47-8fb3df26a162\",\"type\":\"HelpTool\"},{\"attributes\":{\"callback\":null,\"column_names\":[\"left\",\"right\",\"top\"],\"data\":{\"left\":{\"__ndarray__\":\"gLq9y619tD9U9VwE3pHJP7SGbZFyctQ/v5KsIPYb3D9kz/XXvOLhP2pVlZ9+t+U/b9s0Z0CM6T90YdQuAmHtP7zzOfvhmvA/v7YJ30KF8j/CednCo2/0P8Q8qaYEWvY/x/94imVE+D/Jwkhuxi76P8yFGFInGfw/zkjoNYgD/j/RC7gZ6e3/P2rnw/4k7ABA68ircFXhAUBsqpPihdYCQO6Le1S2ywNAb21jxubABEDwTks4F7YFQHEwM6pHqwZA8xEbHHigB0B08wKOqJUIQPXU6v/YiglAd7bScQmACkD4l7rjOXULQHl5olVqagxA+lqKx5pfDUB8PHI5y1QOQP0dWqv7SQ9Av/+gDpYfEECA8JRHLpoQQEDhiIDGFBFAAdJ8uV6PEUDCwnDy9gkSQIKzZCuPhBJAQ6RYZCf/EkAElUydv3kTQMSFQNZX9BNAhXY0D/BuFEBGZyhIiOkUQAZYHIEgZBVAx0gQurjeFUCHOQTzUFkWQEgq+Cvp0xZACRvsZIFOF0DJC+CdGckXQA==\",\"dtype\":\"float64\",\"shape\":[50]},\"right\":{\"__ndarray__\":\"VPVcBN6RyT+0hm2RcnLUP7+SrCD2G9w/ZM/117zi4T9qVZWffrflP2/bNGdAjOk/dGHULgJh7T+88zn74ZrwP7+2Cd9ChfI/wnnZwqNv9D/EPKmmBFr2P8f/eIplRPg/ycJIbsYu+j/MhRhSJxn8P85I6DWIA/4/0Qu4Gent/z9q58P+JOwAQOvIq3BV4QFAbKqT4oXWAkDui3tUtssDQG9tY8bmwARA8E5LOBe2BUBxMDOqR6sGQPMRGxx4oAdAdPMCjqiVCED11Or/2IoJQHe20nEJgApA+Je64zl1C0B5eaJVamoMQPpaiseaXw1AfDxyOctUDkD9HVqr+0kPQL//oA6WHxBAgPCURy6aEEBA4YiAxhQRQAHSfLlejxFAwsJw8vYJEkCCs2Qrj4QSQEOkWGQn/xJABJVMnb95E0DEhUDWV/QTQIV2NA/wbhRARmcoSIjpFEAGWByBIGQVQMdIELq43hVAhzkE81BZFkBIKvgr6dMWQAkb7GSBThdAyQvgnRnJF0CK/NPWsUMYQA==\",\"dtype\":\"float64\",\"shape\":[50]},\"top\":{\"__ndarray__\":\"5IJ8I+Jmsj9/zw0Q0yyxPzu3FJg8w7k/NCnFmdrJwT/UA6aELYnIP7p3qUhi1Mw/KKru+iXsxz8mKxhccQ7OP/WPosD4PdQ/e96Gb4BIzz8P1qBeXhjSPyGq7vol7Nc/TTbrNvGg0z8z8OyYi8bVP4yWNQ+EKdU/zjx+hXyM1D/6Vsq/qTrYPwCQosD4PdQ/2Tx+hXyM1D9yzw0Q0yzRPwCQosD4PdQ/XXzp1FZ70T/ZhM/leKvOP1XRYNJpcc0/ZEMR1Ad4xT9z0WDSaXHNP64vWOhltdI/4QOmhC2JyD+b3DOt6QPDPzYpxZnaycE/uYTP5Xirvj+y6VlKANu0P7LpWUoA28Q/cs8NENMswT8sHvK+Wje8P1XRYNJpca0/jmqDq0v9uj9fOD75h+WvPzg26zbxoKM/cs8NENMsoT/6A6aELYmYP8cDpoQtiZg/ODbrNvGgoz9hNus28aCjPzg26zbxoHM/k9Fg0mlxjT84Nus28aCDPzg26zbxoJM/YTbrNvGgkz84Nus28aCDPw==\",\"dtype\":\"float64\",\"shape\":[50]}}},\"id\":\"ad1c5438-bfbf-46e3-aa72-259a7bcdcae0\",\"type\":\"ColumnDataSource\"},{\"attributes\":{},\"id\":\"3eac10a9-7fa9-4cc7-9a50-7389865750dc\",\"type\":\"LinearScale\"},{\"attributes\":{},\"id\":\"147790b3-882b-4471-a9f3-7233c7c57a8f\",\"type\":\"BasicTickFormatter\"},{\"attributes\":{\"data_source\":{\"id\":\"4489392f-1ab7-488d-834b-a2743a71ada1\",\"type\":\"ColumnDataSource\"},\"glyph\":{\"id\":\"45f2acca-bcb9-4547-836c-93b0cd426297\",\"type\":\"Quad\"},\"hover_glyph\":null,\"muted_glyph\":null,\"nonselection_glyph\":{\"id\":\"4e7dae79-115a-4200-88be-95c6294f393c\",\"type\":\"Quad\"},\"selection_glyph\":null,\"view\":{\"id\":\"7f5c7e50-2d09-4dfc-8ab9-fa6007fe0442\",\"type\":\"CDSView\"}},\"id\":\"ae75c042-cb8f-4068-bbb1-dd020c8e2332\",\"type\":\"GlyphRenderer\"},{\"attributes\":{\"bottom\":{\"value\":0},\"fill_alpha\":{\"value\":0.1},\"fill_color\":{\"value\":\"#1f77b4\"},\"left\":{\"field\":\"left\"},\"line_alpha\":{\"value\":0.1},\"line_color\":{\"value\":\"#1f77b4\"},\"right\":{\"field\":\"right\"},\"top\":{\"field\":\"top\"}},\"id\":\"4e7dae79-115a-4200-88be-95c6294f393c\",\"type\":\"Quad\"},{\"attributes\":{\"bottom\":{\"value\":0},\"fill_color\":{\"value\":\"#036564\"},\"left\":{\"field\":\"left\"},\"line_color\":{\"value\":\"#033649\"},\"right\":{\"field\":\"right\"},\"top\":{\"field\":\"top\"}},\"id\":\"45f2acca-bcb9-4547-836c-93b0cd426297\",\"type\":\"Quad\"},{\"attributes\":{\"plot\":null,\"text\":\"Asummetry in null cases - corrected\"},\"id\":\"e73c79a8-8a06-4b9b-a0ab-10e88aaa17c9\",\"type\":\"Title\"},{\"attributes\":{\"below\":[{\"id\":\"59998af9-18dd-4741-9f48-321e9bbe84c1\",\"type\":\"LinearAxis\"}],\"left\":[{\"id\":\"312222e3-1b5e-4241-96d6-b0aa3a5b6938\",\"type\":\"LinearAxis\"}],\"plot_height\":400,\"plot_width\":400,\"renderers\":[{\"id\":\"59998af9-18dd-4741-9f48-321e9bbe84c1\",\"type\":\"LinearAxis\"},{\"id\":\"f6df7c22-9ae8-4a43-beca-9cb907847a3c\",\"type\":\"Grid\"},{\"id\":\"312222e3-1b5e-4241-96d6-b0aa3a5b6938\",\"type\":\"LinearAxis\"},{\"id\":\"2e0e64e6-9cb5-4453-8242-fd91f3009022\",\"type\":\"Grid\"},{\"id\":\"43abbeb4-e9f3-42d8-a401-a53c86914ab2\",\"type\":\"BoxAnnotation\"},{\"id\":\"aad1a5c5-6fc2-4bae-ad16-965e0cb6453e\",\"type\":\"GlyphRenderer\"}],\"title\":{\"id\":\"e73c79a8-8a06-4b9b-a0ab-10e88aaa17c9\",\"type\":\"Title\"},\"toolbar\":{\"id\":\"fb75160a-7333-4971-9cfd-44ecbe8a1e30\",\"type\":\"Toolbar\"},\"toolbar_location\":null,\"x_range\":{\"id\":\"fe72e364-81b1-4a19-afc7-5d34b3be47a6\",\"type\":\"DataRange1d\"},\"x_scale\":{\"id\":\"bcad3174-02ee-4aa2-9e8a-edc71b0809a6\",\"type\":\"LinearScale\"},\"y_range\":{\"id\":\"702978ac-7768-4347-9b7a-b8b4ef9b34b5\",\"type\":\"DataRange1d\"},\"y_scale\":{\"id\":\"2fad6e42-c772-42d8-b5b3-a10561965e3e\",\"type\":\"LinearScale\"}},\"id\":\"53a18ed6-f927-4fb2-bf10-ade6059a1f51\",\"subtype\":\"Figure\",\"type\":\"Plot\"},{\"attributes\":{\"callback\":null},\"id\":\"a77ca639-7faf-43fe-9ade-36dff69b17b0\",\"type\":\"DataRange1d\"},{\"attributes\":{\"below\":[{\"id\":\"74f5a5d9-7e16-400e-80b8-f7f3dd036128\",\"type\":\"LinearAxis\"}],\"left\":[{\"id\":\"d8e15990-4829-4cb5-a5be-9213b97ed7b5\",\"type\":\"LinearAxis\"}],\"plot_height\":400,\"plot_width\":400,\"renderers\":[{\"id\":\"74f5a5d9-7e16-400e-80b8-f7f3dd036128\",\"type\":\"LinearAxis\"},{\"id\":\"a6dd0fd3-e8a1-466e-93a7-6616dde3e38d\",\"type\":\"Grid\"},{\"id\":\"d8e15990-4829-4cb5-a5be-9213b97ed7b5\",\"type\":\"LinearAxis\"},{\"id\":\"65a45e9c-d1d5-4dcd-b03e-28e8491d8919\",\"type\":\"Grid\"},{\"id\":\"993a6d26-76b8-497e-b895-6afb3ced350a\",\"type\":\"BoxAnnotation\"},{\"id\":\"166fad93-4bb6-4155-9012-96d24c015c71\",\"type\":\"GlyphRenderer\"}],\"title\":{\"id\":\"839c6315-5db5-443b-8a4e-0f4890f4a31f\",\"type\":\"Title\"},\"toolbar\":{\"id\":\"c76f28da-6e56-40bd-b262-32c7ece5e13e\",\"type\":\"Toolbar\"},\"toolbar_location\":null,\"x_range\":{\"id\":\"62401ea3-0e4d-4fe3-8ed2-5a8f91ac0330\",\"type\":\"DataRange1d\"},\"x_scale\":{\"id\":\"48fc682b-a596-4744-824f-b9d99655cf24\",\"type\":\"LinearScale\"},\"y_range\":{\"id\":\"a77ca639-7faf-43fe-9ade-36dff69b17b0\",\"type\":\"DataRange1d\"},\"y_scale\":{\"id\":\"3eac10a9-7fa9-4cc7-9a50-7389865750dc\",\"type\":\"LinearScale\"}},\"id\":\"cad39a52-9261-48b1-8ed2-242ed9a67142\",\"subtype\":\"Figure\",\"type\":\"Plot\"},{\"attributes\":{\"callback\":null},\"id\":\"702978ac-7768-4347-9b7a-b8b4ef9b34b5\",\"type\":\"DataRange1d\"},{\"attributes\":{\"plot\":null,\"text\":\"Asummetry in null cases\"},\"id\":\"839c6315-5db5-443b-8a4e-0f4890f4a31f\",\"type\":\"Title\"},{\"attributes\":{},\"id\":\"ca5ed29f-6108-4820-96fb-569df8c8a6ad\",\"type\":\"BasicTickFormatter\"},{\"attributes\":{\"source\":{\"id\":\"4489392f-1ab7-488d-834b-a2743a71ada1\",\"type\":\"ColumnDataSource\"}},\"id\":\"7f5c7e50-2d09-4dfc-8ab9-fa6007fe0442\",\"type\":\"CDSView\"},{\"attributes\":{},\"id\":\"592df0c0-4c58-421f-a09c-cb28558eb297\",\"type\":\"BasicTickFormatter\"},{\"attributes\":{\"callback\":null},\"id\":\"62401ea3-0e4d-4fe3-8ed2-5a8f91ac0330\",\"type\":\"DataRange1d\"},{\"attributes\":{\"callback\":null,\"column_names\":[\"left\",\"right\",\"top\"],\"data\":{\"left\":{\"__ndarray__\":\"ALyPwqH2bz+CnkBrnEnGPwp/uyevCdY/alfrDEh34D9O7/iFuOnlPzKHBv8oXOs/jA8KvExn8D9+25D4hCDzP3CnFzW92fU/YnOecfWS+D9UPyWuLUz7P0cLrOplBf4/nWuZE09fAECW0dwx67sBQI83IFCHGANAiJ1jbiN1BECBA6eMv9EFQHpp6qpbLgdAc88tyfeKCEBsNXHnk+cJQGWbtAUwRAtAXwH4I8ygDEBYZztCaP0NQFHNfmAEWg9AphlhP1BbEECizIJOngkRQJ5/pF3stxFAmjLGbDpmEkCY5ed7iBQTQJSYCYvWwhNAkEsrmiRxFECM/kypch8VQIqxbrjAzRVAhmSQxw58FkCCF7LWXCoXQIDK0+Wq2BdAfH319PiGGEB4MBcERzUZQHTjOBOV4xlAcpZaIuORGkBuSXwxMUAbQGr8nUB/7htAaK+/T82cHEBkYuFeG0sdQGAVA25p+R1AXMgkfbenHkBae0aMBVYfQCsXtM0pAiBAqvBE1VBZIEAoytXcd7AgQA==\",\"dtype\":\"float64\",\"shape\":[50]},\"right\":{\"__ndarray__\":\"gp5Aa5xJxj8Kf7snrwnWP2pX6wxId+A/Tu/4hbjp5T8yhwb/KFzrP4wPCrxMZ/A/ftuQ+IQg8z9wpxc1vdn1P2JznnH1kvg/VD8lri1M+z9HC6zqZQX+P51rmRNPXwBAltHcMeu7AUCPNyBQhxgDQIidY24jdQRAgQOnjL/RBUB6aeqqWy4HQHPPLcn3ighAbDVx55PnCUBlm7QFMEQLQF8B+CPMoAxAWGc7Qmj9DUBRzX5gBFoPQKYZYT9QWxBAosyCTp4JEUCef6Rd7LcRQJoyxmw6ZhJAmOXne4gUE0CUmAmL1sITQJBLK5okcRRAjP5MqXIfFUCKsW64wM0VQIZkkMcOfBZAghey1lwqF0CAytPlqtgXQHx99fT4hhhAeDAXBEc1GUB04zgTleMZQHKWWiLjkRpAbkl8MTFAG0Bq/J1Af+4bQGivv0/NnBxAZGLhXhtLHUBgFQNuafkdQFzIJH23px5AWntGjAVWH0ArF7TNKQIgQKrwRNVQWSBAKMrV3HewIECmo2bkngchQA==\",\"dtype\":\"float64\",\"shape\":[50]},\"top\":{\"__ndarray__\":\"bwfKVbrd0z8F9evNclbVP3U1dSntL9A/2hmo3QFl0j8PI5ehpajRP4y0YnL4fMo/adkegoeLxz//xkD6PwTJP9Lr/AnPEsY/QyyGZUns0D8iooTqsPXLP4y0YnL4fLo/w4+mYmlurT94NXUp7S/AP5W0YnL4fLo/adkegoeLlz8PI5ehpaixP3g1dSntL8A/DyOXoaWosT8PI5ehpaihP1jZHoKHi5c/w4+mYmlurT8PI5ehpaihP/Qil6GlqKE/etkegoeLpz962R6Ch4uHPxwjl6GlqKE/5yKXoaWooT962R6Ch4uHPxwjl6GlqKE/AAAAAAAAAACCj6ZiaW6tP3rZHoKHi6c/etkegoeLpz812R6Ch4unPxwjl6GlqKE/2I+mYmluvT962R6Ch4u3P4KPpmJpbr0/HCOXoaWosT9K/tqRFpq0P3sQuRleIcM/HCOXoaWowT+zELkZXiHDP0GihOqw9cs/ouv8Cc8Sxj/Yj6ZiaW69P1U1dSntL8A/2I+mYmluzT8cI5ehpajBPw==\",\"dtype\":\"float64\",\"shape\":[50]}}},\"id\":\"26510938-a8c7-473f-a589-f906d5ebd154\",\"type\":\"ColumnDataSource\"},{\"attributes\":{},\"id\":\"48fc682b-a596-4744-824f-b9d99655cf24\",\"type\":\"LinearScale\"},{\"attributes\":{\"callback\":null},\"id\":\"fe72e364-81b1-4a19-afc7-5d34b3be47a6\",\"type\":\"DataRange1d\"},{\"attributes\":{\"active_drag\":\"auto\",\"active_inspect\":\"auto\",\"active_scroll\":\"auto\",\"active_tap\":\"auto\",\"tools\":[{\"id\":\"8444ed54-f9ce-4495-ad2c-547ad6d9178c\",\"type\":\"PanTool\"},{\"id\":\"fe0a8267-1f72-48d3-90af-3376be96149b\",\"type\":\"WheelZoomTool\"},{\"id\":\"bdba8884-786f-4589-a60d-fa9a4e9d8140\",\"type\":\"BoxZoomTool\"},{\"id\":\"eaa1e9cf-8e68-4889-8b04-953c4c2a0248\",\"type\":\"SaveTool\"},{\"id\":\"a64e2af8-c90e-4eba-a021-89c9bfc09917\",\"type\":\"ResetTool\"},{\"id\":\"798cd171-5d22-44ba-8688-79cf8eeda1ae\",\"type\":\"HelpTool\"}]},\"id\":\"fb75160a-7333-4971-9cfd-44ecbe8a1e30\",\"type\":\"Toolbar\"},{\"attributes\":{\"active_drag\":\"auto\",\"active_inspect\":\"auto\",\"active_scroll\":\"auto\",\"active_tap\":\"auto\",\"tools\":[{\"id\":\"f227694b-d99c-4695-8833-f55c452d973b\",\"type\":\"PanTool\"},{\"id\":\"d1984bfc-df85-4a91-8435-d08cc65138e9\",\"type\":\"WheelZoomTool\"},{\"id\":\"add17023-a592-4650-8a45-eac8f4333b41\",\"type\":\"BoxZoomTool\"},{\"id\":\"ea0313ea-7530-4a84-9620-c922b1410f24\",\"type\":\"SaveTool\"},{\"id\":\"4977dcc8-2c2d-4cf8-88a9-14f3a4072821\",\"type\":\"ResetTool\"},{\"id\":\"f6ebc906-8cc8-49ee-9adb-4b6d60be92bc\",\"type\":\"HelpTool\"}]},\"id\":\"c76f28da-6e56-40bd-b262-32c7ece5e13e\",\"type\":\"Toolbar\"},{\"attributes\":{},\"id\":\"bcad3174-02ee-4aa2-9e8a-edc71b0809a6\",\"type\":\"LinearScale\"},{\"attributes\":{\"axis_label\":\"Difference (abs)\",\"formatter\":{\"id\":\"d201bb7f-c468-4bf2-b3c4-2bff351f7418\",\"type\":\"BasicTickFormatter\"},\"plot\":{\"id\":\"cad39a52-9261-48b1-8ed2-242ed9a67142\",\"subtype\":\"Figure\",\"type\":\"Plot\"},\"ticker\":{\"id\":\"63913f59-5f98-490b-be6b-8f1648ac71a6\",\"type\":\"BasicTicker\"}},\"id\":\"74f5a5d9-7e16-400e-80b8-f7f3dd036128\",\"type\":\"LinearAxis\"},{\"attributes\":{},\"id\":\"2fad6e42-c772-42d8-b5b3-a10561965e3e\",\"type\":\"LinearScale\"}],\"root_ids\":[\"15b8ca78-c21b-4f89-980b-22d829a8d5a0\"]},\"title\":\"Bokeh Application\",\"version\":\"0.12.13\"}};\n",
       "  var render_items = [{\"docid\":\"58b66c44-b80a-450d-8aea-880b76b9c77c\",\"elementid\":\"2c3b34f2-e618-450b-abcf-ffd5cd1fd27e\",\"modelid\":\"15b8ca78-c21b-4f89-980b-22d829a8d5a0\"}];\n",
       "  root.Bokeh.embed.embed_items_notebook(docs_json, render_items);\n",
       "\n",
       "  }\n",
       "  if (root.Bokeh !== undefined) {\n",
       "    embed_document(root);\n",
       "  } else {\n",
       "    var attempts = 0;\n",
       "    var timer = setInterval(function(root) {\n",
       "      if (root.Bokeh !== undefined) {\n",
       "        embed_document(root);\n",
       "        clearInterval(timer);\n",
       "      }\n",
       "      attempts++;\n",
       "      if (attempts > 100) {\n",
       "        console.log(\"Bokeh: ERROR: Unable to run BokehJS code because BokehJS library is missing\")\n",
       "        clearInterval(timer);\n",
       "      }\n",
       "    }, 10, root)\n",
       "  }\n",
       "})(window);"
      ],
      "application/vnd.bokehjs_exec.v0+json": ""
     },
     "metadata": {
      "application/vnd.bokehjs_exec.v0+json": {
       "id": "15b8ca78-c21b-4f89-980b-22d829a8d5a0"
      }
     },
     "output_type": "display_data"
    }
   ],
   "source": [
    "mp = list(map(lambda x:x[1],raw))\n",
    "p1 = figure(plot_width=400, plot_height=400,title = 'Asummetry in null cases',y_axis_label = \"Distribution\",x_axis_label = \"Opposite direction\")\n",
    "q1,q2 = np.percentile(mp,[0,100])\n",
    "\n",
    "measured = [xx for xx in mp if (xx>q1 and xx<q2)]\n",
    "hist, edges = np.histogram(measured, density=True, bins=50)\n",
    "\n",
    "p1.quad(top=hist, bottom=0, left=edges[:-1], right=edges[1:],fill_color=\"#036564\", line_color=\"#033649\")\n",
    "\n",
    "mp = list(map(lambda x:abs(x[1]-x[0]),raw))\n",
    "p2 = figure(plot_width=400, plot_height=400,title = 'Asummetry in null cases',y_axis_label = \"Distribution\",x_axis_label = \"Difference (abs)\")\n",
    "q1,q2 = np.percentile(mp,[0,100])\n",
    "\n",
    "measured = [xx for xx in mp if (xx>q1 and xx<q2)]\n",
    "hist, edges = np.histogram(measured, density=True, bins=50)\n",
    "\n",
    "p2.quad(top=hist, bottom=0, left=edges[:-1], right=edges[1:],fill_color=\"#036564\", line_color=\"#033649\")\n",
    "\n",
    "mp = list(map(lambda x:x[1],rawc))\n",
    "mp = list(filter(lambda x: (x > -9),mp))\n",
    "p3 = figure(plot_width=400, plot_height=400,title = 'Asummetry in null cases - corrected',y_axis_label = \"Distribution\",x_axis_label = \"Opposite direction\")\n",
    "q1,q2 = np.percentile(mp,[0,100])\n",
    "\n",
    "measured = [xx for xx in mp if (xx>q1 and xx<q2)]\n",
    "hist, edges = np.histogram(measured, density=True, bins=50)\n",
    "\n",
    "p3.quad(top=hist, bottom=0, left=edges[:-1], right=edges[1:],fill_color=\"#036564\", line_color=\"#033649\")\n",
    "\n",
    "mp = list(map(lambda x:abs(x[1]-x[0]),rawc))\n",
    "mp = list(filter(lambda x: (x >-9),mp))\n",
    "p4 = figure(plot_width=400, plot_height=400,title = 'Asummetry in null cases - corrected',y_axis_label = \"Distribution\",x_axis_label = \"Difference (abs)\")\n",
    "q1,q2 = np.percentile(mp,[0,100])\n",
    "\n",
    "measured = [xx for xx in mp if (xx>q1 and xx<q2)]\n",
    "hist, edges = np.histogram(measured, density=True, bins=50)\n",
    "\n",
    "p4.quad(top=hist, bottom=0, left=edges[:-1], right=edges[1:],fill_color=\"#036564\", line_color=\"#033649\")\n",
    "\n",
    "grid = gridplot([[p1, p2],[p3, p4]])\n",
    "show (grid)"
   ]
  },
  {
   "cell_type": "markdown",
   "metadata": {},
   "source": [
    "# CASE 2: 0-distance Connection\n",
    "A connection that has __none-zero__ strength at __distance < .5__ is called 0-distance. Most of these connection are coming from adjacent ROIs. We look at 0-distance ROIs, their adjacency and their asymmetry."
   ]
  },
  {
   "cell_type": "code",
   "execution_count": 14,
   "metadata": {},
   "outputs": [],
   "source": [
    "# NEO4J database call for GROUP 1 - Close and Connected\n",
    "graph = Graph(password=\"1234\")\n",
    "c1 = '''match (n:ROI)-[r:NOS]->(m:ROI)\n",
    "where n.hemisphere=\"L\" and m.hemisphere=\"L\" and r.weight>.5\n",
    "return r._length as dis,r._weight as wei,n.name as n1,m.name as n2, r.border as bor'''\n",
    "\n",
    "D0 = graph.run(c1)"
   ]
  },
  {
   "cell_type": "code",
   "execution_count": 15,
   "metadata": {},
   "outputs": [],
   "source": [
    "dis0 = {}\n",
    "for con in D0:\n",
    "    z = zip(con['dis'],con['wei'])\n",
    "    tf = list(filter(lambda x: .1<x[0]<1 and x[1]>.5,z))\n",
    "    if len(tf) == 0:\n",
    "        continue\n",
    "    else:\n",
    "        dis0[con['n1']+con['n2']] = (max([xx[1] for xx in tf]),con['bor'])"
   ]
  },
  {
   "cell_type": "code",
   "execution_count": 32,
   "metadata": {},
   "outputs": [],
   "source": [
    "total = len(dis0) # total adjacent connections\n",
    "bor = 0\n",
    "asym = 0 # total asymmetric adjacent connections\n",
    "raw = [] #asymmtric case max weights in both directions\n",
    "for w in dis0.keys():\n",
    "    s1 = logit(dis0[w][0])\n",
    "    if dis0[w][1]>0:\n",
    "        bor = bor + 1\n",
    "    try:\n",
    "        s2 = logit(dis0[roi_rot(w)][0])\n",
    "    except:\n",
    "        asym = asym + 1\n",
    "        s2 = logit(0)\n",
    "    raw.append((s1,s2))"
   ]
  },
  {
   "cell_type": "code",
   "execution_count": 33,
   "metadata": {},
   "outputs": [
    {
     "name": "stdout",
     "output_type": "stream",
     "text": [
      "Total 0-distance connections:1049\n",
      "Total 0-distance connections (percentage of all connections):3.255741775294848\n",
      "Percentage of adjacency in 0-distance connection:97.52144899904671\n"
     ]
    }
   ],
   "source": [
    "print('Total 0-distance connections:'+str(total))\n",
    "print('Total 0-distance connections (percentage of all connections):'+str(total*100/32220))\n",
    "print('Percentage of adjacency in 0-distance connection:'+ str(bor*100/total))"
   ]
  },
  {
   "cell_type": "markdown",
   "metadata": {},
   "source": [
    "### Case 2 strength asymmetry distribution"
   ]
  },
  {
   "cell_type": "code",
   "execution_count": 24,
   "metadata": {},
   "outputs": [
    {
     "data": {
      "text/html": [
       "\n",
       "<div class=\"bk-root\">\n",
       "    <div class=\"bk-plotdiv\" id=\"0c88fc42-52cb-4c48-ba97-577b3abd3479\"></div>\n",
       "</div>"
      ]
     },
     "metadata": {},
     "output_type": "display_data"
    },
    {
     "data": {
      "application/javascript": [
       "(function(root) {\n",
       "  function embed_document(root) {\n",
       "    \n",
       "  var docs_json = {\"06b63ff5-a2fb-49b8-bad4-6d3e66b4c07c\":{\"roots\":{\"references\":[{\"attributes\":{\"data_source\":{\"id\":\"322412f8-3aea-4482-85e8-14e9842c4f89\",\"type\":\"ColumnDataSource\"},\"glyph\":{\"id\":\"13b7d064-0878-404c-8b2f-a0d498433ed2\",\"type\":\"Quad\"},\"hover_glyph\":null,\"muted_glyph\":null,\"nonselection_glyph\":{\"id\":\"26100425-9439-4abf-aa96-b3d7a1bbd6aa\",\"type\":\"Quad\"},\"selection_glyph\":null,\"view\":{\"id\":\"43f54c40-f437-4041-9038-b2201bd866b2\",\"type\":\"CDSView\"}},\"id\":\"a6ae762f-e3a3-410a-879e-4176c8a02613\",\"type\":\"GlyphRenderer\"},{\"attributes\":{\"callback\":null},\"id\":\"4f891acc-59d5-4a7f-bebb-c9c7a390291c\",\"type\":\"DataRange1d\"},{\"attributes\":{},\"id\":\"3516016f-9482-4392-9718-14d8b21f8a0e\",\"type\":\"BasicTickFormatter\"},{\"attributes\":{},\"id\":\"b9d36b77-663e-4927-aaed-bced13463cab\",\"type\":\"WheelZoomTool\"},{\"attributes\":{\"callback\":null},\"id\":\"629af13e-19d6-45e4-bd8a-1bd1077b4d07\",\"type\":\"DataRange1d\"},{\"attributes\":{\"bottom\":{\"value\":0},\"fill_color\":{\"value\":\"#036564\"},\"left\":{\"field\":\"left\"},\"line_color\":{\"value\":\"#033649\"},\"right\":{\"field\":\"right\"},\"top\":{\"field\":\"top\"}},\"id\":\"13b7d064-0878-404c-8b2f-a0d498433ed2\",\"type\":\"Quad\"},{\"attributes\":{},\"id\":\"afaffcdc-d18d-4636-b0bd-233336febee4\",\"type\":\"LinearScale\"},{\"attributes\":{\"axis_label\":\"Difference in connection strength between directions (abs)\",\"formatter\":{\"id\":\"40198665-ffc0-4bb1-82ff-303619cfa3b0\",\"type\":\"BasicTickFormatter\"},\"plot\":{\"id\":\"cfa87b3a-9826-4fb9-bb1e-adf84a3c1a55\",\"subtype\":\"Figure\",\"type\":\"Plot\"},\"ticker\":{\"id\":\"2a5ec5b1-ec06-40a8-b3ac-665b0fa45979\",\"type\":\"BasicTicker\"}},\"id\":\"a2ae0032-5d3c-4dbe-bb0b-15cad9c7b37c\",\"type\":\"LinearAxis\"},{\"attributes\":{},\"id\":\"035d6dd7-9df9-4edf-aabb-c3f64dd16f8f\",\"type\":\"LinearScale\"},{\"attributes\":{},\"id\":\"40198665-ffc0-4bb1-82ff-303619cfa3b0\",\"type\":\"BasicTickFormatter\"},{\"attributes\":{},\"id\":\"1af02471-0ce5-4b3c-93a5-d01308ccb148\",\"type\":\"BasicTicker\"},{\"attributes\":{\"bottom_units\":\"screen\",\"fill_alpha\":{\"value\":0.5},\"fill_color\":{\"value\":\"lightgrey\"},\"left_units\":\"screen\",\"level\":\"overlay\",\"line_alpha\":{\"value\":1.0},\"line_color\":{\"value\":\"black\"},\"line_dash\":[4,4],\"line_width\":{\"value\":2},\"plot\":null,\"render_mode\":\"css\",\"right_units\":\"screen\",\"top_units\":\"screen\"},\"id\":\"a7c1d597-5e3c-4aff-88dc-49ace1de5d9d\",\"type\":\"BoxAnnotation\"},{\"attributes\":{\"below\":[{\"id\":\"a2ae0032-5d3c-4dbe-bb0b-15cad9c7b37c\",\"type\":\"LinearAxis\"}],\"left\":[{\"id\":\"9e61b81f-5340-40f2-bcb3-dc5432556c84\",\"type\":\"LinearAxis\"}],\"plot_height\":400,\"plot_width\":400,\"renderers\":[{\"id\":\"a2ae0032-5d3c-4dbe-bb0b-15cad9c7b37c\",\"type\":\"LinearAxis\"},{\"id\":\"373cf7b3-353c-4752-b85b-3556d9c2ec4b\",\"type\":\"Grid\"},{\"id\":\"9e61b81f-5340-40f2-bcb3-dc5432556c84\",\"type\":\"LinearAxis\"},{\"id\":\"2d953794-e938-4c49-aa2e-73801dc4b7df\",\"type\":\"Grid\"},{\"id\":\"a7c1d597-5e3c-4aff-88dc-49ace1de5d9d\",\"type\":\"BoxAnnotation\"},{\"id\":\"a6ae762f-e3a3-410a-879e-4176c8a02613\",\"type\":\"GlyphRenderer\"}],\"title\":{\"id\":\"3227e869-8450-4f34-9dfd-ffd648fca931\",\"type\":\"Title\"},\"toolbar\":{\"id\":\"f4a1b19c-6f9f-42e3-bdad-96d2351c0291\",\"type\":\"Toolbar\"},\"x_range\":{\"id\":\"629af13e-19d6-45e4-bd8a-1bd1077b4d07\",\"type\":\"DataRange1d\"},\"x_scale\":{\"id\":\"afaffcdc-d18d-4636-b0bd-233336febee4\",\"type\":\"LinearScale\"},\"y_range\":{\"id\":\"4f891acc-59d5-4a7f-bebb-c9c7a390291c\",\"type\":\"DataRange1d\"},\"y_scale\":{\"id\":\"035d6dd7-9df9-4edf-aabb-c3f64dd16f8f\",\"type\":\"LinearScale\"}},\"id\":\"cfa87b3a-9826-4fb9-bb1e-adf84a3c1a55\",\"subtype\":\"Figure\",\"type\":\"Plot\"},{\"attributes\":{},\"id\":\"29b927c9-d6ae-4280-a4d5-f656f831f6f3\",\"type\":\"ResetTool\"},{\"attributes\":{\"plot\":{\"id\":\"cfa87b3a-9826-4fb9-bb1e-adf84a3c1a55\",\"subtype\":\"Figure\",\"type\":\"Plot\"},\"ticker\":{\"id\":\"2a5ec5b1-ec06-40a8-b3ac-665b0fa45979\",\"type\":\"BasicTicker\"}},\"id\":\"373cf7b3-353c-4752-b85b-3556d9c2ec4b\",\"type\":\"Grid\"},{\"attributes\":{\"bottom\":{\"value\":0},\"fill_alpha\":{\"value\":0.1},\"fill_color\":{\"value\":\"#1f77b4\"},\"left\":{\"field\":\"left\"},\"line_alpha\":{\"value\":0.1},\"line_color\":{\"value\":\"#1f77b4\"},\"right\":{\"field\":\"right\"},\"top\":{\"field\":\"top\"}},\"id\":\"26100425-9439-4abf-aa96-b3d7a1bbd6aa\",\"type\":\"Quad\"},{\"attributes\":{\"plot\":null,\"text\":\"Asummetry in 0-distance cases\"},\"id\":\"3227e869-8450-4f34-9dfd-ffd648fca931\",\"type\":\"Title\"},{\"attributes\":{},\"id\":\"2c8f1652-5ca2-494d-a923-aa18087c66eb\",\"type\":\"SaveTool\"},{\"attributes\":{\"axis_label\":\"Distribution\",\"formatter\":{\"id\":\"3516016f-9482-4392-9718-14d8b21f8a0e\",\"type\":\"BasicTickFormatter\"},\"plot\":{\"id\":\"cfa87b3a-9826-4fb9-bb1e-adf84a3c1a55\",\"subtype\":\"Figure\",\"type\":\"Plot\"},\"ticker\":{\"id\":\"1af02471-0ce5-4b3c-93a5-d01308ccb148\",\"type\":\"BasicTicker\"}},\"id\":\"9e61b81f-5340-40f2-bcb3-dc5432556c84\",\"type\":\"LinearAxis\"},{\"attributes\":{\"active_drag\":\"auto\",\"active_inspect\":\"auto\",\"active_scroll\":\"auto\",\"active_tap\":\"auto\",\"tools\":[{\"id\":\"ddd5c8cd-2954-4252-b2a5-190f280f4a20\",\"type\":\"PanTool\"},{\"id\":\"b9d36b77-663e-4927-aaed-bced13463cab\",\"type\":\"WheelZoomTool\"},{\"id\":\"0c69dbed-2f46-4323-bfe3-01a38cf66d85\",\"type\":\"BoxZoomTool\"},{\"id\":\"2c8f1652-5ca2-494d-a923-aa18087c66eb\",\"type\":\"SaveTool\"},{\"id\":\"29b927c9-d6ae-4280-a4d5-f656f831f6f3\",\"type\":\"ResetTool\"},{\"id\":\"ac224347-a61d-4f05-898d-af80feb931ec\",\"type\":\"HelpTool\"}]},\"id\":\"f4a1b19c-6f9f-42e3-bdad-96d2351c0291\",\"type\":\"Toolbar\"},{\"attributes\":{},\"id\":\"2a5ec5b1-ec06-40a8-b3ac-665b0fa45979\",\"type\":\"BasicTicker\"},{\"attributes\":{},\"id\":\"ddd5c8cd-2954-4252-b2a5-190f280f4a20\",\"type\":\"PanTool\"},{\"attributes\":{\"dimension\":1,\"plot\":{\"id\":\"cfa87b3a-9826-4fb9-bb1e-adf84a3c1a55\",\"subtype\":\"Figure\",\"type\":\"Plot\"},\"ticker\":{\"id\":\"1af02471-0ce5-4b3c-93a5-d01308ccb148\",\"type\":\"BasicTicker\"}},\"id\":\"2d953794-e938-4c49-aa2e-73801dc4b7df\",\"type\":\"Grid\"},{\"attributes\":{\"source\":{\"id\":\"322412f8-3aea-4482-85e8-14e9842c4f89\",\"type\":\"ColumnDataSource\"}},\"id\":\"43f54c40-f437-4041-9038-b2201bd866b2\",\"type\":\"CDSView\"},{\"attributes\":{},\"id\":\"ac224347-a61d-4f05-898d-af80feb931ec\",\"type\":\"HelpTool\"},{\"attributes\":{\"callback\":null,\"column_names\":[\"left\",\"right\",\"top\"],\"data\":{\"left\":{\"__ndarray__\":\"gEpJSvePKj9GPKk2AKOdP/zyXj9wiK0/6qO0MbAftj9WzrlDKHu9P2J83ypQa8I/mBHiMwwZxj/OpuQ8yMbJPwQ850WEdM0/neh0JyCR0D84M/Yr/mfSP9N9dzDcPtQ/bsj4NLoV1j8JE3o5mOzXP6Rd+z12w9k/P6h8QlSa2z/a8v1GMnHdP3U9f0sQSN8/CUQAKHeP4D9W6UAq5nrhP6SOgSxVZuI/8TPCLsRR4z8/2QIxMz3kP4x+QzOiKOU/2iOENREU5j8nycQ3gP/mP3VuBTrv6uc/whNGPF7W6D8QuYY+zcHpP11ex0A8reo/qwMIQ6uY6z/4qEhFGoTsP0ZOiUeJb+0/lPPJSfha7j/hmApMZ0bvPxefJSfrGPA/vvFFqKKO8D9kRGYpWgTxPwuXhqoRevE/summK8nv8T9ZPMesgGXyP/+O5y042/I/puEHr+9Q8z9NNCgwp8bzP/SGSLFePPQ/mtloMhay9D9BLImzzSf1P+h+qTSFnfU/j9HJtTwT9j82JOo29Ij2Pw==\",\"dtype\":\"float64\",\"shape\":[50]},\"right\":{\"__ndarray__\":\"RjypNgCjnT/88l4/cIitP+qjtDGwH7Y/Vs65Qyh7vT9ifN8qUGvCP5gR4jMMGcY/zqbkPMjGyT8EPOdFhHTNP53odCcgkdA/ODP2K/5n0j/TfXcw3D7UP27I+DS6FdY/CRN6OZjs1z+kXfs9dsPZPz+ofEJUmts/2vL9RjJx3T91PX9LEEjfPwlEACh3j+A/VulAKuZ64T+kjoEsVWbiP/Ezwi7EUeM/P9kCMTM95D+MfkMzoijlP9ojhDURFOY/J8nEN4D/5j91bgU67+rnP8ITRjxe1ug/ELmGPs3B6T9dXsdAPK3qP6sDCEOrmOs/+KhIRRqE7D9GTolHiW/tP5TzyUn4Wu4/4ZgKTGdG7z8XnyUn6xjwP77xRaiijvA/ZERmKVoE8T8Ll4aqEXrxP7LppivJ7/E/WTzHrIBl8j//juctONvyP6bhB6/vUPM/TTQoMKfG8z/0hkixXjz0P5rZaDIWsvQ/QSyJs80n9T/ofqk0hZ31P4/RybU8E/Y/NiTqNvSI9j/cdgq4q/72Pw==\",\"dtype\":\"float64\",\"shape\":[50]},\"top\":{\"__ndarray__\":\"Fxu3Q5w4JkDtJ9O1b/MXQBxRQlbAOxBAFJpQWenBBECzsbtoKkr1P5P0Yu0hCAFAk/Ri7SEI8T+UihmdP+/vP0oQaKYua+c/ubG7aCpK5T+T9GLtIQjhP7mxu2gqStU/k/Ri7SEI0T8mUw8rJinjP7mxu2gqStU/k/Ri7SEIwT+T9GLtIQjBPwAAAAAAAAAAnfRi7SEIsT8AAAAAAAAAAOtuFOQyjMk/ivRi7SEIwT/DsbtoKkrVP4r0Yu0hCLE/nfRi7SEIsT+K9GLtIQjBP530Yu0hCME/ivRi7SEIsT8AAAAAAAAAAIr0Yu0hCLE/nfRi7SEIsT8AAAAAAAAAAAAAAAAAAAAAnfRi7SEIsT+d9GLtIQixPwAAAAAAAAAAAAAAAAAAAAAAAAAAAAAAAAAAAAAAAAAAivRi7SEIsT8AAAAAAAAAAAAAAAAAAAAAivRi7SEIsT+K9GLtIQixPwAAAAAAAAAAAAAAAAAAAAAAAAAAAAAAAAAAAAAAAAAAivRi7SEIsT+v9GLtIQixPw==\",\"dtype\":\"float64\",\"shape\":[50]}}},\"id\":\"322412f8-3aea-4482-85e8-14e9842c4f89\",\"type\":\"ColumnDataSource\"},{\"attributes\":{\"overlay\":{\"id\":\"a7c1d597-5e3c-4aff-88dc-49ace1de5d9d\",\"type\":\"BoxAnnotation\"}},\"id\":\"0c69dbed-2f46-4323-bfe3-01a38cf66d85\",\"type\":\"BoxZoomTool\"}],\"root_ids\":[\"cfa87b3a-9826-4fb9-bb1e-adf84a3c1a55\"]},\"title\":\"Bokeh Application\",\"version\":\"0.12.13\"}};\n",
       "  var render_items = [{\"docid\":\"06b63ff5-a2fb-49b8-bad4-6d3e66b4c07c\",\"elementid\":\"0c88fc42-52cb-4c48-ba97-577b3abd3479\",\"modelid\":\"cfa87b3a-9826-4fb9-bb1e-adf84a3c1a55\"}];\n",
       "  root.Bokeh.embed.embed_items_notebook(docs_json, render_items);\n",
       "\n",
       "  }\n",
       "  if (root.Bokeh !== undefined) {\n",
       "    embed_document(root);\n",
       "  } else {\n",
       "    var attempts = 0;\n",
       "    var timer = setInterval(function(root) {\n",
       "      if (root.Bokeh !== undefined) {\n",
       "        embed_document(root);\n",
       "        clearInterval(timer);\n",
       "      }\n",
       "      attempts++;\n",
       "      if (attempts > 100) {\n",
       "        console.log(\"Bokeh: ERROR: Unable to run BokehJS code because BokehJS library is missing\")\n",
       "        clearInterval(timer);\n",
       "      }\n",
       "    }, 10, root)\n",
       "  }\n",
       "})(window);"
      ],
      "application/vnd.bokehjs_exec.v0+json": ""
     },
     "metadata": {
      "application/vnd.bokehjs_exec.v0+json": {
       "id": "cfa87b3a-9826-4fb9-bb1e-adf84a3c1a55"
      }
     },
     "output_type": "display_data"
    }
   ],
   "source": [
    "mp = list(map(lambda x:abs(x[1]-x[0]),raw))\n",
    "p1 = figure(plot_width=400, plot_height=400,title = 'Asummetry in 0-distance cases',y_axis_label = \"Distribution\",x_axis_label = \"Difference in connection strength between directions (abs)\")\n",
    "q1,q2 = np.percentile(mp,[0,100])\n",
    "\n",
    "measured = [xx for xx in mp if (xx>q1 and xx<q2)]\n",
    "hist, edges = np.histogram(measured, density=True, bins=50)\n",
    "\n",
    "p1.quad(top=hist, bottom=0, left=edges[:-1], right=edges[1:],fill_color=\"#036564\", line_color=\"#033649\")\n",
    "show(p1)"
   ]
  },
  {
   "cell_type": "markdown",
   "metadata": {},
   "source": [
    "# CASE 3: Good Local Regressors"
   ]
  },
  {
   "cell_type": "code",
   "execution_count": 18,
   "metadata": {},
   "outputs": [],
   "source": [
    "total = 0\n",
    "sym = 0\n",
    "raw = []\n",
    "rawc = []\n",
    "for w in null:\n",
    "    ind1 = A_dic[w]\n",
    "    ind2 = A_dic[roi_rot(w)]\n",
    "    if (A[ind1]['isSuccess']):\n",
    "        total = total + 1\n",
    "        _s1 = A[ind1]['corrected']\n",
    "        if (A[ind2]['isSuccess']):\n",
    "            sym = sym + 1\n",
    "            s1 = logit(A[ind1]['weight'])\n",
    "            s2 = logit(A[ind2]['weight'])\n",
    "            _s2 = A[ind2]['corrected']\n",
    "            raw.append((s1,s2))\n",
    "            rawc.append((_s1,_s2))"
   ]
  },
  {
   "cell_type": "code",
   "execution_count": 19,
   "metadata": {},
   "outputs": [
    {
     "name": "stdout",
     "output_type": "stream",
     "text": [
      "Total good-local regressor connections:5081\n",
      "Total good-local regressor connections (percentage of all connections):15.769708255741776\n",
      "Total symmetric good-local regressor connections:2944\n",
      "Total symmetric good-local regressor connections (percentage of all null connections):57.94135012792757\n"
     ]
    }
   ],
   "source": [
    "print('Total good-local regressor connections:'+str(total))\n",
    "print('Total good-local regressor connections (percentage of all connections):'+str(total*100/32220))\n",
    "print('Total symmetric good-local regressor connections:'+str(sym))\n",
    "print('Total symmetric good-local regressor connections (percentage of all null connections):'+str(sym*100/total))"
   ]
  },
  {
   "cell_type": "code",
   "execution_count": 21,
   "metadata": {},
   "outputs": [
    {
     "data": {
      "text/html": [
       "\n",
       "<div class=\"bk-root\">\n",
       "    <div class=\"bk-plotdiv\" id=\"a78cc0f1-bbef-473a-81cf-7441d9bee1f9\"></div>\n",
       "</div>"
      ]
     },
     "metadata": {},
     "output_type": "display_data"
    },
    {
     "data": {
      "application/javascript": [
       "(function(root) {\n",
       "  function embed_document(root) {\n",
       "    \n",
       "  var docs_json = {\"63712134-5dc4-4698-92ed-2f6f3f049988\":{\"roots\":{\"references\":[{\"attributes\":{\"bottom_units\":\"screen\",\"fill_alpha\":{\"value\":0.5},\"fill_color\":{\"value\":\"lightgrey\"},\"left_units\":\"screen\",\"level\":\"overlay\",\"line_alpha\":{\"value\":1.0},\"line_color\":{\"value\":\"black\"},\"line_dash\":[4,4],\"line_width\":{\"value\":2},\"plot\":null,\"render_mode\":\"css\",\"right_units\":\"screen\",\"top_units\":\"screen\"},\"id\":\"b544e76c-196d-476d-b5f5-6fa77a3f897f\",\"type\":\"BoxAnnotation\"},{\"attributes\":{},\"id\":\"880d05c0-59ed-4366-8c79-984eee73f9a5\",\"type\":\"BasicTicker\"},{\"attributes\":{\"callback\":null,\"column_names\":[\"left\",\"right\",\"top\"],\"data\":{\"left\":{\"__ndarray__\":\"AFLv2MUzLT8av/NX7l64P0aDfWahV8g/f5OA0OU/0j9bZcLt+lPYPzc3BAsQaN4/igQjlBI+4j947cMiHUjlP2bWZLEnUug/VL8FQDJc6z9CqKbOPGbuP5nIo64juPA/ED309Sg98j+HsUQ9LsLzP/4llYQzR/U/dZrlyzjM9j/sDjYTPlH4P2ODhlpD1vk/2vfWoUhb+z9RbCfpTeD8P8jgdzBTZf4/P1XId1jq/z/bZIzfrrcAQBafNIMxegFAUtncJrQ8AkCNE4XKNv8CQMlNLW65wQNABIjVETyEBEBAwn21vkYFQHv8JVlBCQZAtzbO/MPLBkDycHagRo4HQC6rHkTJUAhAauXG50sTCUClH2+LztUJQOFZFy9RmApAHJS/0tNaC0BYzmd2Vh0MQJMIEBrZ3wxAz0K4vVuiDUAKfWBh3mQOQEa3CAVhJw9AgfGwqOPpD0DflSwmM1YQQP2yAHh0txBAGtDUybUYEUA47agb93kRQFYKfW042xFAdCdRv3k8EkCSRCURu50SQA==\",\"dtype\":\"float64\",\"shape\":[50]},\"right\":{\"__ndarray__\":\"Gr/zV+5euD9Gg31moVfIP3+TgNDlP9I/W2XC7fpT2D83NwQLEGjeP4oEI5QSPuI/eO3DIh1I5T9m1mSxJ1LoP1S/BUAyXOs/Qqimzjxm7j+ZyKOuI7jwPxA99PUoPfI/h7FEPS7C8z/+JZWEM0f1P3Wa5cs4zPY/7A42Ez5R+D9jg4ZaQ9b5P9r31qFIW/s/UWwn6U3g/D/I4HcwU2X+Pz9VyHdY6v8/22SM3663AEAWnzSDMXoBQFLZ3Ca0PAJAjROFyjb/AkDJTS1uucEDQASI1RE8hARAQMJ9tb5GBUB7/CVZQQkGQLc2zvzDywZA8nB2oEaOB0Auqx5EyVAIQGrlxudLEwlApR9vi87VCUDhWRcvUZgKQByUv9LTWgtAWM5ndlYdDECTCBAa2d8MQM9CuL1bog1ACn1gYd5kDkBGtwgFYScPQIHxsKjj6Q9A35UsJjNWEED9sgB4dLcQQBrQ1Mm1GBFAOO2oG/d5EUBWCn1tONsRQHQnUb95PBJAkkQlEbudEkCvYfli/P4SQA==\",\"dtype\":\"float64\",\"shape\":[50]},\"top\":{\"__ndarray__\":\"ql0SWohkCkCL/jaStYrzP3XyRUVBz+c/RRVQvlOM3j8wPO0cO5DVPzxQPNFOwMw/MDztHDuQ1T8ossVCMfjRPzA87Rw7kMU/KLLFQjH40T8dssVCMfjBPyTtsVUsLNA/RRVQvlOMzj+rlE+5M97SPyiyxUIx+ME/LHfZLzbEwz85xhT3RCjJPyiyxUIx+ME/OcYU90QouT85xhT3RCi5PyiyxUIx+LE/OcYU90QouT81ssVCMfixPyM87Rw7kLU/NbLFQjH4wT8jPO0cO5C1Pz887Rw7kKU/IzztHDuQpT8/PO0cO5ClPy5QPNFOwJw/PzztHDuQpT8dssVCMfjBPyM87Rw7kKU/U1A80U7ArD8uUDzRTsCsP1NQPNFOwJw/IzztHDuQpT8AAAAAAAAAAC5QPNFOwJw/U1A80U7AnD8uUDzRTsCMP1NQPNFOwJw/BjztHDuQpT8dssVCMfixPwAAAAAAAAAALlA80U7AjD8AAAAAAAAAAC5QPNFOwIw/LlA80U7AnD96UDzRTsCcPw==\",\"dtype\":\"float64\",\"shape\":[50]}}},\"id\":\"e633c29e-7361-4e0e-a819-89f6a88e2fc2\",\"type\":\"ColumnDataSource\"},{\"attributes\":{\"axis_label\":\"Difference in connection strength between directions (abs)\",\"formatter\":{\"id\":\"694fac50-a8d0-4a02-815a-4c2021904692\",\"type\":\"BasicTickFormatter\"},\"plot\":{\"id\":\"304eea47-c131-4f6b-a7d3-7b62a941a44f\",\"subtype\":\"Figure\",\"type\":\"Plot\"},\"ticker\":{\"id\":\"880d05c0-59ed-4366-8c79-984eee73f9a5\",\"type\":\"BasicTicker\"}},\"id\":\"1d9dc1b0-d405-4754-a81f-cdc70a6afcd7\",\"type\":\"LinearAxis\"},{\"attributes\":{\"dimension\":1,\"plot\":{\"id\":\"bcd76bca-b474-496c-a5a7-02e895c9f61e\",\"subtype\":\"Figure\",\"type\":\"Plot\"},\"ticker\":{\"id\":\"078fd34f-1a9d-4530-834f-19161d0c4e69\",\"type\":\"BasicTicker\"}},\"id\":\"b401912f-cf84-400c-bd0e-cc43ee388373\",\"type\":\"Grid\"},{\"attributes\":{},\"id\":\"fcef1ce0-2714-4dcd-8496-0adc562efc33\",\"type\":\"BasicTickFormatter\"},{\"attributes\":{\"axis_label\":\"Distribution\",\"formatter\":{\"id\":\"19841a8b-b3f7-4f82-b593-ed27d508c408\",\"type\":\"BasicTickFormatter\"},\"plot\":{\"id\":\"bcd76bca-b474-496c-a5a7-02e895c9f61e\",\"subtype\":\"Figure\",\"type\":\"Plot\"},\"ticker\":{\"id\":\"078fd34f-1a9d-4530-834f-19161d0c4e69\",\"type\":\"BasicTicker\"}},\"id\":\"5ec37516-644f-40f9-be19-96e861c06a70\",\"type\":\"LinearAxis\"},{\"attributes\":{\"toolbar\":{\"id\":\"08c02792-9586-497b-9394-1bd3cc6ddc34\",\"type\":\"ProxyToolbar\"},\"toolbar_location\":\"above\"},\"id\":\"b526009a-9664-4bc5-9953-6563e70a1938\",\"type\":\"ToolbarBox\"},{\"attributes\":{\"callback\":null,\"column_names\":[\"left\",\"right\",\"top\"],\"data\":{\"left\":{\"__ndarray__\":\"gEpJSvePKj+4BaJ4GZ2yP2Zzz3p1lsI/7+NNOV7eyz88KuZ7I5PSP4FiJdsXN9c/xZpkOgzb2z+G6dFMgD/gP6iFcXx6keI/yiERrHTj5D/tvbDbbjXnPw9aUAtph+k/MfbvOmPZ6z9Uko9qXSvuPzuXF82rPvA/TGXn5Khn8T9dM7f8pZDyP24BhxSjufM/f89WLKDi9D+RnSZEnQv2P6Jr9luaNPc/sznGc5dd+D/EB5aLlIb5P9XVZaORr/o/5qM1u47Y+z/4cQXTiwH9PwlA1eqIKv4/Gg6lAoZT/z8WbjqNQT4AQB5VIhnA0gBAJzwKpT5nAUAvI/IwvfsBQDgK2rw7kAJAQfHBSLokA0BJ2KnUOLkDQFK/kWC3TQRAWqZ57DXiBEBjjWF4tHYFQGx0SQQzCwZAdFsxkLGfBkB9QhkcMDQHQIUpAaiuyAdAjhDpMy1dCECX99C/q/EIQJ/euEsqhglAqMWg16gaCkCwrIhjJ68KQLmTcO+lQwtAwXpYeyTYC0DKYUAHo2wMQA==\",\"dtype\":\"float64\",\"shape\":[50]},\"right\":{\"__ndarray__\":\"uAWieBmdsj9mc896dZbCP+/jTTle3ss/PCrmeyOT0j+BYiXbFzfXP8WaZDoM29s/hunRTIA/4D+ohXF8epHiP8ohEax04+Q/7b2w22415z8PWlALaYfpPzH27zpj2es/VJKPal0r7j87lxfNqz7wP0xl5+SoZ/E/XTO3/KWQ8j9uAYcUo7nzP3/PViyg4vQ/kZ0mRJ0L9j+ia/ZbmjT3P7M5xnOXXfg/xAeWi5SG+T/V1WWjka/6P+ajNbuO2Ps/+HEF04sB/T8JQNXqiCr+PxoOpQKGU/8/Fm46jUE+AEAeVSIZwNIAQCc8CqU+ZwFALyPyML37AUA4Ctq8O5ACQEHxwUi6JANASdip1Di5A0BSv5Fgt00EQFqmeew14gRAY41heLR2BUBsdEkEMwsGQHRbMZCxnwZAfUIZHDA0B0CFKQGorsgHQI4Q6TMtXQhAl/fQv6vxCECf3rhLKoYJQKjFoNeoGgpAsKyIYyevCkC5k3DvpUMLQMF6WHsk2AtAymFAB6NsDEDSSCiTIQENQA==\",\"dtype\":\"float64\",\"shape\":[50]},\"top\":{\"__ndarray__\":\"QPYow9g+BEBTw43kX0TzP1HvQdT4tO4/zMiL2Emy6z98aERjlCvkP+DTaWjCjuA//Hgg5/Z14T8fE/nVsoDdP+DTaWjCjuA/LIEd1dUa3j8TxozeVHvXP4nLitI+6d8/IzSx3XcV2D9jEPrbvUnZP3MxsuOC3tM/OYEd1dUazj/tCvzn09vQPyPnROYZENI/YTGy44Le0z8uNLHddxXIP29dZtMbT88/w3sf4eusxT/Dex/h66zFP/lXaN8x4cY/guxC2gN+uj+Nn9bipXjEPwSl1NaP5qw/66TU1o/mvD8dpdTWj+a8P7B7H+HrrLU/+wr859PbsD/rpNTWj+acP94K/OfT27A/+wr859PbsD/rpNTWj+asP2jDjeRfRJM/GTSx3XcVqD8ZNLHddxWoP2jDjeRfRJM/SMON5F9Egz9ow43kX0STPwAAAAAAAAAAAAAAAAAAAABow43kX0SDPwAAAAAAAAAAaMON5F9Egz8AAAAAAAAAAAAAAAAAAAAAAAAAAAAAAABow43kX0SDPw==\",\"dtype\":\"float64\",\"shape\":[50]}}},\"id\":\"7b283934-a90a-4f74-b470-fb5fdfbbd647\",\"type\":\"ColumnDataSource\"},{\"attributes\":{},\"id\":\"078fd34f-1a9d-4530-834f-19161d0c4e69\",\"type\":\"BasicTicker\"},{\"attributes\":{\"overlay\":{\"id\":\"a8841af4-da81-45e3-bc04-0a3fe7ed58d9\",\"type\":\"BoxAnnotation\"}},\"id\":\"7eac9ed4-97e0-4689-95fe-07123bc1d81e\",\"type\":\"BoxZoomTool\"},{\"attributes\":{\"dimension\":1,\"plot\":{\"id\":\"304eea47-c131-4f6b-a7d3-7b62a941a44f\",\"subtype\":\"Figure\",\"type\":\"Plot\"},\"ticker\":{\"id\":\"a1d64d6a-0251-4f11-b8ff-d371df335f8d\",\"type\":\"BasicTicker\"}},\"id\":\"f88e9a32-836f-4fdd-8a26-9bca0565a066\",\"type\":\"Grid\"},{\"attributes\":{\"callback\":null},\"id\":\"ba60b199-f7b5-4b78-bde3-3d96a6ce24dd\",\"type\":\"DataRange1d\"},{\"attributes\":{},\"id\":\"8f9505f1-afb9-4060-941f-bc0029ee2412\",\"type\":\"HelpTool\"},{\"attributes\":{},\"id\":\"f7150d21-ce94-45a0-9eb4-ebe10f8b36ff\",\"type\":\"HelpTool\"},{\"attributes\":{},\"id\":\"bafb9832-0d6a-447f-836b-6b8209283e79\",\"type\":\"SaveTool\"},{\"attributes\":{\"source\":{\"id\":\"e633c29e-7361-4e0e-a819-89f6a88e2fc2\",\"type\":\"ColumnDataSource\"}},\"id\":\"6baa910d-e021-4a86-ab02-4e320fd69414\",\"type\":\"CDSView\"},{\"attributes\":{},\"id\":\"54df75e9-0ab2-4261-8207-ab349f750baa\",\"type\":\"LinearScale\"},{\"attributes\":{\"children\":[{\"id\":\"304eea47-c131-4f6b-a7d3-7b62a941a44f\",\"subtype\":\"Figure\",\"type\":\"Plot\"},{\"id\":\"490308fd-7404-4f57-90fd-7ed0c0890603\",\"type\":\"Spacer\"}]},\"id\":\"1f3ccdce-c84b-404b-bb24-a089e4d05374\",\"type\":\"Row\"},{\"attributes\":{\"bottom_units\":\"screen\",\"fill_alpha\":{\"value\":0.5},\"fill_color\":{\"value\":\"lightgrey\"},\"left_units\":\"screen\",\"level\":\"overlay\",\"line_alpha\":{\"value\":1.0},\"line_color\":{\"value\":\"black\"},\"line_dash\":[4,4],\"line_width\":{\"value\":2},\"plot\":null,\"render_mode\":\"css\",\"right_units\":\"screen\",\"top_units\":\"screen\"},\"id\":\"a8841af4-da81-45e3-bc04-0a3fe7ed58d9\",\"type\":\"BoxAnnotation\"},{\"attributes\":{\"height\":400,\"width\":400},\"id\":\"6ab58db4-2b41-49cd-852d-1be79b7075d7\",\"type\":\"Spacer\"},{\"attributes\":{},\"id\":\"63bd9a7b-7fe6-4985-a32b-318db70f7956\",\"type\":\"BasicTicker\"},{\"attributes\":{\"height\":400,\"width\":400},\"id\":\"490308fd-7404-4f57-90fd-7ed0c0890603\",\"type\":\"Spacer\"},{\"attributes\":{\"children\":[{\"id\":\"b526009a-9664-4bc5-9953-6563e70a1938\",\"type\":\"ToolbarBox\"},{\"id\":\"dd6879a2-f661-4efb-b1fd-5c1256f00997\",\"type\":\"Column\"}]},\"id\":\"68d4fc3f-08e2-4a34-b042-c9db999f6941\",\"type\":\"Column\"},{\"attributes\":{\"axis_label\":\"Distribution\",\"formatter\":{\"id\":\"fcef1ce0-2714-4dcd-8496-0adc562efc33\",\"type\":\"BasicTickFormatter\"},\"plot\":{\"id\":\"304eea47-c131-4f6b-a7d3-7b62a941a44f\",\"subtype\":\"Figure\",\"type\":\"Plot\"},\"ticker\":{\"id\":\"a1d64d6a-0251-4f11-b8ff-d371df335f8d\",\"type\":\"BasicTicker\"}},\"id\":\"fa424b1e-61e4-4ddd-b625-4ee3f6f78ed4\",\"type\":\"LinearAxis\"},{\"attributes\":{\"plot\":{\"id\":\"bcd76bca-b474-496c-a5a7-02e895c9f61e\",\"subtype\":\"Figure\",\"type\":\"Plot\"},\"ticker\":{\"id\":\"63bd9a7b-7fe6-4985-a32b-318db70f7956\",\"type\":\"BasicTicker\"}},\"id\":\"84d0821a-b894-47fb-8c04-a3766daa4ba6\",\"type\":\"Grid\"},{\"attributes\":{\"bottom\":{\"value\":0},\"fill_alpha\":{\"value\":0.1},\"fill_color\":{\"value\":\"#1f77b4\"},\"left\":{\"field\":\"left\"},\"line_alpha\":{\"value\":0.1},\"line_color\":{\"value\":\"#1f77b4\"},\"right\":{\"field\":\"right\"},\"top\":{\"field\":\"top\"}},\"id\":\"f6d7e609-2e2e-485d-9a50-036f2e80a66d\",\"type\":\"Quad\"},{\"attributes\":{\"bottom\":{\"value\":0},\"fill_color\":{\"value\":\"#036564\"},\"left\":{\"field\":\"left\"},\"line_color\":{\"value\":\"#033649\"},\"right\":{\"field\":\"right\"},\"top\":{\"field\":\"top\"}},\"id\":\"bf0a82d2-048d-4a61-8e2e-89747531bc08\",\"type\":\"Quad\"},{\"attributes\":{\"plot\":null,\"text\":\"Asummetry in good local cases\"},\"id\":\"ce671b96-971e-4104-b16c-6f259ed82df6\",\"type\":\"Title\"},{\"attributes\":{\"active_drag\":\"auto\",\"active_inspect\":\"auto\",\"active_scroll\":\"auto\",\"active_tap\":\"auto\",\"tools\":[{\"id\":\"cdf45793-9c50-4e74-8c6f-5c8e962b575f\",\"type\":\"PanTool\"},{\"id\":\"cd5ca9f7-3aed-4d42-b5dd-f3f67b6b9060\",\"type\":\"WheelZoomTool\"},{\"id\":\"56b1ab6a-2993-4c93-ad18-9cda17f265c5\",\"type\":\"BoxZoomTool\"},{\"id\":\"33542d88-6bbf-4628-bdc1-c350239726b4\",\"type\":\"SaveTool\"},{\"id\":\"afccf3de-503a-4fd3-a208-bc797ed6f2a3\",\"type\":\"ResetTool\"},{\"id\":\"8f9505f1-afb9-4060-941f-bc0029ee2412\",\"type\":\"HelpTool\"}]},\"id\":\"3e7f2df3-92e1-4924-ba36-d379b4dea813\",\"type\":\"Toolbar\"},{\"attributes\":{\"tools\":[{\"id\":\"7a130a1c-c920-4fbe-aefc-d6d8afd28d65\",\"type\":\"PanTool\"},{\"id\":\"8221ec21-a296-4510-bfd9-2ee2ab648650\",\"type\":\"WheelZoomTool\"},{\"id\":\"7eac9ed4-97e0-4689-95fe-07123bc1d81e\",\"type\":\"BoxZoomTool\"},{\"id\":\"bafb9832-0d6a-447f-836b-6b8209283e79\",\"type\":\"SaveTool\"},{\"id\":\"abc07385-0652-40e2-8e33-41d15f24916c\",\"type\":\"ResetTool\"},{\"id\":\"f7150d21-ce94-45a0-9eb4-ebe10f8b36ff\",\"type\":\"HelpTool\"},{\"id\":\"cdf45793-9c50-4e74-8c6f-5c8e962b575f\",\"type\":\"PanTool\"},{\"id\":\"cd5ca9f7-3aed-4d42-b5dd-f3f67b6b9060\",\"type\":\"WheelZoomTool\"},{\"id\":\"56b1ab6a-2993-4c93-ad18-9cda17f265c5\",\"type\":\"BoxZoomTool\"},{\"id\":\"33542d88-6bbf-4628-bdc1-c350239726b4\",\"type\":\"SaveTool\"},{\"id\":\"afccf3de-503a-4fd3-a208-bc797ed6f2a3\",\"type\":\"ResetTool\"},{\"id\":\"8f9505f1-afb9-4060-941f-bc0029ee2412\",\"type\":\"HelpTool\"}]},\"id\":\"08c02792-9586-497b-9394-1bd3cc6ddc34\",\"type\":\"ProxyToolbar\"},{\"attributes\":{\"plot\":{\"id\":\"304eea47-c131-4f6b-a7d3-7b62a941a44f\",\"subtype\":\"Figure\",\"type\":\"Plot\"},\"ticker\":{\"id\":\"880d05c0-59ed-4366-8c79-984eee73f9a5\",\"type\":\"BasicTicker\"}},\"id\":\"3fedae22-85a4-4c3a-a56c-e4066aa81d98\",\"type\":\"Grid\"},{\"attributes\":{},\"id\":\"afccf3de-503a-4fd3-a208-bc797ed6f2a3\",\"type\":\"ResetTool\"},{\"attributes\":{\"children\":[{\"id\":\"bcd76bca-b474-496c-a5a7-02e895c9f61e\",\"subtype\":\"Figure\",\"type\":\"Plot\"},{\"id\":\"6ab58db4-2b41-49cd-852d-1be79b7075d7\",\"type\":\"Spacer\"}]},\"id\":\"a6935d1b-618d-4ace-bbe3-44e0b4e4dc06\",\"type\":\"Row\"},{\"attributes\":{},\"id\":\"7b68c7a9-a67f-440c-bd4a-db908427831a\",\"type\":\"LinearScale\"},{\"attributes\":{},\"id\":\"82335de5-7688-4838-abce-96071085900e\",\"type\":\"LinearScale\"},{\"attributes\":{\"bottom\":{\"value\":0},\"fill_color\":{\"value\":\"#036564\"},\"left\":{\"field\":\"left\"},\"line_color\":{\"value\":\"#033649\"},\"right\":{\"field\":\"right\"},\"top\":{\"field\":\"top\"}},\"id\":\"2d0dde0a-6c67-40a5-9e56-76136496dfb6\",\"type\":\"Quad\"},{\"attributes\":{},\"id\":\"19841a8b-b3f7-4f82-b593-ed27d508c408\",\"type\":\"BasicTickFormatter\"},{\"attributes\":{\"active_drag\":\"auto\",\"active_inspect\":\"auto\",\"active_scroll\":\"auto\",\"active_tap\":\"auto\",\"tools\":[{\"id\":\"7a130a1c-c920-4fbe-aefc-d6d8afd28d65\",\"type\":\"PanTool\"},{\"id\":\"8221ec21-a296-4510-bfd9-2ee2ab648650\",\"type\":\"WheelZoomTool\"},{\"id\":\"7eac9ed4-97e0-4689-95fe-07123bc1d81e\",\"type\":\"BoxZoomTool\"},{\"id\":\"bafb9832-0d6a-447f-836b-6b8209283e79\",\"type\":\"SaveTool\"},{\"id\":\"abc07385-0652-40e2-8e33-41d15f24916c\",\"type\":\"ResetTool\"},{\"id\":\"f7150d21-ce94-45a0-9eb4-ebe10f8b36ff\",\"type\":\"HelpTool\"}]},\"id\":\"02ad05a6-926b-4f1e-9e5c-ecc5c845367c\",\"type\":\"Toolbar\"},{\"attributes\":{\"callback\":null},\"id\":\"06421ebb-263a-41a9-b09b-9b8ccfc3ad32\",\"type\":\"DataRange1d\"},{\"attributes\":{\"data_source\":{\"id\":\"e633c29e-7361-4e0e-a819-89f6a88e2fc2\",\"type\":\"ColumnDataSource\"},\"glyph\":{\"id\":\"bf0a82d2-048d-4a61-8e2e-89747531bc08\",\"type\":\"Quad\"},\"hover_glyph\":null,\"muted_glyph\":null,\"nonselection_glyph\":{\"id\":\"2975ceea-8ecd-48c3-b4d0-b3b36b39d872\",\"type\":\"Quad\"},\"selection_glyph\":null,\"view\":{\"id\":\"6baa910d-e021-4a86-ab02-4e320fd69414\",\"type\":\"CDSView\"}},\"id\":\"443eaeec-9aa4-4219-9f40-860a4603ce54\",\"type\":\"GlyphRenderer\"},{\"attributes\":{},\"id\":\"29342568-41e6-4dc0-bec8-5df3443f2a81\",\"type\":\"BasicTickFormatter\"},{\"attributes\":{\"callback\":null},\"id\":\"cfa880a4-0da7-427c-a9c8-3d706b83be01\",\"type\":\"DataRange1d\"},{\"attributes\":{\"overlay\":{\"id\":\"b544e76c-196d-476d-b5f5-6fa77a3f897f\",\"type\":\"BoxAnnotation\"}},\"id\":\"56b1ab6a-2993-4c93-ad18-9cda17f265c5\",\"type\":\"BoxZoomTool\"},{\"attributes\":{\"callback\":null},\"id\":\"def17e4e-e9ab-44c0-8fcc-69ad00302e9f\",\"type\":\"DataRange1d\"},{\"attributes\":{},\"id\":\"a1d64d6a-0251-4f11-b8ff-d371df335f8d\",\"type\":\"BasicTicker\"},{\"attributes\":{\"below\":[{\"id\":\"19721f60-2d38-4b82-8a87-945e472f96a0\",\"type\":\"LinearAxis\"}],\"left\":[{\"id\":\"5ec37516-644f-40f9-be19-96e861c06a70\",\"type\":\"LinearAxis\"}],\"plot_height\":400,\"plot_width\":400,\"renderers\":[{\"id\":\"19721f60-2d38-4b82-8a87-945e472f96a0\",\"type\":\"LinearAxis\"},{\"id\":\"84d0821a-b894-47fb-8c04-a3766daa4ba6\",\"type\":\"Grid\"},{\"id\":\"5ec37516-644f-40f9-be19-96e861c06a70\",\"type\":\"LinearAxis\"},{\"id\":\"b401912f-cf84-400c-bd0e-cc43ee388373\",\"type\":\"Grid\"},{\"id\":\"b544e76c-196d-476d-b5f5-6fa77a3f897f\",\"type\":\"BoxAnnotation\"},{\"id\":\"443eaeec-9aa4-4219-9f40-860a4603ce54\",\"type\":\"GlyphRenderer\"}],\"title\":{\"id\":\"baa4425c-fbbd-4315-a30c-beae43b6529e\",\"type\":\"Title\"},\"toolbar\":{\"id\":\"3e7f2df3-92e1-4924-ba36-d379b4dea813\",\"type\":\"Toolbar\"},\"toolbar_location\":null,\"x_range\":{\"id\":\"ba60b199-f7b5-4b78-bde3-3d96a6ce24dd\",\"type\":\"DataRange1d\"},\"x_scale\":{\"id\":\"82335de5-7688-4838-abce-96071085900e\",\"type\":\"LinearScale\"},\"y_range\":{\"id\":\"def17e4e-e9ab-44c0-8fcc-69ad00302e9f\",\"type\":\"DataRange1d\"},\"y_scale\":{\"id\":\"54df75e9-0ab2-4261-8207-ab349f750baa\",\"type\":\"LinearScale\"}},\"id\":\"bcd76bca-b474-496c-a5a7-02e895c9f61e\",\"subtype\":\"Figure\",\"type\":\"Plot\"},{\"attributes\":{},\"id\":\"cd5ca9f7-3aed-4d42-b5dd-f3f67b6b9060\",\"type\":\"WheelZoomTool\"},{\"attributes\":{},\"id\":\"8221ec21-a296-4510-bfd9-2ee2ab648650\",\"type\":\"WheelZoomTool\"},{\"attributes\":{\"data_source\":{\"id\":\"7b283934-a90a-4f74-b470-fb5fdfbbd647\",\"type\":\"ColumnDataSource\"},\"glyph\":{\"id\":\"2d0dde0a-6c67-40a5-9e56-76136496dfb6\",\"type\":\"Quad\"},\"hover_glyph\":null,\"muted_glyph\":null,\"nonselection_glyph\":{\"id\":\"f6d7e609-2e2e-485d-9a50-036f2e80a66d\",\"type\":\"Quad\"},\"selection_glyph\":null,\"view\":{\"id\":\"e21a25d1-38ec-458d-ac4b-d10f9f928a60\",\"type\":\"CDSView\"}},\"id\":\"1aa78e8e-aa9a-41ca-82b1-bafcddc2ec86\",\"type\":\"GlyphRenderer\"},{\"attributes\":{},\"id\":\"abc07385-0652-40e2-8e33-41d15f24916c\",\"type\":\"ResetTool\"},{\"attributes\":{\"bottom\":{\"value\":0},\"fill_alpha\":{\"value\":0.1},\"fill_color\":{\"value\":\"#1f77b4\"},\"left\":{\"field\":\"left\"},\"line_alpha\":{\"value\":0.1},\"line_color\":{\"value\":\"#1f77b4\"},\"right\":{\"field\":\"right\"},\"top\":{\"field\":\"top\"}},\"id\":\"2975ceea-8ecd-48c3-b4d0-b3b36b39d872\",\"type\":\"Quad\"},{\"attributes\":{\"below\":[{\"id\":\"1d9dc1b0-d405-4754-a81f-cdc70a6afcd7\",\"type\":\"LinearAxis\"}],\"left\":[{\"id\":\"fa424b1e-61e4-4ddd-b625-4ee3f6f78ed4\",\"type\":\"LinearAxis\"}],\"plot_height\":400,\"plot_width\":400,\"renderers\":[{\"id\":\"1d9dc1b0-d405-4754-a81f-cdc70a6afcd7\",\"type\":\"LinearAxis\"},{\"id\":\"3fedae22-85a4-4c3a-a56c-e4066aa81d98\",\"type\":\"Grid\"},{\"id\":\"fa424b1e-61e4-4ddd-b625-4ee3f6f78ed4\",\"type\":\"LinearAxis\"},{\"id\":\"f88e9a32-836f-4fdd-8a26-9bca0565a066\",\"type\":\"Grid\"},{\"id\":\"a8841af4-da81-45e3-bc04-0a3fe7ed58d9\",\"type\":\"BoxAnnotation\"},{\"id\":\"1aa78e8e-aa9a-41ca-82b1-bafcddc2ec86\",\"type\":\"GlyphRenderer\"}],\"title\":{\"id\":\"ce671b96-971e-4104-b16c-6f259ed82df6\",\"type\":\"Title\"},\"toolbar\":{\"id\":\"02ad05a6-926b-4f1e-9e5c-ecc5c845367c\",\"type\":\"Toolbar\"},\"toolbar_location\":null,\"x_range\":{\"id\":\"cfa880a4-0da7-427c-a9c8-3d706b83be01\",\"type\":\"DataRange1d\"},\"x_scale\":{\"id\":\"702ec279-b4d5-4538-b35c-9be55f66325b\",\"type\":\"LinearScale\"},\"y_range\":{\"id\":\"06421ebb-263a-41a9-b09b-9b8ccfc3ad32\",\"type\":\"DataRange1d\"},\"y_scale\":{\"id\":\"7b68c7a9-a67f-440c-bd4a-db908427831a\",\"type\":\"LinearScale\"}},\"id\":\"304eea47-c131-4f6b-a7d3-7b62a941a44f\",\"subtype\":\"Figure\",\"type\":\"Plot\"},{\"attributes\":{\"plot\":null,\"text\":\"Asummetry in good local cases - corrected\"},\"id\":\"baa4425c-fbbd-4315-a30c-beae43b6529e\",\"type\":\"Title\"},{\"attributes\":{},\"id\":\"33542d88-6bbf-4628-bdc1-c350239726b4\",\"type\":\"SaveTool\"},{\"attributes\":{},\"id\":\"694fac50-a8d0-4a02-815a-4c2021904692\",\"type\":\"BasicTickFormatter\"},{\"attributes\":{},\"id\":\"7a130a1c-c920-4fbe-aefc-d6d8afd28d65\",\"type\":\"PanTool\"},{\"attributes\":{},\"id\":\"702ec279-b4d5-4538-b35c-9be55f66325b\",\"type\":\"LinearScale\"},{\"attributes\":{\"children\":[{\"id\":\"1f3ccdce-c84b-404b-bb24-a089e4d05374\",\"type\":\"Row\"},{\"id\":\"a6935d1b-618d-4ace-bbe3-44e0b4e4dc06\",\"type\":\"Row\"}]},\"id\":\"dd6879a2-f661-4efb-b1fd-5c1256f00997\",\"type\":\"Column\"},{\"attributes\":{},\"id\":\"cdf45793-9c50-4e74-8c6f-5c8e962b575f\",\"type\":\"PanTool\"},{\"attributes\":{\"axis_label\":\"Difference (abs)\",\"formatter\":{\"id\":\"29342568-41e6-4dc0-bec8-5df3443f2a81\",\"type\":\"BasicTickFormatter\"},\"plot\":{\"id\":\"bcd76bca-b474-496c-a5a7-02e895c9f61e\",\"subtype\":\"Figure\",\"type\":\"Plot\"},\"ticker\":{\"id\":\"63bd9a7b-7fe6-4985-a32b-318db70f7956\",\"type\":\"BasicTicker\"}},\"id\":\"19721f60-2d38-4b82-8a87-945e472f96a0\",\"type\":\"LinearAxis\"},{\"attributes\":{\"source\":{\"id\":\"7b283934-a90a-4f74-b470-fb5fdfbbd647\",\"type\":\"ColumnDataSource\"}},\"id\":\"e21a25d1-38ec-458d-ac4b-d10f9f928a60\",\"type\":\"CDSView\"}],\"root_ids\":[\"68d4fc3f-08e2-4a34-b042-c9db999f6941\"]},\"title\":\"Bokeh Application\",\"version\":\"0.12.13\"}};\n",
       "  var render_items = [{\"docid\":\"63712134-5dc4-4698-92ed-2f6f3f049988\",\"elementid\":\"a78cc0f1-bbef-473a-81cf-7441d9bee1f9\",\"modelid\":\"68d4fc3f-08e2-4a34-b042-c9db999f6941\"}];\n",
       "  root.Bokeh.embed.embed_items_notebook(docs_json, render_items);\n",
       "\n",
       "  }\n",
       "  if (root.Bokeh !== undefined) {\n",
       "    embed_document(root);\n",
       "  } else {\n",
       "    var attempts = 0;\n",
       "    var timer = setInterval(function(root) {\n",
       "      if (root.Bokeh !== undefined) {\n",
       "        embed_document(root);\n",
       "        clearInterval(timer);\n",
       "      }\n",
       "      attempts++;\n",
       "      if (attempts > 100) {\n",
       "        console.log(\"Bokeh: ERROR: Unable to run BokehJS code because BokehJS library is missing\")\n",
       "        clearInterval(timer);\n",
       "      }\n",
       "    }, 10, root)\n",
       "  }\n",
       "})(window);"
      ],
      "application/vnd.bokehjs_exec.v0+json": ""
     },
     "metadata": {
      "application/vnd.bokehjs_exec.v0+json": {
       "id": "68d4fc3f-08e2-4a34-b042-c9db999f6941"
      }
     },
     "output_type": "display_data"
    },
    {
     "data": {
      "text/html": [
       "\n",
       "<div class=\"bk-root\">\n",
       "    <div class=\"bk-plotdiv\" id=\"ffab7720-4967-422e-9264-74f3d33618a2\"></div>\n",
       "</div>"
      ]
     },
     "metadata": {},
     "output_type": "display_data"
    },
    {
     "data": {
      "application/javascript": [
       "(function(root) {\n",
       "  function embed_document(root) {\n",
       "    \n",
       "  var docs_json = {\"92861443-2ab0-4ca6-b86e-e781bd64b4dc\":{\"roots\":{\"references\":[{\"attributes\":{\"bottom\":{\"value\":0},\"fill_alpha\":{\"value\":0.1},\"fill_color\":{\"value\":\"#1f77b4\"},\"left\":{\"field\":\"left\"},\"line_alpha\":{\"value\":0.1},\"line_color\":{\"value\":\"#1f77b4\"},\"right\":{\"field\":\"right\"},\"top\":{\"field\":\"top\"}},\"id\":\"f6d7e609-2e2e-485d-9a50-036f2e80a66d\",\"type\":\"Quad\"},{\"attributes\":{\"plot\":null,\"text\":\"Asummetry in good local cases\"},\"id\":\"ce671b96-971e-4104-b16c-6f259ed82df6\",\"type\":\"Title\"},{\"attributes\":{},\"id\":\"880d05c0-59ed-4366-8c79-984eee73f9a5\",\"type\":\"BasicTicker\"},{\"attributes\":{\"plot\":{\"id\":\"304eea47-c131-4f6b-a7d3-7b62a941a44f\",\"subtype\":\"Figure\",\"type\":\"Plot\"},\"ticker\":{\"id\":\"880d05c0-59ed-4366-8c79-984eee73f9a5\",\"type\":\"BasicTicker\"}},\"id\":\"3fedae22-85a4-4c3a-a56c-e4066aa81d98\",\"type\":\"Grid\"},{\"attributes\":{\"axis_label\":\"Difference in connection strength between directions (abs)\",\"formatter\":{\"id\":\"694fac50-a8d0-4a02-815a-4c2021904692\",\"type\":\"BasicTickFormatter\"},\"plot\":{\"id\":\"304eea47-c131-4f6b-a7d3-7b62a941a44f\",\"subtype\":\"Figure\",\"type\":\"Plot\"},\"ticker\":{\"id\":\"880d05c0-59ed-4366-8c79-984eee73f9a5\",\"type\":\"BasicTicker\"}},\"id\":\"1d9dc1b0-d405-4754-a81f-cdc70a6afcd7\",\"type\":\"LinearAxis\"},{\"attributes\":{},\"id\":\"fcef1ce0-2714-4dcd-8496-0adc562efc33\",\"type\":\"BasicTickFormatter\"},{\"attributes\":{\"bottom\":{\"value\":0},\"fill_color\":{\"value\":\"#036564\"},\"left\":{\"field\":\"left\"},\"line_color\":{\"value\":\"#033649\"},\"right\":{\"field\":\"right\"},\"top\":{\"field\":\"top\"}},\"id\":\"2d0dde0a-6c67-40a5-9e56-76136496dfb6\",\"type\":\"Quad\"},{\"attributes\":{},\"id\":\"7b68c7a9-a67f-440c-bd4a-db908427831a\",\"type\":\"LinearScale\"},{\"attributes\":{\"active_drag\":\"auto\",\"active_inspect\":\"auto\",\"active_scroll\":\"auto\",\"active_tap\":\"auto\",\"tools\":[{\"id\":\"7a130a1c-c920-4fbe-aefc-d6d8afd28d65\",\"type\":\"PanTool\"},{\"id\":\"8221ec21-a296-4510-bfd9-2ee2ab648650\",\"type\":\"WheelZoomTool\"},{\"id\":\"7eac9ed4-97e0-4689-95fe-07123bc1d81e\",\"type\":\"BoxZoomTool\"},{\"id\":\"bafb9832-0d6a-447f-836b-6b8209283e79\",\"type\":\"SaveTool\"},{\"id\":\"abc07385-0652-40e2-8e33-41d15f24916c\",\"type\":\"ResetTool\"},{\"id\":\"f7150d21-ce94-45a0-9eb4-ebe10f8b36ff\",\"type\":\"HelpTool\"}]},\"id\":\"02ad05a6-926b-4f1e-9e5c-ecc5c845367c\",\"type\":\"Toolbar\"},{\"attributes\":{\"callback\":null,\"column_names\":[\"left\",\"right\",\"top\"],\"data\":{\"left\":{\"__ndarray__\":\"gEpJSvePKj+4BaJ4GZ2yP2Zzz3p1lsI/7+NNOV7eyz88KuZ7I5PSP4FiJdsXN9c/xZpkOgzb2z+G6dFMgD/gP6iFcXx6keI/yiERrHTj5D/tvbDbbjXnPw9aUAtph+k/MfbvOmPZ6z9Uko9qXSvuPzuXF82rPvA/TGXn5Khn8T9dM7f8pZDyP24BhxSjufM/f89WLKDi9D+RnSZEnQv2P6Jr9luaNPc/sznGc5dd+D/EB5aLlIb5P9XVZaORr/o/5qM1u47Y+z/4cQXTiwH9PwlA1eqIKv4/Gg6lAoZT/z8WbjqNQT4AQB5VIhnA0gBAJzwKpT5nAUAvI/IwvfsBQDgK2rw7kAJAQfHBSLokA0BJ2KnUOLkDQFK/kWC3TQRAWqZ57DXiBEBjjWF4tHYFQGx0SQQzCwZAdFsxkLGfBkB9QhkcMDQHQIUpAaiuyAdAjhDpMy1dCECX99C/q/EIQJ/euEsqhglAqMWg16gaCkCwrIhjJ68KQLmTcO+lQwtAwXpYeyTYC0DKYUAHo2wMQA==\",\"dtype\":\"float64\",\"shape\":[50]},\"right\":{\"__ndarray__\":\"uAWieBmdsj9mc896dZbCP+/jTTle3ss/PCrmeyOT0j+BYiXbFzfXP8WaZDoM29s/hunRTIA/4D+ohXF8epHiP8ohEax04+Q/7b2w22415z8PWlALaYfpPzH27zpj2es/VJKPal0r7j87lxfNqz7wP0xl5+SoZ/E/XTO3/KWQ8j9uAYcUo7nzP3/PViyg4vQ/kZ0mRJ0L9j+ia/ZbmjT3P7M5xnOXXfg/xAeWi5SG+T/V1WWjka/6P+ajNbuO2Ps/+HEF04sB/T8JQNXqiCr+PxoOpQKGU/8/Fm46jUE+AEAeVSIZwNIAQCc8CqU+ZwFALyPyML37AUA4Ctq8O5ACQEHxwUi6JANASdip1Di5A0BSv5Fgt00EQFqmeew14gRAY41heLR2BUBsdEkEMwsGQHRbMZCxnwZAfUIZHDA0B0CFKQGorsgHQI4Q6TMtXQhAl/fQv6vxCECf3rhLKoYJQKjFoNeoGgpAsKyIYyevCkC5k3DvpUMLQMF6WHsk2AtAymFAB6NsDEDSSCiTIQENQA==\",\"dtype\":\"float64\",\"shape\":[50]},\"top\":{\"__ndarray__\":\"QPYow9g+BEBTw43kX0TzP1HvQdT4tO4/zMiL2Emy6z98aERjlCvkP+DTaWjCjuA//Hgg5/Z14T8fE/nVsoDdP+DTaWjCjuA/LIEd1dUa3j8TxozeVHvXP4nLitI+6d8/IzSx3XcV2D9jEPrbvUnZP3MxsuOC3tM/OYEd1dUazj/tCvzn09vQPyPnROYZENI/YTGy44Le0z8uNLHddxXIP29dZtMbT88/w3sf4eusxT/Dex/h66zFP/lXaN8x4cY/guxC2gN+uj+Nn9bipXjEPwSl1NaP5qw/66TU1o/mvD8dpdTWj+a8P7B7H+HrrLU/+wr859PbsD/rpNTWj+acP94K/OfT27A/+wr859PbsD/rpNTWj+asP2jDjeRfRJM/GTSx3XcVqD8ZNLHddxWoP2jDjeRfRJM/SMON5F9Egz9ow43kX0STPwAAAAAAAAAAAAAAAAAAAABow43kX0SDPwAAAAAAAAAAaMON5F9Egz8AAAAAAAAAAAAAAAAAAAAAAAAAAAAAAABow43kX0SDPw==\",\"dtype\":\"float64\",\"shape\":[50]}}},\"id\":\"7b283934-a90a-4f74-b470-fb5fdfbbd647\",\"type\":\"ColumnDataSource\"},{\"attributes\":{\"callback\":null},\"id\":\"06421ebb-263a-41a9-b09b-9b8ccfc3ad32\",\"type\":\"DataRange1d\"},{\"attributes\":{\"overlay\":{\"id\":\"a8841af4-da81-45e3-bc04-0a3fe7ed58d9\",\"type\":\"BoxAnnotation\"}},\"id\":\"7eac9ed4-97e0-4689-95fe-07123bc1d81e\",\"type\":\"BoxZoomTool\"},{\"attributes\":{\"callback\":null},\"id\":\"cfa880a4-0da7-427c-a9c8-3d706b83be01\",\"type\":\"DataRange1d\"},{\"attributes\":{\"dimension\":1,\"plot\":{\"id\":\"304eea47-c131-4f6b-a7d3-7b62a941a44f\",\"subtype\":\"Figure\",\"type\":\"Plot\"},\"ticker\":{\"id\":\"a1d64d6a-0251-4f11-b8ff-d371df335f8d\",\"type\":\"BasicTicker\"}},\"id\":\"f88e9a32-836f-4fdd-8a26-9bca0565a066\",\"type\":\"Grid\"},{\"attributes\":{},\"id\":\"a1d64d6a-0251-4f11-b8ff-d371df335f8d\",\"type\":\"BasicTicker\"},{\"attributes\":{},\"id\":\"f7150d21-ce94-45a0-9eb4-ebe10f8b36ff\",\"type\":\"HelpTool\"},{\"attributes\":{},\"id\":\"8221ec21-a296-4510-bfd9-2ee2ab648650\",\"type\":\"WheelZoomTool\"},{\"attributes\":{},\"id\":\"abc07385-0652-40e2-8e33-41d15f24916c\",\"type\":\"ResetTool\"},{\"attributes\":{},\"id\":\"bafb9832-0d6a-447f-836b-6b8209283e79\",\"type\":\"SaveTool\"},{\"attributes\":{\"below\":[{\"id\":\"1d9dc1b0-d405-4754-a81f-cdc70a6afcd7\",\"type\":\"LinearAxis\"}],\"left\":[{\"id\":\"fa424b1e-61e4-4ddd-b625-4ee3f6f78ed4\",\"type\":\"LinearAxis\"}],\"plot_height\":400,\"plot_width\":400,\"renderers\":[{\"id\":\"1d9dc1b0-d405-4754-a81f-cdc70a6afcd7\",\"type\":\"LinearAxis\"},{\"id\":\"3fedae22-85a4-4c3a-a56c-e4066aa81d98\",\"type\":\"Grid\"},{\"id\":\"fa424b1e-61e4-4ddd-b625-4ee3f6f78ed4\",\"type\":\"LinearAxis\"},{\"id\":\"f88e9a32-836f-4fdd-8a26-9bca0565a066\",\"type\":\"Grid\"},{\"id\":\"a8841af4-da81-45e3-bc04-0a3fe7ed58d9\",\"type\":\"BoxAnnotation\"},{\"id\":\"1aa78e8e-aa9a-41ca-82b1-bafcddc2ec86\",\"type\":\"GlyphRenderer\"}],\"title\":{\"id\":\"ce671b96-971e-4104-b16c-6f259ed82df6\",\"type\":\"Title\"},\"toolbar\":{\"id\":\"02ad05a6-926b-4f1e-9e5c-ecc5c845367c\",\"type\":\"Toolbar\"},\"toolbar_location\":null,\"x_range\":{\"id\":\"cfa880a4-0da7-427c-a9c8-3d706b83be01\",\"type\":\"DataRange1d\"},\"x_scale\":{\"id\":\"702ec279-b4d5-4538-b35c-9be55f66325b\",\"type\":\"LinearScale\"},\"y_range\":{\"id\":\"06421ebb-263a-41a9-b09b-9b8ccfc3ad32\",\"type\":\"DataRange1d\"},\"y_scale\":{\"id\":\"7b68c7a9-a67f-440c-bd4a-db908427831a\",\"type\":\"LinearScale\"}},\"id\":\"304eea47-c131-4f6b-a7d3-7b62a941a44f\",\"subtype\":\"Figure\",\"type\":\"Plot\"},{\"attributes\":{},\"id\":\"694fac50-a8d0-4a02-815a-4c2021904692\",\"type\":\"BasicTickFormatter\"},{\"attributes\":{\"bottom_units\":\"screen\",\"fill_alpha\":{\"value\":0.5},\"fill_color\":{\"value\":\"lightgrey\"},\"left_units\":\"screen\",\"level\":\"overlay\",\"line_alpha\":{\"value\":1.0},\"line_color\":{\"value\":\"black\"},\"line_dash\":[4,4],\"line_width\":{\"value\":2},\"plot\":null,\"render_mode\":\"css\",\"right_units\":\"screen\",\"top_units\":\"screen\"},\"id\":\"a8841af4-da81-45e3-bc04-0a3fe7ed58d9\",\"type\":\"BoxAnnotation\"},{\"attributes\":{},\"id\":\"7a130a1c-c920-4fbe-aefc-d6d8afd28d65\",\"type\":\"PanTool\"},{\"attributes\":{},\"id\":\"702ec279-b4d5-4538-b35c-9be55f66325b\",\"type\":\"LinearScale\"},{\"attributes\":{\"data_source\":{\"id\":\"7b283934-a90a-4f74-b470-fb5fdfbbd647\",\"type\":\"ColumnDataSource\"},\"glyph\":{\"id\":\"2d0dde0a-6c67-40a5-9e56-76136496dfb6\",\"type\":\"Quad\"},\"hover_glyph\":null,\"muted_glyph\":null,\"nonselection_glyph\":{\"id\":\"f6d7e609-2e2e-485d-9a50-036f2e80a66d\",\"type\":\"Quad\"},\"selection_glyph\":null,\"view\":{\"id\":\"e21a25d1-38ec-458d-ac4b-d10f9f928a60\",\"type\":\"CDSView\"}},\"id\":\"1aa78e8e-aa9a-41ca-82b1-bafcddc2ec86\",\"type\":\"GlyphRenderer\"},{\"attributes\":{\"axis_label\":\"Distribution\",\"formatter\":{\"id\":\"fcef1ce0-2714-4dcd-8496-0adc562efc33\",\"type\":\"BasicTickFormatter\"},\"plot\":{\"id\":\"304eea47-c131-4f6b-a7d3-7b62a941a44f\",\"subtype\":\"Figure\",\"type\":\"Plot\"},\"ticker\":{\"id\":\"a1d64d6a-0251-4f11-b8ff-d371df335f8d\",\"type\":\"BasicTicker\"}},\"id\":\"fa424b1e-61e4-4ddd-b625-4ee3f6f78ed4\",\"type\":\"LinearAxis\"},{\"attributes\":{\"source\":{\"id\":\"7b283934-a90a-4f74-b470-fb5fdfbbd647\",\"type\":\"ColumnDataSource\"}},\"id\":\"e21a25d1-38ec-458d-ac4b-d10f9f928a60\",\"type\":\"CDSView\"}],\"root_ids\":[\"304eea47-c131-4f6b-a7d3-7b62a941a44f\"]},\"title\":\"Bokeh Application\",\"version\":\"0.12.13\"}};\n",
       "  var render_items = [{\"docid\":\"92861443-2ab0-4ca6-b86e-e781bd64b4dc\",\"elementid\":\"ffab7720-4967-422e-9264-74f3d33618a2\",\"modelid\":\"304eea47-c131-4f6b-a7d3-7b62a941a44f\"}];\n",
       "  root.Bokeh.embed.embed_items_notebook(docs_json, render_items);\n",
       "\n",
       "  }\n",
       "  if (root.Bokeh !== undefined) {\n",
       "    embed_document(root);\n",
       "  } else {\n",
       "    var attempts = 0;\n",
       "    var timer = setInterval(function(root) {\n",
       "      if (root.Bokeh !== undefined) {\n",
       "        embed_document(root);\n",
       "        clearInterval(timer);\n",
       "      }\n",
       "      attempts++;\n",
       "      if (attempts > 100) {\n",
       "        console.log(\"Bokeh: ERROR: Unable to run BokehJS code because BokehJS library is missing\")\n",
       "        clearInterval(timer);\n",
       "      }\n",
       "    }, 10, root)\n",
       "  }\n",
       "})(window);"
      ],
      "application/vnd.bokehjs_exec.v0+json": ""
     },
     "metadata": {
      "application/vnd.bokehjs_exec.v0+json": {
       "id": "304eea47-c131-4f6b-a7d3-7b62a941a44f"
      }
     },
     "output_type": "display_data"
    }
   ],
   "source": [
    "mp = list(map(lambda x:abs(x[1]-x[0]),raw))\n",
    "p1 = figure(plot_width=400, plot_height=400,title = 'Asummetry in good local cases',y_axis_label = \"Distribution\",x_axis_label = \"Difference in connection strength between directions (abs)\")\n",
    "q1,q2 = np.percentile(mp,[0,100])\n",
    "\n",
    "measured = [xx for xx in mp if (xx>q1 and xx<q2)]\n",
    "hist, edges = np.histogram(measured, density=True, bins=50)\n",
    "\n",
    "p1.quad(top=hist, bottom=0, left=edges[:-1], right=edges[1:],fill_color=\"#036564\", line_color=\"#033649\")\n",
    "\n",
    "mp = list(map(lambda x:x[1],rawc))\n",
    "mp = list(filter(lambda x: (x > -9),mp))\n",
    "p3 = figure(plot_width=400, plot_height=400,title = 'Asummetry in good local cases - corrected',y_axis_label = \"Distribution\",x_axis_label = \"Opposite direction\")\n",
    "q1,q2 = np.percentile(mp,[0,100])\n",
    "\n",
    "measured = [xx for xx in mp if (xx>q1 and xx<q2)]\n",
    "hist, edges = np.histogram(measured, density=True, bins=50)\n",
    "\n",
    "p3.quad(top=hist, bottom=0, left=edges[:-1], right=edges[1:],fill_color=\"#036564\", line_color=\"#033649\")\n",
    "\n",
    "mp = list(map(lambda x:abs(x[1]-x[0]),rawc))\n",
    "mp = list(filter(lambda x: (x >-9),mp))\n",
    "p4 = figure(plot_width=400, plot_height=400,title = 'Asummetry in good local cases - corrected',y_axis_label = \"Distribution\",x_axis_label = \"Difference (abs)\")\n",
    "q1,q2 = np.percentile(mp,[0,100])\n",
    "\n",
    "measured = [xx for xx in mp if (xx>q1 and xx<q2)]\n",
    "hist, edges = np.histogram(measured, density=True, bins=50)\n",
    "\n",
    "p4.quad(top=hist, bottom=0, left=edges[:-1], right=edges[1:],fill_color=\"#036564\", line_color=\"#033649\")\n",
    "\n",
    "grid = gridplot([[p1, None],[p4, None]])\n",
    "show (grid)\n",
    "show(p1)"
   ]
  },
  {
   "cell_type": "markdown",
   "metadata": {},
   "source": [
    "# CASE 4: BAD LOCAL REGRESSOR"
   ]
  },
  {
   "cell_type": "code",
   "execution_count": 22,
   "metadata": {},
   "outputs": [],
   "source": [
    "total = 0\n",
    "sym = 0\n",
    "raw = []\n",
    "rawc = []\n",
    "for w in null:\n",
    "    ind1 = A_dic[w]\n",
    "    ind2 = A_dic[roi_rot(w)]\n",
    "    if (not A[ind1]['isSuccess']):\n",
    "        total = total + 1\n",
    "        _s1 = A[ind1]['corrected']\n",
    "        if (not A[ind2]['isSuccess']):\n",
    "            sym = sym + 1\n",
    "            s1 = logit(A[ind1]['weight'])\n",
    "            s2 = logit(A[ind2]['weight'])\n",
    "            _s2 = A[ind2]['corrected']\n",
    "            raw.append((s1,s2))\n",
    "            rawc.append((_s1,_s2))"
   ]
  },
  {
   "cell_type": "code",
   "execution_count": 23,
   "metadata": {},
   "outputs": [
    {
     "name": "stdout",
     "output_type": "stream",
     "text": [
      "Total bad-local regressor connections:27139\n",
      "Total bad-local regressor connections (percentage of all connections):84.23029174425822\n",
      "Total symmetric bad-local regressor connections:25002\n",
      "Total symmetric bad-local regressor connections (percentage of all null connections):92.12572312907623\n"
     ]
    }
   ],
   "source": [
    "print('Total bad-local regressor connections:'+str(total))\n",
    "print('Total bad-local regressor connections (percentage of all connections):'+str(total*100/32220))\n",
    "print('Total symmetric bad-local regressor connections:'+str(sym))\n",
    "print('Total symmetric bad-local regressor connections (percentage of all null connections):'+str(sym*100/total))"
   ]
  },
  {
   "cell_type": "code",
   "execution_count": 24,
   "metadata": {},
   "outputs": [
    {
     "data": {
      "text/html": [
       "\n",
       "<div class=\"bk-root\">\n",
       "    <div class=\"bk-plotdiv\" id=\"8523f5b0-8abd-4941-8a89-c0caa1d5c9f6\"></div>\n",
       "</div>"
      ]
     },
     "metadata": {},
     "output_type": "display_data"
    },
    {
     "data": {
      "application/javascript": [
       "(function(root) {\n",
       "  function embed_document(root) {\n",
       "    \n",
       "  var docs_json = {\"894a29da-7e55-4e53-b297-2197c2c8163a\":{\"roots\":{\"references\":[{\"attributes\":{\"overlay\":{\"id\":\"95740784-d783-4c29-8081-127c54e29c93\",\"type\":\"BoxAnnotation\"}},\"id\":\"62a4954c-f218-4216-a6bc-85adf40bc006\",\"type\":\"BoxZoomTool\"},{\"attributes\":{\"axis_label\":\"Difference (abs)\",\"formatter\":{\"id\":\"a8e02ef3-3cb0-47f0-9bee-199483b4f575\",\"type\":\"BasicTickFormatter\"},\"plot\":{\"id\":\"58982287-adc1-4dfd-9e76-4cb088362b81\",\"subtype\":\"Figure\",\"type\":\"Plot\"},\"ticker\":{\"id\":\"cce7a226-028a-4354-803e-2cb31dc9b5be\",\"type\":\"BasicTicker\"}},\"id\":\"1bcf25a1-9a04-4c82-9a72-e350cdc2afe7\",\"type\":\"LinearAxis\"},{\"attributes\":{\"children\":[{\"id\":\"58982287-adc1-4dfd-9e76-4cb088362b81\",\"subtype\":\"Figure\",\"type\":\"Plot\"},{\"id\":\"83eba61d-aeb9-4327-9a25-20e47bf5d192\",\"type\":\"Spacer\"}]},\"id\":\"6c9babc9-6d9e-43e9-9a02-1791ff51826e\",\"type\":\"Row\"},{\"attributes\":{\"plot\":{\"id\":\"7f9d3b6b-24ae-4e35-befe-090fa2588814\",\"subtype\":\"Figure\",\"type\":\"Plot\"},\"ticker\":{\"id\":\"41e62c5b-9e41-4df3-ba3a-aab4975c5af4\",\"type\":\"BasicTicker\"}},\"id\":\"cb2b7093-4e12-40b4-9a21-8f764fe6728b\",\"type\":\"Grid\"},{\"attributes\":{\"children\":[{\"id\":\"7f9d3b6b-24ae-4e35-befe-090fa2588814\",\"subtype\":\"Figure\",\"type\":\"Plot\"},{\"id\":\"67944bc0-bcf6-4d87-90c6-c44215bc5173\",\"type\":\"Spacer\"}]},\"id\":\"ae368bfc-4142-4e49-b2e8-680f37d01918\",\"type\":\"Row\"},{\"attributes\":{},\"id\":\"e80680a3-8325-42c5-ab16-70d20d60067a\",\"type\":\"PanTool\"},{\"attributes\":{\"axis_label\":\"Distribution\",\"formatter\":{\"id\":\"3c4f18a6-1a2e-479c-b546-fb4f22c8c29b\",\"type\":\"BasicTickFormatter\"},\"plot\":{\"id\":\"58982287-adc1-4dfd-9e76-4cb088362b81\",\"subtype\":\"Figure\",\"type\":\"Plot\"},\"ticker\":{\"id\":\"81b85e52-917e-4150-a400-7288fdab7c11\",\"type\":\"BasicTicker\"}},\"id\":\"dbebb7f7-1f29-4394-bdaa-818b9119897d\",\"type\":\"LinearAxis\"},{\"attributes\":{},\"id\":\"3c4f18a6-1a2e-479c-b546-fb4f22c8c29b\",\"type\":\"BasicTickFormatter\"},{\"attributes\":{\"plot\":{\"id\":\"58982287-adc1-4dfd-9e76-4cb088362b81\",\"subtype\":\"Figure\",\"type\":\"Plot\"},\"ticker\":{\"id\":\"cce7a226-028a-4354-803e-2cb31dc9b5be\",\"type\":\"BasicTicker\"}},\"id\":\"5fcc4dbc-3234-42f9-b92e-d0051c26e13c\",\"type\":\"Grid\"},{\"attributes\":{\"callback\":null,\"column_names\":[\"left\",\"right\",\"top\"],\"data\":{\"left\":{\"__ndarray__\":\"zvILZDT7Vj8LkjU5+7O8PyZ6bdAEhsw/oxUgAgZZ1T8zbgmcCW/cP2Fj+ZqGwuE/qQ/uZ4hN5T/xu+I0itjoPzlo1wGMY+w/gRTMzo3u7z9lYODNx7zxP4m2WrRIgvM/rQzVmslH9T/RYk+BSg33P/W4yWfL0vg/GQ9ETkyY+j89Zb40zV38P2G7OBtOI/4/hRGzAc/o/z/Usxb0J9cAQObeU2fouQFA+AmR2qicAkAKNc5NaX8DQBxgC8EpYgRALotINOpEBUBAtoWnqicGQFLhwhprCgdAZAwAjivtB0B2Nz0B7M8IQIhienSssglAmo2352yVCkCsuPRaLXgLQL7jMc7tWgxA0A5vQa49DUDiOay0biAOQPRk6ScvAw9ABpAmm+/lD0CM3TEHWGQQQBVz0EC41RBAnghvehhHEUAnng20eLgRQLAzrO3YKRJAOclKJzmbEkDCXulgmQwTQEv0h5r5fRNA1Ikm1FnvE0BdH8UNumAUQOa0Y0ca0hRAb0oCgXpDFUD436C62rQVQA==\",\"dtype\":\"float64\",\"shape\":[50]},\"right\":{\"__ndarray__\":\"C5I1OfuzvD8mem3QBIbMP6MVIAIGWdU/M24JnAlv3D9hY/mahsLhP6kP7meITeU/8bviNIrY6D85aNcBjGPsP4EUzM6N7u8/ZWDgzce88T+Jtlq0SILzP60M1ZrJR/U/0WJPgUoN9z/1uMlny9L4PxkPRE5MmPo/PWW+NM1d/D9huzgbTiP+P4URswHP6P8/1LMW9CfXAEDm3lNn6LkBQPgJkdqonAJACjXOTWl/A0AcYAvBKWIEQC6LSDTqRAVAQLaFp6onBkBS4cIaawoHQGQMAI4r7QdAdjc9AezPCECIYnp0rLIJQJqNt+dslQpArLj0Wi14C0C+4zHO7VoMQNAOb0GuPQ1A4jmstG4gDkD0ZOknLwMPQAaQJpvv5Q9AjN0xB1hkEEAVc9BAuNUQQJ4Ib3oYRxFAJ54NtHi4EUCwM6zt2CkSQDnJSic5mxJAwl7pYJkME0BL9Iea+X0TQNSJJtRZ7xNAXR/FDbpgFEDmtGNHGtIUQG9KAoF6QxVA+N+gutq0FUCBdT/0OiYWQA==\",\"dtype\":\"float64\",\"shape\":[50]},\"top\":{\"__ndarray__\":\"NCSIetLRvT9kGUJ1K7vPP5qsQnot09o/8dw3Vr/I4z9457efCG/TPzKnn/fZx8s/Y5xZ8jKx/T+VkRPti5rPP7HrQjPluNg/yGfZgsRx7z8L6EMXxE/AP0Ty/aSvhdE/9ahDXgxq4j9SeIjGHATLP4FzcbuE2dg/C+hDF8RPwD+GjqBIJhLUP/MrW9sTYNA/HtzlIqZ3yD8ts/3r95/DPzzd/REdOcI/NaFw/crbvz9zxlkYWEq8P3PGWRhYSrw/a9jmBoUOsD/OP0N/L+u1P1T1cEkVDq0/a9jmBoUOsD/Nwlr8NuGjP09+t8Ar8KY/kJ1x4alylz+UFCtqk5CdPw9f/Z+tbZY/lBQrapOQnT+MJrhYwFSRPxJZzqWegYo/ENzlIqZ3eD8Q3OUipneIPw7iFB21Y3Q/ENzlIqZ3aD8L6EMXxE+APw7iFB21Y3Q/C+hDF8RPUD8L6EMXxE9QPwvoQxfET2A/C+hDF8RPYD8L6EMXxE9QPwvoQxfET2A/AAAAAAAAAAAL6EMXxE9QPw==\",\"dtype\":\"float64\",\"shape\":[50]}}},\"id\":\"5b519f0c-081e-4d97-b7fe-fc63eb8e596a\",\"type\":\"ColumnDataSource\"},{\"attributes\":{\"toolbar\":{\"id\":\"ef3e3f59-5a0e-4aa7-81ad-13d4c5ed1a70\",\"type\":\"ProxyToolbar\"},\"toolbar_location\":\"above\"},\"id\":\"49f2bc50-8fab-4153-a114-f513dba3d2f3\",\"type\":\"ToolbarBox\"},{\"attributes\":{\"children\":[{\"id\":\"ae368bfc-4142-4e49-b2e8-680f37d01918\",\"type\":\"Row\"},{\"id\":\"6c9babc9-6d9e-43e9-9a02-1791ff51826e\",\"type\":\"Row\"}]},\"id\":\"c315ec0b-bdd4-4371-a07c-29ccc671e3b1\",\"type\":\"Column\"},{\"attributes\":{},\"id\":\"cd74435b-f41f-43b3-a15f-c99bfee47193\",\"type\":\"SaveTool\"},{\"attributes\":{\"bottom_units\":\"screen\",\"fill_alpha\":{\"value\":0.5},\"fill_color\":{\"value\":\"lightgrey\"},\"left_units\":\"screen\",\"level\":\"overlay\",\"line_alpha\":{\"value\":1.0},\"line_color\":{\"value\":\"black\"},\"line_dash\":[4,4],\"line_width\":{\"value\":2},\"plot\":null,\"render_mode\":\"css\",\"right_units\":\"screen\",\"top_units\":\"screen\"},\"id\":\"b6889af4-8318-4ca5-91db-004f27c167ff\",\"type\":\"BoxAnnotation\"},{\"attributes\":{\"height\":400,\"width\":400},\"id\":\"83eba61d-aeb9-4327-9a25-20e47bf5d192\",\"type\":\"Spacer\"},{\"attributes\":{},\"id\":\"63c9f30c-dd3f-42ed-a3b1-a81037f14fbb\",\"type\":\"BasicTicker\"},{\"attributes\":{\"tools\":[{\"id\":\"e80680a3-8325-42c5-ab16-70d20d60067a\",\"type\":\"PanTool\"},{\"id\":\"51c20177-497e-49d2-b1b9-faa075364049\",\"type\":\"WheelZoomTool\"},{\"id\":\"62a4954c-f218-4216-a6bc-85adf40bc006\",\"type\":\"BoxZoomTool\"},{\"id\":\"cd74435b-f41f-43b3-a15f-c99bfee47193\",\"type\":\"SaveTool\"},{\"id\":\"f78afa07-b862-4332-af38-1f63b1f2fd4c\",\"type\":\"ResetTool\"},{\"id\":\"5a2def54-8e17-4cc6-afd6-36330f4c67f6\",\"type\":\"HelpTool\"},{\"id\":\"0dd0bca6-29f9-409d-b288-d08a58570151\",\"type\":\"PanTool\"},{\"id\":\"ffc11160-8fde-4bf9-9ba1-c0d075da907b\",\"type\":\"WheelZoomTool\"},{\"id\":\"b391fb30-7a14-441b-8683-e523fbc672b8\",\"type\":\"BoxZoomTool\"},{\"id\":\"cada8d3e-a69b-40e4-b5a9-f5e04f3e77f0\",\"type\":\"SaveTool\"},{\"id\":\"17b948dc-fa9a-4843-963d-67c6be6bfa25\",\"type\":\"ResetTool\"},{\"id\":\"73e6ac5f-e103-4015-aef3-c6130a1f76d5\",\"type\":\"HelpTool\"}]},\"id\":\"ef3e3f59-5a0e-4aa7-81ad-13d4c5ed1a70\",\"type\":\"ProxyToolbar\"},{\"attributes\":{},\"id\":\"cada8d3e-a69b-40e4-b5a9-f5e04f3e77f0\",\"type\":\"SaveTool\"},{\"attributes\":{\"dimension\":1,\"plot\":{\"id\":\"7f9d3b6b-24ae-4e35-befe-090fa2588814\",\"subtype\":\"Figure\",\"type\":\"Plot\"},\"ticker\":{\"id\":\"63c9f30c-dd3f-42ed-a3b1-a81037f14fbb\",\"type\":\"BasicTicker\"}},\"id\":\"4cb5cc0a-aa3c-4f34-9ea9-93ddb40871b1\",\"type\":\"Grid\"},{\"attributes\":{\"children\":[{\"id\":\"49f2bc50-8fab-4153-a114-f513dba3d2f3\",\"type\":\"ToolbarBox\"},{\"id\":\"c315ec0b-bdd4-4371-a07c-29ccc671e3b1\",\"type\":\"Column\"}]},\"id\":\"b6bc52ca-c4c9-4342-a354-aedba1b4f21e\",\"type\":\"Column\"},{\"attributes\":{\"overlay\":{\"id\":\"b6889af4-8318-4ca5-91db-004f27c167ff\",\"type\":\"BoxAnnotation\"}},\"id\":\"b391fb30-7a14-441b-8683-e523fbc672b8\",\"type\":\"BoxZoomTool\"},{\"attributes\":{},\"id\":\"51d7d74d-cb91-41e0-91d2-e9911cbf35af\",\"type\":\"LinearScale\"},{\"attributes\":{\"plot\":null,\"text\":\"Asymmetry in bad local regressor cases\"},\"id\":\"9177871c-58f7-42c5-b55d-825f56fab987\",\"type\":\"Title\"},{\"attributes\":{\"height\":400,\"width\":400},\"id\":\"67944bc0-bcf6-4d87-90c6-c44215bc5173\",\"type\":\"Spacer\"},{\"attributes\":{},\"id\":\"8b360b62-43b6-47f2-8705-58a7eaed55c2\",\"type\":\"LinearScale\"},{\"attributes\":{\"bottom\":{\"value\":0},\"fill_alpha\":{\"value\":0.1},\"fill_color\":{\"value\":\"#1f77b4\"},\"left\":{\"field\":\"left\"},\"line_alpha\":{\"value\":0.1},\"line_color\":{\"value\":\"#1f77b4\"},\"right\":{\"field\":\"right\"},\"top\":{\"field\":\"top\"}},\"id\":\"de991e13-b484-40ef-a117-c0a48e6241b4\",\"type\":\"Quad\"},{\"attributes\":{\"axis_label\":\"Distribution\",\"formatter\":{\"id\":\"91855a07-1073-4243-9b6c-c21cc16c64a1\",\"type\":\"BasicTickFormatter\"},\"plot\":{\"id\":\"7f9d3b6b-24ae-4e35-befe-090fa2588814\",\"subtype\":\"Figure\",\"type\":\"Plot\"},\"ticker\":{\"id\":\"63c9f30c-dd3f-42ed-a3b1-a81037f14fbb\",\"type\":\"BasicTicker\"}},\"id\":\"9b55a7c1-f7d0-45ca-a1b4-68d1d6af6069\",\"type\":\"LinearAxis\"},{\"attributes\":{\"bottom\":{\"value\":0},\"fill_color\":{\"value\":\"#036564\"},\"left\":{\"field\":\"left\"},\"line_color\":{\"value\":\"#033649\"},\"right\":{\"field\":\"right\"},\"top\":{\"field\":\"top\"}},\"id\":\"a4d1d822-96d8-4c13-b024-eb79f4cce1d2\",\"type\":\"Quad\"},{\"attributes\":{},\"id\":\"73e6ac5f-e103-4015-aef3-c6130a1f76d5\",\"type\":\"HelpTool\"},{\"attributes\":{\"axis_label\":\"Difference in connection strength between directions (abs)\",\"formatter\":{\"id\":\"44902d39-79e7-4062-aa30-9bbd71b68a47\",\"type\":\"BasicTickFormatter\"},\"plot\":{\"id\":\"7f9d3b6b-24ae-4e35-befe-090fa2588814\",\"subtype\":\"Figure\",\"type\":\"Plot\"},\"ticker\":{\"id\":\"41e62c5b-9e41-4df3-ba3a-aab4975c5af4\",\"type\":\"BasicTicker\"}},\"id\":\"bf35e3a1-1879-4140-a565-e37b541e7dd3\",\"type\":\"LinearAxis\"},{\"attributes\":{},\"id\":\"ffc11160-8fde-4bf9-9ba1-c0d075da907b\",\"type\":\"WheelZoomTool\"},{\"attributes\":{\"source\":{\"id\":\"5fb2ec1c-7db8-4ec3-89c9-7520526246af\",\"type\":\"ColumnDataSource\"}},\"id\":\"3ccff5cd-0ff3-4502-a942-b550948307f0\",\"type\":\"CDSView\"},{\"attributes\":{\"active_drag\":\"auto\",\"active_inspect\":\"auto\",\"active_scroll\":\"auto\",\"active_tap\":\"auto\",\"tools\":[{\"id\":\"e80680a3-8325-42c5-ab16-70d20d60067a\",\"type\":\"PanTool\"},{\"id\":\"51c20177-497e-49d2-b1b9-faa075364049\",\"type\":\"WheelZoomTool\"},{\"id\":\"62a4954c-f218-4216-a6bc-85adf40bc006\",\"type\":\"BoxZoomTool\"},{\"id\":\"cd74435b-f41f-43b3-a15f-c99bfee47193\",\"type\":\"SaveTool\"},{\"id\":\"f78afa07-b862-4332-af38-1f63b1f2fd4c\",\"type\":\"ResetTool\"},{\"id\":\"5a2def54-8e17-4cc6-afd6-36330f4c67f6\",\"type\":\"HelpTool\"}]},\"id\":\"26eed67f-99c6-4cdf-ac95-4b89ed059401\",\"type\":\"Toolbar\"},{\"attributes\":{\"bottom\":{\"value\":0},\"fill_alpha\":{\"value\":0.1},\"fill_color\":{\"value\":\"#1f77b4\"},\"left\":{\"field\":\"left\"},\"line_alpha\":{\"value\":0.1},\"line_color\":{\"value\":\"#1f77b4\"},\"right\":{\"field\":\"right\"},\"top\":{\"field\":\"top\"}},\"id\":\"11d669a6-0195-4263-94e3-a55236458913\",\"type\":\"Quad\"},{\"attributes\":{},\"id\":\"f4fb493b-0638-4ee2-be6a-53c182090b5d\",\"type\":\"LinearScale\"},{\"attributes\":{\"callback\":null},\"id\":\"1bc93b97-2dea-4c8f-91c6-3c0e3a5c532b\",\"type\":\"DataRange1d\"},{\"attributes\":{},\"id\":\"0dd0bca6-29f9-409d-b288-d08a58570151\",\"type\":\"PanTool\"},{\"attributes\":{},\"id\":\"17b948dc-fa9a-4843-963d-67c6be6bfa25\",\"type\":\"ResetTool\"},{\"attributes\":{},\"id\":\"a8e02ef3-3cb0-47f0-9bee-199483b4f575\",\"type\":\"BasicTickFormatter\"},{\"attributes\":{\"bottom\":{\"value\":0},\"fill_color\":{\"value\":\"#036564\"},\"left\":{\"field\":\"left\"},\"line_color\":{\"value\":\"#033649\"},\"right\":{\"field\":\"right\"},\"top\":{\"field\":\"top\"}},\"id\":\"656c5820-1aff-4505-8f85-fc91f6f1ea73\",\"type\":\"Quad\"},{\"attributes\":{\"callback\":null},\"id\":\"76ed9191-78bc-4b02-8f34-4df3dd61a136\",\"type\":\"DataRange1d\"},{\"attributes\":{},\"id\":\"51c20177-497e-49d2-b1b9-faa075364049\",\"type\":\"WheelZoomTool\"},{\"attributes\":{\"dimension\":1,\"plot\":{\"id\":\"58982287-adc1-4dfd-9e76-4cb088362b81\",\"subtype\":\"Figure\",\"type\":\"Plot\"},\"ticker\":{\"id\":\"81b85e52-917e-4150-a400-7288fdab7c11\",\"type\":\"BasicTicker\"}},\"id\":\"3ddda056-40a3-4cd2-928c-69e9fb44c306\",\"type\":\"Grid\"},{\"attributes\":{},\"id\":\"91855a07-1073-4243-9b6c-c21cc16c64a1\",\"type\":\"BasicTickFormatter\"},{\"attributes\":{\"data_source\":{\"id\":\"5fb2ec1c-7db8-4ec3-89c9-7520526246af\",\"type\":\"ColumnDataSource\"},\"glyph\":{\"id\":\"656c5820-1aff-4505-8f85-fc91f6f1ea73\",\"type\":\"Quad\"},\"hover_glyph\":null,\"muted_glyph\":null,\"nonselection_glyph\":{\"id\":\"11d669a6-0195-4263-94e3-a55236458913\",\"type\":\"Quad\"},\"selection_glyph\":null,\"view\":{\"id\":\"3ccff5cd-0ff3-4502-a942-b550948307f0\",\"type\":\"CDSView\"}},\"id\":\"bdd712ee-0a1b-47ca-ba09-05e43a3163f0\",\"type\":\"GlyphRenderer\"},{\"attributes\":{\"callback\":null},\"id\":\"dcd99495-a04b-4a66-aa1d-b4786b893c47\",\"type\":\"DataRange1d\"},{\"attributes\":{\"plot\":null,\"text\":\"Asummetry in good local cases - corrected\"},\"id\":\"d2cb0de4-8d6c-4098-9525-f9046850a05c\",\"type\":\"Title\"},{\"attributes\":{},\"id\":\"f78afa07-b862-4332-af38-1f63b1f2fd4c\",\"type\":\"ResetTool\"},{\"attributes\":{},\"id\":\"eec367eb-88a3-4f9c-9fd2-50ec1fde9b47\",\"type\":\"LinearScale\"},{\"attributes\":{\"callback\":null,\"column_names\":[\"left\",\"right\",\"top\"],\"data\":{\"left\":{\"__ndarray__\":\"ALyPwqH2bz+CnkBrnEnGPwp/uyevCdY/alfrDEh34D9O7/iFuOnlPzKHBv8oXOs/jA8KvExn8D9+25D4hCDzP3CnFzW92fU/YnOecfWS+D9UPyWuLUz7P0cLrOplBf4/nWuZE09fAECW0dwx67sBQI83IFCHGANAiJ1jbiN1BECBA6eMv9EFQHpp6qpbLgdAc88tyfeKCEBsNXHnk+cJQGWbtAUwRAtAXwH4I8ygDEBYZztCaP0NQFHNfmAEWg9AphlhP1BbEECizIJOngkRQJ5/pF3stxFAmjLGbDpmEkCY5ed7iBQTQJSYCYvWwhNAkEsrmiRxFECM/kypch8VQIqxbrjAzRVAhmSQxw58FkCCF7LWXCoXQIDK0+Wq2BdAfH319PiGGEB4MBcERzUZQHTjOBOV4xlAcpZaIuORGkBuSXwxMUAbQGr8nUB/7htAaK+/T82cHEBkYuFeG0sdQGAVA25p+R1AXMgkfbenHkBae0aMBVYfQCsXtM0pAiBAqvBE1VBZIEAoytXcd7AgQA==\",\"dtype\":\"float64\",\"shape\":[50]},\"right\":{\"__ndarray__\":\"gp5Aa5xJxj8Kf7snrwnWP2pX6wxId+A/Tu/4hbjp5T8yhwb/KFzrP4wPCrxMZ/A/ftuQ+IQg8z9wpxc1vdn1P2JznnH1kvg/VD8lri1M+z9HC6zqZQX+P51rmRNPXwBAltHcMeu7AUCPNyBQhxgDQIidY24jdQRAgQOnjL/RBUB6aeqqWy4HQHPPLcn3ighAbDVx55PnCUBlm7QFMEQLQF8B+CPMoAxAWGc7Qmj9DUBRzX5gBFoPQKYZYT9QWxBAosyCTp4JEUCef6Rd7LcRQJoyxmw6ZhJAmOXne4gUE0CUmAmL1sITQJBLK5okcRRAjP5MqXIfFUCKsW64wM0VQIZkkMcOfBZAghey1lwqF0CAytPlqtgXQHx99fT4hhhAeDAXBEc1GUB04zgTleMZQHKWWiLjkRpAbkl8MTFAG0Bq/J1Af+4bQGivv0/NnBxAZGLhXhtLHUBgFQNuafkdQFzIJH23px5AWntGjAVWH0ArF7TNKQIgQKrwRNVQWSBAKMrV3HewIECmo2bkngchQA==\",\"dtype\":\"float64\",\"shape\":[50]},\"top\":{\"__ndarray__\":\"LJPsqM4Q2T9bRQfPbQvRP/yVNlfKDtY/0piABcYM0z916a+NIhDIP2vpr40iEMg/F+9D6hkMwj+jm8qzwQqwP6ObyrPBCrA/AJY2V8oOxj+dm8qzwQrAP52byrPBCpA/XZCi+tISvD+jm8qzwQqgP3Xpr40iEKg/AAAAAAAAAACjm8qzwQqQP6ObyrPBCpA/o5vKs8EKoD8AAAAAAAAAAAAAAAAAAAAAAAAAAAAAAACjm8qzwQqQPwAAAAAAAAAAAAAAAAAAAACvm8qzwQqQPwAAAAAAAAAAAAAAAAAAAACvm8qzwQqQPwAAAAAAAAAAr5vKs8EKoD8/6a+NIhCoP6+byrPBCqA/Je9D6hkMwj8/6a+NIhCoP6+byrPBCsA/humvjSIQuD+G6a+NIhCoP/DuQ+oZDMI/mkK9IHINxD+vm8qzwQrAPz/pr40iEMg/cZCi+tISzD9xkKL60hLMP+CYgAXGDNM/sDwpxHoRyj8l70PqGQzCP9CVNlfKDtY/t+Zl3yYS2z/gmIAFxgzTPw==\",\"dtype\":\"float64\",\"shape\":[50]}}},\"id\":\"5fb2ec1c-7db8-4ec3-89c9-7520526246af\",\"type\":\"ColumnDataSource\"},{\"attributes\":{\"below\":[{\"id\":\"1bcf25a1-9a04-4c82-9a72-e350cdc2afe7\",\"type\":\"LinearAxis\"}],\"left\":[{\"id\":\"dbebb7f7-1f29-4394-bdaa-818b9119897d\",\"type\":\"LinearAxis\"}],\"plot_height\":400,\"plot_width\":400,\"renderers\":[{\"id\":\"1bcf25a1-9a04-4c82-9a72-e350cdc2afe7\",\"type\":\"LinearAxis\"},{\"id\":\"5fcc4dbc-3234-42f9-b92e-d0051c26e13c\",\"type\":\"Grid\"},{\"id\":\"dbebb7f7-1f29-4394-bdaa-818b9119897d\",\"type\":\"LinearAxis\"},{\"id\":\"3ddda056-40a3-4cd2-928c-69e9fb44c306\",\"type\":\"Grid\"},{\"id\":\"b6889af4-8318-4ca5-91db-004f27c167ff\",\"type\":\"BoxAnnotation\"},{\"id\":\"bdd712ee-0a1b-47ca-ba09-05e43a3163f0\",\"type\":\"GlyphRenderer\"}],\"title\":{\"id\":\"d2cb0de4-8d6c-4098-9525-f9046850a05c\",\"type\":\"Title\"},\"toolbar\":{\"id\":\"e16b8fbc-a834-4ae7-92b6-4cb9560bd619\",\"type\":\"Toolbar\"},\"toolbar_location\":null,\"x_range\":{\"id\":\"49040932-0ca1-4045-bd9e-519a8e2aa7fa\",\"type\":\"DataRange1d\"},\"x_scale\":{\"id\":\"eec367eb-88a3-4f9c-9fd2-50ec1fde9b47\",\"type\":\"LinearScale\"},\"y_range\":{\"id\":\"76ed9191-78bc-4b02-8f34-4df3dd61a136\",\"type\":\"DataRange1d\"},\"y_scale\":{\"id\":\"f4fb493b-0638-4ee2-be6a-53c182090b5d\",\"type\":\"LinearScale\"}},\"id\":\"58982287-adc1-4dfd-9e76-4cb088362b81\",\"subtype\":\"Figure\",\"type\":\"Plot\"},{\"attributes\":{},\"id\":\"5a2def54-8e17-4cc6-afd6-36330f4c67f6\",\"type\":\"HelpTool\"},{\"attributes\":{\"data_source\":{\"id\":\"5b519f0c-081e-4d97-b7fe-fc63eb8e596a\",\"type\":\"ColumnDataSource\"},\"glyph\":{\"id\":\"a4d1d822-96d8-4c13-b024-eb79f4cce1d2\",\"type\":\"Quad\"},\"hover_glyph\":null,\"muted_glyph\":null,\"nonselection_glyph\":{\"id\":\"de991e13-b484-40ef-a117-c0a48e6241b4\",\"type\":\"Quad\"},\"selection_glyph\":null,\"view\":{\"id\":\"2e2dc6f2-30d9-4baa-b543-16a087ee6783\",\"type\":\"CDSView\"}},\"id\":\"2478d98c-94a6-4e33-a4be-672bab755f30\",\"type\":\"GlyphRenderer\"},{\"attributes\":{\"below\":[{\"id\":\"bf35e3a1-1879-4140-a565-e37b541e7dd3\",\"type\":\"LinearAxis\"}],\"left\":[{\"id\":\"9b55a7c1-f7d0-45ca-a1b4-68d1d6af6069\",\"type\":\"LinearAxis\"}],\"plot_height\":400,\"plot_width\":400,\"renderers\":[{\"id\":\"bf35e3a1-1879-4140-a565-e37b541e7dd3\",\"type\":\"LinearAxis\"},{\"id\":\"cb2b7093-4e12-40b4-9a21-8f764fe6728b\",\"type\":\"Grid\"},{\"id\":\"9b55a7c1-f7d0-45ca-a1b4-68d1d6af6069\",\"type\":\"LinearAxis\"},{\"id\":\"4cb5cc0a-aa3c-4f34-9ea9-93ddb40871b1\",\"type\":\"Grid\"},{\"id\":\"95740784-d783-4c29-8081-127c54e29c93\",\"type\":\"BoxAnnotation\"},{\"id\":\"2478d98c-94a6-4e33-a4be-672bab755f30\",\"type\":\"GlyphRenderer\"}],\"title\":{\"id\":\"9177871c-58f7-42c5-b55d-825f56fab987\",\"type\":\"Title\"},\"toolbar\":{\"id\":\"26eed67f-99c6-4cdf-ac95-4b89ed059401\",\"type\":\"Toolbar\"},\"toolbar_location\":null,\"x_range\":{\"id\":\"dcd99495-a04b-4a66-aa1d-b4786b893c47\",\"type\":\"DataRange1d\"},\"x_scale\":{\"id\":\"8b360b62-43b6-47f2-8705-58a7eaed55c2\",\"type\":\"LinearScale\"},\"y_range\":{\"id\":\"1bc93b97-2dea-4c8f-91c6-3c0e3a5c532b\",\"type\":\"DataRange1d\"},\"y_scale\":{\"id\":\"51d7d74d-cb91-41e0-91d2-e9911cbf35af\",\"type\":\"LinearScale\"}},\"id\":\"7f9d3b6b-24ae-4e35-befe-090fa2588814\",\"subtype\":\"Figure\",\"type\":\"Plot\"},{\"attributes\":{},\"id\":\"cce7a226-028a-4354-803e-2cb31dc9b5be\",\"type\":\"BasicTicker\"},{\"attributes\":{\"bottom_units\":\"screen\",\"fill_alpha\":{\"value\":0.5},\"fill_color\":{\"value\":\"lightgrey\"},\"left_units\":\"screen\",\"level\":\"overlay\",\"line_alpha\":{\"value\":1.0},\"line_color\":{\"value\":\"black\"},\"line_dash\":[4,4],\"line_width\":{\"value\":2},\"plot\":null,\"render_mode\":\"css\",\"right_units\":\"screen\",\"top_units\":\"screen\"},\"id\":\"95740784-d783-4c29-8081-127c54e29c93\",\"type\":\"BoxAnnotation\"},{\"attributes\":{\"callback\":null},\"id\":\"49040932-0ca1-4045-bd9e-519a8e2aa7fa\",\"type\":\"DataRange1d\"},{\"attributes\":{},\"id\":\"41e62c5b-9e41-4df3-ba3a-aab4975c5af4\",\"type\":\"BasicTicker\"},{\"attributes\":{\"source\":{\"id\":\"5b519f0c-081e-4d97-b7fe-fc63eb8e596a\",\"type\":\"ColumnDataSource\"}},\"id\":\"2e2dc6f2-30d9-4baa-b543-16a087ee6783\",\"type\":\"CDSView\"},{\"attributes\":{\"active_drag\":\"auto\",\"active_inspect\":\"auto\",\"active_scroll\":\"auto\",\"active_tap\":\"auto\",\"tools\":[{\"id\":\"0dd0bca6-29f9-409d-b288-d08a58570151\",\"type\":\"PanTool\"},{\"id\":\"ffc11160-8fde-4bf9-9ba1-c0d075da907b\",\"type\":\"WheelZoomTool\"},{\"id\":\"b391fb30-7a14-441b-8683-e523fbc672b8\",\"type\":\"BoxZoomTool\"},{\"id\":\"cada8d3e-a69b-40e4-b5a9-f5e04f3e77f0\",\"type\":\"SaveTool\"},{\"id\":\"17b948dc-fa9a-4843-963d-67c6be6bfa25\",\"type\":\"ResetTool\"},{\"id\":\"73e6ac5f-e103-4015-aef3-c6130a1f76d5\",\"type\":\"HelpTool\"}]},\"id\":\"e16b8fbc-a834-4ae7-92b6-4cb9560bd619\",\"type\":\"Toolbar\"},{\"attributes\":{},\"id\":\"81b85e52-917e-4150-a400-7288fdab7c11\",\"type\":\"BasicTicker\"},{\"attributes\":{},\"id\":\"44902d39-79e7-4062-aa30-9bbd71b68a47\",\"type\":\"BasicTickFormatter\"}],\"root_ids\":[\"b6bc52ca-c4c9-4342-a354-aedba1b4f21e\"]},\"title\":\"Bokeh Application\",\"version\":\"0.12.13\"}};\n",
       "  var render_items = [{\"docid\":\"894a29da-7e55-4e53-b297-2197c2c8163a\",\"elementid\":\"8523f5b0-8abd-4941-8a89-c0caa1d5c9f6\",\"modelid\":\"b6bc52ca-c4c9-4342-a354-aedba1b4f21e\"}];\n",
       "  root.Bokeh.embed.embed_items_notebook(docs_json, render_items);\n",
       "\n",
       "  }\n",
       "  if (root.Bokeh !== undefined) {\n",
       "    embed_document(root);\n",
       "  } else {\n",
       "    var attempts = 0;\n",
       "    var timer = setInterval(function(root) {\n",
       "      if (root.Bokeh !== undefined) {\n",
       "        embed_document(root);\n",
       "        clearInterval(timer);\n",
       "      }\n",
       "      attempts++;\n",
       "      if (attempts > 100) {\n",
       "        console.log(\"Bokeh: ERROR: Unable to run BokehJS code because BokehJS library is missing\")\n",
       "        clearInterval(timer);\n",
       "      }\n",
       "    }, 10, root)\n",
       "  }\n",
       "})(window);"
      ],
      "application/vnd.bokehjs_exec.v0+json": ""
     },
     "metadata": {
      "application/vnd.bokehjs_exec.v0+json": {
       "id": "b6bc52ca-c4c9-4342-a354-aedba1b4f21e"
      }
     },
     "output_type": "display_data"
    }
   ],
   "source": [
    "mp = list(map(lambda x:abs(x[1]-x[0]),raw))\n",
    "p1 = figure(plot_width=400, plot_height=400,title = 'Asymmetry in bad local regressor cases',y_axis_label = \"Distribution\",x_axis_label = \"Difference in connection strength between directions (abs)\")\n",
    "q1,q2 = np.percentile(mp,[0,100])\n",
    "\n",
    "measured = [xx for xx in mp if (xx>q1 and xx<q2)]\n",
    "hist, edges = np.histogram(measured, density=True, bins=50)\n",
    "\n",
    "p1.quad(top=hist, bottom=0, left=edges[:-1], right=edges[1:],fill_color=\"#036564\", line_color=\"#033649\")\n",
    "mp = list(map(lambda x:x[1],rawc))\n",
    "mp = list(filter(lambda x: (x > -9),mp))\n",
    "p3 = figure(plot_width=400, plot_height=400,title = 'Asummetry in good local cases - corrected',y_axis_label = \"Distribution\",x_axis_label = \"Opposite direction\")\n",
    "q1,q2 = np.percentile(mp,[0,100])\n",
    "\n",
    "measured = [xx for xx in mp if (xx>q1 and xx<q2)]\n",
    "hist, edges = np.histogram(measured, density=True, bins=50)\n",
    "\n",
    "p3.quad(top=hist, bottom=0, left=edges[:-1], right=edges[1:],fill_color=\"#036564\", line_color=\"#033649\")\n",
    "\n",
    "mp = list(map(lambda x:abs(x[1]-x[0]),rawc))\n",
    "mp = list(filter(lambda x: (x >-9),mp))\n",
    "p4 = figure(plot_width=400, plot_height=400,title = 'Asummetry in good local cases - corrected',y_axis_label = \"Distribution\",x_axis_label = \"Difference (abs)\")\n",
    "q1,q2 = np.percentile(mp,[0,100])\n",
    "\n",
    "measured = [xx for xx in mp if (xx>q1 and xx<q2)]\n",
    "hist, edges = np.histogram(measured, density=True, bins=50)\n",
    "\n",
    "p4.quad(top=hist, bottom=0, left=edges[:-1], right=edges[1:],fill_color=\"#036564\", line_color=\"#033649\")\n",
    "\n",
    "grid = gridplot([[p1, None],[p4, None]])\n",
    "show(grid)"
   ]
  },
  {
   "cell_type": "code",
   "execution_count": null,
   "metadata": {},
   "outputs": [],
   "source": []
  }
 ],
 "metadata": {
  "kernelspec": {
   "display_name": "Python 3",
   "language": "python",
   "name": "python3"
  },
  "language_info": {
   "codemirror_mode": {
    "name": "ipython",
    "version": 3
   },
   "file_extension": ".py",
   "mimetype": "text/x-python",
   "name": "python",
   "nbconvert_exporter": "python",
   "pygments_lexer": "ipython3",
   "version": "3.6.4"
  }
 },
 "nbformat": 4,
 "nbformat_minor": 2
}
