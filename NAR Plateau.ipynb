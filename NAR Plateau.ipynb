{
 "cells": [
  {
   "cell_type": "markdown",
   "metadata": {},
   "source": [
    "# NAR Plateau\n",
    "In this notebook we investigate the reason behind wide plateau in the NAR density plot"
   ]
  },
  {
   "cell_type": "code",
   "execution_count": 1,
   "metadata": {},
   "outputs": [],
   "source": [
    "# Environmental set up\n",
    "from utils import *\n",
    "import matplotlib.pyplot as plt\n",
    "import pickle as pk\n",
    "%matplotlib inline"
   ]
  },
  {
   "cell_type": "code",
   "execution_count": 4,
   "metadata": {},
   "outputs": [],
   "source": [
    "d,a,t,n = basic_results('192273')"
   ]
  },
  {
   "cell_type": "code",
   "execution_count": 49,
   "metadata": {},
   "outputs": [
    {
     "name": "stdout",
     "output_type": "stream",
     "text": [
      "5131\n"
     ]
    }
   ],
   "source": [
    "his = n[0]\n",
    "a = []\n",
    "q = 0\n",
    "for i in range(1,len(d)):\n",
    "    cur = n[i]\n",
    "    t = cur-his\n",
    "    ind = num.argwhere(t==1)\n",
    "#     tmp = (cur + his)%2\n",
    "#     ind = num.argwhere(tmp>0)\n",
    "#     if (len(ind) ==0):continue\n",
    "    for piv in ind:\n",
    "        if(piv[0]==piv[1]):continue\n",
    "        if (his[piv[1],piv[0]]>0):\n",
    "            a.append(1)\n",
    "            q = q + 1\n",
    "        else:\n",
    "            a.append(-1)\n",
    "            q = q + 1\n",
    "    his = cur\n",
    "\n",
    "print(q)"
   ]
  },
  {
   "cell_type": "code",
   "execution_count": 50,
   "metadata": {},
   "outputs": [],
   "source": [
    "b= num.cumsum(a);"
   ]
  },
  {
   "cell_type": "code",
   "execution_count": 51,
   "metadata": {},
   "outputs": [
    {
     "data": {
      "text/plain": [
       "[<matplotlib.lines.Line2D at 0x105b5e278>]"
      ]
     },
     "execution_count": 51,
     "metadata": {},
     "output_type": "execute_result"
    },
    {
     "data": {
      "image/png": "[encoded data removed]",
      "text/plain": [
       "<matplotlib.figure.Figure at 0x122ed20b8>"
      ]
     },
     "metadata": {},
     "output_type": "display_data"
    }
   ],
   "source": [
    "plt.plot(b)"
   ]
  },
  {
   "cell_type": "code",
   "execution_count": null,
   "metadata": {},
   "outputs": [],
   "source": []
  }
 ],
 "metadata": {
  "kernelspec": {
   "display_name": "Python 3",
   "language": "python",
   "name": "python3"
  },
  "language_info": {
   "codemirror_mode": {
    "name": "ipython",
    "version": 3
   },
   "file_extension": ".py",
   "mimetype": "text/x-python",
   "name": "python",
   "nbconvert_exporter": "python",
   "pygments_lexer": "ipython3",
   "version": "3.6.2"
  }
 },
 "nbformat": 4,
 "nbformat_minor": 2
}
