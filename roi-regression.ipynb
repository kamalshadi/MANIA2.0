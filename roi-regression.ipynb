{
 "cells": [
  {
   "cell_type": "markdown",
   "metadata": {},
   "source": [
    "# Source/Target Specific Global Regressors"
   ]
  },
  {
   "cell_type": "code",
   "execution_count": 1,
   "metadata": {},
   "outputs": [
    {
     "data": {
      "text/html": [
       "\n",
       "    <div class=\"bk-root\">\n",
       "        <a href=\"https://bokeh.pydata.org\" target=\"_blank\" class=\"bk-logo bk-logo-small bk-logo-notebook\"></a>\n",
       "        <span id=\"6694c285-66b2-4705-a6ab-ed3aee372720\">Loading BokehJS ...</span>\n",
       "    </div>"
      ]
     },
     "metadata": {},
     "output_type": "display_data"
    },
    {
     "data": {
      "application/javascript": [
       "\n",
       "(function(root) {\n",
       "  function now() {\n",
       "    return new Date();\n",
       "  }\n",
       "\n",
       "  var force = true;\n",
       "\n",
       "  if (typeof (root._bokeh_onload_callbacks) === \"undefined\" || force === true) {\n",
       "    root._bokeh_onload_callbacks = [];\n",
       "    root._bokeh_is_loading = undefined;\n",
       "  }\n",
       "\n",
       "  var JS_MIME_TYPE = 'application/javascript';\n",
       "  var HTML_MIME_TYPE = 'text/html';\n",
       "  var EXEC_MIME_TYPE = 'application/vnd.bokehjs_exec.v0+json';\n",
       "  var CLASS_NAME = 'output_bokeh rendered_html';\n",
       "\n",
       "  /**\n",
       "   * Render data to the DOM node\n",
       "   */\n",
       "  function render(props, node) {\n",
       "    var script = document.createElement(\"script\");\n",
       "    node.appendChild(script);\n",
       "  }\n",
       "\n",
       "  /**\n",
       "   * Handle when an output is cleared or removed\n",
       "   */\n",
       "  function handleClearOutput(event, handle) {\n",
       "    var cell = handle.cell;\n",
       "\n",
       "    var id = cell.output_area._bokeh_element_id;\n",
       "    var server_id = cell.output_area._bokeh_server_id;\n",
       "    // Clean up Bokeh references\n",
       "    if (id !== undefined) {\n",
       "      Bokeh.index[id].model.document.clear();\n",
       "      delete Bokeh.index[id];\n",
       "    }\n",
       "\n",
       "    if (server_id !== undefined) {\n",
       "      // Clean up Bokeh references\n",
       "      var cmd = \"from bokeh.io.state import curstate; print(curstate().uuid_to_server['\" + server_id + \"'].get_sessions()[0].document.roots[0]._id)\";\n",
       "      cell.notebook.kernel.execute(cmd, {\n",
       "        iopub: {\n",
       "          output: function(msg) {\n",
       "            var element_id = msg.content.text.trim();\n",
       "            Bokeh.index[element_id].model.document.clear();\n",
       "            delete Bokeh.index[element_id];\n",
       "          }\n",
       "        }\n",
       "      });\n",
       "      // Destroy server and session\n",
       "      var cmd = \"import bokeh.io.notebook as ion; ion.destroy_server('\" + server_id + \"')\";\n",
       "      cell.notebook.kernel.execute(cmd);\n",
       "    }\n",
       "  }\n",
       "\n",
       "  /**\n",
       "   * Handle when a new output is added\n",
       "   */\n",
       "  function handleAddOutput(event, handle) {\n",
       "    var output_area = handle.output_area;\n",
       "    var output = handle.output;\n",
       "\n",
       "    // limit handleAddOutput to display_data with EXEC_MIME_TYPE content only\n",
       "    if ((output.output_type != \"display_data\") || (!output.data.hasOwnProperty(EXEC_MIME_TYPE))) {\n",
       "      return\n",
       "    }\n",
       "\n",
       "    var toinsert = output_area.element.find(\".\" + CLASS_NAME.split(' ')[0]);\n",
       "\n",
       "    if (output.metadata[EXEC_MIME_TYPE][\"id\"] !== undefined) {\n",
       "      toinsert[0].firstChild.textContent = output.data[JS_MIME_TYPE];\n",
       "      // store reference to embed id on output_area\n",
       "      output_area._bokeh_element_id = output.metadata[EXEC_MIME_TYPE][\"id\"];\n",
       "    }\n",
       "    if (output.metadata[EXEC_MIME_TYPE][\"server_id\"] !== undefined) {\n",
       "      var bk_div = document.createElement(\"div\");\n",
       "      bk_div.innerHTML = output.data[HTML_MIME_TYPE];\n",
       "      var script_attrs = bk_div.children[0].attributes;\n",
       "      for (var i = 0; i < script_attrs.length; i++) {\n",
       "        toinsert[0].firstChild.setAttribute(script_attrs[i].name, script_attrs[i].value);\n",
       "      }\n",
       "      // store reference to server id on output_area\n",
       "      output_area._bokeh_server_id = output.metadata[EXEC_MIME_TYPE][\"server_id\"];\n",
       "    }\n",
       "  }\n",
       "\n",
       "  function register_renderer(events, OutputArea) {\n",
       "\n",
       "    function append_mime(data, metadata, element) {\n",
       "      // create a DOM node to render to\n",
       "      var toinsert = this.create_output_subarea(\n",
       "        metadata,\n",
       "        CLASS_NAME,\n",
       "        EXEC_MIME_TYPE\n",
       "      );\n",
       "      this.keyboard_manager.register_events(toinsert);\n",
       "      // Render to node\n",
       "      var props = {data: data, metadata: metadata[EXEC_MIME_TYPE]};\n",
       "      render(props, toinsert[0]);\n",
       "      element.append(toinsert);\n",
       "      return toinsert\n",
       "    }\n",
       "\n",
       "    /* Handle when an output is cleared or removed */\n",
       "    events.on('clear_output.CodeCell', handleClearOutput);\n",
       "    events.on('delete.Cell', handleClearOutput);\n",
       "\n",
       "    /* Handle when a new output is added */\n",
       "    events.on('output_added.OutputArea', handleAddOutput);\n",
       "\n",
       "    /**\n",
       "     * Register the mime type and append_mime function with output_area\n",
       "     */\n",
       "    OutputArea.prototype.register_mime_type(EXEC_MIME_TYPE, append_mime, {\n",
       "      /* Is output safe? */\n",
       "      safe: true,\n",
       "      /* Index of renderer in `output_area.display_order` */\n",
       "      index: 0\n",
       "    });\n",
       "  }\n",
       "\n",
       "  // register the mime type if in Jupyter Notebook environment and previously unregistered\n",
       "  if (root.Jupyter !== undefined) {\n",
       "    var events = require('base/js/events');\n",
       "    var OutputArea = require('notebook/js/outputarea').OutputArea;\n",
       "\n",
       "    if (OutputArea.prototype.mime_types().indexOf(EXEC_MIME_TYPE) == -1) {\n",
       "      register_renderer(events, OutputArea);\n",
       "    }\n",
       "  }\n",
       "\n",
       "  \n",
       "  if (typeof (root._bokeh_timeout) === \"undefined\" || force === true) {\n",
       "    root._bokeh_timeout = Date.now() + 5000;\n",
       "    root._bokeh_failed_load = false;\n",
       "  }\n",
       "\n",
       "  var NB_LOAD_WARNING = {'data': {'text/html':\n",
       "     \"<div style='background-color: #fdd'>\\n\"+\n",
       "     \"<p>\\n\"+\n",
       "     \"BokehJS does not appear to have successfully loaded. If loading BokehJS from CDN, this \\n\"+\n",
       "     \"may be due to a slow or bad network connection. Possible fixes:\\n\"+\n",
       "     \"</p>\\n\"+\n",
       "     \"<ul>\\n\"+\n",
       "     \"<li>re-rerun `output_notebook()` to attempt to load from CDN again, or</li>\\n\"+\n",
       "     \"<li>use INLINE resources instead, as so:</li>\\n\"+\n",
       "     \"</ul>\\n\"+\n",
       "     \"<code>\\n\"+\n",
       "     \"from bokeh.resources import INLINE\\n\"+\n",
       "     \"output_notebook(resources=INLINE)\\n\"+\n",
       "     \"</code>\\n\"+\n",
       "     \"</div>\"}};\n",
       "\n",
       "  function display_loaded() {\n",
       "    var el = document.getElementById(\"6694c285-66b2-4705-a6ab-ed3aee372720\");\n",
       "    if (el != null) {\n",
       "      el.textContent = \"BokehJS is loading...\";\n",
       "    }\n",
       "    if (root.Bokeh !== undefined) {\n",
       "      if (el != null) {\n",
       "        el.textContent = \"BokehJS \" + root.Bokeh.version + \" successfully loaded.\";\n",
       "      }\n",
       "    } else if (Date.now() < root._bokeh_timeout) {\n",
       "      setTimeout(display_loaded, 100)\n",
       "    }\n",
       "  }\n",
       "\n",
       "\n",
       "  function run_callbacks() {\n",
       "    try {\n",
       "      root._bokeh_onload_callbacks.forEach(function(callback) { callback() });\n",
       "    }\n",
       "    finally {\n",
       "      delete root._bokeh_onload_callbacks\n",
       "    }\n",
       "    console.info(\"Bokeh: all callbacks have finished\");\n",
       "  }\n",
       "\n",
       "  function load_libs(js_urls, callback) {\n",
       "    root._bokeh_onload_callbacks.push(callback);\n",
       "    if (root._bokeh_is_loading > 0) {\n",
       "      console.log(\"Bokeh: BokehJS is being loaded, scheduling callback at\", now());\n",
       "      return null;\n",
       "    }\n",
       "    if (js_urls == null || js_urls.length === 0) {\n",
       "      run_callbacks();\n",
       "      return null;\n",
       "    }\n",
       "    console.log(\"Bokeh: BokehJS not loaded, scheduling load and callback at\", now());\n",
       "    root._bokeh_is_loading = js_urls.length;\n",
       "    for (var i = 0; i < js_urls.length; i++) {\n",
       "      var url = js_urls[i];\n",
       "      var s = document.createElement('script');\n",
       "      s.src = url;\n",
       "      s.async = false;\n",
       "      s.onreadystatechange = s.onload = function() {\n",
       "        root._bokeh_is_loading--;\n",
       "        if (root._bokeh_is_loading === 0) {\n",
       "          console.log(\"Bokeh: all BokehJS libraries loaded\");\n",
       "          run_callbacks()\n",
       "        }\n",
       "      };\n",
       "      s.onerror = function() {\n",
       "        console.warn(\"failed to load library \" + url);\n",
       "      };\n",
       "      console.log(\"Bokeh: injecting script tag for BokehJS library: \", url);\n",
       "      document.getElementsByTagName(\"head\")[0].appendChild(s);\n",
       "    }\n",
       "  };var element = document.getElementById(\"6694c285-66b2-4705-a6ab-ed3aee372720\");\n",
       "  if (element == null) {\n",
       "    console.log(\"Bokeh: ERROR: autoload.js configured with elementid '6694c285-66b2-4705-a6ab-ed3aee372720' but no matching script tag was found. \")\n",
       "    return false;\n",
       "  }\n",
       "\n",
       "  var js_urls = [\"https://cdn.pydata.org/bokeh/release/bokeh-0.12.13.min.js\", \"https://cdn.pydata.org/bokeh/release/bokeh-widgets-0.12.13.min.js\", \"https://cdn.pydata.org/bokeh/release/bokeh-tables-0.12.13.min.js\", \"https://cdn.pydata.org/bokeh/release/bokeh-gl-0.12.13.min.js\"];\n",
       "\n",
       "  var inline_js = [\n",
       "    function(Bokeh) {\n",
       "      Bokeh.set_log_level(\"info\");\n",
       "    },\n",
       "    \n",
       "    function(Bokeh) {\n",
       "      \n",
       "    },\n",
       "    function(Bokeh) {\n",
       "      console.log(\"Bokeh: injecting CSS: https://cdn.pydata.org/bokeh/release/bokeh-0.12.13.min.css\");\n",
       "      Bokeh.embed.inject_css(\"https://cdn.pydata.org/bokeh/release/bokeh-0.12.13.min.css\");\n",
       "      console.log(\"Bokeh: injecting CSS: https://cdn.pydata.org/bokeh/release/bokeh-widgets-0.12.13.min.css\");\n",
       "      Bokeh.embed.inject_css(\"https://cdn.pydata.org/bokeh/release/bokeh-widgets-0.12.13.min.css\");\n",
       "      console.log(\"Bokeh: injecting CSS: https://cdn.pydata.org/bokeh/release/bokeh-tables-0.12.13.min.css\");\n",
       "      Bokeh.embed.inject_css(\"https://cdn.pydata.org/bokeh/release/bokeh-tables-0.12.13.min.css\");\n",
       "    }\n",
       "  ];\n",
       "\n",
       "  function run_inline_js() {\n",
       "    \n",
       "    if ((root.Bokeh !== undefined) || (force === true)) {\n",
       "      for (var i = 0; i < inline_js.length; i++) {\n",
       "        inline_js[i].call(root, root.Bokeh);\n",
       "      }if (force === true) {\n",
       "        display_loaded();\n",
       "      }} else if (Date.now() < root._bokeh_timeout) {\n",
       "      setTimeout(run_inline_js, 100);\n",
       "    } else if (!root._bokeh_failed_load) {\n",
       "      console.log(\"Bokeh: BokehJS failed to load within specified timeout.\");\n",
       "      root._bokeh_failed_load = true;\n",
       "    } else if (force !== true) {\n",
       "      var cell = $(document.getElementById(\"6694c285-66b2-4705-a6ab-ed3aee372720\")).parents('.cell').data().cell;\n",
       "      cell.output_area.append_execute_result(NB_LOAD_WARNING)\n",
       "    }\n",
       "\n",
       "  }\n",
       "\n",
       "  if (root._bokeh_is_loading === 0) {\n",
       "    console.log(\"Bokeh: BokehJS loaded, going straight to plotting\");\n",
       "    run_inline_js();\n",
       "  } else {\n",
       "    load_libs(js_urls, function() {\n",
       "      console.log(\"Bokeh: BokehJS plotting callback run at\", now());\n",
       "      run_inline_js();\n",
       "    });\n",
       "  }\n",
       "}(window));"
      ],
      "application/vnd.bokehjs_load.v0+json": "\n(function(root) {\n  function now() {\n    return new Date();\n  }\n\n  var force = true;\n\n  if (typeof (root._bokeh_onload_callbacks) === \"undefined\" || force === true) {\n    root._bokeh_onload_callbacks = [];\n    root._bokeh_is_loading = undefined;\n  }\n\n  \n\n  \n  if (typeof (root._bokeh_timeout) === \"undefined\" || force === true) {\n    root._bokeh_timeout = Date.now() + 5000;\n    root._bokeh_failed_load = false;\n  }\n\n  var NB_LOAD_WARNING = {'data': {'text/html':\n     \"<div style='background-color: #fdd'>\\n\"+\n     \"<p>\\n\"+\n     \"BokehJS does not appear to have successfully loaded. If loading BokehJS from CDN, this \\n\"+\n     \"may be due to a slow or bad network connection. Possible fixes:\\n\"+\n     \"</p>\\n\"+\n     \"<ul>\\n\"+\n     \"<li>re-rerun `output_notebook()` to attempt to load from CDN again, or</li>\\n\"+\n     \"<li>use INLINE resources instead, as so:</li>\\n\"+\n     \"</ul>\\n\"+\n     \"<code>\\n\"+\n     \"from bokeh.resources import INLINE\\n\"+\n     \"output_notebook(resources=INLINE)\\n\"+\n     \"</code>\\n\"+\n     \"</div>\"}};\n\n  function display_loaded() {\n    var el = document.getElementById(\"6694c285-66b2-4705-a6ab-ed3aee372720\");\n    if (el != null) {\n      el.textContent = \"BokehJS is loading...\";\n    }\n    if (root.Bokeh !== undefined) {\n      if (el != null) {\n        el.textContent = \"BokehJS \" + root.Bokeh.version + \" successfully loaded.\";\n      }\n    } else if (Date.now() < root._bokeh_timeout) {\n      setTimeout(display_loaded, 100)\n    }\n  }\n\n\n  function run_callbacks() {\n    try {\n      root._bokeh_onload_callbacks.forEach(function(callback) { callback() });\n    }\n    finally {\n      delete root._bokeh_onload_callbacks\n    }\n    console.info(\"Bokeh: all callbacks have finished\");\n  }\n\n  function load_libs(js_urls, callback) {\n    root._bokeh_onload_callbacks.push(callback);\n    if (root._bokeh_is_loading > 0) {\n      console.log(\"Bokeh: BokehJS is being loaded, scheduling callback at\", now());\n      return null;\n    }\n    if (js_urls == null || js_urls.length === 0) {\n      run_callbacks();\n      return null;\n    }\n    console.log(\"Bokeh: BokehJS not loaded, scheduling load and callback at\", now());\n    root._bokeh_is_loading = js_urls.length;\n    for (var i = 0; i < js_urls.length; i++) {\n      var url = js_urls[i];\n      var s = document.createElement('script');\n      s.src = url;\n      s.async = false;\n      s.onreadystatechange = s.onload = function() {\n        root._bokeh_is_loading--;\n        if (root._bokeh_is_loading === 0) {\n          console.log(\"Bokeh: all BokehJS libraries loaded\");\n          run_callbacks()\n        }\n      };\n      s.onerror = function() {\n        console.warn(\"failed to load library \" + url);\n      };\n      console.log(\"Bokeh: injecting script tag for BokehJS library: \", url);\n      document.getElementsByTagName(\"head\")[0].appendChild(s);\n    }\n  };var element = document.getElementById(\"6694c285-66b2-4705-a6ab-ed3aee372720\");\n  if (element == null) {\n    console.log(\"Bokeh: ERROR: autoload.js configured with elementid '6694c285-66b2-4705-a6ab-ed3aee372720' but no matching script tag was found. \")\n    return false;\n  }\n\n  var js_urls = [\"https://cdn.pydata.org/bokeh/release/bokeh-0.12.13.min.js\", \"https://cdn.pydata.org/bokeh/release/bokeh-widgets-0.12.13.min.js\", \"https://cdn.pydata.org/bokeh/release/bokeh-tables-0.12.13.min.js\", \"https://cdn.pydata.org/bokeh/release/bokeh-gl-0.12.13.min.js\"];\n\n  var inline_js = [\n    function(Bokeh) {\n      Bokeh.set_log_level(\"info\");\n    },\n    \n    function(Bokeh) {\n      \n    },\n    function(Bokeh) {\n      console.log(\"Bokeh: injecting CSS: https://cdn.pydata.org/bokeh/release/bokeh-0.12.13.min.css\");\n      Bokeh.embed.inject_css(\"https://cdn.pydata.org/bokeh/release/bokeh-0.12.13.min.css\");\n      console.log(\"Bokeh: injecting CSS: https://cdn.pydata.org/bokeh/release/bokeh-widgets-0.12.13.min.css\");\n      Bokeh.embed.inject_css(\"https://cdn.pydata.org/bokeh/release/bokeh-widgets-0.12.13.min.css\");\n      console.log(\"Bokeh: injecting CSS: https://cdn.pydata.org/bokeh/release/bokeh-tables-0.12.13.min.css\");\n      Bokeh.embed.inject_css(\"https://cdn.pydata.org/bokeh/release/bokeh-tables-0.12.13.min.css\");\n    }\n  ];\n\n  function run_inline_js() {\n    \n    if ((root.Bokeh !== undefined) || (force === true)) {\n      for (var i = 0; i < inline_js.length; i++) {\n        inline_js[i].call(root, root.Bokeh);\n      }if (force === true) {\n        display_loaded();\n      }} else if (Date.now() < root._bokeh_timeout) {\n      setTimeout(run_inline_js, 100);\n    } else if (!root._bokeh_failed_load) {\n      console.log(\"Bokeh: BokehJS failed to load within specified timeout.\");\n      root._bokeh_failed_load = true;\n    } else if (force !== true) {\n      var cell = $(document.getElementById(\"6694c285-66b2-4705-a6ab-ed3aee372720\")).parents('.cell').data().cell;\n      cell.output_area.append_execute_result(NB_LOAD_WARNING)\n    }\n\n  }\n\n  if (root._bokeh_is_loading === 0) {\n    console.log(\"Bokeh: BokehJS loaded, going straight to plotting\");\n    run_inline_js();\n  } else {\n    load_libs(js_urls, function() {\n      console.log(\"Bokeh: BokehJS plotting callback run at\", now());\n      run_inline_js();\n    });\n  }\n}(window));"
     },
     "metadata": {},
     "output_type": "display_data"
    }
   ],
   "source": [
    "from py2neo import Node, Relationship, Graph\n",
    "from numpy.random import rand\n",
    "import numpy as num\n",
    "from bokeh.plotting import output_notebook,figure, show\n",
    "from bokeh.layouts import row,column,gridplot\n",
    "from bokeh.models import Label\n",
    "import numpy as np\n",
    "from curve import *\n",
    "from bokeh.models import Span,Legend\n",
    "output_notebook()"
   ]
  },
  {
   "cell_type": "code",
   "execution_count": 2,
   "metadata": {},
   "outputs": [
    {
     "data": {
      "application/javascript": [
       "IPython.OutputArea.prototype._should_scroll = function(lines) {\n",
       "    return false;\n",
       "}"
      ],
      "text/plain": [
       "<IPython.core.display.Javascript object>"
      ]
     },
     "metadata": {},
     "output_type": "display_data"
    }
   ],
   "source": [
    "%%javascript\n",
    "IPython.OutputArea.prototype._should_scroll = function(lines) {\n",
    "    return false;\n",
    "}"
   ]
  },
  {
   "cell_type": "code",
   "execution_count": 3,
   "metadata": {},
   "outputs": [],
   "source": [
    "import pickle as pk\n",
    "A = pk.load(open('global.pk','rb'))\n",
    "\n",
    "# sample nodes\n",
    "N = ['L4','L34','L79','L123']\n",
    "\n",
    "import random\n",
    "\n",
    "def gen_hex_colour_code():\n",
    "   return '#'+''.join([random.choice('0123456789ABCDEF') for x in range(6)])\n",
    "\n",
    "C = {}"
   ]
  },
  {
   "cell_type": "code",
   "execution_count": 4,
   "metadata": {},
   "outputs": [
    {
     "name": "stderr",
     "output_type": "stream",
     "text": [
      "/Library/Frameworks/Python.framework/Versions/3.6/lib/python3.6/site-packages/scipy/optimize/minpack.py:785: OptimizeWarning: Covariance of the parameters could not be estimated\n",
      "  category=OptimizeWarning)\n"
     ]
    }
   ],
   "source": [
    "l = len(A)\n",
    "D = {}\n",
    "for i in range(l):\n",
    "    D[i] = {}\n",
    "    D[i]['n1'] = A[i]['n1']\n",
    "    D[i]['n2'] = A[i]['n2']\n",
    "    tmp = A[i]['envelope']\n",
    "    ce = num.sum([xx[1] for xx in A[i]['envelope']])/len(A[i]['envelope'])\n",
    "    cex = num.sum([xx[0] for xx in A[i]['envelope']])/len(A[i]['envelope'])\n",
    "    D[i]['x'] = [xx[0]-cex for xx in tmp]\n",
    "    D[i]['y'] = [xx[1]-ce for xx in tmp]\n",
    "    D[i]['z'] = [xx-ce for xx in A[i]['z']]\n",
    "    D[i]['slope'] = A[i]['slope']\n",
    "    D[i]['r2'] = A[i]['r2']\n",
    "p = []\n",
    "C = {}\n",
    "N = ['L'+str(i+1) for i in range(180)]\n",
    "R = {}\n",
    "for roi in N:\n",
    "    # source taget\n",
    "    datax = [xx['x'] for xx in D.values() if xx['n1'] == roi]\n",
    "    datay = [xx['y'] for xx in D.values() if xx['n1'] == roi]\n",
    "    fx = [item for sublist in datax for item in sublist]\n",
    "    fy = [item for sublist in datay for item in sublist]\n",
    "    F = lslinear(fx,fy)\n",
    "    R[\"s-\"+roi]=(F['r2'],F['slope'])\n",
    "    \n",
    "    \n",
    "    # target\n",
    "    datax = [xx['x'] for xx in D.values() if xx['n2'] == roi]\n",
    "    datay = [xx['y'] for xx in D.values() if xx['n2'] == roi]\n",
    "    fx = [item for sublist in datax for item in sublist]\n",
    "    fy = [item for sublist in datay for item in sublist]\n",
    "    F = lslinear(fx,fy)\n",
    "    R[\"t-\"+roi]=(F['r2'],F['slope'])"
   ]
  },
  {
   "cell_type": "markdown",
   "metadata": {},
   "source": [
    "# Step 1: Adding noise\n",
    "We consider X->Y pair with R2>90% to be ground truth data for slope estimation. Then the envelope points are contaminated by adding white noise to both their x and y coordinated, i.e., connection strength is added to white noise **normal(m=-2,var=1)** and distance is added to white noise **normal(m=0,var=10)**. After contaminating the data, ofcourse slope of envelope points will deviate from the groundtruth slope. Below the histogram for these deviations are plotted. Also R2 will significatly drop."
   ]
  },
  {
   "cell_type": "code",
   "execution_count": 30,
   "metadata": {},
   "outputs": [
    {
     "data": {
      "text/html": [
       "\n",
       "<div class=\"bk-root\">\n",
       "    <div class=\"bk-plotdiv\" id=\"ed1269bf-5875-49fb-b3d8-5fb01d30151b\"></div>\n",
       "</div>"
      ]
     },
     "metadata": {},
     "output_type": "display_data"
    },
    {
     "data": {
      "application/javascript": [
       "(function(root) {\n",
       "  function embed_document(root) {\n",
       "    \n",
       "  var docs_json = {\"34ef766f-58f5-4357-8d14-726139ee54e4\":{\"roots\":{\"references\":[{\"attributes\":{\"data_source\":{\"id\":\"51d53c94-b2a6-410a-bc61-b09318f66537\",\"type\":\"ColumnDataSource\"},\"glyph\":{\"id\":\"28358960-07f5-455b-ae0d-21efd493e72a\",\"type\":\"Quad\"},\"hover_glyph\":null,\"muted_glyph\":null,\"nonselection_glyph\":{\"id\":\"8452b70b-1be0-4e89-a8c7-c0739327074a\",\"type\":\"Quad\"},\"selection_glyph\":null,\"view\":{\"id\":\"1568536d-c6d7-4202-85e5-80408e86c296\",\"type\":\"CDSView\"}},\"id\":\"58d821ae-0b39-4368-a34e-0e2f5464ec83\",\"type\":\"GlyphRenderer\"},{\"attributes\":{},\"id\":\"e8158c2b-a6d6-47ac-93e2-7562fe3f473b\",\"type\":\"BasicTickFormatter\"},{\"attributes\":{\"background_fill_color\":{\"value\":\"#E8DDCB\"},\"below\":[{\"id\":\"7de704c2-8e6e-4141-ba0c-2cf81bfba5ec\",\"type\":\"LinearAxis\"}],\"left\":[{\"id\":\"ad4d91af-31b2-4cd1-9d6c-6ab5be996471\",\"type\":\"LinearAxis\"}],\"renderers\":[{\"id\":\"7de704c2-8e6e-4141-ba0c-2cf81bfba5ec\",\"type\":\"LinearAxis\"},{\"id\":\"57abefbe-7fc0-4758-ab65-e7a640812f09\",\"type\":\"Grid\"},{\"id\":\"ad4d91af-31b2-4cd1-9d6c-6ab5be996471\",\"type\":\"LinearAxis\"},{\"id\":\"292f317a-686d-4a58-99b4-e6367aeb98d5\",\"type\":\"Grid\"},{\"id\":\"25054915-34f3-4a39-ba9e-b6a46757fe3b\",\"type\":\"GlyphRenderer\"}],\"title\":{\"id\":\"ad51a01e-5352-4274-ad06-680ad436b874\",\"type\":\"Title\"},\"toolbar\":{\"id\":\"49aeb541-1fd6-4c8d-b3a9-7a8759d77bf2\",\"type\":\"Toolbar\"},\"toolbar_location\":null,\"x_range\":{\"id\":\"45c6fb6b-d5f5-4ef5-a3cd-59d436781982\",\"type\":\"DataRange1d\"},\"x_scale\":{\"id\":\"1fcad55b-891a-4c70-ae34-c44e69b499a4\",\"type\":\"LinearScale\"},\"y_range\":{\"id\":\"9fb24ba8-7f7c-4eab-809e-f91d7afc3c60\",\"type\":\"DataRange1d\"},\"y_scale\":{\"id\":\"c0dbfd7a-4c74-412f-ac20-e9ef171b64ad\",\"type\":\"LinearScale\"}},\"id\":\"670e7b39-f773-4298-9805-48f622506e25\",\"subtype\":\"Figure\",\"type\":\"Plot\"},{\"attributes\":{},\"id\":\"62710e77-5bf4-4e7f-918e-c026affcada6\",\"type\":\"SaveTool\"},{\"attributes\":{\"label\":{\"value\":\"Ground Truth\"},\"renderers\":[{\"id\":\"cd760d5d-adf4-4bb4-aa56-9b069b892887\",\"type\":\"GlyphRenderer\"}]},\"id\":\"50d33837-b22e-44de-b322-924f02f01b6a\",\"type\":\"LegendItem\"},{\"attributes\":{\"bottom\":{\"value\":0},\"fill_alpha\":{\"value\":0.8},\"fill_color\":{\"value\":\"#aaabbb\"},\"left\":{\"field\":\"left\"},\"line_alpha\":{\"value\":0.8},\"line_color\":{\"value\":\"#1f77b4\"},\"right\":{\"field\":\"right\"},\"top\":{\"field\":\"top\"}},\"id\":\"28358960-07f5-455b-ae0d-21efd493e72a\",\"type\":\"Quad\"},{\"attributes\":{},\"id\":\"e65d7703-b364-42ff-987f-bf3b141278e4\",\"type\":\"BasicTicker\"},{\"attributes\":{\"background_fill_color\":{\"value\":\"darkgrey\"},\"items\":[{\"id\":\"50d33837-b22e-44de-b322-924f02f01b6a\",\"type\":\"LegendItem\"},{\"id\":\"78d8f086-3408-4bd7-978b-e54dee4874a3\",\"type\":\"LegendItem\"}],\"location\":\"center_right\",\"plot\":{\"id\":\"ec92f40e-d894-45ba-a90c-b46a443491fc\",\"subtype\":\"Figure\",\"type\":\"Plot\"}},\"id\":\"8beb8f07-a871-40cc-94c0-6b9a46331e0d\",\"type\":\"Legend\"},{\"attributes\":{\"callback\":null,\"column_names\":[\"left\",\"right\",\"top\"],\"data\":{\"left\":{\"__ndarray__\":\"AADoHDvS5T4sxHjYoZH/P/L86WOckQ9A58vL7TOtF0BVmaKpmZEfQGKzvLL/uiNAGBqokDKtJ0DQgJNuZZ8rQIbnfkyYkS9AHyc1leXBMUB62ioE/7ozQNWNIHMYtDVAMUEW4jGtN0CN9AtRS6Y5QOinAcBknztAQ1v3Ln6YPUCfDu2dl5E/QP5gcYZYxUBArDrsPeXBQUBZFGf1cb5CQAfu4az+ukNAtcdcZIu3REBiodcbGLRFQBB7UtOksEZAvlTNijGtR0BsLkhCvqlIQBoIw/lKpklAx+E9sdeiSkB1u7hoZJ9LQCOVMyDxm0xA0G6u132YTUB+SCmPCpVOQCwipEaXkU9A7X0P/xFHUEDE6sxaWMVQQJtXiraeQ1FAcsRHEuXBUUBIMQVuK0BSQB+ewslxvlJA9gqAJbg8U0DNdz2B/rpTQKTk+txEOVRAe1G4OIu3VEBSvnWU0TVVQCgrM/AXtFVA/5fwS14yVkDWBK6npLBWQK1xawPrLldAhN4oXzGtV0BbS+a6dytYQA==\",\"dtype\":\"float64\",\"shape\":[50]},\"right\":{\"__ndarray__\":\"LMR42KGR/z/y/OljnJEPQOfLy+0zrRdAVZmiqZmRH0Bis7yy/7ojQBgaqJAyrSdA0ICTbmWfK0CG535MmJEvQB8nNZXlwTFAetoqBP+6M0DVjSBzGLQ1QDFBFuIxrTdAjfQLUUumOUDopwHAZJ87QENb9y5+mD1Anw7tnZeRP0D+YHGGWMVAQKw67D3lwUFAWRRn9XG+QkAH7uGs/rpDQLXHXGSLt0RAYqHXGxi0RUAQe1LTpLBGQL5UzYoxrUdAbC5IQr6pSEAaCMP5SqZJQMfhPbHXokpAdbu4aGSfS0AjlTMg8ZtMQNBurtd9mE1AfkgpjwqVTkAsIqRGl5FPQO19D/8RR1BAxOrMWljFUECbV4q2nkNRQHLERxLlwVFASDEFbitAUkAfnsLJcb5SQPYKgCW4PFNAzXc9gf66U0Ck5PrcRDlUQHtRuDiLt1RAUr51lNE1VUAoKzPwF7RVQP+X8EteMlZA1gSup6SwVkCtcWsD6y5XQITeKF8xrVdAW0vmuncrWEAyuKMWvqlYQA==\",\"dtype\":\"float64\",\"shape\":[50]},\"top\":{\"__ndarray__\":\"V+MNx/G1rj9kbdJfBwaZP96dqKV3bJY/xDiaKIqMkT88uvW5vDKPPzwbokWd/4k/7orKQvSSkD+F0uDc9OWNP3bS4Nz05Y0/Z0Zry1iMjj95M41o1bKIP3bS4Nz05Y0//VCFS8I/kD/zY2OuRRmGP5i/AnpxDIg/6GNjrkUZhj+AvwJ6cQyIP4u/AnpxDIg/HPDYv+FyhT8uG6JFnf+JP6tLeIsNZoc/wkt4iw1mhz+rS3iLDWaHPy4bokWd/3k/JnxO0X3MhD/exA86JuaAP3ZGa8tYjI4/wDiaKIqMgT9jlDn0tX+DP7SsJBfuMoI/oawkF+4ygj9jlDn0tX+DP/1QhUvCP4A/oawkF+4ycj+z6sv/LJl8Py4bokWd/2k/d7r1ubwybz8mfE7Rfcx0P7Pqy/8smWw/JnxO0X3MdD8mfE7RfcxUP6tLeIsNZmc/OLr1ubwyTz9QfE7RfcxkPzi69bm8Mk8/OLr1ubwyTz84uvW5vDJPPzi69bm8Mk8/OLr1ubwyTz84uvW5vDJPPw==\",\"dtype\":\"float64\",\"shape\":[50]}}},\"id\":\"cc993572-6223-479d-99bf-055ee8e32257\",\"type\":\"ColumnDataSource\"},{\"attributes\":{\"data_source\":{\"id\":\"fe9ed0ec-3fb0-4f2a-850d-c80d772d0539\",\"type\":\"ColumnDataSource\"},\"glyph\":{\"id\":\"ca09095c-31fb-40d4-b412-f1fd10ce481a\",\"type\":\"Quad\"},\"hover_glyph\":null,\"muted_glyph\":null,\"nonselection_glyph\":{\"id\":\"6057cb44-4c91-42d5-bf6d-4604fd4ace6e\",\"type\":\"Quad\"},\"selection_glyph\":null,\"view\":{\"id\":\"869f35b3-04aa-4555-8a7f-773796fa4ebe\",\"type\":\"CDSView\"}},\"id\":\"cd760d5d-adf4-4bb4-aa56-9b069b892887\",\"type\":\"GlyphRenderer\"},{\"attributes\":{\"axis_label\":\"Histogram\",\"formatter\":{\"id\":\"895a921f-6fb3-4c75-9091-48d6d1edf6f9\",\"type\":\"BasicTickFormatter\"},\"plot\":{\"id\":\"bf6d4353-9476-4bb5-b42b-2548e91760d5\",\"subtype\":\"Figure\",\"type\":\"Plot\"},\"ticker\":{\"id\":\"5bc3eb1e-ce70-4c30-980c-b86502a6dfa8\",\"type\":\"BasicTicker\"}},\"id\":\"a39c76e4-d6b4-4a39-87d1-8140f6246ec5\",\"type\":\"LinearAxis\"},{\"attributes\":{\"children\":[{\"id\":\"5e41ae10-898a-4b87-a8bf-f88d90c2de6f\",\"type\":\"Row\"},{\"id\":\"a31b6aa3-44b3-4581-8aa1-33c2c68435c4\",\"type\":\"Row\"}]},\"id\":\"6705e26f-92a5-43a5-bf35-0f25c27167f6\",\"type\":\"Column\"},{\"attributes\":{\"callback\":null},\"id\":\"45c6fb6b-d5f5-4ef5-a3cd-59d436781982\",\"type\":\"DataRange1d\"},{\"attributes\":{\"active_drag\":\"auto\",\"active_inspect\":\"auto\",\"active_scroll\":\"auto\",\"active_tap\":\"auto\",\"tools\":[{\"id\":\"8b7b4556-ecc3-4e04-a225-2bd1555a70a6\",\"type\":\"SaveTool\"}]},\"id\":\"49aeb541-1fd6-4c8d-b3a9-7a8759d77bf2\",\"type\":\"Toolbar\"},{\"attributes\":{\"axis_label\":\"Histogram\",\"formatter\":{\"id\":\"432bec72-062a-4bb9-abc0-d79995a1fae6\",\"type\":\"BasicTickFormatter\"},\"plot\":{\"id\":\"ec92f40e-d894-45ba-a90c-b46a443491fc\",\"subtype\":\"Figure\",\"type\":\"Plot\"},\"ticker\":{\"id\":\"4ce99c48-81cf-4c51-8131-c2689e551cd0\",\"type\":\"BasicTicker\"}},\"id\":\"0a611c46-482f-468b-a930-b52fc820702d\",\"type\":\"LinearAxis\"},{\"attributes\":{\"source\":{\"id\":\"fe9ed0ec-3fb0-4f2a-850d-c80d772d0539\",\"type\":\"ColumnDataSource\"}},\"id\":\"869f35b3-04aa-4555-8a7f-773796fa4ebe\",\"type\":\"CDSView\"},{\"attributes\":{\"bottom\":{\"value\":0},\"fill_alpha\":{\"value\":0.1},\"fill_color\":{\"value\":\"#1f77b4\"},\"left\":{\"field\":\"left\"},\"line_alpha\":{\"value\":0.1},\"line_color\":{\"value\":\"#1f77b4\"},\"right\":{\"field\":\"right\"},\"top\":{\"field\":\"top\"}},\"id\":\"13a82cfc-d769-4e51-9afa-03417db6a0c3\",\"type\":\"Quad\"},{\"attributes\":{\"data_source\":{\"id\":\"3085ddd0-7c22-4cb0-bbc6-290e5227852d\",\"type\":\"ColumnDataSource\"},\"glyph\":{\"id\":\"f18225b7-2085-44dd-9f56-0db90a90b096\",\"type\":\"Quad\"},\"hover_glyph\":null,\"muted_glyph\":null,\"nonselection_glyph\":{\"id\":\"13a82cfc-d769-4e51-9afa-03417db6a0c3\",\"type\":\"Quad\"},\"selection_glyph\":null,\"view\":{\"id\":\"1eec3c9c-d513-4b03-b531-14de6f68932e\",\"type\":\"CDSView\"}},\"id\":\"52860c01-a820-45ed-aa8d-a4d3faca7f76\",\"type\":\"GlyphRenderer\"},{\"attributes\":{\"callback\":null,\"column_names\":[\"left\",\"right\",\"top\"],\"data\":{\"left\":{\"__ndarray__\":\"AJA3mE7t+D5NqaRbe3eXP1ui0bFddKc/CHjo2n6WsT/iHujcznK3P7zF594eT70/TLZzcLeVwT+4iXNx34PEPyZdc3IHcsc/kjBzcy9gyj8ABHN0V07NP7Zrubo/HtA/bVU5u1OV0T8jP7m7ZwzTP9ooObx7g9Q/kBK5vI/61T9H/Di9o3HXP/7luL236Ng/tM84vstf2j9rubi+39bbPyGjOL/zTd0/2Iy4vwfF3j9HOxzgDR7gPyIwXOCX2eA//iSc4CGV4T/ZGdzgq1DiP7QOHOE1DOM/kANc4b/H4z9r+JvhSYPkP0bt2+HTPuU/IeIb4l365T/91lvi57XmP9jLm+Jxcec/s8Db4vss6D+PtRvjhejoP2qqW+MPpOk/RZ+b45lf6j8glNvjIxvrP/yIG+St1us/131b5DeS7D+ycpvkwU3tP45n2+RLCe4/aVwb5dXE7j9EUVvlX4DvPxCjzfL0HfA/fp3t8rl78D/rlw3zftnwP1mSLfNDN/E/x4xN8wiV8T80h23zzfLxPw==\",\"dtype\":\"float64\",\"shape\":[50]},\"right\":{\"__ndarray__\":\"TamkW3t3lz9botGxXXSnPwh46Np+lrE/4h7o3M5ytz+8xefeHk+9P0y2c3C3lcE/uIlzcd+DxD8mXXNyB3LHP5Iwc3MvYMo/AARzdFdOzT+2a7m6Px7QP21VObtTldE/Iz+5u2cM0z/aKDm8e4PUP5ASubyP+tU/R/w4vaNx1z/+5bi9t+jYP7TPOL7LX9o/a7m4vt/W2z8hozi/803dP9iMuL8Hxd4/Rzsc4A0e4D8iMFzgl9ngP/4knOAhleE/2Rnc4KtQ4j+0DhzhNQzjP5ADXOG/x+M/a/ib4UmD5D9G7dvh0z7lPyHiG+Jd+uU//dZb4ue15j/Yy5vicXHnP7PA2+L7LOg/j7Ub44Xo6D9qqlvjD6TpP0Wfm+OZX+o/IJTb4yMb6z/8iBvkrdbrP9d9W+Q3kuw/snKb5MFN7T+OZ9vkSwnuP2lcG+XVxO4/RFFb5V+A7z8Qo83y9B3wP36d7fK5e/A/65cN837Z8D9Zki3zQzfxP8eMTfMIlfE/NIdt883y8T+igY3zklDyPw==\",\"dtype\":\"float64\",\"shape\":[50]},\"top\":{\"__ndarray__\":\"vrhNSferKECBWTczlukjQCJumTZN4hxAuUzmK1wREUBLZog60MEGQL8DM8eCgv8/xomqX77h9T8Btd2AKSLrP6GRu1s7Auw/vwMzx4KC3z/VAzPHgoLPPxL0EM+IQdM/BTtVGWWB0T+OkbtbOwKsPwAAAAAAAAAAAAAAAAAAAAAqrcyErAG1PzitzISsAbU/jpG7WzsCvD+hkbtbOwKsPwAAAAAAAAAAAAAAAAAAAAChkbtbOwKcP3qRu1s7Apw/oZG7WzsCnD8AAAAAAAAAAHqRu1s7Aqw/oZG7WzsCnD+hkbtbOwKcPwAAAAAAAAAAAAAAAAAAAAAAAAAAAAAAAAAAAAAAAAAAAAAAAAAAAAChkbtbOwKcP6GRu1s7Apw/AAAAAAAAAAAAAAAAAAAAAAAAAAAAAAAAAAAAAAAAAAAAAAAAAAAAAAAAAAAAAAAAoZG7WzsCnD8AAAAAAAAAAAAAAAAAAAAAAAAAAAAAAAAAAAAAAAAAAAAAAAAAAAAAAAAAAAAAAAB6kbtbOwKcPw==\",\"dtype\":\"float64\",\"shape\":[50]}}},\"id\":\"86a7b0be-6c44-4f23-95a2-3345cc4ea303\",\"type\":\"ColumnDataSource\"},{\"attributes\":{\"axis_label\":\"Slope\",\"formatter\":{\"id\":\"e8158c2b-a6d6-47ac-93e2-7562fe3f473b\",\"type\":\"BasicTickFormatter\"},\"plot\":{\"id\":\"ec92f40e-d894-45ba-a90c-b46a443491fc\",\"subtype\":\"Figure\",\"type\":\"Plot\"},\"ticker\":{\"id\":\"e65d7703-b364-42ff-987f-bf3b141278e4\",\"type\":\"BasicTicker\"}},\"id\":\"5d47deb6-11d2-41e8-a8ce-e728dcd757cc\",\"type\":\"LinearAxis\"},{\"attributes\":{\"bottom\":{\"value\":0},\"fill_alpha\":{\"value\":0.1},\"fill_color\":{\"value\":\"#1f77b4\"},\"left\":{\"field\":\"left\"},\"line_alpha\":{\"value\":0.1},\"line_color\":{\"value\":\"#1f77b4\"},\"right\":{\"field\":\"right\"},\"top\":{\"field\":\"top\"}},\"id\":\"8452b70b-1be0-4e89-a8c7-c0739327074a\",\"type\":\"Quad\"},{\"attributes\":{\"source\":{\"id\":\"51d53c94-b2a6-410a-bc61-b09318f66537\",\"type\":\"ColumnDataSource\"}},\"id\":\"1568536d-c6d7-4202-85e5-80408e86c296\",\"type\":\"CDSView\"},{\"attributes\":{\"background_fill_color\":{\"value\":\"#E8DDCB\"},\"below\":[{\"id\":\"4d4c2fb5-40ab-40e7-91bb-6da3ea131802\",\"type\":\"LinearAxis\"}],\"left\":[{\"id\":\"a39c76e4-d6b4-4a39-87d1-8140f6246ec5\",\"type\":\"LinearAxis\"}],\"renderers\":[{\"id\":\"4d4c2fb5-40ab-40e7-91bb-6da3ea131802\",\"type\":\"LinearAxis\"},{\"id\":\"c4dcaf56-a33d-4e7a-ac3f-67a3bcd07d22\",\"type\":\"Grid\"},{\"id\":\"a39c76e4-d6b4-4a39-87d1-8140f6246ec5\",\"type\":\"LinearAxis\"},{\"id\":\"25684b61-1b99-45a2-9a6e-1bd67515075b\",\"type\":\"Grid\"},{\"id\":\"26caa508-8537-46c1-aa8a-5b61109733d5\",\"type\":\"Legend\"},{\"id\":\"52860c01-a820-45ed-aa8d-a4d3faca7f76\",\"type\":\"GlyphRenderer\"},{\"id\":\"93975fdf-c19a-4561-a895-e05f6136cf10\",\"type\":\"GlyphRenderer\"}],\"title\":{\"id\":\"12405554-5a35-4594-9de2-5cf628c84791\",\"type\":\"Title\"},\"toolbar\":{\"id\":\"92bb8c84-0490-472f-8f59-ccbb0334946e\",\"type\":\"Toolbar\"},\"toolbar_location\":null,\"x_range\":{\"id\":\"8b0e55e7-1eb0-4a48-9455-27cc876fc27a\",\"type\":\"DataRange1d\"},\"x_scale\":{\"id\":\"76c1f5f3-9522-474a-b95e-da4f8c469918\",\"type\":\"LinearScale\"},\"y_range\":{\"id\":\"216aae68-d159-4020-96b2-e0e74de10824\",\"type\":\"DataRange1d\"},\"y_scale\":{\"id\":\"fc0bcd21-fb33-4013-aef8-9a00b091ef59\",\"type\":\"LinearScale\"}},\"id\":\"bf6d4353-9476-4bb5-b42b-2548e91760d5\",\"subtype\":\"Figure\",\"type\":\"Plot\"},{\"attributes\":{\"plot\":null,\"text\":\"Slope Contamination Amplitude\"},\"id\":\"ad51a01e-5352-4274-ad06-680ad436b874\",\"type\":\"Title\"},{\"attributes\":{},\"id\":\"ec1c06fc-998f-4a77-8bf4-249be0f138cf\",\"type\":\"BasicTickFormatter\"},{\"attributes\":{},\"id\":\"432bec72-062a-4bb9-abc0-d79995a1fae6\",\"type\":\"BasicTickFormatter\"},{\"attributes\":{},\"id\":\"4ce99c48-81cf-4c51-8131-c2689e551cd0\",\"type\":\"BasicTicker\"},{\"attributes\":{},\"id\":\"f1d08941-3a15-4b28-a51e-3f7bb60ddf8c\",\"type\":\"BasicTickFormatter\"},{\"attributes\":{\"callback\":null,\"column_names\":[\"left\",\"right\",\"top\"],\"data\":{\"left\":{\"__ndarray__\":\"//r0tFCAVkAz5SQ76oxWQGfPVMGDmVZAm7mERx2mVkDPo7TNtrJWQASO5FNQv1ZAOHgU2unLVkBsYkRgg9hWQKBMdOYc5VZA1DakbLbxVkAIIdTyT/5WQDwLBHnpCldAcPUz/4IXV0Cl32OFHCRXQNnJkwu2MFdADbTDkU89V0BBnvMX6UlXQHWII56CVldAqXJTJBxjV0DdXIOqtW9XQBFHszBPfFdARjHjtuiIV0B6GxM9gpVXQK4FQ8MboldA4u9ySbWuV0AW2qLPTrtXQErE0lXox1dAfq4C3IHUV0CymDJiG+FXQOaCYui07VdAG22Sbk76V0BPV8L05wZYQINB8nqBE1hAtysiARsgWEDrFVKHtCxYQB8Agg1OOVhAU+qxk+dFWECH1OEZgVJYQLy+EaAaX1hA8KhBJrRrWEAkk3GsTXhYQFh9oTLnhFhAjGfRuICRWEDAUQE/Gp5YQPQ7McWzqlhAKCZhS023WEBcEJHR5sNYQJH6wFeA0FhAxeTw3RndWED5ziBks+lYQA==\",\"dtype\":\"float64\",\"shape\":[50]},\"right\":{\"__ndarray__\":\"M+UkO+qMVkBnz1TBg5lWQJu5hEcdplZAz6O0zbayVkAEjuRTUL9WQDh4FNrpy1ZAbGJEYIPYVkCgTHTmHOVWQNQ2pGy28VZACCHU8k/+VkA8CwR56QpXQHD1M/+CF1dApd9jhRwkV0DZyZMLtjBXQA20w5FPPVdAQZ7zF+lJV0B1iCOeglZXQKlyUyQcY1dA3VyDqrVvV0ARR7MwT3xXQEYx47boiFdAehsTPYKVV0CuBUPDG6JXQOLvckm1rldAFtqiz067V0BKxNJV6MdXQH6uAtyB1FdAspgyYhvhV0DmgmLotO1XQBttkm5O+ldAT1fC9OcGWECDQfJ6gRNYQLcrIgEbIFhA6xVSh7QsWEAfAIINTjlYQFPqsZPnRVhAh9ThGYFSWEC8vhGgGl9YQPCoQSa0a1hAJJNxrE14WEBYfaEy54RYQIxn0biAkVhAwFEBPxqeWED0OzHFs6pYQCgmYUtNt1hAXBCR0ebDWECR+sBXgNBYQMXk8N0Z3VhA+c4gZLPpWEAtuVDqTPZYQA==\",\"dtype\":\"float64\",\"shape\":[50]},\"top\":{\"__ndarray__\":\"R7t15WLDxD+/b3Ux7kjAP04ApRNqwb8/7067gGAZwT8tokeHLq+7P4+Djdagf7w/v291Me5IwD+/YtMlE1C9P//lu+hJDro/gOyMbreKsz+/b3Ux7kjAP79i0yUTUL0/obl15WLDxD+Pg43WoH+8P6/L0r0pW7Q/5/zpRn4iwz8fIV/E9/C+Px8uAdDS6cE//+W76EkOuj9XXxhZJ7HAP9MLRx9FusI/TgClE2rBvz+/YtMlE1C9P88GdpnXPbk/70EZdYUgvj/n/OlGfiLDP04ApRNqwb8/70EZdYUgvj/vQRl1hSC+P/LqjG63isM/cEjq+vKctz8Pil5cDvzFP+9BGXWFIL4/zwZ2mdc9uT9gpEeHLq+7P2CkR4cur7s/L8UBOLzeuj/t47voSQ66Px8hX8T38K4/HyFfxPfwrj8fIV/E9/CuP//lu+hJDqo/HyFfxPfwrj/vTruAYBmxP58nMEplbag//+W76EkOmj90bnUx7kiQPz9ppKuAzJY//+W76EkOej//5bvoSQ6KPw==\",\"dtype\":\"float64\",\"shape\":[50]}}},\"id\":\"3085ddd0-7c22-4cb0-bbc6-290e5227852d\",\"type\":\"ColumnDataSource\"},{\"attributes\":{\"background_fill_color\":{\"value\":\"darkgrey\"},\"items\":[{\"id\":\"500bcc6f-95ca-43a7-9ab8-d823d32fb961\",\"type\":\"LegendItem\"},{\"id\":\"742f3cf2-03c1-4857-af91-79ef002c4da6\",\"type\":\"LegendItem\"}],\"location\":\"center_right\",\"plot\":{\"id\":\"bf6d4353-9476-4bb5-b42b-2548e91760d5\",\"subtype\":\"Figure\",\"type\":\"Plot\"}},\"id\":\"26caa508-8537-46c1-aa8a-5b61109733d5\",\"type\":\"Legend\"},{\"attributes\":{},\"id\":\"7f9d0c08-90ab-40b1-81b6-fd68815c71ba\",\"type\":\"BasicTickFormatter\"},{\"attributes\":{\"source\":{\"id\":\"3085ddd0-7c22-4cb0-bbc6-290e5227852d\",\"type\":\"ColumnDataSource\"}},\"id\":\"1eec3c9c-d513-4b03-b531-14de6f68932e\",\"type\":\"CDSView\"},{\"attributes\":{},\"id\":\"1fcad55b-891a-4c70-ae34-c44e69b499a4\",\"type\":\"LinearScale\"},{\"attributes\":{\"callback\":null},\"id\":\"9fb24ba8-7f7c-4eab-809e-f91d7afc3c60\",\"type\":\"DataRange1d\"},{\"attributes\":{\"children\":[{\"id\":\"ec92f40e-d894-45ba-a90c-b46a443491fc\",\"subtype\":\"Figure\",\"type\":\"Plot\"},{\"id\":\"670e7b39-f773-4298-9805-48f622506e25\",\"subtype\":\"Figure\",\"type\":\"Plot\"}]},\"id\":\"5e41ae10-898a-4b87-a8bf-f88d90c2de6f\",\"type\":\"Row\"},{\"attributes\":{\"plot\":null,\"text\":\"R2 before/after contamination\"},\"id\":\"12405554-5a35-4594-9de2-5cf628c84791\",\"type\":\"Title\"},{\"attributes\":{},\"id\":\"895a921f-6fb3-4c75-9091-48d6d1edf6f9\",\"type\":\"BasicTickFormatter\"},{\"attributes\":{\"bottom\":{\"value\":0},\"fill_alpha\":{\"value\":0.1},\"fill_color\":{\"value\":\"#1f77b4\"},\"left\":{\"field\":\"left\"},\"line_alpha\":{\"value\":0.1},\"line_color\":{\"value\":\"#1f77b4\"},\"right\":{\"field\":\"right\"},\"top\":{\"field\":\"top\"}},\"id\":\"2fac7762-baa9-4a64-8906-fdb43ed3c6bf\",\"type\":\"Quad\"},{\"attributes\":{\"label\":{\"value\":\"Contaminated\"},\"renderers\":[{\"id\":\"58d821ae-0b39-4368-a34e-0e2f5464ec83\",\"type\":\"GlyphRenderer\"}]},\"id\":\"78d8f086-3408-4bd7-978b-e54dee4874a3\",\"type\":\"LegendItem\"},{\"attributes\":{\"callback\":null,\"column_names\":[\"left\",\"right\",\"top\"],\"data\":{\"left\":{\"__ndarray__\":\"ZAWWbRr21b+I6ILfezXVv63Lb1HddNS/0a5cwz6007/2kUk1oPPSvxp1NqcBM9K/PlgjGWNy0b9jOxCLxLHQvw89+vlL4s+/WAPU3Q5hzr+hya3B0d/Mv+qPh6WUXsu/MlZhiVfdyb97HDttGlzIv8TiFFHd2sa/DanuNKBZxb9Wb8gYY9jDv581ovwlV8K/6Pt74OjVwL9ihKuIV6m+v/QQX1Ddpru/hJ0SGGOkuL8YKsbf6KG1v6i2eadun7K/cIZa3ug5r7+Yn8Ft9DSpv7i4KP3/L6O/wKMfGRdWmr8ArNtvXJiMv4BC4LUqEmK/4IrrFEePgz8gk6drjNGVP3CwbKa67aA/UJcFF6/ypj8ofp6Ho/esP4SyG/xLfrE/8CVoNMaAtD9gmbRsQIO3P8wMAaW6hbo/PIBN3TSIvT/U+cyKV0XAP4wz86aUxsE/RG0Zw9FHwz/8pj/fDsnEP7DgZftLSsY/aBqMF4nLxz8gVLIzxkzJP9iN2E8Dzso/kMf+a0BPzD9EASWIfdDNPw==\",\"dtype\":\"float64\",\"shape\":[50]},\"right\":{\"__ndarray__\":\"iOiC33s11b+ty29R3XTUv9GuXMM+tNO/9pFJNaDz0r8adTanATPSvz5YIxljctG/YzsQi8Sx0L8PPfr5S+LPv1gD1N0OYc6/ocmtwdHfzL/qj4ellF7LvzJWYYlX3cm/exw7bRpcyL/E4hRR3drGvw2p7jSgWcW/Vm/IGGPYw7+fNaL8JVfCv+j7e+Do1cC/YoSriFepvr/0EF9Q3aa7v4SdEhhjpLi/GCrG3+ihtb+otnmnbp+yv3CGWt7oOa+/mJ/BbfQ0qb+4uCj9/y+jv8CjHxkXVpq/AKzbb1yYjL+AQuC1KhJiv+CK6xRHj4M/IJOna4zRlT9wsGymuu2gP1CXBRev8qY/KH6eh6P3rD+Eshv8S36xP/AlaDTGgLQ/YJm0bECDtz/MDAGluoW6PzyATd00iL0/1PnMildFwD+MM/OmlMbBP0RtGcPRR8M//KY/3w7JxD+w4GX7S0rGP2gajBeJy8c/IFSyM8ZMyT/YjdhPA87KP5DH/mtAT8w/RAEliH3QzT/8OkukulHPPw==\",\"dtype\":\"float64\",\"shape\":[50]},\"top\":{\"__ndarray__\":\"2GcoZR5Fqz8AAAAAAAAAAAAAAAAAAAAAAAAAAAAAAAAAAAAAAAAAAAAAAAAAAAAAAAAAAAAAAADrZyhlHkWrPwAAAAAAAAAAAAAAAAAAAADrZyhlHkW7PwAAAAAAAAAAAAAAAAAAAADrZyhlHkW7P/BN3svWc8Q/80A5/zIL0T/zQDn/MgvRP+1ag5h63Nc/s/0PDAox8D/tWoOYetz3P6QKtditmQNAfe56S3D5DEAOCrlb8KUXQDUYViIP9iJALv0Tj0w9JEAdnqyLo7YoQA7i0fuJhCVAQ2cs6GBRH0CNaCTi2zgXQBjwbsKo1BBA3jKcOBS7BUDYZyhlHkX7PyKRB7//TfU/feHVfsyQ6T9lx4vlhL/iP/1nKGUeRds/50A5/zIL0T/+Td7L1nPEP+NN3svWc8Q//WcoZR5Fuz/YZyhlHkW7P+NN3svWc8Q/AAAAAAAAAAAAAAAAAAAAAAAAAAAAAAAA2GcoZR5Fqz8AAAAAAAAAAAAAAAAAAAAAAAAAAAAAAADYZyhlHkWrPw==\",\"dtype\":\"float64\",\"shape\":[50]}}},\"id\":\"51d53c94-b2a6-410a-bc61-b09318f66537\",\"type\":\"ColumnDataSource\"},{\"attributes\":{\"label\":{\"value\":\"Ground Truth\"},\"renderers\":[{\"id\":\"52860c01-a820-45ed-aa8d-a4d3faca7f76\",\"type\":\"GlyphRenderer\"}]},\"id\":\"500bcc6f-95ca-43a7-9ab8-d823d32fb961\",\"type\":\"LegendItem\"},{\"attributes\":{},\"id\":\"8b7b4556-ecc3-4e04-a225-2bd1555a70a6\",\"type\":\"SaveTool\"},{\"attributes\":{\"callback\":null,\"column_names\":[\"left\",\"right\",\"top\"],\"data\":{\"left\":{\"__ndarray__\":\"FzufRPoX7792IEeP93nuv9YF79n02+2/NeuWJPI97b+U0D5v75/sv/S15rnsAey/U5uOBOpj67+ygDZP58XqvxJm3pnkJ+q/ckuG5OGJ6b/RMC4v3+vovzAW1nncTei/kPt9xNmv57/v4CUP1xHnv07GzVnUc+a/rqt1pNHV5b8NkR3vzjflv2x2xTnMmeS/zFtthMn7478rQRXPxl3jv4omvRnEv+K/6gtlZMEh4r9J8QyvvoPhv6jWtPm75eC/CLxcRLlH4L/PQgkebVPfv44NWbNnF96/TNioSGLb3L8Ko/jdXJ/bv8ptSHNXY9q/iDiYCFIn2b9IA+idTOvXvwbONzNHr9a/xJiHyEFz1b+EY9ddPDfUv0IuJ/M2+9K/Avl2iDG/0b/Aw8YdLIPQv/wcLWZNjs6/fLLMkEIWzL/4R2y7N57Jv3TdC+YsJse/9HKrECKuxL9wCEs7FzbCv9g71csYfL+/2GYUIQOMur/QkVN27Zu1v9C8ksvXq7C/kM+jQYR3p78AS0TYsS6bvw==\",\"dtype\":\"float64\",\"shape\":[50]},\"right\":{\"__ndarray__\":\"diBHj/d57r/WBe/Z9NvtvzXrliTyPe2/lNA+b++f7L/0tea57AHsv1ObjgTqY+u/soA2T+fF6r8SZt6Z5Cfqv3JLhuThiem/0TAuL9/r6L8wFtZ53E3ov5D7fcTZr+e/7+AlD9cR579Oxs1Z1HPmv66rdaTR1eW/DZEd78435b9sdsU5zJnkv8xbbYTJ++O/K0EVz8Zd47+KJr0ZxL/iv+oLZWTBIeK/SfEMr76D4b+o1rT5u+Xgvwi8XES5R+C/z0IJHm1T37+ODVmzZxfev0zYqEhi29y/CqP43Vyf27/KbUhzV2Pav4g4mAhSJ9m/SAPonUzr178GzjczR6/Wv8SYh8hBc9W/hGPXXTw31L9CLifzNvvSvwL5dogxv9G/wMPGHSyD0L/8HC1mTY7Ov3yyzJBCFsy/+Edsuzeeyb903QvmLCbHv/RyqxAirsS/cAhLOxc2wr/YO9XLGHy/v9hmFCEDjLq/0JFTdu2btb/QvJLL16uwv5DPo0GEd6e/AEtE2LEum7843AO1bLl9vw==\",\"dtype\":\"float64\",\"shape\":[50]},\"top\":{\"__ndarray__\":\"Zqw3IhefoD+BrDciF5+gP2asNyIXn6A/Zqw3IhefoD8AAAAAAAAAAAAAAAAAAAAAAAAAAAAAAAAAAAAAAAAAAAAAAAAAAAAAAAAAAAAAAAAAAAAAAAAAAAAAAAAAAAAAAAAAAAAAAAAAAAAAAAAAAIGsNyIXn6A/AAAAAAAAAAAAAAAAAAAAAAAAAAAAAAAAZqw3IhefoD9mrDciF5+gP4GsNyIXn6A/AAAAAAAAAABmrDciF5+gP4GsNyIXn6A/AAAAAAAAAAAAAAAAAAAAAAAAAAAAAAAAAAAAAAAAAACBrDciF5/AP2asNyIXn7A/wYJTs6LuuD+YglOzou64P2asNyIXn6A/wYJTs6LuuD9mrDciF5+wP8GCU7Oi7sg/gJfF6tzG1D8leJqXhQLbPxGifgb6suI/0gcwQbHk5z+P5GxNAS7yPzGNDM+/2vY/rR7uyBe2CUAXi8B+k+EQQKCY6xJzwxdAyWlJ2w8kIUAil7LWkUgjQMlpSdsPJCFAYK1dSq2bE0CMrDciF5/wPw==\",\"dtype\":\"float64\",\"shape\":[50]}}},\"id\":\"fe9ed0ec-3fb0-4f2a-850d-c80d772d0539\",\"type\":\"ColumnDataSource\"},{\"attributes\":{},\"id\":\"76c1f5f3-9522-474a-b95e-da4f8c469918\",\"type\":\"LinearScale\"},{\"attributes\":{\"height\":600,\"width\":600},\"id\":\"54a7cae3-b735-4641-bf24-a953ba64dc9f\",\"type\":\"Spacer\"},{\"attributes\":{\"dimension\":1,\"plot\":{\"id\":\"670e7b39-f773-4298-9805-48f622506e25\",\"subtype\":\"Figure\",\"type\":\"Plot\"},\"ticker\":{\"id\":\"17907f39-d6aa-4f48-b7ce-453bc6d55caf\",\"type\":\"BasicTicker\"}},\"id\":\"292f317a-686d-4a58-99b4-e6367aeb98d5\",\"type\":\"Grid\"},{\"attributes\":{\"axis_label\":\"Slope Difference to ground truth\",\"formatter\":{\"id\":\"f1d08941-3a15-4b28-a51e-3f7bb60ddf8c\",\"type\":\"BasicTickFormatter\"},\"plot\":{\"id\":\"670e7b39-f773-4298-9805-48f622506e25\",\"subtype\":\"Figure\",\"type\":\"Plot\"},\"ticker\":{\"id\":\"b5b60592-5dc3-42b4-bc9b-fb3e71d9a7fa\",\"type\":\"BasicTicker\"}},\"id\":\"7de704c2-8e6e-4141-ba0c-2cf81bfba5ec\",\"type\":\"LinearAxis\"},{\"attributes\":{},\"id\":\"8e0d263c-0135-4343-88cd-e316a9340667\",\"type\":\"LinearScale\"},{\"attributes\":{},\"id\":\"5bc3eb1e-ce70-4c30-980c-b86502a6dfa8\",\"type\":\"BasicTicker\"},{\"attributes\":{\"bottom\":{\"value\":0},\"fill_color\":{\"value\":\"#036564\"},\"left\":{\"field\":\"left\"},\"line_color\":{\"value\":\"#033649\"},\"right\":{\"field\":\"right\"},\"top\":{\"field\":\"top\"}},\"id\":\"f18225b7-2085-44dd-9f56-0db90a90b096\",\"type\":\"Quad\"},{\"attributes\":{\"plot\":{\"id\":\"ec92f40e-d894-45ba-a90c-b46a443491fc\",\"subtype\":\"Figure\",\"type\":\"Plot\"},\"ticker\":{\"id\":\"e65d7703-b364-42ff-987f-bf3b141278e4\",\"type\":\"BasicTicker\"}},\"id\":\"d4cb296b-9377-498a-afd2-fe8081e4f47e\",\"type\":\"Grid\"},{\"attributes\":{\"dimension\":1,\"plot\":{\"id\":\"bf6d4353-9476-4bb5-b42b-2548e91760d5\",\"subtype\":\"Figure\",\"type\":\"Plot\"},\"ticker\":{\"id\":\"5bc3eb1e-ce70-4c30-980c-b86502a6dfa8\",\"type\":\"BasicTicker\"}},\"id\":\"25684b61-1b99-45a2-9a6e-1bd67515075b\",\"type\":\"Grid\"},{\"attributes\":{\"tools\":[{\"id\":\"4df61a47-b6f5-4aa1-8a0a-e370c4a92e8d\",\"type\":\"SaveTool\"},{\"id\":\"8b7b4556-ecc3-4e04-a225-2bd1555a70a6\",\"type\":\"SaveTool\"},{\"id\":\"62710e77-5bf4-4e7f-918e-c026affcada6\",\"type\":\"SaveTool\"}]},\"id\":\"f18b222f-7820-4291-a759-fcab19213f4c\",\"type\":\"ProxyToolbar\"},{\"attributes\":{\"source\":{\"id\":\"86a7b0be-6c44-4f23-95a2-3345cc4ea303\",\"type\":\"ColumnDataSource\"}},\"id\":\"8cf2d598-3666-48fb-8a04-318097cb7cb0\",\"type\":\"CDSView\"},{\"attributes\":{},\"id\":\"c0dbfd7a-4c74-412f-ac20-e9ef171b64ad\",\"type\":\"LinearScale\"},{\"attributes\":{\"bottom\":{\"value\":0},\"fill_alpha\":{\"value\":0.5},\"fill_color\":{\"value\":\"#aaabbb\"},\"left\":{\"field\":\"left\"},\"line_alpha\":{\"value\":0.5},\"line_color\":{\"value\":\"#033649\"},\"right\":{\"field\":\"right\"},\"top\":{\"field\":\"top\"}},\"id\":\"4778e462-8b01-46cb-b4c5-bcd89968764b\",\"type\":\"Quad\"},{\"attributes\":{},\"id\":\"b5b60592-5dc3-42b4-bc9b-fb3e71d9a7fa\",\"type\":\"BasicTicker\"},{\"attributes\":{\"plot\":{\"id\":\"670e7b39-f773-4298-9805-48f622506e25\",\"subtype\":\"Figure\",\"type\":\"Plot\"},\"ticker\":{\"id\":\"b5b60592-5dc3-42b4-bc9b-fb3e71d9a7fa\",\"type\":\"BasicTicker\"}},\"id\":\"57abefbe-7fc0-4758-ab65-e7a640812f09\",\"type\":\"Grid\"},{\"attributes\":{},\"id\":\"fc0bcd21-fb33-4013-aef8-9a00b091ef59\",\"type\":\"LinearScale\"},{\"attributes\":{\"active_drag\":\"auto\",\"active_inspect\":\"auto\",\"active_scroll\":\"auto\",\"active_tap\":\"auto\",\"tools\":[{\"id\":\"4df61a47-b6f5-4aa1-8a0a-e370c4a92e8d\",\"type\":\"SaveTool\"}]},\"id\":\"f7a484bb-a060-4e75-bf8e-ad5576edf7cb\",\"type\":\"Toolbar\"},{\"attributes\":{\"toolbar\":{\"id\":\"f18b222f-7820-4291-a759-fcab19213f4c\",\"type\":\"ProxyToolbar\"},\"toolbar_location\":\"above\"},\"id\":\"b9ef76d5-157f-4742-bad2-c8ae7478f044\",\"type\":\"ToolbarBox\"},{\"attributes\":{\"active_drag\":\"auto\",\"active_inspect\":\"auto\",\"active_scroll\":\"auto\",\"active_tap\":\"auto\",\"tools\":[{\"id\":\"62710e77-5bf4-4e7f-918e-c026affcada6\",\"type\":\"SaveTool\"}]},\"id\":\"92bb8c84-0490-472f-8f59-ccbb0334946e\",\"type\":\"Toolbar\"},{\"attributes\":{\"bottom\":{\"value\":0},\"fill_color\":{\"value\":\"#036564\"},\"left\":{\"field\":\"left\"},\"line_color\":{\"value\":\"#033649\"},\"right\":{\"field\":\"right\"},\"top\":{\"field\":\"top\"}},\"id\":\"ca09095c-31fb-40d4-b412-f1fd10ce481a\",\"type\":\"Quad\"},{\"attributes\":{\"children\":[{\"id\":\"b9ef76d5-157f-4742-bad2-c8ae7478f044\",\"type\":\"ToolbarBox\"},{\"id\":\"6705e26f-92a5-43a5-bf35-0f25c27167f6\",\"type\":\"Column\"}]},\"id\":\"deaf9381-5f90-44f5-80bc-f6af6958d4f9\",\"type\":\"Column\"},{\"attributes\":{\"axis_label\":\"Histogram\",\"formatter\":{\"id\":\"7f9d0c08-90ab-40b1-81b6-fd68815c71ba\",\"type\":\"BasicTickFormatter\"},\"plot\":{\"id\":\"670e7b39-f773-4298-9805-48f622506e25\",\"subtype\":\"Figure\",\"type\":\"Plot\"},\"ticker\":{\"id\":\"17907f39-d6aa-4f48-b7ce-453bc6d55caf\",\"type\":\"BasicTicker\"}},\"id\":\"ad4d91af-31b2-4cd1-9d6c-6ab5be996471\",\"type\":\"LinearAxis\"},{\"attributes\":{},\"id\":\"17907f39-d6aa-4f48-b7ce-453bc6d55caf\",\"type\":\"BasicTicker\"},{\"attributes\":{},\"id\":\"4df61a47-b6f5-4aa1-8a0a-e370c4a92e8d\",\"type\":\"SaveTool\"},{\"attributes\":{\"bottom\":{\"value\":0},\"fill_alpha\":{\"value\":0.1},\"fill_color\":{\"value\":\"#1f77b4\"},\"left\":{\"field\":\"left\"},\"line_alpha\":{\"value\":0.1},\"line_color\":{\"value\":\"#1f77b4\"},\"right\":{\"field\":\"right\"},\"top\":{\"field\":\"top\"}},\"id\":\"6057cb44-4c91-42d5-bf6d-4604fd4ace6e\",\"type\":\"Quad\"},{\"attributes\":{\"source\":{\"id\":\"cc993572-6223-479d-99bf-055ee8e32257\",\"type\":\"ColumnDataSource\"}},\"id\":\"c6063ac8-a577-47cf-8b6a-313426fe2219\",\"type\":\"CDSView\"},{\"attributes\":{\"bottom\":{\"value\":0},\"fill_alpha\":{\"value\":0.5},\"fill_color\":{\"value\":\"#fffaaa\"},\"left\":{\"field\":\"left\"},\"line_alpha\":{\"value\":0.5},\"line_color\":{\"value\":\"#033649\"},\"right\":{\"field\":\"right\"},\"top\":{\"field\":\"top\"}},\"id\":\"5bca3b94-ac9f-4275-93db-4903d8bf073a\",\"type\":\"Quad\"},{\"attributes\":{\"callback\":null},\"id\":\"7e0d7d05-dc70-4df8-97d5-bb4467fbf86e\",\"type\":\"DataRange1d\"},{\"attributes\":{\"data_source\":{\"id\":\"86a7b0be-6c44-4f23-95a2-3345cc4ea303\",\"type\":\"ColumnDataSource\"},\"glyph\":{\"id\":\"5bca3b94-ac9f-4275-93db-4903d8bf073a\",\"type\":\"Quad\"},\"hover_glyph\":null,\"muted_glyph\":null,\"nonselection_glyph\":{\"id\":\"2fac7762-baa9-4a64-8906-fdb43ed3c6bf\",\"type\":\"Quad\"},\"selection_glyph\":null,\"view\":{\"id\":\"8cf2d598-3666-48fb-8a04-318097cb7cb0\",\"type\":\"CDSView\"}},\"id\":\"25054915-34f3-4a39-ba9e-b6a46757fe3b\",\"type\":\"GlyphRenderer\"},{\"attributes\":{},\"id\":\"00178e31-0d5a-426d-a4fe-3bd8bbdab036\",\"type\":\"LinearScale\"},{\"attributes\":{\"label\":{\"value\":\"Contaminated\"},\"renderers\":[{\"id\":\"93975fdf-c19a-4561-a895-e05f6136cf10\",\"type\":\"GlyphRenderer\"}]},\"id\":\"742f3cf2-03c1-4857-af91-79ef002c4da6\",\"type\":\"LegendItem\"},{\"attributes\":{\"plot\":{\"id\":\"bf6d4353-9476-4bb5-b42b-2548e91760d5\",\"subtype\":\"Figure\",\"type\":\"Plot\"},\"ticker\":{\"id\":\"c21b9e6f-f1ec-4a48-969c-1e7dfcc16490\",\"type\":\"BasicTicker\"}},\"id\":\"c4dcaf56-a33d-4e7a-ac3f-67a3bcd07d22\",\"type\":\"Grid\"},{\"attributes\":{\"children\":[{\"id\":\"bf6d4353-9476-4bb5-b42b-2548e91760d5\",\"subtype\":\"Figure\",\"type\":\"Plot\"},{\"id\":\"54a7cae3-b735-4641-bf24-a953ba64dc9f\",\"type\":\"Spacer\"}]},\"id\":\"a31b6aa3-44b3-4581-8aa1-33c2c68435c4\",\"type\":\"Row\"},{\"attributes\":{\"callback\":null},\"id\":\"6cf5a165-75e9-4a90-b2af-fc03be6de548\",\"type\":\"DataRange1d\"},{\"attributes\":{},\"id\":\"c21b9e6f-f1ec-4a48-969c-1e7dfcc16490\",\"type\":\"BasicTicker\"},{\"attributes\":{\"plot\":null,\"text\":\"Slope of regressor before/after contamination\"},\"id\":\"6fedfc12-eec7-405d-9011-3b218308bee1\",\"type\":\"Title\"},{\"attributes\":{\"callback\":null},\"id\":\"8b0e55e7-1eb0-4a48-9455-27cc876fc27a\",\"type\":\"DataRange1d\"},{\"attributes\":{\"axis_label\":\"R2\",\"formatter\":{\"id\":\"ec1c06fc-998f-4a77-8bf4-249be0f138cf\",\"type\":\"BasicTickFormatter\"},\"plot\":{\"id\":\"bf6d4353-9476-4bb5-b42b-2548e91760d5\",\"subtype\":\"Figure\",\"type\":\"Plot\"},\"ticker\":{\"id\":\"c21b9e6f-f1ec-4a48-969c-1e7dfcc16490\",\"type\":\"BasicTicker\"}},\"id\":\"4d4c2fb5-40ab-40e7-91bb-6da3ea131802\",\"type\":\"LinearAxis\"},{\"attributes\":{\"background_fill_color\":{\"value\":\"#E8DDCB\"},\"below\":[{\"id\":\"5d47deb6-11d2-41e8-a8ce-e728dcd757cc\",\"type\":\"LinearAxis\"}],\"left\":[{\"id\":\"0a611c46-482f-468b-a930-b52fc820702d\",\"type\":\"LinearAxis\"}],\"renderers\":[{\"id\":\"5d47deb6-11d2-41e8-a8ce-e728dcd757cc\",\"type\":\"LinearAxis\"},{\"id\":\"d4cb296b-9377-498a-afd2-fe8081e4f47e\",\"type\":\"Grid\"},{\"id\":\"0a611c46-482f-468b-a930-b52fc820702d\",\"type\":\"LinearAxis\"},{\"id\":\"7a9696c3-3357-4045-8f64-f06632bb372b\",\"type\":\"Grid\"},{\"id\":\"8beb8f07-a871-40cc-94c0-6b9a46331e0d\",\"type\":\"Legend\"},{\"id\":\"cd760d5d-adf4-4bb4-aa56-9b069b892887\",\"type\":\"GlyphRenderer\"},{\"id\":\"58d821ae-0b39-4368-a34e-0e2f5464ec83\",\"type\":\"GlyphRenderer\"}],\"title\":{\"id\":\"6fedfc12-eec7-405d-9011-3b218308bee1\",\"type\":\"Title\"},\"toolbar\":{\"id\":\"f7a484bb-a060-4e75-bf8e-ad5576edf7cb\",\"type\":\"Toolbar\"},\"toolbar_location\":null,\"x_range\":{\"id\":\"7e0d7d05-dc70-4df8-97d5-bb4467fbf86e\",\"type\":\"DataRange1d\"},\"x_scale\":{\"id\":\"00178e31-0d5a-426d-a4fe-3bd8bbdab036\",\"type\":\"LinearScale\"},\"y_range\":{\"id\":\"6cf5a165-75e9-4a90-b2af-fc03be6de548\",\"type\":\"DataRange1d\"},\"y_scale\":{\"id\":\"8e0d263c-0135-4343-88cd-e316a9340667\",\"type\":\"LinearScale\"}},\"id\":\"ec92f40e-d894-45ba-a90c-b46a443491fc\",\"subtype\":\"Figure\",\"type\":\"Plot\"},{\"attributes\":{\"bottom\":{\"value\":0},\"fill_alpha\":{\"value\":0.1},\"fill_color\":{\"value\":\"#1f77b4\"},\"left\":{\"field\":\"left\"},\"line_alpha\":{\"value\":0.1},\"line_color\":{\"value\":\"#1f77b4\"},\"right\":{\"field\":\"right\"},\"top\":{\"field\":\"top\"}},\"id\":\"147f6768-3e9e-4326-abc0-30cfec7b6614\",\"type\":\"Quad\"},{\"attributes\":{\"data_source\":{\"id\":\"cc993572-6223-479d-99bf-055ee8e32257\",\"type\":\"ColumnDataSource\"},\"glyph\":{\"id\":\"4778e462-8b01-46cb-b4c5-bcd89968764b\",\"type\":\"Quad\"},\"hover_glyph\":null,\"muted_glyph\":null,\"nonselection_glyph\":{\"id\":\"147f6768-3e9e-4326-abc0-30cfec7b6614\",\"type\":\"Quad\"},\"selection_glyph\":null,\"view\":{\"id\":\"c6063ac8-a577-47cf-8b6a-313426fe2219\",\"type\":\"CDSView\"}},\"id\":\"93975fdf-c19a-4561-a895-e05f6136cf10\",\"type\":\"GlyphRenderer\"},{\"attributes\":{\"callback\":null},\"id\":\"216aae68-d159-4020-96b2-e0e74de10824\",\"type\":\"DataRange1d\"},{\"attributes\":{\"dimension\":1,\"plot\":{\"id\":\"ec92f40e-d894-45ba-a90c-b46a443491fc\",\"subtype\":\"Figure\",\"type\":\"Plot\"},\"ticker\":{\"id\":\"4ce99c48-81cf-4c51-8131-c2689e551cd0\",\"type\":\"BasicTicker\"}},\"id\":\"7a9696c3-3357-4045-8f64-f06632bb372b\",\"type\":\"Grid\"}],\"root_ids\":[\"deaf9381-5f90-44f5-80bc-f6af6958d4f9\"]},\"title\":\"Bokeh Application\",\"version\":\"0.12.13\"}};\n",
       "  var render_items = [{\"docid\":\"34ef766f-58f5-4357-8d14-726139ee54e4\",\"elementid\":\"ed1269bf-5875-49fb-b3d8-5fb01d30151b\",\"modelid\":\"deaf9381-5f90-44f5-80bc-f6af6958d4f9\"}];\n",
       "  root.Bokeh.embed.embed_items_notebook(docs_json, render_items);\n",
       "\n",
       "  }\n",
       "  if (root.Bokeh !== undefined) {\n",
       "    embed_document(root);\n",
       "  } else {\n",
       "    var attempts = 0;\n",
       "    var timer = setInterval(function(root) {\n",
       "      if (root.Bokeh !== undefined) {\n",
       "        embed_document(root);\n",
       "        clearInterval(timer);\n",
       "      }\n",
       "      attempts++;\n",
       "      if (attempts > 100) {\n",
       "        console.log(\"Bokeh: ERROR: Unable to run BokehJS code because BokehJS library is missing\")\n",
       "        clearInterval(timer);\n",
       "      }\n",
       "    }, 10, root)\n",
       "  }\n",
       "})(window);"
      ],
      "application/vnd.bokehjs_exec.v0+json": ""
     },
     "metadata": {
      "application/vnd.bokehjs_exec.v0+json": {
       "id": "deaf9381-5f90-44f5-80bc-f6af6958d4f9"
      }
     },
     "output_type": "display_data"
    }
   ],
   "source": [
    "i = 0\n",
    "ff = lambda x: x+ np.random.normal(-2, 1, len(x))\n",
    "ffx = lambda x: x+ np.random.normal(0, 10, len(x))\n",
    "gt = {}\n",
    "gt['r2'] = []\n",
    "gt['sl'] = []\n",
    "gt['_r2'] = []\n",
    "gt['_sl'] = []\n",
    "for w in A:\n",
    "    if w['r2']<90: continue\n",
    "    i = i +1\n",
    "    tmp  = w['envelope']\n",
    "    a = [xx[0] for xx in tmp]\n",
    "    a = ffx(a)\n",
    "    b = [xx[1] for xx in tmp]\n",
    "    b = ff(b)\n",
    "    gt['r2'].append(w['r2'])\n",
    "    gt['sl'].append(-w['slope']/100)\n",
    "    D = lslinear(a,b)\n",
    "    gt['_r2'].append(D['r2'])\n",
    "    gt['_sl'].append(D['slope'])\n",
    "slopes = gt['sl']\n",
    "r2 = gt['r2']\n",
    "_slopes = gt['_sl']\n",
    "_r2 = gt['_r2']\n",
    "\n",
    "\n",
    "\n",
    "p1 = figure(title=\"Slope of regressor before/after contamination\",tools=\"save\",\n",
    "            background_fill_color=\"#E8DDCB\")\n",
    "\n",
    "\n",
    "measured = slopes\n",
    "hist, edges = np.histogram(measured, density=True, bins=50)\n",
    "\n",
    "\n",
    "p1.quad(top=hist, bottom=0, left=edges[:-1], right=edges[1:],fill_color=\"#036564\", line_color=\"#033649\", legend= 'Ground Truth')\n",
    "\n",
    "\n",
    "measured = _slopes\n",
    "hist, edges = np.histogram(measured, density=True, bins=50)\n",
    "\n",
    "p1.quad(top=hist, bottom=0, left=edges[:-1], right=edges[1:],fill_color=\"#aaabbb\", alpha=.8, legend= 'Contaminated')\n",
    "\n",
    "\n",
    "p1.legend.location = \"center_right\"\n",
    "p1.legend.background_fill_color = \"darkgrey\"\n",
    "p1.xaxis.axis_label = 'Slope'\n",
    "p1.yaxis.axis_label = 'Histogram'\n",
    "\n",
    "\n",
    "\n",
    "p2 = figure(title=\"Slope Contamination Amplitude\", tools=\"save\",background_fill_color=\"#E8DDCB\")\n",
    "\n",
    "\n",
    "\n",
    "measured = [np.abs(_slopes[i]-slopes[i]) for i in range(len(_slopes))]\n",
    "hist, edges = np.histogram(measured, density=True, bins=50)\n",
    "\n",
    "\n",
    "p2.quad(top=hist, bottom=0, left=edges[:-1], right=edges[1:],fill_color=\"#fffaaa\", line_color=\"#033649\",alpha = .5)\n",
    "\n",
    "p2.legend.location = \"center_right\"\n",
    "p2.legend.background_fill_color = \"darkgrey\"\n",
    "p2.xaxis.axis_label = 'Slope Difference to ground truth'\n",
    "p2.yaxis.axis_label = 'Histogram'\n",
    "\n",
    "# -----------------\n",
    "\n",
    "\n",
    "\n",
    "\n",
    "p3 = figure(title=\"R2 before/after contamination\",tools=\"save\",\n",
    "            background_fill_color=\"#E8DDCB\")\n",
    "\n",
    "\n",
    "measured = r2\n",
    "hist, edges = np.histogram(measured, density=True, bins=50)\n",
    "\n",
    "\n",
    "p3.quad(top=hist, bottom=0, left=edges[:-1], right=edges[1:],fill_color=\"#036564\", line_color=\"#033649\", legend = \"Ground Truth\")\n",
    "\n",
    "\n",
    "p3.legend.location = \"center_right\"\n",
    "p3.legend.background_fill_color = \"darkgrey\"\n",
    "p3.xaxis.axis_label = 'R2'\n",
    "p3.yaxis.axis_label = 'Histogram'\n",
    "\n",
    "\n",
    "\n",
    "p4 = figure(title=\"Slopes  somewhat connected\", tools=\"save\",background_fill_color=\"#E8DDCB\")\n",
    "\n",
    "\n",
    "\n",
    "measured = _r2\n",
    "hist, edges = np.histogram(measured, density=True, bins=50)\n",
    "\n",
    "\n",
    "p3.quad(top=hist, bottom=0, left=edges[:-1], right=edges[1:],fill_color=\"#aaabbb\", line_color=\"#033649\",alpha=.5, legend = \"Contaminated\")\n",
    "\n",
    "p4.legend.location = \"center_right\"\n",
    "p4.legend.background_fill_color = \"darkgrey\"\n",
    "p4.xaxis.axis_label = 'Slopes'\n",
    "p4.yaxis.axis_label = 'Histogram'\n",
    "\n",
    "\n",
    "grid = gridplot([[p1, p2],[p3, None]])\n",
    "show (grid)"
   ]
  },
  {
   "cell_type": "markdown",
   "metadata": {},
   "source": [
    "# Step 2: Estimating Ground Truth\n",
    "Now we want to consider the ground truth slope for X->Y again from contaminated data. We try to methods:\n",
    "- a : Weighted average of Source specific, taget specific ROI regressor and X-> Y regressor\n",
    "- b : max R2 among Source specific, taget specific ROI regressor and X-> Y regressor"
   ]
  },
  {
   "cell_type": "code",
   "execution_count": 32,
   "metadata": {},
   "outputs": [],
   "source": [
    "def fixes(r2,s,n1,n2):\n",
    "    c1 = R['s-'+n1]\n",
    "    c2 = R['t-'+n2]\n",
    "    o1 = None\n",
    "    o2 = None\n",
    "    if (r2> c1[0] and r2> c2[0]):\n",
    "        o1 = s\n",
    "    elif (c1[0]> r2 and c1[0] > c2[0]):\n",
    "        o1 = c1[1]\n",
    "    else:\n",
    "        o1 = c2[1]\n",
    "    sumr2 = r2 + c1[0] + c2[0]\n",
    "    o2 = (c1[1]*c1[0]+c2[0]*c2[1]+s*r2)/sumr2\n",
    "    return (o1,o2)\n",
    "\n",
    "ff = lambda x: x+ np.random.normal(-2, 1, len(x))\n",
    "ffx = lambda x: x+ np.random.normal(0, 10, len(x))\n",
    "gt = {}\n",
    "gt['r2'] = []\n",
    "gt['sl'] = []\n",
    "gt['_r2'] = []\n",
    "gt['_sl'] = []\n",
    "gt['sl_max'] = []\n",
    "gt['sl_avg'] = []\n",
    "for w in A:\n",
    "    if w['r2']<90: continue\n",
    "    i = i + 1\n",
    "    tmp  = w['envelope']\n",
    "    a = [xx[0] for xx in tmp]\n",
    "    a = ffx(a)\n",
    "    b = [xx[1] for xx in tmp]\n",
    "    b = ff(b)\n",
    "    gt['r2'].append(w['r2'])\n",
    "    gt['sl'].append(-w['slope']/100)\n",
    "    D = lslinear(a,b)\n",
    "    gt['_r2'].append(D['r2'])\n",
    "    gt['_sl'].append(D['slope'])\n",
    "    o1, o2 = fixes(D['r2'],D['slope'],w['n1'],w['n2'])\n",
    "    gt['sl_max'].append(o1)\n",
    "    gt['sl_avg'].append(o2)"
   ]
  },
  {
   "cell_type": "code",
   "execution_count": 8,
   "metadata": {},
   "outputs": [],
   "source": [
    "\n",
    "        "
   ]
  },
  {
   "cell_type": "code",
   "execution_count": 33,
   "metadata": {},
   "outputs": [],
   "source": [
    "max_method = np.abs(np.array(gt['sl_max']) - np.array(gt['sl']))\n",
    "avg_method = np.abs(np.array(gt['sl_avg']) - np.array(gt['sl']))\n",
    "no_method = np.abs(np.array(gt['_sl']) - np.array(gt['sl']))"
   ]
  },
  {
   "cell_type": "code",
   "execution_count": 37,
   "metadata": {},
   "outputs": [
    {
     "data": {
      "text/html": [
       "\n",
       "<div class=\"bk-root\">\n",
       "    <div class=\"bk-plotdiv\" id=\"b8ff72c9-d09e-4851-904a-9b5fa3fe7afe\"></div>\n",
       "</div>"
      ]
     },
     "metadata": {},
     "output_type": "display_data"
    },
    {
     "data": {
      "application/javascript": [
       "(function(root) {\n",
       "  function embed_document(root) {\n",
       "    \n",
       "  var docs_json = {\"bddc644f-76f8-4173-8747-b4cd92cfa598\":{\"roots\":{\"references\":[{\"attributes\":{\"background_fill_color\":{\"value\":\"darkgrey\"},\"items\":[{\"id\":\"7b714abe-4a53-4f81-a3b5-a206965ed0cb\",\"type\":\"LegendItem\"},{\"id\":\"5b73c53f-1d19-4990-a8c7-57f5a97c9cd9\",\"type\":\"LegendItem\"}],\"location\":\"center_right\",\"plot\":{\"id\":\"1fb13bc0-58ce-4315-99cb-e055cc1de716\",\"subtype\":\"Figure\",\"type\":\"Plot\"}},\"id\":\"2d11d540-81c8-4265-b6ed-831bf5296355\",\"type\":\"Legend\"},{\"attributes\":{\"label\":{\"value\":\"Ground Truth + noise\"},\"renderers\":[{\"id\":\"8aca43dc-3a38-423e-b19b-706625b97958\",\"type\":\"GlyphRenderer\"}]},\"id\":\"b7ce11c9-98b4-48d8-845d-222615713728\",\"type\":\"LegendItem\"},{\"attributes\":{\"bottom\":{\"value\":0},\"fill_alpha\":{\"value\":0.1},\"fill_color\":{\"value\":\"#1f77b4\"},\"left\":{\"field\":\"left\"},\"line_alpha\":{\"value\":0.1},\"line_color\":{\"value\":\"#1f77b4\"},\"right\":{\"field\":\"right\"},\"top\":{\"field\":\"top\"}},\"id\":\"27718e8a-3eb7-4541-91a6-488b19627ca5\",\"type\":\"Quad\"},{\"attributes\":{\"bottom\":{\"value\":0},\"fill_alpha\":{\"value\":0.5},\"fill_color\":{\"value\":\"#036564\"},\"left\":{\"field\":\"left\"},\"line_alpha\":{\"value\":0.5},\"line_color\":{\"value\":\"#aaabbb\"},\"right\":{\"field\":\"right\"},\"top\":{\"field\":\"top\"}},\"id\":\"bac26c1b-84b2-485e-903e-0c9cc0db6202\",\"type\":\"Quad\"},{\"attributes\":{},\"id\":\"251c2632-3748-4699-b26b-1325a39d656e\",\"type\":\"BasicTicker\"},{\"attributes\":{\"bottom\":{\"value\":0},\"fill_alpha\":{\"value\":0.1},\"fill_color\":{\"value\":\"#1f77b4\"},\"left\":{\"field\":\"left\"},\"line_alpha\":{\"value\":0.1},\"line_color\":{\"value\":\"#1f77b4\"},\"right\":{\"field\":\"right\"},\"top\":{\"field\":\"top\"}},\"id\":\"97fb5053-040b-4b80-aafa-f8e0ed0b4828\",\"type\":\"Quad\"},{\"attributes\":{},\"id\":\"2636add1-dced-4d92-b7d5-2222fc66b1a8\",\"type\":\"LinearScale\"},{\"attributes\":{\"bottom\":{\"value\":0},\"fill_color\":{\"value\":\"#fffaaa\"},\"left\":{\"field\":\"left\"},\"line_color\":{\"value\":\"#033649\"},\"right\":{\"field\":\"right\"},\"top\":{\"field\":\"top\"}},\"id\":\"d706573a-563c-4f0c-946b-b370c230718c\",\"type\":\"Quad\"},{\"attributes\":{\"source\":{\"id\":\"00a7e9af-71b3-4f26-965f-fb3ed85c3e25\",\"type\":\"ColumnDataSource\"}},\"id\":\"4d0a51f5-f1f6-41ea-b08a-afd1862fe341\",\"type\":\"CDSView\"},{\"attributes\":{\"callback\":null,\"column_names\":[\"left\",\"right\",\"top\"],\"data\":{\"left\":{\"__ndarray__\":\"AAAAAP7j7j0DpFyc6wOSPyNkbprrA6I/RHauZuEFqz8zRHeZ6wOyP0RNl3/mhLY/VFa3ZeEFuz9lX9dL3Ia/Pzu0+5jrA8I/w7gLDGlExD9MvRt/5oTGP9TBK/Jjxcg/XMY7ZeEFyz/lykvYXkbNP23PW0vchs8/++k136zj0D8/7L2Y6wPSP4PuRVIqJNM/x/DNC2lE1D8M81XFp2TVP1D13X7mhNY/lPdlOCWl1z/Y+e3xY8XYPxz8daui5dk/YP79ZOEF2z+lAIYeICbcP+kCDtheRt0/LQWWkZ1m3j9xBx5L3IbfP9sEU4KNU+A//QUX36zj4D8fB9s7zHPhP0EIn5jrA+I/Ywlj9QqU4j+FCidSKiTjP6cL665JtOM/yQyvC2lE5D/rDXNoiNTkPw4PN8WnZOU/MBD7Icf05T9SEb9+5oTmP3QSg9sFFec/lhNHOCWl5z+4FAuVRDXoP9oVz/Fjxeg//BaTToNV6T8eGFerouXpP0AZGwjCdeo/YhrfZOEF6z+FG6PBAJbrPw==\",\"dtype\":\"float64\",\"shape\":[50]},\"right\":{\"__ndarray__\":\"A6RcnOsDkj8jZG6a6wOiP0R2rmbhBas/M0R3mesDsj9ETZd/5oS2P1RWt2XhBbs/ZV/XS9yGvz87tPuY6wPCP8O4CwxpRMQ/TL0bf+aExj/UwSvyY8XIP1zGO2XhBcs/5cpL2F5GzT9tz1tL3IbPP/vpNd+s49A/P+y9mOsD0j+D7kVSKiTTP8fwzQtpRNQ/DPNVxadk1T9Q9d1+5oTWP5T3ZTglpdc/2Pnt8WPF2D8c/HWrouXZP2D+/WThBds/pQCGHiAm3D/pAg7YXkbdPy0FlpGdZt4/cQceS9yG3z/bBFOCjVPgP/0FF9+s4+A/HwfbO8xz4T9BCJ+Y6wPiP2MJY/UKlOI/hQonUiok4z+nC+uuSbTjP8kMrwtpROQ/6w1zaIjU5D8ODzfFp2TlPzAQ+yHH9OU/UhG/fuaE5j90EoPbBRXnP5YTRzglpec/uBQLlUQ16D/aFc/xY8XoP/wWk06DVek/HhhXq6Ll6T9AGRsIwnXqP2Ia32ThBes/hRujwQCW6z+nHGceICbsPw==\",\"dtype\":\"float64\",\"shape\":[50]},\"top\":{\"__ndarray__\":\"D+UlAYN+NkDwW5GOoHYvQDS/M5hFwR1AvsirY1JfEEBKBZVSZcD+P+BYY4xDgPQ/CJvPkrFc4z9Wkh55+ernPw2bz5KxXOM/JFCycosO2T863TuZHznSP9bL2WWvVbs/Md07mR85sj863TuZHzmyP8nL2WWvVbs/1svZZa9Vyz863TuZHzmyPzrdO5kfOcI/AAAAAAAAAAA63TuZHzmyPzrdO5kfOaI/Ot07mR85oj8AAAAAAAAAAAAAAAAAAAAAKt07mR85oj863TuZHzmiPwAAAAAAAAAAAAAAAAAAAAAq3TuZHzmiPzrdO5kfOaI/AAAAAAAAAAAAAAAAAAAAAAAAAAAAAAAAAAAAAAAAAAAAAAAAAAAAADrdO5kfOaI/AAAAAAAAAAAAAAAAAAAAAAAAAAAAAAAAAAAAAAAAAAAAAAAAAAAAAAAAAAAAAAAAAAAAAAAAAAAAAAAAAAAAAAAAAAAAAAAAAAAAAAAAAAA63TuZHzmiPwAAAAAAAAAAGd07mR85sj863TuZHzmiPw==\",\"dtype\":\"float64\",\"shape\":[50]}}},\"id\":\"1cac8239-5cb3-43eb-bd39-825c985da73b\",\"type\":\"ColumnDataSource\"},{\"attributes\":{\"toolbar\":{\"id\":\"6b70ec49-8ad4-4e1b-a641-92736b541dac\",\"type\":\"ProxyToolbar\"},\"toolbar_location\":\"above\"},\"id\":\"ada16841-8cc8-47d5-b96a-29cb00712153\",\"type\":\"ToolbarBox\"},{\"attributes\":{\"background_fill_color\":{\"value\":\"#E8DDCB\"},\"below\":[{\"id\":\"f771b992-cbfc-41f8-93fc-0fb934934e09\",\"type\":\"LinearAxis\"}],\"left\":[{\"id\":\"e1de4e0b-d48d-4070-9926-68e2760736c9\",\"type\":\"LinearAxis\"}],\"renderers\":[{\"id\":\"f771b992-cbfc-41f8-93fc-0fb934934e09\",\"type\":\"LinearAxis\"},{\"id\":\"97aa66ce-d6ca-4f6c-ab0a-db4994a8790c\",\"type\":\"Grid\"},{\"id\":\"e1de4e0b-d48d-4070-9926-68e2760736c9\",\"type\":\"LinearAxis\"},{\"id\":\"a70aa93f-0016-4e49-911d-c01c9ccf0779\",\"type\":\"Grid\"},{\"id\":\"2d11d540-81c8-4265-b6ed-831bf5296355\",\"type\":\"Legend\"},{\"id\":\"c71b7f3f-130a-4521-9fc6-8d9a36e3297e\",\"type\":\"GlyphRenderer\"},{\"id\":\"b35a227c-5366-4fdd-a99a-c145916e3de3\",\"type\":\"GlyphRenderer\"}],\"title\":{\"id\":\"1a24eb07-cea5-42ea-bbf2-fa6879f0d6ff\",\"type\":\"Title\"},\"toolbar\":{\"id\":\"8cde77ab-8dfb-4606-b00a-7e8ea32b8a89\",\"type\":\"Toolbar\"},\"toolbar_location\":null,\"x_range\":{\"id\":\"655e2d64-0136-44b4-a4b9-fcb058bb3116\",\"type\":\"DataRange1d\"},\"x_scale\":{\"id\":\"2636add1-dced-4d92-b7d5-2222fc66b1a8\",\"type\":\"LinearScale\"},\"y_range\":{\"id\":\"f353781b-a626-45f1-8c2e-a94880789b27\",\"type\":\"DataRange1d\"},\"y_scale\":{\"id\":\"326ebd15-81fc-4f2c-9469-f1f0788995a5\",\"type\":\"LinearScale\"}},\"id\":\"1fb13bc0-58ce-4315-99cb-e055cc1de716\",\"subtype\":\"Figure\",\"type\":\"Plot\"},{\"attributes\":{\"data_source\":{\"id\":\"00a7e9af-71b3-4f26-965f-fb3ed85c3e25\",\"type\":\"ColumnDataSource\"},\"glyph\":{\"id\":\"94dfef19-80df-4cec-ba56-7e4d6e5c0beb\",\"type\":\"Quad\"},\"hover_glyph\":null,\"muted_glyph\":null,\"nonselection_glyph\":{\"id\":\"27718e8a-3eb7-4541-91a6-488b19627ca5\",\"type\":\"Quad\"},\"selection_glyph\":null,\"view\":{\"id\":\"4d0a51f5-f1f6-41ea-b08a-afd1862fe341\",\"type\":\"CDSView\"}},\"id\":\"8aca43dc-3a38-423e-b19b-706625b97958\",\"type\":\"GlyphRenderer\"},{\"attributes\":{\"plot\":{\"id\":\"6918ae74-531a-4b27-bb00-c73151a23aed\",\"subtype\":\"Figure\",\"type\":\"Plot\"},\"ticker\":{\"id\":\"bb06f9db-1ab6-4423-a0b0-564e0787af46\",\"type\":\"BasicTicker\"}},\"id\":\"4c39b636-30e7-4f03-a5a7-51518a6b8986\",\"type\":\"Grid\"},{\"attributes\":{},\"id\":\"3136ab44-8f29-4527-bc3a-46f56227e6b3\",\"type\":\"BasicTicker\"},{\"attributes\":{\"bottom\":{\"value\":0},\"fill_alpha\":{\"value\":0.1},\"fill_color\":{\"value\":\"#1f77b4\"},\"left\":{\"field\":\"left\"},\"line_alpha\":{\"value\":0.1},\"line_color\":{\"value\":\"#1f77b4\"},\"right\":{\"field\":\"right\"},\"top\":{\"field\":\"top\"}},\"id\":\"3ce554d2-39a0-4d0e-94ce-78b08feee4a9\",\"type\":\"Quad\"},{\"attributes\":{\"axis_label\":\"Histogram\",\"formatter\":{\"id\":\"8980bc95-5a61-489e-8504-47e9736742d4\",\"type\":\"BasicTickFormatter\"},\"plot\":{\"id\":\"1fb13bc0-58ce-4315-99cb-e055cc1de716\",\"subtype\":\"Figure\",\"type\":\"Plot\"},\"ticker\":{\"id\":\"7fb3ee09-5c25-4aad-8f91-373237415e41\",\"type\":\"BasicTicker\"}},\"id\":\"e1de4e0b-d48d-4070-9926-68e2760736c9\",\"type\":\"LinearAxis\"},{\"attributes\":{\"bottom\":{\"value\":0},\"fill_alpha\":{\"value\":0.1},\"fill_color\":{\"value\":\"#1f77b4\"},\"left\":{\"field\":\"left\"},\"line_alpha\":{\"value\":0.1},\"line_color\":{\"value\":\"#1f77b4\"},\"right\":{\"field\":\"right\"},\"top\":{\"field\":\"top\"}},\"id\":\"b0a3cc78-47ca-44c4-b872-6b9aa425838d\",\"type\":\"Quad\"},{\"attributes\":{},\"id\":\"326ebd15-81fc-4f2c-9469-f1f0788995a5\",\"type\":\"LinearScale\"},{\"attributes\":{\"bottom\":{\"value\":0},\"fill_alpha\":{\"value\":0.5},\"fill_color\":{\"value\":\"#036564\"},\"left\":{\"field\":\"left\"},\"line_alpha\":{\"value\":0.5},\"line_color\":{\"value\":\"#aaabbb\"},\"right\":{\"field\":\"right\"},\"top\":{\"field\":\"top\"}},\"id\":\"94dfef19-80df-4cec-ba56-7e4d6e5c0beb\",\"type\":\"Quad\"},{\"attributes\":{\"source\":{\"id\":\"9e47cc3c-6596-45e8-b43f-af929e87d984\",\"type\":\"ColumnDataSource\"}},\"id\":\"1b08d673-4e64-4f9b-af24-81a7d8c5ff61\",\"type\":\"CDSView\"},{\"attributes\":{\"source\":{\"id\":\"e8423406-7b6d-4b79-ae0e-94cb1033f109\",\"type\":\"ColumnDataSource\"}},\"id\":\"8700be48-62cb-485a-b133-2daa0e8deb31\",\"type\":\"CDSView\"},{\"attributes\":{\"children\":[{\"id\":\"4dd29687-639e-4888-8a31-00d102f6f690\",\"type\":\"Row\"}]},\"id\":\"9c2c5b5b-be01-43a9-9a41-8b5c414804e8\",\"type\":\"Column\"},{\"attributes\":{\"background_fill_color\":{\"value\":\"darkgrey\"},\"items\":[{\"id\":\"18ff0b23-02c2-403e-a689-459a4197f919\",\"type\":\"LegendItem\"},{\"id\":\"b7ce11c9-98b4-48d8-845d-222615713728\",\"type\":\"LegendItem\"}],\"location\":\"center_right\",\"plot\":{\"id\":\"6918ae74-531a-4b27-bb00-c73151a23aed\",\"subtype\":\"Figure\",\"type\":\"Plot\"}},\"id\":\"05a4b9d3-10a3-43a1-be04-827f19155ac5\",\"type\":\"Legend\"},{\"attributes\":{},\"id\":\"7fb3ee09-5c25-4aad-8f91-373237415e41\",\"type\":\"BasicTicker\"},{\"attributes\":{\"dimension\":1,\"plot\":{\"id\":\"1fb13bc0-58ce-4315-99cb-e055cc1de716\",\"subtype\":\"Figure\",\"type\":\"Plot\"},\"ticker\":{\"id\":\"7fb3ee09-5c25-4aad-8f91-373237415e41\",\"type\":\"BasicTicker\"}},\"id\":\"a70aa93f-0016-4e49-911d-c01c9ccf0779\",\"type\":\"Grid\"},{\"attributes\":{\"bottom\":{\"value\":0},\"fill_color\":{\"value\":\"#fffaaa\"},\"left\":{\"field\":\"left\"},\"line_color\":{\"value\":\"#033649\"},\"right\":{\"field\":\"right\"},\"top\":{\"field\":\"top\"}},\"id\":\"94409b85-9402-4909-b68a-2378ebf39348\",\"type\":\"Quad\"},{\"attributes\":{\"callback\":null},\"id\":\"f353781b-a626-45f1-8c2e-a94880789b27\",\"type\":\"DataRange1d\"},{\"attributes\":{\"data_source\":{\"id\":\"9e47cc3c-6596-45e8-b43f-af929e87d984\",\"type\":\"ColumnDataSource\"},\"glyph\":{\"id\":\"94409b85-9402-4909-b68a-2378ebf39348\",\"type\":\"Quad\"},\"hover_glyph\":null,\"muted_glyph\":null,\"nonselection_glyph\":{\"id\":\"3ce554d2-39a0-4d0e-94ce-78b08feee4a9\",\"type\":\"Quad\"},\"selection_glyph\":null,\"view\":{\"id\":\"1b08d673-4e64-4f9b-af24-81a7d8c5ff61\",\"type\":\"CDSView\"}},\"id\":\"efc60f89-60e8-493e-b114-33bd2f55dd8c\",\"type\":\"GlyphRenderer\"},{\"attributes\":{\"callback\":null},\"id\":\"655e2d64-0136-44b4-a4b9-fcb058bb3116\",\"type\":\"DataRange1d\"},{\"attributes\":{\"children\":[{\"id\":\"ada16841-8cc8-47d5-b96a-29cb00712153\",\"type\":\"ToolbarBox\"},{\"id\":\"9c2c5b5b-be01-43a9-9a41-8b5c414804e8\",\"type\":\"Column\"}]},\"id\":\"1f9ca940-a25a-4b32-be57-69f368cc1f30\",\"type\":\"Column\"},{\"attributes\":{\"source\":{\"id\":\"1cac8239-5cb3-43eb-bd39-825c985da73b\",\"type\":\"ColumnDataSource\"}},\"id\":\"54e6fb24-e2fb-48da-8339-a0e1915205e6\",\"type\":\"CDSView\"},{\"attributes\":{},\"id\":\"365e6de7-20bd-4e77-b637-f26051be462f\",\"type\":\"SaveTool\"},{\"attributes\":{\"dimension\":1,\"plot\":{\"id\":\"6918ae74-531a-4b27-bb00-c73151a23aed\",\"subtype\":\"Figure\",\"type\":\"Plot\"},\"ticker\":{\"id\":\"251c2632-3748-4699-b26b-1325a39d656e\",\"type\":\"BasicTicker\"}},\"id\":\"913b7e61-067d-4d09-8ca0-49bb3bb7d170\",\"type\":\"Grid\"},{\"attributes\":{\"callback\":null,\"column_names\":[\"left\",\"right\",\"top\"],\"data\":{\"left\":{\"__ndarray__\":\"AHgU4LqWAD80uO/Pez+SPxazNyFWO6I/Eop3Wu5Wqz+HsNtJQzmyPwWce2YPx7Y/g4cbg9tUuz8Bc7ufp+K/P0CvLd45OMI//qR97B9/xD++ms36BcbGP3yQHQnsDMk/PIZtF9JTyz/6e70luJrNP7pxDTSe4c8/vLMuIUIU0T+crlYotTfSP3ypfi8oW9M/W6SmNpt+1D86n849DqLVPxqa9kSBxdY/+pQeTPTo1z/Zj0ZTZwzZP7iKblraL9o/mIWWYU1T2z94gL5owHbcP1d75m8zmt0/NnYOd6a93j8WcTZ+GeHfP/s1r0JGguA/ajNDxv8T4T/aMNdJuaXhP0oua81yN+I/uiv/UCzJ4j8qKZPU5VrjP5kmJ1if7OM/CSS721h+5D95IU9fEhDlP+ge4+LLoeU/WBx3ZoUz5j/IGQvqPsXmPzgXn234Vuc/qBQz8bHo5z8XEsd0a3roP4cPW/gkDOk/9wzve96d6T9mCoP/ly/qP9YHF4NRweo/RgWrBgtT6z+2Aj+KxOTrPw==\",\"dtype\":\"float64\",\"shape\":[50]},\"right\":{\"__ndarray__\":\"NLjvz3s/kj8WszchVjuiPxKKd1ruVqs/h7DbSUM5sj8FnHtmD8e2P4OHG4PbVLs/AXO7n6fivz9Ary3eOTjCP/6kfewff8Q/vprN+gXGxj98kB0J7AzJPzyGbRfSU8s/+nu9JbiazT+6cQ00nuHPP7yzLiFCFNE/nK5WKLU30j98qX4vKFvTP1ukpjabftQ/Op/OPQ6i1T8amvZEgcXWP/qUHkz06Nc/2Y9GU2cM2T+4im5a2i/aP5iFlmFNU9s/eIC+aMB23D9Xe+ZvM5rdPzZ2Dnemvd4/FnE2fhnh3z/7Na9CRoLgP2ozQ8b/E+E/2jDXSbml4T9KLmvNcjfiP7or/1AsyeI/KimT1OVa4z+ZJidYn+zjPwkku9tYfuQ/eSFPXxIQ5T/oHuPiy6HlP1gcd2aFM+Y/yBkL6j7F5j84F59t+FbnP6gUM/Gx6Oc/FxLHdGt66D+HD1v4JAzpP/cM73venek/ZgqD/5cv6j/WBxeDUcHqP0YFqwYLU+s/tgI/isTk6z8mANMNfnbsPw==\",\"dtype\":\"float64\",\"shape\":[50]},\"top\":{\"__ndarray__\":\"4vPNtbDCN0A0JrufP3wpQHDEoCNPZyBAdVaW8h1CD0Bi97/4d+UAQH1bJkztZvU/nFhm9L8I6z93WyZM7WblP5oms0oFyOg/nYoZnnpJ3T9xkJlN1QXCP5FYZvS/CMs/jPT/oEqHxj8AAAAAAAAAAHGQmU3VBcI/YZCZTdUFwj9hkJlN1QWyP3GQmU3VBcI/cZCZTdUFoj8AAAAAAAAAAGGQmU3VBaI/AAAAAAAAAAAAAAAAAAAAAAAAAAAAAAAAYZCZTdUFoj9xkJlN1QWiPwAAAAAAAAAAYZCZTdUFoj8AAAAAAAAAAAAAAAAAAAAAAAAAAAAAAABhkJlN1QWiPwAAAAAAAAAAAAAAAAAAAACAkJlN1QWiPwAAAAAAAAAAAAAAAAAAAAAAAAAAAAAAAAAAAAAAAAAAAAAAAAAAAAAAAAAAAAAAAAAAAAAAAAAAAAAAAAAAAAAAAAAAAAAAAAAAAAAAAAAAgJCZTdUFoj8AAAAAAAAAAGGQmU3VBbI/AAAAAAAAAABhkJlN1QWiPw==\",\"dtype\":\"float64\",\"shape\":[50]}}},\"id\":\"9e47cc3c-6596-45e8-b43f-af929e87d984\",\"type\":\"ColumnDataSource\"},{\"attributes\":{\"plot\":{\"id\":\"1fb13bc0-58ce-4315-99cb-e055cc1de716\",\"subtype\":\"Figure\",\"type\":\"Plot\"},\"ticker\":{\"id\":\"3136ab44-8f29-4527-bc3a-46f56227e6b3\",\"type\":\"BasicTicker\"}},\"id\":\"97aa66ce-d6ca-4f6c-ab0a-db4994a8790c\",\"type\":\"Grid\"},{\"attributes\":{\"label\":{\"value\":\"Fixed by max method\"},\"renderers\":[{\"id\":\"c71b7f3f-130a-4521-9fc6-8d9a36e3297e\",\"type\":\"GlyphRenderer\"}]},\"id\":\"7b714abe-4a53-4f81-a3b5-a206965ed0cb\",\"type\":\"LegendItem\"},{\"attributes\":{\"callback\":null,\"column_names\":[\"left\",\"right\",\"top\"],\"data\":{\"left\":{\"__ndarray__\":\"AOAqKoca+D7rcezfzPCSP48sB4/J7aI/KCAYrixjrD/hiZTmR+yyP64DHXb5prc/en2lBathvD+k+5ZKLo7AP4o4WxKH68I/cHUf2t9IxT9XsuOhOKbHPz3vp2mRA8o/IyxsMepgzD8KaTD5Qr7OP/hSeuDNjdA/bHFcRHq80T/ejz6oJuvSP1KuIAzTGdQ/xMwCcH9I1T846+TTK3fWP6wJxzfYpdc/Hiipm4TU2D+SRov/MAPaPwRlbWPdMds/eINPx4lg3D/soTErNo/dP17AE4/ivd4/0t718o7s3z+j/murnY3gP9wNXd3zJOE/Fh1OD0q84T9PLD9BoFPiP4k7MHP26uI/w0ohpUyC4z/8WRLXohnkPzZpAwn5sOQ/b3j0Ok9I5T+ph+Vspd/lP+OW1p77duY/HKbH0FEO5z9WtbgCqKXnP4/EqTT+POg/ydOaZlTU6D8D44uYqmvpPzzyfMoAA+o/dgFu/Faa6j+vEF8urTHrP+kfUGADyes/Ii9Bkllg7D9cPjLEr/fsPw==\",\"dtype\":\"float64\",\"shape\":[50]},\"right\":{\"__ndarray__\":\"63Hs38zwkj+PLAePye2iPyggGK4sY6w/4YmU5kfssj+uAx12+aa3P3p9pQWrYbw/pPuWSi6OwD+KOFsSh+vCP3B1H9rfSMU/V7LjoTimxz8976dpkQPKPyMsbDHqYMw/Cmkw+UK+zj/4UnrgzY3QP2xxXER6vNE/3o8+qCbr0j9SriAM0xnUP8TMAnB/SNU/OOvk0yt31j+sCcc32KXXPx4oqZuE1Ng/kkaL/zAD2j8EZW1j3THbP3iDT8eJYNw/7KExKzaP3T9ewBOP4r3eP9Le9fKO7N8/o/5rq52N4D/cDV3d8yThPxYdTg9KvOE/Tyw/QaBT4j+JOzBz9uriP8NKIaVMguM//FkS16IZ5D82aQMJ+bDkP2949DpPSOU/qYflbKXf5T/jltae+3bmPxymx9BRDuc/VrW4Aqil5z+PxKk0/jzoP8nTmmZU1Og/A+OLmKpr6T888nzKAAPqP3YBbvxWmuo/rxBfLq0x6z/pH1BgA8nrPyIvQZJZYOw/XD4yxK/37D+VTSP2BY/tPw==\",\"dtype\":\"float64\",\"shape\":[50]},\"top\":{\"__ndarray__\":\"JNnH7/qfKUBrDJO1S0klQLUf0srWmyBAWkwMmwStGEBGGb3D/SoSQJT/aKeZZwhAB5lxl8pe/j9OzJ3hSL78P0LM/mV2dO8/SJmMAefP8D+3Mlf6cjPcP7cyV/pyM9w/82UiwMPc1z9azDxdGwjKP47/ByNssdU/9TLT6LxaoT9DzDxdGwjKP7P/ByNsscU/2DLT6LxawT/YMtPovFqxP3DMPF0bCLo/AAAAAAAAAAAAAAAAAAAAANgy0+i8WrE/AAAAAAAAAAAAAAAAAAAAAAAAAAAAAAAAAAAAAAAAAAAAAAAAAAAAAAAAAAAAAAAA9TLT6LxasT/YMtPovFqhPwAAAAAAAAAAAAAAAAAAAADYMtPovFqhP/Uy0+i8WqE/AAAAAAAAAAAAAAAAAAAAAAAAAAAAAAAAAAAAAAAAAAAAAAAAAAAAAAAAAAAAAAAA2DLT6LxaoT8AAAAAAAAAAAAAAAAAAAAAAAAAAAAAAAAAAAAAAAAAAPUy0+i8WqE/AAAAAAAAAAD1MtPovFqxPw==\",\"dtype\":\"float64\",\"shape\":[50]}}},\"id\":\"e8423406-7b6d-4b79-ae0e-94cb1033f109\",\"type\":\"ColumnDataSource\"},{\"attributes\":{\"plot\":null,\"text\":\"Slope fixing results\"},\"id\":\"9797333d-bf9d-42a3-8234-05a572bf4217\",\"type\":\"Title\"},{\"attributes\":{\"label\":{\"value\":\"Fixed by weighted avg\"},\"renderers\":[{\"id\":\"efc60f89-60e8-493e-b114-33bd2f55dd8c\",\"type\":\"GlyphRenderer\"}]},\"id\":\"18ff0b23-02c2-403e-a689-459a4197f919\",\"type\":\"LegendItem\"},{\"attributes\":{},\"id\":\"bb06f9db-1ab6-4423-a0b0-564e0787af46\",\"type\":\"BasicTicker\"},{\"attributes\":{},\"id\":\"2a4a4793-6baa-42e5-b0b1-40f1aca2d5a5\",\"type\":\"SaveTool\"},{\"attributes\":{\"callback\":null},\"id\":\"e189fd8e-6ef6-461b-b35b-0457c4779358\",\"type\":\"DataRange1d\"},{\"attributes\":{\"callback\":null,\"column_names\":[\"left\",\"right\",\"top\"],\"data\":{\"left\":{\"__ndarray__\":\"AOAqKoca+D7rcezfzPCSP48sB4/J7aI/KCAYrixjrD/hiZTmR+yyP64DHXb5prc/en2lBathvD+k+5ZKLo7AP4o4WxKH68I/cHUf2t9IxT9XsuOhOKbHPz3vp2mRA8o/IyxsMepgzD8KaTD5Qr7OP/hSeuDNjdA/bHFcRHq80T/ejz6oJuvSP1KuIAzTGdQ/xMwCcH9I1T846+TTK3fWP6wJxzfYpdc/Hiipm4TU2D+SRov/MAPaPwRlbWPdMds/eINPx4lg3D/soTErNo/dP17AE4/ivd4/0t718o7s3z+j/murnY3gP9wNXd3zJOE/Fh1OD0q84T9PLD9BoFPiP4k7MHP26uI/w0ohpUyC4z/8WRLXohnkPzZpAwn5sOQ/b3j0Ok9I5T+ph+Vspd/lP+OW1p77duY/HKbH0FEO5z9WtbgCqKXnP4/EqTT+POg/ydOaZlTU6D8D44uYqmvpPzzyfMoAA+o/dgFu/Faa6j+vEF8urTHrP+kfUGADyes/Ii9Bkllg7D9cPjLEr/fsPw==\",\"dtype\":\"float64\",\"shape\":[50]},\"right\":{\"__ndarray__\":\"63Hs38zwkj+PLAePye2iPyggGK4sY6w/4YmU5kfssj+uAx12+aa3P3p9pQWrYbw/pPuWSi6OwD+KOFsSh+vCP3B1H9rfSMU/V7LjoTimxz8976dpkQPKPyMsbDHqYMw/Cmkw+UK+zj/4UnrgzY3QP2xxXER6vNE/3o8+qCbr0j9SriAM0xnUP8TMAnB/SNU/OOvk0yt31j+sCcc32KXXPx4oqZuE1Ng/kkaL/zAD2j8EZW1j3THbP3iDT8eJYNw/7KExKzaP3T9ewBOP4r3eP9Le9fKO7N8/o/5rq52N4D/cDV3d8yThPxYdTg9KvOE/Tyw/QaBT4j+JOzBz9uriP8NKIaVMguM//FkS16IZ5D82aQMJ+bDkP2949DpPSOU/qYflbKXf5T/jltae+3bmPxymx9BRDuc/VrW4Aqil5z+PxKk0/jzoP8nTmmZU1Og/A+OLmKpr6T888nzKAAPqP3YBbvxWmuo/rxBfLq0x6z/pH1BgA8nrPyIvQZJZYOw/XD4yxK/37D+VTSP2BY/tPw==\",\"dtype\":\"float64\",\"shape\":[50]},\"top\":{\"__ndarray__\":\"JNnH7/qfKUBrDJO1S0klQLUf0srWmyBAWkwMmwStGEBGGb3D/SoSQJT/aKeZZwhAB5lxl8pe/j9OzJ3hSL78P0LM/mV2dO8/SJmMAefP8D+3Mlf6cjPcP7cyV/pyM9w/82UiwMPc1z9azDxdGwjKP47/ByNssdU/9TLT6LxaoT9DzDxdGwjKP7P/ByNsscU/2DLT6LxawT/YMtPovFqxP3DMPF0bCLo/AAAAAAAAAAAAAAAAAAAAANgy0+i8WrE/AAAAAAAAAAAAAAAAAAAAAAAAAAAAAAAAAAAAAAAAAAAAAAAAAAAAAAAAAAAAAAAA9TLT6LxasT/YMtPovFqhPwAAAAAAAAAAAAAAAAAAAADYMtPovFqhP/Uy0+i8WqE/AAAAAAAAAAAAAAAAAAAAAAAAAAAAAAAAAAAAAAAAAAAAAAAAAAAAAAAAAAAAAAAA2DLT6LxaoT8AAAAAAAAAAAAAAAAAAAAAAAAAAAAAAAAAAAAAAAAAAPUy0+i8WqE/AAAAAAAAAAD1MtPovFqxPw==\",\"dtype\":\"float64\",\"shape\":[50]}}},\"id\":\"00a7e9af-71b3-4f26-965f-fb3ed85c3e25\",\"type\":\"ColumnDataSource\"},{\"attributes\":{\"active_drag\":\"auto\",\"active_inspect\":\"auto\",\"active_scroll\":\"auto\",\"active_tap\":\"auto\",\"tools\":[{\"id\":\"365e6de7-20bd-4e77-b637-f26051be462f\",\"type\":\"SaveTool\"}]},\"id\":\"8cde77ab-8dfb-4606-b00a-7e8ea32b8a89\",\"type\":\"Toolbar\"},{\"attributes\":{\"data_source\":{\"id\":\"e8423406-7b6d-4b79-ae0e-94cb1033f109\",\"type\":\"ColumnDataSource\"},\"glyph\":{\"id\":\"bac26c1b-84b2-485e-903e-0c9cc0db6202\",\"type\":\"Quad\"},\"hover_glyph\":null,\"muted_glyph\":null,\"nonselection_glyph\":{\"id\":\"b0a3cc78-47ca-44c4-b872-6b9aa425838d\",\"type\":\"Quad\"},\"selection_glyph\":null,\"view\":{\"id\":\"8700be48-62cb-485a-b133-2daa0e8deb31\",\"type\":\"CDSView\"}},\"id\":\"b35a227c-5366-4fdd-a99a-c145916e3de3\",\"type\":\"GlyphRenderer\"},{\"attributes\":{\"tools\":[{\"id\":\"365e6de7-20bd-4e77-b637-f26051be462f\",\"type\":\"SaveTool\"},{\"id\":\"2a4a4793-6baa-42e5-b0b1-40f1aca2d5a5\",\"type\":\"SaveTool\"}]},\"id\":\"6b70ec49-8ad4-4e1b-a641-92736b541dac\",\"type\":\"ProxyToolbar\"},{\"attributes\":{},\"id\":\"00598bfa-54d8-4623-b8b4-58535727afec\",\"type\":\"BasicTickFormatter\"},{\"attributes\":{\"children\":[{\"id\":\"1fb13bc0-58ce-4315-99cb-e055cc1de716\",\"subtype\":\"Figure\",\"type\":\"Plot\"},{\"id\":\"6918ae74-531a-4b27-bb00-c73151a23aed\",\"subtype\":\"Figure\",\"type\":\"Plot\"}]},\"id\":\"4dd29687-639e-4888-8a31-00d102f6f690\",\"type\":\"Row\"},{\"attributes\":{\"callback\":null},\"id\":\"49898a97-fc35-4d5d-80b4-364afccd9301\",\"type\":\"DataRange1d\"},{\"attributes\":{},\"id\":\"6253027d-da1f-494c-8aec-e4f9c043df9e\",\"type\":\"LinearScale\"},{\"attributes\":{},\"id\":\"60c9129b-f8ed-45e7-a7e4-7ef746a2773e\",\"type\":\"BasicTickFormatter\"},{\"attributes\":{\"plot\":null,\"text\":\"Slope fixing results\"},\"id\":\"1a24eb07-cea5-42ea-bbf2-fa6879f0d6ff\",\"type\":\"Title\"},{\"attributes\":{\"active_drag\":\"auto\",\"active_inspect\":\"auto\",\"active_scroll\":\"auto\",\"active_tap\":\"auto\",\"tools\":[{\"id\":\"2a4a4793-6baa-42e5-b0b1-40f1aca2d5a5\",\"type\":\"SaveTool\"}]},\"id\":\"ac8bb352-4639-4c94-befe-b48260f33b22\",\"type\":\"Toolbar\"},{\"attributes\":{\"axis_label\":\"Histogram\",\"formatter\":{\"id\":\"60c9129b-f8ed-45e7-a7e4-7ef746a2773e\",\"type\":\"BasicTickFormatter\"},\"plot\":{\"id\":\"6918ae74-531a-4b27-bb00-c73151a23aed\",\"subtype\":\"Figure\",\"type\":\"Plot\"},\"ticker\":{\"id\":\"251c2632-3748-4699-b26b-1325a39d656e\",\"type\":\"BasicTicker\"}},\"id\":\"d812d95c-197d-45c3-955a-7484b773a483\",\"type\":\"LinearAxis\"},{\"attributes\":{},\"id\":\"44fc7e43-eae0-411a-8d2f-0efb487e72f2\",\"type\":\"BasicTickFormatter\"},{\"attributes\":{},\"id\":\"2bfe7827-0345-4dd5-aea6-f11f32e075dd\",\"type\":\"LinearScale\"},{\"attributes\":{\"axis_label\":\"Slope Difference to ground truth\",\"formatter\":{\"id\":\"00598bfa-54d8-4623-b8b4-58535727afec\",\"type\":\"BasicTickFormatter\"},\"plot\":{\"id\":\"6918ae74-531a-4b27-bb00-c73151a23aed\",\"subtype\":\"Figure\",\"type\":\"Plot\"},\"ticker\":{\"id\":\"bb06f9db-1ab6-4423-a0b0-564e0787af46\",\"type\":\"BasicTicker\"}},\"id\":\"e1cd785b-89ef-4d49-bf79-d4c2ba2def20\",\"type\":\"LinearAxis\"},{\"attributes\":{\"label\":{\"value\":\"Ground Truth + noise\"},\"renderers\":[{\"id\":\"b35a227c-5366-4fdd-a99a-c145916e3de3\",\"type\":\"GlyphRenderer\"}]},\"id\":\"5b73c53f-1d19-4990-a8c7-57f5a97c9cd9\",\"type\":\"LegendItem\"},{\"attributes\":{\"axis_label\":\"Slope difference to ground truth\",\"formatter\":{\"id\":\"44fc7e43-eae0-411a-8d2f-0efb487e72f2\",\"type\":\"BasicTickFormatter\"},\"plot\":{\"id\":\"1fb13bc0-58ce-4315-99cb-e055cc1de716\",\"subtype\":\"Figure\",\"type\":\"Plot\"},\"ticker\":{\"id\":\"3136ab44-8f29-4527-bc3a-46f56227e6b3\",\"type\":\"BasicTicker\"}},\"id\":\"f771b992-cbfc-41f8-93fc-0fb934934e09\",\"type\":\"LinearAxis\"},{\"attributes\":{\"background_fill_color\":{\"value\":\"#E8DDCB\"},\"below\":[{\"id\":\"e1cd785b-89ef-4d49-bf79-d4c2ba2def20\",\"type\":\"LinearAxis\"}],\"left\":[{\"id\":\"d812d95c-197d-45c3-955a-7484b773a483\",\"type\":\"LinearAxis\"}],\"renderers\":[{\"id\":\"e1cd785b-89ef-4d49-bf79-d4c2ba2def20\",\"type\":\"LinearAxis\"},{\"id\":\"4c39b636-30e7-4f03-a5a7-51518a6b8986\",\"type\":\"Grid\"},{\"id\":\"d812d95c-197d-45c3-955a-7484b773a483\",\"type\":\"LinearAxis\"},{\"id\":\"913b7e61-067d-4d09-8ca0-49bb3bb7d170\",\"type\":\"Grid\"},{\"id\":\"05a4b9d3-10a3-43a1-be04-827f19155ac5\",\"type\":\"Legend\"},{\"id\":\"efc60f89-60e8-493e-b114-33bd2f55dd8c\",\"type\":\"GlyphRenderer\"},{\"id\":\"8aca43dc-3a38-423e-b19b-706625b97958\",\"type\":\"GlyphRenderer\"}],\"title\":{\"id\":\"9797333d-bf9d-42a3-8234-05a572bf4217\",\"type\":\"Title\"},\"toolbar\":{\"id\":\"ac8bb352-4639-4c94-befe-b48260f33b22\",\"type\":\"Toolbar\"},\"toolbar_location\":null,\"x_range\":{\"id\":\"49898a97-fc35-4d5d-80b4-364afccd9301\",\"type\":\"DataRange1d\"},\"x_scale\":{\"id\":\"6253027d-da1f-494c-8aec-e4f9c043df9e\",\"type\":\"LinearScale\"},\"y_range\":{\"id\":\"e189fd8e-6ef6-461b-b35b-0457c4779358\",\"type\":\"DataRange1d\"},\"y_scale\":{\"id\":\"2bfe7827-0345-4dd5-aea6-f11f32e075dd\",\"type\":\"LinearScale\"}},\"id\":\"6918ae74-531a-4b27-bb00-c73151a23aed\",\"subtype\":\"Figure\",\"type\":\"Plot\"},{\"attributes\":{\"data_source\":{\"id\":\"1cac8239-5cb3-43eb-bd39-825c985da73b\",\"type\":\"ColumnDataSource\"},\"glyph\":{\"id\":\"d706573a-563c-4f0c-946b-b370c230718c\",\"type\":\"Quad\"},\"hover_glyph\":null,\"muted_glyph\":null,\"nonselection_glyph\":{\"id\":\"97fb5053-040b-4b80-aafa-f8e0ed0b4828\",\"type\":\"Quad\"},\"selection_glyph\":null,\"view\":{\"id\":\"54e6fb24-e2fb-48da-8339-a0e1915205e6\",\"type\":\"CDSView\"}},\"id\":\"c71b7f3f-130a-4521-9fc6-8d9a36e3297e\",\"type\":\"GlyphRenderer\"},{\"attributes\":{},\"id\":\"8980bc95-5a61-489e-8504-47e9736742d4\",\"type\":\"BasicTickFormatter\"}],\"root_ids\":[\"1f9ca940-a25a-4b32-be57-69f368cc1f30\"]},\"title\":\"Bokeh Application\",\"version\":\"0.12.13\"}};\n",
       "  var render_items = [{\"docid\":\"bddc644f-76f8-4173-8747-b4cd92cfa598\",\"elementid\":\"b8ff72c9-d09e-4851-904a-9b5fa3fe7afe\",\"modelid\":\"1f9ca940-a25a-4b32-be57-69f368cc1f30\"}];\n",
       "  root.Bokeh.embed.embed_items_notebook(docs_json, render_items);\n",
       "\n",
       "  }\n",
       "  if (root.Bokeh !== undefined) {\n",
       "    embed_document(root);\n",
       "  } else {\n",
       "    var attempts = 0;\n",
       "    var timer = setInterval(function(root) {\n",
       "      if (root.Bokeh !== undefined) {\n",
       "        embed_document(root);\n",
       "        clearInterval(timer);\n",
       "      }\n",
       "      attempts++;\n",
       "      if (attempts > 100) {\n",
       "        console.log(\"Bokeh: ERROR: Unable to run BokehJS code because BokehJS library is missing\")\n",
       "        clearInterval(timer);\n",
       "      }\n",
       "    }, 10, root)\n",
       "  }\n",
       "})(window);"
      ],
      "application/vnd.bokehjs_exec.v0+json": ""
     },
     "metadata": {
      "application/vnd.bokehjs_exec.v0+json": {
       "id": "1f9ca940-a25a-4b32-be57-69f368cc1f30"
      }
     },
     "output_type": "display_data"
    }
   ],
   "source": [
    "\n",
    "\n",
    "p1 = figure(title=\"Slope fixing results\",tools=\"save\",\n",
    "            background_fill_color=\"#E8DDCB\")\n",
    "\n",
    "\n",
    "measured = max_method\n",
    "hist, edges = np.histogram(measured, density=True, bins=50)\n",
    "\n",
    "\n",
    "p1.quad(top=hist, bottom=0, left=edges[:-1], right=edges[1:],fill_color=\"#fffaaa\", line_color=\"#033649\", legend= 'Fixed by max method')\n",
    "\n",
    "measured = no_method\n",
    "hist, edges = np.histogram(measured, density=True, bins=50)\n",
    "\n",
    "\n",
    "p1.quad(top=hist, bottom=0, left=edges[:-1], right=edges[1:],fill_color=\"#036564\", line_color=\"#aaabbb\", legend= 'Ground Truth + noise',alpha=.5)\n",
    "\n",
    "p1.legend.location = \"center_right\"\n",
    "p1.legend.background_fill_color = \"darkgrey\"\n",
    "p1.xaxis.axis_label = 'Slope difference to ground truth'\n",
    "p1.yaxis.axis_label = 'Histogram'\n",
    "\n",
    "\n",
    "\n",
    "p2 = figure(title=\"Slope fixing results\", tools=\"save\",background_fill_color=\"#E8DDCB\")\n",
    "\n",
    "\n",
    "\n",
    "measured = avg_method\n",
    "hist, edges = np.histogram(measured, density=True, bins=50)\n",
    "\n",
    "\n",
    "p2.quad(top=hist, bottom=0, left=edges[:-1], right=edges[1:],fill_color=\"#fffaaa\", line_color=\"#033649\",legend= 'Fixed by weighted avg')\n",
    "\n",
    "measured = no_method\n",
    "hist, edges = np.histogram(measured, density=True, bins=50)\n",
    "\n",
    "\n",
    "p2.quad(top=hist, bottom=0, left=edges[:-1], right=edges[1:],fill_color=\"#036564\", line_color=\"#aaabbb\", legend= 'Ground Truth + noise',alpha=.5)\n",
    "\n",
    "p2.legend.location = \"center_right\"\n",
    "p2.legend.background_fill_color = \"darkgrey\"\n",
    "p2.xaxis.axis_label = 'Slope Difference to ground truth'\n",
    "p2.yaxis.axis_label = 'Histogram'\n",
    "\n",
    "grid = gridplot([[p1, p2]])\n",
    "show (grid)"
   ]
  },
  {
   "cell_type": "code",
   "execution_count": 47,
   "metadata": {},
   "outputs": [
    {
     "name": "stdout",
     "output_type": "stream",
     "text": [
      "Median of differences to the ground truth slope (Max Method):\n",
      "0.0230334214398\n",
      "Median of differences to the ground truth slope (Weighted AVG Method):\n",
      "0.0226925177444\n",
      "Median of differences to the ground truth slope (No Method used):\n",
      "0.0443526688706\n"
     ]
    }
   ],
   "source": [
    "print('Median of differences to the ground truth slope (Max Method):')\n",
    "print(np.median(max_method))\n",
    "print('Median of differences to the ground truth slope (Weighted AVG Method):')\n",
    "print(np.median(avg_method))\n",
    "print('Median of differences to the ground truth slope (No Method used):')\n",
    "print(np.median(no_method))"
   ]
  },
  {
   "cell_type": "code",
   "execution_count": 49,
   "metadata": {},
   "outputs": [
    {
     "data": {
      "text/plain": [
       "-0.10358983975523132"
      ]
     },
     "execution_count": 49,
     "metadata": {},
     "output_type": "execute_result"
    }
   ],
   "source": [
    "num.mean(gt['sl'])"
   ]
  },
  {
   "cell_type": "code",
   "execution_count": 50,
   "metadata": {},
   "outputs": [
    {
     "data": {
      "text/plain": [
       "0.21999999999999997"
      ]
     },
     "execution_count": 50,
     "metadata": {},
     "output_type": "execute_result"
    }
   ],
   "source": [
    "0.022/0.1"
   ]
  },
  {
   "cell_type": "code",
   "execution_count": 51,
   "metadata": {},
   "outputs": [
    {
     "data": {
      "text/plain": [
       "0.90483741803595952"
      ]
     },
     "execution_count": 51,
     "metadata": {},
     "output_type": "execute_result"
    }
   ],
   "source": [
    "np.exp(-.1)"
   ]
  },
  {
   "cell_type": "code",
   "execution_count": 52,
   "metadata": {},
   "outputs": [
    {
     "data": {
      "text/plain": [
       "0.92496442654353928"
      ]
     },
     "execution_count": 52,
     "metadata": {},
     "output_type": "execute_result"
    }
   ],
   "source": [
    "np.exp(-.1+0.022)"
   ]
  },
  {
   "cell_type": "code",
   "execution_count": 53,
   "metadata": {},
   "outputs": [
    {
     "data": {
      "text/plain": [
       "0.94553913589039629"
      ]
     },
     "execution_count": 53,
     "metadata": {},
     "output_type": "execute_result"
    }
   ],
   "source": [
    "np.exp(-.1+0.044)"
   ]
  },
  {
   "cell_type": "code",
   "execution_count": null,
   "metadata": {},
   "outputs": [],
   "source": []
  }
 ],
 "metadata": {
  "kernelspec": {
   "display_name": "Python 3",
   "language": "python",
   "name": "python3"
  },
  "language_info": {
   "codemirror_mode": {
    "name": "ipython",
    "version": 3
   },
   "file_extension": ".py",
   "mimetype": "text/x-python",
   "name": "python",
   "nbconvert_exporter": "python",
   "pygments_lexer": "ipython3",
   "version": "3.6.2"
  }
 },
 "nbformat": 4,
 "nbformat_minor": 2
}
