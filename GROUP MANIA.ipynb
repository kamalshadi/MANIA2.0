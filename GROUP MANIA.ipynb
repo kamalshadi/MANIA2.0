{
 "cells": [
  {
   "cell_type": "markdown",
   "metadata": {},
   "source": [
    "# Intro\n",
    "In this report, we look at left hemisphere MANIA 1.0 results for seven HCP subjects with MMP1.0 parcellation at group mode. We also look at the confidence of edges."
   ]
  },
  {
   "cell_type": "markdown",
   "metadata": {},
   "source": [
    "### Operating Point\n",
    "Let's first look at **(density, threshold, NAR)** operating points. On the scatter plot, you can hover to see the NAR information. NARs are scaled by 100 for visualization purposes."
   ]
  },
  {
   "cell_type": "code",
   "execution_count": 72,
   "metadata": {},
   "outputs": [
    {
     "data": {
      "text/html": [
       "\n",
       "    <div class=\"bk-root\">\n",
       "        <a href=\"https://bokeh.pydata.org\" target=\"_blank\" class=\"bk-logo bk-logo-small bk-logo-notebook\"></a>\n",
       "        <span id=\"9045a205-6713-45bd-80bb-fb1e40668b91\">Loading BokehJS ...</span>\n",
       "    </div>"
      ]
     },
     "metadata": {},
     "output_type": "display_data"
    },
    {
     "data": {
      "application/javascript": [
       "\n",
       "(function(root) {\n",
       "  function now() {\n",
       "    return new Date();\n",
       "  }\n",
       "\n",
       "  var force = true;\n",
       "\n",
       "  if (typeof (root._bokeh_onload_callbacks) === \"undefined\" || force === true) {\n",
       "    root._bokeh_onload_callbacks = [];\n",
       "    root._bokeh_is_loading = undefined;\n",
       "  }\n",
       "\n",
       "  var JS_MIME_TYPE = 'application/javascript';\n",
       "  var HTML_MIME_TYPE = 'text/html';\n",
       "  var EXEC_MIME_TYPE = 'application/vnd.bokehjs_exec.v0+json';\n",
       "  var CLASS_NAME = 'output_bokeh rendered_html';\n",
       "\n",
       "  /**\n",
       "   * Render data to the DOM node\n",
       "   */\n",
       "  function render(props, node) {\n",
       "    var script = document.createElement(\"script\");\n",
       "    node.appendChild(script);\n",
       "  }\n",
       "\n",
       "  /**\n",
       "   * Handle when an output is cleared or removed\n",
       "   */\n",
       "  function handleClearOutput(event, handle) {\n",
       "    var cell = handle.cell;\n",
       "\n",
       "    var id = cell.output_area._bokeh_element_id;\n",
       "    var server_id = cell.output_area._bokeh_server_id;\n",
       "    // Clean up Bokeh references\n",
       "    if (id !== undefined) {\n",
       "      Bokeh.index[id].model.document.clear();\n",
       "      delete Bokeh.index[id];\n",
       "    }\n",
       "\n",
       "    if (server_id !== undefined) {\n",
       "      // Clean up Bokeh references\n",
       "      var cmd = \"from bokeh.io.state import curstate; print(curstate().uuid_to_server['\" + server_id + \"'].get_sessions()[0].document.roots[0]._id)\";\n",
       "      cell.notebook.kernel.execute(cmd, {\n",
       "        iopub: {\n",
       "          output: function(msg) {\n",
       "            var element_id = msg.content.text.trim();\n",
       "            Bokeh.index[element_id].model.document.clear();\n",
       "            delete Bokeh.index[element_id];\n",
       "          }\n",
       "        }\n",
       "      });\n",
       "      // Destroy server and session\n",
       "      var cmd = \"import bokeh.io.notebook as ion; ion.destroy_server('\" + server_id + \"')\";\n",
       "      cell.notebook.kernel.execute(cmd);\n",
       "    }\n",
       "  }\n",
       "\n",
       "  /**\n",
       "   * Handle when a new output is added\n",
       "   */\n",
       "  function handleAddOutput(event, handle) {\n",
       "    var output_area = handle.output_area;\n",
       "    var output = handle.output;\n",
       "\n",
       "    // limit handleAddOutput to display_data with EXEC_MIME_TYPE content only\n",
       "    if ((output.output_type != \"display_data\") || (!output.data.hasOwnProperty(EXEC_MIME_TYPE))) {\n",
       "      return\n",
       "    }\n",
       "\n",
       "    var toinsert = output_area.element.find(\".\" + CLASS_NAME.split(' ')[0]);\n",
       "\n",
       "    if (output.metadata[EXEC_MIME_TYPE][\"id\"] !== undefined) {\n",
       "      toinsert[0].firstChild.textContent = output.data[JS_MIME_TYPE];\n",
       "      // store reference to embed id on output_area\n",
       "      output_area._bokeh_element_id = output.metadata[EXEC_MIME_TYPE][\"id\"];\n",
       "    }\n",
       "    if (output.metadata[EXEC_MIME_TYPE][\"server_id\"] !== undefined) {\n",
       "      var bk_div = document.createElement(\"div\");\n",
       "      bk_div.innerHTML = output.data[HTML_MIME_TYPE];\n",
       "      var script_attrs = bk_div.children[0].attributes;\n",
       "      for (var i = 0; i < script_attrs.length; i++) {\n",
       "        toinsert[0].firstChild.setAttribute(script_attrs[i].name, script_attrs[i].value);\n",
       "      }\n",
       "      // store reference to server id on output_area\n",
       "      output_area._bokeh_server_id = output.metadata[EXEC_MIME_TYPE][\"server_id\"];\n",
       "    }\n",
       "  }\n",
       "\n",
       "  function register_renderer(events, OutputArea) {\n",
       "\n",
       "    function append_mime(data, metadata, element) {\n",
       "      // create a DOM node to render to\n",
       "      var toinsert = this.create_output_subarea(\n",
       "        metadata,\n",
       "        CLASS_NAME,\n",
       "        EXEC_MIME_TYPE\n",
       "      );\n",
       "      this.keyboard_manager.register_events(toinsert);\n",
       "      // Render to node\n",
       "      var props = {data: data, metadata: metadata[EXEC_MIME_TYPE]};\n",
       "      render(props, toinsert[0]);\n",
       "      element.append(toinsert);\n",
       "      return toinsert\n",
       "    }\n",
       "\n",
       "    /* Handle when an output is cleared or removed */\n",
       "    events.on('clear_output.CodeCell', handleClearOutput);\n",
       "    events.on('delete.Cell', handleClearOutput);\n",
       "\n",
       "    /* Handle when a new output is added */\n",
       "    events.on('output_added.OutputArea', handleAddOutput);\n",
       "\n",
       "    /**\n",
       "     * Register the mime type and append_mime function with output_area\n",
       "     */\n",
       "    OutputArea.prototype.register_mime_type(EXEC_MIME_TYPE, append_mime, {\n",
       "      /* Is output safe? */\n",
       "      safe: true,\n",
       "      /* Index of renderer in `output_area.display_order` */\n",
       "      index: 0\n",
       "    });\n",
       "  }\n",
       "\n",
       "  // register the mime type if in Jupyter Notebook environment and previously unregistered\n",
       "  if (root.Jupyter !== undefined) {\n",
       "    var events = require('base/js/events');\n",
       "    var OutputArea = require('notebook/js/outputarea').OutputArea;\n",
       "\n",
       "    if (OutputArea.prototype.mime_types().indexOf(EXEC_MIME_TYPE) == -1) {\n",
       "      register_renderer(events, OutputArea);\n",
       "    }\n",
       "  }\n",
       "\n",
       "  \n",
       "  if (typeof (root._bokeh_timeout) === \"undefined\" || force === true) {\n",
       "    root._bokeh_timeout = Date.now() + 5000;\n",
       "    root._bokeh_failed_load = false;\n",
       "  }\n",
       "\n",
       "  var NB_LOAD_WARNING = {'data': {'text/html':\n",
       "     \"<div style='background-color: #fdd'>\\n\"+\n",
       "     \"<p>\\n\"+\n",
       "     \"BokehJS does not appear to have successfully loaded. If loading BokehJS from CDN, this \\n\"+\n",
       "     \"may be due to a slow or bad network connection. Possible fixes:\\n\"+\n",
       "     \"</p>\\n\"+\n",
       "     \"<ul>\\n\"+\n",
       "     \"<li>re-rerun `output_notebook()` to attempt to load from CDN again, or</li>\\n\"+\n",
       "     \"<li>use INLINE resources instead, as so:</li>\\n\"+\n",
       "     \"</ul>\\n\"+\n",
       "     \"<code>\\n\"+\n",
       "     \"from bokeh.resources import INLINE\\n\"+\n",
       "     \"output_notebook(resources=INLINE)\\n\"+\n",
       "     \"</code>\\n\"+\n",
       "     \"</div>\"}};\n",
       "\n",
       "  function display_loaded() {\n",
       "    var el = document.getElementById(\"9045a205-6713-45bd-80bb-fb1e40668b91\");\n",
       "    if (el != null) {\n",
       "      el.textContent = \"BokehJS is loading...\";\n",
       "    }\n",
       "    if (root.Bokeh !== undefined) {\n",
       "      if (el != null) {\n",
       "        el.textContent = \"BokehJS \" + root.Bokeh.version + \" successfully loaded.\";\n",
       "      }\n",
       "    } else if (Date.now() < root._bokeh_timeout) {\n",
       "      setTimeout(display_loaded, 100)\n",
       "    }\n",
       "  }\n",
       "\n",
       "\n",
       "  function run_callbacks() {\n",
       "    try {\n",
       "      root._bokeh_onload_callbacks.forEach(function(callback) { callback() });\n",
       "    }\n",
       "    finally {\n",
       "      delete root._bokeh_onload_callbacks\n",
       "    }\n",
       "    console.info(\"Bokeh: all callbacks have finished\");\n",
       "  }\n",
       "\n",
       "  function load_libs(js_urls, callback) {\n",
       "    root._bokeh_onload_callbacks.push(callback);\n",
       "    if (root._bokeh_is_loading > 0) {\n",
       "      console.log(\"Bokeh: BokehJS is being loaded, scheduling callback at\", now());\n",
       "      return null;\n",
       "    }\n",
       "    if (js_urls == null || js_urls.length === 0) {\n",
       "      run_callbacks();\n",
       "      return null;\n",
       "    }\n",
       "    console.log(\"Bokeh: BokehJS not loaded, scheduling load and callback at\", now());\n",
       "    root._bokeh_is_loading = js_urls.length;\n",
       "    for (var i = 0; i < js_urls.length; i++) {\n",
       "      var url = js_urls[i];\n",
       "      var s = document.createElement('script');\n",
       "      s.src = url;\n",
       "      s.async = false;\n",
       "      s.onreadystatechange = s.onload = function() {\n",
       "        root._bokeh_is_loading--;\n",
       "        if (root._bokeh_is_loading === 0) {\n",
       "          console.log(\"Bokeh: all BokehJS libraries loaded\");\n",
       "          run_callbacks()\n",
       "        }\n",
       "      };\n",
       "      s.onerror = function() {\n",
       "        console.warn(\"failed to load library \" + url);\n",
       "      };\n",
       "      console.log(\"Bokeh: injecting script tag for BokehJS library: \", url);\n",
       "      document.getElementsByTagName(\"head\")[0].appendChild(s);\n",
       "    }\n",
       "  };var element = document.getElementById(\"9045a205-6713-45bd-80bb-fb1e40668b91\");\n",
       "  if (element == null) {\n",
       "    console.log(\"Bokeh: ERROR: autoload.js configured with elementid '9045a205-6713-45bd-80bb-fb1e40668b91' but no matching script tag was found. \")\n",
       "    return false;\n",
       "  }\n",
       "\n",
       "  var js_urls = [\"https://cdn.pydata.org/bokeh/release/bokeh-0.12.13.min.js\", \"https://cdn.pydata.org/bokeh/release/bokeh-widgets-0.12.13.min.js\", \"https://cdn.pydata.org/bokeh/release/bokeh-tables-0.12.13.min.js\", \"https://cdn.pydata.org/bokeh/release/bokeh-gl-0.12.13.min.js\"];\n",
       "\n",
       "  var inline_js = [\n",
       "    function(Bokeh) {\n",
       "      Bokeh.set_log_level(\"info\");\n",
       "    },\n",
       "    \n",
       "    function(Bokeh) {\n",
       "      \n",
       "    },\n",
       "    function(Bokeh) {\n",
       "      console.log(\"Bokeh: injecting CSS: https://cdn.pydata.org/bokeh/release/bokeh-0.12.13.min.css\");\n",
       "      Bokeh.embed.inject_css(\"https://cdn.pydata.org/bokeh/release/bokeh-0.12.13.min.css\");\n",
       "      console.log(\"Bokeh: injecting CSS: https://cdn.pydata.org/bokeh/release/bokeh-widgets-0.12.13.min.css\");\n",
       "      Bokeh.embed.inject_css(\"https://cdn.pydata.org/bokeh/release/bokeh-widgets-0.12.13.min.css\");\n",
       "      console.log(\"Bokeh: injecting CSS: https://cdn.pydata.org/bokeh/release/bokeh-tables-0.12.13.min.css\");\n",
       "      Bokeh.embed.inject_css(\"https://cdn.pydata.org/bokeh/release/bokeh-tables-0.12.13.min.css\");\n",
       "    }\n",
       "  ];\n",
       "\n",
       "  function run_inline_js() {\n",
       "    \n",
       "    if ((root.Bokeh !== undefined) || (force === true)) {\n",
       "      for (var i = 0; i < inline_js.length; i++) {\n",
       "        inline_js[i].call(root, root.Bokeh);\n",
       "      }if (force === true) {\n",
       "        display_loaded();\n",
       "      }} else if (Date.now() < root._bokeh_timeout) {\n",
       "      setTimeout(run_inline_js, 100);\n",
       "    } else if (!root._bokeh_failed_load) {\n",
       "      console.log(\"Bokeh: BokehJS failed to load within specified timeout.\");\n",
       "      root._bokeh_failed_load = true;\n",
       "    } else if (force !== true) {\n",
       "      var cell = $(document.getElementById(\"9045a205-6713-45bd-80bb-fb1e40668b91\")).parents('.cell').data().cell;\n",
       "      cell.output_area.append_execute_result(NB_LOAD_WARNING)\n",
       "    }\n",
       "\n",
       "  }\n",
       "\n",
       "  if (root._bokeh_is_loading === 0) {\n",
       "    console.log(\"Bokeh: BokehJS loaded, going straight to plotting\");\n",
       "    run_inline_js();\n",
       "  } else {\n",
       "    load_libs(js_urls, function() {\n",
       "      console.log(\"Bokeh: BokehJS plotting callback run at\", now());\n",
       "      run_inline_js();\n",
       "    });\n",
       "  }\n",
       "}(window));"
      ],
      "application/vnd.bokehjs_load.v0+json": "\n(function(root) {\n  function now() {\n    return new Date();\n  }\n\n  var force = true;\n\n  if (typeof (root._bokeh_onload_callbacks) === \"undefined\" || force === true) {\n    root._bokeh_onload_callbacks = [];\n    root._bokeh_is_loading = undefined;\n  }\n\n  \n\n  \n  if (typeof (root._bokeh_timeout) === \"undefined\" || force === true) {\n    root._bokeh_timeout = Date.now() + 5000;\n    root._bokeh_failed_load = false;\n  }\n\n  var NB_LOAD_WARNING = {'data': {'text/html':\n     \"<div style='background-color: #fdd'>\\n\"+\n     \"<p>\\n\"+\n     \"BokehJS does not appear to have successfully loaded. If loading BokehJS from CDN, this \\n\"+\n     \"may be due to a slow or bad network connection. Possible fixes:\\n\"+\n     \"</p>\\n\"+\n     \"<ul>\\n\"+\n     \"<li>re-rerun `output_notebook()` to attempt to load from CDN again, or</li>\\n\"+\n     \"<li>use INLINE resources instead, as so:</li>\\n\"+\n     \"</ul>\\n\"+\n     \"<code>\\n\"+\n     \"from bokeh.resources import INLINE\\n\"+\n     \"output_notebook(resources=INLINE)\\n\"+\n     \"</code>\\n\"+\n     \"</div>\"}};\n\n  function display_loaded() {\n    var el = document.getElementById(\"9045a205-6713-45bd-80bb-fb1e40668b91\");\n    if (el != null) {\n      el.textContent = \"BokehJS is loading...\";\n    }\n    if (root.Bokeh !== undefined) {\n      if (el != null) {\n        el.textContent = \"BokehJS \" + root.Bokeh.version + \" successfully loaded.\";\n      }\n    } else if (Date.now() < root._bokeh_timeout) {\n      setTimeout(display_loaded, 100)\n    }\n  }\n\n\n  function run_callbacks() {\n    try {\n      root._bokeh_onload_callbacks.forEach(function(callback) { callback() });\n    }\n    finally {\n      delete root._bokeh_onload_callbacks\n    }\n    console.info(\"Bokeh: all callbacks have finished\");\n  }\n\n  function load_libs(js_urls, callback) {\n    root._bokeh_onload_callbacks.push(callback);\n    if (root._bokeh_is_loading > 0) {\n      console.log(\"Bokeh: BokehJS is being loaded, scheduling callback at\", now());\n      return null;\n    }\n    if (js_urls == null || js_urls.length === 0) {\n      run_callbacks();\n      return null;\n    }\n    console.log(\"Bokeh: BokehJS not loaded, scheduling load and callback at\", now());\n    root._bokeh_is_loading = js_urls.length;\n    for (var i = 0; i < js_urls.length; i++) {\n      var url = js_urls[i];\n      var s = document.createElement('script');\n      s.src = url;\n      s.async = false;\n      s.onreadystatechange = s.onload = function() {\n        root._bokeh_is_loading--;\n        if (root._bokeh_is_loading === 0) {\n          console.log(\"Bokeh: all BokehJS libraries loaded\");\n          run_callbacks()\n        }\n      };\n      s.onerror = function() {\n        console.warn(\"failed to load library \" + url);\n      };\n      console.log(\"Bokeh: injecting script tag for BokehJS library: \", url);\n      document.getElementsByTagName(\"head\")[0].appendChild(s);\n    }\n  };var element = document.getElementById(\"9045a205-6713-45bd-80bb-fb1e40668b91\");\n  if (element == null) {\n    console.log(\"Bokeh: ERROR: autoload.js configured with elementid '9045a205-6713-45bd-80bb-fb1e40668b91' but no matching script tag was found. \")\n    return false;\n  }\n\n  var js_urls = [\"https://cdn.pydata.org/bokeh/release/bokeh-0.12.13.min.js\", \"https://cdn.pydata.org/bokeh/release/bokeh-widgets-0.12.13.min.js\", \"https://cdn.pydata.org/bokeh/release/bokeh-tables-0.12.13.min.js\", \"https://cdn.pydata.org/bokeh/release/bokeh-gl-0.12.13.min.js\"];\n\n  var inline_js = [\n    function(Bokeh) {\n      Bokeh.set_log_level(\"info\");\n    },\n    \n    function(Bokeh) {\n      \n    },\n    function(Bokeh) {\n      console.log(\"Bokeh: injecting CSS: https://cdn.pydata.org/bokeh/release/bokeh-0.12.13.min.css\");\n      Bokeh.embed.inject_css(\"https://cdn.pydata.org/bokeh/release/bokeh-0.12.13.min.css\");\n      console.log(\"Bokeh: injecting CSS: https://cdn.pydata.org/bokeh/release/bokeh-widgets-0.12.13.min.css\");\n      Bokeh.embed.inject_css(\"https://cdn.pydata.org/bokeh/release/bokeh-widgets-0.12.13.min.css\");\n      console.log(\"Bokeh: injecting CSS: https://cdn.pydata.org/bokeh/release/bokeh-tables-0.12.13.min.css\");\n      Bokeh.embed.inject_css(\"https://cdn.pydata.org/bokeh/release/bokeh-tables-0.12.13.min.css\");\n    }\n  ];\n\n  function run_inline_js() {\n    \n    if ((root.Bokeh !== undefined) || (force === true)) {\n      for (var i = 0; i < inline_js.length; i++) {\n        inline_js[i].call(root, root.Bokeh);\n      }if (force === true) {\n        display_loaded();\n      }} else if (Date.now() < root._bokeh_timeout) {\n      setTimeout(run_inline_js, 100);\n    } else if (!root._bokeh_failed_load) {\n      console.log(\"Bokeh: BokehJS failed to load within specified timeout.\");\n      root._bokeh_failed_load = true;\n    } else if (force !== true) {\n      var cell = $(document.getElementById(\"9045a205-6713-45bd-80bb-fb1e40668b91\")).parents('.cell').data().cell;\n      cell.output_area.append_execute_result(NB_LOAD_WARNING)\n    }\n\n  }\n\n  if (root._bokeh_is_loading === 0) {\n    console.log(\"Bokeh: BokehJS loaded, going straight to plotting\");\n    run_inline_js();\n  } else {\n    load_libs(js_urls, function() {\n      console.log(\"Bokeh: BokehJS plotting callback run at\", now());\n      run_inline_js();\n    });\n  }\n}(window));"
     },
     "metadata": {},
     "output_type": "display_data"
    }
   ],
   "source": [
    "from py2neo import Node, Relationship, Graph\n",
    "from numpy.random import rand\n",
    "import numpy as num\n",
    "from bokeh.plotting import output_notebook,figure,ColumnDataSource, show\n",
    "from bokeh.layouts import row,column,gridplot\n",
    "from bokeh.models import HoverTool\n",
    "from utils import *\n",
    "output_notebook()\n",
    "import matplotlib.pyplot as plt\n",
    "%matplotlib inline"
   ]
  },
  {
   "cell_type": "code",
   "execution_count": 73,
   "metadata": {},
   "outputs": [
    {
     "data": {
      "application/javascript": [
       "IPython.OutputArea.prototype._should_scroll = function(lines) {\n",
       "    return false;\n",
       "}"
      ],
      "text/plain": [
       "<IPython.core.display.Javascript object>"
      ]
     },
     "metadata": {},
     "output_type": "display_data"
    }
   ],
   "source": [
    "%%javascript\n",
    "IPython.OutputArea.prototype._should_scroll = function(lines) {\n",
    "    return false;\n",
    "}"
   ]
  },
  {
   "cell_type": "code",
   "execution_count": 74,
   "metadata": {},
   "outputs": [
    {
     "data": {
      "text/html": [
       "\n",
       "<div class=\"bk-root\">\n",
       "    <div class=\"bk-plotdiv\" id=\"2865c32c-6936-4aa9-9cf8-b836684175fd\"></div>\n",
       "</div>"
      ]
     },
     "metadata": {},
     "output_type": "display_data"
    },
    {
     "data": {
      "application/javascript": [
       "(function(root) {\n",
       "  function embed_document(root) {\n",
       "    \n",
       "  var docs_json = {\"0587de19-5bfe-4b78-82bf-2ee2ed4c9410\":{\"roots\":{\"references\":[{\"attributes\":{\"axis_label\":\"threshold\",\"formatter\":{\"id\":\"02e12158-5026-4c82-a089-4a8326b32440\",\"type\":\"BasicTickFormatter\"},\"plot\":{\"id\":\"fd0e1034-1d99-4aec-b046-df7693ac3d63\",\"subtype\":\"Figure\",\"type\":\"Plot\"},\"ticker\":{\"id\":\"ef484251-1dfc-4574-8425-e2c1c0f1cd73\",\"type\":\"BasicTicker\"}},\"id\":\"8c0dd5a2-5999-439a-ae6f-cf08f6de8a73\",\"type\":\"LinearAxis\"},{\"attributes\":{\"plot\":{\"id\":\"fd0e1034-1d99-4aec-b046-df7693ac3d63\",\"subtype\":\"Figure\",\"type\":\"Plot\"},\"ticker\":{\"id\":\"ef484251-1dfc-4574-8425-e2c1c0f1cd73\",\"type\":\"BasicTicker\"}},\"id\":\"e2bc7637-f89d-48ab-9015-3f8a51a1c45c\",\"type\":\"Grid\"},{\"attributes\":{\"active_drag\":\"auto\",\"active_inspect\":\"auto\",\"active_scroll\":\"auto\",\"active_tap\":\"auto\",\"tools\":[{\"id\":\"3d8144d3-72cb-424a-88a9-9cd886832b5d\",\"type\":\"HoverTool\"}]},\"id\":\"222d5852-48ad-4384-a295-4f32804125c2\",\"type\":\"Toolbar\"},{\"attributes\":{},\"id\":\"19bbc7f9-3796-40fd-a49f-59b8901bd6be\",\"type\":\"LinearScale\"},{\"attributes\":{\"below\":[{\"id\":\"8c0dd5a2-5999-439a-ae6f-cf08f6de8a73\",\"type\":\"LinearAxis\"}],\"left\":[{\"id\":\"577ed34d-44b9-4286-bd34-44035fe3d3e2\",\"type\":\"LinearAxis\"}],\"plot_height\":500,\"plot_width\":500,\"renderers\":[{\"id\":\"8c0dd5a2-5999-439a-ae6f-cf08f6de8a73\",\"type\":\"LinearAxis\"},{\"id\":\"e2bc7637-f89d-48ab-9015-3f8a51a1c45c\",\"type\":\"Grid\"},{\"id\":\"577ed34d-44b9-4286-bd34-44035fe3d3e2\",\"type\":\"LinearAxis\"},{\"id\":\"859b1f3c-810f-493d-bc57-6804572d6eea\",\"type\":\"Grid\"},{\"id\":\"2160531f-f277-4cf1-b44e-577a066a5235\",\"type\":\"GlyphRenderer\"}],\"title\":{\"id\":\"87707c64-c22e-4682-b918-a3c8771151c1\",\"type\":\"Title\"},\"toolbar\":{\"id\":\"222d5852-48ad-4384-a295-4f32804125c2\",\"type\":\"Toolbar\"},\"x_range\":{\"id\":\"bd53171d-5ed3-423d-9378-05cba34ef7e4\",\"type\":\"DataRange1d\"},\"x_scale\":{\"id\":\"19bbc7f9-3796-40fd-a49f-59b8901bd6be\",\"type\":\"LinearScale\"},\"y_range\":{\"id\":\"764cbb32-a09d-4a82-a64c-453d69354209\",\"type\":\"DataRange1d\"},\"y_scale\":{\"id\":\"5564a33e-8ccc-4898-9f90-616758e9dcbb\",\"type\":\"LinearScale\"}},\"id\":\"fd0e1034-1d99-4aec-b046-df7693ac3d63\",\"subtype\":\"Figure\",\"type\":\"Plot\"},{\"attributes\":{\"callback\":null},\"id\":\"bd53171d-5ed3-423d-9378-05cba34ef7e4\",\"type\":\"DataRange1d\"},{\"attributes\":{},\"id\":\"ef484251-1dfc-4574-8425-e2c1c0f1cd73\",\"type\":\"BasicTicker\"},{\"attributes\":{},\"id\":\"5564a33e-8ccc-4898-9f90-616758e9dcbb\",\"type\":\"LinearScale\"},{\"attributes\":{\"callback\":null},\"id\":\"764cbb32-a09d-4a82-a64c-453d69354209\",\"type\":\"DataRange1d\"},{\"attributes\":{\"callback\":null,\"tooltips\":[[\"NAR\",\"@nar\"],[\"SUBJECT\",\"@sub\"]]},\"id\":\"3d8144d3-72cb-424a-88a9-9cd886832b5d\",\"type\":\"HoverTool\"},{\"attributes\":{},\"id\":\"ab21703a-e854-47dd-a841-babc561ce187\",\"type\":\"BasicTicker\"},{\"attributes\":{\"plot\":null,\"text\":\"MANIA 1.0 Operating points\"},\"id\":\"87707c64-c22e-4682-b918-a3c8771151c1\",\"type\":\"Title\"},{\"attributes\":{\"axis_label\":\"density\",\"formatter\":{\"id\":\"f38a0e32-a105-43de-bb2f-14b85d3d11b7\",\"type\":\"BasicTickFormatter\"},\"plot\":{\"id\":\"fd0e1034-1d99-4aec-b046-df7693ac3d63\",\"subtype\":\"Figure\",\"type\":\"Plot\"},\"ticker\":{\"id\":\"ab21703a-e854-47dd-a841-babc561ce187\",\"type\":\"BasicTicker\"}},\"id\":\"577ed34d-44b9-4286-bd34-44035fe3d3e2\",\"type\":\"LinearAxis\"},{\"attributes\":{},\"id\":\"f38a0e32-a105-43de-bb2f-14b85d3d11b7\",\"type\":\"BasicTickFormatter\"},{\"attributes\":{\"data_source\":{\"id\":\"ba6211f9-c0d6-49d6-8c16-56bc2265c577\",\"type\":\"ColumnDataSource\"},\"glyph\":{\"id\":\"6372f661-5310-4b0b-83b1-27708ca4ade3\",\"type\":\"Circle\"},\"hover_glyph\":null,\"muted_glyph\":null,\"nonselection_glyph\":{\"id\":\"51da87f0-bdcf-4380-9aad-7285ffb90712\",\"type\":\"Circle\"},\"selection_glyph\":null,\"view\":{\"id\":\"0e7cf3d2-83ec-4edb-ac84-cee04c4be1d4\",\"type\":\"CDSView\"}},\"id\":\"2160531f-f277-4cf1-b44e-577a066a5235\",\"type\":\"GlyphRenderer\"},{\"attributes\":{},\"id\":\"02e12158-5026-4c82-a089-4a8326b32440\",\"type\":\"BasicTickFormatter\"},{\"attributes\":{\"fill_color\":{\"value\":\"#1f77b4\"},\"line_color\":{\"value\":\"#1f77b4\"},\"size\":{\"units\":\"screen\",\"value\":20},\"x\":{\"field\":\"t\"},\"y\":{\"field\":\"d\"}},\"id\":\"6372f661-5310-4b0b-83b1-27708ca4ade3\",\"type\":\"Circle\"},{\"attributes\":{\"source\":{\"id\":\"ba6211f9-c0d6-49d6-8c16-56bc2265c577\",\"type\":\"ColumnDataSource\"}},\"id\":\"0e7cf3d2-83ec-4edb-ac84-cee04c4be1d4\",\"type\":\"CDSView\"},{\"attributes\":{\"callback\":null,\"column_names\":[\"sub\",\"t\",\"d\",\"nar\"],\"data\":{\"d\":[3.2464307883302297,3.0881440099317192,2.982619490999379,3.3178150217256364,3.2464307883302297,3.3643699565487273,3.4698944754810674],\"nar\":[7.707187474584462,6.740829849809496,7.829786644755364,9.191776235608327,7.707187474584462,7.827936385735904,8.710102566326574],\"sub\":[481042,468050,463040,453542,421226,413934,401422],\"t\":[2430,2957,2938,2149,2274,2267,2225]}},\"id\":\"ba6211f9-c0d6-49d6-8c16-56bc2265c577\",\"type\":\"ColumnDataSource\"},{\"attributes\":{\"fill_alpha\":{\"value\":0.1},\"fill_color\":{\"value\":\"#1f77b4\"},\"line_alpha\":{\"value\":0.1},\"line_color\":{\"value\":\"#1f77b4\"},\"size\":{\"units\":\"screen\",\"value\":20},\"x\":{\"field\":\"t\"},\"y\":{\"field\":\"d\"}},\"id\":\"51da87f0-bdcf-4380-9aad-7285ffb90712\",\"type\":\"Circle\"},{\"attributes\":{\"dimension\":1,\"plot\":{\"id\":\"fd0e1034-1d99-4aec-b046-df7693ac3d63\",\"subtype\":\"Figure\",\"type\":\"Plot\"},\"ticker\":{\"id\":\"ab21703a-e854-47dd-a841-babc561ce187\",\"type\":\"BasicTicker\"}},\"id\":\"859b1f3c-810f-493d-bc57-6804572d6eea\",\"type\":\"Grid\"}],\"root_ids\":[\"fd0e1034-1d99-4aec-b046-df7693ac3d63\"]},\"title\":\"Bokeh Application\",\"version\":\"0.12.13\"}};\n",
       "  var render_items = [{\"docid\":\"0587de19-5bfe-4b78-82bf-2ee2ed4c9410\",\"elementid\":\"2865c32c-6936-4aa9-9cf8-b836684175fd\",\"modelid\":\"fd0e1034-1d99-4aec-b046-df7693ac3d63\"}];\n",
       "  root.Bokeh.embed.embed_items_notebook(docs_json, render_items);\n",
       "\n",
       "  }\n",
       "  if (root.Bokeh !== undefined) {\n",
       "    embed_document(root);\n",
       "  } else {\n",
       "    var attempts = 0;\n",
       "    var timer = setInterval(function(root) {\n",
       "      if (root.Bokeh !== undefined) {\n",
       "        embed_document(root);\n",
       "        clearInterval(timer);\n",
       "      }\n",
       "      attempts++;\n",
       "      if (attempts > 100) {\n",
       "        console.log(\"Bokeh: ERROR: Unable to run BokehJS code because BokehJS library is missing\")\n",
       "        clearInterval(timer);\n",
       "      }\n",
       "    }, 10, root)\n",
       "  }\n",
       "})(window);"
      ],
      "application/vnd.bokehjs_exec.v0+json": ""
     },
     "metadata": {
      "application/vnd.bokehjs_exec.v0+json": {
       "id": "fd0e1034-1d99-4aec-b046-df7693ac3d63"
      }
     },
     "output_type": "display_data"
    }
   ],
   "source": [
    "# NEO4J database call for results\n",
    "graph = Graph()\n",
    "c1 = '''MATCH (:MANIA)-[r:SUB]-(n:RES)\n",
    " return r.id as sub, n.threshold as t,n.density as d,n.NAR as nar'''\n",
    "A = graph.run(c1)\n",
    "# Plotting the data\n",
    "s = []\n",
    "hover = HoverTool(tooltips=[\n",
    "    (\"NAR\", \"$NAR\"),\n",
    "    (\"SUBJECT\", \"$SUB\"),\n",
    "])\n",
    "sub = []\n",
    "t = []\n",
    "d = []\n",
    "nar = []\n",
    "for i,w in enumerate(A):\n",
    "    sub = sub + [w['sub']]\n",
    "    nar = nar + [w['nar']*100]\n",
    "    d = d + [w['d']*100]\n",
    "    t = t + [w['t']]\n",
    "source = ColumnDataSource(data=dict(\n",
    "    sub=sub,\n",
    "    t=t,\n",
    "    d=d,\n",
    "    nar=nar\n",
    "))\n",
    "hover = HoverTool(tooltips=[\n",
    "    (\"NAR\", \"@nar\"),\n",
    "    (\"SUBJECT\", \"@sub\"),\n",
    "])\n",
    "p = figure(plot_width=500, plot_height=500, tools=[hover],title=\"MANIA 1.0 Operating points\",y_axis_label = \"density\",x_axis_label = \"threshold\")\n",
    "p.circle('t', 'd', size=20, source=source)\n",
    "show(p)"
   ]
  },
  {
   "cell_type": "markdown",
   "metadata": {},
   "source": [
    "### JACCARD SIMILARITY\n",
    "Next we look at the jaccard similarity between each pair of subject networks"
   ]
  },
  {
   "cell_type": "code",
   "execution_count": 8,
   "metadata": {},
   "outputs": [],
   "source": [
    "c1 = '''MATCH (n:ROI)-[r:MANIA{connected:1}]->(m:ROI)\n",
    " return n.name as N1,m.name as N2,r.SUB as sub'''\n",
    "A = graph.run(c1)\n",
    "net = {}\n",
    "E = {}\n",
    "for w in A:\n",
    "    try:\n",
    "        E[w['N1']+w['N2']] += 1\n",
    "    except KeyError:\n",
    "        E[w['N1']+w['N2']] = 1\n",
    "    i = int(w['N1'][1:])-1\n",
    "    j = int(w['N2'][1:])-1\n",
    "    try:\n",
    "        net[w['sub']][i,j] = 1\n",
    "    except KeyError:\n",
    "        net[w['sub']]=num.zeros((180,180))\n",
    "from itertools import combinations\n",
    "S = sorted(net.keys())\n",
    "A =  num.zeros((7,7))\n",
    "Z = []\n",
    "for w,v in combinations(S,2):\n",
    "    tmp = sim(net[w],net[v])\n",
    "    A[S.index(w),S.index(v)] = tmp\n",
    "    Z = Z + [tmp]\n",
    "from collections import Counter\n",
    "c = Counter(list(E.values()))\n",
    "per = []\n",
    "K=[]\n",
    "for v in c:\n",
    "    per = per + [int(c[v]*100/len(E))]\n",
    "    K = K + [v]\n",
    "cc = sorted(zip(K,per),reverse=True)\n",
    "per = [xx[1] for xx in cc]\n",
    "K = [xx[0] for xx in cc]"
   ]
  },
  {
   "cell_type": "code",
   "execution_count": 83,
   "metadata": {},
   "outputs": [
    {
     "data": {
      "text/plain": [
       "Text(0.5,1,'Jaccard Index distribution among 7*6 subject pairs')"
      ]
     },
     "execution_count": 83,
     "metadata": {},
     "output_type": "execute_result"
    },
    {
     "data": {
      "image/png": "[encoded data removed]",
      "text/plain": [
       "<matplotlib.figure.Figure at 0x10e6d3d30>"
      ]
     },
     "metadata": {},
     "output_type": "display_data"
    }
   ],
   "source": [
    "plt.figure(figsize=(10, 6))\n",
    "plt.boxplot(Z,0, 'rs', 0)\n",
    "plt.xlabel('Jaccard Index')\n",
    "plt.title('Jaccard Index distribution among 7*6 subject pairs')"
   ]
  },
  {
   "cell_type": "markdown",
   "metadata": {},
   "source": [
    "### Edge type\n",
    "Next we look at the edge types across all 7 networks. Edge type 7 means the edge is present in all 7 networks, 6 means the edge is present only in 6 subjects and so on. We only considers Edges that are present in at least on subject here. Below you can see the percentage of each edge type."
   ]
  },
  {
   "cell_type": "code",
   "execution_count": 86,
   "metadata": {},
   "outputs": [
    {
     "data": {
      "text/html": [
       "\n",
       "<div class=\"bk-root\">\n",
       "    <div class=\"bk-plotdiv\" id=\"e0bb63c2-8ec1-432a-b947-7a900a8811f9\"></div>\n",
       "</div>"
      ]
     },
     "metadata": {},
     "output_type": "display_data"
    },
    {
     "data": {
      "application/javascript": [
       "(function(root) {\n",
       "  function embed_document(root) {\n",
       "    \n",
       "  var docs_json = {\"66f65fc8-a2ba-49e1-b835-1f47f223d7e8\":{\"roots\":{\"references\":[{\"attributes\":{\"plot\":{\"id\":\"ffac59cc-7490-4646-92ed-b0a23bf62058\",\"subtype\":\"Figure\",\"type\":\"Plot\"},\"ticker\":{\"id\":\"6f185d65-963b-46c1-8669-a15652cf8fc3\",\"type\":\"BasicTicker\"}},\"id\":\"04a6fee1-2ef6-49de-9d02-be2ce76637fb\",\"type\":\"Grid\"},{\"attributes\":{},\"id\":\"eb58ca3d-ce58-4529-91b3-9be72f5d2c22\",\"type\":\"SaveTool\"},{\"attributes\":{\"fill_color\":{\"value\":\"#1f77b4\"},\"line_color\":{\"value\":\"#1f77b4\"},\"top\":{\"field\":\"top\"},\"width\":{\"value\":0.75},\"x\":{\"field\":\"x\"}},\"id\":\"c63abdfe-d40f-4887-8b9d-4828456f5e0c\",\"type\":\"VBar\"},{\"attributes\":{\"bottom_units\":\"screen\",\"fill_alpha\":{\"value\":0.5},\"fill_color\":{\"value\":\"lightgrey\"},\"left_units\":\"screen\",\"level\":\"overlay\",\"line_alpha\":{\"value\":1.0},\"line_color\":{\"value\":\"black\"},\"line_dash\":[4,4],\"line_width\":{\"value\":2},\"plot\":null,\"render_mode\":\"css\",\"right_units\":\"screen\",\"top_units\":\"screen\"},\"id\":\"4bc95a86-a47c-40f2-886e-b534fe4acc71\",\"type\":\"BoxAnnotation\"},{\"attributes\":{\"callback\":null,\"column_names\":[\"x\",\"top\"],\"data\":{\"top\":[50,14,6,4,3,5,15],\"x\":[7,6,5,4,3,2,1]}},\"id\":\"c794f283-03ca-4332-be97-724bda6669ef\",\"type\":\"ColumnDataSource\"},{\"attributes\":{},\"id\":\"f810452a-7e9c-4dc6-a755-9088d0ab906b\",\"type\":\"BasicTickFormatter\"},{\"attributes\":{},\"id\":\"66eb8594-4187-48cb-a247-ed6a0f792bcb\",\"type\":\"LinearScale\"},{\"attributes\":{\"callback\":null},\"id\":\"9a5f76b9-416e-4971-99aa-1fa3ef6c53b5\",\"type\":\"DataRange1d\"},{\"attributes\":{\"below\":[{\"id\":\"7e978a96-e710-418f-aeb8-e9551da7245f\",\"type\":\"LinearAxis\"}],\"left\":[{\"id\":\"75374620-38b4-4e08-80a2-9205b1b0327f\",\"type\":\"LinearAxis\"}],\"plot_height\":500,\"plot_width\":500,\"renderers\":[{\"id\":\"7e978a96-e710-418f-aeb8-e9551da7245f\",\"type\":\"LinearAxis\"},{\"id\":\"04a6fee1-2ef6-49de-9d02-be2ce76637fb\",\"type\":\"Grid\"},{\"id\":\"75374620-38b4-4e08-80a2-9205b1b0327f\",\"type\":\"LinearAxis\"},{\"id\":\"cde8e3f9-c8bf-4509-91e4-1557875d260a\",\"type\":\"Grid\"},{\"id\":\"4bc95a86-a47c-40f2-886e-b534fe4acc71\",\"type\":\"BoxAnnotation\"},{\"id\":\"77a29cc4-0d3c-4c23-9514-24557b6086cc\",\"type\":\"GlyphRenderer\"}],\"title\":{\"id\":\"df91751b-acca-4985-9bd3-19082302012a\",\"type\":\"Title\"},\"toolbar\":{\"id\":\"9e5b592c-2881-4e95-954e-715b1eddb45c\",\"type\":\"Toolbar\"},\"x_range\":{\"id\":\"9a5f76b9-416e-4971-99aa-1fa3ef6c53b5\",\"type\":\"DataRange1d\"},\"x_scale\":{\"id\":\"66eb8594-4187-48cb-a247-ed6a0f792bcb\",\"type\":\"LinearScale\"},\"y_range\":{\"id\":\"9e2b7f49-edda-4359-95ac-91f6d52e12ba\",\"type\":\"DataRange1d\"},\"y_scale\":{\"id\":\"3905c8c0-de61-4f9a-a465-6af1cbf8c977\",\"type\":\"LinearScale\"}},\"id\":\"ffac59cc-7490-4646-92ed-b0a23bf62058\",\"subtype\":\"Figure\",\"type\":\"Plot\"},{\"attributes\":{\"data_source\":{\"id\":\"c794f283-03ca-4332-be97-724bda6669ef\",\"type\":\"ColumnDataSource\"},\"glyph\":{\"id\":\"c63abdfe-d40f-4887-8b9d-4828456f5e0c\",\"type\":\"VBar\"},\"hover_glyph\":null,\"muted_glyph\":null,\"nonselection_glyph\":{\"id\":\"fedc6dd5-72e9-43ad-8331-756049e2fc0b\",\"type\":\"VBar\"},\"selection_glyph\":null,\"view\":{\"id\":\"7a20270d-f87b-4071-b9c7-1eba9676a1cf\",\"type\":\"CDSView\"}},\"id\":\"77a29cc4-0d3c-4c23-9514-24557b6086cc\",\"type\":\"GlyphRenderer\"},{\"attributes\":{\"active_drag\":\"auto\",\"active_inspect\":\"auto\",\"active_scroll\":\"auto\",\"active_tap\":\"auto\",\"tools\":[{\"id\":\"b8eedd77-0e61-4905-a78e-bf112d7eac52\",\"type\":\"PanTool\"},{\"id\":\"d40bed2a-f86d-4219-8440-9711f6bd0abb\",\"type\":\"WheelZoomTool\"},{\"id\":\"178519b8-7225-4833-a1bf-e01d5b7faf65\",\"type\":\"BoxZoomTool\"},{\"id\":\"eb58ca3d-ce58-4529-91b3-9be72f5d2c22\",\"type\":\"SaveTool\"},{\"id\":\"16f64b58-9b2f-47c1-a624-cafd7e615457\",\"type\":\"ResetTool\"},{\"id\":\"10c40d42-3b49-4824-890d-b27e3b6591d1\",\"type\":\"HelpTool\"}]},\"id\":\"9e5b592c-2881-4e95-954e-715b1eddb45c\",\"type\":\"Toolbar\"},{\"attributes\":{},\"id\":\"23f1a877-fd82-4b8e-935c-711138147421\",\"type\":\"BasicTickFormatter\"},{\"attributes\":{},\"id\":\"3905c8c0-de61-4f9a-a465-6af1cbf8c977\",\"type\":\"LinearScale\"},{\"attributes\":{\"dimension\":1,\"plot\":{\"id\":\"ffac59cc-7490-4646-92ed-b0a23bf62058\",\"subtype\":\"Figure\",\"type\":\"Plot\"},\"ticker\":{\"id\":\"c503951f-3521-468d-ba1f-a8377dd23b7b\",\"type\":\"BasicTicker\"}},\"id\":\"cde8e3f9-c8bf-4509-91e4-1557875d260a\",\"type\":\"Grid\"},{\"attributes\":{},\"id\":\"c503951f-3521-468d-ba1f-a8377dd23b7b\",\"type\":\"BasicTicker\"},{\"attributes\":{},\"id\":\"6f185d65-963b-46c1-8669-a15652cf8fc3\",\"type\":\"BasicTicker\"},{\"attributes\":{\"fill_alpha\":{\"value\":0.1},\"fill_color\":{\"value\":\"#1f77b4\"},\"line_alpha\":{\"value\":0.1},\"line_color\":{\"value\":\"#1f77b4\"},\"top\":{\"field\":\"top\"},\"width\":{\"value\":0.75},\"x\":{\"field\":\"x\"}},\"id\":\"fedc6dd5-72e9-43ad-8331-756049e2fc0b\",\"type\":\"VBar\"},{\"attributes\":{},\"id\":\"b8eedd77-0e61-4905-a78e-bf112d7eac52\",\"type\":\"PanTool\"},{\"attributes\":{\"plot\":null,\"text\":\"Edge type\"},\"id\":\"df91751b-acca-4985-9bd3-19082302012a\",\"type\":\"Title\"},{\"attributes\":{},\"id\":\"d40bed2a-f86d-4219-8440-9711f6bd0abb\",\"type\":\"WheelZoomTool\"},{\"attributes\":{},\"id\":\"16f64b58-9b2f-47c1-a624-cafd7e615457\",\"type\":\"ResetTool\"},{\"attributes\":{\"axis_label\":\"Frequecy\",\"formatter\":{\"id\":\"23f1a877-fd82-4b8e-935c-711138147421\",\"type\":\"BasicTickFormatter\"},\"plot\":{\"id\":\"ffac59cc-7490-4646-92ed-b0a23bf62058\",\"subtype\":\"Figure\",\"type\":\"Plot\"},\"ticker\":{\"id\":\"c503951f-3521-468d-ba1f-a8377dd23b7b\",\"type\":\"BasicTicker\"}},\"id\":\"75374620-38b4-4e08-80a2-9205b1b0327f\",\"type\":\"LinearAxis\"},{\"attributes\":{\"source\":{\"id\":\"c794f283-03ca-4332-be97-724bda6669ef\",\"type\":\"ColumnDataSource\"}},\"id\":\"7a20270d-f87b-4071-b9c7-1eba9676a1cf\",\"type\":\"CDSView\"},{\"attributes\":{\"axis_label\":\"Type\",\"formatter\":{\"id\":\"f810452a-7e9c-4dc6-a755-9088d0ab906b\",\"type\":\"BasicTickFormatter\"},\"plot\":{\"id\":\"ffac59cc-7490-4646-92ed-b0a23bf62058\",\"subtype\":\"Figure\",\"type\":\"Plot\"},\"ticker\":{\"id\":\"6f185d65-963b-46c1-8669-a15652cf8fc3\",\"type\":\"BasicTicker\"}},\"id\":\"7e978a96-e710-418f-aeb8-e9551da7245f\",\"type\":\"LinearAxis\"},{\"attributes\":{\"callback\":null},\"id\":\"9e2b7f49-edda-4359-95ac-91f6d52e12ba\",\"type\":\"DataRange1d\"},{\"attributes\":{},\"id\":\"10c40d42-3b49-4824-890d-b27e3b6591d1\",\"type\":\"HelpTool\"},{\"attributes\":{\"overlay\":{\"id\":\"4bc95a86-a47c-40f2-886e-b534fe4acc71\",\"type\":\"BoxAnnotation\"}},\"id\":\"178519b8-7225-4833-a1bf-e01d5b7faf65\",\"type\":\"BoxZoomTool\"}],\"root_ids\":[\"ffac59cc-7490-4646-92ed-b0a23bf62058\"]},\"title\":\"Bokeh Application\",\"version\":\"0.12.13\"}};\n",
       "  var render_items = [{\"docid\":\"66f65fc8-a2ba-49e1-b835-1f47f223d7e8\",\"elementid\":\"e0bb63c2-8ec1-432a-b947-7a900a8811f9\",\"modelid\":\"ffac59cc-7490-4646-92ed-b0a23bf62058\"}];\n",
       "  root.Bokeh.embed.embed_items_notebook(docs_json, render_items);\n",
       "\n",
       "  }\n",
       "  if (root.Bokeh !== undefined) {\n",
       "    embed_document(root);\n",
       "  } else {\n",
       "    var attempts = 0;\n",
       "    var timer = setInterval(function(root) {\n",
       "      if (root.Bokeh !== undefined) {\n",
       "        embed_document(root);\n",
       "        clearInterval(timer);\n",
       "      }\n",
       "      attempts++;\n",
       "      if (attempts > 100) {\n",
       "        console.log(\"Bokeh: ERROR: Unable to run BokehJS code because BokehJS library is missing\")\n",
       "        clearInterval(timer);\n",
       "      }\n",
       "    }, 10, root)\n",
       "  }\n",
       "})(window);"
      ],
      "application/vnd.bokehjs_exec.v0+json": ""
     },
     "metadata": {
      "application/vnd.bokehjs_exec.v0+json": {
       "id": "ffac59cc-7490-4646-92ed-b0a23bf62058"
      }
     },
     "output_type": "display_data"
    }
   ],
   "source": [
    "p = figure(plot_width=500, plot_height=500,title=\"Edge type\",y_axis_label = \"Frequecy\",x_axis_label = \"Type\")\n",
    "source = ColumnDataSource(data=dict(\n",
    "    per=per,\n",
    "    ind = K\n",
    "))\n",
    "p.vbar(x=K, top=per,width=.75)\n",
    "show(p)"
   ]
  },
  {
   "cell_type": "code",
   "execution_count": null,
   "metadata": {},
   "outputs": [],
   "source": []
  }
 ],
 "metadata": {
  "kernelspec": {
   "display_name": "Python 3",
   "language": "python",
   "name": "python3"
  },
  "language_info": {
   "codemirror_mode": {
    "name": "ipython",
    "version": 3
   },
   "file_extension": ".py",
   "mimetype": "text/x-python",
   "name": "python",
   "nbconvert_exporter": "python",
   "pygments_lexer": "ipython3",
   "version": "3.6.2"
  }
 },
 "nbformat": 4,
 "nbformat_minor": 2
}
