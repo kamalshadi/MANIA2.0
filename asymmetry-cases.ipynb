{
 "cells": [
  {
   "cell_type": "markdown",
   "metadata": {},
   "source": [
    "# Asymmetry Case Break Downs"
   ]
  },
  {
   "cell_type": "code",
   "execution_count": 21,
   "metadata": {},
   "outputs": [
    {
     "data": {
      "text/html": [
       "\n",
       "    <div class=\"bk-root\">\n",
       "        <a href=\"https://bokeh.pydata.org\" target=\"_blank\" class=\"bk-logo bk-logo-small bk-logo-notebook\"></a>\n",
       "        <span id=\"e746074d-3e59-409a-b6da-ed692d97262a\">Loading BokehJS ...</span>\n",
       "    </div>"
      ]
     },
     "metadata": {},
     "output_type": "display_data"
    },
    {
     "data": {
      "application/javascript": [
       "\n",
       "(function(root) {\n",
       "  function now() {\n",
       "    return new Date();\n",
       "  }\n",
       "\n",
       "  var force = true;\n",
       "\n",
       "  if (typeof (root._bokeh_onload_callbacks) === \"undefined\" || force === true) {\n",
       "    root._bokeh_onload_callbacks = [];\n",
       "    root._bokeh_is_loading = undefined;\n",
       "  }\n",
       "\n",
       "  var JS_MIME_TYPE = 'application/javascript';\n",
       "  var HTML_MIME_TYPE = 'text/html';\n",
       "  var EXEC_MIME_TYPE = 'application/vnd.bokehjs_exec.v0+json';\n",
       "  var CLASS_NAME = 'output_bokeh rendered_html';\n",
       "\n",
       "  /**\n",
       "   * Render data to the DOM node\n",
       "   */\n",
       "  function render(props, node) {\n",
       "    var script = document.createElement(\"script\");\n",
       "    node.appendChild(script);\n",
       "  }\n",
       "\n",
       "  /**\n",
       "   * Handle when an output is cleared or removed\n",
       "   */\n",
       "  function handleClearOutput(event, handle) {\n",
       "    var cell = handle.cell;\n",
       "\n",
       "    var id = cell.output_area._bokeh_element_id;\n",
       "    var server_id = cell.output_area._bokeh_server_id;\n",
       "    // Clean up Bokeh references\n",
       "    if (id !== undefined) {\n",
       "      Bokeh.index[id].model.document.clear();\n",
       "      delete Bokeh.index[id];\n",
       "    }\n",
       "\n",
       "    if (server_id !== undefined) {\n",
       "      // Clean up Bokeh references\n",
       "      var cmd = \"from bokeh.io.state import curstate; print(curstate().uuid_to_server['\" + server_id + \"'].get_sessions()[0].document.roots[0]._id)\";\n",
       "      cell.notebook.kernel.execute(cmd, {\n",
       "        iopub: {\n",
       "          output: function(msg) {\n",
       "            var element_id = msg.content.text.trim();\n",
       "            Bokeh.index[element_id].model.document.clear();\n",
       "            delete Bokeh.index[element_id];\n",
       "          }\n",
       "        }\n",
       "      });\n",
       "      // Destroy server and session\n",
       "      var cmd = \"import bokeh.io.notebook as ion; ion.destroy_server('\" + server_id + \"')\";\n",
       "      cell.notebook.kernel.execute(cmd);\n",
       "    }\n",
       "  }\n",
       "\n",
       "  /**\n",
       "   * Handle when a new output is added\n",
       "   */\n",
       "  function handleAddOutput(event, handle) {\n",
       "    var output_area = handle.output_area;\n",
       "    var output = handle.output;\n",
       "\n",
       "    // limit handleAddOutput to display_data with EXEC_MIME_TYPE content only\n",
       "    if ((output.output_type != \"display_data\") || (!output.data.hasOwnProperty(EXEC_MIME_TYPE))) {\n",
       "      return\n",
       "    }\n",
       "\n",
       "    var toinsert = output_area.element.find(\".\" + CLASS_NAME.split(' ')[0]);\n",
       "\n",
       "    if (output.metadata[EXEC_MIME_TYPE][\"id\"] !== undefined) {\n",
       "      toinsert[0].firstChild.textContent = output.data[JS_MIME_TYPE];\n",
       "      // store reference to embed id on output_area\n",
       "      output_area._bokeh_element_id = output.metadata[EXEC_MIME_TYPE][\"id\"];\n",
       "    }\n",
       "    if (output.metadata[EXEC_MIME_TYPE][\"server_id\"] !== undefined) {\n",
       "      var bk_div = document.createElement(\"div\");\n",
       "      bk_div.innerHTML = output.data[HTML_MIME_TYPE];\n",
       "      var script_attrs = bk_div.children[0].attributes;\n",
       "      for (var i = 0; i < script_attrs.length; i++) {\n",
       "        toinsert[0].firstChild.setAttribute(script_attrs[i].name, script_attrs[i].value);\n",
       "      }\n",
       "      // store reference to server id on output_area\n",
       "      output_area._bokeh_server_id = output.metadata[EXEC_MIME_TYPE][\"server_id\"];\n",
       "    }\n",
       "  }\n",
       "\n",
       "  function register_renderer(events, OutputArea) {\n",
       "\n",
       "    function append_mime(data, metadata, element) {\n",
       "      // create a DOM node to render to\n",
       "      var toinsert = this.create_output_subarea(\n",
       "        metadata,\n",
       "        CLASS_NAME,\n",
       "        EXEC_MIME_TYPE\n",
       "      );\n",
       "      this.keyboard_manager.register_events(toinsert);\n",
       "      // Render to node\n",
       "      var props = {data: data, metadata: metadata[EXEC_MIME_TYPE]};\n",
       "      render(props, toinsert[0]);\n",
       "      element.append(toinsert);\n",
       "      return toinsert\n",
       "    }\n",
       "\n",
       "    /* Handle when an output is cleared or removed */\n",
       "    events.on('clear_output.CodeCell', handleClearOutput);\n",
       "    events.on('delete.Cell', handleClearOutput);\n",
       "\n",
       "    /* Handle when a new output is added */\n",
       "    events.on('output_added.OutputArea', handleAddOutput);\n",
       "\n",
       "    /**\n",
       "     * Register the mime type and append_mime function with output_area\n",
       "     */\n",
       "    OutputArea.prototype.register_mime_type(EXEC_MIME_TYPE, append_mime, {\n",
       "      /* Is output safe? */\n",
       "      safe: true,\n",
       "      /* Index of renderer in `output_area.display_order` */\n",
       "      index: 0\n",
       "    });\n",
       "  }\n",
       "\n",
       "  // register the mime type if in Jupyter Notebook environment and previously unregistered\n",
       "  if (root.Jupyter !== undefined) {\n",
       "    var events = require('base/js/events');\n",
       "    var OutputArea = require('notebook/js/outputarea').OutputArea;\n",
       "\n",
       "    if (OutputArea.prototype.mime_types().indexOf(EXEC_MIME_TYPE) == -1) {\n",
       "      register_renderer(events, OutputArea);\n",
       "    }\n",
       "  }\n",
       "\n",
       "  \n",
       "  if (typeof (root._bokeh_timeout) === \"undefined\" || force === true) {\n",
       "    root._bokeh_timeout = Date.now() + 5000;\n",
       "    root._bokeh_failed_load = false;\n",
       "  }\n",
       "\n",
       "  var NB_LOAD_WARNING = {'data': {'text/html':\n",
       "     \"<div style='background-color: #fdd'>\\n\"+\n",
       "     \"<p>\\n\"+\n",
       "     \"BokehJS does not appear to have successfully loaded. If loading BokehJS from CDN, this \\n\"+\n",
       "     \"may be due to a slow or bad network connection. Possible fixes:\\n\"+\n",
       "     \"</p>\\n\"+\n",
       "     \"<ul>\\n\"+\n",
       "     \"<li>re-rerun `output_notebook()` to attempt to load from CDN again, or</li>\\n\"+\n",
       "     \"<li>use INLINE resources instead, as so:</li>\\n\"+\n",
       "     \"</ul>\\n\"+\n",
       "     \"<code>\\n\"+\n",
       "     \"from bokeh.resources import INLINE\\n\"+\n",
       "     \"output_notebook(resources=INLINE)\\n\"+\n",
       "     \"</code>\\n\"+\n",
       "     \"</div>\"}};\n",
       "\n",
       "  function display_loaded() {\n",
       "    var el = document.getElementById(\"e746074d-3e59-409a-b6da-ed692d97262a\");\n",
       "    if (el != null) {\n",
       "      el.textContent = \"BokehJS is loading...\";\n",
       "    }\n",
       "    if (root.Bokeh !== undefined) {\n",
       "      if (el != null) {\n",
       "        el.textContent = \"BokehJS \" + root.Bokeh.version + \" successfully loaded.\";\n",
       "      }\n",
       "    } else if (Date.now() < root._bokeh_timeout) {\n",
       "      setTimeout(display_loaded, 100)\n",
       "    }\n",
       "  }\n",
       "\n",
       "\n",
       "  function run_callbacks() {\n",
       "    try {\n",
       "      root._bokeh_onload_callbacks.forEach(function(callback) { callback() });\n",
       "    }\n",
       "    finally {\n",
       "      delete root._bokeh_onload_callbacks\n",
       "    }\n",
       "    console.info(\"Bokeh: all callbacks have finished\");\n",
       "  }\n",
       "\n",
       "  function load_libs(js_urls, callback) {\n",
       "    root._bokeh_onload_callbacks.push(callback);\n",
       "    if (root._bokeh_is_loading > 0) {\n",
       "      console.log(\"Bokeh: BokehJS is being loaded, scheduling callback at\", now());\n",
       "      return null;\n",
       "    }\n",
       "    if (js_urls == null || js_urls.length === 0) {\n",
       "      run_callbacks();\n",
       "      return null;\n",
       "    }\n",
       "    console.log(\"Bokeh: BokehJS not loaded, scheduling load and callback at\", now());\n",
       "    root._bokeh_is_loading = js_urls.length;\n",
       "    for (var i = 0; i < js_urls.length; i++) {\n",
       "      var url = js_urls[i];\n",
       "      var s = document.createElement('script');\n",
       "      s.src = url;\n",
       "      s.async = false;\n",
       "      s.onreadystatechange = s.onload = function() {\n",
       "        root._bokeh_is_loading--;\n",
       "        if (root._bokeh_is_loading === 0) {\n",
       "          console.log(\"Bokeh: all BokehJS libraries loaded\");\n",
       "          run_callbacks()\n",
       "        }\n",
       "      };\n",
       "      s.onerror = function() {\n",
       "        console.warn(\"failed to load library \" + url);\n",
       "      };\n",
       "      console.log(\"Bokeh: injecting script tag for BokehJS library: \", url);\n",
       "      document.getElementsByTagName(\"head\")[0].appendChild(s);\n",
       "    }\n",
       "  };var element = document.getElementById(\"e746074d-3e59-409a-b6da-ed692d97262a\");\n",
       "  if (element == null) {\n",
       "    console.log(\"Bokeh: ERROR: autoload.js configured with elementid 'e746074d-3e59-409a-b6da-ed692d97262a' but no matching script tag was found. \")\n",
       "    return false;\n",
       "  }\n",
       "\n",
       "  var js_urls = [\"https://cdn.pydata.org/bokeh/release/bokeh-0.12.13.min.js\", \"https://cdn.pydata.org/bokeh/release/bokeh-widgets-0.12.13.min.js\", \"https://cdn.pydata.org/bokeh/release/bokeh-tables-0.12.13.min.js\", \"https://cdn.pydata.org/bokeh/release/bokeh-gl-0.12.13.min.js\"];\n",
       "\n",
       "  var inline_js = [\n",
       "    function(Bokeh) {\n",
       "      Bokeh.set_log_level(\"info\");\n",
       "    },\n",
       "    \n",
       "    function(Bokeh) {\n",
       "      \n",
       "    },\n",
       "    function(Bokeh) {\n",
       "      console.log(\"Bokeh: injecting CSS: https://cdn.pydata.org/bokeh/release/bokeh-0.12.13.min.css\");\n",
       "      Bokeh.embed.inject_css(\"https://cdn.pydata.org/bokeh/release/bokeh-0.12.13.min.css\");\n",
       "      console.log(\"Bokeh: injecting CSS: https://cdn.pydata.org/bokeh/release/bokeh-widgets-0.12.13.min.css\");\n",
       "      Bokeh.embed.inject_css(\"https://cdn.pydata.org/bokeh/release/bokeh-widgets-0.12.13.min.css\");\n",
       "      console.log(\"Bokeh: injecting CSS: https://cdn.pydata.org/bokeh/release/bokeh-tables-0.12.13.min.css\");\n",
       "      Bokeh.embed.inject_css(\"https://cdn.pydata.org/bokeh/release/bokeh-tables-0.12.13.min.css\");\n",
       "    }\n",
       "  ];\n",
       "\n",
       "  function run_inline_js() {\n",
       "    \n",
       "    if ((root.Bokeh !== undefined) || (force === true)) {\n",
       "      for (var i = 0; i < inline_js.length; i++) {\n",
       "        inline_js[i].call(root, root.Bokeh);\n",
       "      }if (force === true) {\n",
       "        display_loaded();\n",
       "      }} else if (Date.now() < root._bokeh_timeout) {\n",
       "      setTimeout(run_inline_js, 100);\n",
       "    } else if (!root._bokeh_failed_load) {\n",
       "      console.log(\"Bokeh: BokehJS failed to load within specified timeout.\");\n",
       "      root._bokeh_failed_load = true;\n",
       "    } else if (force !== true) {\n",
       "      var cell = $(document.getElementById(\"e746074d-3e59-409a-b6da-ed692d97262a\")).parents('.cell').data().cell;\n",
       "      cell.output_area.append_execute_result(NB_LOAD_WARNING)\n",
       "    }\n",
       "\n",
       "  }\n",
       "\n",
       "  if (root._bokeh_is_loading === 0) {\n",
       "    console.log(\"Bokeh: BokehJS loaded, going straight to plotting\");\n",
       "    run_inline_js();\n",
       "  } else {\n",
       "    load_libs(js_urls, function() {\n",
       "      console.log(\"Bokeh: BokehJS plotting callback run at\", now());\n",
       "      run_inline_js();\n",
       "    });\n",
       "  }\n",
       "}(window));"
      ],
      "application/vnd.bokehjs_load.v0+json": "\n(function(root) {\n  function now() {\n    return new Date();\n  }\n\n  var force = true;\n\n  if (typeof (root._bokeh_onload_callbacks) === \"undefined\" || force === true) {\n    root._bokeh_onload_callbacks = [];\n    root._bokeh_is_loading = undefined;\n  }\n\n  \n\n  \n  if (typeof (root._bokeh_timeout) === \"undefined\" || force === true) {\n    root._bokeh_timeout = Date.now() + 5000;\n    root._bokeh_failed_load = false;\n  }\n\n  var NB_LOAD_WARNING = {'data': {'text/html':\n     \"<div style='background-color: #fdd'>\\n\"+\n     \"<p>\\n\"+\n     \"BokehJS does not appear to have successfully loaded. If loading BokehJS from CDN, this \\n\"+\n     \"may be due to a slow or bad network connection. Possible fixes:\\n\"+\n     \"</p>\\n\"+\n     \"<ul>\\n\"+\n     \"<li>re-rerun `output_notebook()` to attempt to load from CDN again, or</li>\\n\"+\n     \"<li>use INLINE resources instead, as so:</li>\\n\"+\n     \"</ul>\\n\"+\n     \"<code>\\n\"+\n     \"from bokeh.resources import INLINE\\n\"+\n     \"output_notebook(resources=INLINE)\\n\"+\n     \"</code>\\n\"+\n     \"</div>\"}};\n\n  function display_loaded() {\n    var el = document.getElementById(\"e746074d-3e59-409a-b6da-ed692d97262a\");\n    if (el != null) {\n      el.textContent = \"BokehJS is loading...\";\n    }\n    if (root.Bokeh !== undefined) {\n      if (el != null) {\n        el.textContent = \"BokehJS \" + root.Bokeh.version + \" successfully loaded.\";\n      }\n    } else if (Date.now() < root._bokeh_timeout) {\n      setTimeout(display_loaded, 100)\n    }\n  }\n\n\n  function run_callbacks() {\n    try {\n      root._bokeh_onload_callbacks.forEach(function(callback) { callback() });\n    }\n    finally {\n      delete root._bokeh_onload_callbacks\n    }\n    console.info(\"Bokeh: all callbacks have finished\");\n  }\n\n  function load_libs(js_urls, callback) {\n    root._bokeh_onload_callbacks.push(callback);\n    if (root._bokeh_is_loading > 0) {\n      console.log(\"Bokeh: BokehJS is being loaded, scheduling callback at\", now());\n      return null;\n    }\n    if (js_urls == null || js_urls.length === 0) {\n      run_callbacks();\n      return null;\n    }\n    console.log(\"Bokeh: BokehJS not loaded, scheduling load and callback at\", now());\n    root._bokeh_is_loading = js_urls.length;\n    for (var i = 0; i < js_urls.length; i++) {\n      var url = js_urls[i];\n      var s = document.createElement('script');\n      s.src = url;\n      s.async = false;\n      s.onreadystatechange = s.onload = function() {\n        root._bokeh_is_loading--;\n        if (root._bokeh_is_loading === 0) {\n          console.log(\"Bokeh: all BokehJS libraries loaded\");\n          run_callbacks()\n        }\n      };\n      s.onerror = function() {\n        console.warn(\"failed to load library \" + url);\n      };\n      console.log(\"Bokeh: injecting script tag for BokehJS library: \", url);\n      document.getElementsByTagName(\"head\")[0].appendChild(s);\n    }\n  };var element = document.getElementById(\"e746074d-3e59-409a-b6da-ed692d97262a\");\n  if (element == null) {\n    console.log(\"Bokeh: ERROR: autoload.js configured with elementid 'e746074d-3e59-409a-b6da-ed692d97262a' but no matching script tag was found. \")\n    return false;\n  }\n\n  var js_urls = [\"https://cdn.pydata.org/bokeh/release/bokeh-0.12.13.min.js\", \"https://cdn.pydata.org/bokeh/release/bokeh-widgets-0.12.13.min.js\", \"https://cdn.pydata.org/bokeh/release/bokeh-tables-0.12.13.min.js\", \"https://cdn.pydata.org/bokeh/release/bokeh-gl-0.12.13.min.js\"];\n\n  var inline_js = [\n    function(Bokeh) {\n      Bokeh.set_log_level(\"info\");\n    },\n    \n    function(Bokeh) {\n      \n    },\n    function(Bokeh) {\n      console.log(\"Bokeh: injecting CSS: https://cdn.pydata.org/bokeh/release/bokeh-0.12.13.min.css\");\n      Bokeh.embed.inject_css(\"https://cdn.pydata.org/bokeh/release/bokeh-0.12.13.min.css\");\n      console.log(\"Bokeh: injecting CSS: https://cdn.pydata.org/bokeh/release/bokeh-widgets-0.12.13.min.css\");\n      Bokeh.embed.inject_css(\"https://cdn.pydata.org/bokeh/release/bokeh-widgets-0.12.13.min.css\");\n      console.log(\"Bokeh: injecting CSS: https://cdn.pydata.org/bokeh/release/bokeh-tables-0.12.13.min.css\");\n      Bokeh.embed.inject_css(\"https://cdn.pydata.org/bokeh/release/bokeh-tables-0.12.13.min.css\");\n    }\n  ];\n\n  function run_inline_js() {\n    \n    if ((root.Bokeh !== undefined) || (force === true)) {\n      for (var i = 0; i < inline_js.length; i++) {\n        inline_js[i].call(root, root.Bokeh);\n      }if (force === true) {\n        display_loaded();\n      }} else if (Date.now() < root._bokeh_timeout) {\n      setTimeout(run_inline_js, 100);\n    } else if (!root._bokeh_failed_load) {\n      console.log(\"Bokeh: BokehJS failed to load within specified timeout.\");\n      root._bokeh_failed_load = true;\n    } else if (force !== true) {\n      var cell = $(document.getElementById(\"e746074d-3e59-409a-b6da-ed692d97262a\")).parents('.cell').data().cell;\n      cell.output_area.append_execute_result(NB_LOAD_WARNING)\n    }\n\n  }\n\n  if (root._bokeh_is_loading === 0) {\n    console.log(\"Bokeh: BokehJS loaded, going straight to plotting\");\n    run_inline_js();\n  } else {\n    load_libs(js_urls, function() {\n      console.log(\"Bokeh: BokehJS plotting callback run at\", now());\n      run_inline_js();\n    });\n  }\n}(window));"
     },
     "metadata": {},
     "output_type": "display_data"
    }
   ],
   "source": [
    "from py2neo import Node, Relationship, Graph\n",
    "from numpy.random import rand\n",
    "import numpy as num\n",
    "from bokeh.plotting import output_notebook,figure, show\n",
    "from bokeh.layouts import row,column,gridplot\n",
    "from bokeh.models import Label\n",
    "import numpy as np\n",
    "from curve import *\n",
    "from bokeh.models import Span,Legend\n",
    "output_notebook()"
   ]
  },
  {
   "cell_type": "code",
   "execution_count": 22,
   "metadata": {},
   "outputs": [
    {
     "data": {
      "application/javascript": [
       "IPython.OutputArea.prototype._should_scroll = function(lines) {\n",
       "    return false;\n",
       "}"
      ],
      "text/plain": [
       "<IPython.core.display.Javascript object>"
      ]
     },
     "metadata": {},
     "output_type": "display_data"
    }
   ],
   "source": [
    "%%javascript\n",
    "IPython.OutputArea.prototype._should_scroll = function(lines) {\n",
    "    return false;\n",
    "}"
   ]
  },
  {
   "cell_type": "code",
   "execution_count": 23,
   "metadata": {},
   "outputs": [],
   "source": [
    "import pickle as pk\n",
    "A = pk.load(open('local.pk','rb'))\n",
    "\n",
    "\n",
    "import random\n",
    "\n",
    "def gen_hex_colour_code():\n",
    "   return '#'+''.join([random.choice('0123456789ABCDEF') for x in range(6)])\n",
    "\n",
    "C = {}"
   ]
  },
  {
   "cell_type": "code",
   "execution_count": 24,
   "metadata": {},
   "outputs": [],
   "source": [
    "l = len(A)\n",
    "A_dic = {}\n",
    "for i in range(l):\n",
    "    tmp = A[i]\n",
    "    n1 = tmp['n1']\n",
    "    n2 = tmp['n2']\n",
    "    A_dic[n1+n2] = i"
   ]
  },
  {
   "cell_type": "code",
   "execution_count": 25,
   "metadata": {},
   "outputs": [],
   "source": [
    "def roi_rot(w):\n",
    "    p = w.split('L')\n",
    "    return 'L'+p[-1]+'L'+p[1]\n",
    "def logit(t):\n",
    "    tmp = max(1,t)\n",
    "    return min(0.0,num.log(tmp/5000.0))"
   ]
  },
  {
   "cell_type": "code",
   "execution_count": 26,
   "metadata": {},
   "outputs": [
    {
     "data": {
      "text/plain": [
       "{'0distance-0distance': {},\n",
       " '0distance-badLocal': {},\n",
       " '0distance-goodLocal': {},\n",
       " '0distance-null': {},\n",
       " 'badLocal-badLocal': {},\n",
       " 'badLocal-goodLocal': {},\n",
       " 'badLocal-null': {},\n",
       " 'goodLocal-goodLocal': {},\n",
       " 'goodLocal-null': {},\n",
       " 'null-null': {}}"
      ]
     },
     "execution_count": 26,
     "metadata": {},
     "output_type": "execute_result"
    }
   ],
   "source": [
    "tmp = ['null','0distance','goodLocal','badLocal']\n",
    "cases = {}\n",
    "for w in tmp:\n",
    "    for v in tmp:\n",
    "        z = sorted([w,v])\n",
    "        cases[z[0]+'-'+z[1]] = {}\n",
    "cases"
   ]
  },
  {
   "cell_type": "code",
   "execution_count": 7,
   "metadata": {},
   "outputs": [
    {
     "name": "stderr",
     "output_type": "stream",
     "text": [
      "/Users/kshadi3/Desktop/MANIA2/sample/curve.py:271: RuntimeWarning: invalid value encountered in double_scalars\n",
      "  ce = num.sum([xx[1] for xx in A[i]['envelope']])/len(A[i]['envelope'])\n",
      "/Users/kshadi3/Desktop/MANIA2/sample/curve.py:272: RuntimeWarning: invalid value encountered in double_scalars\n",
      "  cex = num.sum([xx[0] for xx in A[i]['envelope']])/len(A[i]['envelope'])\n",
      "/anaconda2/envs/py36/lib/python3.6/site-packages/sklearn/utils/validation.py:578: DataConversionWarning: A column-vector y was passed when a 1d array was expected. Please change the shape of y to (n_samples, ), for example using ravel().\n",
      "  y = column_or_1d(y, warn=True)\n",
      "/Users/kshadi3/Desktop/MANIA2/sample/curve.py:319: RuntimeWarning: invalid value encountered in double_scalars\n",
      "  fx = (sl[0]*r[0]+(100-r[0])*tmp)/100\n"
     ]
    }
   ],
   "source": [
    "RR = roi_regressors()\n",
    "AR = all_regressors(RR,A)"
   ]
  },
  {
   "cell_type": "code",
   "execution_count": 27,
   "metadata": {},
   "outputs": [],
   "source": [
    "noise_floor = -4.605170185988091\n",
    "def correction(AR,P):\n",
    "    S = {}\n",
    "    S['orig'] = logit(0)\n",
    "    S['corrected'] = logit(0)\n",
    "    S['n1'] = P['n1']\n",
    "    S['n2'] = P['n2']\n",
    "    # 0-dis flag\n",
    "    dis0=False\n",
    "    tmpa = num.array(P['a'])\n",
    "    tmpb = num.array(P['b'])\n",
    "    c = tmpa<1\n",
    "    if (any(tmpb[c]>noise_floor)):\n",
    "        dis0=True\n",
    "        dis0val = logit(max(tmpb[c]))\n",
    "    # is it null\n",
    "    tmp1 = logit(P['weight'])\n",
    "    if (tmp1 < noise_floor):\n",
    "        S['kind'] = 'null'\n",
    "        S['orig'] = logit(P['weight'])\n",
    "        S['corrected'] = logit(P['weight'])\n",
    "    elif (dis0):\n",
    "        S['kind'] = '0distance'\n",
    "        S['orig'] = dis0val\n",
    "        S['corrected'] = dis0val\n",
    "    elif (P['isSuccess']):\n",
    "        # good local\n",
    "        S['kind'] = 'goodLocal'\n",
    "        S['orig'] = logit(P['weight'])\n",
    "        env = P['envelope'][0]\n",
    "        mod = AR[P['n1']+P['n2']]\n",
    "        slope = mod[0]\n",
    "        corrected = env[1] - slope*env[0]\n",
    "        S['corrected'] = min(0.0,corrected)\n",
    "    else:\n",
    "        # bad local\n",
    "        S['kind'] = 'badLocal'\n",
    "        S['orig'] = logit(P['weight'])\n",
    "        try:\n",
    "            env = P['envelope'][0]\n",
    "        except:\n",
    "            env = (logit(P['weight']),P['length'])\n",
    "        mod = AR[P['n1']+P['n2']]\n",
    "        slope = mod[0]\n",
    "        corrected = env[1] - slope*env[0]\n",
    "        S['corrected'] = min(0.0,corrected)\n",
    "            \n",
    "    return S\n",
    "    # is it 0-distance\n",
    "    # is it good-local\n",
    "    # is it bad-local\n",
    "D = []\n",
    "D_dic = {}\n",
    "q = 0\n",
    "for i in range(1,181):\n",
    "    for j in range(1,181):\n",
    "        if (i==j):continue\n",
    "        n1 = 'L'+str(i)\n",
    "        n2 = 'L'+str(j)\n",
    "        ind = A_dic[n1+n2]\n",
    "        S = correction(AR,A[ind])\n",
    "        S['ind'] = ind\n",
    "        D.append(S)\n",
    "        D_dic[n1+n2] = q\n",
    "        q = q + 1"
   ]
  },
  {
   "cell_type": "code",
   "execution_count": 28,
   "metadata": {},
   "outputs": [],
   "source": [
    "nulls = len(list(filter(lambda x: x['kind']=='null',D)))\n",
    "dis0 = len(list(filter(lambda x: x['kind']=='0distance',D)))\n",
    "good = len(list(filter(lambda x: x['kind']=='goodLocal',D)))\n",
    "bad = len(list(filter(lambda x: x['kind']=='badLocal',D)))"
   ]
  },
  {
   "cell_type": "markdown",
   "metadata": {},
   "source": [
    "# All possible cases (percentage of connections)"
   ]
  },
  {
   "cell_type": "code",
   "execution_count": 29,
   "metadata": {},
   "outputs": [
    {
     "name": "stdout",
     "output_type": "stream",
     "text": [
      "Null Cases: 81.9522036002483\n",
      "0-distance Cases: 3.258845437616387\n",
      "Good Local: 11.1731843575419\n",
      "Bad Local: 3.61576660459342\n"
     ]
    }
   ],
   "source": [
    "print('Null Cases: '+str(nulls*100.0/32220))\n",
    "print('0-distance Cases: '+str(dis0*100.0/32220))\n",
    "print('Good Local: '+str(good*100.0/32220))\n",
    "print('Bad Local: '+str(bad*100.0/32220))"
   ]
  },
  {
   "cell_type": "code",
   "execution_count": 30,
   "metadata": {},
   "outputs": [
    {
     "data": {
      "text/plain": [
       "32220"
      ]
     },
     "execution_count": 30,
     "metadata": {},
     "output_type": "execute_result"
    }
   ],
   "source": [
    "q"
   ]
  },
  {
   "cell_type": "code",
   "execution_count": 44,
   "metadata": {},
   "outputs": [],
   "source": [
    "cases = {}\n",
    "for w in D:\n",
    "    k1 = w['kind']\n",
    "    n1 = w['n1']\n",
    "    n2 = w['n2']\n",
    "    ind2 = D_dic[n2+n1]\n",
    "    w2 = D[ind2]\n",
    "    k2 = w2['kind']\n",
    "    k = sorted([k1,k2])\n",
    "    k = k[0]+'-'+k[1]\n",
    "    s1 = abs(w['orig']-w2['orig'])\n",
    "    _s1 = abs(w['corrected']-w2['corrected'])\n",
    "    w['before'] = s1\n",
    "    w['after'] = _s1\n",
    "    try:\n",
    "        cases[k].append(w)\n",
    "    except:\n",
    "        cases[k] = [w]"
   ]
  },
  {
   "cell_type": "markdown",
   "metadata": {},
   "source": [
    "# All possible case pairs (percentage of connections)"
   ]
  },
  {
   "cell_type": "code",
   "execution_count": 45,
   "metadata": {},
   "outputs": [
    {
     "name": "stdout",
     "output_type": "stream",
     "text": [
      "null-null\n",
      "76.53631284916202\n",
      "-----\n",
      "goodLocal-goodLocal\n",
      "5.9031657355679705\n",
      "-----\n",
      "0distance-0distance\n",
      "3.258845437616387\n",
      "-----\n",
      "badLocal-goodLocal\n",
      "3.047796399751707\n",
      "-----\n",
      "goodLocal-null\n",
      "7.492240844196152\n",
      "-----\n",
      "badLocal-null\n",
      "3.339540657976412\n",
      "-----\n",
      "badLocal-badLocal\n",
      "0.42209807572936064\n",
      "-----\n"
     ]
    }
   ],
   "source": [
    "s = 0\n",
    "for w in cases:\n",
    "    print(w)\n",
    "    t = len(cases[w])\n",
    "    s= s + t\n",
    "    print(t*100.0/32220)\n",
    "    print('-----')"
   ]
  },
  {
   "cell_type": "markdown",
   "metadata": {},
   "source": [
    "# Asymmetry graphs before and after the correction"
   ]
  },
  {
   "cell_type": "code",
   "execution_count": 50,
   "metadata": {},
   "outputs": [
    {
     "data": {
      "text/html": [
       "\n",
       "<div class=\"bk-root\">\n",
       "    <div class=\"bk-plotdiv\" id=\"46d7a774-f4b6-46b7-b5fa-23b5617545d5\"></div>\n",
       "</div>"
      ]
     },
     "metadata": {},
     "output_type": "display_data"
    },
    {
     "data": {
      "application/javascript": [
       "(function(root) {\n",
       "  function embed_document(root) {\n",
       "    \n",
       "  var docs_json = {\"23e9672e-4bbc-4260-9580-e5c9b0afe458\":{\"roots\":{\"references\":[{\"attributes\":{\"children\":[{\"id\":\"2c928daa-b318-461d-9246-4faec6dbd7ca\",\"type\":\"Row\"}]},\"id\":\"ad31595d-b35f-4406-a709-478af11c73cb\",\"type\":\"Column\"},{\"attributes\":{\"data_source\":{\"id\":\"a43ee4e0-33a0-4a34-92e0-fb1469fee88e\",\"type\":\"ColumnDataSource\"},\"glyph\":{\"id\":\"19d63c74-0380-4274-b888-15d82313c9a8\",\"type\":\"Quad\"},\"hover_glyph\":null,\"muted_glyph\":null,\"nonselection_glyph\":{\"id\":\"eb133d63-3558-4964-972a-d85767d30d58\",\"type\":\"Quad\"},\"selection_glyph\":null,\"view\":{\"id\":\"5a1bda0b-777c-4cb6-b71e-3b36e3f39243\",\"type\":\"CDSView\"}},\"id\":\"14ebab1a-f1d5-4512-ade8-03ce4c48e0a7\",\"type\":\"GlyphRenderer\"},{\"attributes\":{},\"id\":\"7fac79fb-41ab-40a8-8f95-4a5e3a40c70d\",\"type\":\"ResetTool\"},{\"attributes\":{},\"id\":\"3244d33b-4c24-46a7-9725-0946357aae99\",\"type\":\"BasicTickFormatter\"},{\"attributes\":{\"bottom\":{\"value\":0},\"fill_color\":{\"value\":\"#036564\"},\"left\":{\"field\":\"left\"},\"line_color\":{\"value\":\"#033649\"},\"right\":{\"field\":\"right\"},\"top\":{\"field\":\"top\"}},\"id\":\"402e527f-ada6-4ca1-bbb4-cfb1ff314f52\",\"type\":\"Quad\"},{\"attributes\":{},\"id\":\"86907a98-019f-4faa-9030-ef653619192d\",\"type\":\"ResetTool\"},{\"attributes\":{\"data_source\":{\"id\":\"04f9a6c1-6dae-4891-98af-55d6c874c5f1\",\"type\":\"ColumnDataSource\"},\"glyph\":{\"id\":\"402e527f-ada6-4ca1-bbb4-cfb1ff314f52\",\"type\":\"Quad\"},\"hover_glyph\":null,\"muted_glyph\":null,\"nonselection_glyph\":{\"id\":\"191387f9-d589-479a-8340-e6e88c82e1b4\",\"type\":\"Quad\"},\"selection_glyph\":null,\"view\":{\"id\":\"f0b04169-adb5-47b0-ba5e-b948b5d528b9\",\"type\":\"CDSView\"}},\"id\":\"381b96bd-51d3-4484-aeb4-468d36efae81\",\"type\":\"GlyphRenderer\"},{\"attributes\":{},\"id\":\"b2b486c1-9b9c-4f2f-b6c9-2654cb1aed7a\",\"type\":\"HelpTool\"},{\"attributes\":{\"bottom\":{\"value\":0},\"fill_alpha\":{\"value\":0.1},\"fill_color\":{\"value\":\"#1f77b4\"},\"left\":{\"field\":\"left\"},\"line_alpha\":{\"value\":0.1},\"line_color\":{\"value\":\"#1f77b4\"},\"right\":{\"field\":\"right\"},\"top\":{\"field\":\"top\"}},\"id\":\"191387f9-d589-479a-8340-e6e88c82e1b4\",\"type\":\"Quad\"},{\"attributes\":{\"bottom\":{\"value\":0},\"fill_alpha\":{\"value\":0.1},\"fill_color\":{\"value\":\"#1f77b4\"},\"left\":{\"field\":\"left\"},\"line_alpha\":{\"value\":0.1},\"line_color\":{\"value\":\"#1f77b4\"},\"right\":{\"field\":\"right\"},\"top\":{\"field\":\"top\"}},\"id\":\"eb133d63-3558-4964-972a-d85767d30d58\",\"type\":\"Quad\"},{\"attributes\":{},\"id\":\"e17aabad-9db5-4999-8d51-7801ee988d82\",\"type\":\"WheelZoomTool\"},{\"attributes\":{},\"id\":\"9bbdc5f9-61a4-400e-9fcd-a132d0dafd3c\",\"type\":\"PanTool\"},{\"attributes\":{\"source\":{\"id\":\"04f9a6c1-6dae-4891-98af-55d6c874c5f1\",\"type\":\"ColumnDataSource\"}},\"id\":\"f0b04169-adb5-47b0-ba5e-b948b5d528b9\",\"type\":\"CDSView\"},{\"attributes\":{\"bottom_units\":\"screen\",\"fill_alpha\":{\"value\":0.5},\"fill_color\":{\"value\":\"lightgrey\"},\"left_units\":\"screen\",\"level\":\"overlay\",\"line_alpha\":{\"value\":1.0},\"line_color\":{\"value\":\"black\"},\"line_dash\":[4,4],\"line_width\":{\"value\":2},\"plot\":null,\"render_mode\":\"css\",\"right_units\":\"screen\",\"top_units\":\"screen\"},\"id\":\"3659cba2-6fa8-4fba-991f-f725ebd44328\",\"type\":\"BoxAnnotation\"},{\"attributes\":{\"callback\":null,\"column_names\":[\"left\",\"right\",\"top\"],\"data\":{\"left\":{\"__ndarray__\":\"AFIre9UMjT/058QdYL+wP6hlJIwl3b0/rvFBfXV9xT+IsHE0WAzMP7G30HWdTdE/Hpdo0Q6V1D+LdgAtgNzXP/hVmIjxI9s/ZTUw5GJr3j9pCuQfatngPyD6r80ifeI/1ul7e9sg5D+M2UcplMTlP0PJE9dMaOc/+rjfhAUM6T+wqKsyvq/qP2aYd+B2U+w/HYhDji/37T/Udw886JrvP8Wz7XRQn/A/oKvTyyxx8T98o7kiCUPyP1ebn3nlFPM/MpOF0MHm8z8Ni2snnrj0P+iCUX56ivU/xHo31VZc9j+fch0sMy73P3pqA4MPAPg/VmLp2evR+D8xWs8wyKP5PwxStYekdfo/50mb3oBH+z/CQYE1XRn8P545Z4w56/w/eTFN4xW9/T9UKTM68o7+PzAhGZHOYP8/hoz/c1UZAEBziHKfQ4IAQGGE5cox6wBAToBY9h9UAUA8fMshDr0BQCp4Pk38JQJAF3SxeOqOAkAFcCSk2PcCQPJrl8/GYANA4GcK+7TJA0DOY30mozIEQA==\",\"dtype\":\"float64\",\"shape\":[50]},\"right\":{\"__ndarray__\":\"9OfEHWC/sD+oZSSMJd29P67xQX11fcU/iLBxNFgMzD+xt9B1nU3RPx6XaNEOldQ/i3YALYDc1z/4VZiI8SPbP2U1MORia94/aQrkH2rZ4D8g+q/NIn3iP9bpe3vbIOQ/jNlHKZTE5T9DyRPXTGjnP/q434QFDOk/sKirMr6v6j9mmHfgdlPsPx2IQ44v9+0/1HcPPOia7z/Fs+10UJ/wP6Cr08sscfE/fKO5IglD8j9Xm5955RTzPzKThdDB5vM/DYtrJ5649D/oglF+eor1P8R6N9VWXPY/n3IdLDMu9z96agODDwD4P1Zi6dnr0fg/MVrPMMij+T8MUrWHpHX6P+dJm96AR/s/wkGBNV0Z/D+eOWeMOev8P3kxTeMVvf0/VCkzOvKO/j8wIRmRzmD/P4aM/3NVGQBAc4hyn0OCAEBhhOXKMesAQE6AWPYfVAFAPHzLIQ69AUAqeD5N/CUCQBd0sXjqjgJABXAkpNj3AkDya5fPxmADQOBnCvu0yQNAzmN9JqMyBEC7X/BRkZsEQA==\",\"dtype\":\"float64\",\"shape\":[50]},\"top\":{\"__ndarray__\":\"gz3Xc2eo9z9pZN+PH+3iP2lk348f7fI/gz3Xc2eo9z9pZN+PH+3yP54Wz1evY+w/nhbPV69j7D9pZN+PH+3iP2lk348f7dI/aWTfjx/t0j+VFs9Xr2PsP29k348f7dI/AAAAAAAAAABjZN+PH+3SP2Nk348f7dI/b2Tfjx/t4j9vZN+PH+3yPwAAAAAAAAAAY2Tfjx/t4j9vZN+PH+3SP6cWz1evY+w/AAAAAAAAAABvZN+PH+3SP29k348f7eI/AAAAAAAAAAAAAAAAAAAAAFhk348f7eI/pxbPV69j7D8AAAAAAAAAAAAAAAAAAAAAAAAAAAAAAABvZN+PH+3SPwAAAAAAAAAAAAAAAAAAAABYZN+PH+3SP29k348f7dI/b2Tfjx/t0j8AAAAAAAAAAAAAAAAAAAAAhmTfjx/t0j8AAAAAAAAAAAAAAAAAAAAAWGTfjx/t0j9YZN+PH+3SPwAAAAAAAAAAWGTfjx/t0j8AAAAAAAAAAAAAAAAAAAAAWGTfjx/t0j+GZN+PH+3SPw==\",\"dtype\":\"float64\",\"shape\":[50]}}},\"id\":\"a43ee4e0-33a0-4a34-92e0-fb1469fee88e\",\"type\":\"ColumnDataSource\"},{\"attributes\":{\"callback\":null,\"column_names\":[\"left\",\"right\",\"top\"],\"data\":{\"left\":{\"__ndarray__\":\"QOAqgufhrj9T8TtrFp66P0M5sYqc5cI/3HnE3y18yD92utc0vxLOP4h99USo1NE/1B1/7/Cf1D8hvgiaOWvXP25ekkSCNto/u/4b78oB3T8In6WZE83fP6qfFyIuTOE/0G9cd9Kx4j/3P6HMdhfkPx0Q5iEbfeU/ROAqd7/i5j9qsG/MY0joP5CAtCEIruk/t1D5dqwT6z/dID7MUHnsPwTxgiH13u0/KsHHdplE7z+oSAbmHlXwP7uwqBDxB/E/zhhLO8O68T/igO1llW3yP/Xoj5BnIPM/CFEyuznT8z8budTlC4b0Py4hdxDeOPU/QokZO7Dr9T9V8btlgp72P2hZXpBUUfc/e8EAuyYE+D+OKaPl+Lb4P6KRRRDLafk/tfnnOp0c+j/IYYplb8/6P9vJLJBBgvs/7jHPuhM1/D8CmnHl5ef8PxUCFBC4mv0/KGq2OopN/j870lhlXAD/P046+48us/8/MNFOXQAzAEA6BaByaYwAQEQ58YfS5QBATW1CnTs/AUBXoZOypJgBQA==\",\"dtype\":\"float64\",\"shape\":[50]},\"right\":{\"__ndarray__\":\"U/E7axaeuj9DObGKnOXCP9x5xN8tfMg/drrXNL8Szj+IffVEqNTRP9Qdf+/wn9Q/Ib4Imjlr1z9uXpJEgjbaP7v+G+/KAd0/CJ+lmRPN3z+qnxciLkzhP9BvXHfSseI/9z+hzHYX5D8dEOYhG33lP0TgKne/4uY/arBvzGNI6D+QgLQhCK7pP7dQ+XasE+s/3SA+zFB57D8E8YIh9d7tPyrBx3aZRO8/qEgG5h5V8D+7sKgQ8QfxP84YSzvDuvE/4oDtZZVt8j/16I+QZyDzPwhRMrs50/M/G7nU5QuG9D8uIXcQ3jj1P0KJGTuw6/U/VfG7ZYKe9j9oWV6QVFH3P3vBALsmBPg/jimj5fi2+D+ikUUQy2n5P7X55zqdHPo/yGGKZW/P+j/bySyQQYL7P+4xz7oTNfw/Appx5eXn/D8VAhQQuJr9PyhqtjqKTf4/O9JYZVwA/z9OOvuPLrP/PzDRTl0AMwBAOgWgcmmMAEBEOfGH0uUAQE1tQp07PwFAV6GTsqSYAUBh1eTHDfIBQA==\",\"dtype\":\"float64\",\"shape\":[50]},\"top\":{\"__ndarray__\":\"cRhx67kl6z9xGHHruSXrPwAAAAAAAAAAbhhx67kl6z8AAAAAAAAAAAAAAAAAAAAAU9KUcEtcBEBuGHHruSXrPwAAAAAAAAAAbhhx67kl+z94GHHruSXrP3gYceu5Jfs/ZRhx67kl+z8AAAAAAAAAAGUYceu5Jes/AAAAAAAAAAAAAAAAAAAAAAAAAAAAAAAAAAAAAAAAAABlGHHruSXrP3gYceu5Jes/eBhx67kl6z8AAAAAAAAAAHgYceu5Jes/URhx67kl6z8AAAAAAAAAAAAAAAAAAAAAeBhx67kl6z8AAAAAAAAAAAAAAAAAAAAAeBhx67kl6z8AAAAAAAAAAAAAAAAAAAAAAAAAAAAAAAAAAAAAAAAAAAAAAAAAAAAAeBhx67kl6z8AAAAAAAAAAAAAAAAAAAAAAAAAAAAAAAB4GHHruSX7PwAAAAAAAAAAAAAAAAAAAAAAAAAAAAAAAAAAAAAAAAAAURhx67kl6z8AAAAAAAAAAAAAAAAAAAAAAAAAAAAAAABRGHHruSXrPw==\",\"dtype\":\"float64\",\"shape\":[50]}}},\"id\":\"04f9a6c1-6dae-4891-98af-55d6c874c5f1\",\"type\":\"ColumnDataSource\"},{\"attributes\":{\"bottom_units\":\"screen\",\"fill_alpha\":{\"value\":0.5},\"fill_color\":{\"value\":\"lightgrey\"},\"left_units\":\"screen\",\"level\":\"overlay\",\"line_alpha\":{\"value\":1.0},\"line_color\":{\"value\":\"black\"},\"line_dash\":[4,4],\"line_width\":{\"value\":2},\"plot\":null,\"render_mode\":\"css\",\"right_units\":\"screen\",\"top_units\":\"screen\"},\"id\":\"4e91577d-9efd-4fe3-abc6-b4f8ea2fe42a\",\"type\":\"BoxAnnotation\"},{\"attributes\":{},\"id\":\"5b6577f6-0eca-4f81-96a4-9977e5fcf60c\",\"type\":\"PanTool\"},{\"attributes\":{},\"id\":\"13d98396-e812-4838-8561-16358d32c608\",\"type\":\"WheelZoomTool\"},{\"attributes\":{\"callback\":null},\"id\":\"ab8d65b9-0d85-49e2-bb9e-378d4782b616\",\"type\":\"DataRange1d\"},{\"attributes\":{\"plot\":null,\"text\":\"Asummetry in badLocal-badLocal :No Correction\"},\"id\":\"768c6870-16b4-4eb0-9687-a7aba9777924\",\"type\":\"Title\"},{\"attributes\":{},\"id\":\"be1f8083-79eb-4f1e-a961-5442fc075fcd\",\"type\":\"HelpTool\"},{\"attributes\":{},\"id\":\"09090ada-80a4-42a6-b582-a7d949c5e191\",\"type\":\"LinearScale\"},{\"attributes\":{},\"id\":\"06635968-59df-40b1-b8cd-ce0f041e7dee\",\"type\":\"SaveTool\"},{\"attributes\":{},\"id\":\"e9f7f7cd-1bd4-45d9-ad4d-1ebb82883148\",\"type\":\"BasicTicker\"},{\"attributes\":{},\"id\":\"2a245f73-d873-4760-bc68-059bc2c1137a\",\"type\":\"BasicTickFormatter\"},{\"attributes\":{\"axis_label\":\"Difference(abs)\",\"formatter\":{\"id\":\"cddadb46-64ee-4b1e-825d-c1ba52bfe4d9\",\"type\":\"BasicTickFormatter\"},\"plot\":{\"id\":\"15f9c96e-38aa-4128-9662-89fe2feb6527\",\"subtype\":\"Figure\",\"type\":\"Plot\"},\"ticker\":{\"id\":\"b4787cf8-5ffb-420c-acdd-d86cabd7528a\",\"type\":\"BasicTicker\"}},\"id\":\"414b9348-51ce-4195-89a2-9a589e65e1e3\",\"type\":\"LinearAxis\"},{\"attributes\":{\"overlay\":{\"id\":\"3659cba2-6fa8-4fba-991f-f725ebd44328\",\"type\":\"BoxAnnotation\"}},\"id\":\"663c979a-77a8-4ded-aa8d-3cd94ec43af9\",\"type\":\"BoxZoomTool\"},{\"attributes\":{\"dimension\":1,\"plot\":{\"id\":\"15f9c96e-38aa-4128-9662-89fe2feb6527\",\"subtype\":\"Figure\",\"type\":\"Plot\"},\"ticker\":{\"id\":\"e9f7f7cd-1bd4-45d9-ad4d-1ebb82883148\",\"type\":\"BasicTicker\"}},\"id\":\"e3aac628-ec67-4bd6-96e3-cd25b5ad3d01\",\"type\":\"Grid\"},{\"attributes\":{\"axis_label\":\"Distribution\",\"formatter\":{\"id\":\"3244d33b-4c24-46a7-9725-0946357aae99\",\"type\":\"BasicTickFormatter\"},\"plot\":{\"id\":\"15f9c96e-38aa-4128-9662-89fe2feb6527\",\"subtype\":\"Figure\",\"type\":\"Plot\"},\"ticker\":{\"id\":\"e9f7f7cd-1bd4-45d9-ad4d-1ebb82883148\",\"type\":\"BasicTicker\"}},\"id\":\"e5ed8bb3-47e0-449e-aafb-920583fc0122\",\"type\":\"LinearAxis\"},{\"attributes\":{\"plot\":{\"id\":\"23da5f66-e8cb-458e-9349-694da6383eff\",\"subtype\":\"Figure\",\"type\":\"Plot\"},\"ticker\":{\"id\":\"490197d7-a9e1-4ae8-810b-373cea9b1930\",\"type\":\"BasicTicker\"}},\"id\":\"ccfa6b84-f0a2-4936-946a-294957df6d58\",\"type\":\"Grid\"},{\"attributes\":{},\"id\":\"a993472c-6312-4c26-ae30-cddc8a07108c\",\"type\":\"LinearScale\"},{\"attributes\":{\"axis_label\":\"Difference(abs)\",\"formatter\":{\"id\":\"2a245f73-d873-4760-bc68-059bc2c1137a\",\"type\":\"BasicTickFormatter\"},\"plot\":{\"id\":\"23da5f66-e8cb-458e-9349-694da6383eff\",\"subtype\":\"Figure\",\"type\":\"Plot\"},\"ticker\":{\"id\":\"490197d7-a9e1-4ae8-810b-373cea9b1930\",\"type\":\"BasicTicker\"}},\"id\":\"91dd83f7-3fbb-4ba5-bebe-6ac1a40eafcb\",\"type\":\"LinearAxis\"},{\"attributes\":{\"dimension\":1,\"plot\":{\"id\":\"23da5f66-e8cb-458e-9349-694da6383eff\",\"subtype\":\"Figure\",\"type\":\"Plot\"},\"ticker\":{\"id\":\"ae7da2cd-9b20-4480-920f-703848971844\",\"type\":\"BasicTicker\"}},\"id\":\"70c3a5d8-4833-4f4f-b8ae-de298d6aaab4\",\"type\":\"Grid\"},{\"attributes\":{\"overlay\":{\"id\":\"4e91577d-9efd-4fe3-abc6-b4f8ea2fe42a\",\"type\":\"BoxAnnotation\"}},\"id\":\"616d07e2-5c62-4788-813c-d78f82a3fb1e\",\"type\":\"BoxZoomTool\"},{\"attributes\":{},\"id\":\"0216d8ba-0dd1-4c6b-883e-f924a3fcd002\",\"type\":\"LinearScale\"},{\"attributes\":{\"callback\":null},\"id\":\"c0057a7f-3660-4672-9790-8c66cb06516f\",\"type\":\"DataRange1d\"},{\"attributes\":{},\"id\":\"ae7da2cd-9b20-4480-920f-703848971844\",\"type\":\"BasicTicker\"},{\"attributes\":{\"children\":[{\"id\":\"8602ff2f-c197-432a-b33c-d3d9f2df6e1d\",\"type\":\"ToolbarBox\"},{\"id\":\"ad31595d-b35f-4406-a709-478af11c73cb\",\"type\":\"Column\"}]},\"id\":\"091a83a7-985e-44fa-b5b7-5b55560e3ca8\",\"type\":\"Column\"},{\"attributes\":{},\"id\":\"b4787cf8-5ffb-420c-acdd-d86cabd7528a\",\"type\":\"BasicTicker\"},{\"attributes\":{\"callback\":null},\"id\":\"fe9f0145-b99e-4b2d-bae1-8103145ad01a\",\"type\":\"DataRange1d\"},{\"attributes\":{\"plot\":{\"id\":\"15f9c96e-38aa-4128-9662-89fe2feb6527\",\"subtype\":\"Figure\",\"type\":\"Plot\"},\"ticker\":{\"id\":\"b4787cf8-5ffb-420c-acdd-d86cabd7528a\",\"type\":\"BasicTicker\"}},\"id\":\"dcdc17f2-cf6d-4bac-ab76-90a37c99216b\",\"type\":\"Grid\"},{\"attributes\":{\"callback\":null},\"id\":\"3ece5582-9191-42fe-bb39-cd8ad3da879a\",\"type\":\"DataRange1d\"},{\"attributes\":{\"active_drag\":\"auto\",\"active_inspect\":\"auto\",\"active_scroll\":\"auto\",\"active_tap\":\"auto\",\"tools\":[{\"id\":\"5b6577f6-0eca-4f81-96a4-9977e5fcf60c\",\"type\":\"PanTool\"},{\"id\":\"e17aabad-9db5-4999-8d51-7801ee988d82\",\"type\":\"WheelZoomTool\"},{\"id\":\"616d07e2-5c62-4788-813c-d78f82a3fb1e\",\"type\":\"BoxZoomTool\"},{\"id\":\"3ca5bd71-d150-46dd-98f0-70febda9d38e\",\"type\":\"SaveTool\"},{\"id\":\"86907a98-019f-4faa-9030-ef653619192d\",\"type\":\"ResetTool\"},{\"id\":\"b2b486c1-9b9c-4f2f-b6c9-2654cb1aed7a\",\"type\":\"HelpTool\"}]},\"id\":\"bc2e7632-30e2-4c4c-a698-b1aa691718af\",\"type\":\"Toolbar\"},{\"attributes\":{\"plot\":null,\"text\":\"Asummetry in badLocal-badLocal :with Correction\"},\"id\":\"ac54f2c5-7f28-4ab2-8db5-c5bfa2344afb\",\"type\":\"Title\"},{\"attributes\":{\"toolbar\":{\"id\":\"e8daf98b-6485-458b-8f83-2f7c6d70138b\",\"type\":\"ProxyToolbar\"},\"toolbar_location\":\"above\"},\"id\":\"8602ff2f-c197-432a-b33c-d3d9f2df6e1d\",\"type\":\"ToolbarBox\"},{\"attributes\":{},\"id\":\"cddadb46-64ee-4b1e-825d-c1ba52bfe4d9\",\"type\":\"BasicTickFormatter\"},{\"attributes\":{\"children\":[{\"id\":\"15f9c96e-38aa-4128-9662-89fe2feb6527\",\"subtype\":\"Figure\",\"type\":\"Plot\"},{\"id\":\"23da5f66-e8cb-458e-9349-694da6383eff\",\"subtype\":\"Figure\",\"type\":\"Plot\"}]},\"id\":\"2c928daa-b318-461d-9246-4faec6dbd7ca\",\"type\":\"Row\"},{\"attributes\":{},\"id\":\"490197d7-a9e1-4ae8-810b-373cea9b1930\",\"type\":\"BasicTicker\"},{\"attributes\":{\"bottom\":{\"value\":0},\"fill_color\":{\"value\":\"#036564\"},\"left\":{\"field\":\"left\"},\"line_color\":{\"value\":\"#033649\"},\"right\":{\"field\":\"right\"},\"top\":{\"field\":\"top\"}},\"id\":\"19d63c74-0380-4274-b888-15d82313c9a8\",\"type\":\"Quad\"},{\"attributes\":{},\"id\":\"ad88bda9-9b68-436c-9dd7-d9a32cc9af35\",\"type\":\"BasicTickFormatter\"},{\"attributes\":{\"below\":[{\"id\":\"91dd83f7-3fbb-4ba5-bebe-6ac1a40eafcb\",\"type\":\"LinearAxis\"}],\"left\":[{\"id\":\"b4e692aa-173c-4cbe-9a37-6a79e6fc40ab\",\"type\":\"LinearAxis\"}],\"plot_height\":400,\"plot_width\":400,\"renderers\":[{\"id\":\"91dd83f7-3fbb-4ba5-bebe-6ac1a40eafcb\",\"type\":\"LinearAxis\"},{\"id\":\"ccfa6b84-f0a2-4936-946a-294957df6d58\",\"type\":\"Grid\"},{\"id\":\"b4e692aa-173c-4cbe-9a37-6a79e6fc40ab\",\"type\":\"LinearAxis\"},{\"id\":\"70c3a5d8-4833-4f4f-b8ae-de298d6aaab4\",\"type\":\"Grid\"},{\"id\":\"3659cba2-6fa8-4fba-991f-f725ebd44328\",\"type\":\"BoxAnnotation\"},{\"id\":\"381b96bd-51d3-4484-aeb4-468d36efae81\",\"type\":\"GlyphRenderer\"}],\"title\":{\"id\":\"ac54f2c5-7f28-4ab2-8db5-c5bfa2344afb\",\"type\":\"Title\"},\"toolbar\":{\"id\":\"5595e284-77e0-4945-9064-82e0c874d4ad\",\"type\":\"Toolbar\"},\"toolbar_location\":null,\"x_range\":{\"id\":\"3ece5582-9191-42fe-bb39-cd8ad3da879a\",\"type\":\"DataRange1d\"},\"x_scale\":{\"id\":\"0216d8ba-0dd1-4c6b-883e-f924a3fcd002\",\"type\":\"LinearScale\"},\"y_range\":{\"id\":\"fe9f0145-b99e-4b2d-bae1-8103145ad01a\",\"type\":\"DataRange1d\"},\"y_scale\":{\"id\":\"8562cb35-3a67-44b3-8143-00a850657a10\",\"type\":\"LinearScale\"}},\"id\":\"23da5f66-e8cb-458e-9349-694da6383eff\",\"subtype\":\"Figure\",\"type\":\"Plot\"},{\"attributes\":{},\"id\":\"8562cb35-3a67-44b3-8143-00a850657a10\",\"type\":\"LinearScale\"},{\"attributes\":{\"active_drag\":\"auto\",\"active_inspect\":\"auto\",\"active_scroll\":\"auto\",\"active_tap\":\"auto\",\"tools\":[{\"id\":\"9bbdc5f9-61a4-400e-9fcd-a132d0dafd3c\",\"type\":\"PanTool\"},{\"id\":\"13d98396-e812-4838-8561-16358d32c608\",\"type\":\"WheelZoomTool\"},{\"id\":\"663c979a-77a8-4ded-aa8d-3cd94ec43af9\",\"type\":\"BoxZoomTool\"},{\"id\":\"06635968-59df-40b1-b8cd-ce0f041e7dee\",\"type\":\"SaveTool\"},{\"id\":\"7fac79fb-41ab-40a8-8f95-4a5e3a40c70d\",\"type\":\"ResetTool\"},{\"id\":\"be1f8083-79eb-4f1e-a961-5442fc075fcd\",\"type\":\"HelpTool\"}]},\"id\":\"5595e284-77e0-4945-9064-82e0c874d4ad\",\"type\":\"Toolbar\"},{\"attributes\":{\"axis_label\":\"Distribution\",\"formatter\":{\"id\":\"ad88bda9-9b68-436c-9dd7-d9a32cc9af35\",\"type\":\"BasicTickFormatter\"},\"plot\":{\"id\":\"23da5f66-e8cb-458e-9349-694da6383eff\",\"subtype\":\"Figure\",\"type\":\"Plot\"},\"ticker\":{\"id\":\"ae7da2cd-9b20-4480-920f-703848971844\",\"type\":\"BasicTicker\"}},\"id\":\"b4e692aa-173c-4cbe-9a37-6a79e6fc40ab\",\"type\":\"LinearAxis\"},{\"attributes\":{\"tools\":[{\"id\":\"5b6577f6-0eca-4f81-96a4-9977e5fcf60c\",\"type\":\"PanTool\"},{\"id\":\"e17aabad-9db5-4999-8d51-7801ee988d82\",\"type\":\"WheelZoomTool\"},{\"id\":\"616d07e2-5c62-4788-813c-d78f82a3fb1e\",\"type\":\"BoxZoomTool\"},{\"id\":\"3ca5bd71-d150-46dd-98f0-70febda9d38e\",\"type\":\"SaveTool\"},{\"id\":\"86907a98-019f-4faa-9030-ef653619192d\",\"type\":\"ResetTool\"},{\"id\":\"b2b486c1-9b9c-4f2f-b6c9-2654cb1aed7a\",\"type\":\"HelpTool\"},{\"id\":\"9bbdc5f9-61a4-400e-9fcd-a132d0dafd3c\",\"type\":\"PanTool\"},{\"id\":\"13d98396-e812-4838-8561-16358d32c608\",\"type\":\"WheelZoomTool\"},{\"id\":\"663c979a-77a8-4ded-aa8d-3cd94ec43af9\",\"type\":\"BoxZoomTool\"},{\"id\":\"06635968-59df-40b1-b8cd-ce0f041e7dee\",\"type\":\"SaveTool\"},{\"id\":\"7fac79fb-41ab-40a8-8f95-4a5e3a40c70d\",\"type\":\"ResetTool\"},{\"id\":\"be1f8083-79eb-4f1e-a961-5442fc075fcd\",\"type\":\"HelpTool\"}]},\"id\":\"e8daf98b-6485-458b-8f83-2f7c6d70138b\",\"type\":\"ProxyToolbar\"},{\"attributes\":{\"source\":{\"id\":\"a43ee4e0-33a0-4a34-92e0-fb1469fee88e\",\"type\":\"ColumnDataSource\"}},\"id\":\"5a1bda0b-777c-4cb6-b71e-3b36e3f39243\",\"type\":\"CDSView\"},{\"attributes\":{\"below\":[{\"id\":\"414b9348-51ce-4195-89a2-9a589e65e1e3\",\"type\":\"LinearAxis\"}],\"left\":[{\"id\":\"e5ed8bb3-47e0-449e-aafb-920583fc0122\",\"type\":\"LinearAxis\"}],\"plot_height\":400,\"plot_width\":400,\"renderers\":[{\"id\":\"414b9348-51ce-4195-89a2-9a589e65e1e3\",\"type\":\"LinearAxis\"},{\"id\":\"dcdc17f2-cf6d-4bac-ab76-90a37c99216b\",\"type\":\"Grid\"},{\"id\":\"e5ed8bb3-47e0-449e-aafb-920583fc0122\",\"type\":\"LinearAxis\"},{\"id\":\"e3aac628-ec67-4bd6-96e3-cd25b5ad3d01\",\"type\":\"Grid\"},{\"id\":\"4e91577d-9efd-4fe3-abc6-b4f8ea2fe42a\",\"type\":\"BoxAnnotation\"},{\"id\":\"14ebab1a-f1d5-4512-ade8-03ce4c48e0a7\",\"type\":\"GlyphRenderer\"}],\"title\":{\"id\":\"768c6870-16b4-4eb0-9687-a7aba9777924\",\"type\":\"Title\"},\"toolbar\":{\"id\":\"bc2e7632-30e2-4c4c-a698-b1aa691718af\",\"type\":\"Toolbar\"},\"toolbar_location\":null,\"x_range\":{\"id\":\"c0057a7f-3660-4672-9790-8c66cb06516f\",\"type\":\"DataRange1d\"},\"x_scale\":{\"id\":\"a993472c-6312-4c26-ae30-cddc8a07108c\",\"type\":\"LinearScale\"},\"y_range\":{\"id\":\"ab8d65b9-0d85-49e2-bb9e-378d4782b616\",\"type\":\"DataRange1d\"},\"y_scale\":{\"id\":\"09090ada-80a4-42a6-b582-a7d949c5e191\",\"type\":\"LinearScale\"}},\"id\":\"15f9c96e-38aa-4128-9662-89fe2feb6527\",\"subtype\":\"Figure\",\"type\":\"Plot\"},{\"attributes\":{},\"id\":\"3ca5bd71-d150-46dd-98f0-70febda9d38e\",\"type\":\"SaveTool\"}],\"root_ids\":[\"091a83a7-985e-44fa-b5b7-5b55560e3ca8\"]},\"title\":\"Bokeh Application\",\"version\":\"0.12.13\"}};\n",
       "  var render_items = [{\"docid\":\"23e9672e-4bbc-4260-9580-e5c9b0afe458\",\"elementid\":\"46d7a774-f4b6-46b7-b5fa-23b5617545d5\",\"modelid\":\"091a83a7-985e-44fa-b5b7-5b55560e3ca8\"}];\n",
       "  root.Bokeh.embed.embed_items_notebook(docs_json, render_items);\n",
       "\n",
       "  }\n",
       "  if (root.Bokeh !== undefined) {\n",
       "    embed_document(root);\n",
       "  } else {\n",
       "    var attempts = 0;\n",
       "    var timer = setInterval(function(root) {\n",
       "      if (root.Bokeh !== undefined) {\n",
       "        embed_document(root);\n",
       "        clearInterval(timer);\n",
       "      }\n",
       "      attempts++;\n",
       "      if (attempts > 100) {\n",
       "        console.log(\"Bokeh: ERROR: Unable to run BokehJS code because BokehJS library is missing\")\n",
       "        clearInterval(timer);\n",
       "      }\n",
       "    }, 10, root)\n",
       "  }\n",
       "})(window);"
      ],
      "application/vnd.bokehjs_exec.v0+json": ""
     },
     "metadata": {
      "application/vnd.bokehjs_exec.v0+json": {
       "id": "091a83a7-985e-44fa-b5b7-5b55560e3ca8"
      }
     },
     "output_type": "display_data"
    }
   ],
   "source": [
    "t = 'badLocal-badLocal'\n",
    "w = cases[t]\n",
    "mp = list(map(lambda x:x['before'],w))\n",
    "p = figure(plot_width=400, plot_height=400,title = 'Asummetry in '+t + ' :No Correction',y_axis_label = \"Distribution\",x_axis_label = \"Difference(abs)\")\n",
    "q1,q2 = np.percentile(mp,[0,100])\n",
    "measured = [xx for xx in mp if (xx>q1 and xx<q2)]\n",
    "hist, edges = np.histogram(measured, density=True, bins=50)\n",
    "p.quad(top=hist, bottom=0, left=edges[:-1], right=edges[1:],fill_color=\"#036564\", line_color=\"#033649\")\n",
    "\n",
    "mp = list(map(lambda x:x['after'],w))\n",
    "p1 = figure(plot_width=400, plot_height=400,title = 'Asummetry in '+t + ' :with Correction',y_axis_label = \"Distribution\",x_axis_label = \"Difference(abs)\")\n",
    "q1,q2 = np.percentile(mp,[0,100])\n",
    "measured = [xx for xx in mp if (xx>q1 and xx<q2)]\n",
    "hist, edges = np.histogram(measured, density=True, bins=50)\n",
    "p1.quad(top=hist, bottom=0, left=edges[:-1], right=edges[1:],fill_color=\"#036564\", line_color=\"#033649\")\n",
    "grid = gridplot([[p, p1]])\n",
    "show (grid)"
   ]
  },
  {
   "cell_type": "code",
   "execution_count": 61,
   "metadata": {},
   "outputs": [
    {
     "data": {
      "text/html": [
       "\n",
       "<div class=\"bk-root\">\n",
       "    <div class=\"bk-plotdiv\" id=\"53da64bc-d130-4285-a4f1-f86a22a1a725\"></div>\n",
       "</div>"
      ]
     },
     "metadata": {},
     "output_type": "display_data"
    },
    {
     "data": {
      "application/javascript": [
       "(function(root) {\n",
       "  function embed_document(root) {\n",
       "    \n",
       "  var docs_json = {\"91c1ff6d-81e0-4420-9617-fd1b84fe5502\":{\"roots\":{\"references\":[{\"attributes\":{\"plot\":{\"id\":\"85fb5edc-a9c1-4e9f-a124-bee73126679f\",\"subtype\":\"Figure\",\"type\":\"Plot\"},\"ticker\":{\"id\":\"47b40f27-8719-4122-886c-9fea8c570358\",\"type\":\"BasicTicker\"}},\"id\":\"8f4952c7-8782-4f78-a816-279fb651f42d\",\"type\":\"Grid\"},{\"attributes\":{\"source\":{\"id\":\"8ec31020-bd09-469a-b506-5afa5e3813f0\",\"type\":\"ColumnDataSource\"}},\"id\":\"c5498184-35ad-4b8a-a0e0-97e87597535e\",\"type\":\"CDSView\"},{\"attributes\":{\"axis_label\":\"Distribution\",\"formatter\":{\"id\":\"c2a7e464-38c3-4c30-845b-018f4ecf8bfd\",\"type\":\"BasicTickFormatter\"},\"plot\":{\"id\":\"85fb5edc-a9c1-4e9f-a124-bee73126679f\",\"subtype\":\"Figure\",\"type\":\"Plot\"},\"ticker\":{\"id\":\"17590484-fd3c-4e54-946a-8d41d6a6cc0d\",\"type\":\"BasicTicker\"}},\"id\":\"d991eae0-6233-4891-a145-889a7cdb5427\",\"type\":\"LinearAxis\"},{\"attributes\":{\"toolbar\":{\"id\":\"70ad7ac8-4962-45fa-a62f-a6aaee595d57\",\"type\":\"ProxyToolbar\"},\"toolbar_location\":\"above\"},\"id\":\"46b2aa02-0e68-4bcd-bac6-3742c4224941\",\"type\":\"ToolbarBox\"},{\"attributes\":{},\"id\":\"464ba7a2-e7f3-496f-b14b-150d2288d77f\",\"type\":\"BasicTicker\"},{\"attributes\":{\"axis_label\":\"Distribution\",\"formatter\":{\"id\":\"e6a0e534-7b7d-49f4-b8fb-25b8c8da637e\",\"type\":\"BasicTickFormatter\"},\"plot\":{\"id\":\"c8055c3a-0374-49e1-9a7e-3732f3dde312\",\"subtype\":\"Figure\",\"type\":\"Plot\"},\"ticker\":{\"id\":\"464ba7a2-e7f3-496f-b14b-150d2288d77f\",\"type\":\"BasicTicker\"}},\"id\":\"d641664d-aaa3-4511-b418-144b75c5b80b\",\"type\":\"LinearAxis\"},{\"attributes\":{},\"id\":\"17590484-fd3c-4e54-946a-8d41d6a6cc0d\",\"type\":\"BasicTicker\"},{\"attributes\":{},\"id\":\"0092413c-fe0d-417f-be5c-d50242d86d4a\",\"type\":\"BasicTickFormatter\"},{\"attributes\":{\"source\":{\"id\":\"b68b630e-b504-4a58-b790-d11b7078e1a2\",\"type\":\"ColumnDataSource\"}},\"id\":\"679b83f1-d5b2-4eb7-83f3-585b6edbd70b\",\"type\":\"CDSView\"},{\"attributes\":{},\"id\":\"5529dacb-9dc2-46b7-be80-31b104218726\",\"type\":\"ResetTool\"},{\"attributes\":{\"callback\":null,\"column_names\":[\"left\",\"right\",\"top\"],\"data\":{\"left\":{\"__ndarray__\":\"AFATbQIrdT82v0VEoUGuPzaKdB3x7rw/aBpjzIhexT+27wsKmUXMP4Ji2qNUltE/KM2uwtwJ1T/PN4PhZH3YP3aiVwDt8Ns/HQ0sH3Vk3z/iOwCf/mvhPzVxaq7CJeM/iKbUvYbf5D/c2z7NSpnmPy8RqdwOU+g/g0YT7NIM6j/We337lsbrPymx5wpbgO0/feZRGh867z/oDd6U8XnwP5Iok5zTVvE/O0NIpLUz8j/lXf2rlxDzP494srN57fM/OJNnu1vK9D/irRzDPaf1P4zI0cofhPY/NuOG0gFh9z/f/Tva4z34P4kY8eHFGvk/MzOm6af3+T/cTVvxidT6P4ZoEPlrsfs/MIPFAE6O/D/ZnXoIMGv9P4O4LxASSP4/LdPkF/Qk/z/r9swP6wAAQECEpxNcbwBAlRGCF83dAEDqnlwbPkwBQD8sNx+vugFAk7kRIyApAkDoRuwmkZcCQD3UxioCBgNAkmGhLnN0A0Dn7nsy5OIDQDx8VjZVUQRAkAkxOsa/BEDllgs+Ny4FQA==\",\"dtype\":\"float64\",\"shape\":[50]},\"right\":{\"__ndarray__\":\"Nr9FRKFBrj82inQd8e68P2gaY8yIXsU/tu8LCplFzD+CYtqjVJbRPyjNrsLcCdU/zzeD4WR92D92olcA7fDbPx0NLB91ZN8/4jsAn/5r4T81cWquwiXjP4im1L2G3+Q/3Ns+zUqZ5j8vEancDlPoP4NGE+zSDOo/1nt9+5bG6z8psecKW4DtP33mURofOu8/6A3elPF58D+SKJOc01bxPztDSKS1M/I/5V39q5cQ8z+PeLKzee3zPziTZ7tbyvQ/4q0cwz2n9T+MyNHKH4T2PzbjhtIBYfc/3/072uM9+D+JGPHhxRr5PzMzpumn9/k/3E1b8YnU+j+GaBD5a7H7PzCDxQBOjvw/2Z16CDBr/T+DuC8QEkj+Py3T5Bf0JP8/6/bMD+sAAEBAhKcTXG8AQJURghfN3QBA6p5cGz5MAUA/LDcfr7oBQJO5ESMgKQJA6EbsJpGXAkA91MYqAgYDQJJhoS5zdANA5+57MuTiA0A8fFY2VVEEQJAJMTrGvwRA5ZYLPjcuBUA6JOZBqJwFQA==\",\"dtype\":\"float64\",\"shape\":[50]},\"top\":{\"__ndarray__\":\"PdruWnzO6j9DqGEdWT7tPzoMfJifXug/KAldsvdG4j8zpUI3sSbnP6nuhiASc/A/JqIjUQkP4T82DHyYn17oP0Z21N81rt8/OHO1+Y2W6T9PdtTfNa7fP0921N81rt8/MXO1+Y2W6T9D2u5afM7aPyo+CdbC7uU/NNfPdNS25D86pUI3sSbnPzTa7lp8zto/Q9ruWnzO2j89dtTfNa7fP1qoYR1ZPt0/NNruWnzO2j802u5afM7aPzxwlhPmftM/OKhhHVk+3T8mcJYT5n7DPyo+CdbC7tU/PHCWE+Z+0z8mcJYT5n6zPy8MfJifXsg/Swx8mJ9e2D8mcJYT5n6zPy8MfJifXsg/Swx8mJ9e2D8mcJYT5n7TPzioYR1ZPr0/PHCWE+Z+oz8mcJYT5n6zPy8MfJifXsg/JnCWE+Z+wz8AAAAAAAAAAFNwlhPmfqM/JnCWE+Z+sz8mcJYT5n7DPwAAAAAAAAAAJnCWE+Z+oz8mcJYT5n6zP1NwlhPmfqM/JnCWE+Z+oz8mcJYT5n6jPw==\",\"dtype\":\"float64\",\"shape\":[50]}}},\"id\":\"b68b630e-b504-4a58-b790-d11b7078e1a2\",\"type\":\"ColumnDataSource\"},{\"attributes\":{},\"id\":\"0a7e647e-3dd3-4228-9751-84e626e175b2\",\"type\":\"WheelZoomTool\"},{\"attributes\":{\"children\":[{\"id\":\"c8055c3a-0374-49e1-9a7e-3732f3dde312\",\"subtype\":\"Figure\",\"type\":\"Plot\"},{\"id\":\"85fb5edc-a9c1-4e9f-a124-bee73126679f\",\"subtype\":\"Figure\",\"type\":\"Plot\"}]},\"id\":\"8c711b29-518a-4ac6-90b9-e525fdb7da29\",\"type\":\"Row\"},{\"attributes\":{\"children\":[{\"id\":\"8c711b29-518a-4ac6-90b9-e525fdb7da29\",\"type\":\"Row\"}]},\"id\":\"bfed58e7-ade5-4893-8ee2-1248d449a4d7\",\"type\":\"Column\"},{\"attributes\":{},\"id\":\"0b7ea91a-bbbe-4609-9fa8-9e98a0a8743e\",\"type\":\"SaveTool\"},{\"attributes\":{\"axis_label\":\"Difference(abs)\",\"formatter\":{\"id\":\"cce5abc3-57a9-42f8-977e-e17da3695d4b\",\"type\":\"BasicTickFormatter\"},\"plot\":{\"id\":\"c8055c3a-0374-49e1-9a7e-3732f3dde312\",\"subtype\":\"Figure\",\"type\":\"Plot\"},\"ticker\":{\"id\":\"7012b4fb-d806-4078-a6aa-149c7de006fd\",\"type\":\"BasicTicker\"}},\"id\":\"4f2df746-6cdc-4e2e-9806-c3771806f8bc\",\"type\":\"LinearAxis\"},{\"attributes\":{\"data_source\":{\"id\":\"8ec31020-bd09-469a-b506-5afa5e3813f0\",\"type\":\"ColumnDataSource\"},\"glyph\":{\"id\":\"47aeefc2-b15e-4121-aba2-6ba2f42b90f6\",\"type\":\"Quad\"},\"hover_glyph\":null,\"muted_glyph\":null,\"nonselection_glyph\":{\"id\":\"35eaeea1-e49c-43d4-9670-6db4cd71ca7d\",\"type\":\"Quad\"},\"selection_glyph\":null,\"view\":{\"id\":\"c5498184-35ad-4b8a-a0e0-97e87597535e\",\"type\":\"CDSView\"}},\"id\":\"655a7165-627d-48ba-b19c-135e3ceba292\",\"type\":\"GlyphRenderer\"},{\"attributes\":{\"callback\":null},\"id\":\"fef4fdc7-4bc5-4af7-a43b-799d504ab304\",\"type\":\"DataRange1d\"},{\"attributes\":{},\"id\":\"cce5abc3-57a9-42f8-977e-e17da3695d4b\",\"type\":\"BasicTickFormatter\"},{\"attributes\":{\"plot\":null,\"text\":\"Asummetry in badLocal-goodLocal :with Correction\"},\"id\":\"15b2f733-2024-4f3a-9bb2-780b9c3addbf\",\"type\":\"Title\"},{\"attributes\":{\"axis_label\":\"Difference(abs)\",\"formatter\":{\"id\":\"0092413c-fe0d-417f-be5c-d50242d86d4a\",\"type\":\"BasicTickFormatter\"},\"plot\":{\"id\":\"85fb5edc-a9c1-4e9f-a124-bee73126679f\",\"subtype\":\"Figure\",\"type\":\"Plot\"},\"ticker\":{\"id\":\"47b40f27-8719-4122-886c-9fea8c570358\",\"type\":\"BasicTicker\"}},\"id\":\"d1c19db1-ab4e-42fc-8d84-6f690c13bf16\",\"type\":\"LinearAxis\"},{\"attributes\":{\"overlay\":{\"id\":\"0df67900-f3c1-4866-a72e-2a7c758b4486\",\"type\":\"BoxAnnotation\"}},\"id\":\"787a8f3c-429c-4066-a25e-dc16eb971031\",\"type\":\"BoxZoomTool\"},{\"attributes\":{},\"id\":\"56ff5a2b-2210-400c-ad02-fd43b3c44a4d\",\"type\":\"HelpTool\"},{\"attributes\":{},\"id\":\"5dcffbf7-7aa5-490e-b6be-149202a46f93\",\"type\":\"HelpTool\"},{\"attributes\":{\"data_source\":{\"id\":\"b68b630e-b504-4a58-b790-d11b7078e1a2\",\"type\":\"ColumnDataSource\"},\"glyph\":{\"id\":\"946805a1-87e8-480f-b278-05e0d952f53e\",\"type\":\"Quad\"},\"hover_glyph\":null,\"muted_glyph\":null,\"nonselection_glyph\":{\"id\":\"ca753f57-736e-4f91-a278-fdda3dfd2807\",\"type\":\"Quad\"},\"selection_glyph\":null,\"view\":{\"id\":\"679b83f1-d5b2-4eb7-83f3-585b6edbd70b\",\"type\":\"CDSView\"}},\"id\":\"ae83091f-a900-4a38-907c-26fff7a47c9d\",\"type\":\"GlyphRenderer\"},{\"attributes\":{\"children\":[{\"id\":\"46b2aa02-0e68-4bcd-bac6-3742c4224941\",\"type\":\"ToolbarBox\"},{\"id\":\"bfed58e7-ade5-4893-8ee2-1248d449a4d7\",\"type\":\"Column\"}]},\"id\":\"f1b452f0-5c3d-4d6f-8616-fcfc500ff601\",\"type\":\"Column\"},{\"attributes\":{\"plot\":{\"id\":\"c8055c3a-0374-49e1-9a7e-3732f3dde312\",\"subtype\":\"Figure\",\"type\":\"Plot\"},\"ticker\":{\"id\":\"7012b4fb-d806-4078-a6aa-149c7de006fd\",\"type\":\"BasicTicker\"}},\"id\":\"aa3315f3-3e7c-4b6a-9535-35dc272a7105\",\"type\":\"Grid\"},{\"attributes\":{},\"id\":\"e6a0e534-7b7d-49f4-b8fb-25b8c8da637e\",\"type\":\"BasicTickFormatter\"},{\"attributes\":{},\"id\":\"b5ccecd5-c1ef-4aff-a47a-a8e92975d66b\",\"type\":\"LinearScale\"},{\"attributes\":{\"bottom\":{\"value\":0},\"fill_alpha\":{\"value\":0.1},\"fill_color\":{\"value\":\"#1f77b4\"},\"left\":{\"field\":\"left\"},\"line_alpha\":{\"value\":0.1},\"line_color\":{\"value\":\"#1f77b4\"},\"right\":{\"field\":\"right\"},\"top\":{\"field\":\"top\"}},\"id\":\"ca753f57-736e-4f91-a278-fdda3dfd2807\",\"type\":\"Quad\"},{\"attributes\":{},\"id\":\"47b40f27-8719-4122-886c-9fea8c570358\",\"type\":\"BasicTicker\"},{\"attributes\":{},\"id\":\"c2a7e464-38c3-4c30-845b-018f4ecf8bfd\",\"type\":\"BasicTickFormatter\"},{\"attributes\":{\"active_drag\":\"auto\",\"active_inspect\":\"auto\",\"active_scroll\":\"auto\",\"active_tap\":\"auto\",\"tools\":[{\"id\":\"16ffef24-ebbb-48b7-bbfd-2a688c0a6251\",\"type\":\"PanTool\"},{\"id\":\"0a7e647e-3dd3-4228-9751-84e626e175b2\",\"type\":\"WheelZoomTool\"},{\"id\":\"787a8f3c-429c-4066-a25e-dc16eb971031\",\"type\":\"BoxZoomTool\"},{\"id\":\"0b7ea91a-bbbe-4609-9fa8-9e98a0a8743e\",\"type\":\"SaveTool\"},{\"id\":\"5529dacb-9dc2-46b7-be80-31b104218726\",\"type\":\"ResetTool\"},{\"id\":\"5dcffbf7-7aa5-490e-b6be-149202a46f93\",\"type\":\"HelpTool\"}]},\"id\":\"decd3f3f-f1af-4587-aa2f-353738f43dfb\",\"type\":\"Toolbar\"},{\"attributes\":{},\"id\":\"7012b4fb-d806-4078-a6aa-149c7de006fd\",\"type\":\"BasicTicker\"},{\"attributes\":{\"overlay\":{\"id\":\"a392da6c-5066-4f35-9952-4fb3d383a423\",\"type\":\"BoxAnnotation\"}},\"id\":\"27ad0165-365e-4e09-bf79-96656ec0029e\",\"type\":\"BoxZoomTool\"},{\"attributes\":{\"bottom_units\":\"screen\",\"fill_alpha\":{\"value\":0.5},\"fill_color\":{\"value\":\"lightgrey\"},\"left_units\":\"screen\",\"level\":\"overlay\",\"line_alpha\":{\"value\":1.0},\"line_color\":{\"value\":\"black\"},\"line_dash\":[4,4],\"line_width\":{\"value\":2},\"plot\":null,\"render_mode\":\"css\",\"right_units\":\"screen\",\"top_units\":\"screen\"},\"id\":\"0df67900-f3c1-4866-a72e-2a7c758b4486\",\"type\":\"BoxAnnotation\"},{\"attributes\":{\"dimension\":1,\"plot\":{\"id\":\"85fb5edc-a9c1-4e9f-a124-bee73126679f\",\"subtype\":\"Figure\",\"type\":\"Plot\"},\"ticker\":{\"id\":\"17590484-fd3c-4e54-946a-8d41d6a6cc0d\",\"type\":\"BasicTicker\"}},\"id\":\"3f532159-59e0-479e-ae8c-259a324cb6e2\",\"type\":\"Grid\"},{\"attributes\":{\"tools\":[{\"id\":\"0fe88735-1709-40d8-ba7f-085831cb2ce9\",\"type\":\"PanTool\"},{\"id\":\"773f5fce-6adc-4fcf-a39f-8d1a0b78b3dc\",\"type\":\"WheelZoomTool\"},{\"id\":\"27ad0165-365e-4e09-bf79-96656ec0029e\",\"type\":\"BoxZoomTool\"},{\"id\":\"66337c61-2d87-4d0e-92a0-ff11d40c8737\",\"type\":\"SaveTool\"},{\"id\":\"510f2169-fdfa-4061-b582-932e51e605fd\",\"type\":\"ResetTool\"},{\"id\":\"56ff5a2b-2210-400c-ad02-fd43b3c44a4d\",\"type\":\"HelpTool\"},{\"id\":\"16ffef24-ebbb-48b7-bbfd-2a688c0a6251\",\"type\":\"PanTool\"},{\"id\":\"0a7e647e-3dd3-4228-9751-84e626e175b2\",\"type\":\"WheelZoomTool\"},{\"id\":\"787a8f3c-429c-4066-a25e-dc16eb971031\",\"type\":\"BoxZoomTool\"},{\"id\":\"0b7ea91a-bbbe-4609-9fa8-9e98a0a8743e\",\"type\":\"SaveTool\"},{\"id\":\"5529dacb-9dc2-46b7-be80-31b104218726\",\"type\":\"ResetTool\"},{\"id\":\"5dcffbf7-7aa5-490e-b6be-149202a46f93\",\"type\":\"HelpTool\"}]},\"id\":\"70ad7ac8-4962-45fa-a62f-a6aaee595d57\",\"type\":\"ProxyToolbar\"},{\"attributes\":{\"below\":[{\"id\":\"d1c19db1-ab4e-42fc-8d84-6f690c13bf16\",\"type\":\"LinearAxis\"}],\"left\":[{\"id\":\"d991eae0-6233-4891-a145-889a7cdb5427\",\"type\":\"LinearAxis\"}],\"plot_height\":400,\"plot_width\":400,\"renderers\":[{\"id\":\"d1c19db1-ab4e-42fc-8d84-6f690c13bf16\",\"type\":\"LinearAxis\"},{\"id\":\"8f4952c7-8782-4f78-a816-279fb651f42d\",\"type\":\"Grid\"},{\"id\":\"d991eae0-6233-4891-a145-889a7cdb5427\",\"type\":\"LinearAxis\"},{\"id\":\"3f532159-59e0-479e-ae8c-259a324cb6e2\",\"type\":\"Grid\"},{\"id\":\"0df67900-f3c1-4866-a72e-2a7c758b4486\",\"type\":\"BoxAnnotation\"},{\"id\":\"655a7165-627d-48ba-b19c-135e3ceba292\",\"type\":\"GlyphRenderer\"}],\"title\":{\"id\":\"15b2f733-2024-4f3a-9bb2-780b9c3addbf\",\"type\":\"Title\"},\"toolbar\":{\"id\":\"decd3f3f-f1af-4587-aa2f-353738f43dfb\",\"type\":\"Toolbar\"},\"toolbar_location\":null,\"x_range\":{\"id\":\"b6d7bcc0-0522-4fdd-ae21-95034388d2ee\",\"type\":\"DataRange1d\"},\"x_scale\":{\"id\":\"f68a7753-4d41-4ecb-8a4a-89dea4d252f6\",\"type\":\"LinearScale\"},\"y_range\":{\"id\":\"c7036aae-6292-4fe9-85ce-293753fd80e5\",\"type\":\"DataRange1d\"},\"y_scale\":{\"id\":\"da16bac0-30f7-4e1c-b26c-d3cb8017a6b0\",\"type\":\"LinearScale\"}},\"id\":\"85fb5edc-a9c1-4e9f-a124-bee73126679f\",\"subtype\":\"Figure\",\"type\":\"Plot\"},{\"attributes\":{},\"id\":\"da16bac0-30f7-4e1c-b26c-d3cb8017a6b0\",\"type\":\"LinearScale\"},{\"attributes\":{\"callback\":null},\"id\":\"b6d7bcc0-0522-4fdd-ae21-95034388d2ee\",\"type\":\"DataRange1d\"},{\"attributes\":{},\"id\":\"510f2169-fdfa-4061-b582-932e51e605fd\",\"type\":\"ResetTool\"},{\"attributes\":{},\"id\":\"0a5dbb2d-1397-430e-ad64-a798ddae9261\",\"type\":\"LinearScale\"},{\"attributes\":{\"dimension\":1,\"plot\":{\"id\":\"c8055c3a-0374-49e1-9a7e-3732f3dde312\",\"subtype\":\"Figure\",\"type\":\"Plot\"},\"ticker\":{\"id\":\"464ba7a2-e7f3-496f-b14b-150d2288d77f\",\"type\":\"BasicTicker\"}},\"id\":\"10e6a68a-bb0a-4a09-8f75-26d18fb34a26\",\"type\":\"Grid\"},{\"attributes\":{},\"id\":\"66337c61-2d87-4d0e-92a0-ff11d40c8737\",\"type\":\"SaveTool\"},{\"attributes\":{\"callback\":null},\"id\":\"c7036aae-6292-4fe9-85ce-293753fd80e5\",\"type\":\"DataRange1d\"},{\"attributes\":{\"bottom\":{\"value\":0},\"fill_alpha\":{\"value\":0.1},\"fill_color\":{\"value\":\"#1f77b4\"},\"left\":{\"field\":\"left\"},\"line_alpha\":{\"value\":0.1},\"line_color\":{\"value\":\"#1f77b4\"},\"right\":{\"field\":\"right\"},\"top\":{\"field\":\"top\"}},\"id\":\"35eaeea1-e49c-43d4-9670-6db4cd71ca7d\",\"type\":\"Quad\"},{\"attributes\":{\"bottom_units\":\"screen\",\"fill_alpha\":{\"value\":0.5},\"fill_color\":{\"value\":\"lightgrey\"},\"left_units\":\"screen\",\"level\":\"overlay\",\"line_alpha\":{\"value\":1.0},\"line_color\":{\"value\":\"black\"},\"line_dash\":[4,4],\"line_width\":{\"value\":2},\"plot\":null,\"render_mode\":\"css\",\"right_units\":\"screen\",\"top_units\":\"screen\"},\"id\":\"a392da6c-5066-4f35-9952-4fb3d383a423\",\"type\":\"BoxAnnotation\"},{\"attributes\":{\"bottom\":{\"value\":0},\"fill_color\":{\"value\":\"#036564\"},\"left\":{\"field\":\"left\"},\"line_color\":{\"value\":\"#033649\"},\"right\":{\"field\":\"right\"},\"top\":{\"field\":\"top\"}},\"id\":\"946805a1-87e8-480f-b278-05e0d952f53e\",\"type\":\"Quad\"},{\"attributes\":{\"callback\":null},\"id\":\"c5c056be-63f1-4db7-914f-5ba7585f1fde\",\"type\":\"DataRange1d\"},{\"attributes\":{},\"id\":\"f68a7753-4d41-4ecb-8a4a-89dea4d252f6\",\"type\":\"LinearScale\"},{\"attributes\":{},\"id\":\"0fe88735-1709-40d8-ba7f-085831cb2ce9\",\"type\":\"PanTool\"},{\"attributes\":{\"bottom\":{\"value\":0},\"fill_color\":{\"value\":\"#036564\"},\"left\":{\"field\":\"left\"},\"line_color\":{\"value\":\"#033649\"},\"right\":{\"field\":\"right\"},\"top\":{\"field\":\"top\"}},\"id\":\"47aeefc2-b15e-4121-aba2-6ba2f42b90f6\",\"type\":\"Quad\"},{\"attributes\":{\"callback\":null,\"column_names\":[\"left\",\"right\",\"top\"],\"data\":{\"left\":{\"__ndarray__\":\"APCkIcplXz++oJGWdeOyP95WTgKqpMI/Xd1TOZnXyz/usSw4RIXSPy51r9O7Htc/bTgybzO42z/WfVqF1SjgP3bfG1ORdeI/FkHdIE3C5D+2op7uCA/nP1UEYLzEW+k/9WUhioCo6z+Vx+JXPPXtP5oU0hL8IPA/asWy+VlH8T86dpPgt23yPwondMcVlPM/2tdUrnO69D+qiDWV0eD1P3o5FnwvB/c/Ser2Yo0t+D8Zm9dJ61P5P+lLuDBJevo/ufyYF6eg+z+JrXn+BMf8P1leWuVi7f0/KQ87zMAT/z/8341ZDx0AQGQ4/kw+sABAzJBuQG1DAUA06d4znNYBQJxBTyfLaQJABJq/Gvr8AkBs8i8OKZADQNRKoAFYIwRAPKMQ9Ya2BECk+4DotUkFQAxU8dvk3AVAdKxhzxNwBkDcBNLCQgMHQENdQrZxlgdAq7WyqaApCEATDiOdz7wIQHtmk5D+TwlA474DhC3jCUBLF3R3XHYKQLNv5GqLCQtAG8hUXrqcC0CDIMVR6S8MQA==\",\"dtype\":\"float64\",\"shape\":[50]},\"right\":{\"__ndarray__\":\"vqCRlnXjsj/eVk4CqqTCP13dUzmZ18s/7rEsOESF0j8uda/Tux7XP204Mm8zuNs/1n1ahdUo4D923xtTkXXiPxZB3SBNwuQ/tqKe7ggP5z9VBGC8xFvpP/VlIYqAqOs/lcfiVzz17T+aFNIS/CDwP2rFsvlZR/E/OnaT4Ldt8j8KJ3THFZTzP9rXVK5zuvQ/qog1ldHg9T96ORZ8Lwf3P0nq9mKNLfg/GZvXSetT+T/pS7gwSXr6P7n8mBenoPs/ia15/gTH/D9ZXlrlYu39PykPO8zAE/8//N+NWQ8dAEBkOP5MPrAAQMyQbkBtQwFANOneM5zWAUCcQU8ny2kCQASavxr6/AJAbPIvDimQA0DUSqABWCMEQDyjEPWGtgRApPuA6LVJBUAMVPHb5NwFQHSsYc8TcAZA3ATSwkIDB0BDXUK2cZYHQKu1sqmgKQhAEw4jnc+8CEB7ZpOQ/k8JQOO+A4Qt4wlASxd0d1x2CkCzb+RqiwkLQBvIVF66nAtAgyDFUekvDEDreDVFGMMMQA==\",\"dtype\":\"float64\",\"shape\":[50]},\"top\":{\"__ndarray__\":\"tpekkwak5j9Y3/a/BFrwPzgEgB0FnOE/OASAHQWc4T+zl6STBqTmP/lNktgFIOQ/+U2S2AUg1D82BIAdBZzhP/RNktgFIOQ/73TbxAgwzj984bZOByjZP3Lhtk4HKOk/9E2S2AUgtD/9TZLYBSDUP/RNktgFINQ/73TbxAgw3j+zl6STBqTmP+9028QIMN4/73TbxAgwzj/vdNvECDDOPwZOktgFINQ/9E2S2AUgxD/0TZLYBSDUP/RNktgFINQ/73TbxAgwzj/vdNvECDDOP+9028QIMM4/CXXbxAgw3j/0TZLYBSDEP/RNktgFILQ/9E2S2AUgxD/0TZLYBSC0P/RNktgFIMQ/9E2S2AUgxD8AAAAAAAAAAPRNktgFIMQ/AAAAAAAAAAAAAAAAAAAAAPRNktgFILQ/AAAAAAAAAAAXTpLYBSDEP/RNktgFILQ/9E2S2AUgtD8AAAAAAAAAAPRNktgFILQ/AAAAAAAAAAAAAAAAAAAAAPRNktgFIMQ/9E2S2AUgtD/0TZLYBSC0Pw==\",\"dtype\":\"float64\",\"shape\":[50]}}},\"id\":\"8ec31020-bd09-469a-b506-5afa5e3813f0\",\"type\":\"ColumnDataSource\"},{\"attributes\":{},\"id\":\"773f5fce-6adc-4fcf-a39f-8d1a0b78b3dc\",\"type\":\"WheelZoomTool\"},{\"attributes\":{\"plot\":null,\"text\":\"Asummetry in badLocal-goodLocal :No Correction\"},\"id\":\"f03cb250-0f13-4115-9806-4bc9632fc13a\",\"type\":\"Title\"},{\"attributes\":{},\"id\":\"16ffef24-ebbb-48b7-bbfd-2a688c0a6251\",\"type\":\"PanTool\"},{\"attributes\":{\"active_drag\":\"auto\",\"active_inspect\":\"auto\",\"active_scroll\":\"auto\",\"active_tap\":\"auto\",\"tools\":[{\"id\":\"0fe88735-1709-40d8-ba7f-085831cb2ce9\",\"type\":\"PanTool\"},{\"id\":\"773f5fce-6adc-4fcf-a39f-8d1a0b78b3dc\",\"type\":\"WheelZoomTool\"},{\"id\":\"27ad0165-365e-4e09-bf79-96656ec0029e\",\"type\":\"BoxZoomTool\"},{\"id\":\"66337c61-2d87-4d0e-92a0-ff11d40c8737\",\"type\":\"SaveTool\"},{\"id\":\"510f2169-fdfa-4061-b582-932e51e605fd\",\"type\":\"ResetTool\"},{\"id\":\"56ff5a2b-2210-400c-ad02-fd43b3c44a4d\",\"type\":\"HelpTool\"}]},\"id\":\"cf833b7b-675f-4e98-bd89-c75b275f0d46\",\"type\":\"Toolbar\"},{\"attributes\":{\"below\":[{\"id\":\"4f2df746-6cdc-4e2e-9806-c3771806f8bc\",\"type\":\"LinearAxis\"}],\"left\":[{\"id\":\"d641664d-aaa3-4511-b418-144b75c5b80b\",\"type\":\"LinearAxis\"}],\"plot_height\":400,\"plot_width\":400,\"renderers\":[{\"id\":\"4f2df746-6cdc-4e2e-9806-c3771806f8bc\",\"type\":\"LinearAxis\"},{\"id\":\"aa3315f3-3e7c-4b6a-9535-35dc272a7105\",\"type\":\"Grid\"},{\"id\":\"d641664d-aaa3-4511-b418-144b75c5b80b\",\"type\":\"LinearAxis\"},{\"id\":\"10e6a68a-bb0a-4a09-8f75-26d18fb34a26\",\"type\":\"Grid\"},{\"id\":\"a392da6c-5066-4f35-9952-4fb3d383a423\",\"type\":\"BoxAnnotation\"},{\"id\":\"ae83091f-a900-4a38-907c-26fff7a47c9d\",\"type\":\"GlyphRenderer\"}],\"title\":{\"id\":\"f03cb250-0f13-4115-9806-4bc9632fc13a\",\"type\":\"Title\"},\"toolbar\":{\"id\":\"cf833b7b-675f-4e98-bd89-c75b275f0d46\",\"type\":\"Toolbar\"},\"toolbar_location\":null,\"x_range\":{\"id\":\"c5c056be-63f1-4db7-914f-5ba7585f1fde\",\"type\":\"DataRange1d\"},\"x_scale\":{\"id\":\"0a5dbb2d-1397-430e-ad64-a798ddae9261\",\"type\":\"LinearScale\"},\"y_range\":{\"id\":\"fef4fdc7-4bc5-4af7-a43b-799d504ab304\",\"type\":\"DataRange1d\"},\"y_scale\":{\"id\":\"b5ccecd5-c1ef-4aff-a47a-a8e92975d66b\",\"type\":\"LinearScale\"}},\"id\":\"c8055c3a-0374-49e1-9a7e-3732f3dde312\",\"subtype\":\"Figure\",\"type\":\"Plot\"}],\"root_ids\":[\"f1b452f0-5c3d-4d6f-8616-fcfc500ff601\"]},\"title\":\"Bokeh Application\",\"version\":\"0.12.13\"}};\n",
       "  var render_items = [{\"docid\":\"91c1ff6d-81e0-4420-9617-fd1b84fe5502\",\"elementid\":\"53da64bc-d130-4285-a4f1-f86a22a1a725\",\"modelid\":\"f1b452f0-5c3d-4d6f-8616-fcfc500ff601\"}];\n",
       "  root.Bokeh.embed.embed_items_notebook(docs_json, render_items);\n",
       "\n",
       "  }\n",
       "  if (root.Bokeh !== undefined) {\n",
       "    embed_document(root);\n",
       "  } else {\n",
       "    var attempts = 0;\n",
       "    var timer = setInterval(function(root) {\n",
       "      if (root.Bokeh !== undefined) {\n",
       "        embed_document(root);\n",
       "        clearInterval(timer);\n",
       "      }\n",
       "      attempts++;\n",
       "      if (attempts > 100) {\n",
       "        console.log(\"Bokeh: ERROR: Unable to run BokehJS code because BokehJS library is missing\")\n",
       "        clearInterval(timer);\n",
       "      }\n",
       "    }, 10, root)\n",
       "  }\n",
       "})(window);"
      ],
      "application/vnd.bokehjs_exec.v0+json": ""
     },
     "metadata": {
      "application/vnd.bokehjs_exec.v0+json": {
       "id": "f1b452f0-5c3d-4d6f-8616-fcfc500ff601"
      }
     },
     "output_type": "display_data"
    }
   ],
   "source": [
    "t = 'badLocal-goodLocal'\n",
    "w = cases[t]\n",
    "mp = list(map(lambda x:x['before'],w))\n",
    "p = figure(plot_width=400, plot_height=400,title = 'Asummetry in '+t + ' :No Correction',y_axis_label = \"Distribution\",x_axis_label = \"Difference(abs)\")\n",
    "q1,q2 = np.percentile(mp,[0,100])\n",
    "measured = [xx for xx in mp if (xx>q1 and xx<q2)]\n",
    "hist, edges = np.histogram(measured, density=True, bins=50)\n",
    "p.quad(top=hist, bottom=0, left=edges[:-1], right=edges[1:],fill_color=\"#036564\", line_color=\"#033649\")\n",
    "\n",
    "mp = list(map(lambda x:x['after'],w))\n",
    "p1 = figure(plot_width=400, plot_height=400,title = 'Asummetry in '+t + ' :with Correction',y_axis_label = \"Distribution\",x_axis_label = \"Difference(abs)\")\n",
    "q1,q2 = np.percentile(mp,[0,100])\n",
    "measured = [xx for xx in mp if (xx>q1 and xx<q2)]\n",
    "hist, edges = np.histogram(measured, density=True, bins=50)\n",
    "p1.quad(top=hist, bottom=0, left=edges[:-1], right=edges[1:],fill_color=\"#036564\", line_color=\"#033649\")\n",
    "grid = gridplot([[p, p1]])\n",
    "show (grid)"
   ]
  },
  {
   "cell_type": "code",
   "execution_count": 51,
   "metadata": {},
   "outputs": [
    {
     "data": {
      "text/html": [
       "\n",
       "<div class=\"bk-root\">\n",
       "    <div class=\"bk-plotdiv\" id=\"5aa9edb0-58e4-4d99-9459-0720e0ab72ac\"></div>\n",
       "</div>"
      ]
     },
     "metadata": {},
     "output_type": "display_data"
    },
    {
     "data": {
      "application/javascript": [
       "(function(root) {\n",
       "  function embed_document(root) {\n",
       "    \n",
       "  var docs_json = {\"a3faa654-2adc-4c01-834b-b5ae1b2d6223\":{\"roots\":{\"references\":[{\"attributes\":{\"source\":{\"id\":\"84e67b39-8ff4-4bc7-85c6-df5d5b5c1c95\",\"type\":\"ColumnDataSource\"}},\"id\":\"eb342f08-0ea6-4c6f-8779-5ebb742f7bbe\",\"type\":\"CDSView\"},{\"attributes\":{\"dimension\":1,\"plot\":{\"id\":\"4754013e-00c4-4fcc-b4a3-244c4daca1a4\",\"subtype\":\"Figure\",\"type\":\"Plot\"},\"ticker\":{\"id\":\"03b45c8b-a5fa-4931-bb70-48ed8777cc62\",\"type\":\"BasicTicker\"}},\"id\":\"b5383fab-f079-4bf5-8e6f-cc7076bb159f\",\"type\":\"Grid\"},{\"attributes\":{},\"id\":\"de9e41dc-9c36-4dfb-8b22-371f8ed7d88d\",\"type\":\"WheelZoomTool\"},{\"attributes\":{},\"id\":\"6183d108-2897-4baf-9f22-a8c735ffdb65\",\"type\":\"ResetTool\"},{\"attributes\":{\"overlay\":{\"id\":\"51aaaaea-6d0e-4e63-9a9d-a5b5f1a11015\",\"type\":\"BoxAnnotation\"}},\"id\":\"239ff763-34e6-43a1-97ca-cbad08cd0cf8\",\"type\":\"BoxZoomTool\"},{\"attributes\":{},\"id\":\"d44dbb8c-529d-489d-8c76-004905274adc\",\"type\":\"BasicTickFormatter\"},{\"attributes\":{\"data_source\":{\"id\":\"8ff5e210-eb24-48c1-b214-e9cd99074782\",\"type\":\"ColumnDataSource\"},\"glyph\":{\"id\":\"9171af25-27fc-4edf-b3ff-b79a2fedd597\",\"type\":\"Quad\"},\"hover_glyph\":null,\"muted_glyph\":null,\"nonselection_glyph\":{\"id\":\"6a299c5c-665c-481f-8397-1e5432442fcc\",\"type\":\"Quad\"},\"selection_glyph\":null,\"view\":{\"id\":\"577e769a-ddea-4c37-9f8f-1769b1dd0f46\",\"type\":\"CDSView\"}},\"id\":\"6955c463-95de-4282-8b2f-27c8a26f91e5\",\"type\":\"GlyphRenderer\"},{\"attributes\":{\"data_source\":{\"id\":\"84e67b39-8ff4-4bc7-85c6-df5d5b5c1c95\",\"type\":\"ColumnDataSource\"},\"glyph\":{\"id\":\"104d15b7-326f-46c8-9f20-f4ff17e2be44\",\"type\":\"Quad\"},\"hover_glyph\":null,\"muted_glyph\":null,\"nonselection_glyph\":{\"id\":\"444e654e-0395-4c61-a0ea-c2da148d67af\",\"type\":\"Quad\"},\"selection_glyph\":null,\"view\":{\"id\":\"eb342f08-0ea6-4c6f-8779-5ebb742f7bbe\",\"type\":\"CDSView\"}},\"id\":\"861f338f-aa4c-4550-8827-5123d463d714\",\"type\":\"GlyphRenderer\"},{\"attributes\":{\"bottom_units\":\"screen\",\"fill_alpha\":{\"value\":0.5},\"fill_color\":{\"value\":\"lightgrey\"},\"left_units\":\"screen\",\"level\":\"overlay\",\"line_alpha\":{\"value\":1.0},\"line_color\":{\"value\":\"black\"},\"line_dash\":[4,4],\"line_width\":{\"value\":2},\"plot\":null,\"render_mode\":\"css\",\"right_units\":\"screen\",\"top_units\":\"screen\"},\"id\":\"51aaaaea-6d0e-4e63-9a9d-a5b5f1a11015\",\"type\":\"BoxAnnotation\"},{\"attributes\":{},\"id\":\"cfdf9d10-d429-4775-bead-a93af0efc9fb\",\"type\":\"BasicTickFormatter\"},{\"attributes\":{},\"id\":\"7360a4bf-115f-4a7a-be2a-ce7bd9438fdc\",\"type\":\"PanTool\"},{\"attributes\":{\"callback\":null},\"id\":\"8f201f61-de66-4399-9197-c53787ec857d\",\"type\":\"DataRange1d\"},{\"attributes\":{\"callback\":null},\"id\":\"4a451898-2184-46be-94c2-5735a369222d\",\"type\":\"DataRange1d\"},{\"attributes\":{},\"id\":\"00ea862e-1c27-4d23-9a1d-2fd1ec768c3d\",\"type\":\"SaveTool\"},{\"attributes\":{\"bottom\":{\"value\":0},\"fill_alpha\":{\"value\":0.1},\"fill_color\":{\"value\":\"#1f77b4\"},\"left\":{\"field\":\"left\"},\"line_alpha\":{\"value\":0.1},\"line_color\":{\"value\":\"#1f77b4\"},\"right\":{\"field\":\"right\"},\"top\":{\"field\":\"top\"}},\"id\":\"6a299c5c-665c-481f-8397-1e5432442fcc\",\"type\":\"Quad\"},{\"attributes\":{\"overlay\":{\"id\":\"def6932c-f1d8-4e35-be32-22684e654a40\",\"type\":\"BoxAnnotation\"}},\"id\":\"6b312a0f-9c64-4a48-b628-e6a7de6ccd8a\",\"type\":\"BoxZoomTool\"},{\"attributes\":{\"children\":[{\"id\":\"52b17328-9fca-474b-8fca-9c1c68644c7f\",\"type\":\"Row\"}]},\"id\":\"88624b96-8b0e-43a7-83e0-2cbb7f9abf07\",\"type\":\"Column\"},{\"attributes\":{},\"id\":\"0c0a9ef7-df04-45d0-88e2-97a0520f905e\",\"type\":\"SaveTool\"},{\"attributes\":{\"toolbar\":{\"id\":\"2d01948b-2ca2-4a87-b0f2-5e0e9b097f55\",\"type\":\"ProxyToolbar\"},\"toolbar_location\":\"above\"},\"id\":\"e6511cab-26e9-43e3-8ab5-56a9c1c0cf35\",\"type\":\"ToolbarBox\"},{\"attributes\":{},\"id\":\"df1b35d1-2e6c-420b-ad46-899cbb67de29\",\"type\":\"BasicTickFormatter\"},{\"attributes\":{},\"id\":\"4ba47fed-a90b-48c0-9e05-3eab74e894d7\",\"type\":\"LinearScale\"},{\"attributes\":{\"tools\":[{\"id\":\"7360a4bf-115f-4a7a-be2a-ce7bd9438fdc\",\"type\":\"PanTool\"},{\"id\":\"de9e41dc-9c36-4dfb-8b22-371f8ed7d88d\",\"type\":\"WheelZoomTool\"},{\"id\":\"239ff763-34e6-43a1-97ca-cbad08cd0cf8\",\"type\":\"BoxZoomTool\"},{\"id\":\"0c0a9ef7-df04-45d0-88e2-97a0520f905e\",\"type\":\"SaveTool\"},{\"id\":\"6183d108-2897-4baf-9f22-a8c735ffdb65\",\"type\":\"ResetTool\"},{\"id\":\"2112f6d5-b9a8-44b5-a9b6-ff8e86c8da55\",\"type\":\"HelpTool\"},{\"id\":\"27ade273-4348-4408-aad2-cbf19cbf390d\",\"type\":\"PanTool\"},{\"id\":\"bcbe1983-5d2a-4583-a2b9-428c23724c07\",\"type\":\"WheelZoomTool\"},{\"id\":\"6b312a0f-9c64-4a48-b628-e6a7de6ccd8a\",\"type\":\"BoxZoomTool\"},{\"id\":\"00ea862e-1c27-4d23-9a1d-2fd1ec768c3d\",\"type\":\"SaveTool\"},{\"id\":\"e22c99b2-5816-4cc5-8be8-bfa7d507bbf8\",\"type\":\"ResetTool\"},{\"id\":\"329c8692-4950-4e96-83cd-8e7e0a57a380\",\"type\":\"HelpTool\"}]},\"id\":\"2d01948b-2ca2-4a87-b0f2-5e0e9b097f55\",\"type\":\"ProxyToolbar\"},{\"attributes\":{\"callback\":null},\"id\":\"5ba2336b-0a80-4318-afb8-5c7a381753fc\",\"type\":\"DataRange1d\"},{\"attributes\":{\"plot\":{\"id\":\"f00ab89c-7c90-4913-9ebe-b2e8648a1485\",\"subtype\":\"Figure\",\"type\":\"Plot\"},\"ticker\":{\"id\":\"c2b371fa-539c-4cae-b100-db703fba6cfb\",\"type\":\"BasicTicker\"}},\"id\":\"8c65f22c-d64d-4724-996a-07c3784ea1be\",\"type\":\"Grid\"},{\"attributes\":{\"axis_label\":\"Difference(abs)\",\"formatter\":{\"id\":\"cfdf9d10-d429-4775-bead-a93af0efc9fb\",\"type\":\"BasicTickFormatter\"},\"plot\":{\"id\":\"f00ab89c-7c90-4913-9ebe-b2e8648a1485\",\"subtype\":\"Figure\",\"type\":\"Plot\"},\"ticker\":{\"id\":\"c2b371fa-539c-4cae-b100-db703fba6cfb\",\"type\":\"BasicTicker\"}},\"id\":\"bceb29ab-ccad-4ccd-a4a2-804b0b3c833b\",\"type\":\"LinearAxis\"},{\"attributes\":{},\"id\":\"c2b371fa-539c-4cae-b100-db703fba6cfb\",\"type\":\"BasicTicker\"},{\"attributes\":{},\"id\":\"27ade273-4348-4408-aad2-cbf19cbf390d\",\"type\":\"PanTool\"},{\"attributes\":{\"dimension\":1,\"plot\":{\"id\":\"f00ab89c-7c90-4913-9ebe-b2e8648a1485\",\"subtype\":\"Figure\",\"type\":\"Plot\"},\"ticker\":{\"id\":\"14b934cb-4639-413e-90f2-ec64faf583c4\",\"type\":\"BasicTicker\"}},\"id\":\"4544d20b-1015-4490-b05f-48237a25dff7\",\"type\":\"Grid\"},{\"attributes\":{\"bottom\":{\"value\":0},\"fill_color\":{\"value\":\"#036564\"},\"left\":{\"field\":\"left\"},\"line_color\":{\"value\":\"#033649\"},\"right\":{\"field\":\"right\"},\"top\":{\"field\":\"top\"}},\"id\":\"104d15b7-326f-46c8-9f20-f4ff17e2be44\",\"type\":\"Quad\"},{\"attributes\":{\"axis_label\":\"Distribution\",\"formatter\":{\"id\":\"df1b35d1-2e6c-420b-ad46-899cbb67de29\",\"type\":\"BasicTickFormatter\"},\"plot\":{\"id\":\"f00ab89c-7c90-4913-9ebe-b2e8648a1485\",\"subtype\":\"Figure\",\"type\":\"Plot\"},\"ticker\":{\"id\":\"14b934cb-4639-413e-90f2-ec64faf583c4\",\"type\":\"BasicTicker\"}},\"id\":\"c327b512-4f37-4666-ae56-bdd7568d6562\",\"type\":\"LinearAxis\"},{\"attributes\":{},\"id\":\"107850d4-f916-4fed-b0a2-3ba0a86e1251\",\"type\":\"BasicTickFormatter\"},{\"attributes\":{\"active_drag\":\"auto\",\"active_inspect\":\"auto\",\"active_scroll\":\"auto\",\"active_tap\":\"auto\",\"tools\":[{\"id\":\"7360a4bf-115f-4a7a-be2a-ce7bd9438fdc\",\"type\":\"PanTool\"},{\"id\":\"de9e41dc-9c36-4dfb-8b22-371f8ed7d88d\",\"type\":\"WheelZoomTool\"},{\"id\":\"239ff763-34e6-43a1-97ca-cbad08cd0cf8\",\"type\":\"BoxZoomTool\"},{\"id\":\"0c0a9ef7-df04-45d0-88e2-97a0520f905e\",\"type\":\"SaveTool\"},{\"id\":\"6183d108-2897-4baf-9f22-a8c735ffdb65\",\"type\":\"ResetTool\"},{\"id\":\"2112f6d5-b9a8-44b5-a9b6-ff8e86c8da55\",\"type\":\"HelpTool\"}]},\"id\":\"d8872d64-1c95-4c74-8bec-979731920597\",\"type\":\"Toolbar\"},{\"attributes\":{},\"id\":\"47d6ff7f-faf6-4e7a-b4a5-c41ea317380b\",\"type\":\"LinearScale\"},{\"attributes\":{\"bottom\":{\"value\":0},\"fill_alpha\":{\"value\":0.1},\"fill_color\":{\"value\":\"#1f77b4\"},\"left\":{\"field\":\"left\"},\"line_alpha\":{\"value\":0.1},\"line_color\":{\"value\":\"#1f77b4\"},\"right\":{\"field\":\"right\"},\"top\":{\"field\":\"top\"}},\"id\":\"444e654e-0395-4c61-a0ea-c2da148d67af\",\"type\":\"Quad\"},{\"attributes\":{\"children\":[{\"id\":\"e6511cab-26e9-43e3-8ab5-56a9c1c0cf35\",\"type\":\"ToolbarBox\"},{\"id\":\"88624b96-8b0e-43a7-83e0-2cbb7f9abf07\",\"type\":\"Column\"}]},\"id\":\"26256670-2e72-42a4-9a6c-4aef5b7c080e\",\"type\":\"Column\"},{\"attributes\":{},\"id\":\"14b934cb-4639-413e-90f2-ec64faf583c4\",\"type\":\"BasicTicker\"},{\"attributes\":{\"plot\":{\"id\":\"4754013e-00c4-4fcc-b4a3-244c4daca1a4\",\"subtype\":\"Figure\",\"type\":\"Plot\"},\"ticker\":{\"id\":\"4c098767-eca0-4514-a570-384aa670c9d5\",\"type\":\"BasicTicker\"}},\"id\":\"944abcef-13a0-49a4-b45d-e14054b4221e\",\"type\":\"Grid\"},{\"attributes\":{},\"id\":\"2112f6d5-b9a8-44b5-a9b6-ff8e86c8da55\",\"type\":\"HelpTool\"},{\"attributes\":{\"axis_label\":\"Difference(abs)\",\"formatter\":{\"id\":\"d44dbb8c-529d-489d-8c76-004905274adc\",\"type\":\"BasicTickFormatter\"},\"plot\":{\"id\":\"4754013e-00c4-4fcc-b4a3-244c4daca1a4\",\"subtype\":\"Figure\",\"type\":\"Plot\"},\"ticker\":{\"id\":\"4c098767-eca0-4514-a570-384aa670c9d5\",\"type\":\"BasicTicker\"}},\"id\":\"b026bcd5-a4f8-4b11-895e-c930d9531820\",\"type\":\"LinearAxis\"},{\"attributes\":{},\"id\":\"bcbe1983-5d2a-4583-a2b9-428c23724c07\",\"type\":\"WheelZoomTool\"},{\"attributes\":{},\"id\":\"329c8692-4950-4e96-83cd-8e7e0a57a380\",\"type\":\"HelpTool\"},{\"attributes\":{},\"id\":\"4c098767-eca0-4514-a570-384aa670c9d5\",\"type\":\"BasicTicker\"},{\"attributes\":{},\"id\":\"e22c99b2-5816-4cc5-8be8-bfa7d507bbf8\",\"type\":\"ResetTool\"},{\"attributes\":{\"axis_label\":\"Distribution\",\"formatter\":{\"id\":\"107850d4-f916-4fed-b0a2-3ba0a86e1251\",\"type\":\"BasicTickFormatter\"},\"plot\":{\"id\":\"4754013e-00c4-4fcc-b4a3-244c4daca1a4\",\"subtype\":\"Figure\",\"type\":\"Plot\"},\"ticker\":{\"id\":\"03b45c8b-a5fa-4931-bb70-48ed8777cc62\",\"type\":\"BasicTicker\"}},\"id\":\"dd4c18ec-fcfb-45e3-a90b-a274115f2140\",\"type\":\"LinearAxis\"},{\"attributes\":{\"callback\":null,\"column_names\":[\"left\",\"right\",\"top\"],\"data\":{\"left\":{\"__ndarray__\":\"ADC5kSUYcD8fl5yUQyGxP5/NDmiCoMA/rk/PBWOwyD/f6MfRIWDQP+cpqCASaNQ/7mqIbwJw2D/2q2i+8nfcP392pIbxP+A/A5cUrulD4j+Ht4TV4UfkPwvY9PzZS+Y/jvhkJNJP6D8SGdVLylPqP5Y5RXPCV+w/Glq1mrpb7j9PvRJh2S/wP5HNynTVMfE/092CiNEz8j8V7jqczTXzP1f+8q/JN/Q/mQ6rw8U59T/bHmPXwTv2Px0vG+u9Pfc/Xj/T/rk/+D+gT4sStkH5P+JfQyayQ/o/JHD7Oa5F+z9mgLNNqkf8P6iQa2GmSf0/6qAjdaJL/j8ssduInk3/P7fgSU7NJwBA2OglWMuoAED58AFiySkBQBr53WvHqgFAOwG6dcUrAkBcCZZ/w6wCQH0RconBLQNAnhlOk7+uA0C/ISqdvS8EQOApBqe7sARAATLisLkxBUAiOr66t7IFQENCmsS1MwZAZEp2zrO0BkCFUlLYsTUHQKZaLuKvtgdAxmIK7K03CEDnaub1q7gIQA==\",\"dtype\":\"float64\",\"shape\":[50]},\"right\":{\"__ndarray__\":\"H5eclEMhsT+fzQ5ogqDAP65PzwVjsMg/3+jH0SFg0D/nKaggEmjUP+5qiG8CcNg/9qtovvJ33D9/dqSG8T/gPwOXFK7pQ+I/h7eE1eFH5D8L2PT82UvmP474ZCTST+g/EhnVS8pT6j+WOUVzwlfsPxpatZq6W+4/T70SYdkv8D+Rzcp01THxP9PdgojRM/I/Fe46nM018z9X/vKvyTf0P5kOq8PFOfU/2x5j18E79j8dLxvrvT33P14/0/65P/g/oE+LErZB+T/iX0MmskP6PyRw+zmuRfs/ZoCzTapH/D+okGthpkn9P+qgI3WiS/4/LLHbiJ5N/z+34ElOzScAQNjoJVjLqABA+fABYskpAUAa+d1rx6oBQDsBunXFKwJAXAmWf8OsAkB9EXKJwS0DQJ4ZTpO/rgNAvyEqnb0vBEDgKQanu7AEQAEy4rC5MQVAIjq+ureyBUBDQprEtTMGQGRKds6ztAZAhVJS2LE1B0CmWi7ir7YHQMZiCuytNwhA52rm9au4CEAIc8L/qTkJQA==\",\"dtype\":\"float64\",\"shape\":[50]},\"top\":{\"__ndarray__\":\"eD+YlkiM7j/QATMkG6foP532lMm1lOc/8CrqpYlY8D+gEiAss0LqP2rr9m5QguY/+tS6uYVd5D+U2glnuObkP/O4L1eIr+E///BFHIML5z/61Lq5hV3kP2Gz4KlVJuE/KcTNse3B4j8pxM2x7cHiP1mz4KlVJuE/EEXnQ3sV3z/bOUnpFQPePyOoQk/wE9A/zwEzJBun2D/61Lq5hV3UP88BMyQbp9g/ZOv2blCC1j/61Lq5hV3UP9fJHF8gS9M/cCMNNEveyz+Z9pTJtZTHP9s5SekVA84/WbPgqVUmwT/EyRxfIEvDP8TJHF8gS8M/WbPgqVUmoT+Z9pTJtZTHP9s5SekVA74/2zlJ6RUDvj9Zs+CpVSaxP1mz4KlVJrE/WbPgqVUmsT8u4FgU62+1Py7gWBTrb7U/WbPgqVUmoT9Zs+CpVSaRPy7gWBTrb7U/WbPgqVUmkT9Zs+CpVSaxPwAAAAAAAAAAWbPgqVUmkT9Zs+CpVSaRPwAAAAAAAAAAAAAAAAAAAABZs+CpVSaRPw==\",\"dtype\":\"float64\",\"shape\":[50]}}},\"id\":\"8ff5e210-eb24-48c1-b214-e9cd99074782\",\"type\":\"ColumnDataSource\"},{\"attributes\":{\"callback\":null,\"column_names\":[\"left\",\"right\",\"top\"],\"data\":{\"left\":{\"__ndarray__\":\"ADSLM9/Oaj8q7/lyfkC0P1rCK/ZC1cM/H43askaKzT/yq8Q3pZ/TP1QRHBYnetg/t3Zz9KhU3T8NbmVplRfhP74gkVjWhOM/b9O8Rxfy5T8ghug2WF/oP9I4FCaZzOo/g+s/Fdo57T80nmsEG6fvP3Ooy/ktCvE/y4Fhcc5A8j8kW/fobnfzP300jWAPrvQ/1Q0j2K/k9T8u57hPUBv3P4bATsfwUfg/35nkPpGI+T84c3q2Mb/6P5BMEC7S9fs/6SWmpXIs/T9C/zsdE2P+P5rY0ZSzmf8/+dgzBipoAECmxf5BegMBQFKyyX3KngFA/p6UuRo6AkCri1/1atUCQFd4KjG7cANAA2X1bAsMBECwUcCoW6cEQFw+i+SrQgVACCtWIPzdBUC1FyFcTHkGQGEE7JecFAdADfG20+yvB0C53YEPPUsIQGbKTEuN5ghAErcXh92BCUC+o+LCLR0KQGuQrf59uApAF314Os5TC0DDaUN2Hu8LQHBWDrJuigxAHEPZ7b4lDUDIL6QpD8ENQA==\",\"dtype\":\"float64\",\"shape\":[50]},\"right\":{\"__ndarray__\":\"Ku/5cn5AtD9awiv2QtXDPx+N2rJGis0/8qvEN6Wf0z9UERwWJ3rYP7d2c/SoVN0/DW5laZUX4T++IJFY1oTjP2/TvEcX8uU/IIboNlhf6D/SOBQmmczqP4PrPxXaOe0/NJ5rBBun7z9zqMv5LQrxP8uBYXHOQPI/JFv36G538z99NI1gD670P9UNI9iv5PU/Lue4T1Ab9z+GwE7H8FH4P9+Z5D6RiPk/OHN6tjG/+j+QTBAu0vX7P+klpqVyLP0/Qv87HRNj/j+a2NGUs5n/P/nYMwYqaABApsX+QXoDAUBSssl9yp4BQP6elLkaOgJAq4tf9WrVAkBXeCoxu3ADQANl9WwLDARAsFHAqFunBEBcPovkq0IFQAgrViD83QVAtRchXEx5BkBhBOyXnBQHQA3xttPsrwdAud2BDz1LCEBmykxLjeYIQBK3F4fdgQlAvqPiwi0dCkBrkK3+fbgKQBd9eDrOUwtAw2lDdh7vC0BwVg6ybooMQBxD2e2+JQ1AyC+kKQ/BDUB0HG9lX1wOQA==\",\"dtype\":\"float64\",\"shape\":[50]},\"top\":{\"__ndarray__\":\"uwdzHLX18D9kc/SLEX7sP0xwxrNiteU/PjsRMmCj4T861NQGCkjgP0CiTV22/uI/XAy4YLsi2z9NcMazYrXVP1c+PwoPbOg/RKJNXbb+0j9FcMazYrXFPz87ETJgo+E/YQy4YLsi2z9NPj8KD2zYP0HU1AYKSOA/NNTUBgpI4D9WDLhguyLbP1ZwxrNiteU/NNTUBgpI0D9tDLhguyLLPzyiTV22/tI/NNTUBgpI0D9WcMazYrXFP0VwxrNitcU/NNTUBgpIwD9B1NQGCkjAP1ZwxrNitbU/JtTUBgpI0D9WcMazYrW1P1ZwxrNitbU/QAy4YLsiyz9WcMazYrWlP1ZwxrNitbU/M3DGs2K1tT9WcMazYrW1P1ZwxrNitaU/M3DGs2K1tT9WcMazYrW1P1ZwxrNitaU/bQy4YLsiyz8zcMazYrWlP1ZwxrNitaU/VnDGs2K1pT8m1NQGCkjAPwAAAAAAAAAAVnDGs2K1pT8AAAAAAAAAAAAAAAAAAAAAAAAAAAAAAABWcMazYrWlPw==\",\"dtype\":\"float64\",\"shape\":[50]}}},\"id\":\"84e67b39-8ff4-4bc7-85c6-df5d5b5c1c95\",\"type\":\"ColumnDataSource\"},{\"attributes\":{},\"id\":\"03b45c8b-a5fa-4931-bb70-48ed8777cc62\",\"type\":\"BasicTicker\"},{\"attributes\":{\"children\":[{\"id\":\"f00ab89c-7c90-4913-9ebe-b2e8648a1485\",\"subtype\":\"Figure\",\"type\":\"Plot\"},{\"id\":\"4754013e-00c4-4fcc-b4a3-244c4daca1a4\",\"subtype\":\"Figure\",\"type\":\"Plot\"}]},\"id\":\"52b17328-9fca-474b-8fca-9c1c68644c7f\",\"type\":\"Row\"},{\"attributes\":{\"below\":[{\"id\":\"bceb29ab-ccad-4ccd-a4a2-804b0b3c833b\",\"type\":\"LinearAxis\"}],\"left\":[{\"id\":\"c327b512-4f37-4666-ae56-bdd7568d6562\",\"type\":\"LinearAxis\"}],\"plot_height\":400,\"plot_width\":400,\"renderers\":[{\"id\":\"bceb29ab-ccad-4ccd-a4a2-804b0b3c833b\",\"type\":\"LinearAxis\"},{\"id\":\"8c65f22c-d64d-4724-996a-07c3784ea1be\",\"type\":\"Grid\"},{\"id\":\"c327b512-4f37-4666-ae56-bdd7568d6562\",\"type\":\"LinearAxis\"},{\"id\":\"4544d20b-1015-4490-b05f-48237a25dff7\",\"type\":\"Grid\"},{\"id\":\"51aaaaea-6d0e-4e63-9a9d-a5b5f1a11015\",\"type\":\"BoxAnnotation\"},{\"id\":\"6955c463-95de-4282-8b2f-27c8a26f91e5\",\"type\":\"GlyphRenderer\"}],\"title\":{\"id\":\"774ecf7c-d819-46e1-adaa-92234b8a4382\",\"type\":\"Title\"},\"toolbar\":{\"id\":\"d8872d64-1c95-4c74-8bec-979731920597\",\"type\":\"Toolbar\"},\"toolbar_location\":null,\"x_range\":{\"id\":\"5ba2336b-0a80-4318-afb8-5c7a381753fc\",\"type\":\"DataRange1d\"},\"x_scale\":{\"id\":\"5d85859c-a862-4a2e-ba00-8fdd5498042e\",\"type\":\"LinearScale\"},\"y_range\":{\"id\":\"8f201f61-de66-4399-9197-c53787ec857d\",\"type\":\"DataRange1d\"},\"y_scale\":{\"id\":\"4ba47fed-a90b-48c0-9e05-3eab74e894d7\",\"type\":\"LinearScale\"}},\"id\":\"f00ab89c-7c90-4913-9ebe-b2e8648a1485\",\"subtype\":\"Figure\",\"type\":\"Plot\"},{\"attributes\":{},\"id\":\"55ba72dd-6396-4b18-9591-e1472fe22bce\",\"type\":\"LinearScale\"},{\"attributes\":{},\"id\":\"5d85859c-a862-4a2e-ba00-8fdd5498042e\",\"type\":\"LinearScale\"},{\"attributes\":{\"active_drag\":\"auto\",\"active_inspect\":\"auto\",\"active_scroll\":\"auto\",\"active_tap\":\"auto\",\"tools\":[{\"id\":\"27ade273-4348-4408-aad2-cbf19cbf390d\",\"type\":\"PanTool\"},{\"id\":\"bcbe1983-5d2a-4583-a2b9-428c23724c07\",\"type\":\"WheelZoomTool\"},{\"id\":\"6b312a0f-9c64-4a48-b628-e6a7de6ccd8a\",\"type\":\"BoxZoomTool\"},{\"id\":\"00ea862e-1c27-4d23-9a1d-2fd1ec768c3d\",\"type\":\"SaveTool\"},{\"id\":\"e22c99b2-5816-4cc5-8be8-bfa7d507bbf8\",\"type\":\"ResetTool\"},{\"id\":\"329c8692-4950-4e96-83cd-8e7e0a57a380\",\"type\":\"HelpTool\"}]},\"id\":\"1bfbb11c-a916-4759-ace1-3dc7fb8c88f9\",\"type\":\"Toolbar\"},{\"attributes\":{\"plot\":null,\"text\":\"Asummetry in goodLocal-goodLocal :No Correction\"},\"id\":\"774ecf7c-d819-46e1-adaa-92234b8a4382\",\"type\":\"Title\"},{\"attributes\":{\"source\":{\"id\":\"8ff5e210-eb24-48c1-b214-e9cd99074782\",\"type\":\"ColumnDataSource\"}},\"id\":\"577e769a-ddea-4c37-9f8f-1769b1dd0f46\",\"type\":\"CDSView\"},{\"attributes\":{\"below\":[{\"id\":\"b026bcd5-a4f8-4b11-895e-c930d9531820\",\"type\":\"LinearAxis\"}],\"left\":[{\"id\":\"dd4c18ec-fcfb-45e3-a90b-a274115f2140\",\"type\":\"LinearAxis\"}],\"plot_height\":400,\"plot_width\":400,\"renderers\":[{\"id\":\"b026bcd5-a4f8-4b11-895e-c930d9531820\",\"type\":\"LinearAxis\"},{\"id\":\"944abcef-13a0-49a4-b45d-e14054b4221e\",\"type\":\"Grid\"},{\"id\":\"dd4c18ec-fcfb-45e3-a90b-a274115f2140\",\"type\":\"LinearAxis\"},{\"id\":\"b5383fab-f079-4bf5-8e6f-cc7076bb159f\",\"type\":\"Grid\"},{\"id\":\"def6932c-f1d8-4e35-be32-22684e654a40\",\"type\":\"BoxAnnotation\"},{\"id\":\"861f338f-aa4c-4550-8827-5123d463d714\",\"type\":\"GlyphRenderer\"}],\"title\":{\"id\":\"30cf7d78-c2cd-4755-87ae-12e46152de4e\",\"type\":\"Title\"},\"toolbar\":{\"id\":\"1bfbb11c-a916-4759-ace1-3dc7fb8c88f9\",\"type\":\"Toolbar\"},\"toolbar_location\":null,\"x_range\":{\"id\":\"4a451898-2184-46be-94c2-5735a369222d\",\"type\":\"DataRange1d\"},\"x_scale\":{\"id\":\"55ba72dd-6396-4b18-9591-e1472fe22bce\",\"type\":\"LinearScale\"},\"y_range\":{\"id\":\"3b64ab8a-0801-4812-9657-69a0b4b721be\",\"type\":\"DataRange1d\"},\"y_scale\":{\"id\":\"47d6ff7f-faf6-4e7a-b4a5-c41ea317380b\",\"type\":\"LinearScale\"}},\"id\":\"4754013e-00c4-4fcc-b4a3-244c4daca1a4\",\"subtype\":\"Figure\",\"type\":\"Plot\"},{\"attributes\":{\"bottom_units\":\"screen\",\"fill_alpha\":{\"value\":0.5},\"fill_color\":{\"value\":\"lightgrey\"},\"left_units\":\"screen\",\"level\":\"overlay\",\"line_alpha\":{\"value\":1.0},\"line_color\":{\"value\":\"black\"},\"line_dash\":[4,4],\"line_width\":{\"value\":2},\"plot\":null,\"render_mode\":\"css\",\"right_units\":\"screen\",\"top_units\":\"screen\"},\"id\":\"def6932c-f1d8-4e35-be32-22684e654a40\",\"type\":\"BoxAnnotation\"},{\"attributes\":{\"bottom\":{\"value\":0},\"fill_color\":{\"value\":\"#036564\"},\"left\":{\"field\":\"left\"},\"line_color\":{\"value\":\"#033649\"},\"right\":{\"field\":\"right\"},\"top\":{\"field\":\"top\"}},\"id\":\"9171af25-27fc-4edf-b3ff-b79a2fedd597\",\"type\":\"Quad\"},{\"attributes\":{\"callback\":null},\"id\":\"3b64ab8a-0801-4812-9657-69a0b4b721be\",\"type\":\"DataRange1d\"},{\"attributes\":{\"plot\":null,\"text\":\"Asummetry in goodLocal-goodLocal :with Correction\"},\"id\":\"30cf7d78-c2cd-4755-87ae-12e46152de4e\",\"type\":\"Title\"}],\"root_ids\":[\"26256670-2e72-42a4-9a6c-4aef5b7c080e\"]},\"title\":\"Bokeh Application\",\"version\":\"0.12.13\"}};\n",
       "  var render_items = [{\"docid\":\"a3faa654-2adc-4c01-834b-b5ae1b2d6223\",\"elementid\":\"5aa9edb0-58e4-4d99-9459-0720e0ab72ac\",\"modelid\":\"26256670-2e72-42a4-9a6c-4aef5b7c080e\"}];\n",
       "  root.Bokeh.embed.embed_items_notebook(docs_json, render_items);\n",
       "\n",
       "  }\n",
       "  if (root.Bokeh !== undefined) {\n",
       "    embed_document(root);\n",
       "  } else {\n",
       "    var attempts = 0;\n",
       "    var timer = setInterval(function(root) {\n",
       "      if (root.Bokeh !== undefined) {\n",
       "        embed_document(root);\n",
       "        clearInterval(timer);\n",
       "      }\n",
       "      attempts++;\n",
       "      if (attempts > 100) {\n",
       "        console.log(\"Bokeh: ERROR: Unable to run BokehJS code because BokehJS library is missing\")\n",
       "        clearInterval(timer);\n",
       "      }\n",
       "    }, 10, root)\n",
       "  }\n",
       "})(window);"
      ],
      "application/vnd.bokehjs_exec.v0+json": ""
     },
     "metadata": {
      "application/vnd.bokehjs_exec.v0+json": {
       "id": "26256670-2e72-42a4-9a6c-4aef5b7c080e"
      }
     },
     "output_type": "display_data"
    }
   ],
   "source": [
    "t = 'goodLocal-goodLocal'\n",
    "w = cases[t]\n",
    "mp = list(map(lambda x:x['before'],w))\n",
    "p = figure(plot_width=400, plot_height=400,title = 'Asummetry in '+t + ' :No Correction',y_axis_label = \"Distribution\",x_axis_label = \"Difference(abs)\")\n",
    "q1,q2 = np.percentile(mp,[0,100])\n",
    "measured = [xx for xx in mp if (xx>q1 and xx<q2)]\n",
    "hist, edges = np.histogram(measured, density=True, bins=50)\n",
    "p.quad(top=hist, bottom=0, left=edges[:-1], right=edges[1:],fill_color=\"#036564\", line_color=\"#033649\")\n",
    "\n",
    "mp = list(map(lambda x:x['after'],w))\n",
    "p1 = figure(plot_width=400, plot_height=400,title = 'Asummetry in '+t + ' :with Correction',y_axis_label = \"Distribution\",x_axis_label = \"Difference(abs)\")\n",
    "q1,q2 = np.percentile(mp,[0,100])\n",
    "measured = [xx for xx in mp if (xx>q1 and xx<q2)]\n",
    "hist, edges = np.histogram(measured, density=True, bins=50)\n",
    "p1.quad(top=hist, bottom=0, left=edges[:-1], right=edges[1:],fill_color=\"#036564\", line_color=\"#033649\")\n",
    "grid = gridplot([[p, p1]])\n",
    "show (grid)"
   ]
  },
  {
   "cell_type": "code",
   "execution_count": 52,
   "metadata": {},
   "outputs": [
    {
     "data": {
      "text/html": [
       "\n",
       "<div class=\"bk-root\">\n",
       "    <div class=\"bk-plotdiv\" id=\"3cdd3bb2-a58c-469c-80e9-ce0325c3df3b\"></div>\n",
       "</div>"
      ]
     },
     "metadata": {},
     "output_type": "display_data"
    },
    {
     "data": {
      "application/javascript": [
       "(function(root) {\n",
       "  function embed_document(root) {\n",
       "    \n",
       "  var docs_json = {\"c9fbfa4c-128b-47e1-a204-387400cc529a\":{\"roots\":{\"references\":[{\"attributes\":{\"bottom\":{\"value\":0},\"fill_alpha\":{\"value\":0.1},\"fill_color\":{\"value\":\"#1f77b4\"},\"left\":{\"field\":\"left\"},\"line_alpha\":{\"value\":0.1},\"line_color\":{\"value\":\"#1f77b4\"},\"right\":{\"field\":\"right\"},\"top\":{\"field\":\"top\"}},\"id\":\"9d77ff2d-bbad-421f-8c2e-bacb07d3dd56\",\"type\":\"Quad\"},{\"attributes\":{\"tools\":[{\"id\":\"dfd54e01-4476-4421-b0b3-2b1bd7236493\",\"type\":\"PanTool\"},{\"id\":\"7aac37de-1b38-476f-a002-1f44aacffc06\",\"type\":\"WheelZoomTool\"},{\"id\":\"82b6ff6d-9c01-4760-ad35-39a74e83119d\",\"type\":\"BoxZoomTool\"},{\"id\":\"eb4653cb-3a09-4be0-bc29-6be11b5acd89\",\"type\":\"SaveTool\"},{\"id\":\"e5126aad-8efe-4990-ba89-d3e5a18c26ab\",\"type\":\"ResetTool\"},{\"id\":\"b28e3696-7d68-40d5-b313-44b11bc51740\",\"type\":\"HelpTool\"},{\"id\":\"dd7f2bd0-2f55-4310-97e0-ad04fe8985c1\",\"type\":\"PanTool\"},{\"id\":\"61f4a28e-dd0e-442f-af12-e07385f6f6df\",\"type\":\"WheelZoomTool\"},{\"id\":\"7f6479f9-f64b-4ff3-9951-66459acb48e6\",\"type\":\"BoxZoomTool\"},{\"id\":\"9380b8f0-47c2-42a2-9bfe-c78ccad41026\",\"type\":\"SaveTool\"},{\"id\":\"13475384-aff8-4699-8147-a921211f21f7\",\"type\":\"ResetTool\"},{\"id\":\"f12985e1-ddd9-488c-85f9-cd902e05a5f1\",\"type\":\"HelpTool\"}]},\"id\":\"b765bdb0-745b-4490-a52b-3c27d395fffa\",\"type\":\"ProxyToolbar\"},{\"attributes\":{\"callback\":null,\"column_names\":[\"left\",\"right\",\"top\"],\"data\":{\"left\":{\"__ndarray__\":\"wHb8CthcwD+arxg4jZDPPzp0mjIhYtc/ppAoyfv73j+KVtsv60rjP8BkInvYF+c/9nJpxsXk6j8tgbARs7HuP7LHey5QP/E/zU4f1MYl8z/o1cJ5PQz1PwNdZh+08vY/HuQJxSrZ+D85a61qob/6P1XyUBAYpvw/cHn0tY6M/j9GAMytgjkAQNPDnQC+LAFAYYdvU/kfAkDuSkGmNBMDQHwOE/lvBgRACdLkS6v5BECXlbae5uwFQCVZiPEh4AZAshxaRF3TB0BA4CuXmMYIQM2j/enTuQlAW2fPPA+tCkDpKqGPSqALQHbucuKFkwxABLJENcGGDUCRdRaI/HkOQB856No3bQ9AVv7cljkwEEAd4EVA16kQQOTBrul0IxFAq6MXkxKdEUBxhYA8sBYSQDhn6eVNkBJA/0hSj+sJE0DGKrs4iYMTQI0MJOIm/RNAU+6Mi8R2FEAa0PU0YvAUQOGxXt7/aRVAqJPHh53jFUBvdTAxO10WQDVXmdrY1hZA/DgChHZQF0DDGmstFMoXQA==\",\"dtype\":\"float64\",\"shape\":[50]},\"right\":{\"__ndarray__\":\"mq8YOI2Qzz86dJoyIWLXP6aQKMn7+94/ilbbL+tK4z/AZCJ72BfnP/ZyacbF5Oo/LYGwEbOx7j+yx3suUD/xP81OH9TGJfM/6NXCeT0M9T8DXWYftPL2Px7kCcUq2fg/OWutaqG/+j9V8lAQGKb8P3B59LWOjP4/RgDMrYI5AEDTw50AviwBQGGHb1P5HwJA7kpBpjQTA0B8DhP5bwYEQAnS5Eur+QRAl5W2nubsBUAlWYjxIeAGQLIcWkRd0wdAQOArl5jGCEDNo/3p07kJQFtnzzwPrQpA6Sqhj0qgC0B27nLihZMMQASyRDXBhg1AkXUWiPx5DkAfOejaN20PQFb+3JY5MBBAHeBFQNepEEDkwa7pdCMRQKujF5MSnRFAcYWAPLAWEkA4Z+nlTZASQP9IUo/rCRNAxiq7OImDE0CNDCTiJv0TQFPujIvEdhRAGtD1NGLwFEDhsV7e/2kVQKiTx4ed4xVAb3UwMTtdFkA1V5na2NYWQPw4AoR2UBdAwxprLRTKF0CK/NPWsUMYQA==\",\"dtype\":\"float64\",\"shape\":[50]},\"top\":{\"__ndarray__\":\"xSf0bPCerD/UHbdRNHelP5/3sMBe/sA/FzqAx03Iwj8ORL3iCfDJP5IB7tsaJsg/wSf0bPCezD9F5SRmAdXKPxW/HtUrXNY/B8lb8OeDzT/emBhEVuPRP/IwOhqfs9c/mHxPzjyS1D+OfE/OPJLUP3buahOw6dU/R2CGWCNB1z85V0CrdCzcP8wdt1E0d9U/R8hkgtpw0T8SOoDHTcjSPwSsmwzBH9Q/1JgYRFbj0T82yGSC2nDRPxfJW/Dng80/UNvnSkWtwz8JJ/3+4ovQP3NpzAXSVdI/jnxPzjySxD9WasNz32i+P8OiVV8SC8k/2Sf0bPCerD+6J/Rs8J68P2pWST1nGcA/w6JVXxILuT9ZVkk9ZxnAP1lWST1nGbA/eGCGWCNBtz/MHbdRNHelP8wdt1E0d6U/zB23UTR3pT/MHbdRNHeVP/kdt1E0d5U/1JgYRFbjoT+6J/Rs8J6sP7on9Gzwnnw/uif0bPCejD/5HbdRNHeVP8wdt1E0d5U/uif0bPCenD+6J/Rs8J58Pw==\",\"dtype\":\"float64\",\"shape\":[50]}}},\"id\":\"34934235-b6b7-4afb-b7f2-c22e10b57ed5\",\"type\":\"ColumnDataSource\"},{\"attributes\":{},\"id\":\"f12985e1-ddd9-488c-85f9-cd902e05a5f1\",\"type\":\"HelpTool\"},{\"attributes\":{\"axis_label\":\"Distribution\",\"formatter\":{\"id\":\"1585a368-1b2e-4417-a4a1-7758210e736c\",\"type\":\"BasicTickFormatter\"},\"plot\":{\"id\":\"c8c7b678-4366-4505-a7a8-f1ee01946256\",\"subtype\":\"Figure\",\"type\":\"Plot\"},\"ticker\":{\"id\":\"1cc8a6ac-03e1-4f4a-a38b-2f44a134c92f\",\"type\":\"BasicTicker\"}},\"id\":\"8a1937c0-401b-4a7f-8a52-311ccdfc0950\",\"type\":\"LinearAxis\"},{\"attributes\":{},\"id\":\"6d516fb0-8811-44f4-95b4-5f9b62bd1b86\",\"type\":\"BasicTickFormatter\"},{\"attributes\":{\"bottom\":{\"value\":0},\"fill_alpha\":{\"value\":0.1},\"fill_color\":{\"value\":\"#1f77b4\"},\"left\":{\"field\":\"left\"},\"line_alpha\":{\"value\":0.1},\"line_color\":{\"value\":\"#1f77b4\"},\"right\":{\"field\":\"right\"},\"top\":{\"field\":\"top\"}},\"id\":\"e830ea43-5f8d-4d00-97fa-6eddb7bd1d12\",\"type\":\"Quad\"},{\"attributes\":{\"data_source\":{\"id\":\"c3a434c9-c12c-43cc-93a3-dfbee33ffe16\",\"type\":\"ColumnDataSource\"},\"glyph\":{\"id\":\"5f7c90cd-0b95-4bf4-ac66-31479796390a\",\"type\":\"Quad\"},\"hover_glyph\":null,\"muted_glyph\":null,\"nonselection_glyph\":{\"id\":\"e830ea43-5f8d-4d00-97fa-6eddb7bd1d12\",\"type\":\"Quad\"},\"selection_glyph\":null,\"view\":{\"id\":\"d5e04a3e-ca44-41bc-aa5a-0819f52a5e94\",\"type\":\"CDSView\"}},\"id\":\"c02c5bb1-79ef-4716-b0b7-31764ed9e3bc\",\"type\":\"GlyphRenderer\"},{\"attributes\":{},\"id\":\"eb4653cb-3a09-4be0-bc29-6be11b5acd89\",\"type\":\"SaveTool\"},{\"attributes\":{},\"id\":\"13475384-aff8-4699-8147-a921211f21f7\",\"type\":\"ResetTool\"},{\"attributes\":{\"source\":{\"id\":\"34934235-b6b7-4afb-b7f2-c22e10b57ed5\",\"type\":\"ColumnDataSource\"}},\"id\":\"f8651194-eed8-4379-b469-b5b984c8d181\",\"type\":\"CDSView\"},{\"attributes\":{\"children\":[{\"id\":\"9153b806-706f-4844-a87b-1476138ed54a\",\"subtype\":\"Figure\",\"type\":\"Plot\"},{\"id\":\"c8c7b678-4366-4505-a7a8-f1ee01946256\",\"subtype\":\"Figure\",\"type\":\"Plot\"}]},\"id\":\"2a5c2d77-94e3-48ba-90e7-db44a84ad2f0\",\"type\":\"Row\"},{\"attributes\":{},\"id\":\"864386da-cf4b-458e-be6f-bee425d25e45\",\"type\":\"LinearScale\"},{\"attributes\":{\"below\":[{\"id\":\"ccb5f6a0-e565-408e-b96e-034a5546c9ec\",\"type\":\"LinearAxis\"}],\"left\":[{\"id\":\"8a1937c0-401b-4a7f-8a52-311ccdfc0950\",\"type\":\"LinearAxis\"}],\"plot_height\":400,\"plot_width\":400,\"renderers\":[{\"id\":\"ccb5f6a0-e565-408e-b96e-034a5546c9ec\",\"type\":\"LinearAxis\"},{\"id\":\"b2855e9d-102a-4962-abf4-19d97664bc34\",\"type\":\"Grid\"},{\"id\":\"8a1937c0-401b-4a7f-8a52-311ccdfc0950\",\"type\":\"LinearAxis\"},{\"id\":\"aac3c1cc-0681-4474-a74d-252166d495c9\",\"type\":\"Grid\"},{\"id\":\"81d42aeb-14d8-46e8-baa6-f8e397d3bc5b\",\"type\":\"BoxAnnotation\"},{\"id\":\"c02c5bb1-79ef-4716-b0b7-31764ed9e3bc\",\"type\":\"GlyphRenderer\"}],\"title\":{\"id\":\"9de65bc6-7d4b-4a45-8e11-db8b6caf51b8\",\"type\":\"Title\"},\"toolbar\":{\"id\":\"9a98b5e9-e45e-4de4-9096-5b8aa5c68ba5\",\"type\":\"Toolbar\"},\"toolbar_location\":null,\"x_range\":{\"id\":\"c5e756f8-2a31-4438-bb08-ad37c7a8df35\",\"type\":\"DataRange1d\"},\"x_scale\":{\"id\":\"15694f62-13ca-42b4-a882-1094f9ea34ae\",\"type\":\"LinearScale\"},\"y_range\":{\"id\":\"8c8863ca-4181-42f5-a761-ffaf2ea56de0\",\"type\":\"DataRange1d\"},\"y_scale\":{\"id\":\"864386da-cf4b-458e-be6f-bee425d25e45\",\"type\":\"LinearScale\"}},\"id\":\"c8c7b678-4366-4505-a7a8-f1ee01946256\",\"subtype\":\"Figure\",\"type\":\"Plot\"},{\"attributes\":{\"overlay\":{\"id\":\"74c9c90b-be74-4a96-a10a-7dbac9218e41\",\"type\":\"BoxAnnotation\"}},\"id\":\"82b6ff6d-9c01-4760-ad35-39a74e83119d\",\"type\":\"BoxZoomTool\"},{\"attributes\":{\"children\":[{\"id\":\"ab2b366b-0d08-43aa-9bc4-92ca9186e242\",\"type\":\"ToolbarBox\"},{\"id\":\"5c6cbe66-e911-40d8-bf1c-f464ed4845c1\",\"type\":\"Column\"}]},\"id\":\"33945721-cc2e-466b-b5b8-e89da5097fa1\",\"type\":\"Column\"},{\"attributes\":{},\"id\":\"7aac37de-1b38-476f-a002-1f44aacffc06\",\"type\":\"WheelZoomTool\"},{\"attributes\":{\"source\":{\"id\":\"c3a434c9-c12c-43cc-93a3-dfbee33ffe16\",\"type\":\"ColumnDataSource\"}},\"id\":\"d5e04a3e-ca44-41bc-aa5a-0819f52a5e94\",\"type\":\"CDSView\"},{\"attributes\":{\"toolbar\":{\"id\":\"b765bdb0-745b-4490-a52b-3c27d395fffa\",\"type\":\"ProxyToolbar\"},\"toolbar_location\":\"above\"},\"id\":\"ab2b366b-0d08-43aa-9bc4-92ca9186e242\",\"type\":\"ToolbarBox\"},{\"attributes\":{},\"id\":\"61f4a28e-dd0e-442f-af12-e07385f6f6df\",\"type\":\"WheelZoomTool\"},{\"attributes\":{\"plot\":null,\"text\":\"Asummetry in goodLocal-null :with Correction\"},\"id\":\"9de65bc6-7d4b-4a45-8e11-db8b6caf51b8\",\"type\":\"Title\"},{\"attributes\":{},\"id\":\"dd7f2bd0-2f55-4310-97e0-ad04fe8985c1\",\"type\":\"PanTool\"},{\"attributes\":{\"active_drag\":\"auto\",\"active_inspect\":\"auto\",\"active_scroll\":\"auto\",\"active_tap\":\"auto\",\"tools\":[{\"id\":\"dfd54e01-4476-4421-b0b3-2b1bd7236493\",\"type\":\"PanTool\"},{\"id\":\"7aac37de-1b38-476f-a002-1f44aacffc06\",\"type\":\"WheelZoomTool\"},{\"id\":\"82b6ff6d-9c01-4760-ad35-39a74e83119d\",\"type\":\"BoxZoomTool\"},{\"id\":\"eb4653cb-3a09-4be0-bc29-6be11b5acd89\",\"type\":\"SaveTool\"},{\"id\":\"e5126aad-8efe-4990-ba89-d3e5a18c26ab\",\"type\":\"ResetTool\"},{\"id\":\"b28e3696-7d68-40d5-b313-44b11bc51740\",\"type\":\"HelpTool\"}]},\"id\":\"022fc24a-99a9-4606-8f84-2370404dabc6\",\"type\":\"Toolbar\"},{\"attributes\":{\"overlay\":{\"id\":\"81d42aeb-14d8-46e8-baa6-f8e397d3bc5b\",\"type\":\"BoxAnnotation\"}},\"id\":\"7f6479f9-f64b-4ff3-9951-66459acb48e6\",\"type\":\"BoxZoomTool\"},{\"attributes\":{\"bottom_units\":\"screen\",\"fill_alpha\":{\"value\":0.5},\"fill_color\":{\"value\":\"lightgrey\"},\"left_units\":\"screen\",\"level\":\"overlay\",\"line_alpha\":{\"value\":1.0},\"line_color\":{\"value\":\"black\"},\"line_dash\":[4,4],\"line_width\":{\"value\":2},\"plot\":null,\"render_mode\":\"css\",\"right_units\":\"screen\",\"top_units\":\"screen\"},\"id\":\"74c9c90b-be74-4a96-a10a-7dbac9218e41\",\"type\":\"BoxAnnotation\"},{\"attributes\":{\"dimension\":1,\"plot\":{\"id\":\"9153b806-706f-4844-a87b-1476138ed54a\",\"subtype\":\"Figure\",\"type\":\"Plot\"},\"ticker\":{\"id\":\"a817323a-c6eb-49e5-a445-91014e4fa509\",\"type\":\"BasicTicker\"}},\"id\":\"5cb78eef-8a6e-4a0d-9354-1ec9cbfe982b\",\"type\":\"Grid\"},{\"attributes\":{\"bottom_units\":\"screen\",\"fill_alpha\":{\"value\":0.5},\"fill_color\":{\"value\":\"lightgrey\"},\"left_units\":\"screen\",\"level\":\"overlay\",\"line_alpha\":{\"value\":1.0},\"line_color\":{\"value\":\"black\"},\"line_dash\":[4,4],\"line_width\":{\"value\":2},\"plot\":null,\"render_mode\":\"css\",\"right_units\":\"screen\",\"top_units\":\"screen\"},\"id\":\"81d42aeb-14d8-46e8-baa6-f8e397d3bc5b\",\"type\":\"BoxAnnotation\"},{\"attributes\":{\"bottom\":{\"value\":0},\"fill_color\":{\"value\":\"#036564\"},\"left\":{\"field\":\"left\"},\"line_color\":{\"value\":\"#033649\"},\"right\":{\"field\":\"right\"},\"top\":{\"field\":\"top\"}},\"id\":\"5f7c90cd-0b95-4bf4-ac66-31479796390a\",\"type\":\"Quad\"},{\"attributes\":{},\"id\":\"dfd54e01-4476-4421-b0b3-2b1bd7236493\",\"type\":\"PanTool\"},{\"attributes\":{\"axis_label\":\"Difference(abs)\",\"formatter\":{\"id\":\"2ec947ff-17f6-4735-83c4-e525c1d3503d\",\"type\":\"BasicTickFormatter\"},\"plot\":{\"id\":\"9153b806-706f-4844-a87b-1476138ed54a\",\"subtype\":\"Figure\",\"type\":\"Plot\"},\"ticker\":{\"id\":\"3f847453-f8e3-4faf-ad14-2f0c2c5e490e\",\"type\":\"BasicTicker\"}},\"id\":\"f8984d11-1d14-41f3-a029-2aa9cae2a228\",\"type\":\"LinearAxis\"},{\"attributes\":{},\"id\":\"1cc8a6ac-03e1-4f4a-a38b-2f44a134c92f\",\"type\":\"BasicTicker\"},{\"attributes\":{\"dimension\":1,\"plot\":{\"id\":\"c8c7b678-4366-4505-a7a8-f1ee01946256\",\"subtype\":\"Figure\",\"type\":\"Plot\"},\"ticker\":{\"id\":\"1cc8a6ac-03e1-4f4a-a38b-2f44a134c92f\",\"type\":\"BasicTicker\"}},\"id\":\"aac3c1cc-0681-4474-a74d-252166d495c9\",\"type\":\"Grid\"},{\"attributes\":{\"callback\":null},\"id\":\"e753878d-dc64-46ba-bdbd-c254b4ec5c7c\",\"type\":\"DataRange1d\"},{\"attributes\":{\"callback\":null,\"column_names\":[\"left\",\"right\",\"top\"],\"data\":{\"left\":{\"__ndarray__\":\"6FEOYjby9j/6YIRxoSX5Pwtw+oAMWfs/HH9wkHeM/T8ujuaf4r//P6BOrtem+QBAKFZpX1wTAkCxXSTnES0DQDpl327HRgRAw2ya9nxgBUBMdFV+MnoGQNR7EAbokwdAXYPLjZ2tCEDmioYVU8cJQG6SQZ0I4QpA95n8JL76C0CAobescxQNQAmpcjQpLg5AkrAtvN5HD0ANXPQhyjAQQNLf0eWkvRBAlmOvqX9KEUBa54xtWtcRQB5rajE1ZBJA4+5H9Q/xEkCociW56n0TQGz2An3FChRAMHrgQKCXFED0/b0EeyQVQLmBm8hVsRVAfQV5jDA+FkBCiVZQC8sWQAYNNBTmVxdAypAR2MDkF0CPFO+bm3EYQFOYzF92/hhAGByqI1GLGUDcn4fnKxgaQKAjZasGpRpAZadCb+ExG0ApKyAzvL4bQO2u/faWSxxAsjLbunHYHEB2trh+TGUdQDo6lkIn8h1A/71zBgJ/HkDDQVHK3AsfQIjFLo63mB9ApiQGKckSIECI5vSKNlkgQA==\",\"dtype\":\"float64\",\"shape\":[50]},\"right\":{\"__ndarray__\":\"+mCEcaEl+T8LcPqADFn7Pxx/cJB3jP0/Lo7mn+K//z+gTq7XpvkAQChWaV9cEwJAsV0k5xEtA0A6Zd9ux0YEQMNsmvZ8YAVATHRVfjJ6BkDUexAG6JMHQF2Dy42drQhA5oqGFVPHCUBukkGdCOEKQPeZ/CS++gtAgKG3rHMUDUAJqXI0KS4OQJKwLbzeRw9ADVz0IcowEEDS39HlpL0QQJZjr6l/ShFAWueMbVrXEUAea2oxNWQSQOPuR/UP8RJAqHIluep9E0Bs9gJ9xQoUQDB64ECglxRA9P29BHskFUC5gZvIVbEVQH0FeYwwPhZAQolWUAvLFkAGDTQU5lcXQMqQEdjA5BdAjxTvm5txGEBTmMxfdv4YQBgcqiNRixlA3J+H5ysYGkCgI2WrBqUaQGWnQm/hMRtAKSsgM7y+G0Dtrv32lkscQLIy27px2BxAdra4fkxlHUA6OpZCJ/IdQP+9cwYCfx5Aw0FRytwLH0CIxS6Ot5gfQKYkBinJEiBAiOb0ijZZIEBqqOPso58gQA==\",\"dtype\":\"float64\",\"shape\":[50]},\"top\":{\"__ndarray__\":\"1aorfhT2eT/hqit+FPZ5P+GqK34U9nk/1aorfhT2eT/Vqit+FPZ5P+yqK34U9pk/1aorfhT2iT8fwKBej3iTP9WqK34U9ok/1aorfhT2eT8xwKBej3iTP8VK287MOaA/ezVm7lG3pj/UStvOzDmwPx/AoF6PeKM/ezVm7lG3tj/FStvOzDmwPy4g8Q3XNK0/4HqDpvAXtT8VIPEN1zStP9RK287MOaA/1Erbzsw5sD8xwKBej3izP2llDsZ1lds/Z0062mMm2T9HFAcYTv3bP0D8Miw8jtk/RxQHGE792z8Q5F5AKh/XP0D8Miw8jtk/vJ5BiIu+2D/UStvOzDnQP/C2FXSdLds/YgW+Fi7ZwT/52tNVONTeP2dNOtpjJsk/gwW+Fi7ZwT9JIPEN1zTNPxMIHSLFxco/11bFxFVx0T8xwKBej3iTPxc4xfnoo88/7KorfhT2eT8xwKBej3jTPwAAAAAAAAAA7KorfhT2eT9i+dMgpaHQPwAAAAAAAAAA7KorfhT2eT/sqit+FPZ5Pw==\",\"dtype\":\"float64\",\"shape\":[50]}}},\"id\":\"c3a434c9-c12c-43cc-93a3-dfbee33ffe16\",\"type\":\"ColumnDataSource\"},{\"attributes\":{},\"id\":\"9380b8f0-47c2-42a2-9bfe-c78ccad41026\",\"type\":\"SaveTool\"},{\"attributes\":{\"callback\":null},\"id\":\"0f1c335a-7e97-40e0-be6f-757d08ed0e1c\",\"type\":\"DataRange1d\"},{\"attributes\":{\"plot\":{\"id\":\"9153b806-706f-4844-a87b-1476138ed54a\",\"subtype\":\"Figure\",\"type\":\"Plot\"},\"ticker\":{\"id\":\"3f847453-f8e3-4faf-ad14-2f0c2c5e490e\",\"type\":\"BasicTicker\"}},\"id\":\"5b76f542-fc98-4577-8244-31726f43db5c\",\"type\":\"Grid\"},{\"attributes\":{},\"id\":\"e5126aad-8efe-4990-ba89-d3e5a18c26ab\",\"type\":\"ResetTool\"},{\"attributes\":{},\"id\":\"1585a368-1b2e-4417-a4a1-7758210e736c\",\"type\":\"BasicTickFormatter\"},{\"attributes\":{\"plot\":{\"id\":\"c8c7b678-4366-4505-a7a8-f1ee01946256\",\"subtype\":\"Figure\",\"type\":\"Plot\"},\"ticker\":{\"id\":\"ced673f0-d8e1-4bfe-8811-fcba7e4e80f6\",\"type\":\"BasicTicker\"}},\"id\":\"b2855e9d-102a-4962-abf4-19d97664bc34\",\"type\":\"Grid\"},{\"attributes\":{},\"id\":\"b28e3696-7d68-40d5-b313-44b11bc51740\",\"type\":\"HelpTool\"},{\"attributes\":{},\"id\":\"ced673f0-d8e1-4bfe-8811-fcba7e4e80f6\",\"type\":\"BasicTicker\"},{\"attributes\":{\"axis_label\":\"Difference(abs)\",\"formatter\":{\"id\":\"6d516fb0-8811-44f4-95b4-5f9b62bd1b86\",\"type\":\"BasicTickFormatter\"},\"plot\":{\"id\":\"c8c7b678-4366-4505-a7a8-f1ee01946256\",\"subtype\":\"Figure\",\"type\":\"Plot\"},\"ticker\":{\"id\":\"ced673f0-d8e1-4bfe-8811-fcba7e4e80f6\",\"type\":\"BasicTicker\"}},\"id\":\"ccb5f6a0-e565-408e-b96e-034a5546c9ec\",\"type\":\"LinearAxis\"},{\"attributes\":{\"children\":[{\"id\":\"2a5c2d77-94e3-48ba-90e7-db44a84ad2f0\",\"type\":\"Row\"}]},\"id\":\"5c6cbe66-e911-40d8-bf1c-f464ed4845c1\",\"type\":\"Column\"},{\"attributes\":{\"axis_label\":\"Distribution\",\"formatter\":{\"id\":\"8a604b3b-f244-4ac8-930a-a4df369f6ec3\",\"type\":\"BasicTickFormatter\"},\"plot\":{\"id\":\"9153b806-706f-4844-a87b-1476138ed54a\",\"subtype\":\"Figure\",\"type\":\"Plot\"},\"ticker\":{\"id\":\"a817323a-c6eb-49e5-a445-91014e4fa509\",\"type\":\"BasicTicker\"}},\"id\":\"21b8bf20-7cc0-400e-aaf5-8d64ea7c346f\",\"type\":\"LinearAxis\"},{\"attributes\":{\"data_source\":{\"id\":\"34934235-b6b7-4afb-b7f2-c22e10b57ed5\",\"type\":\"ColumnDataSource\"},\"glyph\":{\"id\":\"4f008efa-5184-4aeb-85d7-2080af55164f\",\"type\":\"Quad\"},\"hover_glyph\":null,\"muted_glyph\":null,\"nonselection_glyph\":{\"id\":\"9d77ff2d-bbad-421f-8c2e-bacb07d3dd56\",\"type\":\"Quad\"},\"selection_glyph\":null,\"view\":{\"id\":\"f8651194-eed8-4379-b469-b5b984c8d181\",\"type\":\"CDSView\"}},\"id\":\"53233082-6628-4bcc-9c0a-47a01f1ac168\",\"type\":\"GlyphRenderer\"},{\"attributes\":{\"bottom\":{\"value\":0},\"fill_color\":{\"value\":\"#036564\"},\"left\":{\"field\":\"left\"},\"line_color\":{\"value\":\"#033649\"},\"right\":{\"field\":\"right\"},\"top\":{\"field\":\"top\"}},\"id\":\"4f008efa-5184-4aeb-85d7-2080af55164f\",\"type\":\"Quad\"},{\"attributes\":{},\"id\":\"8a604b3b-f244-4ac8-930a-a4df369f6ec3\",\"type\":\"BasicTickFormatter\"},{\"attributes\":{},\"id\":\"692ca55e-8e43-4955-9b1a-e079dbeaddcd\",\"type\":\"LinearScale\"},{\"attributes\":{},\"id\":\"a817323a-c6eb-49e5-a445-91014e4fa509\",\"type\":\"BasicTicker\"},{\"attributes\":{},\"id\":\"8816bd82-ddab-4882-ba8c-7ca234ea7d88\",\"type\":\"LinearScale\"},{\"attributes\":{\"below\":[{\"id\":\"f8984d11-1d14-41f3-a029-2aa9cae2a228\",\"type\":\"LinearAxis\"}],\"left\":[{\"id\":\"21b8bf20-7cc0-400e-aaf5-8d64ea7c346f\",\"type\":\"LinearAxis\"}],\"plot_height\":400,\"plot_width\":400,\"renderers\":[{\"id\":\"f8984d11-1d14-41f3-a029-2aa9cae2a228\",\"type\":\"LinearAxis\"},{\"id\":\"5b76f542-fc98-4577-8244-31726f43db5c\",\"type\":\"Grid\"},{\"id\":\"21b8bf20-7cc0-400e-aaf5-8d64ea7c346f\",\"type\":\"LinearAxis\"},{\"id\":\"5cb78eef-8a6e-4a0d-9354-1ec9cbfe982b\",\"type\":\"Grid\"},{\"id\":\"74c9c90b-be74-4a96-a10a-7dbac9218e41\",\"type\":\"BoxAnnotation\"},{\"id\":\"53233082-6628-4bcc-9c0a-47a01f1ac168\",\"type\":\"GlyphRenderer\"}],\"title\":{\"id\":\"36df26d1-9f7d-4c73-9e5f-8afd172f10f0\",\"type\":\"Title\"},\"toolbar\":{\"id\":\"022fc24a-99a9-4606-8f84-2370404dabc6\",\"type\":\"Toolbar\"},\"toolbar_location\":null,\"x_range\":{\"id\":\"e753878d-dc64-46ba-bdbd-c254b4ec5c7c\",\"type\":\"DataRange1d\"},\"x_scale\":{\"id\":\"692ca55e-8e43-4955-9b1a-e079dbeaddcd\",\"type\":\"LinearScale\"},\"y_range\":{\"id\":\"0f1c335a-7e97-40e0-be6f-757d08ed0e1c\",\"type\":\"DataRange1d\"},\"y_scale\":{\"id\":\"8816bd82-ddab-4882-ba8c-7ca234ea7d88\",\"type\":\"LinearScale\"}},\"id\":\"9153b806-706f-4844-a87b-1476138ed54a\",\"subtype\":\"Figure\",\"type\":\"Plot\"},{\"attributes\":{},\"id\":\"15694f62-13ca-42b4-a882-1094f9ea34ae\",\"type\":\"LinearScale\"},{\"attributes\":{},\"id\":\"2ec947ff-17f6-4735-83c4-e525c1d3503d\",\"type\":\"BasicTickFormatter\"},{\"attributes\":{\"callback\":null},\"id\":\"c5e756f8-2a31-4438-bb08-ad37c7a8df35\",\"type\":\"DataRange1d\"},{\"attributes\":{},\"id\":\"3f847453-f8e3-4faf-ad14-2f0c2c5e490e\",\"type\":\"BasicTicker\"},{\"attributes\":{\"callback\":null},\"id\":\"8c8863ca-4181-42f5-a761-ffaf2ea56de0\",\"type\":\"DataRange1d\"},{\"attributes\":{\"plot\":null,\"text\":\"Asummetry in goodLocal-null :No Correction\"},\"id\":\"36df26d1-9f7d-4c73-9e5f-8afd172f10f0\",\"type\":\"Title\"},{\"attributes\":{\"active_drag\":\"auto\",\"active_inspect\":\"auto\",\"active_scroll\":\"auto\",\"active_tap\":\"auto\",\"tools\":[{\"id\":\"dd7f2bd0-2f55-4310-97e0-ad04fe8985c1\",\"type\":\"PanTool\"},{\"id\":\"61f4a28e-dd0e-442f-af12-e07385f6f6df\",\"type\":\"WheelZoomTool\"},{\"id\":\"7f6479f9-f64b-4ff3-9951-66459acb48e6\",\"type\":\"BoxZoomTool\"},{\"id\":\"9380b8f0-47c2-42a2-9bfe-c78ccad41026\",\"type\":\"SaveTool\"},{\"id\":\"13475384-aff8-4699-8147-a921211f21f7\",\"type\":\"ResetTool\"},{\"id\":\"f12985e1-ddd9-488c-85f9-cd902e05a5f1\",\"type\":\"HelpTool\"}]},\"id\":\"9a98b5e9-e45e-4de4-9096-5b8aa5c68ba5\",\"type\":\"Toolbar\"}],\"root_ids\":[\"33945721-cc2e-466b-b5b8-e89da5097fa1\"]},\"title\":\"Bokeh Application\",\"version\":\"0.12.13\"}};\n",
       "  var render_items = [{\"docid\":\"c9fbfa4c-128b-47e1-a204-387400cc529a\",\"elementid\":\"3cdd3bb2-a58c-469c-80e9-ce0325c3df3b\",\"modelid\":\"33945721-cc2e-466b-b5b8-e89da5097fa1\"}];\n",
       "  root.Bokeh.embed.embed_items_notebook(docs_json, render_items);\n",
       "\n",
       "  }\n",
       "  if (root.Bokeh !== undefined) {\n",
       "    embed_document(root);\n",
       "  } else {\n",
       "    var attempts = 0;\n",
       "    var timer = setInterval(function(root) {\n",
       "      if (root.Bokeh !== undefined) {\n",
       "        embed_document(root);\n",
       "        clearInterval(timer);\n",
       "      }\n",
       "      attempts++;\n",
       "      if (attempts > 100) {\n",
       "        console.log(\"Bokeh: ERROR: Unable to run BokehJS code because BokehJS library is missing\")\n",
       "        clearInterval(timer);\n",
       "      }\n",
       "    }, 10, root)\n",
       "  }\n",
       "})(window);"
      ],
      "application/vnd.bokehjs_exec.v0+json": ""
     },
     "metadata": {
      "application/vnd.bokehjs_exec.v0+json": {
       "id": "33945721-cc2e-466b-b5b8-e89da5097fa1"
      }
     },
     "output_type": "display_data"
    }
   ],
   "source": [
    "t = 'goodLocal-null'\n",
    "w = cases[t]\n",
    "mp = list(map(lambda x:x['before'],w))\n",
    "p = figure(plot_width=400, plot_height=400,title = 'Asummetry in '+t + ' :No Correction',y_axis_label = \"Distribution\",x_axis_label = \"Difference(abs)\")\n",
    "q1,q2 = np.percentile(mp,[0,100])\n",
    "measured = [xx for xx in mp if (xx>q1 and xx<q2)]\n",
    "hist, edges = np.histogram(measured, density=True, bins=50)\n",
    "p.quad(top=hist, bottom=0, left=edges[:-1], right=edges[1:],fill_color=\"#036564\", line_color=\"#033649\")\n",
    "\n",
    "mp = list(map(lambda x:x['after'],w))\n",
    "p1 = figure(plot_width=400, plot_height=400,title = 'Asummetry in '+t + ' :with Correction',y_axis_label = \"Distribution\",x_axis_label = \"Difference(abs)\")\n",
    "q1,q2 = np.percentile(mp,[0,100])\n",
    "measured = [xx for xx in mp if (xx>q1 and xx<q2)]\n",
    "hist, edges = np.histogram(measured, density=True, bins=50)\n",
    "p1.quad(top=hist, bottom=0, left=edges[:-1], right=edges[1:],fill_color=\"#036564\", line_color=\"#033649\")\n",
    "grid = gridplot([[p, p1]])\n",
    "show (grid)"
   ]
  },
  {
   "cell_type": "code",
   "execution_count": 53,
   "metadata": {},
   "outputs": [
    {
     "data": {
      "text/html": [
       "\n",
       "<div class=\"bk-root\">\n",
       "    <div class=\"bk-plotdiv\" id=\"52aaf246-1b21-4a02-9d52-5de4856d4905\"></div>\n",
       "</div>"
      ]
     },
     "metadata": {},
     "output_type": "display_data"
    },
    {
     "data": {
      "application/javascript": [
       "(function(root) {\n",
       "  function embed_document(root) {\n",
       "    \n",
       "  var docs_json = {\"0cd06e46-e4a5-4960-bc36-2d2876290be4\":{\"roots\":{\"references\":[{\"attributes\":{},\"id\":\"fe246409-fe52-40e9-b9f9-7b92f8c63eb2\",\"type\":\"BasicTickFormatter\"},{\"attributes\":{\"axis_label\":\"Distribution\",\"formatter\":{\"id\":\"05a55467-2900-44fc-99c5-30eeb3b313a2\",\"type\":\"BasicTickFormatter\"},\"plot\":{\"id\":\"2ea00ace-5dc2-4ee0-9f6a-0472ef48e498\",\"subtype\":\"Figure\",\"type\":\"Plot\"},\"ticker\":{\"id\":\"62f32b3c-ac1e-42f3-92f5-557febfce42e\",\"type\":\"BasicTicker\"}},\"id\":\"73c8a572-7a51-4213-bf71-9810d99b6ecf\",\"type\":\"LinearAxis\"},{\"attributes\":{\"plot\":{\"id\":\"2ea00ace-5dc2-4ee0-9f6a-0472ef48e498\",\"subtype\":\"Figure\",\"type\":\"Plot\"},\"ticker\":{\"id\":\"9e4be728-7699-43c5-9406-c135d27ee024\",\"type\":\"BasicTicker\"}},\"id\":\"3a391338-18dd-419a-8dc5-8ca2ad631c2b\",\"type\":\"Grid\"},{\"attributes\":{\"dimension\":1,\"plot\":{\"id\":\"2ea00ace-5dc2-4ee0-9f6a-0472ef48e498\",\"subtype\":\"Figure\",\"type\":\"Plot\"},\"ticker\":{\"id\":\"62f32b3c-ac1e-42f3-92f5-557febfce42e\",\"type\":\"BasicTicker\"}},\"id\":\"daee9027-b265-47ad-9b59-515b6d4b685f\",\"type\":\"Grid\"},{\"attributes\":{},\"id\":\"0e2a7ec4-c7c0-4e24-88e9-29b0ce5ccdd0\",\"type\":\"BasicTicker\"},{\"attributes\":{},\"id\":\"501de7dd-b99e-4c9b-a05e-ce53c8a117d2\",\"type\":\"ResetTool\"},{\"attributes\":{},\"id\":\"5dbf2625-2a8d-4184-a2ee-5f291ad73ea7\",\"type\":\"LinearScale\"},{\"attributes\":{\"toolbar\":{\"id\":\"a4109121-7214-4dac-8e38-e7ec64c824ff\",\"type\":\"ProxyToolbar\"},\"toolbar_location\":\"above\"},\"id\":\"f5adff8d-6377-4d5c-89fe-46f6486eacd2\",\"type\":\"ToolbarBox\"},{\"attributes\":{},\"id\":\"6dc61ec3-e3d7-4be7-8514-e9cdb298e1fa\",\"type\":\"LinearScale\"},{\"attributes\":{\"plot\":{\"id\":\"f83ce13a-4e42-4c04-8a93-83acd112a55d\",\"subtype\":\"Figure\",\"type\":\"Plot\"},\"ticker\":{\"id\":\"0e2a7ec4-c7c0-4e24-88e9-29b0ce5ccdd0\",\"type\":\"BasicTicker\"}},\"id\":\"0bdf50a5-cf34-4fed-a181-cc06de312fee\",\"type\":\"Grid\"},{\"attributes\":{\"below\":[{\"id\":\"18cdc5f4-82e2-4af9-96dc-7992a087af47\",\"type\":\"LinearAxis\"}],\"left\":[{\"id\":\"73c8a572-7a51-4213-bf71-9810d99b6ecf\",\"type\":\"LinearAxis\"}],\"plot_height\":400,\"plot_width\":400,\"renderers\":[{\"id\":\"18cdc5f4-82e2-4af9-96dc-7992a087af47\",\"type\":\"LinearAxis\"},{\"id\":\"3a391338-18dd-419a-8dc5-8ca2ad631c2b\",\"type\":\"Grid\"},{\"id\":\"73c8a572-7a51-4213-bf71-9810d99b6ecf\",\"type\":\"LinearAxis\"},{\"id\":\"daee9027-b265-47ad-9b59-515b6d4b685f\",\"type\":\"Grid\"},{\"id\":\"68448fe3-7a81-44b5-bf1c-f0a4c86d52e5\",\"type\":\"BoxAnnotation\"},{\"id\":\"94b0b947-7344-4d91-97b5-2b76f1eb6443\",\"type\":\"GlyphRenderer\"}],\"title\":{\"id\":\"e0e6ab88-7954-4a4a-9b22-839711988530\",\"type\":\"Title\"},\"toolbar\":{\"id\":\"b071629a-9cd5-4740-9592-c669021cf6d2\",\"type\":\"Toolbar\"},\"toolbar_location\":null,\"x_range\":{\"id\":\"63bd2b4c-b60e-455b-bd40-ff17348f0f43\",\"type\":\"DataRange1d\"},\"x_scale\":{\"id\":\"a2bf8c4c-e9b0-47bc-a5de-953eadd47d37\",\"type\":\"LinearScale\"},\"y_range\":{\"id\":\"d3ec446a-eaad-435d-8374-776812040d14\",\"type\":\"DataRange1d\"},\"y_scale\":{\"id\":\"4bf0d08a-c020-4445-8f86-938b6d97782b\",\"type\":\"LinearScale\"}},\"id\":\"2ea00ace-5dc2-4ee0-9f6a-0472ef48e498\",\"subtype\":\"Figure\",\"type\":\"Plot\"},{\"attributes\":{},\"id\":\"9f6bf4c4-e135-4e5f-8b63-a4cab63ecbdf\",\"type\":\"HelpTool\"},{\"attributes\":{},\"id\":\"2f3bc7f0-2391-48a9-a9d0-85260d8a1b24\",\"type\":\"BasicTickFormatter\"},{\"attributes\":{\"axis_label\":\"Distribution\",\"formatter\":{\"id\":\"fe246409-fe52-40e9-b9f9-7b92f8c63eb2\",\"type\":\"BasicTickFormatter\"},\"plot\":{\"id\":\"f83ce13a-4e42-4c04-8a93-83acd112a55d\",\"subtype\":\"Figure\",\"type\":\"Plot\"},\"ticker\":{\"id\":\"015f3bff-53d1-4722-994e-61920feeceb0\",\"type\":\"BasicTicker\"}},\"id\":\"c0de1a14-fe62-4086-869e-803487016008\",\"type\":\"LinearAxis\"},{\"attributes\":{\"source\":{\"id\":\"bffe4e52-5b4f-4cd9-97c9-84fab24c3446\",\"type\":\"ColumnDataSource\"}},\"id\":\"158e850f-9f8b-4c17-94f3-c22282bf17fd\",\"type\":\"CDSView\"},{\"attributes\":{},\"id\":\"a2bf8c4c-e9b0-47bc-a5de-953eadd47d37\",\"type\":\"LinearScale\"},{\"attributes\":{},\"id\":\"071aae98-bbce-434b-9e69-0b1a66c40f95\",\"type\":\"HelpTool\"},{\"attributes\":{\"bottom\":{\"value\":0},\"fill_color\":{\"value\":\"#036564\"},\"left\":{\"field\":\"left\"},\"line_color\":{\"value\":\"#033649\"},\"right\":{\"field\":\"right\"},\"top\":{\"field\":\"top\"}},\"id\":\"4b33dac7-1df9-48fa-8bc0-570aa45d7c4f\",\"type\":\"Quad\"},{\"attributes\":{\"children\":[{\"id\":\"f83ce13a-4e42-4c04-8a93-83acd112a55d\",\"subtype\":\"Figure\",\"type\":\"Plot\"},{\"id\":\"2ea00ace-5dc2-4ee0-9f6a-0472ef48e498\",\"subtype\":\"Figure\",\"type\":\"Plot\"}]},\"id\":\"8e6a8b5b-3da1-4148-a9f3-05ffd15d63c2\",\"type\":\"Row\"},{\"attributes\":{},\"id\":\"703105d2-a5b2-468f-9df3-02da46f6c435\",\"type\":\"SaveTool\"},{\"attributes\":{\"callback\":null},\"id\":\"ba907860-99f3-42ec-8d06-4e28d70bbe65\",\"type\":\"DataRange1d\"},{\"attributes\":{\"data_source\":{\"id\":\"304ef5bd-9a1e-4c8d-8b31-df0902c12c9b\",\"type\":\"ColumnDataSource\"},\"glyph\":{\"id\":\"f4f72dac-7394-4fc6-982d-c044cbccd390\",\"type\":\"Quad\"},\"hover_glyph\":null,\"muted_glyph\":null,\"nonselection_glyph\":{\"id\":\"623f0c23-7c5d-4a3c-a8f6-6b2766fcdf27\",\"type\":\"Quad\"},\"selection_glyph\":null,\"view\":{\"id\":\"380f595c-f01e-4343-9e44-b5ba7e9e920e\",\"type\":\"CDSView\"}},\"id\":\"137ff452-417e-4a57-8965-b7e15f427537\",\"type\":\"GlyphRenderer\"},{\"attributes\":{\"dimension\":1,\"plot\":{\"id\":\"f83ce13a-4e42-4c04-8a93-83acd112a55d\",\"subtype\":\"Figure\",\"type\":\"Plot\"},\"ticker\":{\"id\":\"015f3bff-53d1-4722-994e-61920feeceb0\",\"type\":\"BasicTicker\"}},\"id\":\"fa7411d7-4569-4667-9e80-0bd5c4107202\",\"type\":\"Grid\"},{\"attributes\":{\"active_drag\":\"auto\",\"active_inspect\":\"auto\",\"active_scroll\":\"auto\",\"active_tap\":\"auto\",\"tools\":[{\"id\":\"3b755a7d-2e04-469f-8940-a47432823d92\",\"type\":\"PanTool\"},{\"id\":\"4ee2ea2c-9777-4f19-bfb6-e33a5d117b56\",\"type\":\"WheelZoomTool\"},{\"id\":\"e4e8b040-978f-433e-b387-728f2a7a9a72\",\"type\":\"BoxZoomTool\"},{\"id\":\"78d5d5bc-33be-4afc-9f51-e767817d41e6\",\"type\":\"SaveTool\"},{\"id\":\"74557c81-3734-4087-9f7d-e064d0027e09\",\"type\":\"ResetTool\"},{\"id\":\"9f6bf4c4-e135-4e5f-8b63-a4cab63ecbdf\",\"type\":\"HelpTool\"}]},\"id\":\"b071629a-9cd5-4740-9592-c669021cf6d2\",\"type\":\"Toolbar\"},{\"attributes\":{\"callback\":null},\"id\":\"63bd2b4c-b60e-455b-bd40-ff17348f0f43\",\"type\":\"DataRange1d\"},{\"attributes\":{\"bottom_units\":\"screen\",\"fill_alpha\":{\"value\":0.5},\"fill_color\":{\"value\":\"lightgrey\"},\"left_units\":\"screen\",\"level\":\"overlay\",\"line_alpha\":{\"value\":1.0},\"line_color\":{\"value\":\"black\"},\"line_dash\":[4,4],\"line_width\":{\"value\":2},\"plot\":null,\"render_mode\":\"css\",\"right_units\":\"screen\",\"top_units\":\"screen\"},\"id\":\"986ff2c6-16b8-4662-acd2-b9646aa1904f\",\"type\":\"BoxAnnotation\"},{\"attributes\":{},\"id\":\"015f3bff-53d1-4722-994e-61920feeceb0\",\"type\":\"BasicTicker\"},{\"attributes\":{\"overlay\":{\"id\":\"986ff2c6-16b8-4662-acd2-b9646aa1904f\",\"type\":\"BoxAnnotation\"}},\"id\":\"3e923a3f-f15d-4491-b10a-053e422870cd\",\"type\":\"BoxZoomTool\"},{\"attributes\":{},\"id\":\"78d5d5bc-33be-4afc-9f51-e767817d41e6\",\"type\":\"SaveTool\"},{\"attributes\":{\"axis_label\":\"Difference(abs)\",\"formatter\":{\"id\":\"5d45afe2-0f36-41ca-899e-a55e682b8fa1\",\"type\":\"BasicTickFormatter\"},\"plot\":{\"id\":\"2ea00ace-5dc2-4ee0-9f6a-0472ef48e498\",\"subtype\":\"Figure\",\"type\":\"Plot\"},\"ticker\":{\"id\":\"9e4be728-7699-43c5-9406-c135d27ee024\",\"type\":\"BasicTicker\"}},\"id\":\"18cdc5f4-82e2-4af9-96dc-7992a087af47\",\"type\":\"LinearAxis\"},{\"attributes\":{\"callback\":null},\"id\":\"97058f87-5741-454c-8231-071131b013eb\",\"type\":\"DataRange1d\"},{\"attributes\":{},\"id\":\"05a55467-2900-44fc-99c5-30eeb3b313a2\",\"type\":\"BasicTickFormatter\"},{\"attributes\":{},\"id\":\"3b755a7d-2e04-469f-8940-a47432823d92\",\"type\":\"PanTool\"},{\"attributes\":{\"bottom\":{\"value\":0},\"fill_color\":{\"value\":\"#036564\"},\"left\":{\"field\":\"left\"},\"line_color\":{\"value\":\"#033649\"},\"right\":{\"field\":\"right\"},\"top\":{\"field\":\"top\"}},\"id\":\"f4f72dac-7394-4fc6-982d-c044cbccd390\",\"type\":\"Quad\"},{\"attributes\":{\"overlay\":{\"id\":\"68448fe3-7a81-44b5-bf1c-f0a4c86d52e5\",\"type\":\"BoxAnnotation\"}},\"id\":\"e4e8b040-978f-433e-b387-728f2a7a9a72\",\"type\":\"BoxZoomTool\"},{\"attributes\":{\"children\":[{\"id\":\"8e6a8b5b-3da1-4148-a9f3-05ffd15d63c2\",\"type\":\"Row\"}]},\"id\":\"9869d42e-d093-4791-8a98-460c51fdf59a\",\"type\":\"Column\"},{\"attributes\":{},\"id\":\"62f32b3c-ac1e-42f3-92f5-557febfce42e\",\"type\":\"BasicTicker\"},{\"attributes\":{\"callback\":null,\"column_names\":[\"left\",\"right\",\"top\"],\"data\":{\"left\":{\"__ndarray__\":\"APMqbgcnvj8ylA+IRfPMP3LXhKyDadU/yuQBlWRZ3D8Seb++oqThP77//TKTHOU/aoY8p4OU6D8XDXsbdAzsP8OTuY9khO8/OA38gSp+8T+OUBu8IjrzP+STOvYa9vQ/OtdZMBOy9j+QGnlqC274P+ddmKQDKvo/PaG33vvl+z+T5NYY9KH9P+kn9lLsXf8/oLWKRvKMAEBLV5pj7moBQPb4qYDqSAJAoZq5neYmA0BMPMm64gQEQPfd2Nfe4gRAon/o9NrABUBNIfgR154GQPjCBy/TfAdApGQXTM9aCEBPBidpyzgJQPqnNobHFgpApUlGo8P0CkBQ61XAv9ILQPuMZd27sAxApi51+reODUBR0IQXtGwOQPxxlDSwSg9A1AnSKFYUEECp2lk3VIMQQH+r4UVS8hBAVHxpVFBhEUAqTfFiTtARQP8deXFMPxJA1e4AgEquEkCrv4iOSB0TQICQEJ1GjBNAVmGYq0T7E0ArMiC6QmoUQAEDqMhA2RRA1tMv1z5IFUCspLflPLcVQA==\",\"dtype\":\"float64\",\"shape\":[50]},\"right\":{\"__ndarray__\":\"MpQPiEXzzD9y14Ssg2nVP8rkAZVkWdw/Enm/vqKk4T++//0ykxzlP2qGPKeDlOg/Fw17G3QM7D/Dk7mPZITvPzgN/IEqfvE/jlAbvCI68z/kkzr2Gvb0PzrXWTATsvY/kBp5agtu+D/nXZikAyr6Pz2ht9775fs/k+TWGPSh/T/pJ/ZS7F3/P6C1ikbyjABAS1eaY+5qAUD2+KmA6kgCQKGauZ3mJgNATDzJuuIEBED33djX3uIEQKJ/6PTawAVATSH4EdeeBkD4wgcv03wHQKRkF0zPWghATwYnacs4CUD6pzaGxxYKQKVJRqPD9ApAUOtVwL/SC0D7jGXdu7AMQKYudfq3jg1AUdCEF7RsDkD8cZQ0sEoPQNQJ0ihWFBBAqdpZN1SDEEB/q+FFUvIQQFR8aVRQYRFAKk3xYk7QEUD/HXlxTD8SQNXuAIBKrhJAq7+IjkgdE0CAkBCdRowTQFZhmKtE+xNAKzIgukJqFEABA6jIQNkUQNbTL9c+SBVArKS35Ty3FUCBdT/0OiYWQA==\",\"dtype\":\"float64\",\"shape\":[50]},\"top\":{\"__ndarray__\":\"y+uhSSoIxj/L66FJKgi2P6C6EQ8m1MM/bImB1CGgwT+GsOIzO9jOP83roUkqCMY/yOuhSSoIxj8JosnxI7rSP18E6mYsItc/CaLJ8SO60j+GsOIzO9jOPzbTWSwo7tQ/CaLJ8SO60j9YBOpmLCLXP2UE6mYsItc/oLoRDybU0z+GsOIzO9jOP/6hyfEjutI/oLoRDybUwz9lBOpmLCLXP9twObcfhtA/NtNZLCju1D+guhEPJtTTP4aw4jM72M4/hrDiMzvYzj/N66FJKgjGP4m6EQ8m1MM/comB1CGgwT8qTsK+MnDaP1h/Uvk2pMw/hrDiMzvYzj8qTsK+MnC6P3KJgdQhoME/hrDiMzvYvj9yiYHUIaCxP2Ow4jM72M4/GB0yhC48yD+166FJKgi2P6qw4jM72L4/C07CvjJwqj+GiYHUIaDBPwtOwr4ycKo/XYmB1CGgkT+GiYHUIaCRPwtOwr4ycKo/homB1CGgkT9diYHUIaCRP4aJgdQhoKE/AAAAAAAAAACGiYHUIaCRPw==\",\"dtype\":\"float64\",\"shape\":[50]}}},\"id\":\"304ef5bd-9a1e-4c8d-8b31-df0902c12c9b\",\"type\":\"ColumnDataSource\"},{\"attributes\":{},\"id\":\"9e4be728-7699-43c5-9406-c135d27ee024\",\"type\":\"BasicTicker\"},{\"attributes\":{},\"id\":\"4ee2ea2c-9777-4f19-bfb6-e33a5d117b56\",\"type\":\"WheelZoomTool\"},{\"attributes\":{},\"id\":\"4bf0d08a-c020-4445-8f86-938b6d97782b\",\"type\":\"LinearScale\"},{\"attributes\":{\"bottom\":{\"value\":0},\"fill_alpha\":{\"value\":0.1},\"fill_color\":{\"value\":\"#1f77b4\"},\"left\":{\"field\":\"left\"},\"line_alpha\":{\"value\":0.1},\"line_color\":{\"value\":\"#1f77b4\"},\"right\":{\"field\":\"right\"},\"top\":{\"field\":\"top\"}},\"id\":\"9c14b31b-52e0-4b33-8592-a3486c31ca6f\",\"type\":\"Quad\"},{\"attributes\":{\"axis_label\":\"Difference(abs)\",\"formatter\":{\"id\":\"2f3bc7f0-2391-48a9-a9d0-85260d8a1b24\",\"type\":\"BasicTickFormatter\"},\"plot\":{\"id\":\"f83ce13a-4e42-4c04-8a93-83acd112a55d\",\"subtype\":\"Figure\",\"type\":\"Plot\"},\"ticker\":{\"id\":\"0e2a7ec4-c7c0-4e24-88e9-29b0ce5ccdd0\",\"type\":\"BasicTicker\"}},\"id\":\"96faa6e4-238e-4e62-bf4e-608089e47222\",\"type\":\"LinearAxis\"},{\"attributes\":{\"plot\":null,\"text\":\"Asummetry in badLocal-null :with Correction\"},\"id\":\"e0e6ab88-7954-4a4a-9b22-839711988530\",\"type\":\"Title\"},{\"attributes\":{\"source\":{\"id\":\"304ef5bd-9a1e-4c8d-8b31-df0902c12c9b\",\"type\":\"ColumnDataSource\"}},\"id\":\"380f595c-f01e-4343-9e44-b5ba7e9e920e\",\"type\":\"CDSView\"},{\"attributes\":{},\"id\":\"5d45afe2-0f36-41ca-899e-a55e682b8fa1\",\"type\":\"BasicTickFormatter\"},{\"attributes\":{\"bottom_units\":\"screen\",\"fill_alpha\":{\"value\":0.5},\"fill_color\":{\"value\":\"lightgrey\"},\"left_units\":\"screen\",\"level\":\"overlay\",\"line_alpha\":{\"value\":1.0},\"line_color\":{\"value\":\"black\"},\"line_dash\":[4,4],\"line_width\":{\"value\":2},\"plot\":null,\"render_mode\":\"css\",\"right_units\":\"screen\",\"top_units\":\"screen\"},\"id\":\"68448fe3-7a81-44b5-bf1c-f0a4c86d52e5\",\"type\":\"BoxAnnotation\"},{\"attributes\":{\"active_drag\":\"auto\",\"active_inspect\":\"auto\",\"active_scroll\":\"auto\",\"active_tap\":\"auto\",\"tools\":[{\"id\":\"32ab8312-a7a8-4775-ab3d-23b68f99da45\",\"type\":\"PanTool\"},{\"id\":\"3140fed5-79f1-47fd-bed5-85ddb836f0a4\",\"type\":\"WheelZoomTool\"},{\"id\":\"3e923a3f-f15d-4491-b10a-053e422870cd\",\"type\":\"BoxZoomTool\"},{\"id\":\"703105d2-a5b2-468f-9df3-02da46f6c435\",\"type\":\"SaveTool\"},{\"id\":\"501de7dd-b99e-4c9b-a05e-ce53c8a117d2\",\"type\":\"ResetTool\"},{\"id\":\"071aae98-bbce-434b-9e69-0b1a66c40f95\",\"type\":\"HelpTool\"}]},\"id\":\"d9db3283-2edf-4529-9388-5fd7523aa218\",\"type\":\"Toolbar\"},{\"attributes\":{\"data_source\":{\"id\":\"bffe4e52-5b4f-4cd9-97c9-84fab24c3446\",\"type\":\"ColumnDataSource\"},\"glyph\":{\"id\":\"4b33dac7-1df9-48fa-8bc0-570aa45d7c4f\",\"type\":\"Quad\"},\"hover_glyph\":null,\"muted_glyph\":null,\"nonselection_glyph\":{\"id\":\"9c14b31b-52e0-4b33-8592-a3486c31ca6f\",\"type\":\"Quad\"},\"selection_glyph\":null,\"view\":{\"id\":\"158e850f-9f8b-4c17-94f3-c22282bf17fd\",\"type\":\"CDSView\"}},\"id\":\"94b0b947-7344-4d91-97b5-2b76f1eb6443\",\"type\":\"GlyphRenderer\"},{\"attributes\":{\"tools\":[{\"id\":\"32ab8312-a7a8-4775-ab3d-23b68f99da45\",\"type\":\"PanTool\"},{\"id\":\"3140fed5-79f1-47fd-bed5-85ddb836f0a4\",\"type\":\"WheelZoomTool\"},{\"id\":\"3e923a3f-f15d-4491-b10a-053e422870cd\",\"type\":\"BoxZoomTool\"},{\"id\":\"703105d2-a5b2-468f-9df3-02da46f6c435\",\"type\":\"SaveTool\"},{\"id\":\"501de7dd-b99e-4c9b-a05e-ce53c8a117d2\",\"type\":\"ResetTool\"},{\"id\":\"071aae98-bbce-434b-9e69-0b1a66c40f95\",\"type\":\"HelpTool\"},{\"id\":\"3b755a7d-2e04-469f-8940-a47432823d92\",\"type\":\"PanTool\"},{\"id\":\"4ee2ea2c-9777-4f19-bfb6-e33a5d117b56\",\"type\":\"WheelZoomTool\"},{\"id\":\"e4e8b040-978f-433e-b387-728f2a7a9a72\",\"type\":\"BoxZoomTool\"},{\"id\":\"78d5d5bc-33be-4afc-9f51-e767817d41e6\",\"type\":\"SaveTool\"},{\"id\":\"74557c81-3734-4087-9f7d-e064d0027e09\",\"type\":\"ResetTool\"},{\"id\":\"9f6bf4c4-e135-4e5f-8b63-a4cab63ecbdf\",\"type\":\"HelpTool\"}]},\"id\":\"a4109121-7214-4dac-8e38-e7ec64c824ff\",\"type\":\"ProxyToolbar\"},{\"attributes\":{\"callback\":null},\"id\":\"d3ec446a-eaad-435d-8374-776812040d14\",\"type\":\"DataRange1d\"},{\"attributes\":{\"callback\":null,\"column_names\":[\"left\",\"right\",\"top\"],\"data\":{\"left\":{\"__ndarray__\":\"zmeLQGoV/D86FDEozC/+P1Ng6wcXJQBAiTa++0cyAUC/DJHveD8CQPXiY+OpTANALLk219pZBEBijwnLC2cFQJhl3L48dAZAzjuvsm2BB0AEEoKmno4IQDroVJrPmwlAcL4njgCpCkCmlPqBMbYLQNxqzXViwwxAEkGgaZPQDUBIF3NdxN0OQH7tRVH16g9A2mGMIhN8EED1zHWcqwIRQBA4XxZEiRFAK6NIkNwPEkBGDjIKdZYSQGF5G4QNHRNAfOQE/qWjE0CYT+53PioUQLK61/HWsBRAziXBa283FUDokKrlB74VQAT8k1+gRBZAHmd92TjLFkA60mZT0VEXQFQ9UM1p2BdAcKg5RwJfGECKEyPBmuUYQKZ+DDszbBlAwOn1tMvyGUDcVN8uZHkaQPa/yKj8/xpAEiuyIpWGG0AslpucLQ0cQEgBhRbGkxxAYmxukF4aHUB+11cK96AdQJhCQYSPJx5AtK0q/ieuHkDOGBR4wDQfQOqD/fFYux9Ag3fztfggIEAQLejyRGQgQA==\",\"dtype\":\"float64\",\"shape\":[50]},\"right\":{\"__ndarray__\":\"OhQxKMwv/j9TYOsHFyUAQIk2vvtHMgFAvwyR73g/AkD14mPjqUwDQCy5NtfaWQRAYo8JywtnBUCYZdy+PHQGQM47r7JtgQdABBKCpp6OCEA66FSaz5sJQHC+J44AqQpAppT6gTG2C0Dcas11YsMMQBJBoGmT0A1ASBdzXcTdDkB+7UVR9eoPQNphjCITfBBA9cx1nKsCEUAQOF8WRIkRQCujSJDcDxJARg4yCnWWEkBheRuEDR0TQHzkBP6loxNAmE/udz4qFECyutfx1rAUQM4lwWtvNxVA6JCq5Qe+FUAE/JNfoEQWQB5nfdk4yxZAOtJmU9FRF0BUPVDNadgXQHCoOUcCXxhAihMjwZrlGECmfgw7M2wZQMDp9bTL8hlA3FTfLmR5GkD2v8io/P8aQBIrsiKVhhtALJabnC0NHEBIAYUWxpMcQGJsbpBeGh1AftdXCvegHUCYQkGEjyceQLStKv4nrh5AzhgUeMA0H0Dqg/3xWLsfQIN387X4ICBAEC3o8kRkIECe4twvkacgQA==\",\"dtype\":\"float64\",\"shape\":[50]},\"top\":{\"__ndarray__\":\"20dUtcEJjz/bR1S1wQmPP9tHVLXBCY8/20dUtcEJjz8AAAAAAAAAAL5HVLXBCY8/20dUtcEJjz8AAAAAAAAAANtHVLXBCY8/5DX/R1FHtz/bR1S1wQmPP9tHVLXBCZ8/5DX/R1FHtz/bR1S1wQmvPwAAAAAAAAAA20dUtcEJjz/kNf9HUUenPwAAAAAAAAAA20dUtcEJrz/kNf9HUUenP+Q1/0dRR6c/XQP/mSUZzT9m8akstVbVPyhP/x5nXtQ/DcZU6C590D/Qk1Q6A0/WP+lgVIzXINw/j/GpLLVW1T+gR1S1wQnPP9WlqadzEd4/MnpUY+032T9LxlToLn3QP6BHVLXBCb8/FUhUtcEJ3z+gR1S1wQnPP0vGVOgufdA/JgP/mSUZzT9PT/8eZ17UPwAAAAAAAAAADa1UERlm0z8yelRj7TfZPxVIVLXBCY8/AAAAAAAAAAATv6l+iSjbP6BHVLXBCY8/FUhUtcEJnz8sFyrvVfngPwAAAAAAAAAAAAAAAAAAAACgR1S1wQmPPw==\",\"dtype\":\"float64\",\"shape\":[50]}}},\"id\":\"bffe4e52-5b4f-4cd9-97c9-84fab24c3446\",\"type\":\"ColumnDataSource\"},{\"attributes\":{},\"id\":\"3140fed5-79f1-47fd-bed5-85ddb836f0a4\",\"type\":\"WheelZoomTool\"},{\"attributes\":{},\"id\":\"74557c81-3734-4087-9f7d-e064d0027e09\",\"type\":\"ResetTool\"},{\"attributes\":{},\"id\":\"32ab8312-a7a8-4775-ab3d-23b68f99da45\",\"type\":\"PanTool\"},{\"attributes\":{\"plot\":null,\"text\":\"Asummetry in badLocal-null :No Correction\"},\"id\":\"09609e33-939e-4063-829e-6ef5fa731632\",\"type\":\"Title\"},{\"attributes\":{\"bottom\":{\"value\":0},\"fill_alpha\":{\"value\":0.1},\"fill_color\":{\"value\":\"#1f77b4\"},\"left\":{\"field\":\"left\"},\"line_alpha\":{\"value\":0.1},\"line_color\":{\"value\":\"#1f77b4\"},\"right\":{\"field\":\"right\"},\"top\":{\"field\":\"top\"}},\"id\":\"623f0c23-7c5d-4a3c-a8f6-6b2766fcdf27\",\"type\":\"Quad\"},{\"attributes\":{\"below\":[{\"id\":\"96faa6e4-238e-4e62-bf4e-608089e47222\",\"type\":\"LinearAxis\"}],\"left\":[{\"id\":\"c0de1a14-fe62-4086-869e-803487016008\",\"type\":\"LinearAxis\"}],\"plot_height\":400,\"plot_width\":400,\"renderers\":[{\"id\":\"96faa6e4-238e-4e62-bf4e-608089e47222\",\"type\":\"LinearAxis\"},{\"id\":\"0bdf50a5-cf34-4fed-a181-cc06de312fee\",\"type\":\"Grid\"},{\"id\":\"c0de1a14-fe62-4086-869e-803487016008\",\"type\":\"LinearAxis\"},{\"id\":\"fa7411d7-4569-4667-9e80-0bd5c4107202\",\"type\":\"Grid\"},{\"id\":\"986ff2c6-16b8-4662-acd2-b9646aa1904f\",\"type\":\"BoxAnnotation\"},{\"id\":\"137ff452-417e-4a57-8965-b7e15f427537\",\"type\":\"GlyphRenderer\"}],\"title\":{\"id\":\"09609e33-939e-4063-829e-6ef5fa731632\",\"type\":\"Title\"},\"toolbar\":{\"id\":\"d9db3283-2edf-4529-9388-5fd7523aa218\",\"type\":\"Toolbar\"},\"toolbar_location\":null,\"x_range\":{\"id\":\"ba907860-99f3-42ec-8d06-4e28d70bbe65\",\"type\":\"DataRange1d\"},\"x_scale\":{\"id\":\"6dc61ec3-e3d7-4be7-8514-e9cdb298e1fa\",\"type\":\"LinearScale\"},\"y_range\":{\"id\":\"97058f87-5741-454c-8231-071131b013eb\",\"type\":\"DataRange1d\"},\"y_scale\":{\"id\":\"5dbf2625-2a8d-4184-a2ee-5f291ad73ea7\",\"type\":\"LinearScale\"}},\"id\":\"f83ce13a-4e42-4c04-8a93-83acd112a55d\",\"subtype\":\"Figure\",\"type\":\"Plot\"},{\"attributes\":{\"children\":[{\"id\":\"f5adff8d-6377-4d5c-89fe-46f6486eacd2\",\"type\":\"ToolbarBox\"},{\"id\":\"9869d42e-d093-4791-8a98-460c51fdf59a\",\"type\":\"Column\"}]},\"id\":\"5d5204db-b383-4bcb-a82e-b600d6a02900\",\"type\":\"Column\"}],\"root_ids\":[\"5d5204db-b383-4bcb-a82e-b600d6a02900\"]},\"title\":\"Bokeh Application\",\"version\":\"0.12.13\"}};\n",
       "  var render_items = [{\"docid\":\"0cd06e46-e4a5-4960-bc36-2d2876290be4\",\"elementid\":\"52aaf246-1b21-4a02-9d52-5de4856d4905\",\"modelid\":\"5d5204db-b383-4bcb-a82e-b600d6a02900\"}];\n",
       "  root.Bokeh.embed.embed_items_notebook(docs_json, render_items);\n",
       "\n",
       "  }\n",
       "  if (root.Bokeh !== undefined) {\n",
       "    embed_document(root);\n",
       "  } else {\n",
       "    var attempts = 0;\n",
       "    var timer = setInterval(function(root) {\n",
       "      if (root.Bokeh !== undefined) {\n",
       "        embed_document(root);\n",
       "        clearInterval(timer);\n",
       "      }\n",
       "      attempts++;\n",
       "      if (attempts > 100) {\n",
       "        console.log(\"Bokeh: ERROR: Unable to run BokehJS code because BokehJS library is missing\")\n",
       "        clearInterval(timer);\n",
       "      }\n",
       "    }, 10, root)\n",
       "  }\n",
       "})(window);"
      ],
      "application/vnd.bokehjs_exec.v0+json": ""
     },
     "metadata": {
      "application/vnd.bokehjs_exec.v0+json": {
       "id": "5d5204db-b383-4bcb-a82e-b600d6a02900"
      }
     },
     "output_type": "display_data"
    }
   ],
   "source": [
    "t = 'badLocal-null'\n",
    "w = cases[t]\n",
    "mp = list(map(lambda x:x['before'],w))\n",
    "p = figure(plot_width=400, plot_height=400,title = 'Asummetry in '+t + ' :No Correction',y_axis_label = \"Distribution\",x_axis_label = \"Difference(abs)\")\n",
    "q1,q2 = np.percentile(mp,[0,100])\n",
    "measured = [xx for xx in mp if (xx>q1 and xx<q2)]\n",
    "hist, edges = np.histogram(measured, density=True, bins=50)\n",
    "p.quad(top=hist, bottom=0, left=edges[:-1], right=edges[1:],fill_color=\"#036564\", line_color=\"#033649\")\n",
    "\n",
    "mp = list(map(lambda x:x['after'],w))\n",
    "p1 = figure(plot_width=400, plot_height=400,title = 'Asummetry in '+t + ' :with Correction',y_axis_label = \"Distribution\",x_axis_label = \"Difference(abs)\")\n",
    "q1,q2 = np.percentile(mp,[0,100])\n",
    "measured = [xx for xx in mp if (xx>q1 and xx<q2)]\n",
    "hist, edges = np.histogram(measured, density=True, bins=50)\n",
    "p1.quad(top=hist, bottom=0, left=edges[:-1], right=edges[1:],fill_color=\"#036564\", line_color=\"#033649\")\n",
    "grid = gridplot([[p, p1]])\n",
    "show (grid)"
   ]
  },
  {
   "cell_type": "code",
   "execution_count": 55,
   "metadata": {},
   "outputs": [
    {
     "data": {
      "text/html": [
       "\n",
       "<div class=\"bk-root\">\n",
       "    <div class=\"bk-plotdiv\" id=\"c6ecb56e-e647-482a-b1d1-5bd74134a24d\"></div>\n",
       "</div>"
      ]
     },
     "metadata": {},
     "output_type": "display_data"
    },
    {
     "data": {
      "application/javascript": [
       "(function(root) {\n",
       "  function embed_document(root) {\n",
       "    \n",
       "  var docs_json = {\"38e6afdd-0958-429d-a137-77d54f88a2ee\":{\"roots\":{\"references\":[{\"attributes\":{\"children\":[{\"id\":\"1463d9a4-e0f7-4fa4-8a7b-37fa2dc4dfb9\",\"subtype\":\"Figure\",\"type\":\"Plot\"},{\"id\":\"ad5a7a94-512f-48ae-9ec6-554c6d43a7f8\",\"subtype\":\"Figure\",\"type\":\"Plot\"}]},\"id\":\"ffeda2ac-ee02-4141-b3dc-56d5ab249d68\",\"type\":\"Row\"},{\"attributes\":{\"dimension\":1,\"plot\":{\"id\":\"ad5a7a94-512f-48ae-9ec6-554c6d43a7f8\",\"subtype\":\"Figure\",\"type\":\"Plot\"},\"ticker\":{\"id\":\"c729942b-1588-4d4f-9470-81e71d561d4b\",\"type\":\"BasicTicker\"}},\"id\":\"d1bc340c-7bdb-4c53-9d44-cd35d5d5f12b\",\"type\":\"Grid\"},{\"attributes\":{},\"id\":\"b95238a8-5854-49c1-8ff1-b14ad427cc83\",\"type\":\"BasicTicker\"},{\"attributes\":{},\"id\":\"9187552c-5cc9-4475-992f-82665283db3f\",\"type\":\"WheelZoomTool\"},{\"attributes\":{\"callback\":null},\"id\":\"d7cb84b2-f0e0-4e94-b19f-fd2aebedca4a\",\"type\":\"DataRange1d\"},{\"attributes\":{\"bottom\":{\"value\":0},\"fill_color\":{\"value\":\"#036564\"},\"left\":{\"field\":\"left\"},\"line_color\":{\"value\":\"#033649\"},\"right\":{\"field\":\"right\"},\"top\":{\"field\":\"top\"}},\"id\":\"f8df75f0-0cf7-41fb-ab10-4dae35ce43c2\",\"type\":\"Quad\"},{\"attributes\":{},\"id\":\"c729942b-1588-4d4f-9470-81e71d561d4b\",\"type\":\"BasicTicker\"},{\"attributes\":{\"callback\":null,\"column_names\":[\"left\",\"right\",\"top\"],\"data\":{\"left\":{\"__ndarray__\":\"ACVXALkFlj+vRc4ftRu5Pw9hw//9WsY/o8/PtxAU0D+/7r1vovrUP9sNrCc04dk/9iya38XH3j8JJsTLK9fhP5c1u6d0SuQ/JUWyg7295j+zVKlfBjHpP0FkoDtPpOs/znOXF5gX7j+uQcd5cEXwP3XJwucUf/E/PFG+Vbm48j8D2bnDXfLzP8pgtTECLPU/keiwn6Zl9j9YcKwNS5/3Px/4p3vv2Pg/5n+j6ZMS+j+tB59XOEz7P3SPmsXchfw/OheWM4G//T8Bn5GhJfn+P2STxgdlGQBASFfEPje2AEArG8J1CVMBQA/fv6zb7wFA8qK9462MAkDWZrsagCkDQLkquVFSxgNAnO62iCRjBECAsrS/9v8EQGN2svbInAVARzqwLZs5BkAq/q1kbdYGQA7Cq5s/cwdA8YWp0hEQCEDVSacJ5KwIQLgNpUC2SQlAnNGid4jmCUB/laCuWoMKQGNZnuUsIAtARh2cHP+8C0Aq4ZlT0VkMQA2ll4qj9gxA8GiVwXWTDUDULJP4RzAOQA==\",\"dtype\":\"float64\",\"shape\":[50]},\"right\":{\"__ndarray__\":\"r0XOH7UbuT8PYcP//VrGP6PPz7cQFNA/v+69b6L61D/bDawnNOHZP/Ysmt/Fx94/CSbEyyvX4T+XNbundErkPyVFsoO9veY/s1SpXwYx6T9BZKA7T6TrP85zlxeYF+4/rkHHeXBF8D91ycLnFH/xPzxRvlW5uPI/A9m5w13y8z/KYLUxAiz1P5HosJ+mZfY/WHCsDUuf9z8f+Kd779j4P+Z/o+mTEvo/rQefVzhM+z90j5rF3IX8PzoXljOBv/0/AZ+RoSX5/j9kk8YHZRkAQEhXxD43tgBAKxvCdQlTAUAP37+s2+8BQPKiveOtjAJA1ma7GoApA0C5KrlRUsYDQJzutogkYwRAgLK0v/b/BEBjdrL2yJwFQEc6sC2bOQZAKv6tZG3WBkAOwqubP3MHQPGFqdIREAhA1UmnCeSsCEC4DaVAtkkJQJzRoneI5glAf5WgrlqDCkBjWZ7lLCALQEYdnBz/vAtAKuGZU9FZDEANpZeKo/YMQPBolcF1kw1A1CyT+EcwDkC48JAvGs0OQA==\",\"dtype\":\"float64\",\"shape\":[50]},\"top\":{\"__ndarray__\":\"NznWVFrpwD9tmxuSGyDNPwL3cJffFdk/CkbIa7SW2j8PgitK0v3IPztJxpT9Gus/vLeS1l1c1j9+tBf0+QnSPwo+0MvifQVAQjZPWGHPuz/vlCXNU3vUPwa7DbnBrto/sZGq6u8o0D+KsZD3APC8P0abIR/mg/U/u+ABv8SpwT8Tvo4o8GTXPzqFKXMbguk/0izSlqAQvj+pxwVd5r/MP2TaBW0yoeA/LMEPmB4bxD+74AG/xKmxP9oG6qoy3dc/sZGq6u8owD9WJtzR2GvVP9uBMdecYdE/Tef3g4xOqj8vX75AyBzHP+3NBzxDLMY/6wzsiY9JsT9jT0u6P7nAP60A6MvVcL4/O9eE/QPrsz9+xIp6gm24Pz/U/QAL0b4/3916wsuPrD+dP8wZIo6pPwYN7ImPSbE/eQNvyM6Koz9BmKCvt82oPwb68QYOzKU/sKEdcXiMlj9mZcAfJYmQP7zwdEVNDZg/glLGnKMLhT/qLNKWoBCeP420F/T5CZI/sN16wsuPnD9vtBf0+QmSPw==\",\"dtype\":\"float64\",\"shape\":[50]}}},\"id\":\"d04b14e0-2e1e-4266-9b6d-63db83135d6d\",\"type\":\"ColumnDataSource\"},{\"attributes\":{\"overlay\":{\"id\":\"ae206aa1-bc35-46db-a1fc-7b6a20abb433\",\"type\":\"BoxAnnotation\"}},\"id\":\"d61df37b-6c4e-4695-9145-e60603a981c7\",\"type\":\"BoxZoomTool\"},{\"attributes\":{},\"id\":\"d4cfbd47-ba4a-4a74-95e4-5940801ffe2b\",\"type\":\"SaveTool\"},{\"attributes\":{\"bottom_units\":\"screen\",\"fill_alpha\":{\"value\":0.5},\"fill_color\":{\"value\":\"lightgrey\"},\"left_units\":\"screen\",\"level\":\"overlay\",\"line_alpha\":{\"value\":1.0},\"line_color\":{\"value\":\"black\"},\"line_dash\":[4,4],\"line_width\":{\"value\":2},\"plot\":null,\"render_mode\":\"css\",\"right_units\":\"screen\",\"top_units\":\"screen\"},\"id\":\"55989aa5-c43b-4a29-b260-766bb454bdb0\",\"type\":\"BoxAnnotation\"},{\"attributes\":{\"callback\":null},\"id\":\"ba736dba-a1c3-4a5e-8b2a-457df0cdb782\",\"type\":\"DataRange1d\"},{\"attributes\":{},\"id\":\"92c12b08-8cc5-456c-9151-cf31a446f780\",\"type\":\"BasicTickFormatter\"},{\"attributes\":{\"overlay\":{\"id\":\"55989aa5-c43b-4a29-b260-766bb454bdb0\",\"type\":\"BoxAnnotation\"}},\"id\":\"96e7e4c7-bc34-4059-a768-1f23060230b6\",\"type\":\"BoxZoomTool\"},{\"attributes\":{\"bottom_units\":\"screen\",\"fill_alpha\":{\"value\":0.5},\"fill_color\":{\"value\":\"lightgrey\"},\"left_units\":\"screen\",\"level\":\"overlay\",\"line_alpha\":{\"value\":1.0},\"line_color\":{\"value\":\"black\"},\"line_dash\":[4,4],\"line_width\":{\"value\":2},\"plot\":null,\"render_mode\":\"css\",\"right_units\":\"screen\",\"top_units\":\"screen\"},\"id\":\"ae206aa1-bc35-46db-a1fc-7b6a20abb433\",\"type\":\"BoxAnnotation\"},{\"attributes\":{\"axis_label\":\"Difference(abs)\",\"formatter\":{\"id\":\"92c12b08-8cc5-456c-9151-cf31a446f780\",\"type\":\"BasicTickFormatter\"},\"plot\":{\"id\":\"ad5a7a94-512f-48ae-9ec6-554c6d43a7f8\",\"subtype\":\"Figure\",\"type\":\"Plot\"},\"ticker\":{\"id\":\"50111b1b-1409-4a68-bf42-a2184a53205f\",\"type\":\"BasicTicker\"}},\"id\":\"46d62a31-f1a6-44b7-a441-81112769290a\",\"type\":\"LinearAxis\"},{\"attributes\":{},\"id\":\"9dcbe96a-4127-4ae2-9bb7-089295b0116b\",\"type\":\"PanTool\"},{\"attributes\":{\"active_drag\":\"auto\",\"active_inspect\":\"auto\",\"active_scroll\":\"auto\",\"active_tap\":\"auto\",\"tools\":[{\"id\":\"9dcbe96a-4127-4ae2-9bb7-089295b0116b\",\"type\":\"PanTool\"},{\"id\":\"9187552c-5cc9-4475-992f-82665283db3f\",\"type\":\"WheelZoomTool\"},{\"id\":\"d61df37b-6c4e-4695-9145-e60603a981c7\",\"type\":\"BoxZoomTool\"},{\"id\":\"d4cfbd47-ba4a-4a74-95e4-5940801ffe2b\",\"type\":\"SaveTool\"},{\"id\":\"e11d1e0b-f223-4279-a0b1-33ef763ecb07\",\"type\":\"ResetTool\"},{\"id\":\"c4eff67c-c8c5-47a9-9bc1-9fa544e87c20\",\"type\":\"HelpTool\"}]},\"id\":\"f2ef35cb-a8fd-4334-b2c5-cf4dc45eac99\",\"type\":\"Toolbar\"},{\"attributes\":{\"source\":{\"id\":\"d04b14e0-2e1e-4266-9b6d-63db83135d6d\",\"type\":\"ColumnDataSource\"}},\"id\":\"b79066fa-05fa-4017-bba6-96f79225e10a\",\"type\":\"CDSView\"},{\"attributes\":{},\"id\":\"f8ae3be3-9d27-4bff-9417-5aa19fd4af75\",\"type\":\"LinearScale\"},{\"attributes\":{\"below\":[{\"id\":\"bec1f4b1-a8a6-4e97-abb5-0b0a08d0dff0\",\"type\":\"LinearAxis\"}],\"left\":[{\"id\":\"78821452-7bf6-412b-93b3-6e7f9c455995\",\"type\":\"LinearAxis\"}],\"plot_height\":400,\"plot_width\":400,\"renderers\":[{\"id\":\"bec1f4b1-a8a6-4e97-abb5-0b0a08d0dff0\",\"type\":\"LinearAxis\"},{\"id\":\"ea2989b9-26d9-41c5-80c2-54338091e0e6\",\"type\":\"Grid\"},{\"id\":\"78821452-7bf6-412b-93b3-6e7f9c455995\",\"type\":\"LinearAxis\"},{\"id\":\"b6a9ebb3-f972-4c6d-8295-3f07b5a76675\",\"type\":\"Grid\"},{\"id\":\"55989aa5-c43b-4a29-b260-766bb454bdb0\",\"type\":\"BoxAnnotation\"},{\"id\":\"e2a2a7d0-2b94-4764-be97-470999022d67\",\"type\":\"GlyphRenderer\"}],\"title\":{\"id\":\"153ee15e-5538-4f76-a69e-ba1969dc11ad\",\"type\":\"Title\"},\"toolbar\":{\"id\":\"213670de-4cdc-4281-9455-8ee0d17297e9\",\"type\":\"Toolbar\"},\"toolbar_location\":null,\"x_range\":{\"id\":\"ba736dba-a1c3-4a5e-8b2a-457df0cdb782\",\"type\":\"DataRange1d\"},\"x_scale\":{\"id\":\"91f81fae-2711-4561-a476-f358a433e8a2\",\"type\":\"LinearScale\"},\"y_range\":{\"id\":\"7b481254-2d4e-48dd-8f18-246c656191a9\",\"type\":\"DataRange1d\"},\"y_scale\":{\"id\":\"e948d509-851b-41c7-97fd-de7cb5c8852b\",\"type\":\"LinearScale\"}},\"id\":\"1463d9a4-e0f7-4fa4-8a7b-37fa2dc4dfb9\",\"subtype\":\"Figure\",\"type\":\"Plot\"},{\"attributes\":{\"axis_label\":\"Distribution\",\"formatter\":{\"id\":\"c5ba9c0f-8ea8-4187-b05a-fb96dcd62395\",\"type\":\"BasicTickFormatter\"},\"plot\":{\"id\":\"ad5a7a94-512f-48ae-9ec6-554c6d43a7f8\",\"subtype\":\"Figure\",\"type\":\"Plot\"},\"ticker\":{\"id\":\"c729942b-1588-4d4f-9470-81e71d561d4b\",\"type\":\"BasicTicker\"}},\"id\":\"c1572451-6f26-41bf-8cb7-59ce9f96f138\",\"type\":\"LinearAxis\"},{\"attributes\":{},\"id\":\"c3ca86a8-67e7-47b7-99d2-356c6623c6bf\",\"type\":\"WheelZoomTool\"},{\"attributes\":{\"bottom\":{\"value\":0},\"fill_alpha\":{\"value\":0.1},\"fill_color\":{\"value\":\"#1f77b4\"},\"left\":{\"field\":\"left\"},\"line_alpha\":{\"value\":0.1},\"line_color\":{\"value\":\"#1f77b4\"},\"right\":{\"field\":\"right\"},\"top\":{\"field\":\"top\"}},\"id\":\"3d9ec081-c7c3-4779-ac63-2b90e5c01c86\",\"type\":\"Quad\"},{\"attributes\":{\"plot\":{\"id\":\"1463d9a4-e0f7-4fa4-8a7b-37fa2dc4dfb9\",\"subtype\":\"Figure\",\"type\":\"Plot\"},\"ticker\":{\"id\":\"2f47f514-a3e7-4edc-a4f5-258bce1948bd\",\"type\":\"BasicTicker\"}},\"id\":\"ea2989b9-26d9-41c5-80c2-54338091e0e6\",\"type\":\"Grid\"},{\"attributes\":{\"data_source\":{\"id\":\"d04b14e0-2e1e-4266-9b6d-63db83135d6d\",\"type\":\"ColumnDataSource\"},\"glyph\":{\"id\":\"f8df75f0-0cf7-41fb-ab10-4dae35ce43c2\",\"type\":\"Quad\"},\"hover_glyph\":null,\"muted_glyph\":null,\"nonselection_glyph\":{\"id\":\"3d9ec081-c7c3-4779-ac63-2b90e5c01c86\",\"type\":\"Quad\"},\"selection_glyph\":null,\"view\":{\"id\":\"b79066fa-05fa-4017-bba6-96f79225e10a\",\"type\":\"CDSView\"}},\"id\":\"e2f78feb-10d5-4cc9-ba9c-a0d26f8279cb\",\"type\":\"GlyphRenderer\"},{\"attributes\":{\"callback\":null},\"id\":\"d9b30654-601d-4b6b-828b-ab41ad35ef56\",\"type\":\"DataRange1d\"},{\"attributes\":{\"plot\":{\"id\":\"ad5a7a94-512f-48ae-9ec6-554c6d43a7f8\",\"subtype\":\"Figure\",\"type\":\"Plot\"},\"ticker\":{\"id\":\"50111b1b-1409-4a68-bf42-a2184a53205f\",\"type\":\"BasicTicker\"}},\"id\":\"86a6923d-5014-4fca-8841-0a48da0bc17a\",\"type\":\"Grid\"},{\"attributes\":{},\"id\":\"c4eff67c-c8c5-47a9-9bc1-9fa544e87c20\",\"type\":\"HelpTool\"},{\"attributes\":{\"plot\":null,\"text\":\"Asummetry in null-null :with Correction\"},\"id\":\"82d7dbcb-a56a-401e-9b92-40e15d73d5d3\",\"type\":\"Title\"},{\"attributes\":{},\"id\":\"a6ba67b1-01d7-416b-9821-5fb515b5ff76\",\"type\":\"SaveTool\"},{\"attributes\":{\"data_source\":{\"id\":\"18c572dd-0f54-42b0-ad89-b845ebd6f543\",\"type\":\"ColumnDataSource\"},\"glyph\":{\"id\":\"62b9fe42-f33a-4d3a-9b44-08cb16ef7d8d\",\"type\":\"Quad\"},\"hover_glyph\":null,\"muted_glyph\":null,\"nonselection_glyph\":{\"id\":\"f1d8e54b-6f1c-4df3-8c80-64c18787f80d\",\"type\":\"Quad\"},\"selection_glyph\":null,\"view\":{\"id\":\"121ed55a-3686-44c1-ad4b-23c0dcb576be\",\"type\":\"CDSView\"}},\"id\":\"e2a2a7d0-2b94-4764-be97-470999022d67\",\"type\":\"GlyphRenderer\"},{\"attributes\":{},\"id\":\"e948d509-851b-41c7-97fd-de7cb5c8852b\",\"type\":\"LinearScale\"},{\"attributes\":{\"bottom\":{\"value\":0},\"fill_alpha\":{\"value\":0.1},\"fill_color\":{\"value\":\"#1f77b4\"},\"left\":{\"field\":\"left\"},\"line_alpha\":{\"value\":0.1},\"line_color\":{\"value\":\"#1f77b4\"},\"right\":{\"field\":\"right\"},\"top\":{\"field\":\"top\"}},\"id\":\"f1d8e54b-6f1c-4df3-8c80-64c18787f80d\",\"type\":\"Quad\"},{\"attributes\":{\"children\":[{\"id\":\"ffeda2ac-ee02-4141-b3dc-56d5ab249d68\",\"type\":\"Row\"}]},\"id\":\"a8c3a165-d38c-4993-a7de-d15938843166\",\"type\":\"Column\"},{\"attributes\":{\"below\":[{\"id\":\"46d62a31-f1a6-44b7-a441-81112769290a\",\"type\":\"LinearAxis\"}],\"left\":[{\"id\":\"c1572451-6f26-41bf-8cb7-59ce9f96f138\",\"type\":\"LinearAxis\"}],\"plot_height\":400,\"plot_width\":400,\"renderers\":[{\"id\":\"46d62a31-f1a6-44b7-a441-81112769290a\",\"type\":\"LinearAxis\"},{\"id\":\"86a6923d-5014-4fca-8841-0a48da0bc17a\",\"type\":\"Grid\"},{\"id\":\"c1572451-6f26-41bf-8cb7-59ce9f96f138\",\"type\":\"LinearAxis\"},{\"id\":\"d1bc340c-7bdb-4c53-9d44-cd35d5d5f12b\",\"type\":\"Grid\"},{\"id\":\"ae206aa1-bc35-46db-a1fc-7b6a20abb433\",\"type\":\"BoxAnnotation\"},{\"id\":\"e2f78feb-10d5-4cc9-ba9c-a0d26f8279cb\",\"type\":\"GlyphRenderer\"}],\"title\":{\"id\":\"82d7dbcb-a56a-401e-9b92-40e15d73d5d3\",\"type\":\"Title\"},\"toolbar\":{\"id\":\"f2ef35cb-a8fd-4334-b2c5-cf4dc45eac99\",\"type\":\"Toolbar\"},\"toolbar_location\":null,\"x_range\":{\"id\":\"d7cb84b2-f0e0-4e94-b19f-fd2aebedca4a\",\"type\":\"DataRange1d\"},\"x_scale\":{\"id\":\"dc6f8789-f159-474c-ba32-61255c521704\",\"type\":\"LinearScale\"},\"y_range\":{\"id\":\"d9b30654-601d-4b6b-828b-ab41ad35ef56\",\"type\":\"DataRange1d\"},\"y_scale\":{\"id\":\"f8ae3be3-9d27-4bff-9417-5aa19fd4af75\",\"type\":\"LinearScale\"}},\"id\":\"ad5a7a94-512f-48ae-9ec6-554c6d43a7f8\",\"subtype\":\"Figure\",\"type\":\"Plot\"},{\"attributes\":{\"plot\":null,\"text\":\"Asummetry in null-null :No Correction\"},\"id\":\"153ee15e-5538-4f76-a69e-ba1969dc11ad\",\"type\":\"Title\"},{\"attributes\":{},\"id\":\"c2bcf1dd-4004-455f-bb3f-f1d0b7b3b7ee\",\"type\":\"HelpTool\"},{\"attributes\":{\"tools\":[{\"id\":\"f3cb8c9f-3d5f-4cde-9464-6ae52239f794\",\"type\":\"PanTool\"},{\"id\":\"c3ca86a8-67e7-47b7-99d2-356c6623c6bf\",\"type\":\"WheelZoomTool\"},{\"id\":\"96e7e4c7-bc34-4059-a768-1f23060230b6\",\"type\":\"BoxZoomTool\"},{\"id\":\"a6ba67b1-01d7-416b-9821-5fb515b5ff76\",\"type\":\"SaveTool\"},{\"id\":\"d705e7c6-7546-4d9a-bde9-88996353fb1e\",\"type\":\"ResetTool\"},{\"id\":\"c2bcf1dd-4004-455f-bb3f-f1d0b7b3b7ee\",\"type\":\"HelpTool\"},{\"id\":\"9dcbe96a-4127-4ae2-9bb7-089295b0116b\",\"type\":\"PanTool\"},{\"id\":\"9187552c-5cc9-4475-992f-82665283db3f\",\"type\":\"WheelZoomTool\"},{\"id\":\"d61df37b-6c4e-4695-9145-e60603a981c7\",\"type\":\"BoxZoomTool\"},{\"id\":\"d4cfbd47-ba4a-4a74-95e4-5940801ffe2b\",\"type\":\"SaveTool\"},{\"id\":\"e11d1e0b-f223-4279-a0b1-33ef763ecb07\",\"type\":\"ResetTool\"},{\"id\":\"c4eff67c-c8c5-47a9-9bc1-9fa544e87c20\",\"type\":\"HelpTool\"}]},\"id\":\"c687e64c-896a-429f-a14f-383ce0e3f0b9\",\"type\":\"ProxyToolbar\"},{\"attributes\":{},\"id\":\"d705e7c6-7546-4d9a-bde9-88996353fb1e\",\"type\":\"ResetTool\"},{\"attributes\":{\"axis_label\":\"Difference(abs)\",\"formatter\":{\"id\":\"ee5961bb-8a3b-4c98-af0d-0de5d1434ed4\",\"type\":\"BasicTickFormatter\"},\"plot\":{\"id\":\"1463d9a4-e0f7-4fa4-8a7b-37fa2dc4dfb9\",\"subtype\":\"Figure\",\"type\":\"Plot\"},\"ticker\":{\"id\":\"2f47f514-a3e7-4edc-a4f5-258bce1948bd\",\"type\":\"BasicTicker\"}},\"id\":\"bec1f4b1-a8a6-4e97-abb5-0b0a08d0dff0\",\"type\":\"LinearAxis\"},{\"attributes\":{},\"id\":\"50111b1b-1409-4a68-bf42-a2184a53205f\",\"type\":\"BasicTicker\"},{\"attributes\":{},\"id\":\"c5ba9c0f-8ea8-4187-b05a-fb96dcd62395\",\"type\":\"BasicTickFormatter\"},{\"attributes\":{\"active_drag\":\"auto\",\"active_inspect\":\"auto\",\"active_scroll\":\"auto\",\"active_tap\":\"auto\",\"tools\":[{\"id\":\"f3cb8c9f-3d5f-4cde-9464-6ae52239f794\",\"type\":\"PanTool\"},{\"id\":\"c3ca86a8-67e7-47b7-99d2-356c6623c6bf\",\"type\":\"WheelZoomTool\"},{\"id\":\"96e7e4c7-bc34-4059-a768-1f23060230b6\",\"type\":\"BoxZoomTool\"},{\"id\":\"a6ba67b1-01d7-416b-9821-5fb515b5ff76\",\"type\":\"SaveTool\"},{\"id\":\"d705e7c6-7546-4d9a-bde9-88996353fb1e\",\"type\":\"ResetTool\"},{\"id\":\"c2bcf1dd-4004-455f-bb3f-f1d0b7b3b7ee\",\"type\":\"HelpTool\"}]},\"id\":\"213670de-4cdc-4281-9455-8ee0d17297e9\",\"type\":\"Toolbar\"},{\"attributes\":{},\"id\":\"dc6f8789-f159-474c-ba32-61255c521704\",\"type\":\"LinearScale\"},{\"attributes\":{\"axis_label\":\"Distribution\",\"formatter\":{\"id\":\"aa4316dd-4892-4f62-916b-beab5a7f0ff8\",\"type\":\"BasicTickFormatter\"},\"plot\":{\"id\":\"1463d9a4-e0f7-4fa4-8a7b-37fa2dc4dfb9\",\"subtype\":\"Figure\",\"type\":\"Plot\"},\"ticker\":{\"id\":\"b95238a8-5854-49c1-8ff1-b14ad427cc83\",\"type\":\"BasicTicker\"}},\"id\":\"78821452-7bf6-412b-93b3-6e7f9c455995\",\"type\":\"LinearAxis\"},{\"attributes\":{\"callback\":null},\"id\":\"7b481254-2d4e-48dd-8f18-246c656191a9\",\"type\":\"DataRange1d\"},{\"attributes\":{},\"id\":\"ee5961bb-8a3b-4c98-af0d-0de5d1434ed4\",\"type\":\"BasicTickFormatter\"},{\"attributes\":{},\"id\":\"e11d1e0b-f223-4279-a0b1-33ef763ecb07\",\"type\":\"ResetTool\"},{\"attributes\":{},\"id\":\"2f47f514-a3e7-4edc-a4f5-258bce1948bd\",\"type\":\"BasicTicker\"},{\"attributes\":{\"toolbar\":{\"id\":\"c687e64c-896a-429f-a14f-383ce0e3f0b9\",\"type\":\"ProxyToolbar\"},\"toolbar_location\":\"above\"},\"id\":\"e406591d-9e16-4a49-bf76-63f2266998b4\",\"type\":\"ToolbarBox\"},{\"attributes\":{},\"id\":\"aa4316dd-4892-4f62-916b-beab5a7f0ff8\",\"type\":\"BasicTickFormatter\"},{\"attributes\":{},\"id\":\"91f81fae-2711-4561-a476-f358a433e8a2\",\"type\":\"LinearScale\"},{\"attributes\":{\"children\":[{\"id\":\"e406591d-9e16-4a49-bf76-63f2266998b4\",\"type\":\"ToolbarBox\"},{\"id\":\"a8c3a165-d38c-4993-a7de-d15938843166\",\"type\":\"Column\"}]},\"id\":\"3dbf7c2a-baa1-4bd8-bf62-7715ce2b1396\",\"type\":\"Column\"},{\"attributes\":{\"dimension\":1,\"plot\":{\"id\":\"1463d9a4-e0f7-4fa4-8a7b-37fa2dc4dfb9\",\"subtype\":\"Figure\",\"type\":\"Plot\"},\"ticker\":{\"id\":\"b95238a8-5854-49c1-8ff1-b14ad427cc83\",\"type\":\"BasicTicker\"}},\"id\":\"b6a9ebb3-f972-4c6d-8295-3f07b5a76675\",\"type\":\"Grid\"},{\"attributes\":{\"bottom\":{\"value\":0},\"fill_color\":{\"value\":\"#036564\"},\"left\":{\"field\":\"left\"},\"line_color\":{\"value\":\"#033649\"},\"right\":{\"field\":\"right\"},\"top\":{\"field\":\"top\"}},\"id\":\"62b9fe42-f33a-4d3a-9b44-08cb16ef7d8d\",\"type\":\"Quad\"},{\"attributes\":{},\"id\":\"f3cb8c9f-3d5f-4cde-9464-6ae52239f794\",\"type\":\"PanTool\"},{\"attributes\":{\"callback\":null,\"column_names\":[\"left\",\"right\",\"top\"],\"data\":{\"left\":{\"__ndarray__\":\"ACVXALkFlj+vRc4ftRu5Pw9hw//9WsY/o8/PtxAU0D+/7r1vovrUP9sNrCc04dk/9iya38XH3j8JJsTLK9fhP5c1u6d0SuQ/JUWyg7295j+zVKlfBjHpP0FkoDtPpOs/znOXF5gX7j+uQcd5cEXwP3XJwucUf/E/PFG+Vbm48j8D2bnDXfLzP8pgtTECLPU/keiwn6Zl9j9YcKwNS5/3Px/4p3vv2Pg/5n+j6ZMS+j+tB59XOEz7P3SPmsXchfw/OheWM4G//T8Bn5GhJfn+P2STxgdlGQBASFfEPje2AEArG8J1CVMBQA/fv6zb7wFA8qK9462MAkDWZrsagCkDQLkquVFSxgNAnO62iCRjBECAsrS/9v8EQGN2svbInAVARzqwLZs5BkAq/q1kbdYGQA7Cq5s/cwdA8YWp0hEQCEDVSacJ5KwIQLgNpUC2SQlAnNGid4jmCUB/laCuWoMKQGNZnuUsIAtARh2cHP+8C0Aq4ZlT0VkMQA2ll4qj9gxA8GiVwXWTDUDULJP4RzAOQA==\",\"dtype\":\"float64\",\"shape\":[50]},\"right\":{\"__ndarray__\":\"r0XOH7UbuT8PYcP//VrGP6PPz7cQFNA/v+69b6L61D/bDawnNOHZP/Ysmt/Fx94/CSbEyyvX4T+XNbundErkPyVFsoO9veY/s1SpXwYx6T9BZKA7T6TrP85zlxeYF+4/rkHHeXBF8D91ycLnFH/xPzxRvlW5uPI/A9m5w13y8z/KYLUxAiz1P5HosJ+mZfY/WHCsDUuf9z8f+Kd779j4P+Z/o+mTEvo/rQefVzhM+z90j5rF3IX8PzoXljOBv/0/AZ+RoSX5/j9kk8YHZRkAQEhXxD43tgBAKxvCdQlTAUAP37+s2+8BQPKiveOtjAJA1ma7GoApA0C5KrlRUsYDQJzutogkYwRAgLK0v/b/BEBjdrL2yJwFQEc6sC2bOQZAKv6tZG3WBkAOwqubP3MHQPGFqdIREAhA1UmnCeSsCEC4DaVAtkkJQJzRoneI5glAf5WgrlqDCkBjWZ7lLCALQEYdnBz/vAtAKuGZU9FZDEANpZeKo/YMQPBolcF1kw1A1CyT+EcwDkC48JAvGs0OQA==\",\"dtype\":\"float64\",\"shape\":[50]},\"top\":{\"__ndarray__\":\"NznWVFrpwD9tmxuSGyDNPwL3cJffFdk/CkbIa7SW2j8PgitK0v3IPztJxpT9Gus/vLeS1l1c1j9+tBf0+QnSPwo+0MvifQVAQjZPWGHPuz/vlCXNU3vUPwa7DbnBrto/sZGq6u8o0D+KsZD3APC8P0abIR/mg/U/u+ABv8SpwT8Tvo4o8GTXPzqFKXMbguk/0izSlqAQvj+pxwVd5r/MP2TaBW0yoeA/LMEPmB4bxD+74AG/xKmxP9oG6qoy3dc/sZGq6u8owD9WJtzR2GvVP9uBMdecYdE/Tef3g4xOqj8vX75AyBzHP+3NBzxDLMY/6wzsiY9JsT9jT0u6P7nAP60A6MvVcL4/O9eE/QPrsz9+xIp6gm24Pz/U/QAL0b4/3916wsuPrD+dP8wZIo6pPwYN7ImPSbE/eQNvyM6Koz9BmKCvt82oPwb68QYOzKU/sKEdcXiMlj9mZcAfJYmQP7zwdEVNDZg/glLGnKMLhT/qLNKWoBCeP420F/T5CZI/sN16wsuPnD9vtBf0+QmSPw==\",\"dtype\":\"float64\",\"shape\":[50]}}},\"id\":\"18c572dd-0f54-42b0-ad89-b845ebd6f543\",\"type\":\"ColumnDataSource\"},{\"attributes\":{\"source\":{\"id\":\"18c572dd-0f54-42b0-ad89-b845ebd6f543\",\"type\":\"ColumnDataSource\"}},\"id\":\"121ed55a-3686-44c1-ad4b-23c0dcb576be\",\"type\":\"CDSView\"}],\"root_ids\":[\"3dbf7c2a-baa1-4bd8-bf62-7715ce2b1396\"]},\"title\":\"Bokeh Application\",\"version\":\"0.12.13\"}};\n",
       "  var render_items = [{\"docid\":\"38e6afdd-0958-429d-a137-77d54f88a2ee\",\"elementid\":\"c6ecb56e-e647-482a-b1d1-5bd74134a24d\",\"modelid\":\"3dbf7c2a-baa1-4bd8-bf62-7715ce2b1396\"}];\n",
       "  root.Bokeh.embed.embed_items_notebook(docs_json, render_items);\n",
       "\n",
       "  }\n",
       "  if (root.Bokeh !== undefined) {\n",
       "    embed_document(root);\n",
       "  } else {\n",
       "    var attempts = 0;\n",
       "    var timer = setInterval(function(root) {\n",
       "      if (root.Bokeh !== undefined) {\n",
       "        embed_document(root);\n",
       "        clearInterval(timer);\n",
       "      }\n",
       "      attempts++;\n",
       "      if (attempts > 100) {\n",
       "        console.log(\"Bokeh: ERROR: Unable to run BokehJS code because BokehJS library is missing\")\n",
       "        clearInterval(timer);\n",
       "      }\n",
       "    }, 10, root)\n",
       "  }\n",
       "})(window);"
      ],
      "application/vnd.bokehjs_exec.v0+json": ""
     },
     "metadata": {
      "application/vnd.bokehjs_exec.v0+json": {
       "id": "3dbf7c2a-baa1-4bd8-bf62-7715ce2b1396"
      }
     },
     "output_type": "display_data"
    }
   ],
   "source": [
    "t = 'null-null'\n",
    "w = cases[t]\n",
    "mp = list(map(lambda x:x['before'],w))\n",
    "p = figure(plot_width=400, plot_height=400,title = 'Asummetry in '+t + ' :No Correction',y_axis_label = \"Distribution\",x_axis_label = \"Difference(abs)\")\n",
    "q1,q2 = np.percentile(mp,[0,100])\n",
    "measured = [xx for xx in mp if (xx>q1 and xx<q2)]\n",
    "hist, edges = np.histogram(measured, density=True, bins=50)\n",
    "p.quad(top=hist, bottom=0, left=edges[:-1], right=edges[1:],fill_color=\"#036564\", line_color=\"#033649\")\n",
    "\n",
    "mp = list(map(lambda x:x['after'],w))\n",
    "p1 = figure(plot_width=400, plot_height=400,title = 'Asummetry in '+t + ' :with Correction',y_axis_label = \"Distribution\",x_axis_label = \"Difference(abs)\")\n",
    "q1,q2 = np.percentile(mp,[0,100])\n",
    "measured = [xx for xx in mp if (xx>q1 and xx<q2)]\n",
    "hist, edges = np.histogram(measured, density=True, bins=50)\n",
    "p1.quad(top=hist, bottom=0, left=edges[:-1], right=edges[1:],fill_color=\"#036564\", line_color=\"#033649\")\n",
    "grid = gridplot([[p, p1]])\n",
    "show (grid)"
   ]
  },
  {
   "cell_type": "code",
   "execution_count": 60,
   "metadata": {},
   "outputs": [
    {
     "data": {
      "text/html": [
       "\n",
       "<div class=\"bk-root\">\n",
       "    <div class=\"bk-plotdiv\" id=\"dc58a3a7-437a-45c0-ae8b-e8128471befc\"></div>\n",
       "</div>"
      ]
     },
     "metadata": {},
     "output_type": "display_data"
    },
    {
     "data": {
      "application/javascript": [
       "(function(root) {\n",
       "  function embed_document(root) {\n",
       "    \n",
       "  var docs_json = {\"3b85a840-a5cf-49c3-b809-be0289529837\":{\"roots\":{\"references\":[{\"attributes\":{\"dimension\":1,\"plot\":{\"id\":\"8935a6df-6e57-42f9-b99a-d9e17eb7eed2\",\"subtype\":\"Figure\",\"type\":\"Plot\"},\"ticker\":{\"id\":\"096622b3-f1a0-4f48-88c9-84c00658a22c\",\"type\":\"BasicTicker\"}},\"id\":\"b0caf4d4-5223-4ccf-b6e0-f3e31959346d\",\"type\":\"Grid\"},{\"attributes\":{},\"id\":\"414970ae-1fce-4452-a005-1e7d6d3a9dcf\",\"type\":\"BasicTickFormatter\"},{\"attributes\":{\"overlay\":{\"id\":\"8e3f4889-dbc4-448e-ace8-1e7a4b150fc9\",\"type\":\"BoxAnnotation\"}},\"id\":\"1c458704-786b-4b62-8d86-34009e1caa0c\",\"type\":\"BoxZoomTool\"},{\"attributes\":{\"callback\":null},\"id\":\"5b26476f-d9dd-4470-b112-5d01f6c0f94a\",\"type\":\"DataRange1d\"},{\"attributes\":{},\"id\":\"d79b0ff7-399e-427a-95c9-213a57c7d5e3\",\"type\":\"BasicTickFormatter\"},{\"attributes\":{\"plot\":{\"id\":\"8935a6df-6e57-42f9-b99a-d9e17eb7eed2\",\"subtype\":\"Figure\",\"type\":\"Plot\"},\"ticker\":{\"id\":\"5259b31e-85a3-46fc-905c-dc85ca8b6cc4\",\"type\":\"BasicTicker\"}},\"id\":\"e97d0d5f-1f5e-4713-9bef-4293c6d5460c\",\"type\":\"Grid\"},{\"attributes\":{},\"id\":\"10aa709f-f234-4ebb-a5ac-b34fd5c0c007\",\"type\":\"BasicTickFormatter\"},{\"attributes\":{},\"id\":\"dabf6714-0068-4a02-b1f4-91dcf298123f\",\"type\":\"PanTool\"},{\"attributes\":{},\"id\":\"36bf1c17-e2aa-42be-a28c-5ffe1faf3420\",\"type\":\"ResetTool\"},{\"attributes\":{\"callback\":null},\"id\":\"fc63b49c-2d5c-4930-8c7a-35172613c758\",\"type\":\"DataRange1d\"},{\"attributes\":{},\"id\":\"84593ca3-9e34-4383-97c8-af95595bdc05\",\"type\":\"LinearScale\"},{\"attributes\":{\"axis_label\":\"Difference(abs)\",\"formatter\":{\"id\":\"c0b2704b-b915-4b42-8aac-93e0b6bacd78\",\"type\":\"BasicTickFormatter\"},\"plot\":{\"id\":\"8935a6df-6e57-42f9-b99a-d9e17eb7eed2\",\"subtype\":\"Figure\",\"type\":\"Plot\"},\"ticker\":{\"id\":\"5259b31e-85a3-46fc-905c-dc85ca8b6cc4\",\"type\":\"BasicTicker\"}},\"id\":\"70095aa2-a8f4-4a7f-a189-028f2f3feb07\",\"type\":\"LinearAxis\"},{\"attributes\":{\"dimension\":1,\"plot\":{\"id\":\"4b3c5f08-2f66-4809-ad0c-2ce9304f1eeb\",\"subtype\":\"Figure\",\"type\":\"Plot\"},\"ticker\":{\"id\":\"9d9851fa-b9d7-48ba-a973-b5c2b4765001\",\"type\":\"BasicTicker\"}},\"id\":\"2ef7caa8-e46d-4646-97ed-a21f25c197ff\",\"type\":\"Grid\"},{\"attributes\":{\"bottom\":{\"value\":0},\"fill_color\":{\"value\":\"#036564\"},\"left\":{\"field\":\"left\"},\"line_color\":{\"value\":\"#033649\"},\"right\":{\"field\":\"right\"},\"top\":{\"field\":\"top\"}},\"id\":\"fb3005e5-d59e-48c1-a030-acf3b50e6410\",\"type\":\"Quad\"},{\"attributes\":{\"bottom_units\":\"screen\",\"fill_alpha\":{\"value\":0.5},\"fill_color\":{\"value\":\"lightgrey\"},\"left_units\":\"screen\",\"level\":\"overlay\",\"line_alpha\":{\"value\":1.0},\"line_color\":{\"value\":\"black\"},\"line_dash\":[4,4],\"line_width\":{\"value\":2},\"plot\":null,\"render_mode\":\"css\",\"right_units\":\"screen\",\"top_units\":\"screen\"},\"id\":\"1b8bf6da-0d69-4ea1-aa93-ae7090acf375\",\"type\":\"BoxAnnotation\"},{\"attributes\":{},\"id\":\"a9de1a99-1750-41fc-a77c-ac7cf9207d2c\",\"type\":\"BasicTicker\"},{\"attributes\":{\"overlay\":{\"id\":\"1b8bf6da-0d69-4ea1-aa93-ae7090acf375\",\"type\":\"BoxAnnotation\"}},\"id\":\"326278af-abb9-45d7-9031-dd66dbed2373\",\"type\":\"BoxZoomTool\"},{\"attributes\":{},\"id\":\"26ad2ee9-d710-4b60-8149-a30abcefa653\",\"type\":\"ResetTool\"},{\"attributes\":{\"data_source\":{\"id\":\"29a98de4-6b86-40aa-841e-a84cfd28a3e2\",\"type\":\"ColumnDataSource\"},\"glyph\":{\"id\":\"500f246b-89f3-4886-8a36-43a91846a5a6\",\"type\":\"Quad\"},\"hover_glyph\":null,\"muted_glyph\":null,\"nonselection_glyph\":{\"id\":\"5d2df43d-16fa-4074-98cb-12af2e96bbcd\",\"type\":\"Quad\"},\"selection_glyph\":null,\"view\":{\"id\":\"53ddb3ec-8310-4de9-ad2d-ff3d186ac122\",\"type\":\"CDSView\"}},\"id\":\"21a59859-a52b-46ef-b1e0-549c35f6b669\",\"type\":\"GlyphRenderer\"},{\"attributes\":{},\"id\":\"59fb12b1-674f-41dd-8f04-c117b296b057\",\"type\":\"LinearScale\"},{\"attributes\":{\"data_source\":{\"id\":\"f4bae933-d73b-4628-a983-57b4e8257b2e\",\"type\":\"ColumnDataSource\"},\"glyph\":{\"id\":\"fb3005e5-d59e-48c1-a030-acf3b50e6410\",\"type\":\"Quad\"},\"hover_glyph\":null,\"muted_glyph\":null,\"nonselection_glyph\":{\"id\":\"fd0752cb-957b-4822-8f68-0473169feaa4\",\"type\":\"Quad\"},\"selection_glyph\":null,\"view\":{\"id\":\"c06e0d51-3583-40d1-8e79-28969fb94940\",\"type\":\"CDSView\"}},\"id\":\"36320b81-a3e2-4449-991b-38e7abc3ade0\",\"type\":\"GlyphRenderer\"},{\"attributes\":{},\"id\":\"096622b3-f1a0-4f48-88c9-84c00658a22c\",\"type\":\"BasicTicker\"},{\"attributes\":{\"source\":{\"id\":\"f4bae933-d73b-4628-a983-57b4e8257b2e\",\"type\":\"ColumnDataSource\"}},\"id\":\"c06e0d51-3583-40d1-8e79-28969fb94940\",\"type\":\"CDSView\"},{\"attributes\":{\"bottom\":{\"value\":0},\"fill_alpha\":{\"value\":0.1},\"fill_color\":{\"value\":\"#1f77b4\"},\"left\":{\"field\":\"left\"},\"line_alpha\":{\"value\":0.1},\"line_color\":{\"value\":\"#1f77b4\"},\"right\":{\"field\":\"right\"},\"top\":{\"field\":\"top\"}},\"id\":\"fd0752cb-957b-4822-8f68-0473169feaa4\",\"type\":\"Quad\"},{\"attributes\":{\"tools\":[{\"id\":\"dabf6714-0068-4a02-b1f4-91dcf298123f\",\"type\":\"PanTool\"},{\"id\":\"d158a394-b185-469d-85e7-2b8cd0f5409b\",\"type\":\"WheelZoomTool\"},{\"id\":\"1c458704-786b-4b62-8d86-34009e1caa0c\",\"type\":\"BoxZoomTool\"},{\"id\":\"a2ad9bd7-b738-4571-8caf-74ee4cc3c9c8\",\"type\":\"SaveTool\"},{\"id\":\"36bf1c17-e2aa-42be-a28c-5ffe1faf3420\",\"type\":\"ResetTool\"},{\"id\":\"b2e4fccd-d1b4-490c-96dd-da6c93bc559a\",\"type\":\"HelpTool\"},{\"id\":\"d3d147a2-aa80-4caf-a725-fd314c4d4c6f\",\"type\":\"PanTool\"},{\"id\":\"c1489f2d-43c1-4bf5-9773-111e858b46e2\",\"type\":\"WheelZoomTool\"},{\"id\":\"326278af-abb9-45d7-9031-dd66dbed2373\",\"type\":\"BoxZoomTool\"},{\"id\":\"233e25a8-cad9-4436-9e5c-25191f367081\",\"type\":\"SaveTool\"},{\"id\":\"26ad2ee9-d710-4b60-8149-a30abcefa653\",\"type\":\"ResetTool\"},{\"id\":\"12f56e55-5706-43b2-9056-cd4c85a022a9\",\"type\":\"HelpTool\"}]},\"id\":\"05c184eb-66f6-4e39-8f2c-8d7c35162b07\",\"type\":\"ProxyToolbar\"},{\"attributes\":{},\"id\":\"d158a394-b185-469d-85e7-2b8cd0f5409b\",\"type\":\"WheelZoomTool\"},{\"attributes\":{\"plot\":null,\"text\":\"Asymmetry in 0distance-0distance :No Correction\"},\"id\":\"3759bc85-5832-409f-975a-f5e9f8b47de2\",\"type\":\"Title\"},{\"attributes\":{},\"id\":\"1b9fe39d-82c2-4bea-9354-351032fdc689\",\"type\":\"LinearScale\"},{\"attributes\":{},\"id\":\"d3d147a2-aa80-4caf-a725-fd314c4d4c6f\",\"type\":\"PanTool\"},{\"attributes\":{\"children\":[{\"id\":\"4a9ff004-be45-47c6-8e30-2d6459ccb6ea\",\"type\":\"ToolbarBox\"},{\"id\":\"318bf48f-3c2d-423a-8e1d-f3c26920e692\",\"type\":\"Column\"}]},\"id\":\"a1381019-8332-47d9-9061-3aeefa6e563c\",\"type\":\"Column\"},{\"attributes\":{},\"id\":\"12f56e55-5706-43b2-9056-cd4c85a022a9\",\"type\":\"HelpTool\"},{\"attributes\":{},\"id\":\"5259b31e-85a3-46fc-905c-dc85ca8b6cc4\",\"type\":\"BasicTicker\"},{\"attributes\":{\"children\":[{\"id\":\"8935a6df-6e57-42f9-b99a-d9e17eb7eed2\",\"subtype\":\"Figure\",\"type\":\"Plot\"},{\"id\":\"4b3c5f08-2f66-4809-ad0c-2ce9304f1eeb\",\"subtype\":\"Figure\",\"type\":\"Plot\"}]},\"id\":\"2ee8aa24-cad2-4851-b7c0-72a87049498d\",\"type\":\"Row\"},{\"attributes\":{\"active_drag\":\"auto\",\"active_inspect\":\"auto\",\"active_scroll\":\"auto\",\"active_tap\":\"auto\",\"tools\":[{\"id\":\"dabf6714-0068-4a02-b1f4-91dcf298123f\",\"type\":\"PanTool\"},{\"id\":\"d158a394-b185-469d-85e7-2b8cd0f5409b\",\"type\":\"WheelZoomTool\"},{\"id\":\"1c458704-786b-4b62-8d86-34009e1caa0c\",\"type\":\"BoxZoomTool\"},{\"id\":\"a2ad9bd7-b738-4571-8caf-74ee4cc3c9c8\",\"type\":\"SaveTool\"},{\"id\":\"36bf1c17-e2aa-42be-a28c-5ffe1faf3420\",\"type\":\"ResetTool\"},{\"id\":\"b2e4fccd-d1b4-490c-96dd-da6c93bc559a\",\"type\":\"HelpTool\"}]},\"id\":\"c9afcf2c-556d-4dac-8ca8-0b815861a188\",\"type\":\"Toolbar\"},{\"attributes\":{\"plot\":{\"id\":\"4b3c5f08-2f66-4809-ad0c-2ce9304f1eeb\",\"subtype\":\"Figure\",\"type\":\"Plot\"},\"ticker\":{\"id\":\"a9de1a99-1750-41fc-a77c-ac7cf9207d2c\",\"type\":\"BasicTicker\"}},\"id\":\"f3fdff01-1f14-4e0c-b08f-0ef55d5ce9ff\",\"type\":\"Grid\"},{\"attributes\":{\"plot\":null,\"text\":\"Asymmetry in 0distance-0distance :with Correction\"},\"id\":\"d6dae599-2ec1-4eba-906a-a258360c4254\",\"type\":\"Title\"},{\"attributes\":{\"children\":[{\"id\":\"2ee8aa24-cad2-4851-b7c0-72a87049498d\",\"type\":\"Row\"}]},\"id\":\"318bf48f-3c2d-423a-8e1d-f3c26920e692\",\"type\":\"Column\"},{\"attributes\":{},\"id\":\"b2e4fccd-d1b4-490c-96dd-da6c93bc559a\",\"type\":\"HelpTool\"},{\"attributes\":{\"below\":[{\"id\":\"70095aa2-a8f4-4a7f-a189-028f2f3feb07\",\"type\":\"LinearAxis\"}],\"left\":[{\"id\":\"b12973de-a114-4b7f-88aa-434bb2540277\",\"type\":\"LinearAxis\"}],\"plot_height\":400,\"plot_width\":400,\"renderers\":[{\"id\":\"70095aa2-a8f4-4a7f-a189-028f2f3feb07\",\"type\":\"LinearAxis\"},{\"id\":\"e97d0d5f-1f5e-4713-9bef-4293c6d5460c\",\"type\":\"Grid\"},{\"id\":\"b12973de-a114-4b7f-88aa-434bb2540277\",\"type\":\"LinearAxis\"},{\"id\":\"b0caf4d4-5223-4ccf-b6e0-f3e31959346d\",\"type\":\"Grid\"},{\"id\":\"8e3f4889-dbc4-448e-ace8-1e7a4b150fc9\",\"type\":\"BoxAnnotation\"},{\"id\":\"36320b81-a3e2-4449-991b-38e7abc3ade0\",\"type\":\"GlyphRenderer\"}],\"title\":{\"id\":\"3759bc85-5832-409f-975a-f5e9f8b47de2\",\"type\":\"Title\"},\"toolbar\":{\"id\":\"c9afcf2c-556d-4dac-8ca8-0b815861a188\",\"type\":\"Toolbar\"},\"toolbar_location\":null,\"x_range\":{\"id\":\"87a1de15-6368-4b02-addf-6b1fc8c6118b\",\"type\":\"DataRange1d\"},\"x_scale\":{\"id\":\"84593ca3-9e34-4383-97c8-af95595bdc05\",\"type\":\"LinearScale\"},\"y_range\":{\"id\":\"fc63b49c-2d5c-4930-8c7a-35172613c758\",\"type\":\"DataRange1d\"},\"y_scale\":{\"id\":\"7d1c3aa0-e231-49a0-9d83-4cf4f8c15c10\",\"type\":\"LinearScale\"}},\"id\":\"8935a6df-6e57-42f9-b99a-d9e17eb7eed2\",\"subtype\":\"Figure\",\"type\":\"Plot\"},{\"attributes\":{},\"id\":\"7d1c3aa0-e231-49a0-9d83-4cf4f8c15c10\",\"type\":\"LinearScale\"},{\"attributes\":{\"bottom\":{\"value\":0},\"fill_alpha\":{\"value\":0.1},\"fill_color\":{\"value\":\"#1f77b4\"},\"left\":{\"field\":\"left\"},\"line_alpha\":{\"value\":0.1},\"line_color\":{\"value\":\"#1f77b4\"},\"right\":{\"field\":\"right\"},\"top\":{\"field\":\"top\"}},\"id\":\"5d2df43d-16fa-4074-98cb-12af2e96bbcd\",\"type\":\"Quad\"},{\"attributes\":{\"callback\":null},\"id\":\"d7c82e3c-5125-4186-ae0e-249d1605b703\",\"type\":\"DataRange1d\"},{\"attributes\":{\"axis_label\":\"Distribution\",\"formatter\":{\"id\":\"414970ae-1fce-4452-a005-1e7d6d3a9dcf\",\"type\":\"BasicTickFormatter\"},\"plot\":{\"id\":\"4b3c5f08-2f66-4809-ad0c-2ce9304f1eeb\",\"subtype\":\"Figure\",\"type\":\"Plot\"},\"ticker\":{\"id\":\"9d9851fa-b9d7-48ba-a973-b5c2b4765001\",\"type\":\"BasicTicker\"}},\"id\":\"f433a108-18e7-485c-a4a1-3e3e3232c4ea\",\"type\":\"LinearAxis\"},{\"attributes\":{},\"id\":\"233e25a8-cad9-4436-9e5c-25191f367081\",\"type\":\"SaveTool\"},{\"attributes\":{\"bottom\":{\"value\":0},\"fill_color\":{\"value\":\"#036564\"},\"left\":{\"field\":\"left\"},\"line_color\":{\"value\":\"#033649\"},\"right\":{\"field\":\"right\"},\"top\":{\"field\":\"top\"}},\"id\":\"500f246b-89f3-4886-8a36-43a91846a5a6\",\"type\":\"Quad\"},{\"attributes\":{\"callback\":null,\"column_names\":[\"left\",\"right\",\"top\"],\"data\":{\"left\":{\"__ndarray__\":\"AAAAAAAA4L+4HoXrUbjev3E9CtejcN2/KVyPwvUo3L/hehSuR+Hav5qZmZmZmdm/UrgehetR2L8K16NwPQrXv8L1KFyPwtW/exSuR+F61L8zMzMzMzPTv+xRuB6F69G/pHA9Ctej0L+4HoXrUbjOvyhcj8L1KMy/mpmZmZmZyb8K16NwPQrHv3oUrkfhesS/7FG4HoXrwb+4HoXrUbi+v5iZmZmZmbm/fBSuR+F6tL+4HoXrUbiuv3gUrkfheqS/gBSuR+F6lL8AAAAAAAAAAIAUrkfhepQ/gBSuR+F6pD/AHoXrUbiuP3gUrkfherQ/mJmZmZmZuT+4HoXrUbi+P+xRuB6F68E/fBSuR+F6xD8M16NwPQrHP5yZmZmZmck/KFyPwvUozD+4HoXrUbjOP6RwPQrXo9A/7FG4HoXr0T80MzMzMzPTP3wUrkfhetQ/wvUoXI/C1T8K16NwPQrXP1K4HoXrUdg/mpmZmZmZ2T/iehSuR+HaPypcj8L1KNw/cD0K16Nw3T+4HoXrUbjePw==\",\"dtype\":\"float64\",\"shape\":[50]},\"right\":{\"__ndarray__\":\"uB6F61G43r9xPQrXo3Ddvylcj8L1KNy/4XoUrkfh2r+amZmZmZnZv1K4HoXrUdi/CtejcD0K17/C9Shcj8LVv3sUrkfhetS/MzMzMzMz07/sUbgehevRv6RwPQrXo9C/uB6F61G4zr8oXI/C9SjMv5qZmZmZmcm/CtejcD0Kx796FK5H4XrEv+xRuB6F68G/uB6F61G4vr+YmZmZmZm5v3wUrkfherS/uB6F61G4rr94FK5H4Xqkv4AUrkfhepS/AAAAAAAAAACAFK5H4XqUP4AUrkfheqQ/wB6F61G4rj94FK5H4Xq0P5iZmZmZmbk/uB6F61G4vj/sUbgehevBP3wUrkfhesQ/DNejcD0Kxz+cmZmZmZnJPyhcj8L1KMw/uB6F61G4zj+kcD0K16PQP+xRuB6F69E/NDMzMzMz0z98FK5H4XrUP8L1KFyPwtU/CtejcD0K1z9SuB6F61HYP5qZmZmZmdk/4noUrkfh2j8qXI/C9SjcP3A9CtejcN0/uB6F61G43j8AAAAAAADgPw==\",\"dtype\":\"float64\",\"shape\":[50]},\"top\":{\"__ndarray__\":\"AAAAAAAAAAAAAAAAAAAAAAAAAAAAAAAAAAAAAAAAAAAAAAAAAAAAAAAAAAAAAAAAAAAAAAAAAAAAAAAAAAAAAAAAAAAAAAAAAAAAAAAAAAAAAAAAAAAAAAAAAAAAAAAAAAAAAAAAAAAAAAAAAAAAAAAAAAAAAAAAAAAAAAAAAAAAAAAAAAAAAAAAAAAAAAAAAAAAAAAAAAAAAAAAAAAAAAAAAAAAAAAAAAAAAAAAAAAAAAAAAAAAAAAAAAAAAAAAAAAAAAAAAAD6//////9IQAAAAAAAAAAAAAAAAAAAAAAAAAAAAAAAAAAAAAAAAAAAAAAAAAAAAAAAAAAAAAAAAAAAAAAAAAAAAAAAAAAAAAAAAAAAAAAAAAAAAAAAAAAAAAAAAAAAAAAAAAAAAAAAAAAAAAAAAAAAAAAAAAAAAAAAAAAAAAAAAAAAAAAAAAAAAAAAAAAAAAAAAAAAAAAAAAAAAAAAAAAAAAAAAAAAAAAAAAAAAAAAAAAAAAAAAAAAAAAAAAAAAAAAAAAAAAAAAA==\",\"dtype\":\"float64\",\"shape\":[50]}}},\"id\":\"29a98de4-6b86-40aa-841e-a84cfd28a3e2\",\"type\":\"ColumnDataSource\"},{\"attributes\":{\"callback\":null,\"column_names\":[\"left\",\"right\",\"top\"],\"data\":{\"left\":{\"__ndarray__\":\"AAAAAAAA4L+4HoXrUbjev3E9CtejcN2/KVyPwvUo3L/hehSuR+Hav5qZmZmZmdm/UrgehetR2L8K16NwPQrXv8L1KFyPwtW/exSuR+F61L8zMzMzMzPTv+xRuB6F69G/pHA9Ctej0L+4HoXrUbjOvyhcj8L1KMy/mpmZmZmZyb8K16NwPQrHv3oUrkfhesS/7FG4HoXrwb+4HoXrUbi+v5iZmZmZmbm/fBSuR+F6tL+4HoXrUbiuv3gUrkfheqS/gBSuR+F6lL8AAAAAAAAAAIAUrkfhepQ/gBSuR+F6pD/AHoXrUbiuP3gUrkfherQ/mJmZmZmZuT+4HoXrUbi+P+xRuB6F68E/fBSuR+F6xD8M16NwPQrHP5yZmZmZmck/KFyPwvUozD+4HoXrUbjOP6RwPQrXo9A/7FG4HoXr0T80MzMzMzPTP3wUrkfhetQ/wvUoXI/C1T8K16NwPQrXP1K4HoXrUdg/mpmZmZmZ2T/iehSuR+HaPypcj8L1KNw/cD0K16Nw3T+4HoXrUbjePw==\",\"dtype\":\"float64\",\"shape\":[50]},\"right\":{\"__ndarray__\":\"uB6F61G43r9xPQrXo3Ddvylcj8L1KNy/4XoUrkfh2r+amZmZmZnZv1K4HoXrUdi/CtejcD0K17/C9Shcj8LVv3sUrkfhetS/MzMzMzMz07/sUbgehevRv6RwPQrXo9C/uB6F61G4zr8oXI/C9SjMv5qZmZmZmcm/CtejcD0Kx796FK5H4XrEv+xRuB6F68G/uB6F61G4vr+YmZmZmZm5v3wUrkfherS/uB6F61G4rr94FK5H4Xqkv4AUrkfhepS/AAAAAAAAAACAFK5H4XqUP4AUrkfheqQ/wB6F61G4rj94FK5H4Xq0P5iZmZmZmbk/uB6F61G4vj/sUbgehevBP3wUrkfhesQ/DNejcD0Kxz+cmZmZmZnJPyhcj8L1KMw/uB6F61G4zj+kcD0K16PQP+xRuB6F69E/NDMzMzMz0z98FK5H4XrUP8L1KFyPwtU/CtejcD0K1z9SuB6F61HYP5qZmZmZmdk/4noUrkfh2j8qXI/C9SjcP3A9CtejcN0/uB6F61G43j8AAAAAAADgPw==\",\"dtype\":\"float64\",\"shape\":[50]},\"top\":{\"__ndarray__\":\"AAAAAAAAAAAAAAAAAAAAAAAAAAAAAAAAAAAAAAAAAAAAAAAAAAAAAAAAAAAAAAAAAAAAAAAAAAAAAAAAAAAAAAAAAAAAAAAAAAAAAAAAAAAAAAAAAAAAAAAAAAAAAAAAAAAAAAAAAAAAAAAAAAAAAAAAAAAAAAAAAAAAAAAAAAAAAAAAAAAAAAAAAAAAAAAAAAAAAAAAAAAAAAAAAAAAAAAAAAAAAAAAAAAAAAAAAAAAAAAAAAAAAAAAAAAAAAAAAAAAAAAAAAD6//////9IQAAAAAAAAAAAAAAAAAAAAAAAAAAAAAAAAAAAAAAAAAAAAAAAAAAAAAAAAAAAAAAAAAAAAAAAAAAAAAAAAAAAAAAAAAAAAAAAAAAAAAAAAAAAAAAAAAAAAAAAAAAAAAAAAAAAAAAAAAAAAAAAAAAAAAAAAAAAAAAAAAAAAAAAAAAAAAAAAAAAAAAAAAAAAAAAAAAAAAAAAAAAAAAAAAAAAAAAAAAAAAAAAAAAAAAAAAAAAAAAAAAAAAAAAAAAAAAAAA==\",\"dtype\":\"float64\",\"shape\":[50]}}},\"id\":\"f4bae933-d73b-4628-a983-57b4e8257b2e\",\"type\":\"ColumnDataSource\"},{\"attributes\":{},\"id\":\"9d9851fa-b9d7-48ba-a973-b5c2b4765001\",\"type\":\"BasicTicker\"},{\"attributes\":{\"bottom_units\":\"screen\",\"fill_alpha\":{\"value\":0.5},\"fill_color\":{\"value\":\"lightgrey\"},\"left_units\":\"screen\",\"level\":\"overlay\",\"line_alpha\":{\"value\":1.0},\"line_color\":{\"value\":\"black\"},\"line_dash\":[4,4],\"line_width\":{\"value\":2},\"plot\":null,\"render_mode\":\"css\",\"right_units\":\"screen\",\"top_units\":\"screen\"},\"id\":\"8e3f4889-dbc4-448e-ace8-1e7a4b150fc9\",\"type\":\"BoxAnnotation\"},{\"attributes\":{},\"id\":\"c1489f2d-43c1-4bf5-9773-111e858b46e2\",\"type\":\"WheelZoomTool\"},{\"attributes\":{},\"id\":\"a2ad9bd7-b738-4571-8caf-74ee4cc3c9c8\",\"type\":\"SaveTool\"},{\"attributes\":{\"active_drag\":\"auto\",\"active_inspect\":\"auto\",\"active_scroll\":\"auto\",\"active_tap\":\"auto\",\"tools\":[{\"id\":\"d3d147a2-aa80-4caf-a725-fd314c4d4c6f\",\"type\":\"PanTool\"},{\"id\":\"c1489f2d-43c1-4bf5-9773-111e858b46e2\",\"type\":\"WheelZoomTool\"},{\"id\":\"326278af-abb9-45d7-9031-dd66dbed2373\",\"type\":\"BoxZoomTool\"},{\"id\":\"233e25a8-cad9-4436-9e5c-25191f367081\",\"type\":\"SaveTool\"},{\"id\":\"26ad2ee9-d710-4b60-8149-a30abcefa653\",\"type\":\"ResetTool\"},{\"id\":\"12f56e55-5706-43b2-9056-cd4c85a022a9\",\"type\":\"HelpTool\"}]},\"id\":\"95f03e1b-3b8a-412d-b235-5682dae84c8b\",\"type\":\"Toolbar\"},{\"attributes\":{\"axis_label\":\"Difference(abs)\",\"formatter\":{\"id\":\"10aa709f-f234-4ebb-a5ac-b34fd5c0c007\",\"type\":\"BasicTickFormatter\"},\"plot\":{\"id\":\"4b3c5f08-2f66-4809-ad0c-2ce9304f1eeb\",\"subtype\":\"Figure\",\"type\":\"Plot\"},\"ticker\":{\"id\":\"a9de1a99-1750-41fc-a77c-ac7cf9207d2c\",\"type\":\"BasicTicker\"}},\"id\":\"a3407c6c-6ebf-4253-b17c-47366926ccec\",\"type\":\"LinearAxis\"},{\"attributes\":{\"source\":{\"id\":\"29a98de4-6b86-40aa-841e-a84cfd28a3e2\",\"type\":\"ColumnDataSource\"}},\"id\":\"53ddb3ec-8310-4de9-ad2d-ff3d186ac122\",\"type\":\"CDSView\"},{\"attributes\":{\"callback\":null},\"id\":\"87a1de15-6368-4b02-addf-6b1fc8c6118b\",\"type\":\"DataRange1d\"},{\"attributes\":{},\"id\":\"c0b2704b-b915-4b42-8aac-93e0b6bacd78\",\"type\":\"BasicTickFormatter\"},{\"attributes\":{\"axis_label\":\"Distribution\",\"formatter\":{\"id\":\"d79b0ff7-399e-427a-95c9-213a57c7d5e3\",\"type\":\"BasicTickFormatter\"},\"plot\":{\"id\":\"8935a6df-6e57-42f9-b99a-d9e17eb7eed2\",\"subtype\":\"Figure\",\"type\":\"Plot\"},\"ticker\":{\"id\":\"096622b3-f1a0-4f48-88c9-84c00658a22c\",\"type\":\"BasicTicker\"}},\"id\":\"b12973de-a114-4b7f-88aa-434bb2540277\",\"type\":\"LinearAxis\"},{\"attributes\":{\"toolbar\":{\"id\":\"05c184eb-66f6-4e39-8f2c-8d7c35162b07\",\"type\":\"ProxyToolbar\"},\"toolbar_location\":\"above\"},\"id\":\"4a9ff004-be45-47c6-8e30-2d6459ccb6ea\",\"type\":\"ToolbarBox\"},{\"attributes\":{\"below\":[{\"id\":\"a3407c6c-6ebf-4253-b17c-47366926ccec\",\"type\":\"LinearAxis\"}],\"left\":[{\"id\":\"f433a108-18e7-485c-a4a1-3e3e3232c4ea\",\"type\":\"LinearAxis\"}],\"plot_height\":400,\"plot_width\":400,\"renderers\":[{\"id\":\"a3407c6c-6ebf-4253-b17c-47366926ccec\",\"type\":\"LinearAxis\"},{\"id\":\"f3fdff01-1f14-4e0c-b08f-0ef55d5ce9ff\",\"type\":\"Grid\"},{\"id\":\"f433a108-18e7-485c-a4a1-3e3e3232c4ea\",\"type\":\"LinearAxis\"},{\"id\":\"2ef7caa8-e46d-4646-97ed-a21f25c197ff\",\"type\":\"Grid\"},{\"id\":\"1b8bf6da-0d69-4ea1-aa93-ae7090acf375\",\"type\":\"BoxAnnotation\"},{\"id\":\"21a59859-a52b-46ef-b1e0-549c35f6b669\",\"type\":\"GlyphRenderer\"}],\"title\":{\"id\":\"d6dae599-2ec1-4eba-906a-a258360c4254\",\"type\":\"Title\"},\"toolbar\":{\"id\":\"95f03e1b-3b8a-412d-b235-5682dae84c8b\",\"type\":\"Toolbar\"},\"toolbar_location\":null,\"x_range\":{\"id\":\"d7c82e3c-5125-4186-ae0e-249d1605b703\",\"type\":\"DataRange1d\"},\"x_scale\":{\"id\":\"1b9fe39d-82c2-4bea-9354-351032fdc689\",\"type\":\"LinearScale\"},\"y_range\":{\"id\":\"5b26476f-d9dd-4470-b112-5d01f6c0f94a\",\"type\":\"DataRange1d\"},\"y_scale\":{\"id\":\"59fb12b1-674f-41dd-8f04-c117b296b057\",\"type\":\"LinearScale\"}},\"id\":\"4b3c5f08-2f66-4809-ad0c-2ce9304f1eeb\",\"subtype\":\"Figure\",\"type\":\"Plot\"}],\"root_ids\":[\"a1381019-8332-47d9-9061-3aeefa6e563c\"]},\"title\":\"Bokeh Application\",\"version\":\"0.12.13\"}};\n",
       "  var render_items = [{\"docid\":\"3b85a840-a5cf-49c3-b809-be0289529837\",\"elementid\":\"dc58a3a7-437a-45c0-ae8b-e8128471befc\",\"modelid\":\"a1381019-8332-47d9-9061-3aeefa6e563c\"}];\n",
       "  root.Bokeh.embed.embed_items_notebook(docs_json, render_items);\n",
       "\n",
       "  }\n",
       "  if (root.Bokeh !== undefined) {\n",
       "    embed_document(root);\n",
       "  } else {\n",
       "    var attempts = 0;\n",
       "    var timer = setInterval(function(root) {\n",
       "      if (root.Bokeh !== undefined) {\n",
       "        embed_document(root);\n",
       "        clearInterval(timer);\n",
       "      }\n",
       "      attempts++;\n",
       "      if (attempts > 100) {\n",
       "        console.log(\"Bokeh: ERROR: Unable to run BokehJS code because BokehJS library is missing\")\n",
       "        clearInterval(timer);\n",
       "      }\n",
       "    }, 10, root)\n",
       "  }\n",
       "})(window);"
      ],
      "application/vnd.bokehjs_exec.v0+json": ""
     },
     "metadata": {
      "application/vnd.bokehjs_exec.v0+json": {
       "id": "a1381019-8332-47d9-9061-3aeefa6e563c"
      }
     },
     "output_type": "display_data"
    }
   ],
   "source": [
    "t = '0distance-0distance'\n",
    "w = cases[t]\n",
    "mp = list(map(lambda x:x['before'],w))\n",
    "p = figure(plot_width=400, plot_height=400,title = 'Asymmetry in '+ t + ' :No Correction',y_axis_label = \"Distribution\",x_axis_label = \"Difference(abs)\")\n",
    "q1,q2 = np.percentile(mp,[0,100])\n",
    "measured = mp\n",
    "hist, edges = np.histogram(measured, density=True, bins=50)\n",
    "p.quad(top=hist, bottom=0, left=edges[:-1], right=edges[1:],fill_color=\"#036564\", line_color=\"#033649\")\n",
    "\n",
    "mp = list(map(lambda x:x['after'],w))\n",
    "p1 = figure(plot_width=400, plot_height=400,title = 'Asymmetry in '+ t + ' :with Correction',y_axis_label = \"Distribution\",x_axis_label = \"Difference(abs)\")\n",
    "q1,q2 = np.percentile(mp,[0,100])\n",
    "measured = mp\n",
    "hist, edges = np.histogram(measured, density=True, bins=50)\n",
    "p1.quad(top=hist, bottom=0, left=edges[:-1], right=edges[1:],fill_color=\"#036564\", line_color=\"#033649\")\n",
    "grid = gridplot([[p, p1]])\n",
    "show (grid)"
   ]
  }
 ],
 "metadata": {
  "kernelspec": {
   "display_name": "Python 3",
   "language": "python",
   "name": "python3"
  },
  "language_info": {
   "codemirror_mode": {
    "name": "ipython",
    "version": 3
   },
   "file_extension": ".py",
   "mimetype": "text/x-python",
   "name": "python",
   "nbconvert_exporter": "python",
   "pygments_lexer": "ipython3",
   "version": "3.6.4"
  }
 },
 "nbformat": 4,
 "nbformat_minor": 2
}
