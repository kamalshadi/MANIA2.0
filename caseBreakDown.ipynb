{
 "cells": [
  {
   "cell_type": "markdown",
   "metadata": {},
   "source": [
    "# Asymmetry Case Break Downs"
   ]
  },
  {
   "cell_type": "code",
   "execution_count": 92,
   "metadata": {},
   "outputs": [
    {
     "data": {
      "text/html": [
       "\n",
       "    <div class=\"bk-root\">\n",
       "        <a href=\"https://bokeh.pydata.org\" target=\"_blank\" class=\"bk-logo bk-logo-small bk-logo-notebook\"></a>\n",
       "        <span id=\"166f21d9-6e1f-4947-9ef7-548f554d3b52\">Loading BokehJS ...</span>\n",
       "    </div>"
      ]
     },
     "metadata": {},
     "output_type": "display_data"
    },
    {
     "data": {
      "application/javascript": [
       "\n",
       "(function(root) {\n",
       "  function now() {\n",
       "    return new Date();\n",
       "  }\n",
       "\n",
       "  var force = true;\n",
       "\n",
       "  if (typeof (root._bokeh_onload_callbacks) === \"undefined\" || force === true) {\n",
       "    root._bokeh_onload_callbacks = [];\n",
       "    root._bokeh_is_loading = undefined;\n",
       "  }\n",
       "\n",
       "  var JS_MIME_TYPE = 'application/javascript';\n",
       "  var HTML_MIME_TYPE = 'text/html';\n",
       "  var EXEC_MIME_TYPE = 'application/vnd.bokehjs_exec.v0+json';\n",
       "  var CLASS_NAME = 'output_bokeh rendered_html';\n",
       "\n",
       "  /**\n",
       "   * Render data to the DOM node\n",
       "   */\n",
       "  function render(props, node) {\n",
       "    var script = document.createElement(\"script\");\n",
       "    node.appendChild(script);\n",
       "  }\n",
       "\n",
       "  /**\n",
       "   * Handle when an output is cleared or removed\n",
       "   */\n",
       "  function handleClearOutput(event, handle) {\n",
       "    var cell = handle.cell;\n",
       "\n",
       "    var id = cell.output_area._bokeh_element_id;\n",
       "    var server_id = cell.output_area._bokeh_server_id;\n",
       "    // Clean up Bokeh references\n",
       "    if (id !== undefined) {\n",
       "      Bokeh.index[id].model.document.clear();\n",
       "      delete Bokeh.index[id];\n",
       "    }\n",
       "\n",
       "    if (server_id !== undefined) {\n",
       "      // Clean up Bokeh references\n",
       "      var cmd = \"from bokeh.io.state import curstate; print(curstate().uuid_to_server['\" + server_id + \"'].get_sessions()[0].document.roots[0]._id)\";\n",
       "      cell.notebook.kernel.execute(cmd, {\n",
       "        iopub: {\n",
       "          output: function(msg) {\n",
       "            var element_id = msg.content.text.trim();\n",
       "            Bokeh.index[element_id].model.document.clear();\n",
       "            delete Bokeh.index[element_id];\n",
       "          }\n",
       "        }\n",
       "      });\n",
       "      // Destroy server and session\n",
       "      var cmd = \"import bokeh.io.notebook as ion; ion.destroy_server('\" + server_id + \"')\";\n",
       "      cell.notebook.kernel.execute(cmd);\n",
       "    }\n",
       "  }\n",
       "\n",
       "  /**\n",
       "   * Handle when a new output is added\n",
       "   */\n",
       "  function handleAddOutput(event, handle) {\n",
       "    var output_area = handle.output_area;\n",
       "    var output = handle.output;\n",
       "\n",
       "    // limit handleAddOutput to display_data with EXEC_MIME_TYPE content only\n",
       "    if ((output.output_type != \"display_data\") || (!output.data.hasOwnProperty(EXEC_MIME_TYPE))) {\n",
       "      return\n",
       "    }\n",
       "\n",
       "    var toinsert = output_area.element.find(\".\" + CLASS_NAME.split(' ')[0]);\n",
       "\n",
       "    if (output.metadata[EXEC_MIME_TYPE][\"id\"] !== undefined) {\n",
       "      toinsert[0].firstChild.textContent = output.data[JS_MIME_TYPE];\n",
       "      // store reference to embed id on output_area\n",
       "      output_area._bokeh_element_id = output.metadata[EXEC_MIME_TYPE][\"id\"];\n",
       "    }\n",
       "    if (output.metadata[EXEC_MIME_TYPE][\"server_id\"] !== undefined) {\n",
       "      var bk_div = document.createElement(\"div\");\n",
       "      bk_div.innerHTML = output.data[HTML_MIME_TYPE];\n",
       "      var script_attrs = bk_div.children[0].attributes;\n",
       "      for (var i = 0; i < script_attrs.length; i++) {\n",
       "        toinsert[0].firstChild.setAttribute(script_attrs[i].name, script_attrs[i].value);\n",
       "      }\n",
       "      // store reference to server id on output_area\n",
       "      output_area._bokeh_server_id = output.metadata[EXEC_MIME_TYPE][\"server_id\"];\n",
       "    }\n",
       "  }\n",
       "\n",
       "  function register_renderer(events, OutputArea) {\n",
       "\n",
       "    function append_mime(data, metadata, element) {\n",
       "      // create a DOM node to render to\n",
       "      var toinsert = this.create_output_subarea(\n",
       "        metadata,\n",
       "        CLASS_NAME,\n",
       "        EXEC_MIME_TYPE\n",
       "      );\n",
       "      this.keyboard_manager.register_events(toinsert);\n",
       "      // Render to node\n",
       "      var props = {data: data, metadata: metadata[EXEC_MIME_TYPE]};\n",
       "      render(props, toinsert[0]);\n",
       "      element.append(toinsert);\n",
       "      return toinsert\n",
       "    }\n",
       "\n",
       "    /* Handle when an output is cleared or removed */\n",
       "    events.on('clear_output.CodeCell', handleClearOutput);\n",
       "    events.on('delete.Cell', handleClearOutput);\n",
       "\n",
       "    /* Handle when a new output is added */\n",
       "    events.on('output_added.OutputArea', handleAddOutput);\n",
       "\n",
       "    /**\n",
       "     * Register the mime type and append_mime function with output_area\n",
       "     */\n",
       "    OutputArea.prototype.register_mime_type(EXEC_MIME_TYPE, append_mime, {\n",
       "      /* Is output safe? */\n",
       "      safe: true,\n",
       "      /* Index of renderer in `output_area.display_order` */\n",
       "      index: 0\n",
       "    });\n",
       "  }\n",
       "\n",
       "  // register the mime type if in Jupyter Notebook environment and previously unregistered\n",
       "  if (root.Jupyter !== undefined) {\n",
       "    var events = require('base/js/events');\n",
       "    var OutputArea = require('notebook/js/outputarea').OutputArea;\n",
       "\n",
       "    if (OutputArea.prototype.mime_types().indexOf(EXEC_MIME_TYPE) == -1) {\n",
       "      register_renderer(events, OutputArea);\n",
       "    }\n",
       "  }\n",
       "\n",
       "  \n",
       "  if (typeof (root._bokeh_timeout) === \"undefined\" || force === true) {\n",
       "    root._bokeh_timeout = Date.now() + 5000;\n",
       "    root._bokeh_failed_load = false;\n",
       "  }\n",
       "\n",
       "  var NB_LOAD_WARNING = {'data': {'text/html':\n",
       "     \"<div style='background-color: #fdd'>\\n\"+\n",
       "     \"<p>\\n\"+\n",
       "     \"BokehJS does not appear to have successfully loaded. If loading BokehJS from CDN, this \\n\"+\n",
       "     \"may be due to a slow or bad network connection. Possible fixes:\\n\"+\n",
       "     \"</p>\\n\"+\n",
       "     \"<ul>\\n\"+\n",
       "     \"<li>re-rerun `output_notebook()` to attempt to load from CDN again, or</li>\\n\"+\n",
       "     \"<li>use INLINE resources instead, as so:</li>\\n\"+\n",
       "     \"</ul>\\n\"+\n",
       "     \"<code>\\n\"+\n",
       "     \"from bokeh.resources import INLINE\\n\"+\n",
       "     \"output_notebook(resources=INLINE)\\n\"+\n",
       "     \"</code>\\n\"+\n",
       "     \"</div>\"}};\n",
       "\n",
       "  function display_loaded() {\n",
       "    var el = document.getElementById(\"166f21d9-6e1f-4947-9ef7-548f554d3b52\");\n",
       "    if (el != null) {\n",
       "      el.textContent = \"BokehJS is loading...\";\n",
       "    }\n",
       "    if (root.Bokeh !== undefined) {\n",
       "      if (el != null) {\n",
       "        el.textContent = \"BokehJS \" + root.Bokeh.version + \" successfully loaded.\";\n",
       "      }\n",
       "    } else if (Date.now() < root._bokeh_timeout) {\n",
       "      setTimeout(display_loaded, 100)\n",
       "    }\n",
       "  }\n",
       "\n",
       "\n",
       "  function run_callbacks() {\n",
       "    try {\n",
       "      root._bokeh_onload_callbacks.forEach(function(callback) { callback() });\n",
       "    }\n",
       "    finally {\n",
       "      delete root._bokeh_onload_callbacks\n",
       "    }\n",
       "    console.info(\"Bokeh: all callbacks have finished\");\n",
       "  }\n",
       "\n",
       "  function load_libs(js_urls, callback) {\n",
       "    root._bokeh_onload_callbacks.push(callback);\n",
       "    if (root._bokeh_is_loading > 0) {\n",
       "      console.log(\"Bokeh: BokehJS is being loaded, scheduling callback at\", now());\n",
       "      return null;\n",
       "    }\n",
       "    if (js_urls == null || js_urls.length === 0) {\n",
       "      run_callbacks();\n",
       "      return null;\n",
       "    }\n",
       "    console.log(\"Bokeh: BokehJS not loaded, scheduling load and callback at\", now());\n",
       "    root._bokeh_is_loading = js_urls.length;\n",
       "    for (var i = 0; i < js_urls.length; i++) {\n",
       "      var url = js_urls[i];\n",
       "      var s = document.createElement('script');\n",
       "      s.src = url;\n",
       "      s.async = false;\n",
       "      s.onreadystatechange = s.onload = function() {\n",
       "        root._bokeh_is_loading--;\n",
       "        if (root._bokeh_is_loading === 0) {\n",
       "          console.log(\"Bokeh: all BokehJS libraries loaded\");\n",
       "          run_callbacks()\n",
       "        }\n",
       "      };\n",
       "      s.onerror = function() {\n",
       "        console.warn(\"failed to load library \" + url);\n",
       "      };\n",
       "      console.log(\"Bokeh: injecting script tag for BokehJS library: \", url);\n",
       "      document.getElementsByTagName(\"head\")[0].appendChild(s);\n",
       "    }\n",
       "  };var element = document.getElementById(\"166f21d9-6e1f-4947-9ef7-548f554d3b52\");\n",
       "  if (element == null) {\n",
       "    console.log(\"Bokeh: ERROR: autoload.js configured with elementid '166f21d9-6e1f-4947-9ef7-548f554d3b52' but no matching script tag was found. \")\n",
       "    return false;\n",
       "  }\n",
       "\n",
       "  var js_urls = [\"https://cdn.pydata.org/bokeh/release/bokeh-0.12.13.min.js\", \"https://cdn.pydata.org/bokeh/release/bokeh-widgets-0.12.13.min.js\", \"https://cdn.pydata.org/bokeh/release/bokeh-tables-0.12.13.min.js\", \"https://cdn.pydata.org/bokeh/release/bokeh-gl-0.12.13.min.js\"];\n",
       "\n",
       "  var inline_js = [\n",
       "    function(Bokeh) {\n",
       "      Bokeh.set_log_level(\"info\");\n",
       "    },\n",
       "    \n",
       "    function(Bokeh) {\n",
       "      \n",
       "    },\n",
       "    function(Bokeh) {\n",
       "      console.log(\"Bokeh: injecting CSS: https://cdn.pydata.org/bokeh/release/bokeh-0.12.13.min.css\");\n",
       "      Bokeh.embed.inject_css(\"https://cdn.pydata.org/bokeh/release/bokeh-0.12.13.min.css\");\n",
       "      console.log(\"Bokeh: injecting CSS: https://cdn.pydata.org/bokeh/release/bokeh-widgets-0.12.13.min.css\");\n",
       "      Bokeh.embed.inject_css(\"https://cdn.pydata.org/bokeh/release/bokeh-widgets-0.12.13.min.css\");\n",
       "      console.log(\"Bokeh: injecting CSS: https://cdn.pydata.org/bokeh/release/bokeh-tables-0.12.13.min.css\");\n",
       "      Bokeh.embed.inject_css(\"https://cdn.pydata.org/bokeh/release/bokeh-tables-0.12.13.min.css\");\n",
       "    }\n",
       "  ];\n",
       "\n",
       "  function run_inline_js() {\n",
       "    \n",
       "    if ((root.Bokeh !== undefined) || (force === true)) {\n",
       "      for (var i = 0; i < inline_js.length; i++) {\n",
       "        inline_js[i].call(root, root.Bokeh);\n",
       "      }if (force === true) {\n",
       "        display_loaded();\n",
       "      }} else if (Date.now() < root._bokeh_timeout) {\n",
       "      setTimeout(run_inline_js, 100);\n",
       "    } else if (!root._bokeh_failed_load) {\n",
       "      console.log(\"Bokeh: BokehJS failed to load within specified timeout.\");\n",
       "      root._bokeh_failed_load = true;\n",
       "    } else if (force !== true) {\n",
       "      var cell = $(document.getElementById(\"166f21d9-6e1f-4947-9ef7-548f554d3b52\")).parents('.cell').data().cell;\n",
       "      cell.output_area.append_execute_result(NB_LOAD_WARNING)\n",
       "    }\n",
       "\n",
       "  }\n",
       "\n",
       "  if (root._bokeh_is_loading === 0) {\n",
       "    console.log(\"Bokeh: BokehJS loaded, going straight to plotting\");\n",
       "    run_inline_js();\n",
       "  } else {\n",
       "    load_libs(js_urls, function() {\n",
       "      console.log(\"Bokeh: BokehJS plotting callback run at\", now());\n",
       "      run_inline_js();\n",
       "    });\n",
       "  }\n",
       "}(window));"
      ],
      "application/vnd.bokehjs_load.v0+json": "\n(function(root) {\n  function now() {\n    return new Date();\n  }\n\n  var force = true;\n\n  if (typeof (root._bokeh_onload_callbacks) === \"undefined\" || force === true) {\n    root._bokeh_onload_callbacks = [];\n    root._bokeh_is_loading = undefined;\n  }\n\n  \n\n  \n  if (typeof (root._bokeh_timeout) === \"undefined\" || force === true) {\n    root._bokeh_timeout = Date.now() + 5000;\n    root._bokeh_failed_load = false;\n  }\n\n  var NB_LOAD_WARNING = {'data': {'text/html':\n     \"<div style='background-color: #fdd'>\\n\"+\n     \"<p>\\n\"+\n     \"BokehJS does not appear to have successfully loaded. If loading BokehJS from CDN, this \\n\"+\n     \"may be due to a slow or bad network connection. Possible fixes:\\n\"+\n     \"</p>\\n\"+\n     \"<ul>\\n\"+\n     \"<li>re-rerun `output_notebook()` to attempt to load from CDN again, or</li>\\n\"+\n     \"<li>use INLINE resources instead, as so:</li>\\n\"+\n     \"</ul>\\n\"+\n     \"<code>\\n\"+\n     \"from bokeh.resources import INLINE\\n\"+\n     \"output_notebook(resources=INLINE)\\n\"+\n     \"</code>\\n\"+\n     \"</div>\"}};\n\n  function display_loaded() {\n    var el = document.getElementById(\"166f21d9-6e1f-4947-9ef7-548f554d3b52\");\n    if (el != null) {\n      el.textContent = \"BokehJS is loading...\";\n    }\n    if (root.Bokeh !== undefined) {\n      if (el != null) {\n        el.textContent = \"BokehJS \" + root.Bokeh.version + \" successfully loaded.\";\n      }\n    } else if (Date.now() < root._bokeh_timeout) {\n      setTimeout(display_loaded, 100)\n    }\n  }\n\n\n  function run_callbacks() {\n    try {\n      root._bokeh_onload_callbacks.forEach(function(callback) { callback() });\n    }\n    finally {\n      delete root._bokeh_onload_callbacks\n    }\n    console.info(\"Bokeh: all callbacks have finished\");\n  }\n\n  function load_libs(js_urls, callback) {\n    root._bokeh_onload_callbacks.push(callback);\n    if (root._bokeh_is_loading > 0) {\n      console.log(\"Bokeh: BokehJS is being loaded, scheduling callback at\", now());\n      return null;\n    }\n    if (js_urls == null || js_urls.length === 0) {\n      run_callbacks();\n      return null;\n    }\n    console.log(\"Bokeh: BokehJS not loaded, scheduling load and callback at\", now());\n    root._bokeh_is_loading = js_urls.length;\n    for (var i = 0; i < js_urls.length; i++) {\n      var url = js_urls[i];\n      var s = document.createElement('script');\n      s.src = url;\n      s.async = false;\n      s.onreadystatechange = s.onload = function() {\n        root._bokeh_is_loading--;\n        if (root._bokeh_is_loading === 0) {\n          console.log(\"Bokeh: all BokehJS libraries loaded\");\n          run_callbacks()\n        }\n      };\n      s.onerror = function() {\n        console.warn(\"failed to load library \" + url);\n      };\n      console.log(\"Bokeh: injecting script tag for BokehJS library: \", url);\n      document.getElementsByTagName(\"head\")[0].appendChild(s);\n    }\n  };var element = document.getElementById(\"166f21d9-6e1f-4947-9ef7-548f554d3b52\");\n  if (element == null) {\n    console.log(\"Bokeh: ERROR: autoload.js configured with elementid '166f21d9-6e1f-4947-9ef7-548f554d3b52' but no matching script tag was found. \")\n    return false;\n  }\n\n  var js_urls = [\"https://cdn.pydata.org/bokeh/release/bokeh-0.12.13.min.js\", \"https://cdn.pydata.org/bokeh/release/bokeh-widgets-0.12.13.min.js\", \"https://cdn.pydata.org/bokeh/release/bokeh-tables-0.12.13.min.js\", \"https://cdn.pydata.org/bokeh/release/bokeh-gl-0.12.13.min.js\"];\n\n  var inline_js = [\n    function(Bokeh) {\n      Bokeh.set_log_level(\"info\");\n    },\n    \n    function(Bokeh) {\n      \n    },\n    function(Bokeh) {\n      console.log(\"Bokeh: injecting CSS: https://cdn.pydata.org/bokeh/release/bokeh-0.12.13.min.css\");\n      Bokeh.embed.inject_css(\"https://cdn.pydata.org/bokeh/release/bokeh-0.12.13.min.css\");\n      console.log(\"Bokeh: injecting CSS: https://cdn.pydata.org/bokeh/release/bokeh-widgets-0.12.13.min.css\");\n      Bokeh.embed.inject_css(\"https://cdn.pydata.org/bokeh/release/bokeh-widgets-0.12.13.min.css\");\n      console.log(\"Bokeh: injecting CSS: https://cdn.pydata.org/bokeh/release/bokeh-tables-0.12.13.min.css\");\n      Bokeh.embed.inject_css(\"https://cdn.pydata.org/bokeh/release/bokeh-tables-0.12.13.min.css\");\n    }\n  ];\n\n  function run_inline_js() {\n    \n    if ((root.Bokeh !== undefined) || (force === true)) {\n      for (var i = 0; i < inline_js.length; i++) {\n        inline_js[i].call(root, root.Bokeh);\n      }if (force === true) {\n        display_loaded();\n      }} else if (Date.now() < root._bokeh_timeout) {\n      setTimeout(run_inline_js, 100);\n    } else if (!root._bokeh_failed_load) {\n      console.log(\"Bokeh: BokehJS failed to load within specified timeout.\");\n      root._bokeh_failed_load = true;\n    } else if (force !== true) {\n      var cell = $(document.getElementById(\"166f21d9-6e1f-4947-9ef7-548f554d3b52\")).parents('.cell').data().cell;\n      cell.output_area.append_execute_result(NB_LOAD_WARNING)\n    }\n\n  }\n\n  if (root._bokeh_is_loading === 0) {\n    console.log(\"Bokeh: BokehJS loaded, going straight to plotting\");\n    run_inline_js();\n  } else {\n    load_libs(js_urls, function() {\n      console.log(\"Bokeh: BokehJS plotting callback run at\", now());\n      run_inline_js();\n    });\n  }\n}(window));"
     },
     "metadata": {},
     "output_type": "display_data"
    }
   ],
   "source": [
    "from py2neo import Node, Relationship, Graph\n",
    "from numpy.random import rand\n",
    "import numpy as num\n",
    "from bokeh.plotting import output_notebook,figure, show\n",
    "from bokeh.layouts import row,column,gridplot\n",
    "from bokeh.models import Label\n",
    "import numpy as np\n",
    "from curve import *\n",
    "from bokeh.models import Span,Legend\n",
    "output_notebook()"
   ]
  },
  {
   "cell_type": "code",
   "execution_count": 93,
   "metadata": {},
   "outputs": [
    {
     "data": {
      "application/javascript": [
       "IPython.OutputArea.prototype._should_scroll = function(lines) {\n",
       "    return false;\n",
       "}"
      ],
      "text/plain": [
       "<IPython.core.display.Javascript object>"
      ]
     },
     "metadata": {},
     "output_type": "display_data"
    }
   ],
   "source": [
    "%%javascript\n",
    "IPython.OutputArea.prototype._should_scroll = function(lines) {\n",
    "    return false;\n",
    "}"
   ]
  },
  {
   "cell_type": "code",
   "execution_count": 94,
   "metadata": {},
   "outputs": [],
   "source": [
    "import pickle as pk\n",
    "A = pk.load(open('local.pk','rb'))\n",
    "\n",
    "\n",
    "import random\n",
    "\n",
    "def gen_hex_colour_code():\n",
    "   return '#'+''.join([random.choice('0123456789ABCDEF') for x in range(6)])\n",
    "\n",
    "C = {}"
   ]
  },
  {
   "cell_type": "code",
   "execution_count": 95,
   "metadata": {},
   "outputs": [
    {
     "name": "stderr",
     "output_type": "stream",
     "text": [
      "/Users/kshadi3/Desktop/MANIA2/sample/curve.py:271: RuntimeWarning: invalid value encountered in double_scalars\n",
      "  ce = num.sum([xx[1] for xx in A[i]['envelope']])/len(A[i]['envelope'])\n",
      "/Users/kshadi3/Desktop/MANIA2/sample/curve.py:272: RuntimeWarning: invalid value encountered in double_scalars\n",
      "  cex = num.sum([xx[0] for xx in A[i]['envelope']])/len(A[i]['envelope'])\n",
      "/anaconda2/envs/py36/lib/python3.6/site-packages/sklearn/utils/validation.py:578: DataConversionWarning: A column-vector y was passed when a 1d array was expected. Please change the shape of y to (n_samples, ), for example using ravel().\n",
      "  y = column_or_1d(y, warn=True)\n"
     ]
    }
   ],
   "source": [
    "R = roi_regressors()"
   ]
  },
  {
   "cell_type": "code",
   "execution_count": 96,
   "metadata": {},
   "outputs": [
    {
     "name": "stderr",
     "output_type": "stream",
     "text": [
      "/Users/kshadi3/Desktop/MANIA2/sample/curve.py:319: RuntimeWarning: invalid value encountered in double_scalars\n",
      "  fx = (sl[0]*r[0]+(100-r[0])*tmp)/100\n"
     ]
    }
   ],
   "source": [
    "D = all_regressors(R,A)"
   ]
  },
  {
   "cell_type": "code",
   "execution_count": 109,
   "metadata": {},
   "outputs": [
    {
     "data": {
      "text/plain": [
       "'L1'"
      ]
     },
     "execution_count": 109,
     "metadata": {},
     "output_type": "execute_result"
    }
   ],
   "source": [
    "A[1]['n1']"
   ]
  },
  {
   "cell_type": "code",
   "execution_count": 110,
   "metadata": {},
   "outputs": [],
   "source": [
    "l = len(A)\n",
    "A_dic = {}\n",
    "for i in range(l):\n",
    "    tmp = A[i]\n",
    "    n1 = tmp['n1']\n",
    "    n2 = tmp['n2']\n",
    "    A_dic[n1+n2] = i"
   ]
  },
  {
   "cell_type": "code",
   "execution_count": 137,
   "metadata": {},
   "outputs": [],
   "source": [
    "def roi_rot(w):\n",
    "    p = w.split('L')\n",
    "    return 'L'+p[-1]+'L'+p[1]\n",
    "def logit(t):\n",
    "    tmp = max(1,t)\n",
    "    return num.log(tmp/5000.0)"
   ]
  },
  {
   "cell_type": "code",
   "execution_count": 138,
   "metadata": {},
   "outputs": [],
   "source": [
    "null = {}\n",
    "for i in range(1,181):\n",
    "    for j in range(1,181):\n",
    "        if (i==j):continue\n",
    "        ind = A_dic['L'+str(i)+'L'+str(j)]\n",
    "        tmp = A[ind]['weight']\n",
    "        tmp = logit(tmp)\n",
    "        if (tmp < -4.605170185988091):\n",
    "            null['L'+str(i)+'L'+str(j)] = 1\n",
    "        else:\n",
    "            null['L'+str(i)+'L'+str(j)] = 0"
   ]
  },
  {
   "cell_type": "code",
   "execution_count": 162,
   "metadata": {},
   "outputs": [],
   "source": [
    "total = sum(null.values()) # total null connections\n",
    "asym = 0 # total asymmetric null connections\n",
    "raw = [] #asymmtric case max weights in both directions\n",
    "for w in null.keys():\n",
    "    if null[w] == 1 and null[roi_rot(w)] == 0:\n",
    "        asym = asym+1\n",
    "        ind1 = A_dic[w]\n",
    "        t1 = A[ind1]['weight']\n",
    "        s1 = logit(t1)\n",
    "        ind2 = A_dic[roi_rot(w)]\n",
    "        t2 = A[ind2]['weight']\n",
    "        s2 = logit(t2)\n",
    "        raw.append((s1,s2))"
   ]
  },
  {
   "cell_type": "markdown",
   "metadata": {},
   "source": [
    "# Case 1: Below the Noise floor in at least one direction\n",
    "We call a connection below the noise floor a `null` connection"
   ]
  },
  {
   "cell_type": "code",
   "execution_count": 159,
   "metadata": {},
   "outputs": [
    {
     "name": "stdout",
     "output_type": "stream",
     "text": [
      "Total null connections:31575\n",
      "Total null connections (percentage of all connections):0.9799813780260708\n",
      "Total asymmetric null connections:563\n",
      "Total asymmetric null connections (percentage of all null connections):0.017830562153602535\n"
     ]
    }
   ],
   "source": [
    "print('Total null connections:'+str(total))\n",
    "print('Total null connections (percentage of all connections):'+str(total/32220))\n",
    "print('Total asymmetric null connections:'+str(asym))\n",
    "print('Total asymmetric null connections (percentage of all null connections):'+str(asym/total))"
   ]
  },
  {
   "cell_type": "code",
   "execution_count": 163,
   "metadata": {},
   "outputs": [
    {
     "data": {
      "text/html": [
       "\n",
       "<div class=\"bk-root\">\n",
       "    <div class=\"bk-plotdiv\" id=\"c928c86c-8b34-421e-9ddd-fa3639a4cc61\"></div>\n",
       "</div>"
      ]
     },
     "metadata": {},
     "output_type": "display_data"
    },
    {
     "data": {
      "application/javascript": [
       "(function(root) {\n",
       "  function embed_document(root) {\n",
       "    \n",
       "  var docs_json = {\"b9bf00fd-61f1-40dc-90de-317e54f6ae71\":{\"roots\":{\"references\":[{\"attributes\":{\"axis_label\":\"Distribution\",\"formatter\":{\"id\":\"f16a4808-2ef3-4594-a945-84cf84135d10\",\"type\":\"BasicTickFormatter\"},\"plot\":{\"id\":\"9c166292-c7d9-4ec2-a541-e4ee4563354c\",\"subtype\":\"Figure\",\"type\":\"Plot\"},\"ticker\":{\"id\":\"911d0223-bd7e-4a56-8d9e-12575bec4672\",\"type\":\"BasicTicker\"}},\"id\":\"e2f89e68-737b-47ca-84ca-f83508ee0635\",\"type\":\"LinearAxis\"},{\"attributes\":{},\"id\":\"911d0223-bd7e-4a56-8d9e-12575bec4672\",\"type\":\"BasicTicker\"},{\"attributes\":{\"callback\":null,\"column_names\":[\"left\",\"right\",\"top\"],\"data\":{\"left\":{\"__ndarray__\":\"beLil2pXEsBMLoWNSg8SwCt6J4MqxxHACsbJeAp/EcDpEWxu6jYRwMhdDmTK7hDAp6mwWaqmEMCG9VJPil4QwGVB9URqFhDAiRovdZScD8BHsnNgVAwPwAVKuEsUfA7Aw+H8NtTrDcCBeUEilFsNwD8Rhg1UywzA/qjK+BM7DMC8QA/k06oLwHrYU8+TGgvAOHCYulOKCsD2B92lE/oJwLSfIZHTaQnAcjdmfJPZCMAwz6pnU0kIwO5m71ITuQfArP4zPtMoB8Bqlngpk5gGwCguvRRTCAbA5sUBABN4BcCkXUbr0ucEwGP1itaSVwTAIY3PwVLHA8DfJBStEjcDwJ28WJjSpgLAW1Sdg5IWAsAZ7OFuUoYBwNeDJloS9gDAlRtrRdJlAMCmZl9hJKv/vySW6Dekiv6/oMVxDiRq/b8c9frko0n8v5gkhLsjKfu/FFQNkqMI+r+Qg5ZoI+j4vwyzHz+jx/e/iOKoFSOn9r8EEjLsoob1v4BBu8IiZvS//HBEmaJF8796oM1vIiXyvw==\",\"dtype\":\"float64\",\"shape\":[50]},\"right\":{\"__ndarray__\":\"TC6FjUoPEsAreieDKscRwArGyXgKfxHA6RFsbuo2EcDIXQ5kyu4QwKepsFmqphDAhvVST4peEMBlQfVEahYQwIkaL3WUnA/AR7JzYFQMD8AFSrhLFHwOwMPh/DbU6w3AgXlBIpRbDcA/EYYNVMsMwP6oyvgTOwzAvEAP5NOqC8B62FPPkxoLwDhwmLpTigrA9gfdpRP6CcC0nyGR02kJwHI3ZnyT2QjAMM+qZ1NJCMDuZu9SE7kHwKz+Mz7TKAfAapZ4KZOYBsAoLr0UUwgGwObFAQATeAXApF1G69LnBMBj9YrWklcEwCGNz8FSxwPA3yQUrRI3A8CdvFiY0qYCwFtUnYOSFgLAGezhblKGAcDXgyZaEvYAwJUba0XSZQDApmZfYSSr/78klug3pIr+v6DFcQ4kav2/HPX65KNJ/L+YJIS7Iyn7vxRUDZKjCPq/kIOWaCPo+L8Msx8/o8f3v4jiqBUjp/a/BBIy7KKG9b+AQbvCImb0v/xwRJmiRfO/eqDNbyIl8r/0z1ZGogTxvw==\",\"dtype\":\"float64\",\"shape\":[50]},\"top\":{\"__ndarray__\":\"qAKQJWpC8T8hBNBdidHqPwsEsNqVSeo/OwNwuxL65D/NA1BRu7HoPxsDwHYlLuQ/jwPwx+AZ5z/8AhAyOGLjP3EEgKJ2nes/0gLQK1FS4j++BEC1K83eP9IC0CtRUuI//AIQMjhi4z/YA+AStfXYPwQE4BK19dg/hANgBufV1j8wA+D5GLbUP/ECgHA+HtM/RQMAfQw+1T8WBECcj43aP8gCQGpXDtI/vgRAtSvNzj/CA8CPwW3IP/ECgHA+HsM/6ASAuxLdzz/xAoBwPh7DP/ECgHA+HsM/GwPAdiUuxD8gBYC7Et2/P0AEgKJ2nbs/ngIAZHD+wD+eAgBkcP6wP0UDAH0MPqU/lAQAr0S9rT+UBACvRL2tP/ECgHA+HrM/ngIAZHD+oD+8AgBkcP6gP+wDAJaofak/ngIAZHD+oD+eAgBkcP6gPwAAAAAAAAAAngIAZHD+kD+eAgBkcP6QPwAAAAAAAAAAngIAZHD+kD8AAAAAAAAAAAAAAAAAAAAAAAAAAAAAAACAAgBkcP6APw==\",\"dtype\":\"float64\",\"shape\":[50]}}},\"id\":\"c133bc8b-162e-4e02-955a-4abbcd1c0d70\",\"type\":\"ColumnDataSource\"},{\"attributes\":{\"dimension\":1,\"plot\":{\"id\":\"9c166292-c7d9-4ec2-a541-e4ee4563354c\",\"subtype\":\"Figure\",\"type\":\"Plot\"},\"ticker\":{\"id\":\"911d0223-bd7e-4a56-8d9e-12575bec4672\",\"type\":\"BasicTicker\"}},\"id\":\"06eb2a82-742b-45e9-9b42-e4734278ace5\",\"type\":\"Grid\"},{\"attributes\":{\"data_source\":{\"id\":\"c133bc8b-162e-4e02-955a-4abbcd1c0d70\",\"type\":\"ColumnDataSource\"},\"glyph\":{\"id\":\"50906283-3ef2-432f-84d3-678a3ca5f8b0\",\"type\":\"Quad\"},\"hover_glyph\":null,\"muted_glyph\":null,\"nonselection_glyph\":{\"id\":\"eea1d33b-84fa-43fa-877b-9915e17821f3\",\"type\":\"Quad\"},\"selection_glyph\":null,\"view\":{\"id\":\"8122de3d-6d10-40bc-816c-f398103364eb\",\"type\":\"CDSView\"}},\"id\":\"c726383e-dd3a-4d5e-bac1-5d58f891bbf7\",\"type\":\"GlyphRenderer\"},{\"attributes\":{\"bottom_units\":\"screen\",\"fill_alpha\":{\"value\":0.5},\"fill_color\":{\"value\":\"lightgrey\"},\"left_units\":\"screen\",\"level\":\"overlay\",\"line_alpha\":{\"value\":1.0},\"line_color\":{\"value\":\"black\"},\"line_dash\":[4,4],\"line_width\":{\"value\":2},\"plot\":null,\"render_mode\":\"css\",\"right_units\":\"screen\",\"top_units\":\"screen\"},\"id\":\"a0ba4b14-e448-4ed4-b482-03ceb9434826\",\"type\":\"BoxAnnotation\"},{\"attributes\":{\"source\":{\"id\":\"c133bc8b-162e-4e02-955a-4abbcd1c0d70\",\"type\":\"ColumnDataSource\"}},\"id\":\"8122de3d-6d10-40bc-816c-f398103364eb\",\"type\":\"CDSView\"},{\"attributes\":{},\"id\":\"16e8d974-08a9-4026-8bff-ec10f2f2e442\",\"type\":\"PanTool\"},{\"attributes\":{\"below\":[{\"id\":\"0d698a60-08ce-4a7d-9231-7a56fd517b05\",\"type\":\"LinearAxis\"}],\"left\":[{\"id\":\"e2f89e68-737b-47ca-84ca-f83508ee0635\",\"type\":\"LinearAxis\"}],\"plot_height\":400,\"plot_width\":400,\"renderers\":[{\"id\":\"0d698a60-08ce-4a7d-9231-7a56fd517b05\",\"type\":\"LinearAxis\"},{\"id\":\"84a26f73-1dda-4286-9e97-484f5d9ce6f3\",\"type\":\"Grid\"},{\"id\":\"e2f89e68-737b-47ca-84ca-f83508ee0635\",\"type\":\"LinearAxis\"},{\"id\":\"06eb2a82-742b-45e9-9b42-e4734278ace5\",\"type\":\"Grid\"},{\"id\":\"a0ba4b14-e448-4ed4-b482-03ceb9434826\",\"type\":\"BoxAnnotation\"},{\"id\":\"c726383e-dd3a-4d5e-bac1-5d58f891bbf7\",\"type\":\"GlyphRenderer\"}],\"title\":{\"id\":\"6e2e43c9-5a28-472c-a33b-0902e0f178ed\",\"type\":\"Title\"},\"toolbar\":{\"id\":\"40a0523d-c6ce-45e3-962f-36ce7fbbda55\",\"type\":\"Toolbar\"},\"x_range\":{\"id\":\"e1c3e809-6fbe-465d-90c2-a8c74e92fe47\",\"type\":\"DataRange1d\"},\"x_scale\":{\"id\":\"d2be2664-fbd1-482a-8b0c-52a7711b6787\",\"type\":\"LinearScale\"},\"y_range\":{\"id\":\"aa3ca6ee-b983-4c27-931d-177f6b135bbc\",\"type\":\"DataRange1d\"},\"y_scale\":{\"id\":\"a7366548-96fe-44f4-b57b-ee633b073cfc\",\"type\":\"LinearScale\"}},\"id\":\"9c166292-c7d9-4ec2-a541-e4ee4563354c\",\"subtype\":\"Figure\",\"type\":\"Plot\"},{\"attributes\":{},\"id\":\"f16a4808-2ef3-4594-a945-84cf84135d10\",\"type\":\"BasicTickFormatter\"},{\"attributes\":{},\"id\":\"663b87e6-ee4b-402f-bdc6-d48fe8e7cd40\",\"type\":\"WheelZoomTool\"},{\"attributes\":{\"plot\":null,\"text\":\"Asummetry in null cases\"},\"id\":\"6e2e43c9-5a28-472c-a33b-0902e0f178ed\",\"type\":\"Title\"},{\"attributes\":{\"overlay\":{\"id\":\"a0ba4b14-e448-4ed4-b482-03ceb9434826\",\"type\":\"BoxAnnotation\"}},\"id\":\"04b2c722-e0af-437f-8ac4-8f03673b1d7b\",\"type\":\"BoxZoomTool\"},{\"attributes\":{},\"id\":\"a7366548-96fe-44f4-b57b-ee633b073cfc\",\"type\":\"LinearScale\"},{\"attributes\":{},\"id\":\"60d297e6-a536-4fb5-8048-1db7dfae8eff\",\"type\":\"SaveTool\"},{\"attributes\":{},\"id\":\"711e97f1-a36e-4486-81a2-928c7ab00396\",\"type\":\"ResetTool\"},{\"attributes\":{\"callback\":null},\"id\":\"aa3ca6ee-b983-4c27-931d-177f6b135bbc\",\"type\":\"DataRange1d\"},{\"attributes\":{\"callback\":null},\"id\":\"e1c3e809-6fbe-465d-90c2-a8c74e92fe47\",\"type\":\"DataRange1d\"},{\"attributes\":{\"active_drag\":\"auto\",\"active_inspect\":\"auto\",\"active_scroll\":\"auto\",\"active_tap\":\"auto\",\"tools\":[{\"id\":\"16e8d974-08a9-4026-8bff-ec10f2f2e442\",\"type\":\"PanTool\"},{\"id\":\"663b87e6-ee4b-402f-bdc6-d48fe8e7cd40\",\"type\":\"WheelZoomTool\"},{\"id\":\"04b2c722-e0af-437f-8ac4-8f03673b1d7b\",\"type\":\"BoxZoomTool\"},{\"id\":\"60d297e6-a536-4fb5-8048-1db7dfae8eff\",\"type\":\"SaveTool\"},{\"id\":\"711e97f1-a36e-4486-81a2-928c7ab00396\",\"type\":\"ResetTool\"},{\"id\":\"c0407d82-b440-4a7e-9aaa-5175e9a016d6\",\"type\":\"HelpTool\"}]},\"id\":\"40a0523d-c6ce-45e3-962f-36ce7fbbda55\",\"type\":\"Toolbar\"},{\"attributes\":{},\"id\":\"c0407d82-b440-4a7e-9aaa-5175e9a016d6\",\"type\":\"HelpTool\"},{\"attributes\":{},\"id\":\"d2be2664-fbd1-482a-8b0c-52a7711b6787\",\"type\":\"LinearScale\"},{\"attributes\":{\"plot\":{\"id\":\"9c166292-c7d9-4ec2-a541-e4ee4563354c\",\"subtype\":\"Figure\",\"type\":\"Plot\"},\"ticker\":{\"id\":\"209de907-30a7-4f33-b19e-a8fa80df626f\",\"type\":\"BasicTicker\"}},\"id\":\"84a26f73-1dda-4286-9e97-484f5d9ce6f3\",\"type\":\"Grid\"},{\"attributes\":{},\"id\":\"ecaa3bec-249e-403e-9e23-77e479eaabac\",\"type\":\"BasicTickFormatter\"},{\"attributes\":{\"axis_label\":\"Opposite direction\",\"formatter\":{\"id\":\"ecaa3bec-249e-403e-9e23-77e479eaabac\",\"type\":\"BasicTickFormatter\"},\"plot\":{\"id\":\"9c166292-c7d9-4ec2-a541-e4ee4563354c\",\"subtype\":\"Figure\",\"type\":\"Plot\"},\"ticker\":{\"id\":\"209de907-30a7-4f33-b19e-a8fa80df626f\",\"type\":\"BasicTicker\"}},\"id\":\"0d698a60-08ce-4a7d-9231-7a56fd517b05\",\"type\":\"LinearAxis\"},{\"attributes\":{\"bottom\":{\"value\":0},\"fill_color\":{\"value\":\"#036564\"},\"left\":{\"field\":\"left\"},\"line_color\":{\"value\":\"#033649\"},\"right\":{\"field\":\"right\"},\"top\":{\"field\":\"top\"}},\"id\":\"50906283-3ef2-432f-84d3-678a3ca5f8b0\",\"type\":\"Quad\"},{\"attributes\":{},\"id\":\"209de907-30a7-4f33-b19e-a8fa80df626f\",\"type\":\"BasicTicker\"},{\"attributes\":{\"bottom\":{\"value\":0},\"fill_alpha\":{\"value\":0.1},\"fill_color\":{\"value\":\"#1f77b4\"},\"left\":{\"field\":\"left\"},\"line_alpha\":{\"value\":0.1},\"line_color\":{\"value\":\"#1f77b4\"},\"right\":{\"field\":\"right\"},\"top\":{\"field\":\"top\"}},\"id\":\"eea1d33b-84fa-43fa-877b-9915e17821f3\",\"type\":\"Quad\"}],\"root_ids\":[\"9c166292-c7d9-4ec2-a541-e4ee4563354c\"]},\"title\":\"Bokeh Application\",\"version\":\"0.12.13\"}};\n",
       "  var render_items = [{\"docid\":\"b9bf00fd-61f1-40dc-90de-317e54f6ae71\",\"elementid\":\"c928c86c-8b34-421e-9ddd-fa3639a4cc61\",\"modelid\":\"9c166292-c7d9-4ec2-a541-e4ee4563354c\"}];\n",
       "  root.Bokeh.embed.embed_items_notebook(docs_json, render_items);\n",
       "\n",
       "  }\n",
       "  if (root.Bokeh !== undefined) {\n",
       "    embed_document(root);\n",
       "  } else {\n",
       "    var attempts = 0;\n",
       "    var timer = setInterval(function(root) {\n",
       "      if (root.Bokeh !== undefined) {\n",
       "        embed_document(root);\n",
       "        clearInterval(timer);\n",
       "      }\n",
       "      attempts++;\n",
       "      if (attempts > 100) {\n",
       "        console.log(\"Bokeh: ERROR: Unable to run BokehJS code because BokehJS library is missing\")\n",
       "        clearInterval(timer);\n",
       "      }\n",
       "    }, 10, root)\n",
       "  }\n",
       "})(window);"
      ],
      "application/vnd.bokehjs_exec.v0+json": ""
     },
     "metadata": {
      "application/vnd.bokehjs_exec.v0+json": {
       "id": "9c166292-c7d9-4ec2-a541-e4ee4563354c"
      }
     },
     "output_type": "display_data"
    }
   ],
   "source": [
    "mp = list(map(lambda x:x[1],raw))\n",
    "p1 = figure(plot_width=400, plot_height=400,title = 'Asummetry in null cases',y_axis_label = \"Distribution\",x_axis_label = \"Opposite direction\")\n",
    "q1,q2 = np.percentile(mp,[0,100])\n",
    "\n",
    "measured = [xx for xx in mp if (xx>q1 and xx<q2)]\n",
    "hist, edges = np.histogram(measured, density=True, bins=50)\n",
    "\n",
    "p1.quad(top=hist, bottom=0, left=edges[:-1], right=edges[1:],fill_color=\"#036564\", line_color=\"#033649\")\n",
    "show(p1)"
   ]
  },
  {
   "cell_type": "markdown",
   "metadata": {},
   "source": [
    "# CASE 2: 0-distance Connection"
   ]
  },
  {
   "cell_type": "code",
   "execution_count": 164,
   "metadata": {},
   "outputs": [],
   "source": [
    "total = 0 # total adjacent connections\n",
    "asym = 0 # total asymmetric adjacent connections\n",
    "raw = [] #asymmtric case max weights in both directions\n",
    "for w in null.keys():\n",
    "    ind1 = A_dic[w]\n",
    "    t1 = A[ind1]['a'][0]\n",
    "    s1 = logit(A[ind1]['weight'])\n",
    "    if t1<1:\n",
    "        total = total + 1\n",
    "        ind2 = A_dic[roi_rot(w)]\n",
    "        s2 = logit(A[ind2]['weight'])\n",
    "        t2 = A[ind2]['a'][0]\n",
    "        if t1<1 and t2>1:\n",
    "            asym = asym + 1\n",
    "            raw.append((s1,s2))"
   ]
  },
  {
   "cell_type": "code",
   "execution_count": 165,
   "metadata": {},
   "outputs": [
    {
     "name": "stdout",
     "output_type": "stream",
     "text": [
      "Total 0-distance connections:31575\n",
      "Total 0-distance connections (percentage of all connections):0.9799813780260708\n",
      "Total asymmetric 0-distance connections:563\n",
      "Total asymmetric 0-distance connections (percentage of all null connections):0.017830562153602535\n"
     ]
    }
   ],
   "source": [
    "print('Total 0-distance connections:'+str(total))\n",
    "print('Total 0-distance connections (percentage of all connections):'+str(total/32220))\n",
    "print('Total asymmetric 0-distance connections:'+str(asym))\n",
    "print('Total asymmetric 0-distance connections (percentage of all null connections):'+str(asym/total))"
   ]
  },
  {
   "cell_type": "code",
   "execution_count": 166,
   "metadata": {},
   "outputs": [
    {
     "data": {
      "text/html": [
       "\n",
       "<div class=\"bk-root\">\n",
       "    <div class=\"bk-plotdiv\" id=\"16cf8d4b-523f-4bc0-9a75-53c5556a333e\"></div>\n",
       "</div>"
      ]
     },
     "metadata": {},
     "output_type": "display_data"
    },
    {
     "data": {
      "application/javascript": [
       "(function(root) {\n",
       "  function embed_document(root) {\n",
       "    \n",
       "  var docs_json = {\"d739b440-5fc1-485f-849a-1db45756f8ba\":{\"roots\":{\"references\":[{\"attributes\":{\"axis_label\":\"Distribution\",\"formatter\":{\"id\":\"3e696688-0942-41f2-8e0c-4e2c43fab863\",\"type\":\"BasicTickFormatter\"},\"plot\":{\"id\":\"1be452d1-2baa-411e-bd9d-6526912affb9\",\"subtype\":\"Figure\",\"type\":\"Plot\"},\"ticker\":{\"id\":\"a2d12a53-0a19-4393-bedd-1ef039f40567\",\"type\":\"BasicTicker\"}},\"id\":\"60299835-7fab-4a7a-8a17-52b9a5dab039\",\"type\":\"LinearAxis\"},{\"attributes\":{\"bottom\":{\"value\":0},\"fill_alpha\":{\"value\":0.1},\"fill_color\":{\"value\":\"#1f77b4\"},\"left\":{\"field\":\"left\"},\"line_alpha\":{\"value\":0.1},\"line_color\":{\"value\":\"#1f77b4\"},\"right\":{\"field\":\"right\"},\"top\":{\"field\":\"top\"}},\"id\":\"ec2e7922-f338-4fa9-95f4-976bf88eaf24\",\"type\":\"Quad\"},{\"attributes\":{\"bottom\":{\"value\":0},\"fill_color\":{\"value\":\"#036564\"},\"left\":{\"field\":\"left\"},\"line_color\":{\"value\":\"#033649\"},\"right\":{\"field\":\"right\"},\"top\":{\"field\":\"top\"}},\"id\":\"8a77c53d-073b-4093-bd97-baa3457d5f9f\",\"type\":\"Quad\"},{\"attributes\":{},\"id\":\"a2d12a53-0a19-4393-bedd-1ef039f40567\",\"type\":\"BasicTicker\"},{\"attributes\":{\"source\":{\"id\":\"dd4b4d3e-e274-49e5-a934-063001cdf7ff\",\"type\":\"ColumnDataSource\"}},\"id\":\"3424b063-c896-447e-adb3-af08253c5bd9\",\"type\":\"CDSView\"},{\"attributes\":{\"dimension\":1,\"plot\":{\"id\":\"1be452d1-2baa-411e-bd9d-6526912affb9\",\"subtype\":\"Figure\",\"type\":\"Plot\"},\"ticker\":{\"id\":\"a2d12a53-0a19-4393-bedd-1ef039f40567\",\"type\":\"BasicTicker\"}},\"id\":\"d2e54804-284c-4acf-9923-3ea714a4b0a6\",\"type\":\"Grid\"},{\"attributes\":{\"callback\":null,\"column_names\":[\"left\",\"right\",\"top\"],\"data\":{\"left\":{\"__ndarray__\":\"AASZsPnljT+25VP9W/u9P3ZVSmL8HMw/CFz1YiWe1D9WjcWUzC3bP1LfSuO53uA/+PcyfI0m5D+fEBsVYW7nP0YpA640tuo/7UHrRgj+7T9Krenv7aLwP525XbzXRvI/8MXRiMHq8z9E0kVVq471P5feuSGVMvc/6+ot7n7W+D8+96G6aHr6P5EDFodSHvw/5Q+KUzzC/T84HP4fJmb/P0YUOfYHhQBAbxpz3PxWAUCZIK3C8SgCQMMm56jm+gJA7Cwhj9vMA0AWM1t10J4EQEA5lVvFcAVAaj/PQbpCBkCTRQkorxQHQL1LQw6k5gdA51F99Ji4CEAQWLfajYoJQDpe8cCCXApAZGQrp3cuC0CNamWNbAAMQLdwn3Nh0gxA4XbZWVakDUAKfRNAS3YOQDSDTSZASA9Ar8RDhhoNEEDEx2D5FHYQQNnKfWwP3xBA7c2a3wlIEUAC0bdSBLERQBfU1MX+GRJALNfxOPmCEkBB2g6s8+sSQFbdKx/uVBNAauBIkui9E0B/42UF4yYUQA==\",\"dtype\":\"float64\",\"shape\":[50]},\"right\":{\"__ndarray__\":\"tuVT/Vv7vT92VUpi/BzMPwhc9WIlntQ/Vo3FlMwt2z9S30rjud7gP/j3MnyNJuQ/nxAbFWFu5z9GKQOuNLbqP+1B60YI/u0/Sq3p7+2i8D+duV2810byP/DF0YjB6vM/RNJFVauO9T+X3rkhlTL3P+vqLe5+1vg/Pvehumh6+j+RAxaHUh78P+UPilM8wv0/OBz+HyZm/z9GFDn2B4UAQG8ac9z8VgFAmSCtwvEoAkDDJueo5voCQOwsIY/bzANAFjNbddCeBEBAOZVbxXAFQGo/z0G6QgZAk0UJKK8UB0C9S0MOpOYHQOdRffSYuAhAEFi32o2KCUA6XvHAglwKQGRkK6d3LgtAjWpljWwADEC3cJ9zYdIMQOF22VlWpA1ACn0TQEt2DkA0g00mQEgPQK/EQ4YaDRBAxMdg+RR2EEDZyn1sD98QQO3Nmt8JSBFAAtG3UgSxEUAX1NTF/hkSQCzX8Tj5ghJAQdoOrPPrEkBW3Ssf7lQTQGrgSJLovRNAf+NlBeMmFECU5oJ43Y8UQA==\",\"dtype\":\"float64\",\"shape\":[50]},\"top\":{\"__ndarray__\":\"dtnTDll54z922dMOWXnjP4sDkcMnseA/Oluc8OzR2z9GSJPM6OrSPwCgnvmtC94/mH0ddc3u3D9Vwh9+jijfP2GvFlqKQeY/5yUSSAjO0T+OA5HDJ7HQPwqNldWpJNU/MVuc8OzR2z9CW5zw7NHbP/2MldWpJNU/q2oUUckHxD+rahRRyQfUP1uvFlqKQcY/JfQYY0t7yD+EA5HDJ7HQP3WvFlqKQcY/W68WWopBxj+eahRRyQfEP5gDkcMnsdA/W68WWopBtj+eahRRyQfEP9M4G2wMtco/9DgbbAy1uj/iJRJICM6hP+IlEkgIzrE/da8WWopBtj/iJRJICM6xP+IlEkgIzpE/+CUSSAjOkT9brxZaikG2P9M4G2wMtao/9DgbbAy1qj/TOBtsDLWqP+IlEkgIzqE/4iUSSAjOkT/iJRJICM6RPxU5G2wMtao/AAAAAAAAAAAAAAAAAAAAAAAAAAAAAAAAAAAAAAAAAAAAAAAAAAAAAAAAAAAAAAAA4iUSSAjOkT/iJRJICM6RPw==\",\"dtype\":\"float64\",\"shape\":[50]}}},\"id\":\"dd4b4d3e-e274-49e5-a934-063001cdf7ff\",\"type\":\"ColumnDataSource\"},{\"attributes\":{},\"id\":\"5b357f95-499a-4c58-ac0c-d747800751c8\",\"type\":\"HelpTool\"},{\"attributes\":{\"plot\":null,\"text\":\"Asummetry in 0-distance cases\"},\"id\":\"62b2b317-46be-4958-b9e1-aae9c91cb9ef\",\"type\":\"Title\"},{\"attributes\":{\"bottom_units\":\"screen\",\"fill_alpha\":{\"value\":0.5},\"fill_color\":{\"value\":\"lightgrey\"},\"left_units\":\"screen\",\"level\":\"overlay\",\"line_alpha\":{\"value\":1.0},\"line_color\":{\"value\":\"black\"},\"line_dash\":[4,4],\"line_width\":{\"value\":2},\"plot\":null,\"render_mode\":\"css\",\"right_units\":\"screen\",\"top_units\":\"screen\"},\"id\":\"062a3a9f-4fc8-4253-8af8-288329645e6c\",\"type\":\"BoxAnnotation\"},{\"attributes\":{\"below\":[{\"id\":\"eb3ee090-f24a-46c0-bdaa-d7d4e5406ae5\",\"type\":\"LinearAxis\"}],\"left\":[{\"id\":\"60299835-7fab-4a7a-8a17-52b9a5dab039\",\"type\":\"LinearAxis\"}],\"plot_height\":400,\"plot_width\":400,\"renderers\":[{\"id\":\"eb3ee090-f24a-46c0-bdaa-d7d4e5406ae5\",\"type\":\"LinearAxis\"},{\"id\":\"f72aab78-5258-4df0-8187-c1c5278f6bb9\",\"type\":\"Grid\"},{\"id\":\"60299835-7fab-4a7a-8a17-52b9a5dab039\",\"type\":\"LinearAxis\"},{\"id\":\"d2e54804-284c-4acf-9923-3ea714a4b0a6\",\"type\":\"Grid\"},{\"id\":\"062a3a9f-4fc8-4253-8af8-288329645e6c\",\"type\":\"BoxAnnotation\"},{\"id\":\"257df38a-aaf5-41c5-ba16-929403a33ad9\",\"type\":\"GlyphRenderer\"}],\"title\":{\"id\":\"62b2b317-46be-4958-b9e1-aae9c91cb9ef\",\"type\":\"Title\"},\"toolbar\":{\"id\":\"e3c83a66-a1df-42ea-b6c9-fae51eeea6d5\",\"type\":\"Toolbar\"},\"x_range\":{\"id\":\"2d0d17de-74f7-4928-9488-4a22873633a0\",\"type\":\"DataRange1d\"},\"x_scale\":{\"id\":\"da81dc70-2ed8-479d-9cbc-ed101aebceb8\",\"type\":\"LinearScale\"},\"y_range\":{\"id\":\"31c9c02b-cbfe-4558-a591-3dddbfdc4cdf\",\"type\":\"DataRange1d\"},\"y_scale\":{\"id\":\"674674f1-0ba7-4587-836b-ada1219ff540\",\"type\":\"LinearScale\"}},\"id\":\"1be452d1-2baa-411e-bd9d-6526912affb9\",\"subtype\":\"Figure\",\"type\":\"Plot\"},{\"attributes\":{},\"id\":\"59580688-335e-4108-8ce7-00b30fd141cd\",\"type\":\"PanTool\"},{\"attributes\":{},\"id\":\"3e696688-0942-41f2-8e0c-4e2c43fab863\",\"type\":\"BasicTickFormatter\"},{\"attributes\":{\"data_source\":{\"id\":\"dd4b4d3e-e274-49e5-a934-063001cdf7ff\",\"type\":\"ColumnDataSource\"},\"glyph\":{\"id\":\"8a77c53d-073b-4093-bd97-baa3457d5f9f\",\"type\":\"Quad\"},\"hover_glyph\":null,\"muted_glyph\":null,\"nonselection_glyph\":{\"id\":\"ec2e7922-f338-4fa9-95f4-976bf88eaf24\",\"type\":\"Quad\"},\"selection_glyph\":null,\"view\":{\"id\":\"3424b063-c896-447e-adb3-af08253c5bd9\",\"type\":\"CDSView\"}},\"id\":\"257df38a-aaf5-41c5-ba16-929403a33ad9\",\"type\":\"GlyphRenderer\"},{\"attributes\":{},\"id\":\"420666fa-2769-4d4f-9137-4f90c0688ff6\",\"type\":\"WheelZoomTool\"},{\"attributes\":{\"callback\":null},\"id\":\"2d0d17de-74f7-4928-9488-4a22873633a0\",\"type\":\"DataRange1d\"},{\"attributes\":{\"overlay\":{\"id\":\"062a3a9f-4fc8-4253-8af8-288329645e6c\",\"type\":\"BoxAnnotation\"}},\"id\":\"3cf570da-6c36-4337-bca9-42d7efc36161\",\"type\":\"BoxZoomTool\"},{\"attributes\":{\"callback\":null},\"id\":\"31c9c02b-cbfe-4558-a591-3dddbfdc4cdf\",\"type\":\"DataRange1d\"},{\"attributes\":{},\"id\":\"db2b7963-1ca3-494c-8cd9-b74b73e14954\",\"type\":\"SaveTool\"},{\"attributes\":{},\"id\":\"da81dc70-2ed8-479d-9cbc-ed101aebceb8\",\"type\":\"LinearScale\"},{\"attributes\":{\"active_drag\":\"auto\",\"active_inspect\":\"auto\",\"active_scroll\":\"auto\",\"active_tap\":\"auto\",\"tools\":[{\"id\":\"59580688-335e-4108-8ce7-00b30fd141cd\",\"type\":\"PanTool\"},{\"id\":\"420666fa-2769-4d4f-9137-4f90c0688ff6\",\"type\":\"WheelZoomTool\"},{\"id\":\"3cf570da-6c36-4337-bca9-42d7efc36161\",\"type\":\"BoxZoomTool\"},{\"id\":\"db2b7963-1ca3-494c-8cd9-b74b73e14954\",\"type\":\"SaveTool\"},{\"id\":\"eb042f3a-fe9c-46f3-8636-3cfb558609cd\",\"type\":\"ResetTool\"},{\"id\":\"5b357f95-499a-4c58-ac0c-d747800751c8\",\"type\":\"HelpTool\"}]},\"id\":\"e3c83a66-a1df-42ea-b6c9-fae51eeea6d5\",\"type\":\"Toolbar\"},{\"attributes\":{\"plot\":{\"id\":\"1be452d1-2baa-411e-bd9d-6526912affb9\",\"subtype\":\"Figure\",\"type\":\"Plot\"},\"ticker\":{\"id\":\"2ad0f4fe-2411-4585-874a-d73c03a3ae8f\",\"type\":\"BasicTicker\"}},\"id\":\"f72aab78-5258-4df0-8187-c1c5278f6bb9\",\"type\":\"Grid\"},{\"attributes\":{},\"id\":\"645ce8bd-49e3-4aee-a7b9-46a20ae96bc3\",\"type\":\"BasicTickFormatter\"},{\"attributes\":{},\"id\":\"674674f1-0ba7-4587-836b-ada1219ff540\",\"type\":\"LinearScale\"},{\"attributes\":{\"axis_label\":\"Difference in connection strength between directions (abs)\",\"formatter\":{\"id\":\"645ce8bd-49e3-4aee-a7b9-46a20ae96bc3\",\"type\":\"BasicTickFormatter\"},\"plot\":{\"id\":\"1be452d1-2baa-411e-bd9d-6526912affb9\",\"subtype\":\"Figure\",\"type\":\"Plot\"},\"ticker\":{\"id\":\"2ad0f4fe-2411-4585-874a-d73c03a3ae8f\",\"type\":\"BasicTicker\"}},\"id\":\"eb3ee090-f24a-46c0-bdaa-d7d4e5406ae5\",\"type\":\"LinearAxis\"},{\"attributes\":{},\"id\":\"eb042f3a-fe9c-46f3-8636-3cfb558609cd\",\"type\":\"ResetTool\"},{\"attributes\":{},\"id\":\"2ad0f4fe-2411-4585-874a-d73c03a3ae8f\",\"type\":\"BasicTicker\"}],\"root_ids\":[\"1be452d1-2baa-411e-bd9d-6526912affb9\"]},\"title\":\"Bokeh Application\",\"version\":\"0.12.13\"}};\n",
       "  var render_items = [{\"docid\":\"d739b440-5fc1-485f-849a-1db45756f8ba\",\"elementid\":\"16cf8d4b-523f-4bc0-9a75-53c5556a333e\",\"modelid\":\"1be452d1-2baa-411e-bd9d-6526912affb9\"}];\n",
       "  root.Bokeh.embed.embed_items_notebook(docs_json, render_items);\n",
       "\n",
       "  }\n",
       "  if (root.Bokeh !== undefined) {\n",
       "    embed_document(root);\n",
       "  } else {\n",
       "    var attempts = 0;\n",
       "    var timer = setInterval(function(root) {\n",
       "      if (root.Bokeh !== undefined) {\n",
       "        embed_document(root);\n",
       "        clearInterval(timer);\n",
       "      }\n",
       "      attempts++;\n",
       "      if (attempts > 100) {\n",
       "        console.log(\"Bokeh: ERROR: Unable to run BokehJS code because BokehJS library is missing\")\n",
       "        clearInterval(timer);\n",
       "      }\n",
       "    }, 10, root)\n",
       "  }\n",
       "})(window);"
      ],
      "application/vnd.bokehjs_exec.v0+json": ""
     },
     "metadata": {
      "application/vnd.bokehjs_exec.v0+json": {
       "id": "1be452d1-2baa-411e-bd9d-6526912affb9"
      }
     },
     "output_type": "display_data"
    }
   ],
   "source": [
    "mp = list(map(lambda x:abs(x[1]-x[0]),raw))\n",
    "p1 = figure(plot_width=400, plot_height=400,title = 'Asummetry in 0-distance cases',y_axis_label = \"Distribution\",x_axis_label = \"Difference in connection strength between directions (abs)\")\n",
    "q1,q2 = np.percentile(mp,[0,100])\n",
    "\n",
    "measured = [xx for xx in mp if (xx>q1 and xx<q2)]\n",
    "hist, edges = np.histogram(measured, density=True, bins=50)\n",
    "\n",
    "p1.quad(top=hist, bottom=0, left=edges[:-1], right=edges[1:],fill_color=\"#036564\", line_color=\"#033649\")\n",
    "show(p1)"
   ]
  },
  {
   "cell_type": "code",
   "execution_count": null,
   "metadata": {},
   "outputs": [],
   "source": []
  }
 ],
 "metadata": {
  "kernelspec": {
   "display_name": "Python 3",
   "language": "python",
   "name": "python3"
  },
  "language_info": {
   "codemirror_mode": {
    "name": "ipython",
    "version": 3
   },
   "file_extension": ".py",
   "mimetype": "text/x-python",
   "name": "python",
   "nbconvert_exporter": "python",
   "pygments_lexer": "ipython3",
   "version": "3.6.4"
  }
 },
 "nbformat": 4,
 "nbformat_minor": 2
}
