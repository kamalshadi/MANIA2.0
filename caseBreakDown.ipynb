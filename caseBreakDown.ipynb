{
 "cells": [
  {
   "cell_type": "markdown",
   "metadata": {},
   "source": [
    "# Asymmetry Case Break Downs"
   ]
  },
  {
   "cell_type": "code",
   "execution_count": 92,
   "metadata": {},
   "outputs": [
    {
     "data": {
      "text/html": [
       "\n",
       "    <div class=\"bk-root\">\n",
       "        <a href=\"https://bokeh.pydata.org\" target=\"_blank\" class=\"bk-logo bk-logo-small bk-logo-notebook\"></a>\n",
       "        <span id=\"166f21d9-6e1f-4947-9ef7-548f554d3b52\">Loading BokehJS ...</span>\n",
       "    </div>"
      ]
     },
     "metadata": {},
     "output_type": "display_data"
    },
    {
     "data": {
      "application/javascript": [
       "\n",
       "(function(root) {\n",
       "  function now() {\n",
       "    return new Date();\n",
       "  }\n",
       "\n",
       "  var force = true;\n",
       "\n",
       "  if (typeof (root._bokeh_onload_callbacks) === \"undefined\" || force === true) {\n",
       "    root._bokeh_onload_callbacks = [];\n",
       "    root._bokeh_is_loading = undefined;\n",
       "  }\n",
       "\n",
       "  var JS_MIME_TYPE = 'application/javascript';\n",
       "  var HTML_MIME_TYPE = 'text/html';\n",
       "  var EXEC_MIME_TYPE = 'application/vnd.bokehjs_exec.v0+json';\n",
       "  var CLASS_NAME = 'output_bokeh rendered_html';\n",
       "\n",
       "  /**\n",
       "   * Render data to the DOM node\n",
       "   */\n",
       "  function render(props, node) {\n",
       "    var script = document.createElement(\"script\");\n",
       "    node.appendChild(script);\n",
       "  }\n",
       "\n",
       "  /**\n",
       "   * Handle when an output is cleared or removed\n",
       "   */\n",
       "  function handleClearOutput(event, handle) {\n",
       "    var cell = handle.cell;\n",
       "\n",
       "    var id = cell.output_area._bokeh_element_id;\n",
       "    var server_id = cell.output_area._bokeh_server_id;\n",
       "    // Clean up Bokeh references\n",
       "    if (id !== undefined) {\n",
       "      Bokeh.index[id].model.document.clear();\n",
       "      delete Bokeh.index[id];\n",
       "    }\n",
       "\n",
       "    if (server_id !== undefined) {\n",
       "      // Clean up Bokeh references\n",
       "      var cmd = \"from bokeh.io.state import curstate; print(curstate().uuid_to_server['\" + server_id + \"'].get_sessions()[0].document.roots[0]._id)\";\n",
       "      cell.notebook.kernel.execute(cmd, {\n",
       "        iopub: {\n",
       "          output: function(msg) {\n",
       "            var element_id = msg.content.text.trim();\n",
       "            Bokeh.index[element_id].model.document.clear();\n",
       "            delete Bokeh.index[element_id];\n",
       "          }\n",
       "        }\n",
       "      });\n",
       "      // Destroy server and session\n",
       "      var cmd = \"import bokeh.io.notebook as ion; ion.destroy_server('\" + server_id + \"')\";\n",
       "      cell.notebook.kernel.execute(cmd);\n",
       "    }\n",
       "  }\n",
       "\n",
       "  /**\n",
       "   * Handle when a new output is added\n",
       "   */\n",
       "  function handleAddOutput(event, handle) {\n",
       "    var output_area = handle.output_area;\n",
       "    var output = handle.output;\n",
       "\n",
       "    // limit handleAddOutput to display_data with EXEC_MIME_TYPE content only\n",
       "    if ((output.output_type != \"display_data\") || (!output.data.hasOwnProperty(EXEC_MIME_TYPE))) {\n",
       "      return\n",
       "    }\n",
       "\n",
       "    var toinsert = output_area.element.find(\".\" + CLASS_NAME.split(' ')[0]);\n",
       "\n",
       "    if (output.metadata[EXEC_MIME_TYPE][\"id\"] !== undefined) {\n",
       "      toinsert[0].firstChild.textContent = output.data[JS_MIME_TYPE];\n",
       "      // store reference to embed id on output_area\n",
       "      output_area._bokeh_element_id = output.metadata[EXEC_MIME_TYPE][\"id\"];\n",
       "    }\n",
       "    if (output.metadata[EXEC_MIME_TYPE][\"server_id\"] !== undefined) {\n",
       "      var bk_div = document.createElement(\"div\");\n",
       "      bk_div.innerHTML = output.data[HTML_MIME_TYPE];\n",
       "      var script_attrs = bk_div.children[0].attributes;\n",
       "      for (var i = 0; i < script_attrs.length; i++) {\n",
       "        toinsert[0].firstChild.setAttribute(script_attrs[i].name, script_attrs[i].value);\n",
       "      }\n",
       "      // store reference to server id on output_area\n",
       "      output_area._bokeh_server_id = output.metadata[EXEC_MIME_TYPE][\"server_id\"];\n",
       "    }\n",
       "  }\n",
       "\n",
       "  function register_renderer(events, OutputArea) {\n",
       "\n",
       "    function append_mime(data, metadata, element) {\n",
       "      // create a DOM node to render to\n",
       "      var toinsert = this.create_output_subarea(\n",
       "        metadata,\n",
       "        CLASS_NAME,\n",
       "        EXEC_MIME_TYPE\n",
       "      );\n",
       "      this.keyboard_manager.register_events(toinsert);\n",
       "      // Render to node\n",
       "      var props = {data: data, metadata: metadata[EXEC_MIME_TYPE]};\n",
       "      render(props, toinsert[0]);\n",
       "      element.append(toinsert);\n",
       "      return toinsert\n",
       "    }\n",
       "\n",
       "    /* Handle when an output is cleared or removed */\n",
       "    events.on('clear_output.CodeCell', handleClearOutput);\n",
       "    events.on('delete.Cell', handleClearOutput);\n",
       "\n",
       "    /* Handle when a new output is added */\n",
       "    events.on('output_added.OutputArea', handleAddOutput);\n",
       "\n",
       "    /**\n",
       "     * Register the mime type and append_mime function with output_area\n",
       "     */\n",
       "    OutputArea.prototype.register_mime_type(EXEC_MIME_TYPE, append_mime, {\n",
       "      /* Is output safe? */\n",
       "      safe: true,\n",
       "      /* Index of renderer in `output_area.display_order` */\n",
       "      index: 0\n",
       "    });\n",
       "  }\n",
       "\n",
       "  // register the mime type if in Jupyter Notebook environment and previously unregistered\n",
       "  if (root.Jupyter !== undefined) {\n",
       "    var events = require('base/js/events');\n",
       "    var OutputArea = require('notebook/js/outputarea').OutputArea;\n",
       "\n",
       "    if (OutputArea.prototype.mime_types().indexOf(EXEC_MIME_TYPE) == -1) {\n",
       "      register_renderer(events, OutputArea);\n",
       "    }\n",
       "  }\n",
       "\n",
       "  \n",
       "  if (typeof (root._bokeh_timeout) === \"undefined\" || force === true) {\n",
       "    root._bokeh_timeout = Date.now() + 5000;\n",
       "    root._bokeh_failed_load = false;\n",
       "  }\n",
       "\n",
       "  var NB_LOAD_WARNING = {'data': {'text/html':\n",
       "     \"<div style='background-color: #fdd'>\\n\"+\n",
       "     \"<p>\\n\"+\n",
       "     \"BokehJS does not appear to have successfully loaded. If loading BokehJS from CDN, this \\n\"+\n",
       "     \"may be due to a slow or bad network connection. Possible fixes:\\n\"+\n",
       "     \"</p>\\n\"+\n",
       "     \"<ul>\\n\"+\n",
       "     \"<li>re-rerun `output_notebook()` to attempt to load from CDN again, or</li>\\n\"+\n",
       "     \"<li>use INLINE resources instead, as so:</li>\\n\"+\n",
       "     \"</ul>\\n\"+\n",
       "     \"<code>\\n\"+\n",
       "     \"from bokeh.resources import INLINE\\n\"+\n",
       "     \"output_notebook(resources=INLINE)\\n\"+\n",
       "     \"</code>\\n\"+\n",
       "     \"</div>\"}};\n",
       "\n",
       "  function display_loaded() {\n",
       "    var el = document.getElementById(\"166f21d9-6e1f-4947-9ef7-548f554d3b52\");\n",
       "    if (el != null) {\n",
       "      el.textContent = \"BokehJS is loading...\";\n",
       "    }\n",
       "    if (root.Bokeh !== undefined) {\n",
       "      if (el != null) {\n",
       "        el.textContent = \"BokehJS \" + root.Bokeh.version + \" successfully loaded.\";\n",
       "      }\n",
       "    } else if (Date.now() < root._bokeh_timeout) {\n",
       "      setTimeout(display_loaded, 100)\n",
       "    }\n",
       "  }\n",
       "\n",
       "\n",
       "  function run_callbacks() {\n",
       "    try {\n",
       "      root._bokeh_onload_callbacks.forEach(function(callback) { callback() });\n",
       "    }\n",
       "    finally {\n",
       "      delete root._bokeh_onload_callbacks\n",
       "    }\n",
       "    console.info(\"Bokeh: all callbacks have finished\");\n",
       "  }\n",
       "\n",
       "  function load_libs(js_urls, callback) {\n",
       "    root._bokeh_onload_callbacks.push(callback);\n",
       "    if (root._bokeh_is_loading > 0) {\n",
       "      console.log(\"Bokeh: BokehJS is being loaded, scheduling callback at\", now());\n",
       "      return null;\n",
       "    }\n",
       "    if (js_urls == null || js_urls.length === 0) {\n",
       "      run_callbacks();\n",
       "      return null;\n",
       "    }\n",
       "    console.log(\"Bokeh: BokehJS not loaded, scheduling load and callback at\", now());\n",
       "    root._bokeh_is_loading = js_urls.length;\n",
       "    for (var i = 0; i < js_urls.length; i++) {\n",
       "      var url = js_urls[i];\n",
       "      var s = document.createElement('script');\n",
       "      s.src = url;\n",
       "      s.async = false;\n",
       "      s.onreadystatechange = s.onload = function() {\n",
       "        root._bokeh_is_loading--;\n",
       "        if (root._bokeh_is_loading === 0) {\n",
       "          console.log(\"Bokeh: all BokehJS libraries loaded\");\n",
       "          run_callbacks()\n",
       "        }\n",
       "      };\n",
       "      s.onerror = function() {\n",
       "        console.warn(\"failed to load library \" + url);\n",
       "      };\n",
       "      console.log(\"Bokeh: injecting script tag for BokehJS library: \", url);\n",
       "      document.getElementsByTagName(\"head\")[0].appendChild(s);\n",
       "    }\n",
       "  };var element = document.getElementById(\"166f21d9-6e1f-4947-9ef7-548f554d3b52\");\n",
       "  if (element == null) {\n",
       "    console.log(\"Bokeh: ERROR: autoload.js configured with elementid '166f21d9-6e1f-4947-9ef7-548f554d3b52' but no matching script tag was found. \")\n",
       "    return false;\n",
       "  }\n",
       "\n",
       "  var js_urls = [\"https://cdn.pydata.org/bokeh/release/bokeh-0.12.13.min.js\", \"https://cdn.pydata.org/bokeh/release/bokeh-widgets-0.12.13.min.js\", \"https://cdn.pydata.org/bokeh/release/bokeh-tables-0.12.13.min.js\", \"https://cdn.pydata.org/bokeh/release/bokeh-gl-0.12.13.min.js\"];\n",
       "\n",
       "  var inline_js = [\n",
       "    function(Bokeh) {\n",
       "      Bokeh.set_log_level(\"info\");\n",
       "    },\n",
       "    \n",
       "    function(Bokeh) {\n",
       "      \n",
       "    },\n",
       "    function(Bokeh) {\n",
       "      console.log(\"Bokeh: injecting CSS: https://cdn.pydata.org/bokeh/release/bokeh-0.12.13.min.css\");\n",
       "      Bokeh.embed.inject_css(\"https://cdn.pydata.org/bokeh/release/bokeh-0.12.13.min.css\");\n",
       "      console.log(\"Bokeh: injecting CSS: https://cdn.pydata.org/bokeh/release/bokeh-widgets-0.12.13.min.css\");\n",
       "      Bokeh.embed.inject_css(\"https://cdn.pydata.org/bokeh/release/bokeh-widgets-0.12.13.min.css\");\n",
       "      console.log(\"Bokeh: injecting CSS: https://cdn.pydata.org/bokeh/release/bokeh-tables-0.12.13.min.css\");\n",
       "      Bokeh.embed.inject_css(\"https://cdn.pydata.org/bokeh/release/bokeh-tables-0.12.13.min.css\");\n",
       "    }\n",
       "  ];\n",
       "\n",
       "  function run_inline_js() {\n",
       "    \n",
       "    if ((root.Bokeh !== undefined) || (force === true)) {\n",
       "      for (var i = 0; i < inline_js.length; i++) {\n",
       "        inline_js[i].call(root, root.Bokeh);\n",
       "      }if (force === true) {\n",
       "        display_loaded();\n",
       "      }} else if (Date.now() < root._bokeh_timeout) {\n",
       "      setTimeout(run_inline_js, 100);\n",
       "    } else if (!root._bokeh_failed_load) {\n",
       "      console.log(\"Bokeh: BokehJS failed to load within specified timeout.\");\n",
       "      root._bokeh_failed_load = true;\n",
       "    } else if (force !== true) {\n",
       "      var cell = $(document.getElementById(\"166f21d9-6e1f-4947-9ef7-548f554d3b52\")).parents('.cell').data().cell;\n",
       "      cell.output_area.append_execute_result(NB_LOAD_WARNING)\n",
       "    }\n",
       "\n",
       "  }\n",
       "\n",
       "  if (root._bokeh_is_loading === 0) {\n",
       "    console.log(\"Bokeh: BokehJS loaded, going straight to plotting\");\n",
       "    run_inline_js();\n",
       "  } else {\n",
       "    load_libs(js_urls, function() {\n",
       "      console.log(\"Bokeh: BokehJS plotting callback run at\", now());\n",
       "      run_inline_js();\n",
       "    });\n",
       "  }\n",
       "}(window));"
      ],
      "application/vnd.bokehjs_load.v0+json": "\n(function(root) {\n  function now() {\n    return new Date();\n  }\n\n  var force = true;\n\n  if (typeof (root._bokeh_onload_callbacks) === \"undefined\" || force === true) {\n    root._bokeh_onload_callbacks = [];\n    root._bokeh_is_loading = undefined;\n  }\n\n  \n\n  \n  if (typeof (root._bokeh_timeout) === \"undefined\" || force === true) {\n    root._bokeh_timeout = Date.now() + 5000;\n    root._bokeh_failed_load = false;\n  }\n\n  var NB_LOAD_WARNING = {'data': {'text/html':\n     \"<div style='background-color: #fdd'>\\n\"+\n     \"<p>\\n\"+\n     \"BokehJS does not appear to have successfully loaded. If loading BokehJS from CDN, this \\n\"+\n     \"may be due to a slow or bad network connection. Possible fixes:\\n\"+\n     \"</p>\\n\"+\n     \"<ul>\\n\"+\n     \"<li>re-rerun `output_notebook()` to attempt to load from CDN again, or</li>\\n\"+\n     \"<li>use INLINE resources instead, as so:</li>\\n\"+\n     \"</ul>\\n\"+\n     \"<code>\\n\"+\n     \"from bokeh.resources import INLINE\\n\"+\n     \"output_notebook(resources=INLINE)\\n\"+\n     \"</code>\\n\"+\n     \"</div>\"}};\n\n  function display_loaded() {\n    var el = document.getElementById(\"166f21d9-6e1f-4947-9ef7-548f554d3b52\");\n    if (el != null) {\n      el.textContent = \"BokehJS is loading...\";\n    }\n    if (root.Bokeh !== undefined) {\n      if (el != null) {\n        el.textContent = \"BokehJS \" + root.Bokeh.version + \" successfully loaded.\";\n      }\n    } else if (Date.now() < root._bokeh_timeout) {\n      setTimeout(display_loaded, 100)\n    }\n  }\n\n\n  function run_callbacks() {\n    try {\n      root._bokeh_onload_callbacks.forEach(function(callback) { callback() });\n    }\n    finally {\n      delete root._bokeh_onload_callbacks\n    }\n    console.info(\"Bokeh: all callbacks have finished\");\n  }\n\n  function load_libs(js_urls, callback) {\n    root._bokeh_onload_callbacks.push(callback);\n    if (root._bokeh_is_loading > 0) {\n      console.log(\"Bokeh: BokehJS is being loaded, scheduling callback at\", now());\n      return null;\n    }\n    if (js_urls == null || js_urls.length === 0) {\n      run_callbacks();\n      return null;\n    }\n    console.log(\"Bokeh: BokehJS not loaded, scheduling load and callback at\", now());\n    root._bokeh_is_loading = js_urls.length;\n    for (var i = 0; i < js_urls.length; i++) {\n      var url = js_urls[i];\n      var s = document.createElement('script');\n      s.src = url;\n      s.async = false;\n      s.onreadystatechange = s.onload = function() {\n        root._bokeh_is_loading--;\n        if (root._bokeh_is_loading === 0) {\n          console.log(\"Bokeh: all BokehJS libraries loaded\");\n          run_callbacks()\n        }\n      };\n      s.onerror = function() {\n        console.warn(\"failed to load library \" + url);\n      };\n      console.log(\"Bokeh: injecting script tag for BokehJS library: \", url);\n      document.getElementsByTagName(\"head\")[0].appendChild(s);\n    }\n  };var element = document.getElementById(\"166f21d9-6e1f-4947-9ef7-548f554d3b52\");\n  if (element == null) {\n    console.log(\"Bokeh: ERROR: autoload.js configured with elementid '166f21d9-6e1f-4947-9ef7-548f554d3b52' but no matching script tag was found. \")\n    return false;\n  }\n\n  var js_urls = [\"https://cdn.pydata.org/bokeh/release/bokeh-0.12.13.min.js\", \"https://cdn.pydata.org/bokeh/release/bokeh-widgets-0.12.13.min.js\", \"https://cdn.pydata.org/bokeh/release/bokeh-tables-0.12.13.min.js\", \"https://cdn.pydata.org/bokeh/release/bokeh-gl-0.12.13.min.js\"];\n\n  var inline_js = [\n    function(Bokeh) {\n      Bokeh.set_log_level(\"info\");\n    },\n    \n    function(Bokeh) {\n      \n    },\n    function(Bokeh) {\n      console.log(\"Bokeh: injecting CSS: https://cdn.pydata.org/bokeh/release/bokeh-0.12.13.min.css\");\n      Bokeh.embed.inject_css(\"https://cdn.pydata.org/bokeh/release/bokeh-0.12.13.min.css\");\n      console.log(\"Bokeh: injecting CSS: https://cdn.pydata.org/bokeh/release/bokeh-widgets-0.12.13.min.css\");\n      Bokeh.embed.inject_css(\"https://cdn.pydata.org/bokeh/release/bokeh-widgets-0.12.13.min.css\");\n      console.log(\"Bokeh: injecting CSS: https://cdn.pydata.org/bokeh/release/bokeh-tables-0.12.13.min.css\");\n      Bokeh.embed.inject_css(\"https://cdn.pydata.org/bokeh/release/bokeh-tables-0.12.13.min.css\");\n    }\n  ];\n\n  function run_inline_js() {\n    \n    if ((root.Bokeh !== undefined) || (force === true)) {\n      for (var i = 0; i < inline_js.length; i++) {\n        inline_js[i].call(root, root.Bokeh);\n      }if (force === true) {\n        display_loaded();\n      }} else if (Date.now() < root._bokeh_timeout) {\n      setTimeout(run_inline_js, 100);\n    } else if (!root._bokeh_failed_load) {\n      console.log(\"Bokeh: BokehJS failed to load within specified timeout.\");\n      root._bokeh_failed_load = true;\n    } else if (force !== true) {\n      var cell = $(document.getElementById(\"166f21d9-6e1f-4947-9ef7-548f554d3b52\")).parents('.cell').data().cell;\n      cell.output_area.append_execute_result(NB_LOAD_WARNING)\n    }\n\n  }\n\n  if (root._bokeh_is_loading === 0) {\n    console.log(\"Bokeh: BokehJS loaded, going straight to plotting\");\n    run_inline_js();\n  } else {\n    load_libs(js_urls, function() {\n      console.log(\"Bokeh: BokehJS plotting callback run at\", now());\n      run_inline_js();\n    });\n  }\n}(window));"
     },
     "metadata": {},
     "output_type": "display_data"
    }
   ],
   "source": [
    "from py2neo import Node, Relationship, Graph\n",
    "from numpy.random import rand\n",
    "import numpy as num\n",
    "from bokeh.plotting import output_notebook,figure, show\n",
    "from bokeh.layouts import row,column,gridplot\n",
    "from bokeh.models import Label\n",
    "import numpy as np\n",
    "from curve import *\n",
    "from bokeh.models import Span,Legend\n",
    "output_notebook()"
   ]
  },
  {
   "cell_type": "code",
   "execution_count": 93,
   "metadata": {},
   "outputs": [
    {
     "data": {
      "application/javascript": [
       "IPython.OutputArea.prototype._should_scroll = function(lines) {\n",
       "    return false;\n",
       "}"
      ],
      "text/plain": [
       "<IPython.core.display.Javascript object>"
      ]
     },
     "metadata": {},
     "output_type": "display_data"
    }
   ],
   "source": [
    "%%javascript\n",
    "IPython.OutputArea.prototype._should_scroll = function(lines) {\n",
    "    return false;\n",
    "}"
   ]
  },
  {
   "cell_type": "code",
   "execution_count": 94,
   "metadata": {},
   "outputs": [],
   "source": [
    "import pickle as pk\n",
    "A = pk.load(open('local.pk','rb'))\n",
    "\n",
    "\n",
    "import random\n",
    "\n",
    "def gen_hex_colour_code():\n",
    "   return '#'+''.join([random.choice('0123456789ABCDEF') for x in range(6)])\n",
    "\n",
    "C = {}"
   ]
  },
  {
   "cell_type": "code",
   "execution_count": 95,
   "metadata": {},
   "outputs": [
    {
     "name": "stderr",
     "output_type": "stream",
     "text": [
      "/Users/kshadi3/Desktop/MANIA2/sample/curve.py:271: RuntimeWarning: invalid value encountered in double_scalars\n",
      "  ce = num.sum([xx[1] for xx in A[i]['envelope']])/len(A[i]['envelope'])\n",
      "/Users/kshadi3/Desktop/MANIA2/sample/curve.py:272: RuntimeWarning: invalid value encountered in double_scalars\n",
      "  cex = num.sum([xx[0] for xx in A[i]['envelope']])/len(A[i]['envelope'])\n",
      "/anaconda2/envs/py36/lib/python3.6/site-packages/sklearn/utils/validation.py:578: DataConversionWarning: A column-vector y was passed when a 1d array was expected. Please change the shape of y to (n_samples, ), for example using ravel().\n",
      "  y = column_or_1d(y, warn=True)\n"
     ]
    }
   ],
   "source": [
    "R = roi_regressors()"
   ]
  },
  {
   "cell_type": "code",
   "execution_count": 96,
   "metadata": {},
   "outputs": [
    {
     "name": "stderr",
     "output_type": "stream",
     "text": [
      "/Users/kshadi3/Desktop/MANIA2/sample/curve.py:319: RuntimeWarning: invalid value encountered in double_scalars\n",
      "  fx = (sl[0]*r[0]+(100-r[0])*tmp)/100\n"
     ]
    }
   ],
   "source": [
    "D = all_regressors(R,A)"
   ]
  },
  {
   "cell_type": "code",
   "execution_count": 109,
   "metadata": {},
   "outputs": [
    {
     "data": {
      "text/plain": [
       "'L1'"
      ]
     },
     "execution_count": 109,
     "metadata": {},
     "output_type": "execute_result"
    }
   ],
   "source": [
    "A[1]['n1']"
   ]
  },
  {
   "cell_type": "code",
   "execution_count": 110,
   "metadata": {},
   "outputs": [],
   "source": [
    "l = len(A)\n",
    "A_dic = {}\n",
    "for i in range(l):\n",
    "    tmp = A[i]\n",
    "    n1 = tmp['n1']\n",
    "    n2 = tmp['n2']\n",
    "    A_dic[n1+n2] = i"
   ]
  },
  {
   "cell_type": "code",
   "execution_count": 137,
   "metadata": {},
   "outputs": [],
   "source": [
    "def roi_rot(w):\n",
    "    p = w.split('L')\n",
    "    return 'L'+p[-1]+'L'+p[1]\n",
    "def logit(t):\n",
    "    tmp = max(1,t)\n",
    "    return num.log(tmp/5000.0)"
   ]
  },
  {
   "cell_type": "code",
   "execution_count": 138,
   "metadata": {},
   "outputs": [],
   "source": [
    "null = {}\n",
    "for i in range(1,181):\n",
    "    for j in range(1,181):\n",
    "        if (i==j):continue\n",
    "        ind = A_dic['L'+str(i)+'L'+str(j)]\n",
    "        tmp = A[ind]['weight']\n",
    "        tmp = logit(tmp)\n",
    "        if (tmp < -4.605170185988091):\n",
    "            null['L'+str(i)+'L'+str(j)] = 1\n",
    "        else:\n",
    "            null['L'+str(i)+'L'+str(j)] = 0"
   ]
  },
  {
   "cell_type": "code",
   "execution_count": 177,
   "metadata": {},
   "outputs": [],
   "source": [
    "total = sum(null.values()) # total null connections\n",
    "asym = 0 # total asymmetric null connections\n",
    "raw = [] #asymmtric case max weights in both directions\n",
    "for w in null.keys():\n",
    "    if null[w] == 1 and null[roi_rot(w)] == 0:\n",
    "        asym = asym+1\n",
    "        ind1 = A_dic[w]\n",
    "        t1 = A[ind1]['weight']\n",
    "        s1 = logit(t1)\n",
    "        ind2 = A_dic[roi_rot(w)]\n",
    "        t2 = A[ind2]['weight']\n",
    "        s2 = logit(t2)\n",
    "        raw.append((s1,s2))"
   ]
  },
  {
   "cell_type": "markdown",
   "metadata": {},
   "source": [
    "# Case 1: Below the Noise floor in at least one direction\n",
    "We call a connection below the noise floor a `null` connection"
   ]
  },
  {
   "cell_type": "code",
   "execution_count": 178,
   "metadata": {},
   "outputs": [
    {
     "name": "stdout",
     "output_type": "stream",
     "text": [
      "Total null connections:26405\n",
      "Total null connections (percentage of all connections):0.819522036002483\n",
      "Total asymmetric null connections:1745\n",
      "Total asymmetric null connections (percentage of all null connections):0.06608596856655936\n"
     ]
    }
   ],
   "source": [
    "print('Total null connections:'+str(total))\n",
    "print('Total null connections (percentage of all connections):'+str(total/32220))\n",
    "print('Total asymmetric null connections:'+str(asym))\n",
    "print('Total asymmetric null connections (percentage of all null connections):'+str(asym/total))"
   ]
  },
  {
   "cell_type": "code",
   "execution_count": 180,
   "metadata": {},
   "outputs": [
    {
     "data": {
      "text/html": [
       "\n",
       "<div class=\"bk-root\">\n",
       "    <div class=\"bk-plotdiv\" id=\"1dc5994a-5915-4ca7-b589-ab2c0b750df7\"></div>\n",
       "</div>"
      ]
     },
     "metadata": {},
     "output_type": "display_data"
    },
    {
     "data": {
      "application/javascript": [
       "(function(root) {\n",
       "  function embed_document(root) {\n",
       "    \n",
       "  var docs_json = {\"4c9359d7-4d65-4781-a8b4-aab22266f80b\":{\"roots\":{\"references\":[{\"attributes\":{\"source\":{\"id\":\"47a23a1f-2327-4702-b661-eafcfeb0a6b4\",\"type\":\"ColumnDataSource\"}},\"id\":\"c66f8b98-d741-4117-8a1f-f97a624d3633\",\"type\":\"CDSView\"},{\"attributes\":{},\"id\":\"369e22c6-f8a5-4d3c-b465-772cdcf0ef55\",\"type\":\"BasicTickFormatter\"},{\"attributes\":{\"callback\":null},\"id\":\"7cdb73a2-203a-4d8e-9613-0ba8b3696c0d\",\"type\":\"DataRange1d\"},{\"attributes\":{\"active_drag\":\"auto\",\"active_inspect\":\"auto\",\"active_scroll\":\"auto\",\"active_tap\":\"auto\",\"tools\":[{\"id\":\"7ebe512d-4fb9-4212-90dc-c73190680bef\",\"type\":\"PanTool\"},{\"id\":\"ccb349f4-f0f7-4b8b-b193-07d1b9e0ee08\",\"type\":\"WheelZoomTool\"},{\"id\":\"faf07efe-82fc-490e-8214-68880c0cfa52\",\"type\":\"BoxZoomTool\"},{\"id\":\"39c99796-34c6-4726-980b-d99b861948e4\",\"type\":\"SaveTool\"},{\"id\":\"57f8ecda-b832-4e96-97d6-91c041719d03\",\"type\":\"ResetTool\"},{\"id\":\"b0d30eaa-3329-4d17-bc40-47968730ec60\",\"type\":\"HelpTool\"}]},\"id\":\"885c8c37-c454-4112-8c0f-3e162f8dd929\",\"type\":\"Toolbar\"},{\"attributes\":{\"children\":[{\"id\":\"2647644e-0a8f-4778-981f-a1de13ee11aa\",\"subtype\":\"Figure\",\"type\":\"Plot\"},{\"id\":\"45d90459-4a6c-4fc3-8480-9eb9c1db7985\",\"subtype\":\"Figure\",\"type\":\"Plot\"}]},\"id\":\"ab2edc76-5bb4-45e8-83b6-d3d0855ad2fd\",\"type\":\"Row\"},{\"attributes\":{},\"id\":\"4189c696-d148-432a-a895-ddb19b04f265\",\"type\":\"LinearScale\"},{\"attributes\":{\"toolbar\":{\"id\":\"26408e14-9baa-43c7-ba8e-48782b4298cb\",\"type\":\"ProxyToolbar\"},\"toolbar_location\":\"above\"},\"id\":\"1e0c3aea-adc0-4efc-a7d0-0aebaa1835f1\",\"type\":\"ToolbarBox\"},{\"attributes\":{\"callback\":null},\"id\":\"a2c0828a-a8b4-4f87-b6ca-ef2d1577bf16\",\"type\":\"DataRange1d\"},{\"attributes\":{\"callback\":null},\"id\":\"4e394085-78de-402b-b188-e87242fe4ba7\",\"type\":\"DataRange1d\"},{\"attributes\":{},\"id\":\"bc0f7f3a-a0d7-4c6a-b13a-da6a36a07aa4\",\"type\":\"HelpTool\"},{\"attributes\":{\"children\":[{\"id\":\"1e0c3aea-adc0-4efc-a7d0-0aebaa1835f1\",\"type\":\"ToolbarBox\"},{\"id\":\"2c7e5778-06bb-4fa5-a1a6-f5673c156f2b\",\"type\":\"Column\"}]},\"id\":\"75dc08dc-12c6-44ab-8aac-4b2d7f6439b4\",\"type\":\"Column\"},{\"attributes\":{},\"id\":\"95f7dca8-8b97-4c30-a265-b559d66c7960\",\"type\":\"LinearScale\"},{\"attributes\":{\"overlay\":{\"id\":\"52b96539-206f-4c31-9961-1aea87e95965\",\"type\":\"BoxAnnotation\"}},\"id\":\"1c315ae2-1032-4b97-ac0e-9f9b197a295a\",\"type\":\"BoxZoomTool\"},{\"attributes\":{\"plot\":{\"id\":\"45d90459-4a6c-4fc3-8480-9eb9c1db7985\",\"subtype\":\"Figure\",\"type\":\"Plot\"},\"ticker\":{\"id\":\"24b2765a-6c40-469b-959e-2497dfb82c61\",\"type\":\"BasicTicker\"}},\"id\":\"19b5adb8-ef1d-4e9e-816b-26db1d8a0dda\",\"type\":\"Grid\"},{\"attributes\":{\"source\":{\"id\":\"6cc356b0-4945-466b-80de-ee41a7c5475a\",\"type\":\"ColumnDataSource\"}},\"id\":\"af6f68ea-48f8-40aa-8c4a-37639a11e367\",\"type\":\"CDSView\"},{\"attributes\":{\"data_source\":{\"id\":\"6cc356b0-4945-466b-80de-ee41a7c5475a\",\"type\":\"ColumnDataSource\"},\"glyph\":{\"id\":\"4973a5e7-20c5-47d5-b7f3-7941ae3d6350\",\"type\":\"Quad\"},\"hover_glyph\":null,\"muted_glyph\":null,\"nonselection_glyph\":{\"id\":\"b0fad434-80f1-4b4b-915c-c4f28bebbbc6\",\"type\":\"Quad\"},\"selection_glyph\":null,\"view\":{\"id\":\"af6f68ea-48f8-40aa-8c4a-37639a11e367\",\"type\":\"CDSView\"}},\"id\":\"459266da-35b6-463b-9fee-7c86b9596302\",\"type\":\"GlyphRenderer\"},{\"attributes\":{\"axis_label\":\"Difference (abs)\",\"formatter\":{\"id\":\"bee5785c-8e07-4cf4-9c17-5fd9634b3ab7\",\"type\":\"BasicTickFormatter\"},\"plot\":{\"id\":\"45d90459-4a6c-4fc3-8480-9eb9c1db7985\",\"subtype\":\"Figure\",\"type\":\"Plot\"},\"ticker\":{\"id\":\"24b2765a-6c40-469b-959e-2497dfb82c61\",\"type\":\"BasicTicker\"}},\"id\":\"9d54d0d7-776c-4a29-8444-7d6d59c8bd62\",\"type\":\"LinearAxis\"},{\"attributes\":{\"below\":[{\"id\":\"8764d9b8-85ed-453f-bb83-2df64134e39d\",\"type\":\"LinearAxis\"}],\"left\":[{\"id\":\"e63cbf7b-018d-4fbd-9fe0-e4f814c9c2ea\",\"type\":\"LinearAxis\"}],\"plot_height\":400,\"plot_width\":400,\"renderers\":[{\"id\":\"8764d9b8-85ed-453f-bb83-2df64134e39d\",\"type\":\"LinearAxis\"},{\"id\":\"3666c507-fa3d-445d-934f-c3f720ce0397\",\"type\":\"Grid\"},{\"id\":\"e63cbf7b-018d-4fbd-9fe0-e4f814c9c2ea\",\"type\":\"LinearAxis\"},{\"id\":\"838a15b8-8d55-4003-991b-8afe30e3f024\",\"type\":\"Grid\"},{\"id\":\"52b96539-206f-4c31-9961-1aea87e95965\",\"type\":\"BoxAnnotation\"},{\"id\":\"459266da-35b6-463b-9fee-7c86b9596302\",\"type\":\"GlyphRenderer\"}],\"title\":{\"id\":\"c5c4a5bf-5c71-4310-a15f-f070e7491d80\",\"type\":\"Title\"},\"toolbar\":{\"id\":\"e6da9763-02b8-424d-8074-6b1c49a1ca06\",\"type\":\"Toolbar\"},\"toolbar_location\":null,\"x_range\":{\"id\":\"9480b035-602a-48ec-b0f8-5bd3575ce910\",\"type\":\"DataRange1d\"},\"x_scale\":{\"id\":\"4d185d1d-d77b-48f4-b912-502e8041aa5e\",\"type\":\"LinearScale\"},\"y_range\":{\"id\":\"a2c0828a-a8b4-4f87-b6ca-ef2d1577bf16\",\"type\":\"DataRange1d\"},\"y_scale\":{\"id\":\"f171b49d-06ce-4aa6-a4d7-f691b1a08936\",\"type\":\"LinearScale\"}},\"id\":\"2647644e-0a8f-4778-981f-a1de13ee11aa\",\"subtype\":\"Figure\",\"type\":\"Plot\"},{\"attributes\":{},\"id\":\"24b2765a-6c40-469b-959e-2497dfb82c61\",\"type\":\"BasicTicker\"},{\"attributes\":{\"axis_label\":\"Distribution\",\"formatter\":{\"id\":\"369e22c6-f8a5-4d3c-b465-772cdcf0ef55\",\"type\":\"BasicTickFormatter\"},\"plot\":{\"id\":\"45d90459-4a6c-4fc3-8480-9eb9c1db7985\",\"subtype\":\"Figure\",\"type\":\"Plot\"},\"ticker\":{\"id\":\"5af9c24b-2c7a-47b9-a8b7-83bdf7009a38\",\"type\":\"BasicTicker\"}},\"id\":\"94d77cd8-d59d-48c9-9aea-e626682ae376\",\"type\":\"LinearAxis\"},{\"attributes\":{},\"id\":\"4d185d1d-d77b-48f4-b912-502e8041aa5e\",\"type\":\"LinearScale\"},{\"attributes\":{},\"id\":\"5af9c24b-2c7a-47b9-a8b7-83bdf7009a38\",\"type\":\"BasicTicker\"},{\"attributes\":{\"dimension\":1,\"plot\":{\"id\":\"45d90459-4a6c-4fc3-8480-9eb9c1db7985\",\"subtype\":\"Figure\",\"type\":\"Plot\"},\"ticker\":{\"id\":\"5af9c24b-2c7a-47b9-a8b7-83bdf7009a38\",\"type\":\"BasicTicker\"}},\"id\":\"b1ee8d6f-ae09-4b14-abf9-33fe6955fc78\",\"type\":\"Grid\"},{\"attributes\":{\"dimension\":1,\"plot\":{\"id\":\"2647644e-0a8f-4778-981f-a1de13ee11aa\",\"subtype\":\"Figure\",\"type\":\"Plot\"},\"ticker\":{\"id\":\"b18798b6-c273-4e8a-a556-6f8653a9e433\",\"type\":\"BasicTicker\"}},\"id\":\"838a15b8-8d55-4003-991b-8afe30e3f024\",\"type\":\"Grid\"},{\"attributes\":{},\"id\":\"db0ccb86-4dc9-468a-b20f-5baa55fd0700\",\"type\":\"PanTool\"},{\"attributes\":{\"bottom_units\":\"screen\",\"fill_alpha\":{\"value\":0.5},\"fill_color\":{\"value\":\"lightgrey\"},\"left_units\":\"screen\",\"level\":\"overlay\",\"line_alpha\":{\"value\":1.0},\"line_color\":{\"value\":\"black\"},\"line_dash\":[4,4],\"line_width\":{\"value\":2},\"plot\":null,\"render_mode\":\"css\",\"right_units\":\"screen\",\"top_units\":\"screen\"},\"id\":\"d71b54b0-be6e-4201-8687-f5dbbc889051\",\"type\":\"BoxAnnotation\"},{\"attributes\":{},\"id\":\"7ebe512d-4fb9-4212-90dc-c73190680bef\",\"type\":\"PanTool\"},{\"attributes\":{\"bottom\":{\"value\":0},\"fill_alpha\":{\"value\":0.1},\"fill_color\":{\"value\":\"#1f77b4\"},\"left\":{\"field\":\"left\"},\"line_alpha\":{\"value\":0.1},\"line_color\":{\"value\":\"#1f77b4\"},\"right\":{\"field\":\"right\"},\"top\":{\"field\":\"top\"}},\"id\":\"b0fad434-80f1-4b4b-915c-c4f28bebbbc6\",\"type\":\"Quad\"},{\"attributes\":{\"plot\":null,\"text\":\"Asummetry in null cases\"},\"id\":\"4b7911c9-6f34-4e56-bcc5-9dae1af72037\",\"type\":\"Title\"},{\"attributes\":{},\"id\":\"47197343-ff03-498a-bb40-76e008c9ff70\",\"type\":\"WheelZoomTool\"},{\"attributes\":{},\"id\":\"ccb349f4-f0f7-4b8b-b193-07d1b9e0ee08\",\"type\":\"WheelZoomTool\"},{\"attributes\":{},\"id\":\"cad0db23-ad4b-4135-8b18-16e746f0604e\",\"type\":\"ResetTool\"},{\"attributes\":{\"overlay\":{\"id\":\"d71b54b0-be6e-4201-8687-f5dbbc889051\",\"type\":\"BoxAnnotation\"}},\"id\":\"faf07efe-82fc-490e-8214-68880c0cfa52\",\"type\":\"BoxZoomTool\"},{\"attributes\":{\"bottom_units\":\"screen\",\"fill_alpha\":{\"value\":0.5},\"fill_color\":{\"value\":\"lightgrey\"},\"left_units\":\"screen\",\"level\":\"overlay\",\"line_alpha\":{\"value\":1.0},\"line_color\":{\"value\":\"black\"},\"line_dash\":[4,4],\"line_width\":{\"value\":2},\"plot\":null,\"render_mode\":\"css\",\"right_units\":\"screen\",\"top_units\":\"screen\"},\"id\":\"52b96539-206f-4c31-9961-1aea87e95965\",\"type\":\"BoxAnnotation\"},{\"attributes\":{},\"id\":\"39c99796-34c6-4726-980b-d99b861948e4\",\"type\":\"SaveTool\"},{\"attributes\":{},\"id\":\"da140b9d-a37d-4172-b2f3-409ee58a3ad7\",\"type\":\"BasicTickFormatter\"},{\"attributes\":{},\"id\":\"57f8ecda-b832-4e96-97d6-91c041719d03\",\"type\":\"ResetTool\"},{\"attributes\":{\"axis_label\":\"Distribution\",\"formatter\":{\"id\":\"da140b9d-a37d-4172-b2f3-409ee58a3ad7\",\"type\":\"BasicTickFormatter\"},\"plot\":{\"id\":\"2647644e-0a8f-4778-981f-a1de13ee11aa\",\"subtype\":\"Figure\",\"type\":\"Plot\"},\"ticker\":{\"id\":\"b18798b6-c273-4e8a-a556-6f8653a9e433\",\"type\":\"BasicTicker\"}},\"id\":\"e63cbf7b-018d-4fbd-9fe0-e4f814c9c2ea\",\"type\":\"LinearAxis\"},{\"attributes\":{},\"id\":\"b0d30eaa-3329-4d17-bc40-47968730ec60\",\"type\":\"HelpTool\"},{\"attributes\":{},\"id\":\"a6c5ca62-6dd2-4260-8153-6b23d08ae1b9\",\"type\":\"BasicTicker\"},{\"attributes\":{\"callback\":null,\"column_names\":[\"left\",\"right\",\"top\"],\"data\":{\"left\":{\"__ndarray__\":\"gLq9y619tD9U9VwE3pHJP7SGbZFyctQ/v5KsIPYb3D9kz/XXvOLhP2pVlZ9+t+U/b9s0Z0CM6T90YdQuAmHtP7zzOfvhmvA/v7YJ30KF8j/CednCo2/0P8Q8qaYEWvY/x/94imVE+D/Jwkhuxi76P8yFGFInGfw/zkjoNYgD/j/RC7gZ6e3/P2rnw/4k7ABA68ircFXhAUBsqpPihdYCQO6Le1S2ywNAb21jxubABEDwTks4F7YFQHEwM6pHqwZA8xEbHHigB0B08wKOqJUIQPXU6v/YiglAd7bScQmACkD4l7rjOXULQHl5olVqagxA+lqKx5pfDUB8PHI5y1QOQP0dWqv7SQ9Av/+gDpYfEECA8JRHLpoQQEDhiIDGFBFAAdJ8uV6PEUDCwnDy9gkSQIKzZCuPhBJAQ6RYZCf/EkAElUydv3kTQMSFQNZX9BNAhXY0D/BuFEBGZyhIiOkUQAZYHIEgZBVAx0gQurjeFUCHOQTzUFkWQEgq+Cvp0xZACRvsZIFOF0DJC+CdGckXQA==\",\"dtype\":\"float64\",\"shape\":[50]},\"right\":{\"__ndarray__\":\"VPVcBN6RyT+0hm2RcnLUP7+SrCD2G9w/ZM/117zi4T9qVZWffrflP2/bNGdAjOk/dGHULgJh7T+88zn74ZrwP7+2Cd9ChfI/wnnZwqNv9D/EPKmmBFr2P8f/eIplRPg/ycJIbsYu+j/MhRhSJxn8P85I6DWIA/4/0Qu4Gent/z9q58P+JOwAQOvIq3BV4QFAbKqT4oXWAkDui3tUtssDQG9tY8bmwARA8E5LOBe2BUBxMDOqR6sGQPMRGxx4oAdAdPMCjqiVCED11Or/2IoJQHe20nEJgApA+Je64zl1C0B5eaJVamoMQPpaiseaXw1AfDxyOctUDkD9HVqr+0kPQL//oA6WHxBAgPCURy6aEEBA4YiAxhQRQAHSfLlejxFAwsJw8vYJEkCCs2Qrj4QSQEOkWGQn/xJABJVMnb95E0DEhUDWV/QTQIV2NA/wbhRARmcoSIjpFEAGWByBIGQVQMdIELq43hVAhzkE81BZFkBIKvgr6dMWQAkb7GSBThdAyQvgnRnJF0CK/NPWsUMYQA==\",\"dtype\":\"float64\",\"shape\":[50]},\"top\":{\"__ndarray__\":\"5IJ8I+Jmsj9/zw0Q0yyxPzu3FJg8w7k/NCnFmdrJwT/UA6aELYnIP7p3qUhi1Mw/KKru+iXsxz8mKxhccQ7OP/WPosD4PdQ/e96Gb4BIzz8P1qBeXhjSPyGq7vol7Nc/TTbrNvGg0z8z8OyYi8bVP4yWNQ+EKdU/zjx+hXyM1D/6Vsq/qTrYPwCQosD4PdQ/2Tx+hXyM1D9yzw0Q0yzRPwCQosD4PdQ/XXzp1FZ70T/ZhM/leKvOP1XRYNJpcc0/ZEMR1Ad4xT9z0WDSaXHNP64vWOhltdI/4QOmhC2JyD+b3DOt6QPDPzYpxZnaycE/uYTP5Xirvj+y6VlKANu0P7LpWUoA28Q/cs8NENMswT8sHvK+Wje8P1XRYNJpca0/jmqDq0v9uj9fOD75h+WvPzg26zbxoKM/cs8NENMsoT/6A6aELYmYP8cDpoQtiZg/ODbrNvGgoz9hNus28aCjPzg26zbxoHM/k9Fg0mlxjT84Nus28aCDPzg26zbxoJM/YTbrNvGgkz84Nus28aCDPw==\",\"dtype\":\"float64\",\"shape\":[50]}}},\"id\":\"47a23a1f-2327-4702-b661-eafcfeb0a6b4\",\"type\":\"ColumnDataSource\"},{\"attributes\":{\"plot\":{\"id\":\"2647644e-0a8f-4778-981f-a1de13ee11aa\",\"subtype\":\"Figure\",\"type\":\"Plot\"},\"ticker\":{\"id\":\"a6c5ca62-6dd2-4260-8153-6b23d08ae1b9\",\"type\":\"BasicTicker\"}},\"id\":\"3666c507-fa3d-445d-934f-c3f720ce0397\",\"type\":\"Grid\"},{\"attributes\":{},\"id\":\"f171b49d-06ce-4aa6-a4d7-f691b1a08936\",\"type\":\"LinearScale\"},{\"attributes\":{\"callback\":null},\"id\":\"9480b035-602a-48ec-b0f8-5bd3575ce910\",\"type\":\"DataRange1d\"},{\"attributes\":{},\"id\":\"39dbb952-9aa0-40a6-b832-ad123dae8505\",\"type\":\"SaveTool\"},{\"attributes\":{\"active_drag\":\"auto\",\"active_inspect\":\"auto\",\"active_scroll\":\"auto\",\"active_tap\":\"auto\",\"tools\":[{\"id\":\"db0ccb86-4dc9-468a-b20f-5baa55fd0700\",\"type\":\"PanTool\"},{\"id\":\"47197343-ff03-498a-bb40-76e008c9ff70\",\"type\":\"WheelZoomTool\"},{\"id\":\"1c315ae2-1032-4b97-ac0e-9f9b197a295a\",\"type\":\"BoxZoomTool\"},{\"id\":\"39dbb952-9aa0-40a6-b832-ad123dae8505\",\"type\":\"SaveTool\"},{\"id\":\"cad0db23-ad4b-4135-8b18-16e746f0604e\",\"type\":\"ResetTool\"},{\"id\":\"bc0f7f3a-a0d7-4c6a-b13a-da6a36a07aa4\",\"type\":\"HelpTool\"}]},\"id\":\"e6da9763-02b8-424d-8074-6b1c49a1ca06\",\"type\":\"Toolbar\"},{\"attributes\":{\"callback\":null,\"column_names\":[\"left\",\"right\",\"top\"],\"data\":{\"left\":{\"__ndarray__\":\"beLil2pXEsBMLoWNSg8SwCt6J4MqxxHACsbJeAp/EcDpEWxu6jYRwMhdDmTK7hDAp6mwWaqmEMCG9VJPil4QwGVB9URqFhDAiRovdZScD8BHsnNgVAwPwAVKuEsUfA7Aw+H8NtTrDcCBeUEilFsNwD8Rhg1UywzA/qjK+BM7DMC8QA/k06oLwHrYU8+TGgvAOHCYulOKCsD2B92lE/oJwLSfIZHTaQnAcjdmfJPZCMAwz6pnU0kIwO5m71ITuQfArP4zPtMoB8Bqlngpk5gGwCguvRRTCAbA5sUBABN4BcCkXUbr0ucEwGP1itaSVwTAIY3PwVLHA8DfJBStEjcDwJ28WJjSpgLAW1Sdg5IWAsAZ7OFuUoYBwNeDJloS9gDAlRtrRdJlAMCmZl9hJKv/vySW6Dekiv6/oMVxDiRq/b8c9frko0n8v5gkhLsjKfu/FFQNkqMI+r+Qg5ZoI+j4vwyzHz+jx/e/iOKoFSOn9r8EEjLsoob1v4BBu8IiZvS//HBEmaJF8796oM1vIiXyvw==\",\"dtype\":\"float64\",\"shape\":[50]},\"right\":{\"__ndarray__\":\"TC6FjUoPEsAreieDKscRwArGyXgKfxHA6RFsbuo2EcDIXQ5kyu4QwKepsFmqphDAhvVST4peEMBlQfVEahYQwIkaL3WUnA/AR7JzYFQMD8AFSrhLFHwOwMPh/DbU6w3AgXlBIpRbDcA/EYYNVMsMwP6oyvgTOwzAvEAP5NOqC8B62FPPkxoLwDhwmLpTigrA9gfdpRP6CcC0nyGR02kJwHI3ZnyT2QjAMM+qZ1NJCMDuZu9SE7kHwKz+Mz7TKAfAapZ4KZOYBsAoLr0UUwgGwObFAQATeAXApF1G69LnBMBj9YrWklcEwCGNz8FSxwPA3yQUrRI3A8CdvFiY0qYCwFtUnYOSFgLAGezhblKGAcDXgyZaEvYAwJUba0XSZQDApmZfYSSr/78klug3pIr+v6DFcQ4kav2/HPX65KNJ/L+YJIS7Iyn7vxRUDZKjCPq/kIOWaCPo+L8Msx8/o8f3v4jiqBUjp/a/BBIy7KKG9b+AQbvCImb0v/xwRJmiRfO/eqDNbyIl8r/0z1ZGogTxvw==\",\"dtype\":\"float64\",\"shape\":[50]},\"top\":{\"__ndarray__\":\"qAKQJWpC8T8hBNBdidHqPwsEsNqVSeo/OwNwuxL65D/NA1BRu7HoPxsDwHYlLuQ/jwPwx+AZ5z/8AhAyOGLjP3EEgKJ2nes/0gLQK1FS4j++BEC1K83eP9IC0CtRUuI//AIQMjhi4z/YA+AStfXYPwQE4BK19dg/hANgBufV1j8wA+D5GLbUP/ECgHA+HtM/RQMAfQw+1T8WBECcj43aP8gCQGpXDtI/vgRAtSvNzj/CA8CPwW3IP/ECgHA+HsM/6ASAuxLdzz/xAoBwPh7DP/ECgHA+HsM/GwPAdiUuxD8gBYC7Et2/P0AEgKJ2nbs/ngIAZHD+wD+eAgBkcP6wP0UDAH0MPqU/lAQAr0S9rT+UBACvRL2tP/ECgHA+HrM/ngIAZHD+oD+8AgBkcP6gP+wDAJaofak/ngIAZHD+oD+eAgBkcP6gPwAAAAAAAAAAngIAZHD+kD+eAgBkcP6QPwAAAAAAAAAAngIAZHD+kD8AAAAAAAAAAAAAAAAAAAAAAAAAAAAAAACAAgBkcP6APw==\",\"dtype\":\"float64\",\"shape\":[50]}}},\"id\":\"6cc356b0-4945-466b-80de-ee41a7c5475a\",\"type\":\"ColumnDataSource\"},{\"attributes\":{},\"id\":\"bee5785c-8e07-4cf4-9c17-5fd9634b3ab7\",\"type\":\"BasicTickFormatter\"},{\"attributes\":{\"data_source\":{\"id\":\"47a23a1f-2327-4702-b661-eafcfeb0a6b4\",\"type\":\"ColumnDataSource\"},\"glyph\":{\"id\":\"4091d614-a0bc-4258-a7a6-601505e69ad5\",\"type\":\"Quad\"},\"hover_glyph\":null,\"muted_glyph\":null,\"nonselection_glyph\":{\"id\":\"d5b928c3-9a0e-4c02-b747-5e05cc0443fd\",\"type\":\"Quad\"},\"selection_glyph\":null,\"view\":{\"id\":\"c66f8b98-d741-4117-8a1f-f97a624d3633\",\"type\":\"CDSView\"}},\"id\":\"b8a43a1e-e562-4d7c-b4da-735740ba9967\",\"type\":\"GlyphRenderer\"},{\"attributes\":{\"bottom\":{\"value\":0},\"fill_alpha\":{\"value\":0.1},\"fill_color\":{\"value\":\"#1f77b4\"},\"left\":{\"field\":\"left\"},\"line_alpha\":{\"value\":0.1},\"line_color\":{\"value\":\"#1f77b4\"},\"right\":{\"field\":\"right\"},\"top\":{\"field\":\"top\"}},\"id\":\"d5b928c3-9a0e-4c02-b747-5e05cc0443fd\",\"type\":\"Quad\"},{\"attributes\":{\"bottom\":{\"value\":0},\"fill_color\":{\"value\":\"#036564\"},\"left\":{\"field\":\"left\"},\"line_color\":{\"value\":\"#033649\"},\"right\":{\"field\":\"right\"},\"top\":{\"field\":\"top\"}},\"id\":\"4091d614-a0bc-4258-a7a6-601505e69ad5\",\"type\":\"Quad\"},{\"attributes\":{},\"id\":\"79731a63-a497-4bf8-81de-25c66bc6769a\",\"type\":\"BasicTickFormatter\"},{\"attributes\":{\"bottom\":{\"value\":0},\"fill_color\":{\"value\":\"#036564\"},\"left\":{\"field\":\"left\"},\"line_color\":{\"value\":\"#033649\"},\"right\":{\"field\":\"right\"},\"top\":{\"field\":\"top\"}},\"id\":\"4973a5e7-20c5-47d5-b7f3-7941ae3d6350\",\"type\":\"Quad\"},{\"attributes\":{\"children\":[{\"id\":\"ab2edc76-5bb4-45e8-83b6-d3d0855ad2fd\",\"type\":\"Row\"}]},\"id\":\"2c7e5778-06bb-4fa5-a1a6-f5673c156f2b\",\"type\":\"Column\"},{\"attributes\":{\"plot\":null,\"text\":\"Asummetry in null cases\"},\"id\":\"c5c4a5bf-5c71-4310-a15f-f070e7491d80\",\"type\":\"Title\"},{\"attributes\":{\"axis_label\":\"Opposite direction\",\"formatter\":{\"id\":\"79731a63-a497-4bf8-81de-25c66bc6769a\",\"type\":\"BasicTickFormatter\"},\"plot\":{\"id\":\"2647644e-0a8f-4778-981f-a1de13ee11aa\",\"subtype\":\"Figure\",\"type\":\"Plot\"},\"ticker\":{\"id\":\"a6c5ca62-6dd2-4260-8153-6b23d08ae1b9\",\"type\":\"BasicTicker\"}},\"id\":\"8764d9b8-85ed-453f-bb83-2df64134e39d\",\"type\":\"LinearAxis\"},{\"attributes\":{\"below\":[{\"id\":\"9d54d0d7-776c-4a29-8444-7d6d59c8bd62\",\"type\":\"LinearAxis\"}],\"left\":[{\"id\":\"94d77cd8-d59d-48c9-9aea-e626682ae376\",\"type\":\"LinearAxis\"}],\"plot_height\":400,\"plot_width\":400,\"renderers\":[{\"id\":\"9d54d0d7-776c-4a29-8444-7d6d59c8bd62\",\"type\":\"LinearAxis\"},{\"id\":\"19b5adb8-ef1d-4e9e-816b-26db1d8a0dda\",\"type\":\"Grid\"},{\"id\":\"94d77cd8-d59d-48c9-9aea-e626682ae376\",\"type\":\"LinearAxis\"},{\"id\":\"b1ee8d6f-ae09-4b14-abf9-33fe6955fc78\",\"type\":\"Grid\"},{\"id\":\"d71b54b0-be6e-4201-8687-f5dbbc889051\",\"type\":\"BoxAnnotation\"},{\"id\":\"b8a43a1e-e562-4d7c-b4da-735740ba9967\",\"type\":\"GlyphRenderer\"}],\"title\":{\"id\":\"4b7911c9-6f34-4e56-bcc5-9dae1af72037\",\"type\":\"Title\"},\"toolbar\":{\"id\":\"885c8c37-c454-4112-8c0f-3e162f8dd929\",\"type\":\"Toolbar\"},\"toolbar_location\":null,\"x_range\":{\"id\":\"7cdb73a2-203a-4d8e-9613-0ba8b3696c0d\",\"type\":\"DataRange1d\"},\"x_scale\":{\"id\":\"4189c696-d148-432a-a895-ddb19b04f265\",\"type\":\"LinearScale\"},\"y_range\":{\"id\":\"4e394085-78de-402b-b188-e87242fe4ba7\",\"type\":\"DataRange1d\"},\"y_scale\":{\"id\":\"95f7dca8-8b97-4c30-a265-b559d66c7960\",\"type\":\"LinearScale\"}},\"id\":\"45d90459-4a6c-4fc3-8480-9eb9c1db7985\",\"subtype\":\"Figure\",\"type\":\"Plot\"},{\"attributes\":{},\"id\":\"b18798b6-c273-4e8a-a556-6f8653a9e433\",\"type\":\"BasicTicker\"},{\"attributes\":{\"tools\":[{\"id\":\"db0ccb86-4dc9-468a-b20f-5baa55fd0700\",\"type\":\"PanTool\"},{\"id\":\"47197343-ff03-498a-bb40-76e008c9ff70\",\"type\":\"WheelZoomTool\"},{\"id\":\"1c315ae2-1032-4b97-ac0e-9f9b197a295a\",\"type\":\"BoxZoomTool\"},{\"id\":\"39dbb952-9aa0-40a6-b832-ad123dae8505\",\"type\":\"SaveTool\"},{\"id\":\"cad0db23-ad4b-4135-8b18-16e746f0604e\",\"type\":\"ResetTool\"},{\"id\":\"bc0f7f3a-a0d7-4c6a-b13a-da6a36a07aa4\",\"type\":\"HelpTool\"},{\"id\":\"7ebe512d-4fb9-4212-90dc-c73190680bef\",\"type\":\"PanTool\"},{\"id\":\"ccb349f4-f0f7-4b8b-b193-07d1b9e0ee08\",\"type\":\"WheelZoomTool\"},{\"id\":\"faf07efe-82fc-490e-8214-68880c0cfa52\",\"type\":\"BoxZoomTool\"},{\"id\":\"39c99796-34c6-4726-980b-d99b861948e4\",\"type\":\"SaveTool\"},{\"id\":\"57f8ecda-b832-4e96-97d6-91c041719d03\",\"type\":\"ResetTool\"},{\"id\":\"b0d30eaa-3329-4d17-bc40-47968730ec60\",\"type\":\"HelpTool\"}]},\"id\":\"26408e14-9baa-43c7-ba8e-48782b4298cb\",\"type\":\"ProxyToolbar\"}],\"root_ids\":[\"75dc08dc-12c6-44ab-8aac-4b2d7f6439b4\"]},\"title\":\"Bokeh Application\",\"version\":\"0.12.13\"}};\n",
       "  var render_items = [{\"docid\":\"4c9359d7-4d65-4781-a8b4-aab22266f80b\",\"elementid\":\"1dc5994a-5915-4ca7-b589-ab2c0b750df7\",\"modelid\":\"75dc08dc-12c6-44ab-8aac-4b2d7f6439b4\"}];\n",
       "  root.Bokeh.embed.embed_items_notebook(docs_json, render_items);\n",
       "\n",
       "  }\n",
       "  if (root.Bokeh !== undefined) {\n",
       "    embed_document(root);\n",
       "  } else {\n",
       "    var attempts = 0;\n",
       "    var timer = setInterval(function(root) {\n",
       "      if (root.Bokeh !== undefined) {\n",
       "        embed_document(root);\n",
       "        clearInterval(timer);\n",
       "      }\n",
       "      attempts++;\n",
       "      if (attempts > 100) {\n",
       "        console.log(\"Bokeh: ERROR: Unable to run BokehJS code because BokehJS library is missing\")\n",
       "        clearInterval(timer);\n",
       "      }\n",
       "    }, 10, root)\n",
       "  }\n",
       "})(window);"
      ],
      "application/vnd.bokehjs_exec.v0+json": ""
     },
     "metadata": {
      "application/vnd.bokehjs_exec.v0+json": {
       "id": "75dc08dc-12c6-44ab-8aac-4b2d7f6439b4"
      }
     },
     "output_type": "display_data"
    }
   ],
   "source": [
    "mp = list(map(lambda x:x[1],raw))\n",
    "p1 = figure(plot_width=400, plot_height=400,title = 'Asummetry in null cases',y_axis_label = \"Distribution\",x_axis_label = \"Opposite direction\")\n",
    "q1,q2 = np.percentile(mp,[0,100])\n",
    "\n",
    "measured = [xx for xx in mp if (xx>q1 and xx<q2)]\n",
    "hist, edges = np.histogram(measured, density=True, bins=50)\n",
    "\n",
    "p1.quad(top=hist, bottom=0, left=edges[:-1], right=edges[1:],fill_color=\"#036564\", line_color=\"#033649\")\n",
    "\n",
    "mp = list(map(lambda x:abs(x[1]-x[0]),raw))\n",
    "p2 = figure(plot_width=400, plot_height=400,title = 'Asummetry in null cases',y_axis_label = \"Distribution\",x_axis_label = \"Difference (abs)\")\n",
    "q1,q2 = np.percentile(mp,[0,100])\n",
    "\n",
    "measured = [xx for xx in mp if (xx>q1 and xx<q2)]\n",
    "hist, edges = np.histogram(measured, density=True, bins=50)\n",
    "\n",
    "p2.quad(top=hist, bottom=0, left=edges[:-1], right=edges[1:],fill_color=\"#036564\", line_color=\"#033649\")\n",
    "grid = gridplot([[p1, p2]])\n",
    "show (grid)\n"
   ]
  },
  {
   "cell_type": "markdown",
   "metadata": {},
   "source": [
    "# CASE 2: 0-distance Connection"
   ]
  },
  {
   "cell_type": "code",
   "execution_count": 164,
   "metadata": {},
   "outputs": [],
   "source": [
    "total = 0 # total adjacent connections\n",
    "asym = 0 # total asymmetric adjacent connections\n",
    "raw = [] #asymmtric case max weights in both directions\n",
    "for w in null.keys():\n",
    "    ind1 = A_dic[w]\n",
    "    t1 = A[ind1]['a'][0]\n",
    "    s1 = logit(A[ind1]['weight'])\n",
    "    if t1<1:\n",
    "        total = total + 1\n",
    "        ind2 = A_dic[roi_rot(w)]\n",
    "        s2 = logit(A[ind2]['weight'])\n",
    "        t2 = A[ind2]['a'][0]\n",
    "        if t1<1 and t2>1:\n",
    "            asym = asym + 1\n",
    "            raw.append((s1,s2))"
   ]
  },
  {
   "cell_type": "code",
   "execution_count": 165,
   "metadata": {},
   "outputs": [
    {
     "name": "stdout",
     "output_type": "stream",
     "text": [
      "Total 0-distance connections:31575\n",
      "Total 0-distance connections (percentage of all connections):0.9799813780260708\n",
      "Total asymmetric 0-distance connections:563\n",
      "Total asymmetric 0-distance connections (percentage of all null connections):0.017830562153602535\n"
     ]
    }
   ],
   "source": [
    "print('Total 0-distance connections:'+str(total))\n",
    "print('Total 0-distance connections (percentage of all connections):'+str(total/32220))\n",
    "print('Total asymmetric 0-distance connections:'+str(asym))\n",
    "print('Total asymmetric 0-distance connections (percentage of all null connections):'+str(asym/total))"
   ]
  },
  {
   "cell_type": "code",
   "execution_count": 166,
   "metadata": {},
   "outputs": [
    {
     "data": {
      "text/html": [
       "\n",
       "<div class=\"bk-root\">\n",
       "    <div class=\"bk-plotdiv\" id=\"16cf8d4b-523f-4bc0-9a75-53c5556a333e\"></div>\n",
       "</div>"
      ]
     },
     "metadata": {},
     "output_type": "display_data"
    },
    {
     "data": {
      "application/javascript": [
       "(function(root) {\n",
       "  function embed_document(root) {\n",
       "    \n",
       "  var docs_json = {\"d739b440-5fc1-485f-849a-1db45756f8ba\":{\"roots\":{\"references\":[{\"attributes\":{\"axis_label\":\"Distribution\",\"formatter\":{\"id\":\"3e696688-0942-41f2-8e0c-4e2c43fab863\",\"type\":\"BasicTickFormatter\"},\"plot\":{\"id\":\"1be452d1-2baa-411e-bd9d-6526912affb9\",\"subtype\":\"Figure\",\"type\":\"Plot\"},\"ticker\":{\"id\":\"a2d12a53-0a19-4393-bedd-1ef039f40567\",\"type\":\"BasicTicker\"}},\"id\":\"60299835-7fab-4a7a-8a17-52b9a5dab039\",\"type\":\"LinearAxis\"},{\"attributes\":{\"bottom\":{\"value\":0},\"fill_alpha\":{\"value\":0.1},\"fill_color\":{\"value\":\"#1f77b4\"},\"left\":{\"field\":\"left\"},\"line_alpha\":{\"value\":0.1},\"line_color\":{\"value\":\"#1f77b4\"},\"right\":{\"field\":\"right\"},\"top\":{\"field\":\"top\"}},\"id\":\"ec2e7922-f338-4fa9-95f4-976bf88eaf24\",\"type\":\"Quad\"},{\"attributes\":{\"bottom\":{\"value\":0},\"fill_color\":{\"value\":\"#036564\"},\"left\":{\"field\":\"left\"},\"line_color\":{\"value\":\"#033649\"},\"right\":{\"field\":\"right\"},\"top\":{\"field\":\"top\"}},\"id\":\"8a77c53d-073b-4093-bd97-baa3457d5f9f\",\"type\":\"Quad\"},{\"attributes\":{},\"id\":\"a2d12a53-0a19-4393-bedd-1ef039f40567\",\"type\":\"BasicTicker\"},{\"attributes\":{\"source\":{\"id\":\"dd4b4d3e-e274-49e5-a934-063001cdf7ff\",\"type\":\"ColumnDataSource\"}},\"id\":\"3424b063-c896-447e-adb3-af08253c5bd9\",\"type\":\"CDSView\"},{\"attributes\":{\"dimension\":1,\"plot\":{\"id\":\"1be452d1-2baa-411e-bd9d-6526912affb9\",\"subtype\":\"Figure\",\"type\":\"Plot\"},\"ticker\":{\"id\":\"a2d12a53-0a19-4393-bedd-1ef039f40567\",\"type\":\"BasicTicker\"}},\"id\":\"d2e54804-284c-4acf-9923-3ea714a4b0a6\",\"type\":\"Grid\"},{\"attributes\":{\"callback\":null,\"column_names\":[\"left\",\"right\",\"top\"],\"data\":{\"left\":{\"__ndarray__\":\"AASZsPnljT+25VP9W/u9P3ZVSmL8HMw/CFz1YiWe1D9WjcWUzC3bP1LfSuO53uA/+PcyfI0m5D+fEBsVYW7nP0YpA640tuo/7UHrRgj+7T9Krenv7aLwP525XbzXRvI/8MXRiMHq8z9E0kVVq471P5feuSGVMvc/6+ot7n7W+D8+96G6aHr6P5EDFodSHvw/5Q+KUzzC/T84HP4fJmb/P0YUOfYHhQBAbxpz3PxWAUCZIK3C8SgCQMMm56jm+gJA7Cwhj9vMA0AWM1t10J4EQEA5lVvFcAVAaj/PQbpCBkCTRQkorxQHQL1LQw6k5gdA51F99Ji4CEAQWLfajYoJQDpe8cCCXApAZGQrp3cuC0CNamWNbAAMQLdwn3Nh0gxA4XbZWVakDUAKfRNAS3YOQDSDTSZASA9Ar8RDhhoNEEDEx2D5FHYQQNnKfWwP3xBA7c2a3wlIEUAC0bdSBLERQBfU1MX+GRJALNfxOPmCEkBB2g6s8+sSQFbdKx/uVBNAauBIkui9E0B/42UF4yYUQA==\",\"dtype\":\"float64\",\"shape\":[50]},\"right\":{\"__ndarray__\":\"tuVT/Vv7vT92VUpi/BzMPwhc9WIlntQ/Vo3FlMwt2z9S30rjud7gP/j3MnyNJuQ/nxAbFWFu5z9GKQOuNLbqP+1B60YI/u0/Sq3p7+2i8D+duV2810byP/DF0YjB6vM/RNJFVauO9T+X3rkhlTL3P+vqLe5+1vg/Pvehumh6+j+RAxaHUh78P+UPilM8wv0/OBz+HyZm/z9GFDn2B4UAQG8ac9z8VgFAmSCtwvEoAkDDJueo5voCQOwsIY/bzANAFjNbddCeBEBAOZVbxXAFQGo/z0G6QgZAk0UJKK8UB0C9S0MOpOYHQOdRffSYuAhAEFi32o2KCUA6XvHAglwKQGRkK6d3LgtAjWpljWwADEC3cJ9zYdIMQOF22VlWpA1ACn0TQEt2DkA0g00mQEgPQK/EQ4YaDRBAxMdg+RR2EEDZyn1sD98QQO3Nmt8JSBFAAtG3UgSxEUAX1NTF/hkSQCzX8Tj5ghJAQdoOrPPrEkBW3Ssf7lQTQGrgSJLovRNAf+NlBeMmFECU5oJ43Y8UQA==\",\"dtype\":\"float64\",\"shape\":[50]},\"top\":{\"__ndarray__\":\"dtnTDll54z922dMOWXnjP4sDkcMnseA/Oluc8OzR2z9GSJPM6OrSPwCgnvmtC94/mH0ddc3u3D9Vwh9+jijfP2GvFlqKQeY/5yUSSAjO0T+OA5HDJ7HQPwqNldWpJNU/MVuc8OzR2z9CW5zw7NHbP/2MldWpJNU/q2oUUckHxD+rahRRyQfUP1uvFlqKQcY/JfQYY0t7yD+EA5HDJ7HQP3WvFlqKQcY/W68WWopBxj+eahRRyQfEP5gDkcMnsdA/W68WWopBtj+eahRRyQfEP9M4G2wMtco/9DgbbAy1uj/iJRJICM6hP+IlEkgIzrE/da8WWopBtj/iJRJICM6xP+IlEkgIzpE/+CUSSAjOkT9brxZaikG2P9M4G2wMtao/9DgbbAy1qj/TOBtsDLWqP+IlEkgIzqE/4iUSSAjOkT/iJRJICM6RPxU5G2wMtao/AAAAAAAAAAAAAAAAAAAAAAAAAAAAAAAAAAAAAAAAAAAAAAAAAAAAAAAAAAAAAAAA4iUSSAjOkT/iJRJICM6RPw==\",\"dtype\":\"float64\",\"shape\":[50]}}},\"id\":\"dd4b4d3e-e274-49e5-a934-063001cdf7ff\",\"type\":\"ColumnDataSource\"},{\"attributes\":{},\"id\":\"5b357f95-499a-4c58-ac0c-d747800751c8\",\"type\":\"HelpTool\"},{\"attributes\":{\"plot\":null,\"text\":\"Asummetry in 0-distance cases\"},\"id\":\"62b2b317-46be-4958-b9e1-aae9c91cb9ef\",\"type\":\"Title\"},{\"attributes\":{\"bottom_units\":\"screen\",\"fill_alpha\":{\"value\":0.5},\"fill_color\":{\"value\":\"lightgrey\"},\"left_units\":\"screen\",\"level\":\"overlay\",\"line_alpha\":{\"value\":1.0},\"line_color\":{\"value\":\"black\"},\"line_dash\":[4,4],\"line_width\":{\"value\":2},\"plot\":null,\"render_mode\":\"css\",\"right_units\":\"screen\",\"top_units\":\"screen\"},\"id\":\"062a3a9f-4fc8-4253-8af8-288329645e6c\",\"type\":\"BoxAnnotation\"},{\"attributes\":{\"below\":[{\"id\":\"eb3ee090-f24a-46c0-bdaa-d7d4e5406ae5\",\"type\":\"LinearAxis\"}],\"left\":[{\"id\":\"60299835-7fab-4a7a-8a17-52b9a5dab039\",\"type\":\"LinearAxis\"}],\"plot_height\":400,\"plot_width\":400,\"renderers\":[{\"id\":\"eb3ee090-f24a-46c0-bdaa-d7d4e5406ae5\",\"type\":\"LinearAxis\"},{\"id\":\"f72aab78-5258-4df0-8187-c1c5278f6bb9\",\"type\":\"Grid\"},{\"id\":\"60299835-7fab-4a7a-8a17-52b9a5dab039\",\"type\":\"LinearAxis\"},{\"id\":\"d2e54804-284c-4acf-9923-3ea714a4b0a6\",\"type\":\"Grid\"},{\"id\":\"062a3a9f-4fc8-4253-8af8-288329645e6c\",\"type\":\"BoxAnnotation\"},{\"id\":\"257df38a-aaf5-41c5-ba16-929403a33ad9\",\"type\":\"GlyphRenderer\"}],\"title\":{\"id\":\"62b2b317-46be-4958-b9e1-aae9c91cb9ef\",\"type\":\"Title\"},\"toolbar\":{\"id\":\"e3c83a66-a1df-42ea-b6c9-fae51eeea6d5\",\"type\":\"Toolbar\"},\"x_range\":{\"id\":\"2d0d17de-74f7-4928-9488-4a22873633a0\",\"type\":\"DataRange1d\"},\"x_scale\":{\"id\":\"da81dc70-2ed8-479d-9cbc-ed101aebceb8\",\"type\":\"LinearScale\"},\"y_range\":{\"id\":\"31c9c02b-cbfe-4558-a591-3dddbfdc4cdf\",\"type\":\"DataRange1d\"},\"y_scale\":{\"id\":\"674674f1-0ba7-4587-836b-ada1219ff540\",\"type\":\"LinearScale\"}},\"id\":\"1be452d1-2baa-411e-bd9d-6526912affb9\",\"subtype\":\"Figure\",\"type\":\"Plot\"},{\"attributes\":{},\"id\":\"59580688-335e-4108-8ce7-00b30fd141cd\",\"type\":\"PanTool\"},{\"attributes\":{},\"id\":\"3e696688-0942-41f2-8e0c-4e2c43fab863\",\"type\":\"BasicTickFormatter\"},{\"attributes\":{\"data_source\":{\"id\":\"dd4b4d3e-e274-49e5-a934-063001cdf7ff\",\"type\":\"ColumnDataSource\"},\"glyph\":{\"id\":\"8a77c53d-073b-4093-bd97-baa3457d5f9f\",\"type\":\"Quad\"},\"hover_glyph\":null,\"muted_glyph\":null,\"nonselection_glyph\":{\"id\":\"ec2e7922-f338-4fa9-95f4-976bf88eaf24\",\"type\":\"Quad\"},\"selection_glyph\":null,\"view\":{\"id\":\"3424b063-c896-447e-adb3-af08253c5bd9\",\"type\":\"CDSView\"}},\"id\":\"257df38a-aaf5-41c5-ba16-929403a33ad9\",\"type\":\"GlyphRenderer\"},{\"attributes\":{},\"id\":\"420666fa-2769-4d4f-9137-4f90c0688ff6\",\"type\":\"WheelZoomTool\"},{\"attributes\":{\"callback\":null},\"id\":\"2d0d17de-74f7-4928-9488-4a22873633a0\",\"type\":\"DataRange1d\"},{\"attributes\":{\"overlay\":{\"id\":\"062a3a9f-4fc8-4253-8af8-288329645e6c\",\"type\":\"BoxAnnotation\"}},\"id\":\"3cf570da-6c36-4337-bca9-42d7efc36161\",\"type\":\"BoxZoomTool\"},{\"attributes\":{\"callback\":null},\"id\":\"31c9c02b-cbfe-4558-a591-3dddbfdc4cdf\",\"type\":\"DataRange1d\"},{\"attributes\":{},\"id\":\"db2b7963-1ca3-494c-8cd9-b74b73e14954\",\"type\":\"SaveTool\"},{\"attributes\":{},\"id\":\"da81dc70-2ed8-479d-9cbc-ed101aebceb8\",\"type\":\"LinearScale\"},{\"attributes\":{\"active_drag\":\"auto\",\"active_inspect\":\"auto\",\"active_scroll\":\"auto\",\"active_tap\":\"auto\",\"tools\":[{\"id\":\"59580688-335e-4108-8ce7-00b30fd141cd\",\"type\":\"PanTool\"},{\"id\":\"420666fa-2769-4d4f-9137-4f90c0688ff6\",\"type\":\"WheelZoomTool\"},{\"id\":\"3cf570da-6c36-4337-bca9-42d7efc36161\",\"type\":\"BoxZoomTool\"},{\"id\":\"db2b7963-1ca3-494c-8cd9-b74b73e14954\",\"type\":\"SaveTool\"},{\"id\":\"eb042f3a-fe9c-46f3-8636-3cfb558609cd\",\"type\":\"ResetTool\"},{\"id\":\"5b357f95-499a-4c58-ac0c-d747800751c8\",\"type\":\"HelpTool\"}]},\"id\":\"e3c83a66-a1df-42ea-b6c9-fae51eeea6d5\",\"type\":\"Toolbar\"},{\"attributes\":{\"plot\":{\"id\":\"1be452d1-2baa-411e-bd9d-6526912affb9\",\"subtype\":\"Figure\",\"type\":\"Plot\"},\"ticker\":{\"id\":\"2ad0f4fe-2411-4585-874a-d73c03a3ae8f\",\"type\":\"BasicTicker\"}},\"id\":\"f72aab78-5258-4df0-8187-c1c5278f6bb9\",\"type\":\"Grid\"},{\"attributes\":{},\"id\":\"645ce8bd-49e3-4aee-a7b9-46a20ae96bc3\",\"type\":\"BasicTickFormatter\"},{\"attributes\":{},\"id\":\"674674f1-0ba7-4587-836b-ada1219ff540\",\"type\":\"LinearScale\"},{\"attributes\":{\"axis_label\":\"Difference in connection strength between directions (abs)\",\"formatter\":{\"id\":\"645ce8bd-49e3-4aee-a7b9-46a20ae96bc3\",\"type\":\"BasicTickFormatter\"},\"plot\":{\"id\":\"1be452d1-2baa-411e-bd9d-6526912affb9\",\"subtype\":\"Figure\",\"type\":\"Plot\"},\"ticker\":{\"id\":\"2ad0f4fe-2411-4585-874a-d73c03a3ae8f\",\"type\":\"BasicTicker\"}},\"id\":\"eb3ee090-f24a-46c0-bdaa-d7d4e5406ae5\",\"type\":\"LinearAxis\"},{\"attributes\":{},\"id\":\"eb042f3a-fe9c-46f3-8636-3cfb558609cd\",\"type\":\"ResetTool\"},{\"attributes\":{},\"id\":\"2ad0f4fe-2411-4585-874a-d73c03a3ae8f\",\"type\":\"BasicTicker\"}],\"root_ids\":[\"1be452d1-2baa-411e-bd9d-6526912affb9\"]},\"title\":\"Bokeh Application\",\"version\":\"0.12.13\"}};\n",
       "  var render_items = [{\"docid\":\"d739b440-5fc1-485f-849a-1db45756f8ba\",\"elementid\":\"16cf8d4b-523f-4bc0-9a75-53c5556a333e\",\"modelid\":\"1be452d1-2baa-411e-bd9d-6526912affb9\"}];\n",
       "  root.Bokeh.embed.embed_items_notebook(docs_json, render_items);\n",
       "\n",
       "  }\n",
       "  if (root.Bokeh !== undefined) {\n",
       "    embed_document(root);\n",
       "  } else {\n",
       "    var attempts = 0;\n",
       "    var timer = setInterval(function(root) {\n",
       "      if (root.Bokeh !== undefined) {\n",
       "        embed_document(root);\n",
       "        clearInterval(timer);\n",
       "      }\n",
       "      attempts++;\n",
       "      if (attempts > 100) {\n",
       "        console.log(\"Bokeh: ERROR: Unable to run BokehJS code because BokehJS library is missing\")\n",
       "        clearInterval(timer);\n",
       "      }\n",
       "    }, 10, root)\n",
       "  }\n",
       "})(window);"
      ],
      "application/vnd.bokehjs_exec.v0+json": ""
     },
     "metadata": {
      "application/vnd.bokehjs_exec.v0+json": {
       "id": "1be452d1-2baa-411e-bd9d-6526912affb9"
      }
     },
     "output_type": "display_data"
    }
   ],
   "source": [
    "mp = list(map(lambda x:abs(x[1]-x[0]),raw))\n",
    "p1 = figure(plot_width=400, plot_height=400,title = 'Asummetry in 0-distance cases',y_axis_label = \"Distribution\",x_axis_label = \"Difference in connection strength between directions (abs)\")\n",
    "q1,q2 = np.percentile(mp,[0,100])\n",
    "\n",
    "measured = [xx for xx in mp if (xx>q1 and xx<q2)]\n",
    "hist, edges = np.histogram(measured, density=True, bins=50)\n",
    "\n",
    "p1.quad(top=hist, bottom=0, left=edges[:-1], right=edges[1:],fill_color=\"#036564\", line_color=\"#033649\")\n",
    "show(p1)"
   ]
  },
  {
   "cell_type": "markdown",
   "metadata": {},
   "source": [
    "# CASE 3: Good Local Regressors"
   ]
  },
  {
   "cell_type": "code",
   "execution_count": 198,
   "metadata": {},
   "outputs": [],
   "source": [
    "total = 0\n",
    "sym = 0\n",
    "raw = []\n",
    "for w in null:\n",
    "    ind1 = A_dic[w]\n",
    "    ind2 = A_dic[roi_rot(w)]\n",
    "    if (A[ind1]['isSuccess']):\n",
    "        total = total + 1\n",
    "        if (A[ind2]['isSuccess']):\n",
    "            sym = sym + 1\n",
    "            s1 = logit(A[ind1]['weight'])\n",
    "            s2 = logit(A[ind2]['weight'])\n",
    "            raw.append((s1,s2))"
   ]
  },
  {
   "cell_type": "code",
   "execution_count": 199,
   "metadata": {},
   "outputs": [
    {
     "name": "stdout",
     "output_type": "stream",
     "text": [
      "Total good-local regressor connections:5081\n",
      "Total good-local regressor connections (percentage of all connections):0.15769708255741774\n",
      "Total symmetric good-local regressor connections:2944\n",
      "Total symmetric good-local regressor connections (percentage of all null connections):0.5794135012792757\n"
     ]
    }
   ],
   "source": [
    "print('Total good-local regressor connections:'+str(total))\n",
    "print('Total good-local regressor connections (percentage of all connections):'+str(total/32220))\n",
    "print('Total symmetric good-local regressor connections:'+str(sym))\n",
    "print('Total symmetric good-local regressor connections (percentage of all null connections):'+str(sym/total))"
   ]
  },
  {
   "cell_type": "code",
   "execution_count": 200,
   "metadata": {},
   "outputs": [
    {
     "data": {
      "text/html": [
       "\n",
       "<div class=\"bk-root\">\n",
       "    <div class=\"bk-plotdiv\" id=\"614fc7f6-daf1-4036-b5ce-40598604534e\"></div>\n",
       "</div>"
      ]
     },
     "metadata": {},
     "output_type": "display_data"
    },
    {
     "data": {
      "application/javascript": [
       "(function(root) {\n",
       "  function embed_document(root) {\n",
       "    \n",
       "  var docs_json = {\"59c636c4-aa65-43bd-8e12-b32f206bcfb7\":{\"roots\":{\"references\":[{\"attributes\":{},\"id\":\"70fb1650-1e18-4f1c-913a-cd9244df5e55\",\"type\":\"BasicTicker\"},{\"attributes\":{\"dimension\":1,\"plot\":{\"id\":\"22f54d2c-ef94-46e7-a54c-4390e46a3407\",\"subtype\":\"Figure\",\"type\":\"Plot\"},\"ticker\":{\"id\":\"70fb1650-1e18-4f1c-913a-cd9244df5e55\",\"type\":\"BasicTicker\"}},\"id\":\"092961bf-764f-4101-abce-09e0c3c172cc\",\"type\":\"Grid\"},{\"attributes\":{},\"id\":\"a3c66694-5ec7-4749-bb2c-80902e52fc06\",\"type\":\"WheelZoomTool\"},{\"attributes\":{\"data_source\":{\"id\":\"a2dd127b-4dbd-4930-97be-4be9ac66517f\",\"type\":\"ColumnDataSource\"},\"glyph\":{\"id\":\"7defa8cf-3d0f-42df-b769-fcf93ec92320\",\"type\":\"Quad\"},\"hover_glyph\":null,\"muted_glyph\":null,\"nonselection_glyph\":{\"id\":\"1b86cb55-1d3d-4a56-b9f5-86c3a2370ed8\",\"type\":\"Quad\"},\"selection_glyph\":null,\"view\":{\"id\":\"df7c777a-30fb-4903-a7d2-37d22fc31416\",\"type\":\"CDSView\"}},\"id\":\"9144bacf-7f6a-4b6a-8199-e688d8c04b97\",\"type\":\"GlyphRenderer\"},{\"attributes\":{\"axis_label\":\"Difference in connection strength between directions (abs)\",\"formatter\":{\"id\":\"3ca6e2ec-6a94-4da4-92e7-ebd2524fb456\",\"type\":\"BasicTickFormatter\"},\"plot\":{\"id\":\"22f54d2c-ef94-46e7-a54c-4390e46a3407\",\"subtype\":\"Figure\",\"type\":\"Plot\"},\"ticker\":{\"id\":\"737ac91a-4461-4c9e-8642-005e671f49af\",\"type\":\"BasicTicker\"}},\"id\":\"624bff8c-63e7-46b7-9704-1ded151537b8\",\"type\":\"LinearAxis\"},{\"attributes\":{\"overlay\":{\"id\":\"2e97d296-da38-47af-9497-fca2f351ae08\",\"type\":\"BoxAnnotation\"}},\"id\":\"4ad1e536-4cf0-4b29-b92c-eb2f508253bf\",\"type\":\"BoxZoomTool\"},{\"attributes\":{\"bottom\":{\"value\":0},\"fill_color\":{\"value\":\"#036564\"},\"left\":{\"field\":\"left\"},\"line_color\":{\"value\":\"#033649\"},\"right\":{\"field\":\"right\"},\"top\":{\"field\":\"top\"}},\"id\":\"7defa8cf-3d0f-42df-b769-fcf93ec92320\",\"type\":\"Quad\"},{\"attributes\":{},\"id\":\"2075dda2-69a3-44c1-b7d0-b9fbc6d3aba6\",\"type\":\"PanTool\"},{\"attributes\":{\"axis_label\":\"Distribution\",\"formatter\":{\"id\":\"1676bd79-80ee-4603-b86a-4f59c52505e8\",\"type\":\"BasicTickFormatter\"},\"plot\":{\"id\":\"22f54d2c-ef94-46e7-a54c-4390e46a3407\",\"subtype\":\"Figure\",\"type\":\"Plot\"},\"ticker\":{\"id\":\"70fb1650-1e18-4f1c-913a-cd9244df5e55\",\"type\":\"BasicTicker\"}},\"id\":\"9ae43df4-7197-4499-825b-08b324b9362e\",\"type\":\"LinearAxis\"},{\"attributes\":{},\"id\":\"3ca6e2ec-6a94-4da4-92e7-ebd2524fb456\",\"type\":\"BasicTickFormatter\"},{\"attributes\":{},\"id\":\"39ab9b18-e5c0-45a0-96bd-a7bb078ac02d\",\"type\":\"HelpTool\"},{\"attributes\":{\"callback\":null},\"id\":\"7a2773f2-7ac7-4ead-8f04-4fb31b3d541c\",\"type\":\"DataRange1d\"},{\"attributes\":{\"active_drag\":\"auto\",\"active_inspect\":\"auto\",\"active_scroll\":\"auto\",\"active_tap\":\"auto\",\"tools\":[{\"id\":\"2075dda2-69a3-44c1-b7d0-b9fbc6d3aba6\",\"type\":\"PanTool\"},{\"id\":\"a3c66694-5ec7-4749-bb2c-80902e52fc06\",\"type\":\"WheelZoomTool\"},{\"id\":\"4ad1e536-4cf0-4b29-b92c-eb2f508253bf\",\"type\":\"BoxZoomTool\"},{\"id\":\"a6d39714-2c30-4f31-9880-993860ce569d\",\"type\":\"SaveTool\"},{\"id\":\"a0d0a6d0-90c5-41ac-91d8-10b7f7dccb25\",\"type\":\"ResetTool\"},{\"id\":\"39ab9b18-e5c0-45a0-96bd-a7bb078ac02d\",\"type\":\"HelpTool\"}]},\"id\":\"942d3cef-e77d-4397-97b5-fa1fe65a87c7\",\"type\":\"Toolbar\"},{\"attributes\":{},\"id\":\"a6d39714-2c30-4f31-9880-993860ce569d\",\"type\":\"SaveTool\"},{\"attributes\":{\"callback\":null,\"column_names\":[\"left\",\"right\",\"top\"],\"data\":{\"left\":{\"__ndarray__\":\"gEpJSvePKj+4BaJ4GZ2yP2Zzz3p1lsI/7+NNOV7eyz88KuZ7I5PSP4FiJdsXN9c/xZpkOgzb2z+G6dFMgD/gP6iFcXx6keI/yiERrHTj5D/tvbDbbjXnPw9aUAtph+k/MfbvOmPZ6z9Uko9qXSvuPzuXF82rPvA/TGXn5Khn8T9dM7f8pZDyP24BhxSjufM/f89WLKDi9D+RnSZEnQv2P6Jr9luaNPc/sznGc5dd+D/EB5aLlIb5P9XVZaORr/o/5qM1u47Y+z/4cQXTiwH9PwlA1eqIKv4/Gg6lAoZT/z8WbjqNQT4AQB5VIhnA0gBAJzwKpT5nAUAvI/IwvfsBQDgK2rw7kAJAQfHBSLokA0BJ2KnUOLkDQFK/kWC3TQRAWqZ57DXiBEBjjWF4tHYFQGx0SQQzCwZAdFsxkLGfBkB9QhkcMDQHQIUpAaiuyAdAjhDpMy1dCECX99C/q/EIQJ/euEsqhglAqMWg16gaCkCwrIhjJ68KQLmTcO+lQwtAwXpYeyTYC0DKYUAHo2wMQA==\",\"dtype\":\"float64\",\"shape\":[50]},\"right\":{\"__ndarray__\":\"uAWieBmdsj9mc896dZbCP+/jTTle3ss/PCrmeyOT0j+BYiXbFzfXP8WaZDoM29s/hunRTIA/4D+ohXF8epHiP8ohEax04+Q/7b2w22415z8PWlALaYfpPzH27zpj2es/VJKPal0r7j87lxfNqz7wP0xl5+SoZ/E/XTO3/KWQ8j9uAYcUo7nzP3/PViyg4vQ/kZ0mRJ0L9j+ia/ZbmjT3P7M5xnOXXfg/xAeWi5SG+T/V1WWjka/6P+ajNbuO2Ps/+HEF04sB/T8JQNXqiCr+PxoOpQKGU/8/Fm46jUE+AEAeVSIZwNIAQCc8CqU+ZwFALyPyML37AUA4Ctq8O5ACQEHxwUi6JANASdip1Di5A0BSv5Fgt00EQFqmeew14gRAY41heLR2BUBsdEkEMwsGQHRbMZCxnwZAfUIZHDA0B0CFKQGorsgHQI4Q6TMtXQhAl/fQv6vxCECf3rhLKoYJQKjFoNeoGgpAsKyIYyevCkC5k3DvpUMLQMF6WHsk2AtAymFAB6NsDEDSSCiTIQENQA==\",\"dtype\":\"float64\",\"shape\":[50]},\"top\":{\"__ndarray__\":\"QPYow9g+BEBTw43kX0TzP1HvQdT4tO4/zMiL2Emy6z98aERjlCvkP+DTaWjCjuA//Hgg5/Z14T8fE/nVsoDdP+DTaWjCjuA/LIEd1dUa3j8TxozeVHvXP4nLitI+6d8/IzSx3XcV2D9jEPrbvUnZP3MxsuOC3tM/OYEd1dUazj/tCvzn09vQPyPnROYZENI/YTGy44Le0z8uNLHddxXIP29dZtMbT88/w3sf4eusxT/Dex/h66zFP/lXaN8x4cY/guxC2gN+uj+Nn9bipXjEPwSl1NaP5qw/66TU1o/mvD8dpdTWj+a8P7B7H+HrrLU/+wr859PbsD/rpNTWj+acP94K/OfT27A/+wr859PbsD/rpNTWj+asP2jDjeRfRJM/GTSx3XcVqD8ZNLHddxWoP2jDjeRfRJM/SMON5F9Egz9ow43kX0STPwAAAAAAAAAAAAAAAAAAAABow43kX0SDPwAAAAAAAAAAaMON5F9Egz8AAAAAAAAAAAAAAAAAAAAAAAAAAAAAAABow43kX0SDPw==\",\"dtype\":\"float64\",\"shape\":[50]}}},\"id\":\"a2dd127b-4dbd-4930-97be-4be9ac66517f\",\"type\":\"ColumnDataSource\"},{\"attributes\":{},\"id\":\"737ac91a-4461-4c9e-8642-005e671f49af\",\"type\":\"BasicTicker\"},{\"attributes\":{},\"id\":\"9cc37e0f-0c7e-40c7-accb-851a84887cc8\",\"type\":\"LinearScale\"},{\"attributes\":{\"callback\":null},\"id\":\"44f59363-cd8d-4be7-b570-3b6478e45131\",\"type\":\"DataRange1d\"},{\"attributes\":{},\"id\":\"ba603ad1-3ecc-44d3-b6e7-75cfdc6408d0\",\"type\":\"LinearScale\"},{\"attributes\":{\"plot\":{\"id\":\"22f54d2c-ef94-46e7-a54c-4390e46a3407\",\"subtype\":\"Figure\",\"type\":\"Plot\"},\"ticker\":{\"id\":\"737ac91a-4461-4c9e-8642-005e671f49af\",\"type\":\"BasicTicker\"}},\"id\":\"5df57533-743e-46c0-a3ca-ef22ecb16eb2\",\"type\":\"Grid\"},{\"attributes\":{\"below\":[{\"id\":\"624bff8c-63e7-46b7-9704-1ded151537b8\",\"type\":\"LinearAxis\"}],\"left\":[{\"id\":\"9ae43df4-7197-4499-825b-08b324b9362e\",\"type\":\"LinearAxis\"}],\"plot_height\":400,\"plot_width\":400,\"renderers\":[{\"id\":\"624bff8c-63e7-46b7-9704-1ded151537b8\",\"type\":\"LinearAxis\"},{\"id\":\"5df57533-743e-46c0-a3ca-ef22ecb16eb2\",\"type\":\"Grid\"},{\"id\":\"9ae43df4-7197-4499-825b-08b324b9362e\",\"type\":\"LinearAxis\"},{\"id\":\"092961bf-764f-4101-abce-09e0c3c172cc\",\"type\":\"Grid\"},{\"id\":\"2e97d296-da38-47af-9497-fca2f351ae08\",\"type\":\"BoxAnnotation\"},{\"id\":\"9144bacf-7f6a-4b6a-8199-e688d8c04b97\",\"type\":\"GlyphRenderer\"}],\"title\":{\"id\":\"ae391732-a43b-458d-80e4-ad89fc976f20\",\"type\":\"Title\"},\"toolbar\":{\"id\":\"942d3cef-e77d-4397-97b5-fa1fe65a87c7\",\"type\":\"Toolbar\"},\"x_range\":{\"id\":\"44f59363-cd8d-4be7-b570-3b6478e45131\",\"type\":\"DataRange1d\"},\"x_scale\":{\"id\":\"ba603ad1-3ecc-44d3-b6e7-75cfdc6408d0\",\"type\":\"LinearScale\"},\"y_range\":{\"id\":\"7a2773f2-7ac7-4ead-8f04-4fb31b3d541c\",\"type\":\"DataRange1d\"},\"y_scale\":{\"id\":\"9cc37e0f-0c7e-40c7-accb-851a84887cc8\",\"type\":\"LinearScale\"}},\"id\":\"22f54d2c-ef94-46e7-a54c-4390e46a3407\",\"subtype\":\"Figure\",\"type\":\"Plot\"},{\"attributes\":{},\"id\":\"a0d0a6d0-90c5-41ac-91d8-10b7f7dccb25\",\"type\":\"ResetTool\"},{\"attributes\":{\"plot\":null,\"text\":\"Asummetry in 0-distance cases\"},\"id\":\"ae391732-a43b-458d-80e4-ad89fc976f20\",\"type\":\"Title\"},{\"attributes\":{\"source\":{\"id\":\"a2dd127b-4dbd-4930-97be-4be9ac66517f\",\"type\":\"ColumnDataSource\"}},\"id\":\"df7c777a-30fb-4903-a7d2-37d22fc31416\",\"type\":\"CDSView\"},{\"attributes\":{},\"id\":\"1676bd79-80ee-4603-b86a-4f59c52505e8\",\"type\":\"BasicTickFormatter\"},{\"attributes\":{\"bottom_units\":\"screen\",\"fill_alpha\":{\"value\":0.5},\"fill_color\":{\"value\":\"lightgrey\"},\"left_units\":\"screen\",\"level\":\"overlay\",\"line_alpha\":{\"value\":1.0},\"line_color\":{\"value\":\"black\"},\"line_dash\":[4,4],\"line_width\":{\"value\":2},\"plot\":null,\"render_mode\":\"css\",\"right_units\":\"screen\",\"top_units\":\"screen\"},\"id\":\"2e97d296-da38-47af-9497-fca2f351ae08\",\"type\":\"BoxAnnotation\"},{\"attributes\":{\"bottom\":{\"value\":0},\"fill_alpha\":{\"value\":0.1},\"fill_color\":{\"value\":\"#1f77b4\"},\"left\":{\"field\":\"left\"},\"line_alpha\":{\"value\":0.1},\"line_color\":{\"value\":\"#1f77b4\"},\"right\":{\"field\":\"right\"},\"top\":{\"field\":\"top\"}},\"id\":\"1b86cb55-1d3d-4a56-b9f5-86c3a2370ed8\",\"type\":\"Quad\"}],\"root_ids\":[\"22f54d2c-ef94-46e7-a54c-4390e46a3407\"]},\"title\":\"Bokeh Application\",\"version\":\"0.12.13\"}};\n",
       "  var render_items = [{\"docid\":\"59c636c4-aa65-43bd-8e12-b32f206bcfb7\",\"elementid\":\"614fc7f6-daf1-4036-b5ce-40598604534e\",\"modelid\":\"22f54d2c-ef94-46e7-a54c-4390e46a3407\"}];\n",
       "  root.Bokeh.embed.embed_items_notebook(docs_json, render_items);\n",
       "\n",
       "  }\n",
       "  if (root.Bokeh !== undefined) {\n",
       "    embed_document(root);\n",
       "  } else {\n",
       "    var attempts = 0;\n",
       "    var timer = setInterval(function(root) {\n",
       "      if (root.Bokeh !== undefined) {\n",
       "        embed_document(root);\n",
       "        clearInterval(timer);\n",
       "      }\n",
       "      attempts++;\n",
       "      if (attempts > 100) {\n",
       "        console.log(\"Bokeh: ERROR: Unable to run BokehJS code because BokehJS library is missing\")\n",
       "        clearInterval(timer);\n",
       "      }\n",
       "    }, 10, root)\n",
       "  }\n",
       "})(window);"
      ],
      "application/vnd.bokehjs_exec.v0+json": ""
     },
     "metadata": {
      "application/vnd.bokehjs_exec.v0+json": {
       "id": "22f54d2c-ef94-46e7-a54c-4390e46a3407"
      }
     },
     "output_type": "display_data"
    }
   ],
   "source": [
    "mp = list(map(lambda x:abs(x[1]-x[0]),raw))\n",
    "p1 = figure(plot_width=400, plot_height=400,title = 'Asummetry in 0-distance cases',y_axis_label = \"Distribution\",x_axis_label = \"Difference in connection strength between directions (abs)\")\n",
    "q1,q2 = np.percentile(mp,[0,100])\n",
    "\n",
    "measured = [xx for xx in mp if (xx>q1 and xx<q2)]\n",
    "hist, edges = np.histogram(measured, density=True, bins=50)\n",
    "\n",
    "p1.quad(top=hist, bottom=0, left=edges[:-1], right=edges[1:],fill_color=\"#036564\", line_color=\"#033649\")\n",
    "show(p1)"
   ]
  },
  {
   "cell_type": "markdown",
   "metadata": {},
   "source": [
    "# CASE 4: BAD LOCAL REGRESSOR"
   ]
  },
  {
   "cell_type": "code",
   "execution_count": 203,
   "metadata": {},
   "outputs": [],
   "source": [
    "total = 0\n",
    "sym = 0\n",
    "raw = []\n",
    "for w in null:\n",
    "    ind1 = A_dic[w]\n",
    "    ind2 = A_dic[roi_rot(w)]\n",
    "    if (not A[ind1]['isSuccess']):\n",
    "        total = total + 1\n",
    "        if (not A[ind2]['isSuccess']):\n",
    "            sym = sym + 1\n",
    "            s1 = logit(A[ind1]['weight'])\n",
    "            s2 = logit(A[ind2]['weight'])\n",
    "            raw.append((s1,s2))"
   ]
  },
  {
   "cell_type": "code",
   "execution_count": 204,
   "metadata": {},
   "outputs": [
    {
     "name": "stdout",
     "output_type": "stream",
     "text": [
      "Total bad-local regressor connections:27139\n",
      "Total bad-local regressor connections (percentage of all connections):0.8423029174425822\n",
      "Total symmetric bad-local regressor connections:25002\n",
      "Total symmetric bad-local regressor connections (percentage of all null connections):0.9212572312907624\n"
     ]
    }
   ],
   "source": [
    "print('Total bad-local regressor connections:'+str(total))\n",
    "print('Total bad-local regressor connections (percentage of all connections):'+str(total/32220))\n",
    "print('Total symmetric bad-local regressor connections:'+str(sym))\n",
    "print('Total symmetric bad-local regressor connections (percentage of all null connections):'+str(sym/total))"
   ]
  },
  {
   "cell_type": "code",
   "execution_count": 205,
   "metadata": {},
   "outputs": [
    {
     "data": {
      "text/html": [
       "\n",
       "<div class=\"bk-root\">\n",
       "    <div class=\"bk-plotdiv\" id=\"60de0ece-30af-41c5-b5e0-2b00160a1067\"></div>\n",
       "</div>"
      ]
     },
     "metadata": {},
     "output_type": "display_data"
    },
    {
     "data": {
      "application/javascript": [
       "(function(root) {\n",
       "  function embed_document(root) {\n",
       "    \n",
       "  var docs_json = {\"4c3c6230-71c4-48f5-b35c-d60e51032d58\":{\"roots\":{\"references\":[{\"attributes\":{},\"id\":\"f1605566-72b6-426c-b899-10b745d4161a\",\"type\":\"HelpTool\"},{\"attributes\":{\"callback\":null},\"id\":\"f9d11844-a730-4b41-add3-2296e218a970\",\"type\":\"DataRange1d\"},{\"attributes\":{},\"id\":\"d9c5ffb8-e2c5-44bf-8c39-ec59c27baa6e\",\"type\":\"LinearScale\"},{\"attributes\":{\"plot\":{\"id\":\"3cb5bb75-5225-4bad-b24a-7102ae12d705\",\"subtype\":\"Figure\",\"type\":\"Plot\"},\"ticker\":{\"id\":\"f7fdce88-4d60-4131-b2a9-78f7b31aaa18\",\"type\":\"BasicTicker\"}},\"id\":\"8de20dfa-661a-434c-afef-6b71253757ce\",\"type\":\"Grid\"},{\"attributes\":{\"plot\":null,\"text\":\"Asymmetry in bad local regressor cases\"},\"id\":\"6c4558b2-f0bd-4979-bf1c-6e9f60683fa7\",\"type\":\"Title\"},{\"attributes\":{},\"id\":\"f7fdce88-4d60-4131-b2a9-78f7b31aaa18\",\"type\":\"BasicTicker\"},{\"attributes\":{},\"id\":\"ad127998-7f27-4ee9-aa26-a87a64e84cf5\",\"type\":\"BasicTickFormatter\"},{\"attributes\":{\"callback\":null,\"column_names\":[\"left\",\"right\",\"top\"],\"data\":{\"left\":{\"__ndarray__\":\"zvILZDT7Vj8LkjU5+7O8PyZ6bdAEhsw/oxUgAgZZ1T8zbgmcCW/cP2Fj+ZqGwuE/qQ/uZ4hN5T/xu+I0itjoPzlo1wGMY+w/gRTMzo3u7z9lYODNx7zxP4m2WrRIgvM/rQzVmslH9T/RYk+BSg33P/W4yWfL0vg/GQ9ETkyY+j89Zb40zV38P2G7OBtOI/4/hRGzAc/o/z/Usxb0J9cAQObeU2fouQFA+AmR2qicAkAKNc5NaX8DQBxgC8EpYgRALotINOpEBUBAtoWnqicGQFLhwhprCgdAZAwAjivtB0B2Nz0B7M8IQIhienSssglAmo2352yVCkCsuPRaLXgLQL7jMc7tWgxA0A5vQa49DUDiOay0biAOQPRk6ScvAw9ABpAmm+/lD0CM3TEHWGQQQBVz0EC41RBAnghvehhHEUAnng20eLgRQLAzrO3YKRJAOclKJzmbEkDCXulgmQwTQEv0h5r5fRNA1Ikm1FnvE0BdH8UNumAUQOa0Y0ca0hRAb0oCgXpDFUD436C62rQVQA==\",\"dtype\":\"float64\",\"shape\":[50]},\"right\":{\"__ndarray__\":\"C5I1OfuzvD8mem3QBIbMP6MVIAIGWdU/M24JnAlv3D9hY/mahsLhP6kP7meITeU/8bviNIrY6D85aNcBjGPsP4EUzM6N7u8/ZWDgzce88T+Jtlq0SILzP60M1ZrJR/U/0WJPgUoN9z/1uMlny9L4PxkPRE5MmPo/PWW+NM1d/D9huzgbTiP+P4URswHP6P8/1LMW9CfXAEDm3lNn6LkBQPgJkdqonAJACjXOTWl/A0AcYAvBKWIEQC6LSDTqRAVAQLaFp6onBkBS4cIaawoHQGQMAI4r7QdAdjc9AezPCECIYnp0rLIJQJqNt+dslQpArLj0Wi14C0C+4zHO7VoMQNAOb0GuPQ1A4jmstG4gDkD0ZOknLwMPQAaQJpvv5Q9AjN0xB1hkEEAVc9BAuNUQQJ4Ib3oYRxFAJ54NtHi4EUCwM6zt2CkSQDnJSic5mxJAwl7pYJkME0BL9Iea+X0TQNSJJtRZ7xNAXR/FDbpgFEDmtGNHGtIUQG9KAoF6QxVA+N+gutq0FUCBdT/0OiYWQA==\",\"dtype\":\"float64\",\"shape\":[50]},\"top\":{\"__ndarray__\":\"NCSIetLRvT9kGUJ1K7vPP5qsQnot09o/8dw3Vr/I4z9457efCG/TPzKnn/fZx8s/Y5xZ8jKx/T+VkRPti5rPP7HrQjPluNg/yGfZgsRx7z8L6EMXxE/AP0Ty/aSvhdE/9ahDXgxq4j9SeIjGHATLP4FzcbuE2dg/C+hDF8RPwD+GjqBIJhLUP/MrW9sTYNA/HtzlIqZ3yD8ts/3r95/DPzzd/REdOcI/NaFw/crbvz9zxlkYWEq8P3PGWRhYSrw/a9jmBoUOsD/OP0N/L+u1P1T1cEkVDq0/a9jmBoUOsD/Nwlr8NuGjP09+t8Ar8KY/kJ1x4alylz+UFCtqk5CdPw9f/Z+tbZY/lBQrapOQnT+MJrhYwFSRPxJZzqWegYo/ENzlIqZ3eD8Q3OUipneIPw7iFB21Y3Q/ENzlIqZ3aD8L6EMXxE+APw7iFB21Y3Q/C+hDF8RPUD8L6EMXxE9QPwvoQxfET2A/C+hDF8RPYD8L6EMXxE9QPwvoQxfET2A/AAAAAAAAAAAL6EMXxE9QPw==\",\"dtype\":\"float64\",\"shape\":[50]}}},\"id\":\"df5afb6d-6a0f-4a88-92b5-3d4565d83e58\",\"type\":\"ColumnDataSource\"},{\"attributes\":{},\"id\":\"5532692d-7e55-4cd9-b87a-283c1a07f01b\",\"type\":\"LinearScale\"},{\"attributes\":{\"axis_label\":\"Distribution\",\"formatter\":{\"id\":\"55ca8e19-7170-4964-84a8-794fb472abdf\",\"type\":\"BasicTickFormatter\"},\"plot\":{\"id\":\"3cb5bb75-5225-4bad-b24a-7102ae12d705\",\"subtype\":\"Figure\",\"type\":\"Plot\"},\"ticker\":{\"id\":\"ce2e8db8-db4e-4489-a1ee-df392f5e35d7\",\"type\":\"BasicTicker\"}},\"id\":\"4c07fd9a-f0f0-4fcb-b705-f68179cbf683\",\"type\":\"LinearAxis\"},{\"attributes\":{\"data_source\":{\"id\":\"df5afb6d-6a0f-4a88-92b5-3d4565d83e58\",\"type\":\"ColumnDataSource\"},\"glyph\":{\"id\":\"44ee58ab-c4e6-4931-b82e-2bd633072ef7\",\"type\":\"Quad\"},\"hover_glyph\":null,\"muted_glyph\":null,\"nonselection_glyph\":{\"id\":\"b6b392d2-927c-4d47-aaca-90bb8435ef8f\",\"type\":\"Quad\"},\"selection_glyph\":null,\"view\":{\"id\":\"d0e39a74-11c1-464c-8bfc-5f5ee23950fd\",\"type\":\"CDSView\"}},\"id\":\"785800f1-af84-430d-8ab6-4e51238c4098\",\"type\":\"GlyphRenderer\"},{\"attributes\":{\"bottom\":{\"value\":0},\"fill_alpha\":{\"value\":0.1},\"fill_color\":{\"value\":\"#1f77b4\"},\"left\":{\"field\":\"left\"},\"line_alpha\":{\"value\":0.1},\"line_color\":{\"value\":\"#1f77b4\"},\"right\":{\"field\":\"right\"},\"top\":{\"field\":\"top\"}},\"id\":\"b6b392d2-927c-4d47-aaca-90bb8435ef8f\",\"type\":\"Quad\"},{\"attributes\":{},\"id\":\"ce2e8db8-db4e-4489-a1ee-df392f5e35d7\",\"type\":\"BasicTicker\"},{\"attributes\":{\"bottom\":{\"value\":0},\"fill_color\":{\"value\":\"#036564\"},\"left\":{\"field\":\"left\"},\"line_color\":{\"value\":\"#033649\"},\"right\":{\"field\":\"right\"},\"top\":{\"field\":\"top\"}},\"id\":\"44ee58ab-c4e6-4931-b82e-2bd633072ef7\",\"type\":\"Quad\"},{\"attributes\":{\"dimension\":1,\"plot\":{\"id\":\"3cb5bb75-5225-4bad-b24a-7102ae12d705\",\"subtype\":\"Figure\",\"type\":\"Plot\"},\"ticker\":{\"id\":\"ce2e8db8-db4e-4489-a1ee-df392f5e35d7\",\"type\":\"BasicTicker\"}},\"id\":\"6019cdd8-46c8-4eee-aec4-bd8f30587a7d\",\"type\":\"Grid\"},{\"attributes\":{\"axis_label\":\"Difference in connection strength between directions (abs)\",\"formatter\":{\"id\":\"ad127998-7f27-4ee9-aa26-a87a64e84cf5\",\"type\":\"BasicTickFormatter\"},\"plot\":{\"id\":\"3cb5bb75-5225-4bad-b24a-7102ae12d705\",\"subtype\":\"Figure\",\"type\":\"Plot\"},\"ticker\":{\"id\":\"f7fdce88-4d60-4131-b2a9-78f7b31aaa18\",\"type\":\"BasicTicker\"}},\"id\":\"ee42a070-d0ef-4658-9273-63541567c8c2\",\"type\":\"LinearAxis\"},{\"attributes\":{\"below\":[{\"id\":\"ee42a070-d0ef-4658-9273-63541567c8c2\",\"type\":\"LinearAxis\"}],\"left\":[{\"id\":\"4c07fd9a-f0f0-4fcb-b705-f68179cbf683\",\"type\":\"LinearAxis\"}],\"plot_height\":400,\"plot_width\":400,\"renderers\":[{\"id\":\"ee42a070-d0ef-4658-9273-63541567c8c2\",\"type\":\"LinearAxis\"},{\"id\":\"8de20dfa-661a-434c-afef-6b71253757ce\",\"type\":\"Grid\"},{\"id\":\"4c07fd9a-f0f0-4fcb-b705-f68179cbf683\",\"type\":\"LinearAxis\"},{\"id\":\"6019cdd8-46c8-4eee-aec4-bd8f30587a7d\",\"type\":\"Grid\"},{\"id\":\"cbd0c742-0bae-4a72-92d0-9cff11b358c1\",\"type\":\"BoxAnnotation\"},{\"id\":\"785800f1-af84-430d-8ab6-4e51238c4098\",\"type\":\"GlyphRenderer\"}],\"title\":{\"id\":\"6c4558b2-f0bd-4979-bf1c-6e9f60683fa7\",\"type\":\"Title\"},\"toolbar\":{\"id\":\"3893f337-10b4-48b3-9307-e272d33e8caa\",\"type\":\"Toolbar\"},\"x_range\":{\"id\":\"f9d11844-a730-4b41-add3-2296e218a970\",\"type\":\"DataRange1d\"},\"x_scale\":{\"id\":\"d9c5ffb8-e2c5-44bf-8c39-ec59c27baa6e\",\"type\":\"LinearScale\"},\"y_range\":{\"id\":\"ce674009-ca26-482c-bb91-8867c8097ee8\",\"type\":\"DataRange1d\"},\"y_scale\":{\"id\":\"5532692d-7e55-4cd9-b87a-283c1a07f01b\",\"type\":\"LinearScale\"}},\"id\":\"3cb5bb75-5225-4bad-b24a-7102ae12d705\",\"subtype\":\"Figure\",\"type\":\"Plot\"},{\"attributes\":{\"callback\":null},\"id\":\"ce674009-ca26-482c-bb91-8867c8097ee8\",\"type\":\"DataRange1d\"},{\"attributes\":{\"bottom_units\":\"screen\",\"fill_alpha\":{\"value\":0.5},\"fill_color\":{\"value\":\"lightgrey\"},\"left_units\":\"screen\",\"level\":\"overlay\",\"line_alpha\":{\"value\":1.0},\"line_color\":{\"value\":\"black\"},\"line_dash\":[4,4],\"line_width\":{\"value\":2},\"plot\":null,\"render_mode\":\"css\",\"right_units\":\"screen\",\"top_units\":\"screen\"},\"id\":\"cbd0c742-0bae-4a72-92d0-9cff11b358c1\",\"type\":\"BoxAnnotation\"},{\"attributes\":{},\"id\":\"25f4e052-5399-4c2f-b41b-a7fa711e66e4\",\"type\":\"PanTool\"},{\"attributes\":{\"source\":{\"id\":\"df5afb6d-6a0f-4a88-92b5-3d4565d83e58\",\"type\":\"ColumnDataSource\"}},\"id\":\"d0e39a74-11c1-464c-8bfc-5f5ee23950fd\",\"type\":\"CDSView\"},{\"attributes\":{},\"id\":\"55ca8e19-7170-4964-84a8-794fb472abdf\",\"type\":\"BasicTickFormatter\"},{\"attributes\":{},\"id\":\"268f5be8-c34f-4784-90bb-6326050a3925\",\"type\":\"WheelZoomTool\"},{\"attributes\":{\"overlay\":{\"id\":\"cbd0c742-0bae-4a72-92d0-9cff11b358c1\",\"type\":\"BoxAnnotation\"}},\"id\":\"aaedaf23-6b77-4331-86c5-df116aa5f115\",\"type\":\"BoxZoomTool\"},{\"attributes\":{},\"id\":\"d440ac28-e086-4680-9d62-481e4825b3ad\",\"type\":\"SaveTool\"},{\"attributes\":{},\"id\":\"6e2e5782-5621-45ff-ac40-28f7619d5355\",\"type\":\"ResetTool\"},{\"attributes\":{\"active_drag\":\"auto\",\"active_inspect\":\"auto\",\"active_scroll\":\"auto\",\"active_tap\":\"auto\",\"tools\":[{\"id\":\"25f4e052-5399-4c2f-b41b-a7fa711e66e4\",\"type\":\"PanTool\"},{\"id\":\"268f5be8-c34f-4784-90bb-6326050a3925\",\"type\":\"WheelZoomTool\"},{\"id\":\"aaedaf23-6b77-4331-86c5-df116aa5f115\",\"type\":\"BoxZoomTool\"},{\"id\":\"d440ac28-e086-4680-9d62-481e4825b3ad\",\"type\":\"SaveTool\"},{\"id\":\"6e2e5782-5621-45ff-ac40-28f7619d5355\",\"type\":\"ResetTool\"},{\"id\":\"f1605566-72b6-426c-b899-10b745d4161a\",\"type\":\"HelpTool\"}]},\"id\":\"3893f337-10b4-48b3-9307-e272d33e8caa\",\"type\":\"Toolbar\"}],\"root_ids\":[\"3cb5bb75-5225-4bad-b24a-7102ae12d705\"]},\"title\":\"Bokeh Application\",\"version\":\"0.12.13\"}};\n",
       "  var render_items = [{\"docid\":\"4c3c6230-71c4-48f5-b35c-d60e51032d58\",\"elementid\":\"60de0ece-30af-41c5-b5e0-2b00160a1067\",\"modelid\":\"3cb5bb75-5225-4bad-b24a-7102ae12d705\"}];\n",
       "  root.Bokeh.embed.embed_items_notebook(docs_json, render_items);\n",
       "\n",
       "  }\n",
       "  if (root.Bokeh !== undefined) {\n",
       "    embed_document(root);\n",
       "  } else {\n",
       "    var attempts = 0;\n",
       "    var timer = setInterval(function(root) {\n",
       "      if (root.Bokeh !== undefined) {\n",
       "        embed_document(root);\n",
       "        clearInterval(timer);\n",
       "      }\n",
       "      attempts++;\n",
       "      if (attempts > 100) {\n",
       "        console.log(\"Bokeh: ERROR: Unable to run BokehJS code because BokehJS library is missing\")\n",
       "        clearInterval(timer);\n",
       "      }\n",
       "    }, 10, root)\n",
       "  }\n",
       "})(window);"
      ],
      "application/vnd.bokehjs_exec.v0+json": ""
     },
     "metadata": {
      "application/vnd.bokehjs_exec.v0+json": {
       "id": "3cb5bb75-5225-4bad-b24a-7102ae12d705"
      }
     },
     "output_type": "display_data"
    }
   ],
   "source": [
    "mp = list(map(lambda x:abs(x[1]-x[0]),raw))\n",
    "p1 = figure(plot_width=400, plot_height=400,title = 'Asymmetry in bad local regressor cases',y_axis_label = \"Distribution\",x_axis_label = \"Difference in connection strength between directions (abs)\")\n",
    "q1,q2 = np.percentile(mp,[0,100])\n",
    "\n",
    "measured = [xx for xx in mp if (xx>q1 and xx<q2)]\n",
    "hist, edges = np.histogram(measured, density=True, bins=50)\n",
    "\n",
    "p1.quad(top=hist, bottom=0, left=edges[:-1], right=edges[1:],fill_color=\"#036564\", line_color=\"#033649\")\n",
    "show(p1)"
   ]
  },
  {
   "cell_type": "code",
   "execution_count": null,
   "metadata": {},
   "outputs": [],
   "source": []
  }
 ],
 "metadata": {
  "kernelspec": {
   "display_name": "Python 3",
   "language": "python",
   "name": "python3"
  },
  "language_info": {
   "codemirror_mode": {
    "name": "ipython",
    "version": 3
   },
   "file_extension": ".py",
   "mimetype": "text/x-python",
   "name": "python",
   "nbconvert_exporter": "python",
   "pygments_lexer": "ipython3",
   "version": "3.6.4"
  }
 },
 "nbformat": 4,
 "nbformat_minor": 2
}
