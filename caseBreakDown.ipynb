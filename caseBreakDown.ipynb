{
 "cells": [
  {
   "cell_type": "markdown",
   "metadata": {},
   "source": [
    "# Asymmetry Case Break Downs"
   ]
  },
  {
   "cell_type": "code",
   "execution_count": 1,
   "metadata": {},
   "outputs": [
    {
     "data": {
      "text/html": [
       "\n",
       "    <div class=\"bk-root\">\n",
       "        <a href=\"https://bokeh.pydata.org\" target=\"_blank\" class=\"bk-logo bk-logo-small bk-logo-notebook\"></a>\n",
       "        <span id=\"a0239060-20da-4a9b-bd59-3692945c196b\">Loading BokehJS ...</span>\n",
       "    </div>"
      ]
     },
     "metadata": {},
     "output_type": "display_data"
    },
    {
     "data": {
      "application/javascript": [
       "\n",
       "(function(root) {\n",
       "  function now() {\n",
       "    return new Date();\n",
       "  }\n",
       "\n",
       "  var force = true;\n",
       "\n",
       "  if (typeof (root._bokeh_onload_callbacks) === \"undefined\" || force === true) {\n",
       "    root._bokeh_onload_callbacks = [];\n",
       "    root._bokeh_is_loading = undefined;\n",
       "  }\n",
       "\n",
       "  var JS_MIME_TYPE = 'application/javascript';\n",
       "  var HTML_MIME_TYPE = 'text/html';\n",
       "  var EXEC_MIME_TYPE = 'application/vnd.bokehjs_exec.v0+json';\n",
       "  var CLASS_NAME = 'output_bokeh rendered_html';\n",
       "\n",
       "  /**\n",
       "   * Render data to the DOM node\n",
       "   */\n",
       "  function render(props, node) {\n",
       "    var script = document.createElement(\"script\");\n",
       "    node.appendChild(script);\n",
       "  }\n",
       "\n",
       "  /**\n",
       "   * Handle when an output is cleared or removed\n",
       "   */\n",
       "  function handleClearOutput(event, handle) {\n",
       "    var cell = handle.cell;\n",
       "\n",
       "    var id = cell.output_area._bokeh_element_id;\n",
       "    var server_id = cell.output_area._bokeh_server_id;\n",
       "    // Clean up Bokeh references\n",
       "    if (id !== undefined) {\n",
       "      Bokeh.index[id].model.document.clear();\n",
       "      delete Bokeh.index[id];\n",
       "    }\n",
       "\n",
       "    if (server_id !== undefined) {\n",
       "      // Clean up Bokeh references\n",
       "      var cmd = \"from bokeh.io.state import curstate; print(curstate().uuid_to_server['\" + server_id + \"'].get_sessions()[0].document.roots[0]._id)\";\n",
       "      cell.notebook.kernel.execute(cmd, {\n",
       "        iopub: {\n",
       "          output: function(msg) {\n",
       "            var element_id = msg.content.text.trim();\n",
       "            Bokeh.index[element_id].model.document.clear();\n",
       "            delete Bokeh.index[element_id];\n",
       "          }\n",
       "        }\n",
       "      });\n",
       "      // Destroy server and session\n",
       "      var cmd = \"import bokeh.io.notebook as ion; ion.destroy_server('\" + server_id + \"')\";\n",
       "      cell.notebook.kernel.execute(cmd);\n",
       "    }\n",
       "  }\n",
       "\n",
       "  /**\n",
       "   * Handle when a new output is added\n",
       "   */\n",
       "  function handleAddOutput(event, handle) {\n",
       "    var output_area = handle.output_area;\n",
       "    var output = handle.output;\n",
       "\n",
       "    // limit handleAddOutput to display_data with EXEC_MIME_TYPE content only\n",
       "    if ((output.output_type != \"display_data\") || (!output.data.hasOwnProperty(EXEC_MIME_TYPE))) {\n",
       "      return\n",
       "    }\n",
       "\n",
       "    var toinsert = output_area.element.find(\".\" + CLASS_NAME.split(' ')[0]);\n",
       "\n",
       "    if (output.metadata[EXEC_MIME_TYPE][\"id\"] !== undefined) {\n",
       "      toinsert[0].firstChild.textContent = output.data[JS_MIME_TYPE];\n",
       "      // store reference to embed id on output_area\n",
       "      output_area._bokeh_element_id = output.metadata[EXEC_MIME_TYPE][\"id\"];\n",
       "    }\n",
       "    if (output.metadata[EXEC_MIME_TYPE][\"server_id\"] !== undefined) {\n",
       "      var bk_div = document.createElement(\"div\");\n",
       "      bk_div.innerHTML = output.data[HTML_MIME_TYPE];\n",
       "      var script_attrs = bk_div.children[0].attributes;\n",
       "      for (var i = 0; i < script_attrs.length; i++) {\n",
       "        toinsert[0].firstChild.setAttribute(script_attrs[i].name, script_attrs[i].value);\n",
       "      }\n",
       "      // store reference to server id on output_area\n",
       "      output_area._bokeh_server_id = output.metadata[EXEC_MIME_TYPE][\"server_id\"];\n",
       "    }\n",
       "  }\n",
       "\n",
       "  function register_renderer(events, OutputArea) {\n",
       "\n",
       "    function append_mime(data, metadata, element) {\n",
       "      // create a DOM node to render to\n",
       "      var toinsert = this.create_output_subarea(\n",
       "        metadata,\n",
       "        CLASS_NAME,\n",
       "        EXEC_MIME_TYPE\n",
       "      );\n",
       "      this.keyboard_manager.register_events(toinsert);\n",
       "      // Render to node\n",
       "      var props = {data: data, metadata: metadata[EXEC_MIME_TYPE]};\n",
       "      render(props, toinsert[0]);\n",
       "      element.append(toinsert);\n",
       "      return toinsert\n",
       "    }\n",
       "\n",
       "    /* Handle when an output is cleared or removed */\n",
       "    events.on('clear_output.CodeCell', handleClearOutput);\n",
       "    events.on('delete.Cell', handleClearOutput);\n",
       "\n",
       "    /* Handle when a new output is added */\n",
       "    events.on('output_added.OutputArea', handleAddOutput);\n",
       "\n",
       "    /**\n",
       "     * Register the mime type and append_mime function with output_area\n",
       "     */\n",
       "    OutputArea.prototype.register_mime_type(EXEC_MIME_TYPE, append_mime, {\n",
       "      /* Is output safe? */\n",
       "      safe: true,\n",
       "      /* Index of renderer in `output_area.display_order` */\n",
       "      index: 0\n",
       "    });\n",
       "  }\n",
       "\n",
       "  // register the mime type if in Jupyter Notebook environment and previously unregistered\n",
       "  if (root.Jupyter !== undefined) {\n",
       "    var events = require('base/js/events');\n",
       "    var OutputArea = require('notebook/js/outputarea').OutputArea;\n",
       "\n",
       "    if (OutputArea.prototype.mime_types().indexOf(EXEC_MIME_TYPE) == -1) {\n",
       "      register_renderer(events, OutputArea);\n",
       "    }\n",
       "  }\n",
       "\n",
       "  \n",
       "  if (typeof (root._bokeh_timeout) === \"undefined\" || force === true) {\n",
       "    root._bokeh_timeout = Date.now() + 5000;\n",
       "    root._bokeh_failed_load = false;\n",
       "  }\n",
       "\n",
       "  var NB_LOAD_WARNING = {'data': {'text/html':\n",
       "     \"<div style='background-color: #fdd'>\\n\"+\n",
       "     \"<p>\\n\"+\n",
       "     \"BokehJS does not appear to have successfully loaded. If loading BokehJS from CDN, this \\n\"+\n",
       "     \"may be due to a slow or bad network connection. Possible fixes:\\n\"+\n",
       "     \"</p>\\n\"+\n",
       "     \"<ul>\\n\"+\n",
       "     \"<li>re-rerun `output_notebook()` to attempt to load from CDN again, or</li>\\n\"+\n",
       "     \"<li>use INLINE resources instead, as so:</li>\\n\"+\n",
       "     \"</ul>\\n\"+\n",
       "     \"<code>\\n\"+\n",
       "     \"from bokeh.resources import INLINE\\n\"+\n",
       "     \"output_notebook(resources=INLINE)\\n\"+\n",
       "     \"</code>\\n\"+\n",
       "     \"</div>\"}};\n",
       "\n",
       "  function display_loaded() {\n",
       "    var el = document.getElementById(\"a0239060-20da-4a9b-bd59-3692945c196b\");\n",
       "    if (el != null) {\n",
       "      el.textContent = \"BokehJS is loading...\";\n",
       "    }\n",
       "    if (root.Bokeh !== undefined) {\n",
       "      if (el != null) {\n",
       "        el.textContent = \"BokehJS \" + root.Bokeh.version + \" successfully loaded.\";\n",
       "      }\n",
       "    } else if (Date.now() < root._bokeh_timeout) {\n",
       "      setTimeout(display_loaded, 100)\n",
       "    }\n",
       "  }\n",
       "\n",
       "\n",
       "  function run_callbacks() {\n",
       "    try {\n",
       "      root._bokeh_onload_callbacks.forEach(function(callback) { callback() });\n",
       "    }\n",
       "    finally {\n",
       "      delete root._bokeh_onload_callbacks\n",
       "    }\n",
       "    console.info(\"Bokeh: all callbacks have finished\");\n",
       "  }\n",
       "\n",
       "  function load_libs(js_urls, callback) {\n",
       "    root._bokeh_onload_callbacks.push(callback);\n",
       "    if (root._bokeh_is_loading > 0) {\n",
       "      console.log(\"Bokeh: BokehJS is being loaded, scheduling callback at\", now());\n",
       "      return null;\n",
       "    }\n",
       "    if (js_urls == null || js_urls.length === 0) {\n",
       "      run_callbacks();\n",
       "      return null;\n",
       "    }\n",
       "    console.log(\"Bokeh: BokehJS not loaded, scheduling load and callback at\", now());\n",
       "    root._bokeh_is_loading = js_urls.length;\n",
       "    for (var i = 0; i < js_urls.length; i++) {\n",
       "      var url = js_urls[i];\n",
       "      var s = document.createElement('script');\n",
       "      s.src = url;\n",
       "      s.async = false;\n",
       "      s.onreadystatechange = s.onload = function() {\n",
       "        root._bokeh_is_loading--;\n",
       "        if (root._bokeh_is_loading === 0) {\n",
       "          console.log(\"Bokeh: all BokehJS libraries loaded\");\n",
       "          run_callbacks()\n",
       "        }\n",
       "      };\n",
       "      s.onerror = function() {\n",
       "        console.warn(\"failed to load library \" + url);\n",
       "      };\n",
       "      console.log(\"Bokeh: injecting script tag for BokehJS library: \", url);\n",
       "      document.getElementsByTagName(\"head\")[0].appendChild(s);\n",
       "    }\n",
       "  };var element = document.getElementById(\"a0239060-20da-4a9b-bd59-3692945c196b\");\n",
       "  if (element == null) {\n",
       "    console.log(\"Bokeh: ERROR: autoload.js configured with elementid 'a0239060-20da-4a9b-bd59-3692945c196b' but no matching script tag was found. \")\n",
       "    return false;\n",
       "  }\n",
       "\n",
       "  var js_urls = [\"https://cdn.pydata.org/bokeh/release/bokeh-0.12.13.min.js\", \"https://cdn.pydata.org/bokeh/release/bokeh-widgets-0.12.13.min.js\", \"https://cdn.pydata.org/bokeh/release/bokeh-tables-0.12.13.min.js\", \"https://cdn.pydata.org/bokeh/release/bokeh-gl-0.12.13.min.js\"];\n",
       "\n",
       "  var inline_js = [\n",
       "    function(Bokeh) {\n",
       "      Bokeh.set_log_level(\"info\");\n",
       "    },\n",
       "    \n",
       "    function(Bokeh) {\n",
       "      \n",
       "    },\n",
       "    function(Bokeh) {\n",
       "      console.log(\"Bokeh: injecting CSS: https://cdn.pydata.org/bokeh/release/bokeh-0.12.13.min.css\");\n",
       "      Bokeh.embed.inject_css(\"https://cdn.pydata.org/bokeh/release/bokeh-0.12.13.min.css\");\n",
       "      console.log(\"Bokeh: injecting CSS: https://cdn.pydata.org/bokeh/release/bokeh-widgets-0.12.13.min.css\");\n",
       "      Bokeh.embed.inject_css(\"https://cdn.pydata.org/bokeh/release/bokeh-widgets-0.12.13.min.css\");\n",
       "      console.log(\"Bokeh: injecting CSS: https://cdn.pydata.org/bokeh/release/bokeh-tables-0.12.13.min.css\");\n",
       "      Bokeh.embed.inject_css(\"https://cdn.pydata.org/bokeh/release/bokeh-tables-0.12.13.min.css\");\n",
       "    }\n",
       "  ];\n",
       "\n",
       "  function run_inline_js() {\n",
       "    \n",
       "    if ((root.Bokeh !== undefined) || (force === true)) {\n",
       "      for (var i = 0; i < inline_js.length; i++) {\n",
       "        inline_js[i].call(root, root.Bokeh);\n",
       "      }if (force === true) {\n",
       "        display_loaded();\n",
       "      }} else if (Date.now() < root._bokeh_timeout) {\n",
       "      setTimeout(run_inline_js, 100);\n",
       "    } else if (!root._bokeh_failed_load) {\n",
       "      console.log(\"Bokeh: BokehJS failed to load within specified timeout.\");\n",
       "      root._bokeh_failed_load = true;\n",
       "    } else if (force !== true) {\n",
       "      var cell = $(document.getElementById(\"a0239060-20da-4a9b-bd59-3692945c196b\")).parents('.cell').data().cell;\n",
       "      cell.output_area.append_execute_result(NB_LOAD_WARNING)\n",
       "    }\n",
       "\n",
       "  }\n",
       "\n",
       "  if (root._bokeh_is_loading === 0) {\n",
       "    console.log(\"Bokeh: BokehJS loaded, going straight to plotting\");\n",
       "    run_inline_js();\n",
       "  } else {\n",
       "    load_libs(js_urls, function() {\n",
       "      console.log(\"Bokeh: BokehJS plotting callback run at\", now());\n",
       "      run_inline_js();\n",
       "    });\n",
       "  }\n",
       "}(window));"
      ],
      "application/vnd.bokehjs_load.v0+json": "\n(function(root) {\n  function now() {\n    return new Date();\n  }\n\n  var force = true;\n\n  if (typeof (root._bokeh_onload_callbacks) === \"undefined\" || force === true) {\n    root._bokeh_onload_callbacks = [];\n    root._bokeh_is_loading = undefined;\n  }\n\n  \n\n  \n  if (typeof (root._bokeh_timeout) === \"undefined\" || force === true) {\n    root._bokeh_timeout = Date.now() + 5000;\n    root._bokeh_failed_load = false;\n  }\n\n  var NB_LOAD_WARNING = {'data': {'text/html':\n     \"<div style='background-color: #fdd'>\\n\"+\n     \"<p>\\n\"+\n     \"BokehJS does not appear to have successfully loaded. If loading BokehJS from CDN, this \\n\"+\n     \"may be due to a slow or bad network connection. Possible fixes:\\n\"+\n     \"</p>\\n\"+\n     \"<ul>\\n\"+\n     \"<li>re-rerun `output_notebook()` to attempt to load from CDN again, or</li>\\n\"+\n     \"<li>use INLINE resources instead, as so:</li>\\n\"+\n     \"</ul>\\n\"+\n     \"<code>\\n\"+\n     \"from bokeh.resources import INLINE\\n\"+\n     \"output_notebook(resources=INLINE)\\n\"+\n     \"</code>\\n\"+\n     \"</div>\"}};\n\n  function display_loaded() {\n    var el = document.getElementById(\"a0239060-20da-4a9b-bd59-3692945c196b\");\n    if (el != null) {\n      el.textContent = \"BokehJS is loading...\";\n    }\n    if (root.Bokeh !== undefined) {\n      if (el != null) {\n        el.textContent = \"BokehJS \" + root.Bokeh.version + \" successfully loaded.\";\n      }\n    } else if (Date.now() < root._bokeh_timeout) {\n      setTimeout(display_loaded, 100)\n    }\n  }\n\n\n  function run_callbacks() {\n    try {\n      root._bokeh_onload_callbacks.forEach(function(callback) { callback() });\n    }\n    finally {\n      delete root._bokeh_onload_callbacks\n    }\n    console.info(\"Bokeh: all callbacks have finished\");\n  }\n\n  function load_libs(js_urls, callback) {\n    root._bokeh_onload_callbacks.push(callback);\n    if (root._bokeh_is_loading > 0) {\n      console.log(\"Bokeh: BokehJS is being loaded, scheduling callback at\", now());\n      return null;\n    }\n    if (js_urls == null || js_urls.length === 0) {\n      run_callbacks();\n      return null;\n    }\n    console.log(\"Bokeh: BokehJS not loaded, scheduling load and callback at\", now());\n    root._bokeh_is_loading = js_urls.length;\n    for (var i = 0; i < js_urls.length; i++) {\n      var url = js_urls[i];\n      var s = document.createElement('script');\n      s.src = url;\n      s.async = false;\n      s.onreadystatechange = s.onload = function() {\n        root._bokeh_is_loading--;\n        if (root._bokeh_is_loading === 0) {\n          console.log(\"Bokeh: all BokehJS libraries loaded\");\n          run_callbacks()\n        }\n      };\n      s.onerror = function() {\n        console.warn(\"failed to load library \" + url);\n      };\n      console.log(\"Bokeh: injecting script tag for BokehJS library: \", url);\n      document.getElementsByTagName(\"head\")[0].appendChild(s);\n    }\n  };var element = document.getElementById(\"a0239060-20da-4a9b-bd59-3692945c196b\");\n  if (element == null) {\n    console.log(\"Bokeh: ERROR: autoload.js configured with elementid 'a0239060-20da-4a9b-bd59-3692945c196b' but no matching script tag was found. \")\n    return false;\n  }\n\n  var js_urls = [\"https://cdn.pydata.org/bokeh/release/bokeh-0.12.13.min.js\", \"https://cdn.pydata.org/bokeh/release/bokeh-widgets-0.12.13.min.js\", \"https://cdn.pydata.org/bokeh/release/bokeh-tables-0.12.13.min.js\", \"https://cdn.pydata.org/bokeh/release/bokeh-gl-0.12.13.min.js\"];\n\n  var inline_js = [\n    function(Bokeh) {\n      Bokeh.set_log_level(\"info\");\n    },\n    \n    function(Bokeh) {\n      \n    },\n    function(Bokeh) {\n      console.log(\"Bokeh: injecting CSS: https://cdn.pydata.org/bokeh/release/bokeh-0.12.13.min.css\");\n      Bokeh.embed.inject_css(\"https://cdn.pydata.org/bokeh/release/bokeh-0.12.13.min.css\");\n      console.log(\"Bokeh: injecting CSS: https://cdn.pydata.org/bokeh/release/bokeh-widgets-0.12.13.min.css\");\n      Bokeh.embed.inject_css(\"https://cdn.pydata.org/bokeh/release/bokeh-widgets-0.12.13.min.css\");\n      console.log(\"Bokeh: injecting CSS: https://cdn.pydata.org/bokeh/release/bokeh-tables-0.12.13.min.css\");\n      Bokeh.embed.inject_css(\"https://cdn.pydata.org/bokeh/release/bokeh-tables-0.12.13.min.css\");\n    }\n  ];\n\n  function run_inline_js() {\n    \n    if ((root.Bokeh !== undefined) || (force === true)) {\n      for (var i = 0; i < inline_js.length; i++) {\n        inline_js[i].call(root, root.Bokeh);\n      }if (force === true) {\n        display_loaded();\n      }} else if (Date.now() < root._bokeh_timeout) {\n      setTimeout(run_inline_js, 100);\n    } else if (!root._bokeh_failed_load) {\n      console.log(\"Bokeh: BokehJS failed to load within specified timeout.\");\n      root._bokeh_failed_load = true;\n    } else if (force !== true) {\n      var cell = $(document.getElementById(\"a0239060-20da-4a9b-bd59-3692945c196b\")).parents('.cell').data().cell;\n      cell.output_area.append_execute_result(NB_LOAD_WARNING)\n    }\n\n  }\n\n  if (root._bokeh_is_loading === 0) {\n    console.log(\"Bokeh: BokehJS loaded, going straight to plotting\");\n    run_inline_js();\n  } else {\n    load_libs(js_urls, function() {\n      console.log(\"Bokeh: BokehJS plotting callback run at\", now());\n      run_inline_js();\n    });\n  }\n}(window));"
     },
     "metadata": {},
     "output_type": "display_data"
    }
   ],
   "source": [
    "from py2neo import Node, Relationship, Graph\n",
    "from numpy.random import rand\n",
    "import numpy as num\n",
    "from bokeh.plotting import output_notebook,figure, show\n",
    "from bokeh.layouts import row,column,gridplot\n",
    "from bokeh.models import Label\n",
    "import numpy as np\n",
    "from curve import *\n",
    "from bokeh.models import Span,Legend\n",
    "output_notebook()"
   ]
  },
  {
   "cell_type": "code",
   "execution_count": 2,
   "metadata": {},
   "outputs": [
    {
     "data": {
      "application/javascript": [
       "IPython.OutputArea.prototype._should_scroll = function(lines) {\n",
       "    return false;\n",
       "}"
      ],
      "text/plain": [
       "<IPython.core.display.Javascript object>"
      ]
     },
     "metadata": {},
     "output_type": "display_data"
    }
   ],
   "source": [
    "%%javascript\n",
    "IPython.OutputArea.prototype._should_scroll = function(lines) {\n",
    "    return false;\n",
    "}"
   ]
  },
  {
   "cell_type": "code",
   "execution_count": 3,
   "metadata": {},
   "outputs": [],
   "source": [
    "import pickle as pk\n",
    "A = pk.load(open('local.pk','rb'))\n",
    "\n",
    "\n",
    "import random\n",
    "\n",
    "def gen_hex_colour_code():\n",
    "   return '#'+''.join([random.choice('0123456789ABCDEF') for x in range(6)])\n",
    "\n",
    "C = {}"
   ]
  },
  {
   "cell_type": "code",
   "execution_count": 4,
   "metadata": {},
   "outputs": [],
   "source": [
    "l = len(A)\n",
    "A_dic = {}\n",
    "for i in range(l):\n",
    "    tmp = A[i]\n",
    "    n1 = tmp['n1']\n",
    "    n2 = tmp['n2']\n",
    "    A_dic[n1+n2] = i"
   ]
  },
  {
   "cell_type": "code",
   "execution_count": 5,
   "metadata": {},
   "outputs": [],
   "source": [
    "def roi_rot(w):\n",
    "    p = w.split('L')\n",
    "    return 'L'+p[-1]+'L'+p[1]\n",
    "def logit(t):\n",
    "    tmp = max(1,t)\n",
    "    return num.log(tmp/5000.0)"
   ]
  },
  {
   "cell_type": "code",
   "execution_count": 6,
   "metadata": {},
   "outputs": [],
   "source": [
    "null = {}\n",
    "for i in range(1,181):\n",
    "    for j in range(1,181):\n",
    "        if (i==j):continue\n",
    "        ind = A_dic['L'+str(i)+'L'+str(j)]\n",
    "        tmp = A[ind]['weight']\n",
    "        tmp = logit(tmp)\n",
    "        if (tmp < -4.605170185988091):\n",
    "            null['L'+str(i)+'L'+str(j)] = 1\n",
    "        else:\n",
    "            null['L'+str(i)+'L'+str(j)] = 0"
   ]
  },
  {
   "cell_type": "code",
   "execution_count": 30,
   "metadata": {},
   "outputs": [],
   "source": [
    "total = sum(null.values()) # total null connections\n",
    "asym = 0 # total asymmetric null connections\n",
    "raw = [] #asymmtric case max weights in both directions\n",
    "for w in null.keys():\n",
    "    if null[w] == 1 and null[roi_rot(w)] == 0:\n",
    "        asym = asym+1\n",
    "        ind1 = A_dic[w]\n",
    "        t1 = A[ind1]['weight']\n",
    "        s1 = logit(t1)\n",
    "        ind2 = A_dic[roi_rot(w)]\n",
    "        t2 = A[ind2]['weight']\n",
    "        s2 = logit(t2)\n",
    "        raw.append((s1,s2))"
   ]
  },
  {
   "cell_type": "markdown",
   "metadata": {},
   "source": [
    "# Case 1: Below the Noise floor in at least one direction\n",
    "We call a connection below the noise floor a `null` connection. If a null conncetion A->B is not null on opposit direction B->A, it's `asymmetric null` connection. For 180 ROIs there are a total of __32220__ possible connections. Below we look at what percentage of these connections are `null` and `asymmetric null`. (NULL Threshold at __-4.6__)"
   ]
  },
  {
   "cell_type": "code",
   "execution_count": 31,
   "metadata": {},
   "outputs": [
    {
     "name": "stdout",
     "output_type": "stream",
     "text": [
      "Total null connections:26405\n",
      "Total null connections (percentage of all connections):81.9522036002483\n",
      "Total asymmetric null connections:1745\n",
      "Total asymmetric null connections (percentage of all null connections):6.608596856655937\n"
     ]
    }
   ],
   "source": [
    "print('Total null connections:'+str(total))\n",
    "print('Total null connections (percentage of all connections):'+str(total*100/32220))\n",
    "print('Total asymmetric null connections:'+str(asym))\n",
    "print('Total asymmetric null connections (percentage of all null connections):'+str(asym*100/total))"
   ]
  },
  {
   "cell_type": "markdown",
   "metadata": {},
   "source": [
    "### Distribution of null connections strength asymmetry\n",
    "For the `aymmetric null` connections let's look at the distribution of strength for the __NOT__ null direction."
   ]
  },
  {
   "cell_type": "code",
   "execution_count": 10,
   "metadata": {},
   "outputs": [
    {
     "data": {
      "text/html": [
       "\n",
       "<div class=\"bk-root\">\n",
       "    <div class=\"bk-plotdiv\" id=\"4d2f4dba-9052-409d-80be-61812c0956b7\"></div>\n",
       "</div>"
      ]
     },
     "metadata": {},
     "output_type": "display_data"
    },
    {
     "data": {
      "application/javascript": [
       "(function(root) {\n",
       "  function embed_document(root) {\n",
       "    \n",
       "  var docs_json = {\"246147dc-2c63-4376-86e4-1d54bcf2f17b\":{\"roots\":{\"references\":[{\"attributes\":{\"callback\":null},\"id\":\"3356dc3d-e3aa-42d5-8c2f-25094203b50c\",\"type\":\"DataRange1d\"},{\"attributes\":{\"active_drag\":\"auto\",\"active_inspect\":\"auto\",\"active_scroll\":\"auto\",\"active_tap\":\"auto\",\"tools\":[{\"id\":\"b2b45845-8134-4291-9a76-6f8cd0e97e73\",\"type\":\"PanTool\"},{\"id\":\"42a2ae57-9346-4e0d-b87d-284169c65d21\",\"type\":\"WheelZoomTool\"},{\"id\":\"48ca90a6-8e00-4959-9818-58d12a6003fb\",\"type\":\"BoxZoomTool\"},{\"id\":\"fbbb3ba8-4056-4bfa-90cc-4f30e3e85416\",\"type\":\"SaveTool\"},{\"id\":\"c9e4058d-e586-4521-9e8f-d42018a0c20f\",\"type\":\"ResetTool\"},{\"id\":\"11645550-da3c-490e-b5cb-2127155391b5\",\"type\":\"HelpTool\"}]},\"id\":\"4834120c-7d58-4072-95d5-5f8dba601f4f\",\"type\":\"Toolbar\"},{\"attributes\":{\"plot\":null,\"text\":\"Asummetry in null cases\"},\"id\":\"2c084886-dc22-4213-beef-5c42c6482e9a\",\"type\":\"Title\"},{\"attributes\":{\"active_drag\":\"auto\",\"active_inspect\":\"auto\",\"active_scroll\":\"auto\",\"active_tap\":\"auto\",\"tools\":[{\"id\":\"7c3622a1-184e-4a73-a07f-e4ee673ddea1\",\"type\":\"PanTool\"},{\"id\":\"f40a6cd8-6af2-4ead-a92e-797db86a5961\",\"type\":\"WheelZoomTool\"},{\"id\":\"3875dbe8-f2d1-48fc-934f-807eef585acc\",\"type\":\"BoxZoomTool\"},{\"id\":\"c8153ea0-ba4d-476a-9766-fbfdd9cfb47d\",\"type\":\"SaveTool\"},{\"id\":\"219560f5-97d2-4ad2-976d-9bb08d45cecf\",\"type\":\"ResetTool\"},{\"id\":\"2e83329c-ef6b-4a91-b7ca-b5f3c7761a0c\",\"type\":\"HelpTool\"}]},\"id\":\"0d6634e4-bb2b-42f1-9d07-2da00a59c419\",\"type\":\"Toolbar\"},{\"attributes\":{},\"id\":\"80cc3370-50cb-4cb3-bbc2-0dfac7ee20bc\",\"type\":\"BasicTickFormatter\"},{\"attributes\":{\"callback\":null},\"id\":\"7addb2b2-7dca-42e3-8a7c-d634a16e1ee2\",\"type\":\"DataRange1d\"},{\"attributes\":{\"bottom\":{\"value\":0},\"fill_alpha\":{\"value\":0.1},\"fill_color\":{\"value\":\"#1f77b4\"},\"left\":{\"field\":\"left\"},\"line_alpha\":{\"value\":0.1},\"line_color\":{\"value\":\"#1f77b4\"},\"right\":{\"field\":\"right\"},\"top\":{\"field\":\"top\"}},\"id\":\"cee61933-1737-45c0-8a31-43c12e1d6df9\",\"type\":\"Quad\"},{\"attributes\":{\"below\":[{\"id\":\"978df9ac-290c-4cb3-9c61-de15c0f481b9\",\"type\":\"LinearAxis\"}],\"left\":[{\"id\":\"cf451eb5-a29b-49a6-a5c3-479cce452cfc\",\"type\":\"LinearAxis\"}],\"plot_height\":400,\"plot_width\":400,\"renderers\":[{\"id\":\"978df9ac-290c-4cb3-9c61-de15c0f481b9\",\"type\":\"LinearAxis\"},{\"id\":\"f06152cd-c398-4b76-9a3a-26fb74515bde\",\"type\":\"Grid\"},{\"id\":\"cf451eb5-a29b-49a6-a5c3-479cce452cfc\",\"type\":\"LinearAxis\"},{\"id\":\"1d4de8cf-9702-4630-a087-16dceda945cb\",\"type\":\"Grid\"},{\"id\":\"c3484b56-9cfe-4471-b46e-735077a9b25c\",\"type\":\"BoxAnnotation\"},{\"id\":\"d79ce45d-f6f1-44ee-aa67-649b9a8bf259\",\"type\":\"GlyphRenderer\"}],\"title\":{\"id\":\"2c084886-dc22-4213-beef-5c42c6482e9a\",\"type\":\"Title\"},\"toolbar\":{\"id\":\"0d6634e4-bb2b-42f1-9d07-2da00a59c419\",\"type\":\"Toolbar\"},\"toolbar_location\":null,\"x_range\":{\"id\":\"7addb2b2-7dca-42e3-8a7c-d634a16e1ee2\",\"type\":\"DataRange1d\"},\"x_scale\":{\"id\":\"92c65e47-bfa2-4137-814b-73b99a798f33\",\"type\":\"LinearScale\"},\"y_range\":{\"id\":\"3356dc3d-e3aa-42d5-8c2f-25094203b50c\",\"type\":\"DataRange1d\"},\"y_scale\":{\"id\":\"740456cd-3e11-4181-aae4-7d6c3345a9a0\",\"type\":\"LinearScale\"}},\"id\":\"d5539d32-d11b-49b1-b84a-702b39ae94bc\",\"subtype\":\"Figure\",\"type\":\"Plot\"},{\"attributes\":{},\"id\":\"740456cd-3e11-4181-aae4-7d6c3345a9a0\",\"type\":\"LinearScale\"},{\"attributes\":{\"plot\":{\"id\":\"d5539d32-d11b-49b1-b84a-702b39ae94bc\",\"subtype\":\"Figure\",\"type\":\"Plot\"},\"ticker\":{\"id\":\"9d9284c2-0fd0-492f-8c2c-a14af507e16c\",\"type\":\"BasicTicker\"}},\"id\":\"f06152cd-c398-4b76-9a3a-26fb74515bde\",\"type\":\"Grid\"},{\"attributes\":{\"axis_label\":\"Difference (abs)\",\"formatter\":{\"id\":\"64de4a0a-2b35-4d66-b081-86129d598bfc\",\"type\":\"BasicTickFormatter\"},\"plot\":{\"id\":\"d5539d32-d11b-49b1-b84a-702b39ae94bc\",\"subtype\":\"Figure\",\"type\":\"Plot\"},\"ticker\":{\"id\":\"9d9284c2-0fd0-492f-8c2c-a14af507e16c\",\"type\":\"BasicTicker\"}},\"id\":\"978df9ac-290c-4cb3-9c61-de15c0f481b9\",\"type\":\"LinearAxis\"},{\"attributes\":{},\"id\":\"9d9284c2-0fd0-492f-8c2c-a14af507e16c\",\"type\":\"BasicTicker\"},{\"attributes\":{\"below\":[{\"id\":\"a0e62a54-376a-416d-89f9-467e20a3bef8\",\"type\":\"LinearAxis\"}],\"left\":[{\"id\":\"5814ba61-f72b-432f-9f5f-07f0619e8e1f\",\"type\":\"LinearAxis\"}],\"plot_height\":400,\"plot_width\":400,\"renderers\":[{\"id\":\"a0e62a54-376a-416d-89f9-467e20a3bef8\",\"type\":\"LinearAxis\"},{\"id\":\"e16244a0-2300-4dbd-a3a5-b407cf6115c4\",\"type\":\"Grid\"},{\"id\":\"5814ba61-f72b-432f-9f5f-07f0619e8e1f\",\"type\":\"LinearAxis\"},{\"id\":\"5071c73b-fa74-44d6-a0a4-17979de84669\",\"type\":\"Grid\"},{\"id\":\"6bb5dbdb-6675-4f80-b13b-5b23a04a1e7a\",\"type\":\"BoxAnnotation\"},{\"id\":\"5a6aa255-20ad-4ca9-ae43-a5c4a36d2ced\",\"type\":\"GlyphRenderer\"}],\"title\":{\"id\":\"60eb83c4-46d2-46e8-a4c4-8f8bc2b055f9\",\"type\":\"Title\"},\"toolbar\":{\"id\":\"4834120c-7d58-4072-95d5-5f8dba601f4f\",\"type\":\"Toolbar\"},\"toolbar_location\":null,\"x_range\":{\"id\":\"ebee2073-819e-4d70-be88-2a8c1b43e5f9\",\"type\":\"DataRange1d\"},\"x_scale\":{\"id\":\"26336ac9-ba0d-4c27-a3cd-3c41bec4255e\",\"type\":\"LinearScale\"},\"y_range\":{\"id\":\"3ca686af-3a03-4dea-8860-96b3f3d33a69\",\"type\":\"DataRange1d\"},\"y_scale\":{\"id\":\"48418856-6e94-4558-b2ab-5273030b3ada\",\"type\":\"LinearScale\"}},\"id\":\"85114a4c-b6f6-4e6d-ad41-bb000ba43182\",\"subtype\":\"Figure\",\"type\":\"Plot\"},{\"attributes\":{\"axis_label\":\"Distribution\",\"formatter\":{\"id\":\"b46ce408-c739-4af9-8b88-aa3aa298d01a\",\"type\":\"BasicTickFormatter\"},\"plot\":{\"id\":\"d5539d32-d11b-49b1-b84a-702b39ae94bc\",\"subtype\":\"Figure\",\"type\":\"Plot\"},\"ticker\":{\"id\":\"3a356cf6-a2f0-41d0-9d2d-724fccf9b585\",\"type\":\"BasicTicker\"}},\"id\":\"cf451eb5-a29b-49a6-a5c3-479cce452cfc\",\"type\":\"LinearAxis\"},{\"attributes\":{\"callback\":null,\"column_names\":[\"left\",\"right\",\"top\"],\"data\":{\"left\":{\"__ndarray__\":\"beLil2pXEsBMLoWNSg8SwCt6J4MqxxHACsbJeAp/EcDpEWxu6jYRwMhdDmTK7hDAp6mwWaqmEMCG9VJPil4QwGVB9URqFhDAiRovdZScD8BHsnNgVAwPwAVKuEsUfA7Aw+H8NtTrDcCBeUEilFsNwD8Rhg1UywzA/qjK+BM7DMC8QA/k06oLwHrYU8+TGgvAOHCYulOKCsD2B92lE/oJwLSfIZHTaQnAcjdmfJPZCMAwz6pnU0kIwO5m71ITuQfArP4zPtMoB8Bqlngpk5gGwCguvRRTCAbA5sUBABN4BcCkXUbr0ucEwGP1itaSVwTAIY3PwVLHA8DfJBStEjcDwJ28WJjSpgLAW1Sdg5IWAsAZ7OFuUoYBwNeDJloS9gDAlRtrRdJlAMCmZl9hJKv/vySW6Dekiv6/oMVxDiRq/b8c9frko0n8v5gkhLsjKfu/FFQNkqMI+r+Qg5ZoI+j4vwyzHz+jx/e/iOKoFSOn9r8EEjLsoob1v4BBu8IiZvS//HBEmaJF8796oM1vIiXyvw==\",\"dtype\":\"float64\",\"shape\":[50]},\"right\":{\"__ndarray__\":\"TC6FjUoPEsAreieDKscRwArGyXgKfxHA6RFsbuo2EcDIXQ5kyu4QwKepsFmqphDAhvVST4peEMBlQfVEahYQwIkaL3WUnA/AR7JzYFQMD8AFSrhLFHwOwMPh/DbU6w3AgXlBIpRbDcA/EYYNVMsMwP6oyvgTOwzAvEAP5NOqC8B62FPPkxoLwDhwmLpTigrA9gfdpRP6CcC0nyGR02kJwHI3ZnyT2QjAMM+qZ1NJCMDuZu9SE7kHwKz+Mz7TKAfAapZ4KZOYBsAoLr0UUwgGwObFAQATeAXApF1G69LnBMBj9YrWklcEwCGNz8FSxwPA3yQUrRI3A8CdvFiY0qYCwFtUnYOSFgLAGezhblKGAcDXgyZaEvYAwJUba0XSZQDApmZfYSSr/78klug3pIr+v6DFcQ4kav2/HPX65KNJ/L+YJIS7Iyn7vxRUDZKjCPq/kIOWaCPo+L8Msx8/o8f3v4jiqBUjp/a/BBIy7KKG9b+AQbvCImb0v/xwRJmiRfO/eqDNbyIl8r/0z1ZGogTxvw==\",\"dtype\":\"float64\",\"shape\":[50]},\"top\":{\"__ndarray__\":\"qAKQJWpC8T8hBNBdidHqPwsEsNqVSeo/OwNwuxL65D/NA1BRu7HoPxsDwHYlLuQ/jwPwx+AZ5z/8AhAyOGLjP3EEgKJ2nes/0gLQK1FS4j++BEC1K83eP9IC0CtRUuI//AIQMjhi4z/YA+AStfXYPwQE4BK19dg/hANgBufV1j8wA+D5GLbUP/ECgHA+HtM/RQMAfQw+1T8WBECcj43aP8gCQGpXDtI/vgRAtSvNzj/CA8CPwW3IP/ECgHA+HsM/6ASAuxLdzz/xAoBwPh7DP/ECgHA+HsM/GwPAdiUuxD8gBYC7Et2/P0AEgKJ2nbs/ngIAZHD+wD+eAgBkcP6wP0UDAH0MPqU/lAQAr0S9rT+UBACvRL2tP/ECgHA+HrM/ngIAZHD+oD+8AgBkcP6gP+wDAJaofak/ngIAZHD+oD+eAgBkcP6gPwAAAAAAAAAAngIAZHD+kD+eAgBkcP6QPwAAAAAAAAAAngIAZHD+kD8AAAAAAAAAAAAAAAAAAAAAAAAAAAAAAACAAgBkcP6APw==\",\"dtype\":\"float64\",\"shape\":[50]}}},\"id\":\"29448efb-1473-47be-a7c6-790971ca8fe2\",\"type\":\"ColumnDataSource\"},{\"attributes\":{},\"id\":\"3a356cf6-a2f0-41d0-9d2d-724fccf9b585\",\"type\":\"BasicTicker\"},{\"attributes\":{\"dimension\":1,\"plot\":{\"id\":\"d5539d32-d11b-49b1-b84a-702b39ae94bc\",\"subtype\":\"Figure\",\"type\":\"Plot\"},\"ticker\":{\"id\":\"3a356cf6-a2f0-41d0-9d2d-724fccf9b585\",\"type\":\"BasicTicker\"}},\"id\":\"1d4de8cf-9702-4630-a087-16dceda945cb\",\"type\":\"Grid\"},{\"attributes\":{},\"id\":\"5fd48fe9-7e77-4d2b-92d1-412477971a2c\",\"type\":\"BasicTickFormatter\"},{\"attributes\":{},\"id\":\"26336ac9-ba0d-4c27-a3cd-3c41bec4255e\",\"type\":\"LinearScale\"},{\"attributes\":{},\"id\":\"b46ce408-c739-4af9-8b88-aa3aa298d01a\",\"type\":\"BasicTickFormatter\"},{\"attributes\":{},\"id\":\"cb148d30-af55-4f66-a66b-550825a1cfd4\",\"type\":\"BasicTicker\"},{\"attributes\":{\"bottom\":{\"value\":0},\"fill_color\":{\"value\":\"#036564\"},\"left\":{\"field\":\"left\"},\"line_color\":{\"value\":\"#033649\"},\"right\":{\"field\":\"right\"},\"top\":{\"field\":\"top\"}},\"id\":\"b5006d24-58d4-4768-b41c-7d0e261b3407\",\"type\":\"Quad\"},{\"attributes\":{},\"id\":\"48418856-6e94-4558-b2ab-5273030b3ada\",\"type\":\"LinearScale\"},{\"attributes\":{\"callback\":null,\"column_names\":[\"left\",\"right\",\"top\"],\"data\":{\"left\":{\"__ndarray__\":\"gLq9y619tD9U9VwE3pHJP7SGbZFyctQ/v5KsIPYb3D9kz/XXvOLhP2pVlZ9+t+U/b9s0Z0CM6T90YdQuAmHtP7zzOfvhmvA/v7YJ30KF8j/CednCo2/0P8Q8qaYEWvY/x/94imVE+D/Jwkhuxi76P8yFGFInGfw/zkjoNYgD/j/RC7gZ6e3/P2rnw/4k7ABA68ircFXhAUBsqpPihdYCQO6Le1S2ywNAb21jxubABEDwTks4F7YFQHEwM6pHqwZA8xEbHHigB0B08wKOqJUIQPXU6v/YiglAd7bScQmACkD4l7rjOXULQHl5olVqagxA+lqKx5pfDUB8PHI5y1QOQP0dWqv7SQ9Av/+gDpYfEECA8JRHLpoQQEDhiIDGFBFAAdJ8uV6PEUDCwnDy9gkSQIKzZCuPhBJAQ6RYZCf/EkAElUydv3kTQMSFQNZX9BNAhXY0D/BuFEBGZyhIiOkUQAZYHIEgZBVAx0gQurjeFUCHOQTzUFkWQEgq+Cvp0xZACRvsZIFOF0DJC+CdGckXQA==\",\"dtype\":\"float64\",\"shape\":[50]},\"right\":{\"__ndarray__\":\"VPVcBN6RyT+0hm2RcnLUP7+SrCD2G9w/ZM/117zi4T9qVZWffrflP2/bNGdAjOk/dGHULgJh7T+88zn74ZrwP7+2Cd9ChfI/wnnZwqNv9D/EPKmmBFr2P8f/eIplRPg/ycJIbsYu+j/MhRhSJxn8P85I6DWIA/4/0Qu4Gent/z9q58P+JOwAQOvIq3BV4QFAbKqT4oXWAkDui3tUtssDQG9tY8bmwARA8E5LOBe2BUBxMDOqR6sGQPMRGxx4oAdAdPMCjqiVCED11Or/2IoJQHe20nEJgApA+Je64zl1C0B5eaJVamoMQPpaiseaXw1AfDxyOctUDkD9HVqr+0kPQL//oA6WHxBAgPCURy6aEEBA4YiAxhQRQAHSfLlejxFAwsJw8vYJEkCCs2Qrj4QSQEOkWGQn/xJABJVMnb95E0DEhUDWV/QTQIV2NA/wbhRARmcoSIjpFEAGWByBIGQVQMdIELq43hVAhzkE81BZFkBIKvgr6dMWQAkb7GSBThdAyQvgnRnJF0CK/NPWsUMYQA==\",\"dtype\":\"float64\",\"shape\":[50]},\"top\":{\"__ndarray__\":\"5IJ8I+Jmsj9/zw0Q0yyxPzu3FJg8w7k/NCnFmdrJwT/UA6aELYnIP7p3qUhi1Mw/KKru+iXsxz8mKxhccQ7OP/WPosD4PdQ/e96Gb4BIzz8P1qBeXhjSPyGq7vol7Nc/TTbrNvGg0z8z8OyYi8bVP4yWNQ+EKdU/zjx+hXyM1D/6Vsq/qTrYPwCQosD4PdQ/2Tx+hXyM1D9yzw0Q0yzRPwCQosD4PdQ/XXzp1FZ70T/ZhM/leKvOP1XRYNJpcc0/ZEMR1Ad4xT9z0WDSaXHNP64vWOhltdI/4QOmhC2JyD+b3DOt6QPDPzYpxZnaycE/uYTP5Xirvj+y6VlKANu0P7LpWUoA28Q/cs8NENMswT8sHvK+Wje8P1XRYNJpca0/jmqDq0v9uj9fOD75h+WvPzg26zbxoKM/cs8NENMsoT/6A6aELYmYP8cDpoQtiZg/ODbrNvGgoz9hNus28aCjPzg26zbxoHM/k9Fg0mlxjT84Nus28aCDPzg26zbxoJM/YTbrNvGgkz84Nus28aCDPw==\",\"dtype\":\"float64\",\"shape\":[50]}}},\"id\":\"217fff34-3543-4f6c-9551-ba927a46e0fa\",\"type\":\"ColumnDataSource\"},{\"attributes\":{\"bottom_units\":\"screen\",\"fill_alpha\":{\"value\":0.5},\"fill_color\":{\"value\":\"lightgrey\"},\"left_units\":\"screen\",\"level\":\"overlay\",\"line_alpha\":{\"value\":1.0},\"line_color\":{\"value\":\"black\"},\"line_dash\":[4,4],\"line_width\":{\"value\":2},\"plot\":null,\"render_mode\":\"css\",\"right_units\":\"screen\",\"top_units\":\"screen\"},\"id\":\"c3484b56-9cfe-4471-b46e-735077a9b25c\",\"type\":\"BoxAnnotation\"},{\"attributes\":{\"callback\":null},\"id\":\"ebee2073-819e-4d70-be88-2a8c1b43e5f9\",\"type\":\"DataRange1d\"},{\"attributes\":{\"plot\":{\"id\":\"85114a4c-b6f6-4e6d-ad41-bb000ba43182\",\"subtype\":\"Figure\",\"type\":\"Plot\"},\"ticker\":{\"id\":\"cb148d30-af55-4f66-a66b-550825a1cfd4\",\"type\":\"BasicTicker\"}},\"id\":\"e16244a0-2300-4dbd-a3a5-b407cf6115c4\",\"type\":\"Grid\"},{\"attributes\":{},\"id\":\"7c3622a1-184e-4a73-a07f-e4ee673ddea1\",\"type\":\"PanTool\"},{\"attributes\":{\"axis_label\":\"Distribution\",\"formatter\":{\"id\":\"80cc3370-50cb-4cb3-bbc2-0dfac7ee20bc\",\"type\":\"BasicTickFormatter\"},\"plot\":{\"id\":\"85114a4c-b6f6-4e6d-ad41-bb000ba43182\",\"subtype\":\"Figure\",\"type\":\"Plot\"},\"ticker\":{\"id\":\"9075c388-2d79-4972-9837-246bb55a60ff\",\"type\":\"BasicTicker\"}},\"id\":\"5814ba61-f72b-432f-9f5f-07f0619e8e1f\",\"type\":\"LinearAxis\"},{\"attributes\":{\"plot\":null,\"text\":\"Asummetry in null cases\"},\"id\":\"60eb83c4-46d2-46e8-a4c4-8f8bc2b055f9\",\"type\":\"Title\"},{\"attributes\":{\"data_source\":{\"id\":\"217fff34-3543-4f6c-9551-ba927a46e0fa\",\"type\":\"ColumnDataSource\"},\"glyph\":{\"id\":\"b5006d24-58d4-4768-b41c-7d0e261b3407\",\"type\":\"Quad\"},\"hover_glyph\":null,\"muted_glyph\":null,\"nonselection_glyph\":{\"id\":\"cee61933-1737-45c0-8a31-43c12e1d6df9\",\"type\":\"Quad\"},\"selection_glyph\":null,\"view\":{\"id\":\"d4b7c7b5-ca00-460d-a74a-fb3b07efbda0\",\"type\":\"CDSView\"}},\"id\":\"d79ce45d-f6f1-44ee-aa67-649b9a8bf259\",\"type\":\"GlyphRenderer\"},{\"attributes\":{},\"id\":\"9075c388-2d79-4972-9837-246bb55a60ff\",\"type\":\"BasicTicker\"},{\"attributes\":{},\"id\":\"f40a6cd8-6af2-4ead-a92e-797db86a5961\",\"type\":\"WheelZoomTool\"},{\"attributes\":{\"dimension\":1,\"plot\":{\"id\":\"85114a4c-b6f6-4e6d-ad41-bb000ba43182\",\"subtype\":\"Figure\",\"type\":\"Plot\"},\"ticker\":{\"id\":\"9075c388-2d79-4972-9837-246bb55a60ff\",\"type\":\"BasicTicker\"}},\"id\":\"5071c73b-fa74-44d6-a0a4-17979de84669\",\"type\":\"Grid\"},{\"attributes\":{\"overlay\":{\"id\":\"c3484b56-9cfe-4471-b46e-735077a9b25c\",\"type\":\"BoxAnnotation\"}},\"id\":\"3875dbe8-f2d1-48fc-934f-807eef585acc\",\"type\":\"BoxZoomTool\"},{\"attributes\":{\"bottom_units\":\"screen\",\"fill_alpha\":{\"value\":0.5},\"fill_color\":{\"value\":\"lightgrey\"},\"left_units\":\"screen\",\"level\":\"overlay\",\"line_alpha\":{\"value\":1.0},\"line_color\":{\"value\":\"black\"},\"line_dash\":[4,4],\"line_width\":{\"value\":2},\"plot\":null,\"render_mode\":\"css\",\"right_units\":\"screen\",\"top_units\":\"screen\"},\"id\":\"6bb5dbdb-6675-4f80-b13b-5b23a04a1e7a\",\"type\":\"BoxAnnotation\"},{\"attributes\":{},\"id\":\"c8153ea0-ba4d-476a-9766-fbfdd9cfb47d\",\"type\":\"SaveTool\"},{\"attributes\":{},\"id\":\"219560f5-97d2-4ad2-976d-9bb08d45cecf\",\"type\":\"ResetTool\"},{\"attributes\":{},\"id\":\"2e83329c-ef6b-4a91-b7ca-b5f3c7761a0c\",\"type\":\"HelpTool\"},{\"attributes\":{\"callback\":null},\"id\":\"3ca686af-3a03-4dea-8860-96b3f3d33a69\",\"type\":\"DataRange1d\"},{\"attributes\":{},\"id\":\"92c65e47-bfa2-4137-814b-73b99a798f33\",\"type\":\"LinearScale\"},{\"attributes\":{\"bottom\":{\"value\":0},\"fill_color\":{\"value\":\"#036564\"},\"left\":{\"field\":\"left\"},\"line_color\":{\"value\":\"#033649\"},\"right\":{\"field\":\"right\"},\"top\":{\"field\":\"top\"}},\"id\":\"6ffb8757-f6f4-4711-b4d3-ec15eb03ec83\",\"type\":\"Quad\"},{\"attributes\":{},\"id\":\"b2b45845-8134-4291-9a76-6f8cd0e97e73\",\"type\":\"PanTool\"},{\"attributes\":{},\"id\":\"42a2ae57-9346-4e0d-b87d-284169c65d21\",\"type\":\"WheelZoomTool\"},{\"attributes\":{\"data_source\":{\"id\":\"29448efb-1473-47be-a7c6-790971ca8fe2\",\"type\":\"ColumnDataSource\"},\"glyph\":{\"id\":\"6ffb8757-f6f4-4711-b4d3-ec15eb03ec83\",\"type\":\"Quad\"},\"hover_glyph\":null,\"muted_glyph\":null,\"nonselection_glyph\":{\"id\":\"b8f39307-2097-4f8b-ba3b-4b5a5fc094de\",\"type\":\"Quad\"},\"selection_glyph\":null,\"view\":{\"id\":\"6ce92087-cad7-4acd-93c9-e9ba22f41094\",\"type\":\"CDSView\"}},\"id\":\"5a6aa255-20ad-4ca9-ae43-a5c4a36d2ced\",\"type\":\"GlyphRenderer\"},{\"attributes\":{\"source\":{\"id\":\"217fff34-3543-4f6c-9551-ba927a46e0fa\",\"type\":\"ColumnDataSource\"}},\"id\":\"d4b7c7b5-ca00-460d-a74a-fb3b07efbda0\",\"type\":\"CDSView\"},{\"attributes\":{\"overlay\":{\"id\":\"6bb5dbdb-6675-4f80-b13b-5b23a04a1e7a\",\"type\":\"BoxAnnotation\"}},\"id\":\"48ca90a6-8e00-4959-9818-58d12a6003fb\",\"type\":\"BoxZoomTool\"},{\"attributes\":{\"toolbar\":{\"id\":\"a66abde7-52c4-4569-801f-75cfffb732b3\",\"type\":\"ProxyToolbar\"},\"toolbar_location\":\"above\"},\"id\":\"01b61b17-72d3-4a76-af61-2323de3a0efb\",\"type\":\"ToolbarBox\"},{\"attributes\":{},\"id\":\"fbbb3ba8-4056-4bfa-90cc-4f30e3e85416\",\"type\":\"SaveTool\"},{\"attributes\":{\"tools\":[{\"id\":\"b2b45845-8134-4291-9a76-6f8cd0e97e73\",\"type\":\"PanTool\"},{\"id\":\"42a2ae57-9346-4e0d-b87d-284169c65d21\",\"type\":\"WheelZoomTool\"},{\"id\":\"48ca90a6-8e00-4959-9818-58d12a6003fb\",\"type\":\"BoxZoomTool\"},{\"id\":\"fbbb3ba8-4056-4bfa-90cc-4f30e3e85416\",\"type\":\"SaveTool\"},{\"id\":\"c9e4058d-e586-4521-9e8f-d42018a0c20f\",\"type\":\"ResetTool\"},{\"id\":\"11645550-da3c-490e-b5cb-2127155391b5\",\"type\":\"HelpTool\"},{\"id\":\"7c3622a1-184e-4a73-a07f-e4ee673ddea1\",\"type\":\"PanTool\"},{\"id\":\"f40a6cd8-6af2-4ead-a92e-797db86a5961\",\"type\":\"WheelZoomTool\"},{\"id\":\"3875dbe8-f2d1-48fc-934f-807eef585acc\",\"type\":\"BoxZoomTool\"},{\"id\":\"c8153ea0-ba4d-476a-9766-fbfdd9cfb47d\",\"type\":\"SaveTool\"},{\"id\":\"219560f5-97d2-4ad2-976d-9bb08d45cecf\",\"type\":\"ResetTool\"},{\"id\":\"2e83329c-ef6b-4a91-b7ca-b5f3c7761a0c\",\"type\":\"HelpTool\"}]},\"id\":\"a66abde7-52c4-4569-801f-75cfffb732b3\",\"type\":\"ProxyToolbar\"},{\"attributes\":{},\"id\":\"c9e4058d-e586-4521-9e8f-d42018a0c20f\",\"type\":\"ResetTool\"},{\"attributes\":{\"axis_label\":\"Opposite direction\",\"formatter\":{\"id\":\"5fd48fe9-7e77-4d2b-92d1-412477971a2c\",\"type\":\"BasicTickFormatter\"},\"plot\":{\"id\":\"85114a4c-b6f6-4e6d-ad41-bb000ba43182\",\"subtype\":\"Figure\",\"type\":\"Plot\"},\"ticker\":{\"id\":\"cb148d30-af55-4f66-a66b-550825a1cfd4\",\"type\":\"BasicTicker\"}},\"id\":\"a0e62a54-376a-416d-89f9-467e20a3bef8\",\"type\":\"LinearAxis\"},{\"attributes\":{},\"id\":\"64de4a0a-2b35-4d66-b081-86129d598bfc\",\"type\":\"BasicTickFormatter\"},{\"attributes\":{\"children\":[{\"id\":\"7da9e144-78ca-425a-b693-d3decba74712\",\"type\":\"Row\"}]},\"id\":\"f2d4ccdc-2a8f-4ee6-a847-e99b17749f2c\",\"type\":\"Column\"},{\"attributes\":{},\"id\":\"11645550-da3c-490e-b5cb-2127155391b5\",\"type\":\"HelpTool\"},{\"attributes\":{\"bottom\":{\"value\":0},\"fill_alpha\":{\"value\":0.1},\"fill_color\":{\"value\":\"#1f77b4\"},\"left\":{\"field\":\"left\"},\"line_alpha\":{\"value\":0.1},\"line_color\":{\"value\":\"#1f77b4\"},\"right\":{\"field\":\"right\"},\"top\":{\"field\":\"top\"}},\"id\":\"b8f39307-2097-4f8b-ba3b-4b5a5fc094de\",\"type\":\"Quad\"},{\"attributes\":{\"source\":{\"id\":\"29448efb-1473-47be-a7c6-790971ca8fe2\",\"type\":\"ColumnDataSource\"}},\"id\":\"6ce92087-cad7-4acd-93c9-e9ba22f41094\",\"type\":\"CDSView\"},{\"attributes\":{\"children\":[{\"id\":\"01b61b17-72d3-4a76-af61-2323de3a0efb\",\"type\":\"ToolbarBox\"},{\"id\":\"f2d4ccdc-2a8f-4ee6-a847-e99b17749f2c\",\"type\":\"Column\"}]},\"id\":\"dcadbba6-97cd-4e6f-8da6-bd8962e41379\",\"type\":\"Column\"},{\"attributes\":{\"children\":[{\"id\":\"85114a4c-b6f6-4e6d-ad41-bb000ba43182\",\"subtype\":\"Figure\",\"type\":\"Plot\"},{\"id\":\"d5539d32-d11b-49b1-b84a-702b39ae94bc\",\"subtype\":\"Figure\",\"type\":\"Plot\"}]},\"id\":\"7da9e144-78ca-425a-b693-d3decba74712\",\"type\":\"Row\"}],\"root_ids\":[\"dcadbba6-97cd-4e6f-8da6-bd8962e41379\"]},\"title\":\"Bokeh Application\",\"version\":\"0.12.13\"}};\n",
       "  var render_items = [{\"docid\":\"246147dc-2c63-4376-86e4-1d54bcf2f17b\",\"elementid\":\"4d2f4dba-9052-409d-80be-61812c0956b7\",\"modelid\":\"dcadbba6-97cd-4e6f-8da6-bd8962e41379\"}];\n",
       "  root.Bokeh.embed.embed_items_notebook(docs_json, render_items);\n",
       "\n",
       "  }\n",
       "  if (root.Bokeh !== undefined) {\n",
       "    embed_document(root);\n",
       "  } else {\n",
       "    var attempts = 0;\n",
       "    var timer = setInterval(function(root) {\n",
       "      if (root.Bokeh !== undefined) {\n",
       "        embed_document(root);\n",
       "        clearInterval(timer);\n",
       "      }\n",
       "      attempts++;\n",
       "      if (attempts > 100) {\n",
       "        console.log(\"Bokeh: ERROR: Unable to run BokehJS code because BokehJS library is missing\")\n",
       "        clearInterval(timer);\n",
       "      }\n",
       "    }, 10, root)\n",
       "  }\n",
       "})(window);"
      ],
      "application/vnd.bokehjs_exec.v0+json": ""
     },
     "metadata": {
      "application/vnd.bokehjs_exec.v0+json": {
       "id": "dcadbba6-97cd-4e6f-8da6-bd8962e41379"
      }
     },
     "output_type": "display_data"
    }
   ],
   "source": [
    "mp = list(map(lambda x:x[1],raw))\n",
    "p1 = figure(plot_width=400, plot_height=400,title = 'Asummetry in null cases',y_axis_label = \"Distribution\",x_axis_label = \"Opposite direction\")\n",
    "q1,q2 = np.percentile(mp,[0,100])\n",
    "\n",
    "measured = [xx for xx in mp if (xx>q1 and xx<q2)]\n",
    "hist, edges = np.histogram(measured, density=True, bins=50)\n",
    "\n",
    "p1.quad(top=hist, bottom=0, left=edges[:-1], right=edges[1:],fill_color=\"#036564\", line_color=\"#033649\")\n",
    "\n",
    "mp = list(map(lambda x:abs(x[1]-x[0]),raw))\n",
    "p2 = figure(plot_width=400, plot_height=400,title = 'Asummetry in null cases',y_axis_label = \"Distribution\",x_axis_label = \"Difference (abs)\")\n",
    "q1,q2 = np.percentile(mp,[0,100])\n",
    "\n",
    "measured = [xx for xx in mp if (xx>q1 and xx<q2)]\n",
    "hist, edges = np.histogram(measured, density=True, bins=50)\n",
    "\n",
    "p2.quad(top=hist, bottom=0, left=edges[:-1], right=edges[1:],fill_color=\"#036564\", line_color=\"#033649\")\n",
    "grid = gridplot([[p1, p2]])\n",
    "show (grid)\n"
   ]
  },
  {
   "cell_type": "markdown",
   "metadata": {},
   "source": [
    "# CASE 2: 0-distance Connection\n",
    "A connection that has __none-zero__ strength at __distance < .5__ is called 0-distance. Most of these connection are coming from adjacent ROIs. We look at 0-distance ROIs, their adjacency and their asymmetry."
   ]
  },
  {
   "cell_type": "code",
   "execution_count": 15,
   "metadata": {},
   "outputs": [],
   "source": [
    "# NEO4J database call for GROUP 1 - Close and Connected\n",
    "graph = Graph(password=\"1234\")\n",
    "c1 = '''match (n:ROI)-[r:NOS]->(m:ROI)\n",
    "where n.hemisphere=\"L\" and m.hemisphere=\"L\" and r.weight>.5\n",
    "return r._length as dis,r._weight as wei,n.name as n1,m.name as n2, r.border as bor'''\n",
    "\n",
    "D0 = graph.run(c1)"
   ]
  },
  {
   "cell_type": "code",
   "execution_count": 17,
   "metadata": {},
   "outputs": [],
   "source": [
    "dis0 = {}\n",
    "for con in D0:\n",
    "    z = zip(con['dis'],con['wei'])\n",
    "    tf = list(filter(lambda x: .1<x[0]<1 and x[1]>.5,z))\n",
    "    if len(tf) == 0:\n",
    "        continue\n",
    "    else:\n",
    "        dis0[con['n1']+con['n2']] = (max([xx[1] for xx in tf]),con['bor'])"
   ]
  },
  {
   "cell_type": "code",
   "execution_count": 32,
   "metadata": {},
   "outputs": [],
   "source": [
    "total = len(dis0) # total adjacent connections\n",
    "bor = 0\n",
    "asym = 0 # total asymmetric adjacent connections\n",
    "raw = [] #asymmtric case max weights in both directions\n",
    "for w in dis0.keys():\n",
    "    s1 = logit(dis0[w][0])\n",
    "    if dis0[w][1]>0:\n",
    "        bor = bor + 1\n",
    "    try:\n",
    "        s2 = logit(dis0[roi_rot(w)][0])\n",
    "    except:\n",
    "        asym = asym + 1\n",
    "        s2 = logit(0)\n",
    "    raw.append((s1,s2))"
   ]
  },
  {
   "cell_type": "code",
   "execution_count": 33,
   "metadata": {},
   "outputs": [
    {
     "name": "stdout",
     "output_type": "stream",
     "text": [
      "Total 0-distance connections:1049\n",
      "Total 0-distance connections (percentage of all connections):3.255741775294848\n",
      "Percentage of adjacency in 0-distance connection:97.52144899904671\n"
     ]
    }
   ],
   "source": [
    "print('Total 0-distance connections:'+str(total))\n",
    "print('Total 0-distance connections (percentage of all connections):'+str(total*100/32220))\n",
    "print('Percentage of adjacency in 0-distance connection:'+ str(bor*100/total))"
   ]
  },
  {
   "cell_type": "markdown",
   "metadata": {},
   "source": [
    "### Case 2 strength asymmetry distribution"
   ]
  },
  {
   "cell_type": "code",
   "execution_count": 24,
   "metadata": {},
   "outputs": [
    {
     "data": {
      "text/html": [
       "\n",
       "<div class=\"bk-root\">\n",
       "    <div class=\"bk-plotdiv\" id=\"0c88fc42-52cb-4c48-ba97-577b3abd3479\"></div>\n",
       "</div>"
      ]
     },
     "metadata": {},
     "output_type": "display_data"
    },
    {
     "data": {
      "application/javascript": [
       "(function(root) {\n",
       "  function embed_document(root) {\n",
       "    \n",
       "  var docs_json = {\"06b63ff5-a2fb-49b8-bad4-6d3e66b4c07c\":{\"roots\":{\"references\":[{\"attributes\":{\"data_source\":{\"id\":\"322412f8-3aea-4482-85e8-14e9842c4f89\",\"type\":\"ColumnDataSource\"},\"glyph\":{\"id\":\"13b7d064-0878-404c-8b2f-a0d498433ed2\",\"type\":\"Quad\"},\"hover_glyph\":null,\"muted_glyph\":null,\"nonselection_glyph\":{\"id\":\"26100425-9439-4abf-aa96-b3d7a1bbd6aa\",\"type\":\"Quad\"},\"selection_glyph\":null,\"view\":{\"id\":\"43f54c40-f437-4041-9038-b2201bd866b2\",\"type\":\"CDSView\"}},\"id\":\"a6ae762f-e3a3-410a-879e-4176c8a02613\",\"type\":\"GlyphRenderer\"},{\"attributes\":{\"callback\":null},\"id\":\"4f891acc-59d5-4a7f-bebb-c9c7a390291c\",\"type\":\"DataRange1d\"},{\"attributes\":{},\"id\":\"3516016f-9482-4392-9718-14d8b21f8a0e\",\"type\":\"BasicTickFormatter\"},{\"attributes\":{},\"id\":\"b9d36b77-663e-4927-aaed-bced13463cab\",\"type\":\"WheelZoomTool\"},{\"attributes\":{\"callback\":null},\"id\":\"629af13e-19d6-45e4-bd8a-1bd1077b4d07\",\"type\":\"DataRange1d\"},{\"attributes\":{\"bottom\":{\"value\":0},\"fill_color\":{\"value\":\"#036564\"},\"left\":{\"field\":\"left\"},\"line_color\":{\"value\":\"#033649\"},\"right\":{\"field\":\"right\"},\"top\":{\"field\":\"top\"}},\"id\":\"13b7d064-0878-404c-8b2f-a0d498433ed2\",\"type\":\"Quad\"},{\"attributes\":{},\"id\":\"afaffcdc-d18d-4636-b0bd-233336febee4\",\"type\":\"LinearScale\"},{\"attributes\":{\"axis_label\":\"Difference in connection strength between directions (abs)\",\"formatter\":{\"id\":\"40198665-ffc0-4bb1-82ff-303619cfa3b0\",\"type\":\"BasicTickFormatter\"},\"plot\":{\"id\":\"cfa87b3a-9826-4fb9-bb1e-adf84a3c1a55\",\"subtype\":\"Figure\",\"type\":\"Plot\"},\"ticker\":{\"id\":\"2a5ec5b1-ec06-40a8-b3ac-665b0fa45979\",\"type\":\"BasicTicker\"}},\"id\":\"a2ae0032-5d3c-4dbe-bb0b-15cad9c7b37c\",\"type\":\"LinearAxis\"},{\"attributes\":{},\"id\":\"035d6dd7-9df9-4edf-aabb-c3f64dd16f8f\",\"type\":\"LinearScale\"},{\"attributes\":{},\"id\":\"40198665-ffc0-4bb1-82ff-303619cfa3b0\",\"type\":\"BasicTickFormatter\"},{\"attributes\":{},\"id\":\"1af02471-0ce5-4b3c-93a5-d01308ccb148\",\"type\":\"BasicTicker\"},{\"attributes\":{\"bottom_units\":\"screen\",\"fill_alpha\":{\"value\":0.5},\"fill_color\":{\"value\":\"lightgrey\"},\"left_units\":\"screen\",\"level\":\"overlay\",\"line_alpha\":{\"value\":1.0},\"line_color\":{\"value\":\"black\"},\"line_dash\":[4,4],\"line_width\":{\"value\":2},\"plot\":null,\"render_mode\":\"css\",\"right_units\":\"screen\",\"top_units\":\"screen\"},\"id\":\"a7c1d597-5e3c-4aff-88dc-49ace1de5d9d\",\"type\":\"BoxAnnotation\"},{\"attributes\":{\"below\":[{\"id\":\"a2ae0032-5d3c-4dbe-bb0b-15cad9c7b37c\",\"type\":\"LinearAxis\"}],\"left\":[{\"id\":\"9e61b81f-5340-40f2-bcb3-dc5432556c84\",\"type\":\"LinearAxis\"}],\"plot_height\":400,\"plot_width\":400,\"renderers\":[{\"id\":\"a2ae0032-5d3c-4dbe-bb0b-15cad9c7b37c\",\"type\":\"LinearAxis\"},{\"id\":\"373cf7b3-353c-4752-b85b-3556d9c2ec4b\",\"type\":\"Grid\"},{\"id\":\"9e61b81f-5340-40f2-bcb3-dc5432556c84\",\"type\":\"LinearAxis\"},{\"id\":\"2d953794-e938-4c49-aa2e-73801dc4b7df\",\"type\":\"Grid\"},{\"id\":\"a7c1d597-5e3c-4aff-88dc-49ace1de5d9d\",\"type\":\"BoxAnnotation\"},{\"id\":\"a6ae762f-e3a3-410a-879e-4176c8a02613\",\"type\":\"GlyphRenderer\"}],\"title\":{\"id\":\"3227e869-8450-4f34-9dfd-ffd648fca931\",\"type\":\"Title\"},\"toolbar\":{\"id\":\"f4a1b19c-6f9f-42e3-bdad-96d2351c0291\",\"type\":\"Toolbar\"},\"x_range\":{\"id\":\"629af13e-19d6-45e4-bd8a-1bd1077b4d07\",\"type\":\"DataRange1d\"},\"x_scale\":{\"id\":\"afaffcdc-d18d-4636-b0bd-233336febee4\",\"type\":\"LinearScale\"},\"y_range\":{\"id\":\"4f891acc-59d5-4a7f-bebb-c9c7a390291c\",\"type\":\"DataRange1d\"},\"y_scale\":{\"id\":\"035d6dd7-9df9-4edf-aabb-c3f64dd16f8f\",\"type\":\"LinearScale\"}},\"id\":\"cfa87b3a-9826-4fb9-bb1e-adf84a3c1a55\",\"subtype\":\"Figure\",\"type\":\"Plot\"},{\"attributes\":{},\"id\":\"29b927c9-d6ae-4280-a4d5-f656f831f6f3\",\"type\":\"ResetTool\"},{\"attributes\":{\"plot\":{\"id\":\"cfa87b3a-9826-4fb9-bb1e-adf84a3c1a55\",\"subtype\":\"Figure\",\"type\":\"Plot\"},\"ticker\":{\"id\":\"2a5ec5b1-ec06-40a8-b3ac-665b0fa45979\",\"type\":\"BasicTicker\"}},\"id\":\"373cf7b3-353c-4752-b85b-3556d9c2ec4b\",\"type\":\"Grid\"},{\"attributes\":{\"bottom\":{\"value\":0},\"fill_alpha\":{\"value\":0.1},\"fill_color\":{\"value\":\"#1f77b4\"},\"left\":{\"field\":\"left\"},\"line_alpha\":{\"value\":0.1},\"line_color\":{\"value\":\"#1f77b4\"},\"right\":{\"field\":\"right\"},\"top\":{\"field\":\"top\"}},\"id\":\"26100425-9439-4abf-aa96-b3d7a1bbd6aa\",\"type\":\"Quad\"},{\"attributes\":{\"plot\":null,\"text\":\"Asummetry in 0-distance cases\"},\"id\":\"3227e869-8450-4f34-9dfd-ffd648fca931\",\"type\":\"Title\"},{\"attributes\":{},\"id\":\"2c8f1652-5ca2-494d-a923-aa18087c66eb\",\"type\":\"SaveTool\"},{\"attributes\":{\"axis_label\":\"Distribution\",\"formatter\":{\"id\":\"3516016f-9482-4392-9718-14d8b21f8a0e\",\"type\":\"BasicTickFormatter\"},\"plot\":{\"id\":\"cfa87b3a-9826-4fb9-bb1e-adf84a3c1a55\",\"subtype\":\"Figure\",\"type\":\"Plot\"},\"ticker\":{\"id\":\"1af02471-0ce5-4b3c-93a5-d01308ccb148\",\"type\":\"BasicTicker\"}},\"id\":\"9e61b81f-5340-40f2-bcb3-dc5432556c84\",\"type\":\"LinearAxis\"},{\"attributes\":{\"active_drag\":\"auto\",\"active_inspect\":\"auto\",\"active_scroll\":\"auto\",\"active_tap\":\"auto\",\"tools\":[{\"id\":\"ddd5c8cd-2954-4252-b2a5-190f280f4a20\",\"type\":\"PanTool\"},{\"id\":\"b9d36b77-663e-4927-aaed-bced13463cab\",\"type\":\"WheelZoomTool\"},{\"id\":\"0c69dbed-2f46-4323-bfe3-01a38cf66d85\",\"type\":\"BoxZoomTool\"},{\"id\":\"2c8f1652-5ca2-494d-a923-aa18087c66eb\",\"type\":\"SaveTool\"},{\"id\":\"29b927c9-d6ae-4280-a4d5-f656f831f6f3\",\"type\":\"ResetTool\"},{\"id\":\"ac224347-a61d-4f05-898d-af80feb931ec\",\"type\":\"HelpTool\"}]},\"id\":\"f4a1b19c-6f9f-42e3-bdad-96d2351c0291\",\"type\":\"Toolbar\"},{\"attributes\":{},\"id\":\"2a5ec5b1-ec06-40a8-b3ac-665b0fa45979\",\"type\":\"BasicTicker\"},{\"attributes\":{},\"id\":\"ddd5c8cd-2954-4252-b2a5-190f280f4a20\",\"type\":\"PanTool\"},{\"attributes\":{\"dimension\":1,\"plot\":{\"id\":\"cfa87b3a-9826-4fb9-bb1e-adf84a3c1a55\",\"subtype\":\"Figure\",\"type\":\"Plot\"},\"ticker\":{\"id\":\"1af02471-0ce5-4b3c-93a5-d01308ccb148\",\"type\":\"BasicTicker\"}},\"id\":\"2d953794-e938-4c49-aa2e-73801dc4b7df\",\"type\":\"Grid\"},{\"attributes\":{\"source\":{\"id\":\"322412f8-3aea-4482-85e8-14e9842c4f89\",\"type\":\"ColumnDataSource\"}},\"id\":\"43f54c40-f437-4041-9038-b2201bd866b2\",\"type\":\"CDSView\"},{\"attributes\":{},\"id\":\"ac224347-a61d-4f05-898d-af80feb931ec\",\"type\":\"HelpTool\"},{\"attributes\":{\"callback\":null,\"column_names\":[\"left\",\"right\",\"top\"],\"data\":{\"left\":{\"__ndarray__\":\"gEpJSvePKj9GPKk2AKOdP/zyXj9wiK0/6qO0MbAftj9WzrlDKHu9P2J83ypQa8I/mBHiMwwZxj/OpuQ8yMbJPwQ850WEdM0/neh0JyCR0D84M/Yr/mfSP9N9dzDcPtQ/bsj4NLoV1j8JE3o5mOzXP6Rd+z12w9k/P6h8QlSa2z/a8v1GMnHdP3U9f0sQSN8/CUQAKHeP4D9W6UAq5nrhP6SOgSxVZuI/8TPCLsRR4z8/2QIxMz3kP4x+QzOiKOU/2iOENREU5j8nycQ3gP/mP3VuBTrv6uc/whNGPF7W6D8QuYY+zcHpP11ex0A8reo/qwMIQ6uY6z/4qEhFGoTsP0ZOiUeJb+0/lPPJSfha7j/hmApMZ0bvPxefJSfrGPA/vvFFqKKO8D9kRGYpWgTxPwuXhqoRevE/summK8nv8T9ZPMesgGXyP/+O5y042/I/puEHr+9Q8z9NNCgwp8bzP/SGSLFePPQ/mtloMhay9D9BLImzzSf1P+h+qTSFnfU/j9HJtTwT9j82JOo29Ij2Pw==\",\"dtype\":\"float64\",\"shape\":[50]},\"right\":{\"__ndarray__\":\"RjypNgCjnT/88l4/cIitP+qjtDGwH7Y/Vs65Qyh7vT9ifN8qUGvCP5gR4jMMGcY/zqbkPMjGyT8EPOdFhHTNP53odCcgkdA/ODP2K/5n0j/TfXcw3D7UP27I+DS6FdY/CRN6OZjs1z+kXfs9dsPZPz+ofEJUmts/2vL9RjJx3T91PX9LEEjfPwlEACh3j+A/VulAKuZ64T+kjoEsVWbiP/Ezwi7EUeM/P9kCMTM95D+MfkMzoijlP9ojhDURFOY/J8nEN4D/5j91bgU67+rnP8ITRjxe1ug/ELmGPs3B6T9dXsdAPK3qP6sDCEOrmOs/+KhIRRqE7D9GTolHiW/tP5TzyUn4Wu4/4ZgKTGdG7z8XnyUn6xjwP77xRaiijvA/ZERmKVoE8T8Ll4aqEXrxP7LppivJ7/E/WTzHrIBl8j//juctONvyP6bhB6/vUPM/TTQoMKfG8z/0hkixXjz0P5rZaDIWsvQ/QSyJs80n9T/ofqk0hZ31P4/RybU8E/Y/NiTqNvSI9j/cdgq4q/72Pw==\",\"dtype\":\"float64\",\"shape\":[50]},\"top\":{\"__ndarray__\":\"Fxu3Q5w4JkDtJ9O1b/MXQBxRQlbAOxBAFJpQWenBBECzsbtoKkr1P5P0Yu0hCAFAk/Ri7SEI8T+UihmdP+/vP0oQaKYua+c/ubG7aCpK5T+T9GLtIQjhP7mxu2gqStU/k/Ri7SEI0T8mUw8rJinjP7mxu2gqStU/k/Ri7SEIwT+T9GLtIQjBPwAAAAAAAAAAnfRi7SEIsT8AAAAAAAAAAOtuFOQyjMk/ivRi7SEIwT/DsbtoKkrVP4r0Yu0hCLE/nfRi7SEIsT+K9GLtIQjBP530Yu0hCME/ivRi7SEIsT8AAAAAAAAAAIr0Yu0hCLE/nfRi7SEIsT8AAAAAAAAAAAAAAAAAAAAAnfRi7SEIsT+d9GLtIQixPwAAAAAAAAAAAAAAAAAAAAAAAAAAAAAAAAAAAAAAAAAAivRi7SEIsT8AAAAAAAAAAAAAAAAAAAAAivRi7SEIsT+K9GLtIQixPwAAAAAAAAAAAAAAAAAAAAAAAAAAAAAAAAAAAAAAAAAAivRi7SEIsT+v9GLtIQixPw==\",\"dtype\":\"float64\",\"shape\":[50]}}},\"id\":\"322412f8-3aea-4482-85e8-14e9842c4f89\",\"type\":\"ColumnDataSource\"},{\"attributes\":{\"overlay\":{\"id\":\"a7c1d597-5e3c-4aff-88dc-49ace1de5d9d\",\"type\":\"BoxAnnotation\"}},\"id\":\"0c69dbed-2f46-4323-bfe3-01a38cf66d85\",\"type\":\"BoxZoomTool\"}],\"root_ids\":[\"cfa87b3a-9826-4fb9-bb1e-adf84a3c1a55\"]},\"title\":\"Bokeh Application\",\"version\":\"0.12.13\"}};\n",
       "  var render_items = [{\"docid\":\"06b63ff5-a2fb-49b8-bad4-6d3e66b4c07c\",\"elementid\":\"0c88fc42-52cb-4c48-ba97-577b3abd3479\",\"modelid\":\"cfa87b3a-9826-4fb9-bb1e-adf84a3c1a55\"}];\n",
       "  root.Bokeh.embed.embed_items_notebook(docs_json, render_items);\n",
       "\n",
       "  }\n",
       "  if (root.Bokeh !== undefined) {\n",
       "    embed_document(root);\n",
       "  } else {\n",
       "    var attempts = 0;\n",
       "    var timer = setInterval(function(root) {\n",
       "      if (root.Bokeh !== undefined) {\n",
       "        embed_document(root);\n",
       "        clearInterval(timer);\n",
       "      }\n",
       "      attempts++;\n",
       "      if (attempts > 100) {\n",
       "        console.log(\"Bokeh: ERROR: Unable to run BokehJS code because BokehJS library is missing\")\n",
       "        clearInterval(timer);\n",
       "      }\n",
       "    }, 10, root)\n",
       "  }\n",
       "})(window);"
      ],
      "application/vnd.bokehjs_exec.v0+json": ""
     },
     "metadata": {
      "application/vnd.bokehjs_exec.v0+json": {
       "id": "cfa87b3a-9826-4fb9-bb1e-adf84a3c1a55"
      }
     },
     "output_type": "display_data"
    }
   ],
   "source": [
    "mp = list(map(lambda x:abs(x[1]-x[0]),raw))\n",
    "p1 = figure(plot_width=400, plot_height=400,title = 'Asummetry in 0-distance cases',y_axis_label = \"Distribution\",x_axis_label = \"Difference in connection strength between directions (abs)\")\n",
    "q1,q2 = np.percentile(mp,[0,100])\n",
    "\n",
    "measured = [xx for xx in mp if (xx>q1 and xx<q2)]\n",
    "hist, edges = np.histogram(measured, density=True, bins=50)\n",
    "\n",
    "p1.quad(top=hist, bottom=0, left=edges[:-1], right=edges[1:],fill_color=\"#036564\", line_color=\"#033649\")\n",
    "show(p1)"
   ]
  },
  {
   "cell_type": "markdown",
   "metadata": {},
   "source": [
    "# CASE 3: Good Local Regressors"
   ]
  },
  {
   "cell_type": "code",
   "execution_count": 25,
   "metadata": {},
   "outputs": [],
   "source": [
    "total = 0\n",
    "sym = 0\n",
    "raw = []\n",
    "for w in null:\n",
    "    ind1 = A_dic[w]\n",
    "    ind2 = A_dic[roi_rot(w)]\n",
    "    if (A[ind1]['isSuccess']):\n",
    "        total = total + 1\n",
    "        if (A[ind2]['isSuccess']):\n",
    "            sym = sym + 1\n",
    "            s1 = logit(A[ind1]['weight'])\n",
    "            s2 = logit(A[ind2]['weight'])\n",
    "            raw.append((s1,s2))"
   ]
  },
  {
   "cell_type": "code",
   "execution_count": 26,
   "metadata": {},
   "outputs": [
    {
     "name": "stdout",
     "output_type": "stream",
     "text": [
      "Total good-local regressor connections:5081\n",
      "Total good-local regressor connections (percentage of all connections):0.15769708255741774\n",
      "Total symmetric good-local regressor connections:2944\n",
      "Total symmetric good-local regressor connections (percentage of all null connections):0.5794135012792757\n"
     ]
    }
   ],
   "source": [
    "print('Total good-local regressor connections:'+str(total))\n",
    "print('Total good-local regressor connections (percentage of all connections):'+str(total/32220))\n",
    "print('Total symmetric good-local regressor connections:'+str(sym))\n",
    "print('Total symmetric good-local regressor connections (percentage of all null connections):'+str(sym/total))"
   ]
  },
  {
   "cell_type": "code",
   "execution_count": 200,
   "metadata": {},
   "outputs": [
    {
     "data": {
      "text/html": [
       "\n",
       "<div class=\"bk-root\">\n",
       "    <div class=\"bk-plotdiv\" id=\"614fc7f6-daf1-4036-b5ce-40598604534e\"></div>\n",
       "</div>"
      ]
     },
     "metadata": {},
     "output_type": "display_data"
    },
    {
     "data": {
      "application/javascript": [
       "(function(root) {\n",
       "  function embed_document(root) {\n",
       "    \n",
       "  var docs_json = {\"59c636c4-aa65-43bd-8e12-b32f206bcfb7\":{\"roots\":{\"references\":[{\"attributes\":{},\"id\":\"70fb1650-1e18-4f1c-913a-cd9244df5e55\",\"type\":\"BasicTicker\"},{\"attributes\":{\"dimension\":1,\"plot\":{\"id\":\"22f54d2c-ef94-46e7-a54c-4390e46a3407\",\"subtype\":\"Figure\",\"type\":\"Plot\"},\"ticker\":{\"id\":\"70fb1650-1e18-4f1c-913a-cd9244df5e55\",\"type\":\"BasicTicker\"}},\"id\":\"092961bf-764f-4101-abce-09e0c3c172cc\",\"type\":\"Grid\"},{\"attributes\":{},\"id\":\"a3c66694-5ec7-4749-bb2c-80902e52fc06\",\"type\":\"WheelZoomTool\"},{\"attributes\":{\"data_source\":{\"id\":\"a2dd127b-4dbd-4930-97be-4be9ac66517f\",\"type\":\"ColumnDataSource\"},\"glyph\":{\"id\":\"7defa8cf-3d0f-42df-b769-fcf93ec92320\",\"type\":\"Quad\"},\"hover_glyph\":null,\"muted_glyph\":null,\"nonselection_glyph\":{\"id\":\"1b86cb55-1d3d-4a56-b9f5-86c3a2370ed8\",\"type\":\"Quad\"},\"selection_glyph\":null,\"view\":{\"id\":\"df7c777a-30fb-4903-a7d2-37d22fc31416\",\"type\":\"CDSView\"}},\"id\":\"9144bacf-7f6a-4b6a-8199-e688d8c04b97\",\"type\":\"GlyphRenderer\"},{\"attributes\":{\"axis_label\":\"Difference in connection strength between directions (abs)\",\"formatter\":{\"id\":\"3ca6e2ec-6a94-4da4-92e7-ebd2524fb456\",\"type\":\"BasicTickFormatter\"},\"plot\":{\"id\":\"22f54d2c-ef94-46e7-a54c-4390e46a3407\",\"subtype\":\"Figure\",\"type\":\"Plot\"},\"ticker\":{\"id\":\"737ac91a-4461-4c9e-8642-005e671f49af\",\"type\":\"BasicTicker\"}},\"id\":\"624bff8c-63e7-46b7-9704-1ded151537b8\",\"type\":\"LinearAxis\"},{\"attributes\":{\"overlay\":{\"id\":\"2e97d296-da38-47af-9497-fca2f351ae08\",\"type\":\"BoxAnnotation\"}},\"id\":\"4ad1e536-4cf0-4b29-b92c-eb2f508253bf\",\"type\":\"BoxZoomTool\"},{\"attributes\":{\"bottom\":{\"value\":0},\"fill_color\":{\"value\":\"#036564\"},\"left\":{\"field\":\"left\"},\"line_color\":{\"value\":\"#033649\"},\"right\":{\"field\":\"right\"},\"top\":{\"field\":\"top\"}},\"id\":\"7defa8cf-3d0f-42df-b769-fcf93ec92320\",\"type\":\"Quad\"},{\"attributes\":{},\"id\":\"2075dda2-69a3-44c1-b7d0-b9fbc6d3aba6\",\"type\":\"PanTool\"},{\"attributes\":{\"axis_label\":\"Distribution\",\"formatter\":{\"id\":\"1676bd79-80ee-4603-b86a-4f59c52505e8\",\"type\":\"BasicTickFormatter\"},\"plot\":{\"id\":\"22f54d2c-ef94-46e7-a54c-4390e46a3407\",\"subtype\":\"Figure\",\"type\":\"Plot\"},\"ticker\":{\"id\":\"70fb1650-1e18-4f1c-913a-cd9244df5e55\",\"type\":\"BasicTicker\"}},\"id\":\"9ae43df4-7197-4499-825b-08b324b9362e\",\"type\":\"LinearAxis\"},{\"attributes\":{},\"id\":\"3ca6e2ec-6a94-4da4-92e7-ebd2524fb456\",\"type\":\"BasicTickFormatter\"},{\"attributes\":{},\"id\":\"39ab9b18-e5c0-45a0-96bd-a7bb078ac02d\",\"type\":\"HelpTool\"},{\"attributes\":{\"callback\":null},\"id\":\"7a2773f2-7ac7-4ead-8f04-4fb31b3d541c\",\"type\":\"DataRange1d\"},{\"attributes\":{\"active_drag\":\"auto\",\"active_inspect\":\"auto\",\"active_scroll\":\"auto\",\"active_tap\":\"auto\",\"tools\":[{\"id\":\"2075dda2-69a3-44c1-b7d0-b9fbc6d3aba6\",\"type\":\"PanTool\"},{\"id\":\"a3c66694-5ec7-4749-bb2c-80902e52fc06\",\"type\":\"WheelZoomTool\"},{\"id\":\"4ad1e536-4cf0-4b29-b92c-eb2f508253bf\",\"type\":\"BoxZoomTool\"},{\"id\":\"a6d39714-2c30-4f31-9880-993860ce569d\",\"type\":\"SaveTool\"},{\"id\":\"a0d0a6d0-90c5-41ac-91d8-10b7f7dccb25\",\"type\":\"ResetTool\"},{\"id\":\"39ab9b18-e5c0-45a0-96bd-a7bb078ac02d\",\"type\":\"HelpTool\"}]},\"id\":\"942d3cef-e77d-4397-97b5-fa1fe65a87c7\",\"type\":\"Toolbar\"},{\"attributes\":{},\"id\":\"a6d39714-2c30-4f31-9880-993860ce569d\",\"type\":\"SaveTool\"},{\"attributes\":{\"callback\":null,\"column_names\":[\"left\",\"right\",\"top\"],\"data\":{\"left\":{\"__ndarray__\":\"gEpJSvePKj+4BaJ4GZ2yP2Zzz3p1lsI/7+NNOV7eyz88KuZ7I5PSP4FiJdsXN9c/xZpkOgzb2z+G6dFMgD/gP6iFcXx6keI/yiERrHTj5D/tvbDbbjXnPw9aUAtph+k/MfbvOmPZ6z9Uko9qXSvuPzuXF82rPvA/TGXn5Khn8T9dM7f8pZDyP24BhxSjufM/f89WLKDi9D+RnSZEnQv2P6Jr9luaNPc/sznGc5dd+D/EB5aLlIb5P9XVZaORr/o/5qM1u47Y+z/4cQXTiwH9PwlA1eqIKv4/Gg6lAoZT/z8WbjqNQT4AQB5VIhnA0gBAJzwKpT5nAUAvI/IwvfsBQDgK2rw7kAJAQfHBSLokA0BJ2KnUOLkDQFK/kWC3TQRAWqZ57DXiBEBjjWF4tHYFQGx0SQQzCwZAdFsxkLGfBkB9QhkcMDQHQIUpAaiuyAdAjhDpMy1dCECX99C/q/EIQJ/euEsqhglAqMWg16gaCkCwrIhjJ68KQLmTcO+lQwtAwXpYeyTYC0DKYUAHo2wMQA==\",\"dtype\":\"float64\",\"shape\":[50]},\"right\":{\"__ndarray__\":\"uAWieBmdsj9mc896dZbCP+/jTTle3ss/PCrmeyOT0j+BYiXbFzfXP8WaZDoM29s/hunRTIA/4D+ohXF8epHiP8ohEax04+Q/7b2w22415z8PWlALaYfpPzH27zpj2es/VJKPal0r7j87lxfNqz7wP0xl5+SoZ/E/XTO3/KWQ8j9uAYcUo7nzP3/PViyg4vQ/kZ0mRJ0L9j+ia/ZbmjT3P7M5xnOXXfg/xAeWi5SG+T/V1WWjka/6P+ajNbuO2Ps/+HEF04sB/T8JQNXqiCr+PxoOpQKGU/8/Fm46jUE+AEAeVSIZwNIAQCc8CqU+ZwFALyPyML37AUA4Ctq8O5ACQEHxwUi6JANASdip1Di5A0BSv5Fgt00EQFqmeew14gRAY41heLR2BUBsdEkEMwsGQHRbMZCxnwZAfUIZHDA0B0CFKQGorsgHQI4Q6TMtXQhAl/fQv6vxCECf3rhLKoYJQKjFoNeoGgpAsKyIYyevCkC5k3DvpUMLQMF6WHsk2AtAymFAB6NsDEDSSCiTIQENQA==\",\"dtype\":\"float64\",\"shape\":[50]},\"top\":{\"__ndarray__\":\"QPYow9g+BEBTw43kX0TzP1HvQdT4tO4/zMiL2Emy6z98aERjlCvkP+DTaWjCjuA//Hgg5/Z14T8fE/nVsoDdP+DTaWjCjuA/LIEd1dUa3j8TxozeVHvXP4nLitI+6d8/IzSx3XcV2D9jEPrbvUnZP3MxsuOC3tM/OYEd1dUazj/tCvzn09vQPyPnROYZENI/YTGy44Le0z8uNLHddxXIP29dZtMbT88/w3sf4eusxT/Dex/h66zFP/lXaN8x4cY/guxC2gN+uj+Nn9bipXjEPwSl1NaP5qw/66TU1o/mvD8dpdTWj+a8P7B7H+HrrLU/+wr859PbsD/rpNTWj+acP94K/OfT27A/+wr859PbsD/rpNTWj+asP2jDjeRfRJM/GTSx3XcVqD8ZNLHddxWoP2jDjeRfRJM/SMON5F9Egz9ow43kX0STPwAAAAAAAAAAAAAAAAAAAABow43kX0SDPwAAAAAAAAAAaMON5F9Egz8AAAAAAAAAAAAAAAAAAAAAAAAAAAAAAABow43kX0SDPw==\",\"dtype\":\"float64\",\"shape\":[50]}}},\"id\":\"a2dd127b-4dbd-4930-97be-4be9ac66517f\",\"type\":\"ColumnDataSource\"},{\"attributes\":{},\"id\":\"737ac91a-4461-4c9e-8642-005e671f49af\",\"type\":\"BasicTicker\"},{\"attributes\":{},\"id\":\"9cc37e0f-0c7e-40c7-accb-851a84887cc8\",\"type\":\"LinearScale\"},{\"attributes\":{\"callback\":null},\"id\":\"44f59363-cd8d-4be7-b570-3b6478e45131\",\"type\":\"DataRange1d\"},{\"attributes\":{},\"id\":\"ba603ad1-3ecc-44d3-b6e7-75cfdc6408d0\",\"type\":\"LinearScale\"},{\"attributes\":{\"plot\":{\"id\":\"22f54d2c-ef94-46e7-a54c-4390e46a3407\",\"subtype\":\"Figure\",\"type\":\"Plot\"},\"ticker\":{\"id\":\"737ac91a-4461-4c9e-8642-005e671f49af\",\"type\":\"BasicTicker\"}},\"id\":\"5df57533-743e-46c0-a3ca-ef22ecb16eb2\",\"type\":\"Grid\"},{\"attributes\":{\"below\":[{\"id\":\"624bff8c-63e7-46b7-9704-1ded151537b8\",\"type\":\"LinearAxis\"}],\"left\":[{\"id\":\"9ae43df4-7197-4499-825b-08b324b9362e\",\"type\":\"LinearAxis\"}],\"plot_height\":400,\"plot_width\":400,\"renderers\":[{\"id\":\"624bff8c-63e7-46b7-9704-1ded151537b8\",\"type\":\"LinearAxis\"},{\"id\":\"5df57533-743e-46c0-a3ca-ef22ecb16eb2\",\"type\":\"Grid\"},{\"id\":\"9ae43df4-7197-4499-825b-08b324b9362e\",\"type\":\"LinearAxis\"},{\"id\":\"092961bf-764f-4101-abce-09e0c3c172cc\",\"type\":\"Grid\"},{\"id\":\"2e97d296-da38-47af-9497-fca2f351ae08\",\"type\":\"BoxAnnotation\"},{\"id\":\"9144bacf-7f6a-4b6a-8199-e688d8c04b97\",\"type\":\"GlyphRenderer\"}],\"title\":{\"id\":\"ae391732-a43b-458d-80e4-ad89fc976f20\",\"type\":\"Title\"},\"toolbar\":{\"id\":\"942d3cef-e77d-4397-97b5-fa1fe65a87c7\",\"type\":\"Toolbar\"},\"x_range\":{\"id\":\"44f59363-cd8d-4be7-b570-3b6478e45131\",\"type\":\"DataRange1d\"},\"x_scale\":{\"id\":\"ba603ad1-3ecc-44d3-b6e7-75cfdc6408d0\",\"type\":\"LinearScale\"},\"y_range\":{\"id\":\"7a2773f2-7ac7-4ead-8f04-4fb31b3d541c\",\"type\":\"DataRange1d\"},\"y_scale\":{\"id\":\"9cc37e0f-0c7e-40c7-accb-851a84887cc8\",\"type\":\"LinearScale\"}},\"id\":\"22f54d2c-ef94-46e7-a54c-4390e46a3407\",\"subtype\":\"Figure\",\"type\":\"Plot\"},{\"attributes\":{},\"id\":\"a0d0a6d0-90c5-41ac-91d8-10b7f7dccb25\",\"type\":\"ResetTool\"},{\"attributes\":{\"plot\":null,\"text\":\"Asummetry in 0-distance cases\"},\"id\":\"ae391732-a43b-458d-80e4-ad89fc976f20\",\"type\":\"Title\"},{\"attributes\":{\"source\":{\"id\":\"a2dd127b-4dbd-4930-97be-4be9ac66517f\",\"type\":\"ColumnDataSource\"}},\"id\":\"df7c777a-30fb-4903-a7d2-37d22fc31416\",\"type\":\"CDSView\"},{\"attributes\":{},\"id\":\"1676bd79-80ee-4603-b86a-4f59c52505e8\",\"type\":\"BasicTickFormatter\"},{\"attributes\":{\"bottom_units\":\"screen\",\"fill_alpha\":{\"value\":0.5},\"fill_color\":{\"value\":\"lightgrey\"},\"left_units\":\"screen\",\"level\":\"overlay\",\"line_alpha\":{\"value\":1.0},\"line_color\":{\"value\":\"black\"},\"line_dash\":[4,4],\"line_width\":{\"value\":2},\"plot\":null,\"render_mode\":\"css\",\"right_units\":\"screen\",\"top_units\":\"screen\"},\"id\":\"2e97d296-da38-47af-9497-fca2f351ae08\",\"type\":\"BoxAnnotation\"},{\"attributes\":{\"bottom\":{\"value\":0},\"fill_alpha\":{\"value\":0.1},\"fill_color\":{\"value\":\"#1f77b4\"},\"left\":{\"field\":\"left\"},\"line_alpha\":{\"value\":0.1},\"line_color\":{\"value\":\"#1f77b4\"},\"right\":{\"field\":\"right\"},\"top\":{\"field\":\"top\"}},\"id\":\"1b86cb55-1d3d-4a56-b9f5-86c3a2370ed8\",\"type\":\"Quad\"}],\"root_ids\":[\"22f54d2c-ef94-46e7-a54c-4390e46a3407\"]},\"title\":\"Bokeh Application\",\"version\":\"0.12.13\"}};\n",
       "  var render_items = [{\"docid\":\"59c636c4-aa65-43bd-8e12-b32f206bcfb7\",\"elementid\":\"614fc7f6-daf1-4036-b5ce-40598604534e\",\"modelid\":\"22f54d2c-ef94-46e7-a54c-4390e46a3407\"}];\n",
       "  root.Bokeh.embed.embed_items_notebook(docs_json, render_items);\n",
       "\n",
       "  }\n",
       "  if (root.Bokeh !== undefined) {\n",
       "    embed_document(root);\n",
       "  } else {\n",
       "    var attempts = 0;\n",
       "    var timer = setInterval(function(root) {\n",
       "      if (root.Bokeh !== undefined) {\n",
       "        embed_document(root);\n",
       "        clearInterval(timer);\n",
       "      }\n",
       "      attempts++;\n",
       "      if (attempts > 100) {\n",
       "        console.log(\"Bokeh: ERROR: Unable to run BokehJS code because BokehJS library is missing\")\n",
       "        clearInterval(timer);\n",
       "      }\n",
       "    }, 10, root)\n",
       "  }\n",
       "})(window);"
      ],
      "application/vnd.bokehjs_exec.v0+json": ""
     },
     "metadata": {
      "application/vnd.bokehjs_exec.v0+json": {
       "id": "22f54d2c-ef94-46e7-a54c-4390e46a3407"
      }
     },
     "output_type": "display_data"
    }
   ],
   "source": [
    "mp = list(map(lambda x:abs(x[1]-x[0]),raw))\n",
    "p1 = figure(plot_width=400, plot_height=400,title = 'Asummetry in 0-distance cases',y_axis_label = \"Distribution\",x_axis_label = \"Difference in connection strength between directions (abs)\")\n",
    "q1,q2 = np.percentile(mp,[0,100])\n",
    "\n",
    "measured = [xx for xx in mp if (xx>q1 and xx<q2)]\n",
    "hist, edges = np.histogram(measured, density=True, bins=50)\n",
    "\n",
    "p1.quad(top=hist, bottom=0, left=edges[:-1], right=edges[1:],fill_color=\"#036564\", line_color=\"#033649\")\n",
    "show(p1)"
   ]
  },
  {
   "cell_type": "markdown",
   "metadata": {},
   "source": [
    "# CASE 4: BAD LOCAL REGRESSOR"
   ]
  },
  {
   "cell_type": "code",
   "execution_count": 27,
   "metadata": {},
   "outputs": [],
   "source": [
    "total = 0\n",
    "sym = 0\n",
    "raw = []\n",
    "for w in null:\n",
    "    ind1 = A_dic[w]\n",
    "    ind2 = A_dic[roi_rot(w)]\n",
    "    if (not A[ind1]['isSuccess']):\n",
    "        total = total + 1\n",
    "        if (not A[ind2]['isSuccess']):\n",
    "            sym = sym + 1\n",
    "            s1 = logit(A[ind1]['weight'])\n",
    "            s2 = logit(A[ind2]['weight'])\n",
    "            raw.append((s1,s2))"
   ]
  },
  {
   "cell_type": "code",
   "execution_count": 28,
   "metadata": {},
   "outputs": [
    {
     "name": "stdout",
     "output_type": "stream",
     "text": [
      "Total bad-local regressor connections:27139\n",
      "Total bad-local regressor connections (percentage of all connections):0.8423029174425822\n",
      "Total symmetric bad-local regressor connections:25002\n",
      "Total symmetric bad-local regressor connections (percentage of all null connections):0.9212572312907624\n"
     ]
    }
   ],
   "source": [
    "print('Total bad-local regressor connections:'+str(total))\n",
    "print('Total bad-local regressor connections (percentage of all connections):'+str(total/32220))\n",
    "print('Total symmetric bad-local regressor connections:'+str(sym))\n",
    "print('Total symmetric bad-local regressor connections (percentage of all null connections):'+str(sym/total))"
   ]
  },
  {
   "cell_type": "code",
   "execution_count": 29,
   "metadata": {},
   "outputs": [
    {
     "data": {
      "text/html": [
       "\n",
       "<div class=\"bk-root\">\n",
       "    <div class=\"bk-plotdiv\" id=\"11238c24-2b73-486f-9bef-48a4ec2f4770\"></div>\n",
       "</div>"
      ]
     },
     "metadata": {},
     "output_type": "display_data"
    },
    {
     "data": {
      "application/javascript": [
       "(function(root) {\n",
       "  function embed_document(root) {\n",
       "    \n",
       "  var docs_json = {\"017d4804-bb70-482b-83bc-0398c18e3288\":{\"roots\":{\"references\":[{\"attributes\":{\"bottom_units\":\"screen\",\"fill_alpha\":{\"value\":0.5},\"fill_color\":{\"value\":\"lightgrey\"},\"left_units\":\"screen\",\"level\":\"overlay\",\"line_alpha\":{\"value\":1.0},\"line_color\":{\"value\":\"black\"},\"line_dash\":[4,4],\"line_width\":{\"value\":2},\"plot\":null,\"render_mode\":\"css\",\"right_units\":\"screen\",\"top_units\":\"screen\"},\"id\":\"10e86af7-e249-43b6-b86b-07ee5cc2c563\",\"type\":\"BoxAnnotation\"},{\"attributes\":{\"active_drag\":\"auto\",\"active_inspect\":\"auto\",\"active_scroll\":\"auto\",\"active_tap\":\"auto\",\"tools\":[{\"id\":\"2cdf72c0-6709-406b-b06f-4161ecce842d\",\"type\":\"PanTool\"},{\"id\":\"19306434-d931-4fd2-8fea-ec7dcfec3d31\",\"type\":\"WheelZoomTool\"},{\"id\":\"88f34927-1b98-4961-bd9c-f0962f34238e\",\"type\":\"BoxZoomTool\"},{\"id\":\"1fbe16f2-343e-4e20-bd3c-86fa828c5cb5\",\"type\":\"SaveTool\"},{\"id\":\"5d4975cb-7815-478b-a928-49fa179dfd50\",\"type\":\"ResetTool\"},{\"id\":\"7ea9d05f-9f7d-44ea-afa9-0e7d5095bce1\",\"type\":\"HelpTool\"}]},\"id\":\"9505cf62-9a7f-475c-8db3-e881382c121e\",\"type\":\"Toolbar\"},{\"attributes\":{},\"id\":\"a64b65f6-9306-40e3-a786-260be2cb408a\",\"type\":\"LinearScale\"},{\"attributes\":{},\"id\":\"3adb0ef7-d716-4f71-a414-c1771d220798\",\"type\":\"BasicTicker\"},{\"attributes\":{},\"id\":\"e10ad3bb-e4ba-457f-abd8-b269628542e2\",\"type\":\"BasicTickFormatter\"},{\"attributes\":{},\"id\":\"2cdf72c0-6709-406b-b06f-4161ecce842d\",\"type\":\"PanTool\"},{\"attributes\":{\"axis_label\":\"Difference in connection strength between directions (abs)\",\"formatter\":{\"id\":\"e10ad3bb-e4ba-457f-abd8-b269628542e2\",\"type\":\"BasicTickFormatter\"},\"plot\":{\"id\":\"d2fc8715-e983-4742-bdcb-c87e54ba014a\",\"subtype\":\"Figure\",\"type\":\"Plot\"},\"ticker\":{\"id\":\"ea3a8007-8819-4f09-9968-3ee54aaba9d5\",\"type\":\"BasicTicker\"}},\"id\":\"9b5cf677-bf79-4ab0-b0d7-e79d979f22d4\",\"type\":\"LinearAxis\"},{\"attributes\":{\"data_source\":{\"id\":\"67825cc3-dcda-44ef-b140-149ce8ec107d\",\"type\":\"ColumnDataSource\"},\"glyph\":{\"id\":\"45494502-7675-4735-ba61-110c8cba528f\",\"type\":\"Quad\"},\"hover_glyph\":null,\"muted_glyph\":null,\"nonselection_glyph\":{\"id\":\"8f1c9e37-6255-4fb7-86d0-384e7fbf92f5\",\"type\":\"Quad\"},\"selection_glyph\":null,\"view\":{\"id\":\"c2ad545a-e1d4-437e-a969-94a53c00bb6d\",\"type\":\"CDSView\"}},\"id\":\"af9f80ab-c548-49c4-aab9-624a364c91a9\",\"type\":\"GlyphRenderer\"},{\"attributes\":{},\"id\":\"ea3a8007-8819-4f09-9968-3ee54aaba9d5\",\"type\":\"BasicTicker\"},{\"attributes\":{},\"id\":\"5d4975cb-7815-478b-a928-49fa179dfd50\",\"type\":\"ResetTool\"},{\"attributes\":{\"below\":[{\"id\":\"9b5cf677-bf79-4ab0-b0d7-e79d979f22d4\",\"type\":\"LinearAxis\"}],\"left\":[{\"id\":\"d0cef18d-d5b7-49fe-84d8-85355e1d3f7c\",\"type\":\"LinearAxis\"}],\"plot_height\":400,\"plot_width\":400,\"renderers\":[{\"id\":\"9b5cf677-bf79-4ab0-b0d7-e79d979f22d4\",\"type\":\"LinearAxis\"},{\"id\":\"eb3c782e-f0bb-4945-a8b8-07c7dc362d6b\",\"type\":\"Grid\"},{\"id\":\"d0cef18d-d5b7-49fe-84d8-85355e1d3f7c\",\"type\":\"LinearAxis\"},{\"id\":\"c94b44bb-fd1f-40b2-b1d5-7fb49588e271\",\"type\":\"Grid\"},{\"id\":\"10e86af7-e249-43b6-b86b-07ee5cc2c563\",\"type\":\"BoxAnnotation\"},{\"id\":\"af9f80ab-c548-49c4-aab9-624a364c91a9\",\"type\":\"GlyphRenderer\"}],\"title\":{\"id\":\"b848f017-f3f3-4f3d-a5c3-903b6d9d80f2\",\"type\":\"Title\"},\"toolbar\":{\"id\":\"9505cf62-9a7f-475c-8db3-e881382c121e\",\"type\":\"Toolbar\"},\"x_range\":{\"id\":\"f309641e-f07c-49b7-9663-198c69a7e4a3\",\"type\":\"DataRange1d\"},\"x_scale\":{\"id\":\"a64b65f6-9306-40e3-a786-260be2cb408a\",\"type\":\"LinearScale\"},\"y_range\":{\"id\":\"4621c144-7ce5-4632-9240-1cb4ad8e774d\",\"type\":\"DataRange1d\"},\"y_scale\":{\"id\":\"4b494d3e-1f82-4e36-a8a9-98cfea640c31\",\"type\":\"LinearScale\"}},\"id\":\"d2fc8715-e983-4742-bdcb-c87e54ba014a\",\"subtype\":\"Figure\",\"type\":\"Plot\"},{\"attributes\":{},\"id\":\"7ea9d05f-9f7d-44ea-afa9-0e7d5095bce1\",\"type\":\"HelpTool\"},{\"attributes\":{\"bottom\":{\"value\":0},\"fill_color\":{\"value\":\"#036564\"},\"left\":{\"field\":\"left\"},\"line_color\":{\"value\":\"#033649\"},\"right\":{\"field\":\"right\"},\"top\":{\"field\":\"top\"}},\"id\":\"45494502-7675-4735-ba61-110c8cba528f\",\"type\":\"Quad\"},{\"attributes\":{},\"id\":\"1fbe16f2-343e-4e20-bd3c-86fa828c5cb5\",\"type\":\"SaveTool\"},{\"attributes\":{\"callback\":null},\"id\":\"f309641e-f07c-49b7-9663-198c69a7e4a3\",\"type\":\"DataRange1d\"},{\"attributes\":{\"plot\":null,\"text\":\"Asymmetry in bad local regressor cases\"},\"id\":\"b848f017-f3f3-4f3d-a5c3-903b6d9d80f2\",\"type\":\"Title\"},{\"attributes\":{\"bottom\":{\"value\":0},\"fill_alpha\":{\"value\":0.1},\"fill_color\":{\"value\":\"#1f77b4\"},\"left\":{\"field\":\"left\"},\"line_alpha\":{\"value\":0.1},\"line_color\":{\"value\":\"#1f77b4\"},\"right\":{\"field\":\"right\"},\"top\":{\"field\":\"top\"}},\"id\":\"8f1c9e37-6255-4fb7-86d0-384e7fbf92f5\",\"type\":\"Quad\"},{\"attributes\":{\"callback\":null,\"column_names\":[\"left\",\"right\",\"top\"],\"data\":{\"left\":{\"__ndarray__\":\"zvILZDT7Vj8LkjU5+7O8PyZ6bdAEhsw/oxUgAgZZ1T8zbgmcCW/cP2Fj+ZqGwuE/qQ/uZ4hN5T/xu+I0itjoPzlo1wGMY+w/gRTMzo3u7z9lYODNx7zxP4m2WrRIgvM/rQzVmslH9T/RYk+BSg33P/W4yWfL0vg/GQ9ETkyY+j89Zb40zV38P2G7OBtOI/4/hRGzAc/o/z/Usxb0J9cAQObeU2fouQFA+AmR2qicAkAKNc5NaX8DQBxgC8EpYgRALotINOpEBUBAtoWnqicGQFLhwhprCgdAZAwAjivtB0B2Nz0B7M8IQIhienSssglAmo2352yVCkCsuPRaLXgLQL7jMc7tWgxA0A5vQa49DUDiOay0biAOQPRk6ScvAw9ABpAmm+/lD0CM3TEHWGQQQBVz0EC41RBAnghvehhHEUAnng20eLgRQLAzrO3YKRJAOclKJzmbEkDCXulgmQwTQEv0h5r5fRNA1Ikm1FnvE0BdH8UNumAUQOa0Y0ca0hRAb0oCgXpDFUD436C62rQVQA==\",\"dtype\":\"float64\",\"shape\":[50]},\"right\":{\"__ndarray__\":\"C5I1OfuzvD8mem3QBIbMP6MVIAIGWdU/M24JnAlv3D9hY/mahsLhP6kP7meITeU/8bviNIrY6D85aNcBjGPsP4EUzM6N7u8/ZWDgzce88T+Jtlq0SILzP60M1ZrJR/U/0WJPgUoN9z/1uMlny9L4PxkPRE5MmPo/PWW+NM1d/D9huzgbTiP+P4URswHP6P8/1LMW9CfXAEDm3lNn6LkBQPgJkdqonAJACjXOTWl/A0AcYAvBKWIEQC6LSDTqRAVAQLaFp6onBkBS4cIaawoHQGQMAI4r7QdAdjc9AezPCECIYnp0rLIJQJqNt+dslQpArLj0Wi14C0C+4zHO7VoMQNAOb0GuPQ1A4jmstG4gDkD0ZOknLwMPQAaQJpvv5Q9AjN0xB1hkEEAVc9BAuNUQQJ4Ib3oYRxFAJ54NtHi4EUCwM6zt2CkSQDnJSic5mxJAwl7pYJkME0BL9Iea+X0TQNSJJtRZ7xNAXR/FDbpgFEDmtGNHGtIUQG9KAoF6QxVA+N+gutq0FUCBdT/0OiYWQA==\",\"dtype\":\"float64\",\"shape\":[50]},\"top\":{\"__ndarray__\":\"NCSIetLRvT9kGUJ1K7vPP5qsQnot09o/8dw3Vr/I4z9457efCG/TPzKnn/fZx8s/Y5xZ8jKx/T+VkRPti5rPP7HrQjPluNg/yGfZgsRx7z8L6EMXxE/AP0Ty/aSvhdE/9ahDXgxq4j9SeIjGHATLP4FzcbuE2dg/C+hDF8RPwD+GjqBIJhLUP/MrW9sTYNA/HtzlIqZ3yD8ts/3r95/DPzzd/REdOcI/NaFw/crbvz9zxlkYWEq8P3PGWRhYSrw/a9jmBoUOsD/OP0N/L+u1P1T1cEkVDq0/a9jmBoUOsD/Nwlr8NuGjP09+t8Ar8KY/kJ1x4alylz+UFCtqk5CdPw9f/Z+tbZY/lBQrapOQnT+MJrhYwFSRPxJZzqWegYo/ENzlIqZ3eD8Q3OUipneIPw7iFB21Y3Q/ENzlIqZ3aD8L6EMXxE+APw7iFB21Y3Q/C+hDF8RPUD8L6EMXxE9QPwvoQxfET2A/C+hDF8RPYD8L6EMXxE9QPwvoQxfET2A/AAAAAAAAAAAL6EMXxE9QPw==\",\"dtype\":\"float64\",\"shape\":[50]}}},\"id\":\"67825cc3-dcda-44ef-b140-149ce8ec107d\",\"type\":\"ColumnDataSource\"},{\"attributes\":{\"plot\":{\"id\":\"d2fc8715-e983-4742-bdcb-c87e54ba014a\",\"subtype\":\"Figure\",\"type\":\"Plot\"},\"ticker\":{\"id\":\"ea3a8007-8819-4f09-9968-3ee54aaba9d5\",\"type\":\"BasicTicker\"}},\"id\":\"eb3c782e-f0bb-4945-a8b8-07c7dc362d6b\",\"type\":\"Grid\"},{\"attributes\":{\"axis_label\":\"Distribution\",\"formatter\":{\"id\":\"245a3ae7-fff3-496e-9617-9b8ca12e9bda\",\"type\":\"BasicTickFormatter\"},\"plot\":{\"id\":\"d2fc8715-e983-4742-bdcb-c87e54ba014a\",\"subtype\":\"Figure\",\"type\":\"Plot\"},\"ticker\":{\"id\":\"3adb0ef7-d716-4f71-a414-c1771d220798\",\"type\":\"BasicTicker\"}},\"id\":\"d0cef18d-d5b7-49fe-84d8-85355e1d3f7c\",\"type\":\"LinearAxis\"},{\"attributes\":{},\"id\":\"4b494d3e-1f82-4e36-a8a9-98cfea640c31\",\"type\":\"LinearScale\"},{\"attributes\":{\"overlay\":{\"id\":\"10e86af7-e249-43b6-b86b-07ee5cc2c563\",\"type\":\"BoxAnnotation\"}},\"id\":\"88f34927-1b98-4961-bd9c-f0962f34238e\",\"type\":\"BoxZoomTool\"},{\"attributes\":{},\"id\":\"245a3ae7-fff3-496e-9617-9b8ca12e9bda\",\"type\":\"BasicTickFormatter\"},{\"attributes\":{\"dimension\":1,\"plot\":{\"id\":\"d2fc8715-e983-4742-bdcb-c87e54ba014a\",\"subtype\":\"Figure\",\"type\":\"Plot\"},\"ticker\":{\"id\":\"3adb0ef7-d716-4f71-a414-c1771d220798\",\"type\":\"BasicTicker\"}},\"id\":\"c94b44bb-fd1f-40b2-b1d5-7fb49588e271\",\"type\":\"Grid\"},{\"attributes\":{},\"id\":\"19306434-d931-4fd2-8fea-ec7dcfec3d31\",\"type\":\"WheelZoomTool\"},{\"attributes\":{\"callback\":null},\"id\":\"4621c144-7ce5-4632-9240-1cb4ad8e774d\",\"type\":\"DataRange1d\"},{\"attributes\":{\"source\":{\"id\":\"67825cc3-dcda-44ef-b140-149ce8ec107d\",\"type\":\"ColumnDataSource\"}},\"id\":\"c2ad545a-e1d4-437e-a969-94a53c00bb6d\",\"type\":\"CDSView\"}],\"root_ids\":[\"d2fc8715-e983-4742-bdcb-c87e54ba014a\"]},\"title\":\"Bokeh Application\",\"version\":\"0.12.13\"}};\n",
       "  var render_items = [{\"docid\":\"017d4804-bb70-482b-83bc-0398c18e3288\",\"elementid\":\"11238c24-2b73-486f-9bef-48a4ec2f4770\",\"modelid\":\"d2fc8715-e983-4742-bdcb-c87e54ba014a\"}];\n",
       "  root.Bokeh.embed.embed_items_notebook(docs_json, render_items);\n",
       "\n",
       "  }\n",
       "  if (root.Bokeh !== undefined) {\n",
       "    embed_document(root);\n",
       "  } else {\n",
       "    var attempts = 0;\n",
       "    var timer = setInterval(function(root) {\n",
       "      if (root.Bokeh !== undefined) {\n",
       "        embed_document(root);\n",
       "        clearInterval(timer);\n",
       "      }\n",
       "      attempts++;\n",
       "      if (attempts > 100) {\n",
       "        console.log(\"Bokeh: ERROR: Unable to run BokehJS code because BokehJS library is missing\")\n",
       "        clearInterval(timer);\n",
       "      }\n",
       "    }, 10, root)\n",
       "  }\n",
       "})(window);"
      ],
      "application/vnd.bokehjs_exec.v0+json": ""
     },
     "metadata": {
      "application/vnd.bokehjs_exec.v0+json": {
       "id": "d2fc8715-e983-4742-bdcb-c87e54ba014a"
      }
     },
     "output_type": "display_data"
    }
   ],
   "source": [
    "mp = list(map(lambda x:abs(x[1]-x[0]),raw))\n",
    "p1 = figure(plot_width=400, plot_height=400,title = 'Asymmetry in bad local regressor cases',y_axis_label = \"Distribution\",x_axis_label = \"Difference in connection strength between directions (abs)\")\n",
    "q1,q2 = np.percentile(mp,[0,100])\n",
    "\n",
    "measured = [xx for xx in mp if (xx>q1 and xx<q2)]\n",
    "hist, edges = np.histogram(measured, density=True, bins=50)\n",
    "\n",
    "p1.quad(top=hist, bottom=0, left=edges[:-1], right=edges[1:],fill_color=\"#036564\", line_color=\"#033649\")\n",
    "show(p1)"
   ]
  }
 ],
 "metadata": {
  "kernelspec": {
   "display_name": "Python 3",
   "language": "python",
   "name": "python3"
  },
  "language_info": {
   "codemirror_mode": {
    "name": "ipython",
    "version": 3
   },
   "file_extension": ".py",
   "mimetype": "text/x-python",
   "name": "python",
   "nbconvert_exporter": "python",
   "pygments_lexer": "ipython3",
   "version": "3.6.4"
  }
 },
 "nbformat": 4,
 "nbformat_minor": 2
}
